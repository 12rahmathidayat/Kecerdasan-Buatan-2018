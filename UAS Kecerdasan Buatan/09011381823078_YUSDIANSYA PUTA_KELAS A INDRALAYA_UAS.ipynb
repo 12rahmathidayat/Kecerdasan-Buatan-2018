{
 "cells": [
  {
   "cell_type": "markdown",
   "metadata": {},
   "source": [
    "<p>Nama  : Yusdiansya Putra</p>\n",
    "<p>NIM   : 09011381823078</p>\n",
    "<p>Kelas : SK5A</p>\n",
    "\n",
    "### Ujian Akhir Semester Kecerdesan Buatan\n",
    "<p>Kasus : Prediksi risiko kanker payudara (Breast Cancer)</p>\n",
    "<p>Metode : Support Vector Machine</p>\n",
    "\n",
    "\n",
    "### Pre-Processing the Data\n",
    "\n",
    "Data processing adalah langkah penting untuk masalah analisis. Seringkali merupakan ide yang sangat baik untuk menyiapkan data dalam mengekspos struktur masalah ke algoritme pembelajaran mesin dengan melibatkan sejumlah aktivitas seperti:\n",
    "* Menetapkan nilai numerik ke data kategori; dimana nilai numerik adalah tipe data yang digunakan pada variabel atau konstanta untuk menyimpan nilai dalam bentuk bilangan atau angka baik angka atau bilangan tersebut adalah bilangan bulat atau bilangan real. Data kategori adalah data dimana variabel-variabelnya dikelompokkan menjadi beberapa kelompok.\n",
    "* Menangani nilai yang hilang (Missing Data) dapat diartikan sebagai data atau informasi yang “hilang” atau tidak tersedia mengenai subjek penelitian pada variabel tertentu akibat faktor non sampling error. ; dan\n",
    "* Normalisasi fitur adalah membuat fitur yang berbeda dalam skala yang sama.\n",
    "\n",
    "### Tujuan:\n",
    "Menemukan fitur paling prediktif dari data dan filter sehingga akan meningkatkan prediksi model analitik. Model analitik adalah model yang penyelesaiannya dilakukan teknik analitis artinya dilakukan dengan teknik-teknik matematika.\n"
   ]
  },
  {
   "cell_type": "markdown",
   "metadata": {},
   "source": [
    "### Import Library\n",
    "\n",
    "<p>Matplotlib.pyplot adalah kumpulan fungsi yang membuat beberapa perubahan pada gambar: misalnya, membuat gambar, membuat area plot dalam gambar, menambah label di plot dan lainnya.</p>\n",
    "\n",
    "<p>Pandas adalah librari analisis data yang memiliki struktur data yang diperlukan untuk membersihkan data mentah ke dalam sebuah bentuk yang cocok untuk analisis (yaitu tabel). Pandas melakukan tugas penting seperti menyelaraskan data untuk perbandingan dan penggabungan set data, penanganan data yang hilang, dll, itu telah menjadi sebuah librari de facto untuk pemrosesan data tingkat tinggi dalam Python (yaitu statistik).\n",
    "\n",
    "<p>Scipy.stats Sebagai turunan dari kelas rv_continuous, objek norm mewarisi kumpulan metode umum dan melengkapinya dengan detail spesifik untuk distribusi khusus.\n",
    "    \n",
    "<p>Seaborn merupakan pustaka visualisasi data pada lingkungan Python ber- sifat sumber terbuka yang berlisensi BSD dan dibangun di atas pustaka matplotlib. Seaborn akan mempermudah kita sebagai analis data untuk memproduksi visualisasi yang indah tanpa kostumisasi rumit seperti yang kita hadapi pada matplotlib."
   ]
  },
  {
   "cell_type": "code",
   "execution_count": 1,
   "metadata": {},
   "outputs": [],
   "source": [
    "%matplotlib inline\n",
    "import matplotlib.pyplot as plt\n",
    "\n",
    "#Load libraries for data processing\n",
    "import pandas as pd #data processing, CSV file I/O (e.g. pd.read_csv)\n",
    "import numpy as np\n",
    "from scipy.stats import norm\n",
    "\n",
    "# visualization\n",
    "import seaborn as sns \n",
    "plt.style.use('fivethirtyeight')\n",
    "sns.set_style(\"white\")\n",
    "\n",
    "\n",
    "plt.rcParams['figure.figsize'] = (8,4) \n",
    "#plt.rcParams['axes.titlesize'] = 'large'\n",
    "\n",
    "data = pd.read_csv('C:/Users/asus/Desktop/SK5A/KECERDASAN BUATAN SK5A/Tugas UAS/clean-data.csv', index_col=False)\n",
    "data.drop('Unnamed: 0',axis=1, inplace=True)\n",
    "#data.head()"
   ]
  },
  {
   "cell_type": "markdown",
   "metadata": {},
   "source": [
    "### Label Encoding\n",
    "Label encoding mengacu pada pengubahan label menjadi bentuk numerik untuk mengubahnya menjadi bentuk yang dapat dibaca mesin. Algoritme pembelajaran mesin kemudian dapat memutuskan dengan cara yang lebih baik tentang bagaimana label tersebut harus dioperasikan. Ini adalah langkah pra-pemrosesan yang penting untuk kumpulan data terstruktur dalam pembelajaran yang diawasi.\n",
    "Menetapkan 30 fitur ke array NumPy X, dan mengubah label kelas dari representasi string aslinya (M dan B) menjadi bilangan bulat."
   ]
  },
  {
   "cell_type": "code",
   "execution_count": 3,
   "metadata": {},
   "outputs": [],
   "source": [
    "#Menetapkan prediktor ke variabel berjenis array (matriks)\n",
    "array = data.values\n",
    "X = array[:,1:31]\n",
    "y = array[:,0]"
   ]
  },
  {
   "cell_type": "markdown",
   "metadata": {},
   "source": [
    "<p>from sklearn.preprocessing import LabelEncoder</p>\n",
    "Label encode target dengan nilai antara 0 dan n_classes-1.\n",
    "Transformator ini harus digunakan untuk menentukan nilai target, yaitu y, dan bukan input X."
   ]
  },
  {
   "cell_type": "code",
   "execution_count": 4,
   "metadata": {},
   "outputs": [],
   "source": [
    "#transform label kelas dari representasi string aslinya (M dan B) menjadi bilangan bulat\n",
    "from sklearn.preprocessing import LabelEncoder\n",
    "le = LabelEncoder()\n",
    "y = le.fit_transform(y)\n",
    "\n",
    "# Panggil metode transformasi LabelEncorder pada dua variabel tiruan\n",
    "# le.transform (['M', 'B'])"
   ]
  },
  {
   "cell_type": "markdown",
   "metadata": {},
   "source": [
    "Setelah mengkodekan label kelas (diagnosis) dalam larik y, tumor ganas sekarang direpresentasikan sebagai kelas 1 (yaitu kehadiran sel kanker) dan tumor jinak direpresentasikan sebagai kelas 0 (yaitu tidak ada deteksi sel kanker), masing-masing *, diilustrasikan dengan memanggil metode transformasi LabelEncorder pada dua variabel dummy.\n",
    "\n",
    "\n",
    "### Menilai Akurasi Model: Pisahkan data menjadi set pelatihan dan pengujian\n",
    "\n",
    "Metode paling sederhana untuk mengevaluasi performa algoritme pembelajaran mesin adalah dengan menggunakan kumpulan data pelatihan dan pengujian yang berbeda. Di sini saya akan\n",
    "* Bagi data yang tersedia menjadi satu set pelatihan dan satu set pengujian. (70% pelatihan, tes 30%)\n",
    "* Latih algoritme di bagian pertama,\n",
    "* membuat prediksi pada bagian kedua dan\n",
    "* mengevaluasi prediksi terhadap hasil yang diharapkan.\n",
    "\n",
    "Ukuran pemisahan dapat bergantung pada ukuran dan spesifikasi set data Anda, meskipun umumnya menggunakan 67% data untuk pelatihan dan 33% sisanya untuk pengujian.\n"
   ]
  },
  {
   "cell_type": "code",
   "execution_count": 5,
   "metadata": {},
   "outputs": [
    {
     "data": {
      "text/plain": [
       "((426, 30), (426,), (143, 30), (143,))"
      ]
     },
     "execution_count": 5,
     "metadata": {},
     "output_type": "execute_result"
    }
   ],
   "source": [
    "#Pisahkan array atau matriks menjadi rangkaian acak dan subset pengujian\n",
    "from sklearn.model_selection import train_test_split\n",
    "\n",
    "##Split data set in train 70% and test 30%\n",
    "X_train, X_test, y_train, y_test = train_test_split( X, y, test_size=0.25, random_state=7)\n",
    "X_train.shape, y_train.shape, X_test.shape, y_test.shape"
   ]
  },
  {
   "cell_type": "markdown",
   "metadata": {},
   "source": [
    "### Standardisasi Fitur\n",
    "\n",
    "Standarisasi adalah teknik yang berguna untuk mengubah atribut dengan distribusi Gaussian dan cara yang berbeda serta deviasi standar ke distribusi Gaussian standar dengan rata-rata 0 dan simpangan baku 1.\n",
    "\n",
    "Mari kita evaluasi algoritme yang sama dengan salinan standar set data. Di sini,dengah menggunakan sklearn untuk menskalakan dan mengubah data sedemikian rupa sehingga setiap atribut memiliki nilai rata-rata nol dan deviasi standar satu"
   ]
  },
  {
   "cell_type": "code",
   "execution_count": 6,
   "metadata": {},
   "outputs": [],
   "source": [
    "from sklearn.preprocessing import StandardScaler\n",
    "\n",
    "# Normalisasikan data (pusatkan sekitar 0 dan skala untuk menghilangkan varians).\n",
    "scaler =StandardScaler()\n",
    "Xs = scaler.fit_transform(X)"
   ]
  },
  {
   "cell_type": "markdown",
   "metadata": {},
   "source": [
    "### Dekomposisi fitur menggunakan Principal Component Analysis (PCA)"
   ]
  },
  {
   "cell_type": "markdown",
   "metadata": {},
   "source": [
    "<p>Dekomposisi adalah proses perubahan menjadi bentuk yang lebih sederhana.</p>\n",
    "<p>Dari plot banyak pasangan fitur membagi data dengan baik ke tingkat yang sama, oleh karena itu dengan menggunakan salah satu metode reduksi dimensi untuk mencoba menggunakan fitur sebanyak mungkin dan mempertahankan informasi sebanyak mungkin ketika bekerja hanya dengan 2 dimensi. Saya akan menggunakan PCA</p>\n",
    "<p>(PCA) bertujuan menerangkan struktur varians-kovarians melalui kombinasi linear dari variabel-variabel. Fungsi dari principal component analysis (PCA) adalah dengan merangkum banyak variabel bebas (X) yang memiliki indikasi saling berkorelasi ataupun saling mempengaruhi menjadi satu atau lebih variabel baru yang memuat kombinasi dari variabel-variabel bebas (X) sebelumnya, yang akan memungkinkan menghilangkan masalah multikolinearitas ketika dibentuk suatu model regresi (regresi komponen utama).</p>"
   ]
  },
  {
   "cell_type": "code",
   "execution_count": 7,
   "metadata": {},
   "outputs": [],
   "source": [
    "from sklearn.decomposition import PCA\n",
    "# feature extraction\n",
    "pca = PCA(n_components=10)\n",
    "fit = pca.fit(Xs)\n",
    "\n",
    "# summarize components\n",
    "#print(\"Explained Variance: %s\") % fit.explained_variance_ratio_\n",
    "#print(fit.components_)"
   ]
  },
  {
   "cell_type": "code",
   "execution_count": 8,
   "metadata": {},
   "outputs": [
    {
     "data": {
      "image/png": "[encoded data removed]",
      "text/plain": [
       "<Figure size 432x288 with 1 Axes>"
      ]
     },
     "metadata": {},
     "output_type": "display_data"
    }
   ],
   "source": [
    "X_pca = pca.transform(Xs)\n",
    "\n",
    "PCA_df = pd.DataFrame()\n",
    "\n",
    "PCA_df['PCA_1'] = X_pca[:,0]\n",
    "PCA_df['PCA_2'] = X_pca[:,1]\n",
    "\n",
    "plt.plot(PCA_df['PCA_1'][data.diagnosis == 'M'],PCA_df['PCA_2'][data.diagnosis == 'M'],'o', alpha = 0.7, color = 'r')\n",
    "plt.plot(PCA_df['PCA_1'][data.diagnosis == 'B'],PCA_df['PCA_2'][data.diagnosis == 'B'],'o', alpha = 0.7, color = 'b')\n",
    "\n",
    "plt.xlabel('PCA_1')\n",
    "plt.ylabel('PCA_2')\n",
    "plt.legend(['Malignant','Benign'])\n",
    "plt.show()"
   ]
  },
  {
   "cell_type": "markdown",
   "metadata": {},
   "source": [
    "* Sekarang, apa yang kami dapatkan setelah menerapkan transformasi PCA linier adalah subruang berdimensi lebih rendah (dari 3D ke 2D dalam kasus ini), di mana sampelnya \"paling tersebar\" di sepanjang sumbu fitur baru.\n",
    "\n"
   ]
  },
  {
   "cell_type": "code",
   "execution_count": 9,
   "metadata": {},
   "outputs": [],
   "source": [
    "# Jumlah varian yang dijelaskan setiap PCa\n",
    "var= pca.explained_variance_ratio_\n",
    "#Cumulative Variance explains\n",
    "#var1=np.cumsum(np.round(pca.explained_variance_ratio_, decimals=4)*100)\n",
    "#print(var1)"
   ]
  },
  {
   "cell_type": "markdown",
   "metadata": {},
   "source": [
    "###  Memutuskan Berapa Banyak Komponen Utama yang Akan Dipertahankan"
   ]
  },
  {
   "cell_type": "markdown",
   "metadata": {},
   "source": [
    "Untuk menentukan berapa banyak komponen utama yang harus dipertahankan, hasil analisis komponen utama diringkas dengan membuat plot screen."
   ]
  },
  {
   "cell_type": "code",
   "execution_count": 10,
   "metadata": {},
   "outputs": [
    {
     "data": {
      "image/png": "[encoded data removed]",
      "text/plain": [
       "<Figure size 432x288 with 1 Axes>"
      ]
     },
     "metadata": {},
     "output_type": "display_data"
    }
   ],
   "source": [
    "# Jumlah varian yang dijelaskan setiap PC\n",
    "var= pca.explained_variance_ratio_\n",
    "#Cumulative Variance explains\n",
    "#var1=np.cumsum(np.round(pca.explained_variance_ratio_, decimals=4)*100)\n",
    "#print(var1)\n",
    "\n",
    "plt.plot(var)\n",
    "plt.title('Scree Plot')\n",
    "plt.xlabel('Principal Component')\n",
    "plt.ylabel('Eigenvalue')\n",
    "\n",
    "leg = plt.legend(['Eigenvalues from PCA'], loc='best', borderpad=0.3,shadow=False,markerscale=0.4)\n",
    "leg.get_frame().set_alpha(0.4)\n",
    "plt.show()"
   ]
  },
  {
   "cell_type": "markdown",
   "metadata": {},
   "source": [
    "#### Pengamatan\n",
    "Perubahan kemiringan yang paling nyata pada plot scree terjadi pada komponen 2, yang merupakan “siku” dari plot scree. Oleh karena itu, dapat diperdebatkan berdasarkan plot scree bahwa tiga komponen pertama harus dipertahankan."
   ]
  },
  {
   "cell_type": "markdown",
   "metadata": {},
   "source": [
    "### Model prediksi menggunakan Support Vector Machine (SVM)\n",
    "\n",
    "Algoritma pembelajaran Support Vector Machines (SVMs) akan digunakan untuk membangun model prediktif. SVM adalah salah satu algoritme klasifikasi yang paling populer, dan memiliki cara elegan untuk mengubah data nonlinier sehingga seseorang dapat menggunakan algoritme linier untuk menyesuaikan model linier dengan data (Cortes dan Vapnik 1995)\n",
    "\n",
    "Mesin vektor dukungan yang dikernel adalah model yang kuat dan bekerja dengan baik pada berbagai kumpulan data.\n",
    "1. SVM memungkinkan adanya batasan keputusan yang kompleks, meskipun datanya hanya memiliki sedikit fitur.\n",
    "2. Mereka bekerja dengan baik pada data berdimensi rendah dan berdimensi tinggi (yaitu, sedikit dan banyak fitur), tetapi tidak diskalakan dengan baik dengan jumlah sampel.\n",
    "> ** Menjalankan SVM pada data dengan hingga 10.000 sampel mungkin berfungsi dengan baik, tetapi bekerja dengan set data berukuran 100.000 atau lebih dapat menjadi tantangan dalam hal waktu proses dan penggunaan memori. **\n",
    "\n",
    "3. SVM membutuhkan pemrosesan awal data yang cermat dan penyetelan parameter. Inilah sebabnya, akhir-akhir ini, kebanyakan orang menggunakan model berbasis pohon seperti random forest atau peningkatan gradien (yang memerlukan sedikit atau tanpa pemrosesan awal) di banyak aplikasi.\n",
    "4. Model SVM sulit untuk diperiksa; sulit untuk memahami mengapa prediksi tertentu dibuat, dan mungkin sulit untuk menjelaskan model kepada seorang yang tidak ahli.\n",
    "\n",
    "### Parameter\n",
    "Parameter dalam SVM kernel adalah\n",
    "* Regularisasi parameter C,\n",
    "* Pilihan kernel, (linear, radial basis function (RBF) atau polynomial)\n",
    "* Parameter khusus kernel.\n",
    "\n",
    "gamma dan C keduanya mengontrol kompleksitas model, dengan nilai-nilai besar yang menghasilkan model yang lebih kompleks. Oleh karena itu, pengaturan yang baik untuk kedua parameter biasanya berkorelasi kuat, dan C serta gamma harus disesuaikan bersama."
   ]
  },
  {
   "cell_type": "code",
   "execution_count": 11,
   "metadata": {},
   "outputs": [],
   "source": [
    "%matplotlib inline\n",
    "import matplotlib.pyplot as plt\n",
    "\n",
    "#Load libraries for data processing\n",
    "import pandas as pd #data processing, CSV file I/O (e.g. pd.read_csv)\n",
    "import numpy as np\n",
    "from scipy.stats import norm\n",
    "\n",
    "## Supervised learning.\n",
    "from sklearn.preprocessing import StandardScaler\n",
    "from sklearn.preprocessing import LabelEncoder\n",
    "from sklearn.model_selection import train_test_split\n",
    "from sklearn.svm import SVC\n",
    "from sklearn.model_selection import cross_val_score\n",
    "from sklearn.pipeline import make_pipeline\n",
    "from sklearn.metrics import confusion_matrix\n",
    "from sklearn import metrics, preprocessing\n",
    "from sklearn.metrics import classification_report\n",
    "\n",
    "# visualization\n",
    "import seaborn as sns \n",
    "plt.style.use('fivethirtyeight')\n",
    "sns.set_style(\"white\")\n",
    "\n",
    "plt.rcParams['figure.figsize'] = (8,4) \n",
    "#plt.rcParams['axes.titlesize'] = 'large'\n",
    "\n"
   ]
  },
  {
   "cell_type": "markdown",
   "metadata": {},
   "source": [
    "* Supervised learning adalah ditandai dengan label dimana memiliki data yang lebih terstruktur. Pada Supervised learning terdiri dari classification dan regression.\n"
   ]
  },
  {
   "cell_type": "code",
   "execution_count": 13,
   "metadata": {},
   "outputs": [],
   "source": [
    "data = pd.read_csv('C:/Users/asus/Desktop/SK5A/KECERDASAN BUATAN SK5A/Tugas UAS/clean-data.csv', index_col=False)\n",
    "data.drop('Unnamed: 0',axis=1, inplace=True)\n",
    "#data.head()"
   ]
  },
  {
   "cell_type": "code",
   "execution_count": 14,
   "metadata": {},
   "outputs": [],
   "source": [
    "#Assign predictors to a variable of ndarray (matrix) type\n",
    "array = data.values\n",
    "X = array[:,1:31] # features\n",
    "y = array[:,0]\n",
    "\n",
    "#transform the class labels from their original string representation (M and B) into integers\n",
    "le = LabelEncoder()\n",
    "y = le.fit_transform(y)\n",
    "\n",
    "# Normalize the  data (center around 0 and scale to remove the variance).\n",
    "scaler =StandardScaler()\n",
    "Xs = scaler.fit_transform(X)"
   ]
  },
  {
   "cell_type": "markdown",
   "metadata": {},
   "source": [
    "### Klasifikasi dengan validasi silang\n",
    "\n",
    "Memisahkan data menjadi set pengujian dan pelatihan sangat penting untuk menghindari overfitting. Hal ini memungkinkan generalisasi data nyata yang sebelumnya tidak terlihat. Validasi silang memperluas gagasan ini lebih jauh. Alih-alih memiliki pemisahan jalur / pengujian tunggal, kami menentukan ** yang disebut lipatan ** sehingga datanya dibagi menjadi lipatan yang berukuran serupa.\n",
    "\n",
    "* Pelatihan terjadi dengan mengambil semua lipatan kecuali satu - disebut sebagai sampel pisahan.\n",
    "* Setelah menyelesaikan pelatihan, Anda menguji performa model yang dipasang menggunakan sampel pisahan.\n",
    "\n",
    "* Sampel pisahan kemudian dibuang kembali dengan sisa lipatan lainnya, dan lipatan lain ditarik keluar sebagai sampel pisahan baru.\n",
    "\n",
    "* Pelatihan diulangi lagi dengan sisa lipatan dan kami mengukur kinerja menggunakan sampel pisahan. Proses ini diulangi sampai setiap lipatan memiliki kesempatan untuk menjadi sampel pengujian atau pisahan.\n",
    "\n",
    "* Performa pengklasifikasi yang diharapkan, yang disebut error validasi silang, selanjutnya hanyalah rata-rata tingkat error yang dihitung pada setiap sampel pisahan.\n",
    "\n",
    "Proses ini didemonstrasikan dengan terlebih dahulu melakukan latihan standar / test split, dan kemudian menghitung kesalahan validasi silang."
   ]
  },
  {
   "cell_type": "code",
   "execution_count": 15,
   "metadata": {
    "scrolled": true
   },
   "outputs": [
    {
     "name": "stdout",
     "output_type": "stream",
     "text": [
      "\n",
      "The classifier accuracy score is 0.95\n",
      "\n"
     ]
    },
    {
     "name": "stderr",
     "output_type": "stream",
     "text": [
      "C:\\Users\\asus\\Anaconda3\\lib\\site-packages\\sklearn\\svm\\base.py:193: FutureWarning: The default value of gamma will change from 'auto' to 'scale' in version 0.22 to account better for unscaled features. Set gamma explicitly to 'auto' or 'scale' to avoid this warning.\n",
      "  \"avoid this warning.\", FutureWarning)\n"
     ]
    }
   ],
   "source": [
    "# set pelatihan(Train) dan pengujian(Test).\n",
    "X_train, X_test, y_train, y_test = train_test_split(Xs, y, test_size=0.3, random_state=2, stratify=y)\n",
    "\n",
    "# Buat pengklasifikasi SVM dan latih pada 70% kumpulan data.\n",
    "clf = SVC(probability=True)\n",
    "clf.fit(X_train, y_train)\n",
    "\n",
    " # Analisis keakuratan prediksi pada 30%.\n",
    "classifier_score = clf.score(X_test, y_test)\n",
    "print('\\nThe classifier accuracy score is {:03.2f}\\n'.format(classifier_score))"
   ]
  },
  {
   "cell_type": "markdown",
   "metadata": {},
   "source": [
    "Untuk mendapatkan ukuran akurasi prediksi yang lebih baik (yang dapat Anda gunakan sebagai proxy untuk \"kesesuaian\" model), Anda dapat membagi data secara berturut-turut menjadi beberapa bagian yang akan Anda gunakan untuk pelatihan dan pengujian:"
   ]
  },
  {
   "cell_type": "code",
   "execution_count": 16,
   "metadata": {},
   "outputs": [
    {
     "name": "stdout",
     "output_type": "stream",
     "text": [
      "\n",
      "The 3-fold cross-validation accuracy score for this classifier is 0.97\n",
      "\n"
     ]
    },
    {
     "name": "stderr",
     "output_type": "stream",
     "text": [
      "C:\\Users\\asus\\Anaconda3\\lib\\site-packages\\sklearn\\svm\\base.py:193: FutureWarning: The default value of gamma will change from 'auto' to 'scale' in version 0.22 to account better for unscaled features. Set gamma explicitly to 'auto' or 'scale' to avoid this warning.\n",
      "  \"avoid this warning.\", FutureWarning)\n",
      "C:\\Users\\asus\\Anaconda3\\lib\\site-packages\\sklearn\\svm\\base.py:193: FutureWarning: The default value of gamma will change from 'auto' to 'scale' in version 0.22 to account better for unscaled features. Set gamma explicitly to 'auto' or 'scale' to avoid this warning.\n",
      "  \"avoid this warning.\", FutureWarning)\n",
      "C:\\Users\\asus\\Anaconda3\\lib\\site-packages\\sklearn\\svm\\base.py:193: FutureWarning: The default value of gamma will change from 'auto' to 'scale' in version 0.22 to account better for unscaled features. Set gamma explicitly to 'auto' or 'scale' to avoid this warning.\n",
      "  \"avoid this warning.\", FutureWarning)\n"
     ]
    }
   ],
   "source": [
    "# Mendapatkan rata-rata skor validasi silang 3 kali lipat menggunakan SVC(support vector classification).\n",
    "n_folds = 3\n",
    "cv_error = np.average(cross_val_score(SVC(), Xs, y, cv=n_folds))\n",
    "print('\\nThe {}-fold cross-validation accuracy score for this classifier is {:.2f}\\n'.format(n_folds, cv_error))"
   ]
  },
  {
   "cell_type": "markdown",
   "metadata": {},
   "source": [
    "Evaluasi di atas didasarkan pada penggunaan seluruh rangkaian fitur. Anda sekarang akan menggunakan strategi pemilihan fitur berbasis korelasi untuk menilai pengaruh penggunaan 3 fitur yang memiliki korelasi terbaik dengan label kelas."
   ]
  },
  {
   "cell_type": "code",
   "execution_count": 17,
   "metadata": {},
   "outputs": [
    {
     "name": "stdout",
     "output_type": "stream",
     "text": [
      "\n",
      "The 3-fold cross-validation accuracy score for this classifier is 0.97\n",
      "\n"
     ]
    },
    {
     "name": "stderr",
     "output_type": "stream",
     "text": [
      "C:\\Users\\asus\\Anaconda3\\lib\\site-packages\\sklearn\\svm\\base.py:193: FutureWarning: The default value of gamma will change from 'auto' to 'scale' in version 0.22 to account better for unscaled features. Set gamma explicitly to 'auto' or 'scale' to avoid this warning.\n",
      "  \"avoid this warning.\", FutureWarning)\n",
      "C:\\Users\\asus\\Anaconda3\\lib\\site-packages\\sklearn\\svm\\base.py:193: FutureWarning: The default value of gamma will change from 'auto' to 'scale' in version 0.22 to account better for unscaled features. Set gamma explicitly to 'auto' or 'scale' to avoid this warning.\n",
      "  \"avoid this warning.\", FutureWarning)\n",
      "C:\\Users\\asus\\Anaconda3\\lib\\site-packages\\sklearn\\svm\\base.py:193: FutureWarning: The default value of gamma will change from 'auto' to 'scale' in version 0.22 to account better for unscaled features. Set gamma explicitly to 'auto' or 'scale' to avoid this warning.\n",
      "  \"avoid this warning.\", FutureWarning)\n",
      "C:\\Users\\asus\\Anaconda3\\lib\\site-packages\\sklearn\\svm\\base.py:193: FutureWarning: The default value of gamma will change from 'auto' to 'scale' in version 0.22 to account better for unscaled features. Set gamma explicitly to 'auto' or 'scale' to avoid this warning.\n",
      "  \"avoid this warning.\", FutureWarning)\n",
      "C:\\Users\\asus\\Anaconda3\\lib\\site-packages\\sklearn\\svm\\base.py:193: FutureWarning: The default value of gamma will change from 'auto' to 'scale' in version 0.22 to account better for unscaled features. Set gamma explicitly to 'auto' or 'scale' to avoid this warning.\n",
      "  \"avoid this warning.\", FutureWarning)\n",
      "C:\\Users\\asus\\Anaconda3\\lib\\site-packages\\sklearn\\svm\\base.py:193: FutureWarning: The default value of gamma will change from 'auto' to 'scale' in version 0.22 to account better for unscaled features. Set gamma explicitly to 'auto' or 'scale' to avoid this warning.\n",
      "  \"avoid this warning.\", FutureWarning)\n"
     ]
    }
   ],
   "source": [
    "from sklearn.feature_selection import SelectKBest, f_regression\n",
    "clf2 = make_pipeline(SelectKBest(f_regression, k=3),SVC(probability=True))\n",
    "\n",
    "scores = cross_val_score(clf2, Xs, y, cv=3)\n",
    "\n",
    "# Mendapatkan rata-rata skor validasi silang 3 kali lipat menggunakan SVC(support vector classification)\n",
    "n_folds = 3\n",
    "cv_error = np.average(cross_val_score(SVC(), Xs, y, cv=n_folds))\n",
    "print('\\nThe {}-fold cross-validation accuracy score for this classifier is {:.2f}\\n'.format(n_folds, cv_error))"
   ]
  },
  {
   "cell_type": "code",
   "execution_count": 18,
   "metadata": {},
   "outputs": [
    {
     "name": "stdout",
     "output_type": "stream",
     "text": [
      "Average score and uncertainty: (94.20 +- 0.496)%\n"
     ]
    }
   ],
   "source": [
    "avg = (100*np.mean(scores), 100*np.std(scores)/np.sqrt(scores.shape[0]))\n",
    "print(\"Average score and uncertainty: (%.2f +- %.3f)%%\"%avg)"
   ]
  },
  {
   "cell_type": "markdown",
   "metadata": {},
   "source": [
    "Dari hasil di atas, Anda dapat melihat bahwa hanya sebagian kecil fitur yang diperlukan untuk membuat model yang memiliki performa serupa dengan model berdasarkan penggunaan seluruh rangkaian fitur.\n",
    "Pemilihan fitur adalah bagian penting dari proses pembuatan model yang harus selalu Anda perhatikan. Detailnya berada di luar cakupan notebook ini. Di sisa analisis, Anda akan terus menggunakan seluruh rangkaian fitur."
   ]
  },
  {
   "cell_type": "markdown",
   "metadata": {
    "collapsed": true
   },
   "source": [
    "### Akurasi Model: Kurva Receiver Operating Characteristic (ROC)\n",
    "\n",
    "Dalam pemodelan statistik dan pembelajaran mesin, ukuran kinerja akurasi model yang sering dilaporkan untuk masalah klasifikasi biner adalah Area Under the Curve (AUC).\n",
    "\n",
    "Untuk memahami informasi yang disampaikan oleh kurva KOP, pertimbangkan apa yang disebut matriks konfusi yang pada dasarnya adalah tabel dua dimensi di mana model pengklasifikasi berada pada satu sumbu (vertikal), dan kebenaran dasar berada pada sumbu (horizontal) lainnya, seperti yang ditunjukkan di bawah. Salah satu sumbu ini dapat mengambil dua nilai (seperti yang digambarkan)"
   ]
  },
  {
   "cell_type": "markdown",
   "metadata": {
    "collapsed": true
   },
   "source": [
    " Model says \"+\" |Model says  \"-\" \n",
    "--- | --- | ---\n",
    "`True positive` | `False negative` | ** Actual: \"+\" **\n",
    " `False positive`  | `True negative` |  Actual: \"-\"\n",
    " Dalam kurva KOP, Anda memplot \"Rasio True positif\" pada sumbu Y dan \"Rasio True positif\" pada sumbu X, di mana nilai \"True Positif\", \"False Negatif\", \"False Positif\", dan \"True Positif” adalah peristiwa (atau probabilitasnya) seperti dijelaskan di atas. Tarif ditentukan menurut berikut ini:\n",
    "> * True positive rate (or sensitivity)}: tpr = tp / (tp + fn)\n",
    "> * False positive rate:       fpr = fp / (fp + tn)\n",
    "> * True negative rate (or specificity): tnr = tn / (fp + tn)\n",
    "\n",
    "Dalam semua definisi, penyebut adalah margin baris dalam matriks konfusi di atas. Dengan demikian, seseorang bisa berekspresi\n",
    "* rasio positif benar (tpr) sebagai probabilitas bahwa model mengatakan \"+\" ketika nilai sebenarnya adalah \"+\" (yaitu, probabilitas bersyarat). Namun, ini tidak memberi tahu Anda seberapa besar kemungkinan Anda akan benar saat memanggil \"+\" (yaitu, probabilitas positif benar, dikondisikan pada hasil tes menjadi \"+\").\n",
    "          "
   ]
  },
  {
   "cell_type": "code",
   "execution_count": 19,
   "metadata": {},
   "outputs": [
    {
     "name": "stderr",
     "output_type": "stream",
     "text": [
      "C:\\Users\\asus\\Anaconda3\\lib\\site-packages\\sklearn\\svm\\base.py:193: FutureWarning: The default value of gamma will change from 'auto' to 'scale' in version 0.22 to account better for unscaled features. Set gamma explicitly to 'auto' or 'scale' to avoid this warning.\n",
      "  \"avoid this warning.\", FutureWarning)\n"
     ]
    }
   ],
   "source": [
    "# Matriks konfusi membantu memvisualisasikan kinerja algoritme.\n",
    "y_pred = clf.fit(X_train, y_train).predict(X_test)\n",
    "cm = metrics.confusion_matrix(y_test, y_pred)\n",
    "#print(cm)"
   ]
  },
  {
   "cell_type": "code",
   "execution_count": 20,
   "metadata": {
    "scrolled": true
   },
   "outputs": [
    {
     "data": {
      "image/png": "[encoded data removed]",
      "text/plain": [
       "<Figure size 360x360 with 1 Axes>"
      ]
     },
     "metadata": {},
     "output_type": "display_data"
    },
    {
     "name": "stdout",
     "output_type": "stream",
     "text": [
      "              precision    recall  f1-score   support\n",
      "\n",
      "           0       0.94      0.99      0.96       107\n",
      "           1       0.98      0.89      0.93        64\n",
      "\n",
      "    accuracy                           0.95       171\n",
      "   macro avg       0.96      0.94      0.95       171\n",
      "weighted avg       0.95      0.95      0.95       171\n",
      "\n"
     ]
    }
   ],
   "source": [
    "%matplotlib inline\n",
    "import matplotlib.pyplot as plt\n",
    "\n",
    "from IPython.display import Image, display\n",
    "\n",
    "fig, ax = plt.subplots(figsize=(5, 5))\n",
    "ax.matshow(cm, cmap=plt.cm.Reds, alpha=0.3)\n",
    "for i in range(cm.shape[0]):\n",
    "     for j in range(cm.shape[1]):\n",
    "         ax.text(x=j, y=i,\n",
    "                s=cm[i, j], \n",
    "                va='center', ha='center')\n",
    "plt.xlabel('Predicted Values', )\n",
    "plt.ylabel('Actual Values')\n",
    "plt.show()\n",
    "print(classification_report(y_test, y_pred ))"
   ]
  },
  {
   "cell_type": "markdown",
   "metadata": {},
   "source": [
    "#### Pengamatan\n",
    "Ada dua kemungkinan kelas prediksi: \"1\" dan \"0\". Ganas = 1 (menunjukkan adanya sel kanker) dan Jinak\n",
    "= 0 (menunjukkan absensi).\n",
    "\n",
    "* Pengklasifikasi membuat total 174 prediksi (yaitu 174 pasien sedang diuji keberadaan kanker payudara).\n",
    "* Dari 174 kasus tersebut, pengklasifikasi memprediksi \"ya\" sebanyak 58 kali, dan \"tidak\" 113 kali.\n",
    "* Pada kenyataannya, 64 pasien dalam sampel mengidap penyakit tersebut, dan 107 pasien tidak.\n",
    "\n",
    "#### Tarif yang dihitung dari matriks konfusi\n",
    "1. ** Akurasi **: Secara keseluruhan, seberapa sering pengklasifikasi benar?\n",
    "    * (TP + TN) / total = (57 + 106) / 171 = 0,95\n",
    "\n",
    "2. ** Tingkat Kesalahan Klasifikasi **: Secara keseluruhan, seberapa sering kesalahan tersebut?\n",
    "    * (FP + FN) / total = (1 + 7) / 171 = 0,05 setara dengan 1 minus Akurasi juga dikenal sebagai *** \"Error Rate\" ***\n",
    "\n",
    "3. ** True Positive Rate: ** Jika ya, seberapa sering prediksi 1?\n",
    "   * TP / aktual ya = 57/64 = 0.89 juga dikenal sebagai \"Sensitivitas\" atau *** \"Ingat\" ***\n",
    "\n",
    "4. ** False Positive Rate **: Jika sebenarnya 0, seberapa sering ia memprediksi 1?\n",
    "   * FP / jawaban aktual = 1/107 = 0,01\n",
    "\n",
    "5. ** Specificity **: Jika sebenarnya 0, seberapa sering ia memprediksi 0? juga dikenal sebagai ** rasio positif benar **\n",
    "   * TN / no aktual = 106/107 = 0.99 setara dengan 1 dikurangi False Positive Rate\n",
    "\n",
    "6. ** Presisi **: Ketika memprediksi 1, seberapa sering benar?\n",
    "   * PB / prediksi ya = 57/58 = 0,98\n",
    "\n",
    "7. ** Prevalensi **: Seberapa sering kondisi ya sebenarnya muncul dalam sampel kita?\n",
    "   * sebenarnya ya / total = 64/171 = 0,34"
   ]
  },
  {
   "cell_type": "code",
   "execution_count": 21,
   "metadata": {},
   "outputs": [
    {
     "name": "stderr",
     "output_type": "stream",
     "text": [
      "C:\\Users\\asus\\Anaconda3\\lib\\site-packages\\ipykernel_launcher.py:14: MatplotlibDeprecationWarning: Adding an axes using the same arguments as a previous axes currently reuses the earlier instance.  In a future version, a new instance will always be created and returned.  Meanwhile, this warning can be suppressed, and the future behavior ensured, by passing a unique label to each axes instance.\n",
      "  \n"
     ]
    },
    {
     "data": {
      "image/png": "[encoded data removed]",
      "text/plain": [
       "<Figure size 720x576 with 1 Axes>"
      ]
     },
     "metadata": {},
     "output_type": "display_data"
    }
   ],
   "source": [
    "from sklearn.metrics import roc_curve, auc\n",
    "# Plot the receiver operating characteristic curve (ROC).\n",
    "plt.figure(figsize=(10,8))\n",
    "probas_ = clf.predict_proba(X_test)\n",
    "fpr, tpr, thresholds = roc_curve(y_test, probas_[:, 1])\n",
    "roc_auc = auc(fpr, tpr)\n",
    "plt.plot(fpr, tpr, lw=1, label='ROC fold (area = %0.2f)' % (roc_auc))\n",
    "plt.plot([0, 1], [0, 1], '--', color=(0.6, 0.6, 0.6), label='Random')\n",
    "plt.xlim([-0.05, 1.05])\n",
    "plt.ylim([-0.05, 1.05])\n",
    "plt.xlabel('False Positive Rate')\n",
    "plt.ylabel('True Positive Rate')\n",
    "plt.title('Receiver operating characteristic example')\n",
    "plt.axes().set_aspect(1)"
   ]
  },
  {
   "cell_type": "markdown",
   "metadata": {},
   "source": [
    "* Untuk menafsirkan KOP dengan benar, pertimbangkan apa yang diwakili oleh titik-titik yang terletak di sepanjang diagonal. Untuk situasi ini, ada peluang yang sama untuk \"+\" dan \"-\" terjadi. Oleh karena itu, ini tidak jauh berbeda dengan membuat prediksi dengan melempar koin yang tidak bias. Sederhananya, model klasifikasi itu acak.\n",
    "\n",
    "* Untuk titik di atas diagonal, tpr> fpr, dan model mengatakan bahwa Anda berada di zona di mana Anda berkinerja lebih baik daripada acak. Misalnya, asumsikan tpr = 0.99 dan fpr = 0.01, Maka, kemungkinan berada di grup positif benar adalah $ (0.99 / (0.99 + 0.01)) = 99 \\% $. Selain itu, dengan menahan konstanta fpr, mudah untuk melihat bahwa semakin vertikal posisi Anda di atas diagonal, semakin baik model klasifikasinya."
   ]
  }
 ],
 "metadata": {
  "anaconda-cloud": {},
  "kernelspec": {
   "display_name": "Python 3",
   "language": "python",
   "name": "python3"
  },
  "language_info": {
   "codemirror_mode": {
    "name": "ipython",
    "version": 3
   },
   "file_extension": ".py",
   "mimetype": "text/x-python",
   "name": "python",
   "nbconvert_exporter": "python",
   "pygments_lexer": "ipython3",
   "version": "3.6.4"
  }
 },
 "nbformat": 4,
 "nbformat_minor": 2
}
