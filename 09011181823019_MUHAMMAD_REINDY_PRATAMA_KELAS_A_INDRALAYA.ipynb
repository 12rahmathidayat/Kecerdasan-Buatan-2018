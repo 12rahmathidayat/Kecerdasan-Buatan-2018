{
  "nbformat": 4,
  "nbformat_minor": 0,
  "metadata": {
    "kernelspec": {
      "display_name": "Python 3",
      "language": "python",
      "name": "python3"
    },
    "language_info": {
      "codemirror_mode": {
        "name": "ipython",
        "version": 3
      },
      "file_extension": ".py",
      "mimetype": "text/x-python",
      "name": "python",
      "nbconvert_exporter": "python",
      "pygments_lexer": "ipython3",
      "version": "3.7.7"
    },
    "colab": {
      "name": "09011181823019_MUHAMMAD_REINDY_PRATAMA_KELAS_A_INDRALAYA.ipynb",
      "provenance": []
    }
  },
  "cells": [
    {
      "cell_type": "markdown",
      "metadata": {
        "id": "O8aYehQleKYR"
      },
      "source": [
        "# Muhammad Reindy Pratama 09011181823019\n",
        "\n",
        "---\n",
        "\n"
      ]
    },
    {
      "cell_type": "markdown",
      "metadata": {
        "id": "uj4UxgHN2Mcl"
      },
      "source": [
        " Salah satu tugas dan keahlian serta kelebihan Support Vector Machine adalah untuk melakukan prediksi. Mampu mengklasifikasikan dan mengregresi dalam suatu kasus adalah kemampuan yang dimiliki oleh SVM.    Metode yang digunakan oleh SVM adalah metode learning machine yaitu bekerja pada dengan prinsip Structural Risk Minimizationyang bertujuan menemukan hyperplane terbaik yang memasihkan 2 buah class pada ruang input.\n",
        " \n",
        " persamaan SVM\n",
        "\n",
        " g(x) := sgn(f(x))   \n",
        " W.X-B=1\n",
        " \n",
        " W.X-B=0"
      ]
    },
    {
      "cell_type": "markdown",
      "metadata": {
        "id": "6tmWPgxoBClS"
      },
      "source": [
        "# Prediksi case COVID-19"
      ]
    },
    {
      "cell_type": "markdown",
      "metadata": {
        "id": "op-0qYPu8Yoe"
      },
      "source": [
        "# SOURCE CODE"
      ]
    },
    {
      "cell_type": "code",
      "metadata": {
        "id": "e1li6JVgeKYc"
      },
      "source": [
        "import pandas as pd\n",
        "import matplotlib.pyplot as plt\n",
        "import seaborn as sns\n",
        "import numpy as np\n",
        "import datetime as dt\n",
        "from datetime import timedelta\n",
        "from sklearn.model_selection import GridSearchCV\n",
        "from sklearn.linear_model import LinearRegression, Ridge, Lasso\n",
        "from sklearn.svm import SVR"
      ],
      "execution_count": 26,
      "outputs": []
    },
    {
      "cell_type": "markdown",
      "metadata": {
        "id": "L7XUOZDP8p3i"
      },
      "source": [
        "Dataset pasien yang terinfeksi COVID-19 pada awal tahun 2020 di beberapa provinsi china dan menyebar ke seluruh dunia"
      ]
    },
    {
      "cell_type": "code",
      "metadata": {
        "id": "IcjGLSX_eKZJ",
        "outputId": "fdf587f8-c108-43f1-cfc5-2cbe854ae2f8",
        "colab": {
          "base_uri": "https://localhost:8080/",
          "height": 206
        }
      },
      "source": [
        "covid = pd.read_csv(\"covid_19_data.csv\")\n",
        "covid.head()"
      ],
      "execution_count": 27,
      "outputs": [
        {
          "output_type": "execute_result",
          "data": {
            "text/html": [
              "<div>\n",
              "<style scoped>\n",
              "    .dataframe tbody tr th:only-of-type {\n",
              "        vertical-align: middle;\n",
              "    }\n",
              "\n",
              "    .dataframe tbody tr th {\n",
              "        vertical-align: top;\n",
              "    }\n",
              "\n",
              "    .dataframe thead th {\n",
              "        text-align: right;\n",
              "    }\n",
              "</style>\n",
              "<table border=\"1\" class=\"dataframe\">\n",
              "  <thead>\n",
              "    <tr style=\"text-align: right;\">\n",
              "      <th></th>\n",
              "      <th>SNo</th>\n",
              "      <th>ObservationDate</th>\n",
              "      <th>Province/State</th>\n",
              "      <th>Country/Region</th>\n",
              "      <th>Last Update</th>\n",
              "      <th>Confirmed</th>\n",
              "      <th>Deaths</th>\n",
              "      <th>Recovered</th>\n",
              "    </tr>\n",
              "  </thead>\n",
              "  <tbody>\n",
              "    <tr>\n",
              "      <th>0</th>\n",
              "      <td>1</td>\n",
              "      <td>01/22/2020</td>\n",
              "      <td>Anhui</td>\n",
              "      <td>Mainland China</td>\n",
              "      <td>1/22/2020 17:00</td>\n",
              "      <td>1</td>\n",
              "      <td>0</td>\n",
              "      <td>0</td>\n",
              "    </tr>\n",
              "    <tr>\n",
              "      <th>1</th>\n",
              "      <td>2</td>\n",
              "      <td>01/22/2020</td>\n",
              "      <td>Beijing</td>\n",
              "      <td>Mainland China</td>\n",
              "      <td>1/22/2020 17:00</td>\n",
              "      <td>14</td>\n",
              "      <td>0</td>\n",
              "      <td>0</td>\n",
              "    </tr>\n",
              "    <tr>\n",
              "      <th>2</th>\n",
              "      <td>3</td>\n",
              "      <td>01/22/2020</td>\n",
              "      <td>Chongqing</td>\n",
              "      <td>Mainland China</td>\n",
              "      <td>1/22/2020 17:00</td>\n",
              "      <td>6</td>\n",
              "      <td>0</td>\n",
              "      <td>0</td>\n",
              "    </tr>\n",
              "    <tr>\n",
              "      <th>3</th>\n",
              "      <td>4</td>\n",
              "      <td>01/22/2020</td>\n",
              "      <td>Fujian</td>\n",
              "      <td>Mainland China</td>\n",
              "      <td>1/22/2020 17:00</td>\n",
              "      <td>1</td>\n",
              "      <td>0</td>\n",
              "      <td>0</td>\n",
              "    </tr>\n",
              "    <tr>\n",
              "      <th>4</th>\n",
              "      <td>5</td>\n",
              "      <td>01/22/2020</td>\n",
              "      <td>Gansu</td>\n",
              "      <td>Mainland China</td>\n",
              "      <td>1/22/2020 17:00</td>\n",
              "      <td>0</td>\n",
              "      <td>0</td>\n",
              "      <td>0</td>\n",
              "    </tr>\n",
              "  </tbody>\n",
              "</table>\n",
              "</div>"
            ],
            "text/plain": [
              "   SNo ObservationDate Province/State  ... Confirmed Deaths  Recovered\n",
              "0    1      01/22/2020          Anhui  ...         1      0          0\n",
              "1    2      01/22/2020        Beijing  ...        14      0          0\n",
              "2    3      01/22/2020      Chongqing  ...         6      0          0\n",
              "3    4      01/22/2020         Fujian  ...         1      0          0\n",
              "4    5      01/22/2020          Gansu  ...         0      0          0\n",
              "\n",
              "[5 rows x 8 columns]"
            ]
          },
          "metadata": {
            "tags": []
          },
          "execution_count": 27
        }
      ]
    },
    {
      "cell_type": "code",
      "metadata": {
        "id": "VEYJdVtSeKZt",
        "outputId": "e6115c6b-e6f1-4824-943f-810c2f9a96a3",
        "colab": {
          "base_uri": "https://localhost:8080/",
          "height": 424
        }
      },
      "source": [
        "print(\"Size/Shape of dataset: \", covid.shape)\n",
        "print(\"\\nChecking for null values:\\n\", covid.isnull().sum())\n",
        "print(\"\\nChecking Data-type: \", covid.dtypes)"
      ],
      "execution_count": 28,
      "outputs": [
        {
          "output_type": "stream",
          "text": [
            "Size/Shape of dataset:  (13209, 8)\n",
            "\n",
            "Checking for null values:\n",
            " SNo                   0\n",
            "ObservationDate       0\n",
            "Province/State     6382\n",
            "Country/Region        0\n",
            "Last Update           0\n",
            "Confirmed             0\n",
            "Deaths                0\n",
            "Recovered             0\n",
            "dtype: int64\n",
            "\n",
            "Checking Data-type:  SNo                  int64\n",
            "ObservationDate     object\n",
            "Province/State      object\n",
            "Country/Region      object\n",
            "Last Update         object\n",
            "Confirmed          float64\n",
            "Deaths             float64\n",
            "Recovered          float64\n",
            "dtype: object\n"
          ],
          "name": "stdout"
        }
      ]
    },
    {
      "cell_type": "code",
      "metadata": {
        "id": "UkwJyZhgeKaT"
      },
      "source": [
        "# Dropping column SNo.\n",
        "\n",
        "covid.drop([\"SNo\"], 1, inplace = True)"
      ],
      "execution_count": 29,
      "outputs": []
    },
    {
      "cell_type": "code",
      "metadata": {
        "id": "y5AdRuyCeKa-",
        "outputId": "37e5460c-d7de-46f8-dd01-3741c40f1171",
        "colab": {
          "base_uri": "https://localhost:8080/",
          "height": 206
        }
      },
      "source": [
        "covid.head()"
      ],
      "execution_count": 30,
      "outputs": [
        {
          "output_type": "execute_result",
          "data": {
            "text/html": [
              "<div>\n",
              "<style scoped>\n",
              "    .dataframe tbody tr th:only-of-type {\n",
              "        vertical-align: middle;\n",
              "    }\n",
              "\n",
              "    .dataframe tbody tr th {\n",
              "        vertical-align: top;\n",
              "    }\n",
              "\n",
              "    .dataframe thead th {\n",
              "        text-align: right;\n",
              "    }\n",
              "</style>\n",
              "<table border=\"1\" class=\"dataframe\">\n",
              "  <thead>\n",
              "    <tr style=\"text-align: right;\">\n",
              "      <th></th>\n",
              "      <th>ObservationDate</th>\n",
              "      <th>Province/State</th>\n",
              "      <th>Country/Region</th>\n",
              "      <th>Last Update</th>\n",
              "      <th>Confirmed</th>\n",
              "      <th>Deaths</th>\n",
              "      <th>Recovered</th>\n",
              "    </tr>\n",
              "  </thead>\n",
              "  <tbody>\n",
              "    <tr>\n",
              "      <th>0</th>\n",
              "      <td>01/22/2020</td>\n",
              "      <td>Anhui</td>\n",
              "      <td>Mainland China</td>\n",
              "      <td>1/22/2020 17:00</td>\n",
              "      <td>1</td>\n",
              "      <td>0</td>\n",
              "      <td>0</td>\n",
              "    </tr>\n",
              "    <tr>\n",
              "      <th>1</th>\n",
              "      <td>01/22/2020</td>\n",
              "      <td>Beijing</td>\n",
              "      <td>Mainland China</td>\n",
              "      <td>1/22/2020 17:00</td>\n",
              "      <td>14</td>\n",
              "      <td>0</td>\n",
              "      <td>0</td>\n",
              "    </tr>\n",
              "    <tr>\n",
              "      <th>2</th>\n",
              "      <td>01/22/2020</td>\n",
              "      <td>Chongqing</td>\n",
              "      <td>Mainland China</td>\n",
              "      <td>1/22/2020 17:00</td>\n",
              "      <td>6</td>\n",
              "      <td>0</td>\n",
              "      <td>0</td>\n",
              "    </tr>\n",
              "    <tr>\n",
              "      <th>3</th>\n",
              "      <td>01/22/2020</td>\n",
              "      <td>Fujian</td>\n",
              "      <td>Mainland China</td>\n",
              "      <td>1/22/2020 17:00</td>\n",
              "      <td>1</td>\n",
              "      <td>0</td>\n",
              "      <td>0</td>\n",
              "    </tr>\n",
              "    <tr>\n",
              "      <th>4</th>\n",
              "      <td>01/22/2020</td>\n",
              "      <td>Gansu</td>\n",
              "      <td>Mainland China</td>\n",
              "      <td>1/22/2020 17:00</td>\n",
              "      <td>0</td>\n",
              "      <td>0</td>\n",
              "      <td>0</td>\n",
              "    </tr>\n",
              "  </tbody>\n",
              "</table>\n",
              "</div>"
            ],
            "text/plain": [
              "  ObservationDate Province/State  Country/Region  ... Confirmed  Deaths  Recovered\n",
              "0      01/22/2020          Anhui  Mainland China  ...         1       0          0\n",
              "1      01/22/2020        Beijing  Mainland China  ...        14       0          0\n",
              "2      01/22/2020      Chongqing  Mainland China  ...         6       0          0\n",
              "3      01/22/2020         Fujian  Mainland China  ...         1       0          0\n",
              "4      01/22/2020          Gansu  Mainland China  ...         0       0          0\n",
              "\n",
              "[5 rows x 7 columns]"
            ]
          },
          "metadata": {
            "tags": []
          },
          "execution_count": 30
        }
      ]
    },
    {
      "cell_type": "code",
      "metadata": {
        "id": "tS9bWiIVeKbZ"
      },
      "source": [
        "covid[\"ObservationDate\"] = pd.to_datetime(covid[\"ObservationDate\"])"
      ],
      "execution_count": 31,
      "outputs": []
    },
    {
      "cell_type": "code",
      "metadata": {
        "id": "ld2Nh-vheKby"
      },
      "source": [
        "# Grouping different types of cases as per date\n",
        "\n",
        "datewise = covid.groupby([\"ObservationDate\"]).agg({\"Confirmed\": \"sum\", \"Recovered\": \"sum\", \"Deaths\": \"sum\"})"
      ],
      "execution_count": 32,
      "outputs": []
    },
    {
      "cell_type": "code",
      "metadata": {
        "id": "DkCQCk93eKcP",
        "outputId": "552ee248-be84-4793-d727-151e773195f6",
        "colab": {
          "base_uri": "https://localhost:8080/",
          "height": 220
        }
      },
      "source": [
        "print(\"Basic Information\")\n",
        "print(\"\\nTotal no. of confirmed cases around the world\", datewise[\"Confirmed\"].iloc[-1])\n",
        "print(\"\\nTotal no. of recovered cases around the world\", datewise[\"Recovered\"].iloc[-1])\n",
        "print(\"\\nTotal no. of death cases around the world\", datewise[\"Deaths\"].iloc[-1])\n",
        "print(\"\\nTotal number of active cases around the world\", datewise[\"Confirmed\"].iloc[-1] - datewise[\"Recovered\"].iloc[-1] - datewise[\"Deaths\"].iloc[-1])\n",
        "print(\"\\nTotal number of closed cases around the world\", datewise[\"Recovered\"].iloc[-1] + datewise[\"Deaths\"].iloc[-1])"
      ],
      "execution_count": 33,
      "outputs": [
        {
          "output_type": "stream",
          "text": [
            "Basic Information\n",
            "\n",
            "Total no. of confirmed cases around the world 1511104.0\n",
            "\n",
            "Total no. of recovered cases around the world 328661.0\n",
            "\n",
            "Total no. of death cases around the world 88338.0\n",
            "\n",
            "Total number of active cases around the world 1094105.0\n",
            "\n",
            "Total number of closed cases around the world 416999.0\n"
          ],
          "name": "stdout"
        }
      ]
    },
    {
      "cell_type": "markdown",
      "metadata": {
        "id": "ZKMC6nN09dnV"
      },
      "source": [
        "Grafik perkembangan pasien yang terkonfirmasi COVID-19 dari januari sampai april, pasien yang positif semakin meningkat "
      ]
    },
    {
      "cell_type": "code",
      "metadata": {
        "id": "xoIXn0gZeKcm",
        "outputId": "057bfe46-572f-4845-b2a1-9537dac015d5",
        "colab": {
          "base_uri": "https://localhost:8080/",
          "height": 495
        }
      },
      "source": [
        "plt.figure(figsize=(15, 5))\n",
        "sns.barplot(x = datewise.index.date, y = datewise[\"Confirmed\"] - datewise[\"Recovered\"] - datewise[\"Deaths\"])\n",
        "plt.title(\"Distribution plot for active cases\")\n",
        "plt.xticks(rotation = 90)"
      ],
      "execution_count": 34,
      "outputs": [
        {
          "output_type": "execute_result",
          "data": {
            "text/plain": [
              "(array([ 0,  1,  2,  3,  4,  5,  6,  7,  8,  9, 10, 11, 12, 13, 14, 15, 16,\n",
              "        17, 18, 19, 20, 21, 22, 23, 24, 25, 26, 27, 28, 29, 30, 31, 32, 33,\n",
              "        34, 35, 36, 37, 38, 39, 40, 41, 42, 43, 44, 45, 46, 47, 48, 49, 50,\n",
              "        51, 52, 53, 54, 55, 56, 57, 58, 59, 60, 61, 62, 63, 64, 65, 66, 67,\n",
              "        68, 69, 70, 71, 72, 73, 74, 75, 76, 77]),\n",
              " <a list of 78 Text major ticklabel objects>)"
            ]
          },
          "metadata": {
            "tags": []
          },
          "execution_count": 34
        },
        {
          "output_type": "display_data",
          "data": {
            "image/png": "[encoded data removed]",
            "text/plain": [
              "<Figure size 1080x360 with 1 Axes>"
            ]
          },
          "metadata": {
            "tags": [],
            "needs_background": "light"
          }
        }
      ]
    },
    {
      "cell_type": "code",
      "metadata": {
        "id": "6wvqir2neKdA",
        "outputId": "1379f77c-2c8d-4fa3-c48f-2aa392d47c73",
        "colab": {
          "base_uri": "https://localhost:8080/",
          "height": 495
        }
      },
      "source": [
        "plt.figure(figsize=(15, 5))\n",
        "sns.barplot(x = datewise.index.date, y = datewise[\"Recovered\"] + datewise[\"Deaths\"])\n",
        "plt.title(\"Distribution plot for closed cases\")\n",
        "plt.xticks(rotation = 90)"
      ],
      "execution_count": 10,
      "outputs": [
        {
          "output_type": "execute_result",
          "data": {
            "text/plain": [
              "(array([ 0,  1,  2,  3,  4,  5,  6,  7,  8,  9, 10, 11, 12, 13, 14, 15, 16,\n",
              "        17, 18, 19, 20, 21, 22, 23, 24, 25, 26, 27, 28, 29, 30, 31, 32, 33,\n",
              "        34, 35, 36, 37, 38, 39, 40, 41, 42, 43, 44, 45, 46, 47, 48, 49, 50,\n",
              "        51, 52, 53, 54, 55, 56, 57, 58, 59, 60, 61, 62, 63, 64, 65, 66, 67,\n",
              "        68, 69, 70, 71, 72, 73, 74, 75, 76, 77]),\n",
              " <a list of 78 Text major ticklabel objects>)"
            ]
          },
          "metadata": {
            "tags": []
          },
          "execution_count": 10
        },
        {
          "output_type": "display_data",
          "data": {
            "image/png": "[encoded data removed]",
            "text/plain": [
              "<Figure size 1080x360 with 1 Axes>"
            ]
          },
          "metadata": {
            "tags": [],
            "needs_background": "light"
          }
        }
      ]
    },
    {
      "cell_type": "markdown",
      "metadata": {
        "id": "vkkq3Eb6-O3U"
      },
      "source": [
        ""
      ]
    },
    {
      "cell_type": "code",
      "metadata": {
        "id": "f5DaKbRqeKdV",
        "outputId": "eba67d2a-f489-4bb6-a2a6-aac39599190b",
        "colab": {
          "base_uri": "https://localhost:8080/",
          "height": 425
        }
      },
      "source": [
        "datewise[\"WeekofYear\"] = datewise.index.weekofyear\n",
        "week_num = []\n",
        "weekwise_confirmed = []\n",
        "weekwise_recovered = []\n",
        "weekwise_deaths = []\n",
        "w = 1\n",
        "for i in list(datewise[\"WeekofYear\"].unique()):\n",
        "    weekwise_confirmed.append(datewise[datewise[\"WeekofYear\"] == i][\"Confirmed\"].iloc[-1])\n",
        "    weekwise_recovered.append(datewise[datewise[\"WeekofYear\"] == i][\"Recovered\"].iloc[-1])\n",
        "    weekwise_deaths.append(datewise[datewise[\"WeekofYear\"] == i][\"Deaths\"].iloc[-1])\n",
        "    week_num.append(w)\n",
        "    w += 1\n",
        "plt.figure(figsize = (8,5))\n",
        "plt.plot(week_num, weekwise_confirmed, linewidth = 3)\n",
        "plt.plot(week_num, weekwise_recovered, linewidth = 3)\n",
        "plt.plot(week_num, weekwise_deaths, linewidth = 3)\n",
        "plt.xlabel(\"Week number\")\n",
        "plt.ylabel(\"Number of cases\")\n",
        "plt.title(\"Weekly Progress of different types of cases\")"
      ],
      "execution_count": 11,
      "outputs": [
        {
          "output_type": "stream",
          "text": [
            "/usr/local/lib/python3.6/dist-packages/ipykernel_launcher.py:1: FutureWarning: weekofyear and week have been deprecated, please use DatetimeIndex.isocalendar().week instead, which returns a Series.  To exactly reproduce the behavior of week and weekofyear and return an Index, you may call pd.Int64Index(idx.isocalendar().week)\n",
            "  \"\"\"Entry point for launching an IPython kernel.\n"
          ],
          "name": "stderr"
        },
        {
          "output_type": "execute_result",
          "data": {
            "text/plain": [
              "Text(0.5, 1.0, 'Weekly Progress of different types of cases')"
            ]
          },
          "metadata": {
            "tags": []
          },
          "execution_count": 11
        },
        {
          "output_type": "display_data",
          "data": {
            "image/png": "[encoded data removed]",
            "text/plain": [
              "<Figure size 576x360 with 1 Axes>"
            ]
          },
          "metadata": {
            "tags": [],
            "needs_background": "light"
          }
        }
      ]
    },
    {
      "cell_type": "markdown",
      "metadata": {
        "id": "Jo1mhTYi-lyD"
      },
      "source": [
        "Dari grafik di atas dan di bawah dapat ilihat bahwa pasien yang terjangkit semakin meningkat dengan di tandai garis biru, sedangkan pada garis orange pasien yang sembug juga mulai meningkat, dan pada garis hijau adalah pasien yang meninggal relatif datar."
      ]
    },
    {
      "cell_type": "code",
      "metadata": {
        "id": "qivHZgTDeKdr",
        "outputId": "af43fc90-8f48-4364-8971-123945e65124",
        "colab": {
          "base_uri": "https://localhost:8080/",
          "height": 507
        }
      },
      "source": [
        "plt.figure(figsize = (15, 6))\n",
        "plt.plot(datewise[\"Confirmed\"].diff().fillna(0), label = \"Daily increase in confirmed cases\", linewidth = 3)\n",
        "plt.plot(datewise[\"Recovered\"].diff().fillna(0), label = \"Daily increase in recovered cases\", linewidth = 3)\n",
        "plt.plot(datewise[\"Deaths\"].diff().fillna(0), label = \"Daily increase in death cases\", linewidth = 3)\n",
        "plt.xlabel(\"TimeStamp\")\n",
        "plt.ylabel(\"Daily Increment\")\n",
        "plt.title(\"Daily Increase\")\n",
        "plt.xticks(rotation = 90)\n",
        "plt.legend()\n",
        "\n",
        "print(\"Average increase in number of confirmed cases everyday: \", np.round(datewise[\"Confirmed\"].diff().fillna(0).mean()))\n",
        "print(\"Average increase in number of recovered cases everyday: \", np.round(datewise[\"Recovered\"].diff().fillna(0).mean()))\n",
        "print(\"Average increase in number of death cases everyday: \", np.round(datewise[\"Deaths\"].diff().fillna(0).mean()))"
      ],
      "execution_count": 12,
      "outputs": [
        {
          "output_type": "stream",
          "text": [
            "Average increase in number of confirmed cases everyday:  19366.0\n",
            "Average increase in number of recovered cases everyday:  4213.0\n",
            "Average increase in number of death cases everyday:  1132.0\n"
          ],
          "name": "stdout"
        },
        {
          "output_type": "display_data",
          "data": {
            "image/png": "[encoded data removed]",
            "text/plain": [
              "<Figure size 1080x432 with 1 Axes>"
            ]
          },
          "metadata": {
            "tags": [],
            "needs_background": "light"
          }
        }
      ]
    },
    {
      "cell_type": "code",
      "metadata": {
        "id": "jWMa7jiFeKex"
      },
      "source": [
        "# Calculating country wise mortality rate\n",
        "\n",
        "countrywise = covid[covid[\"ObservationDate\"] == covid[\"ObservationDate\"].max()].groupby([\"Country/Region\"]).agg({\"Confirmed\":\"sum\",\"Recovered\":\"sum\",\"Deaths\":\"sum\"}).sort_values([\"Confirmed\"],ascending = False)\n",
        "countrywise[\"Mortality\"] = (countrywise[\"Deaths\"] / countrywise[\"Confirmed\"]) * 100\n",
        "countrywise[\"Recovery\"] = (countrywise[\"Recovered\"] / countrywise[\"Confirmed\"]) * 100"
      ],
      "execution_count": 13,
      "outputs": []
    },
    {
      "cell_type": "markdown",
      "metadata": {
        "id": "Bhw4-y87_bwQ"
      },
      "source": [
        "pada bulan april negara yang penduduknya paling banyak terjangkit adalah amerika dan di ikuti oleh spanyol di posisi kedua. sedangkan kasus kematian terbanyak di tempati oleh italia."
      ]
    },
    {
      "cell_type": "code",
      "metadata": {
        "id": "JzkwM74GeKfI",
        "outputId": "95f2a292-8959-4f15-a94d-a1c67f7f936e",
        "colab": {
          "base_uri": "https://localhost:8080/",
          "height": 469
        }
      },
      "source": [
        "fig, (ax1, ax2) = plt.subplots(1, 2, figsize = (25, 10))\n",
        "top_15confirmed = countrywise.sort_values([\"Confirmed\"], ascending = False).head(15)\n",
        "top_15deaths = countrywise.sort_values([\"Deaths\"], ascending = False).head(15)\n",
        "sns.barplot(x = top_15confirmed[\"Confirmed\"], y = top_15confirmed.index, ax = ax1)\n",
        "ax1.set_title(\"Top 15 countries as per number of confirmed cases\")\n",
        "sns.barplot(x = top_15deaths[\"Deaths\"], y = top_15deaths.index, ax = ax2)\n",
        "ax2.set_title(\"Top 15 countries as per number of death cases\")"
      ],
      "execution_count": 14,
      "outputs": [
        {
          "output_type": "execute_result",
          "data": {
            "text/plain": [
              "Text(0.5, 1.0, 'Top 15 countries as per number of death cases')"
            ]
          },
          "metadata": {
            "tags": []
          },
          "execution_count": 14
        },
        {
          "output_type": "display_data",
          "data": {
            "image/png": "[encoded data removed]",
            "text/plain": [
              "<Figure size 1800x720 with 2 Axes>"
            ]
          },
          "metadata": {
            "tags": [],
            "needs_background": "light"
          }
        }
      ]
    },
    {
      "cell_type": "markdown",
      "metadata": {
        "id": "j5kONV4F_9Ln"
      },
      "source": [
        "kasus pada negara india terkonfirmasi 5232"
      ]
    },
    {
      "cell_type": "code",
      "metadata": {
        "id": "w433BREueKfd",
        "outputId": "beca17bc-a93b-4c20-bcd7-931a8a7d8e20",
        "colab": {
          "base_uri": "https://localhost:8080/",
          "height": 165
        }
      },
      "source": [
        "india_data = covid[covid[\"Country/Region\"] == \"India\"]\n",
        "datewise_india = india_data.groupby([\"ObservationDate\"]).agg({\"Confirmed\":\"sum\",\"Recovered\":\"sum\",\"Deaths\":\"sum\"})\n",
        "print(datewise_india.iloc[-1])\n",
        "print(\"\\nTotal Active Cases in India: \", datewise_india[\"Confirmed\"].iloc[-1] - datewise_india[\"Recovered\"].iloc[-1] - datewise_india[\"Deaths\"].iloc[-1])\n",
        "print(\"\\nTotal number of closed cases in India: \", datewise_india[\"Recovered\"].iloc[-1] + datewise_india[\"Deaths\"].iloc[-1])"
      ],
      "execution_count": 15,
      "outputs": [
        {
          "output_type": "stream",
          "text": [
            "Confirmed    5916.0\n",
            "Recovered     506.0\n",
            "Deaths        178.0\n",
            "Name: 2020-04-08 00:00:00, dtype: float64\n",
            "\n",
            "Total Active Cases in India:  5232.0\n",
            "\n",
            "Total number of closed cases in India:  684.0\n"
          ],
          "name": "stdout"
        }
      ]
    },
    {
      "cell_type": "markdown",
      "metadata": {
        "id": "IFHcE3N3APhD"
      },
      "source": [
        "pada negara india penduduk yang terkonfirmasi positif meningkat drastis, sedangkan pasien yang sembuh masih sangat sedikit, begitu pula kasus kematian yang masih relatif datar tidak meningkat."
      ]
    },
    {
      "cell_type": "code",
      "metadata": {
        "id": "ReZadcHweKfx",
        "outputId": "73ee9702-e6e4-4cc8-e764-a1be6829fe2e",
        "colab": {
          "base_uri": "https://localhost:8080/",
          "height": 425
        }
      },
      "source": [
        "datewise_india[\"WeekofYear\"] = datewise_india.index.weekofyear\n",
        "week_num_india = []\n",
        "india_weekwise_confirmed = []\n",
        "india_weekwise_recovered = []\n",
        "india_weekwise_deaths = []\n",
        "w = 1\n",
        "for i in list(datewise_india[\"WeekofYear\"].unique()):\n",
        "    india_weekwise_confirmed.append(datewise_india[datewise_india[\"WeekofYear\"] == i][\"Confirmed\"].iloc[-1])\n",
        "    india_weekwise_recovered.append(datewise_india[datewise_india[\"WeekofYear\"] == i][\"Recovered\"].iloc[-1])\n",
        "    india_weekwise_deaths.append(datewise_india[datewise_india[\"WeekofYear\"] == i][\"Deaths\"].iloc[-1])\n",
        "    week_num_india.append(w)\n",
        "    w += 1\n",
        "plt.figure(figsize = (8,5))\n",
        "plt.plot(week_num_india, india_weekwise_confirmed, linewidth = 3)\n",
        "plt.plot(week_num_india, india_weekwise_recovered, linewidth = 3)\n",
        "plt.plot(week_num_india, india_weekwise_deaths, linewidth = 3)\n",
        "plt.xlabel(\"Week number\")\n",
        "plt.ylabel(\"Number of cases in India\")\n",
        "plt.title(\"Weekly Progress of different types of cases in India\")"
      ],
      "execution_count": 17,
      "outputs": [
        {
          "output_type": "stream",
          "text": [
            "/usr/local/lib/python3.6/dist-packages/ipykernel_launcher.py:1: FutureWarning: weekofyear and week have been deprecated, please use DatetimeIndex.isocalendar().week instead, which returns a Series.  To exactly reproduce the behavior of week and weekofyear and return an Index, you may call pd.Int64Index(idx.isocalendar().week)\n",
            "  \"\"\"Entry point for launching an IPython kernel.\n"
          ],
          "name": "stderr"
        },
        {
          "output_type": "execute_result",
          "data": {
            "text/plain": [
              "Text(0.5, 1.0, 'Weekly Progress of different types of cases in India')"
            ]
          },
          "metadata": {
            "tags": []
          },
          "execution_count": 17
        },
        {
          "output_type": "display_data",
          "data": {
            "image/png": "[encoded data removed]",
            "text/plain": [
              "<Figure size 576x360 with 1 Axes>"
            ]
          },
          "metadata": {
            "tags": [],
            "needs_background": "light"
          }
        }
      ]
    },
    {
      "cell_type": "markdown",
      "metadata": {
        "id": "vnWCIKBEgr0f"
      },
      "source": [
        ""
      ]
    },
    {
      "cell_type": "code",
      "metadata": {
        "id": "aEpEE2PgeKgF",
        "outputId": "2adae501-16c3-44ae-a443-d2ba96893340",
        "colab": {
          "base_uri": "https://localhost:8080/",
          "height": 109
        }
      },
      "source": [
        "max_ind = datewise_india[\"Confirmed\"].max()\n",
        "china_data = covid[covid[\"Country/Region\"] == \"Mainland China\"]\n",
        "italy_data = covid[covid[\"Country/Region\"] == \"Italy\"]\n",
        "us_data = covid[covid[\"Country/Region\"] == \"US\"]\n",
        "spain_data = covid[covid[\"Country/Region\"] == \"Spain\"]\n",
        "datewise_china = china_data.groupby([\"ObservationDate\"]).agg({\"Confirmed\": \"sum\", \"Recovered\": \"sum\", \"Deaths\": \"sum\"})\n",
        "datewise_italy = italy_data.groupby([\"ObservationDate\"]).agg({\"Confirmed\": \"sum\", \"Recovered\": \"sum\", \"Deaths\": \"sum\"})\n",
        "datewise_us = us_data.groupby([\"ObservationDate\"]).agg({\"Confirmed\": \"sum\", \"Recovered\": \"sum\", \"Deaths\": \"sum\"})\n",
        "datewise_spain = spain_data.groupby([\"ObservationDate\"]).agg({\"Confirmed\": \"sum\", \"Recovered\": \"sum\", \"Deaths\": \"sum\"})\n",
        "print(\"It took \", datewise_india[datewise_india[\"Confirmed\"] > 0].shape[0], \" days in India to reach \", max_ind, \" confirmed cases\")\n",
        "print(\"It took \", datewise_china[(datewise_china[\"Confirmed\"] > 0) & (datewise_china[\"Confirmed\"] <= max_ind)].shape[0], \" days in China to reach no. of confirmed cases to India\")\n",
        "print(\"It took \", datewise_italy[(datewise_italy[\"Confirmed\"] > 0) & (datewise_italy[\"Confirmed\"] <= max_ind)].shape[0], \" days in Italy to reach no. of confirmed cases to India\")\n",
        "print(\"It took \", datewise_us[(datewise_us[\"Confirmed\"] > 0) & (datewise_us[\"Confirmed\"] <= max_ind)].shape[0], \" days in US to reach no. of confirmed cases to India\")\n",
        "print(\"It took \", datewise_spain[(datewise_spain[\"Confirmed\"] > 0) & (datewise_spain[\"Confirmed\"] <= max_ind)].shape[0], \" days in Spain to reach no. of confirmed cases to India\")"
      ],
      "execution_count": 35,
      "outputs": [
        {
          "output_type": "stream",
          "text": [
            "It took  70  days in India to reach  5916.0  confirmed cases\n",
            "It took  7  days in China to reach no. of confirmed cases to India\n",
            "It took  37  days in Italy to reach no. of confirmed cases to India\n",
            "It took  55  days in US to reach no. of confirmed cases to India\n",
            "It took  42  days in Spain to reach no. of confirmed cases to India\n"
          ],
          "name": "stdout"
        }
      ]
    },
    {
      "cell_type": "code",
      "metadata": {
        "id": "70B4Mr46eKgc"
      },
      "source": [
        "datewise[\"Days Since\"] = datewise.index - datewise.index[0]\n",
        "datewise[\"Days Since\"] = datewise[\"Days Since\"].dt.days\n",
        "train_ml = datewise.iloc[:int(datewise.shape[0]*0.90)]\n",
        "valid_ml = datewise.iloc[:int(datewise.shape[0]*0.90)]\n",
        "model_score = []"
      ],
      "execution_count": 19,
      "outputs": []
    },
    {
      "cell_type": "code",
      "metadata": {
        "id": "RmTzhZ5ueKgx",
        "outputId": "e557150f-5053-4eb9-fcd3-efe9df877074",
        "colab": {
          "base_uri": "https://localhost:8080/",
          "height": 111
        }
      },
      "source": [
        "lin_reg = LinearRegression(normalize = True)\n",
        "svm = SVR(C = 1, degree = 6, kernel = \"poly\",  epsilon = 0.01)\n",
        "lin_reg.fit(np.array(train_ml[\"Days Since\"]).reshape(-1, 1), np.array(train_ml[\"Confirmed\"]).reshape(-1, 1))\n",
        "svm.fit(np.array(train_ml[\"Days Since\"]).reshape(-1, 1), np.array(train_ml[\"Confirmed\"]).reshape(-1, 1))"
      ],
      "execution_count": 20,
      "outputs": [
        {
          "output_type": "stream",
          "text": [
            "/usr/local/lib/python3.6/dist-packages/sklearn/utils/validation.py:760: DataConversionWarning: A column-vector y was passed when a 1d array was expected. Please change the shape of y to (n_samples, ), for example using ravel().\n",
            "  y = column_or_1d(y, warn=True)\n"
          ],
          "name": "stderr"
        },
        {
          "output_type": "execute_result",
          "data": {
            "text/plain": [
              "SVR(C=1, cache_size=200, coef0=0.0, degree=6, epsilon=0.01, gamma='scale',\n",
              "    kernel='poly', max_iter=-1, shrinking=True, tol=0.001, verbose=False)"
            ]
          },
          "metadata": {
            "tags": []
          },
          "execution_count": 20
        }
      ]
    },
    {
      "cell_type": "markdown",
      "metadata": {
        "id": "qQdgQlLkDDh0"
      },
      "source": [
        "# **Prediksi case yag terkonfimasi**"
      ]
    },
    {
      "cell_type": "code",
      "metadata": {
        "id": "Y5DcWrlreKhI"
      },
      "source": [
        "prediction_valid_lin_reg = lin_reg.predict(np.array(valid_ml[\"Days Since\"]).reshape(-1, 1))\n",
        "prediction_valid_svm = svm.predict(np.array(valid_ml[\"Days Since\"]).reshape(-1, 1))"
      ],
      "execution_count": 21,
      "outputs": []
    },
    {
      "cell_type": "code",
      "metadata": {
        "id": "nLJKJF2xeKh5",
        "outputId": "93e725a6-bb30-481d-a6e8-87a8605c30ae",
        "colab": {
          "base_uri": "https://localhost:8080/",
          "height": 363
        }
      },
      "source": [
        "new_date = []\n",
        "new_prediction_lr = []\n",
        "new_prediction_svm = []\n",
        "for i in range(1, 18):\n",
        "    new_date.append(datewise.index[-1] + timedelta(days = i))\n",
        "    new_prediction_lr.append(lin_reg.predict(np.array(datewise[\"Days Since\"].max()+i).reshape(-1, 1))[0][0])\n",
        "    new_prediction_svm.append(svm.predict(np.array(datewise[\"Days Since\"].max()+i).reshape(-1, 1))[0])\n",
        "pd.set_option(\"Display.float_format\", lambda x: '%.f' %x)\n",
        "model_predictions = pd.DataFrame(zip(new_date, new_prediction_lr, new_prediction_svm), columns = [\"Dates\", \"Linear Regression\", \"SVM Prediction\"])\n",
        "model_predictions.head(10)"
      ],
      "execution_count": 22,
      "outputs": [
        {
          "output_type": "execute_result",
          "data": {
            "text/html": [
              "<div>\n",
              "<style scoped>\n",
              "    .dataframe tbody tr th:only-of-type {\n",
              "        vertical-align: middle;\n",
              "    }\n",
              "\n",
              "    .dataframe tbody tr th {\n",
              "        vertical-align: top;\n",
              "    }\n",
              "\n",
              "    .dataframe thead th {\n",
              "        text-align: right;\n",
              "    }\n",
              "</style>\n",
              "<table border=\"1\" class=\"dataframe\">\n",
              "  <thead>\n",
              "    <tr style=\"text-align: right;\">\n",
              "      <th></th>\n",
              "      <th>Dates</th>\n",
              "      <th>Linear Regression</th>\n",
              "      <th>SVM Prediction</th>\n",
              "    </tr>\n",
              "  </thead>\n",
              "  <tbody>\n",
              "    <tr>\n",
              "      <th>0</th>\n",
              "      <td>2020-04-09</td>\n",
              "      <td>481900</td>\n",
              "      <td>1651382</td>\n",
              "    </tr>\n",
              "    <tr>\n",
              "      <th>1</th>\n",
              "      <td>2020-04-10</td>\n",
              "      <td>489496</td>\n",
              "      <td>1779618</td>\n",
              "    </tr>\n",
              "    <tr>\n",
              "      <th>2</th>\n",
              "      <td>2020-04-11</td>\n",
              "      <td>497091</td>\n",
              "      <td>1916232</td>\n",
              "    </tr>\n",
              "    <tr>\n",
              "      <th>3</th>\n",
              "      <td>2020-04-12</td>\n",
              "      <td>504686</td>\n",
              "      <td>2061657</td>\n",
              "    </tr>\n",
              "    <tr>\n",
              "      <th>4</th>\n",
              "      <td>2020-04-13</td>\n",
              "      <td>512282</td>\n",
              "      <td>2216342</td>\n",
              "    </tr>\n",
              "    <tr>\n",
              "      <th>5</th>\n",
              "      <td>2020-04-14</td>\n",
              "      <td>519877</td>\n",
              "      <td>2380751</td>\n",
              "    </tr>\n",
              "    <tr>\n",
              "      <th>6</th>\n",
              "      <td>2020-04-15</td>\n",
              "      <td>527472</td>\n",
              "      <td>2555369</td>\n",
              "    </tr>\n",
              "    <tr>\n",
              "      <th>7</th>\n",
              "      <td>2020-04-16</td>\n",
              "      <td>535068</td>\n",
              "      <td>2740696</td>\n",
              "    </tr>\n",
              "    <tr>\n",
              "      <th>8</th>\n",
              "      <td>2020-04-17</td>\n",
              "      <td>542663</td>\n",
              "      <td>2937251</td>\n",
              "    </tr>\n",
              "    <tr>\n",
              "      <th>9</th>\n",
              "      <td>2020-04-18</td>\n",
              "      <td>550258</td>\n",
              "      <td>3145571</td>\n",
              "    </tr>\n",
              "  </tbody>\n",
              "</table>\n",
              "</div>"
            ],
            "text/plain": [
              "       Dates  Linear Regression  SVM Prediction\n",
              "0 2020-04-09             481900         1651382\n",
              "1 2020-04-10             489496         1779618\n",
              "2 2020-04-11             497091         1916232\n",
              "3 2020-04-12             504686         2061657\n",
              "4 2020-04-13             512282         2216342\n",
              "5 2020-04-14             519877         2380751\n",
              "6 2020-04-15             527472         2555369\n",
              "7 2020-04-16             535068         2740696\n",
              "8 2020-04-17             542663         2937251\n",
              "9 2020-04-18             550258         3145571"
            ]
          },
          "metadata": {
            "tags": []
          },
          "execution_count": 22
        }
      ]
    },
    {
      "cell_type": "markdown",
      "metadata": {
        "id": "LP_9uOJZDW2j"
      },
      "source": [
        ""
      ]
    }
  ]
}