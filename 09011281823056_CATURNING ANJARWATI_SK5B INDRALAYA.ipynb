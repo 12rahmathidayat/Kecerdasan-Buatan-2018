{
 "cells": [
  {
   "cell_type": "code",
   "execution_count": 1,
   "metadata": {
    "_cell_guid": "b1076dfc-b9ad-4769-8c92-a6c4dae69d19",
    "_uuid": "8f2839f25d086af736a60e9eeb907d3b93b6e0e5"
   },
   "outputs": [
    {
     "name": "stdout",
     "output_type": "stream",
     "text": [
      "/kaggle/input/titanic/train.csv\n",
      "/kaggle/input/titanic/gender_submission.csv\n",
      "/kaggle/input/titanic/test.csv\n"
     ]
    }
   ],
   "source": [
    "# This Python 3 environment comes with many helpful analytics libraries installed\n",
    "# It is defined by the kaggle/python Docker image: https://github.com/kaggle/docker-python\n",
    "# For example, here's several helpful packages to load\n",
    "\n",
    "import numpy as np # linear algebra\n",
    "import pandas as pd # data processing, CSV file I/O (e.g. pd.read_csv)\n",
    "\n",
    "# Input data files are available in the read-only \"../input/\" directory\n",
    "# For example, running this (by clicking run or pressing Shift+Enter) will list all files under the input directory\n",
    "\n",
    "import os\n",
    "for dirname, _, filenames in os.walk('/kaggle/input'):\n",
    "    for filename in filenames:\n",
    "        print(os.path.join(dirname, filename))\n",
    "\n",
    "# You can write up to 5GB to the current directory (/kaggle/working/) that gets preserved as output when you create a version using \"Save & Run All\" \n",
    "# You can also write temporary files to /kaggle/temp/, but they won't be saved outside of the current session"
   ]
  },
  {
   "cell_type": "code",
   "execution_count": 2,
   "metadata": {
    "_cell_guid": "79c7e3d0-c299-4dcb-8224-4455121ee9b0",
    "_uuid": "d629ff2d2480ee46fbb7e2d37f6b5fab8052498a"
   },
   "outputs": [
    {
     "data": {
      "text/html": [
       "<div>\n",
       "<style scoped>\n",
       "    .dataframe tbody tr th:only-of-type {\n",
       "        vertical-align: middle;\n",
       "    }\n",
       "\n",
       "    .dataframe tbody tr th {\n",
       "        vertical-align: top;\n",
       "    }\n",
       "\n",
       "    .dataframe thead th {\n",
       "        text-align: right;\n",
       "    }\n",
       "</style>\n",
       "<table border=\"1\" class=\"dataframe\">\n",
       "  <thead>\n",
       "    <tr style=\"text-align: right;\">\n",
       "      <th></th>\n",
       "      <th>PassengerId</th>\n",
       "      <th>Survived</th>\n",
       "      <th>Pclass</th>\n",
       "      <th>Name</th>\n",
       "      <th>Sex</th>\n",
       "      <th>Age</th>\n",
       "      <th>SibSp</th>\n",
       "      <th>Parch</th>\n",
       "      <th>Ticket</th>\n",
       "      <th>Fare</th>\n",
       "      <th>Cabin</th>\n",
       "      <th>Embarked</th>\n",
       "    </tr>\n",
       "  </thead>\n",
       "  <tbody>\n",
       "    <tr>\n",
       "      <th>0</th>\n",
       "      <td>1</td>\n",
       "      <td>0</td>\n",
       "      <td>3</td>\n",
       "      <td>Braund, Mr. Owen Harris</td>\n",
       "      <td>male</td>\n",
       "      <td>22.0</td>\n",
       "      <td>1</td>\n",
       "      <td>0</td>\n",
       "      <td>A/5 21171</td>\n",
       "      <td>7.2500</td>\n",
       "      <td>NaN</td>\n",
       "      <td>S</td>\n",
       "    </tr>\n",
       "    <tr>\n",
       "      <th>1</th>\n",
       "      <td>2</td>\n",
       "      <td>1</td>\n",
       "      <td>1</td>\n",
       "      <td>Cumings, Mrs. John Bradley (Florence Briggs Th...</td>\n",
       "      <td>female</td>\n",
       "      <td>38.0</td>\n",
       "      <td>1</td>\n",
       "      <td>0</td>\n",
       "      <td>PC 17599</td>\n",
       "      <td>71.2833</td>\n",
       "      <td>C85</td>\n",
       "      <td>C</td>\n",
       "    </tr>\n",
       "    <tr>\n",
       "      <th>2</th>\n",
       "      <td>3</td>\n",
       "      <td>1</td>\n",
       "      <td>3</td>\n",
       "      <td>Heikkinen, Miss. Laina</td>\n",
       "      <td>female</td>\n",
       "      <td>26.0</td>\n",
       "      <td>0</td>\n",
       "      <td>0</td>\n",
       "      <td>STON/O2. 3101282</td>\n",
       "      <td>7.9250</td>\n",
       "      <td>NaN</td>\n",
       "      <td>S</td>\n",
       "    </tr>\n",
       "    <tr>\n",
       "      <th>3</th>\n",
       "      <td>4</td>\n",
       "      <td>1</td>\n",
       "      <td>1</td>\n",
       "      <td>Futrelle, Mrs. Jacques Heath (Lily May Peel)</td>\n",
       "      <td>female</td>\n",
       "      <td>35.0</td>\n",
       "      <td>1</td>\n",
       "      <td>0</td>\n",
       "      <td>113803</td>\n",
       "      <td>53.1000</td>\n",
       "      <td>C123</td>\n",
       "      <td>S</td>\n",
       "    </tr>\n",
       "    <tr>\n",
       "      <th>4</th>\n",
       "      <td>5</td>\n",
       "      <td>0</td>\n",
       "      <td>3</td>\n",
       "      <td>Allen, Mr. William Henry</td>\n",
       "      <td>male</td>\n",
       "      <td>35.0</td>\n",
       "      <td>0</td>\n",
       "      <td>0</td>\n",
       "      <td>373450</td>\n",
       "      <td>8.0500</td>\n",
       "      <td>NaN</td>\n",
       "      <td>S</td>\n",
       "    </tr>\n",
       "  </tbody>\n",
       "</table>\n",
       "</div>"
      ],
      "text/plain": [
       "   PassengerId  Survived  Pclass  \\\n",
       "0            1         0       3   \n",
       "1            2         1       1   \n",
       "2            3         1       3   \n",
       "3            4         1       1   \n",
       "4            5         0       3   \n",
       "\n",
       "                                                Name     Sex   Age  SibSp  \\\n",
       "0                            Braund, Mr. Owen Harris    male  22.0      1   \n",
       "1  Cumings, Mrs. John Bradley (Florence Briggs Th...  female  38.0      1   \n",
       "2                             Heikkinen, Miss. Laina  female  26.0      0   \n",
       "3       Futrelle, Mrs. Jacques Heath (Lily May Peel)  female  35.0      1   \n",
       "4                           Allen, Mr. William Henry    male  35.0      0   \n",
       "\n",
       "   Parch            Ticket     Fare Cabin Embarked  \n",
       "0      0         A/5 21171   7.2500   NaN        S  \n",
       "1      0          PC 17599  71.2833   C85        C  \n",
       "2      0  STON/O2. 3101282   7.9250   NaN        S  \n",
       "3      0            113803  53.1000  C123        S  \n",
       "4      0            373450   8.0500   NaN        S  "
      ]
     },
     "execution_count": 2,
     "metadata": {},
     "output_type": "execute_result"
    }
   ],
   "source": [
    "train=pd.read_csv('/kaggle/input/titanic/train.csv')\n",
    "train.head()"
   ]
  },
  {
   "cell_type": "markdown",
   "metadata": {},
   "source": [
    "Droping unnessary features from the dataset."
   ]
  },
  {
   "cell_type": "code",
   "execution_count": 3,
   "metadata": {},
   "outputs": [],
   "source": [
    "train.drop(['PassengerId','Name','Ticket'],axis=1,inplace=True)"
   ]
  },
  {
   "cell_type": "markdown",
   "metadata": {},
   "source": [
    "# Null values"
   ]
  },
  {
   "cell_type": "code",
   "execution_count": 4,
   "metadata": {},
   "outputs": [
    {
     "data": {
      "text/plain": [
       "Survived      0\n",
       "Pclass        0\n",
       "Sex           0\n",
       "Age         177\n",
       "SibSp         0\n",
       "Parch         0\n",
       "Fare          0\n",
       "Cabin       687\n",
       "Embarked      2\n",
       "dtype: int64"
      ]
     },
     "execution_count": 4,
     "metadata": {},
     "output_type": "execute_result"
    }
   ],
   "source": [
    "train.isnull().sum()"
   ]
  },
  {
   "cell_type": "markdown",
   "metadata": {},
   "source": [
    "As shown above Age,Cabin and Embarked have missing values.Embarked is a categorical feature so replacing missing values with mode.For age we use median imputation and dropping cabin as it consists of several missing values."
   ]
  },
  {
   "cell_type": "code",
   "execution_count": 5,
   "metadata": {},
   "outputs": [
    {
     "data": {
      "text/plain": [
       "0"
      ]
     },
     "execution_count": 5,
     "metadata": {},
     "output_type": "execute_result"
    }
   ],
   "source": [
    "train['Embarked'].fillna(train['Embarked'].mode()[0],inplace=True)\n",
    "train['Age'].fillna(train['Age'].median(), inplace = True)\n",
    "train.drop(['Cabin'],axis=1,inplace=True)\n",
    "train.isnull().sum().sum()"
   ]
  },
  {
   "cell_type": "markdown",
   "metadata": {},
   "source": [
    "# Visualisations"
   ]
  },
  {
   "cell_type": "markdown",
   "metadata": {},
   "source": [
    "# Survived"
   ]
  },
  {
   "cell_type": "markdown",
   "metadata": {},
   "source": [
    "First visualising survived feature,as shown below most no of people are not survived."
   ]
  },
  {
   "cell_type": "code",
   "execution_count": 6,
   "metadata": {},
   "outputs": [
    {
     "data": {
      "text/plain": [
       "<matplotlib.axes._subplots.AxesSubplot at 0x7fb09675e1d0>"
      ]
     },
     "execution_count": 6,
     "metadata": {},
     "output_type": "execute_result"
    },
    {
     "data": {
      "image/png": "[encoded data removed]",
      "text/plain": [
       "<Figure size 432x288 with 1 Axes>"
      ]
     },
     "metadata": {
      "needs_background": "light"
     },
     "output_type": "display_data"
    }
   ],
   "source": [
    "import matplotlib.pyplot as plt\n",
    "import seaborn as sns\n",
    "sns.countplot(train['Survived'])"
   ]
  },
  {
   "cell_type": "markdown",
   "metadata": {},
   "source": [
    "# Embarked"
   ]
  },
  {
   "cell_type": "markdown",
   "metadata": {},
   "source": [
    "Now Embarked vs survived,as shown below most people are embarked from S,where as C has more survived people than not survived ones."
   ]
  },
  {
   "cell_type": "code",
   "execution_count": 7,
   "metadata": {},
   "outputs": [
    {
     "data": {
      "text/plain": [
       "<matplotlib.axes._subplots.AxesSubplot at 0x7fb0966c9c10>"
      ]
     },
     "execution_count": 7,
     "metadata": {},
     "output_type": "execute_result"
    },
    {
     "data": {
      "image/png": "[encoded data removed]",
      "text/plain": [
       "<Figure size 432x288 with 1 Axes>"
      ]
     },
     "metadata": {
      "needs_background": "light"
     },
     "output_type": "display_data"
    }
   ],
   "source": [
    "sns.countplot(x='Embarked',hue='Survived',data=train)"
   ]
  },
  {
   "cell_type": "markdown",
   "metadata": {},
   "source": [
    "# Sex"
   ]
  },
  {
   "cell_type": "markdown",
   "metadata": {},
   "source": [
    "As shown below females survived most than males."
   ]
  },
  {
   "cell_type": "code",
   "execution_count": 8,
   "metadata": {},
   "outputs": [
    {
     "data": {
      "text/plain": [
       "<matplotlib.axes._subplots.AxesSubplot at 0x7fb0945a7450>"
      ]
     },
     "execution_count": 8,
     "metadata": {},
     "output_type": "execute_result"
    },
    {
     "data": {
      "image/png": "[encoded data removed]",
      "text/plain": [
       "<Figure size 432x288 with 1 Axes>"
      ]
     },
     "metadata": {
      "needs_background": "light"
     },
     "output_type": "display_data"
    }
   ],
   "source": [
    "sns.countplot(x='Sex',hue='Survived',data=train)"
   ]
  },
  {
   "cell_type": "markdown",
   "metadata": {},
   "source": [
    "# Age"
   ]
  },
  {
   "cell_type": "markdown",
   "metadata": {},
   "source": [
    "Age is continuous faeture,so i used histogram for plotting.As shown below most people age is between 18 and 32."
   ]
  },
  {
   "cell_type": "code",
   "execution_count": 9,
   "metadata": {},
   "outputs": [
    {
     "data": {
      "text/plain": [
       "<matplotlib.axes._subplots.AxesSubplot at 0x7fb09454b7d0>"
      ]
     },
     "execution_count": 9,
     "metadata": {},
     "output_type": "execute_result"
    },
    {
     "data": {
      "image/png": "[encoded data removed]",
      "text/plain": [
       "<Figure size 432x288 with 1 Axes>"
      ]
     },
     "metadata": {
      "needs_background": "light"
     },
     "output_type": "display_data"
    }
   ],
   "source": [
    "train['Age'].hist()"
   ]
  },
  {
   "cell_type": "markdown",
   "metadata": {},
   "source": [
    "Age vs Survived.Below i used kde plot,as shown below most people not survived are b/w 20 and 40 years."
   ]
  },
  {
   "cell_type": "code",
   "execution_count": 10,
   "metadata": {},
   "outputs": [
    {
     "data": {
      "text/plain": [
       "<matplotlib.legend.Legend at 0x7fb09446a090>"
      ]
     },
     "execution_count": 10,
     "metadata": {},
     "output_type": "execute_result"
    },
    {
     "data": {
      "image/png": "[encoded data removed]",
      "text/plain": [
       "<Figure size 432x288 with 1 Axes>"
      ]
     },
     "metadata": {
      "needs_background": "light"
     },
     "output_type": "display_data"
    }
   ],
   "source": [
    "sns.kdeplot(train[train['Survived']==0]['Age'],shade=True)\n",
    "sns.kdeplot(train[train['Survived']==1]['Age'],shade=True)\n",
    "plt.legend(['Not S','S'])"
   ]
  },
  {
   "cell_type": "markdown",
   "metadata": {},
   "source": [
    "SibSp-Number of siblings/spouses,as shown below most people has zero sibsp."
   ]
  },
  {
   "cell_type": "markdown",
   "metadata": {},
   "source": [
    "# SibSp"
   ]
  },
  {
   "cell_type": "code",
   "execution_count": 11,
   "metadata": {},
   "outputs": [
    {
     "data": {
      "text/plain": [
       "<matplotlib.axes._subplots.AxesSubplot at 0x7fb09443cfd0>"
      ]
     },
     "execution_count": 11,
     "metadata": {},
     "output_type": "execute_result"
    },
    {
     "data": {
      "image/png": "[encoded data removed]",
      "text/plain": [
       "<Figure size 432x288 with 1 Axes>"
      ]
     },
     "metadata": {
      "needs_background": "light"
     },
     "output_type": "display_data"
    }
   ],
   "source": [
    "train['SibSp'].value_counts().plot(kind='bar')"
   ]
  },
  {
   "cell_type": "markdown",
   "metadata": {},
   "source": [
    "SibSp vs Survived.As shown below people having 1 or 2 sibsp are survived most."
   ]
  },
  {
   "cell_type": "code",
   "execution_count": 12,
   "metadata": {},
   "outputs": [
    {
     "data": {
      "text/plain": [
       "<matplotlib.axes._subplots.AxesSubplot at 0x7fb094372650>"
      ]
     },
     "execution_count": 12,
     "metadata": {},
     "output_type": "execute_result"
    },
    {
     "data": {
      "image/png": "[encoded data removed]",
      "text/plain": [
       "<Figure size 432x288 with 1 Axes>"
      ]
     },
     "metadata": {
      "needs_background": "light"
     },
     "output_type": "display_data"
    }
   ],
   "source": [
    "sns.barplot(train['SibSp'],y='Survived',data=train)"
   ]
  },
  {
   "cell_type": "markdown",
   "metadata": {},
   "source": [
    "Parch-no of parents/children,As shown below most of couples has zero children."
   ]
  },
  {
   "cell_type": "markdown",
   "metadata": {},
   "source": [
    "# Parch"
   ]
  },
  {
   "cell_type": "code",
   "execution_count": 13,
   "metadata": {},
   "outputs": [
    {
     "data": {
      "text/plain": [
       "<matplotlib.axes._subplots.AxesSubplot at 0x7fb094290790>"
      ]
     },
     "execution_count": 13,
     "metadata": {},
     "output_type": "execute_result"
    },
    {
     "data": {
      "image/png": "[encoded data removed]",
      "text/plain": [
       "<Figure size 432x288 with 1 Axes>"
      ]
     },
     "metadata": {
      "needs_background": "light"
     },
     "output_type": "display_data"
    }
   ],
   "source": [
    "train['Parch'].value_counts().plot(kind='bar')"
   ]
  },
  {
   "cell_type": "markdown",
   "metadata": {},
   "source": [
    "Parch vs Survived.As shown below people having 3 children survived the most."
   ]
  },
  {
   "cell_type": "code",
   "execution_count": 14,
   "metadata": {},
   "outputs": [
    {
     "data": {
      "text/plain": [
       "<matplotlib.axes._subplots.AxesSubplot at 0x7fb094280050>"
      ]
     },
     "execution_count": 14,
     "metadata": {},
     "output_type": "execute_result"
    },
    {
     "data": {
      "image/png": "[encoded data removed]",
      "text/plain": [
       "<Figure size 432x288 with 1 Axes>"
      ]
     },
     "metadata": {
      "needs_background": "light"
     },
     "output_type": "display_data"
    }
   ],
   "source": [
    "sns.barplot(x=train['Parch'],y='Survived',data=train)"
   ]
  },
  {
   "cell_type": "markdown",
   "metadata": {},
   "source": [
    "Fare-By using histogram we can see that fare is 0-50."
   ]
  },
  {
   "cell_type": "markdown",
   "metadata": {},
   "source": [
    "# Fare"
   ]
  },
  {
   "cell_type": "code",
   "execution_count": 15,
   "metadata": {},
   "outputs": [
    {
     "data": {
      "text/plain": [
       "<matplotlib.axes._subplots.AxesSubplot at 0x7fb0941fe410>"
      ]
     },
     "execution_count": 15,
     "metadata": {},
     "output_type": "execute_result"
    },
    {
     "data": {
      "image/png": "[encoded data removed]",
      "text/plain": [
       "<Figure size 432x288 with 1 Axes>"
      ]
     },
     "metadata": {
      "needs_background": "light"
     },
     "output_type": "display_data"
    }
   ],
   "source": [
    "train['Fare'].hist()"
   ]
  },
  {
   "cell_type": "markdown",
   "metadata": {},
   "source": [
    "# Converting age and fare faetures into bins"
   ]
  },
  {
   "cell_type": "code",
   "execution_count": 16,
   "metadata": {},
   "outputs": [],
   "source": [
    "train['Age'].describe()\n",
    "def binning(x):\n",
    "    if x>=0 and x<22:\n",
    "        return 0\n",
    "    elif x>=22 and x<28:\n",
    "        return 1\n",
    "    elif x>=28 and x<35:\n",
    "        return 2\n",
    "    else:\n",
    "        return 3\n",
    "train['Age']=train['Age'].map(binning)   "
   ]
  },
  {
   "cell_type": "code",
   "execution_count": 17,
   "metadata": {},
   "outputs": [],
   "source": [
    "train['Fare']=train['Fare'].astype('int64')\n",
    "train['Fare'].describe()\n",
    "def bin(x):\n",
    "    if x>=0 and x<7:\n",
    "        return 0\n",
    "    elif x>=7 and x<14:\n",
    "        return 1\n",
    "    elif x>=14 and x<31:\n",
    "        return 2\n",
    "    else:\n",
    "        return 3\n",
    "train['Fare']=train['Fare'].map(bin)   "
   ]
  },
  {
   "cell_type": "markdown",
   "metadata": {},
   "source": [
    "# Encoding categorical features."
   ]
  },
  {
   "cell_type": "code",
   "execution_count": 18,
   "metadata": {},
   "outputs": [],
   "source": [
    "from sklearn.preprocessing import LabelEncoder\n",
    "lc=LabelEncoder()\n",
    "train['Sex']=lc.fit_transform(train['Sex'])\n",
    "train['Embarked']=lc.fit_transform(train['Embarked'])"
   ]
  },
  {
   "cell_type": "code",
   "execution_count": 19,
   "metadata": {},
   "outputs": [
    {
     "data": {
      "text/html": [
       "<div>\n",
       "<style scoped>\n",
       "    .dataframe tbody tr th:only-of-type {\n",
       "        vertical-align: middle;\n",
       "    }\n",
       "\n",
       "    .dataframe tbody tr th {\n",
       "        vertical-align: top;\n",
       "    }\n",
       "\n",
       "    .dataframe thead th {\n",
       "        text-align: right;\n",
       "    }\n",
       "</style>\n",
       "<table border=\"1\" class=\"dataframe\">\n",
       "  <thead>\n",
       "    <tr style=\"text-align: right;\">\n",
       "      <th></th>\n",
       "      <th>Survived</th>\n",
       "      <th>Pclass</th>\n",
       "      <th>Sex</th>\n",
       "      <th>Age</th>\n",
       "      <th>SibSp</th>\n",
       "      <th>Parch</th>\n",
       "      <th>Fare</th>\n",
       "      <th>Embarked</th>\n",
       "    </tr>\n",
       "  </thead>\n",
       "  <tbody>\n",
       "    <tr>\n",
       "      <th>0</th>\n",
       "      <td>0</td>\n",
       "      <td>3</td>\n",
       "      <td>1</td>\n",
       "      <td>1</td>\n",
       "      <td>1</td>\n",
       "      <td>0</td>\n",
       "      <td>1</td>\n",
       "      <td>2</td>\n",
       "    </tr>\n",
       "    <tr>\n",
       "      <th>1</th>\n",
       "      <td>1</td>\n",
       "      <td>1</td>\n",
       "      <td>0</td>\n",
       "      <td>3</td>\n",
       "      <td>1</td>\n",
       "      <td>0</td>\n",
       "      <td>3</td>\n",
       "      <td>0</td>\n",
       "    </tr>\n",
       "    <tr>\n",
       "      <th>2</th>\n",
       "      <td>1</td>\n",
       "      <td>3</td>\n",
       "      <td>0</td>\n",
       "      <td>1</td>\n",
       "      <td>0</td>\n",
       "      <td>0</td>\n",
       "      <td>1</td>\n",
       "      <td>2</td>\n",
       "    </tr>\n",
       "    <tr>\n",
       "      <th>3</th>\n",
       "      <td>1</td>\n",
       "      <td>1</td>\n",
       "      <td>0</td>\n",
       "      <td>3</td>\n",
       "      <td>1</td>\n",
       "      <td>0</td>\n",
       "      <td>3</td>\n",
       "      <td>2</td>\n",
       "    </tr>\n",
       "    <tr>\n",
       "      <th>4</th>\n",
       "      <td>0</td>\n",
       "      <td>3</td>\n",
       "      <td>1</td>\n",
       "      <td>3</td>\n",
       "      <td>0</td>\n",
       "      <td>0</td>\n",
       "      <td>1</td>\n",
       "      <td>2</td>\n",
       "    </tr>\n",
       "  </tbody>\n",
       "</table>\n",
       "</div>"
      ],
      "text/plain": [
       "   Survived  Pclass  Sex  Age  SibSp  Parch  Fare  Embarked\n",
       "0         0       3    1    1      1      0     1         2\n",
       "1         1       1    0    3      1      0     3         0\n",
       "2         1       3    0    1      0      0     1         2\n",
       "3         1       1    0    3      1      0     3         2\n",
       "4         0       3    1    3      0      0     1         2"
      ]
     },
     "execution_count": 19,
     "metadata": {},
     "output_type": "execute_result"
    }
   ],
   "source": [
    "train.head()"
   ]
  },
  {
   "cell_type": "markdown",
   "metadata": {},
   "source": [
    "# Splitting the data into train,test."
   ]
  },
  {
   "cell_type": "code",
   "execution_count": 20,
   "metadata": {},
   "outputs": [],
   "source": [
    "Y=train['Survived']\n",
    "X=train.drop(['Survived'],axis=1)\n",
    "from sklearn.model_selection import train_test_split\n",
    "X_train,X_test,Y_train,Y_test=train_test_split(X,Y,test_size=0.2,random_state=0)"
   ]
  },
  {
   "cell_type": "markdown",
   "metadata": {},
   "source": [
    "Importing necessary libraries and staring sequential model.The sequential API allows you to create models layer-by-layer for most problems."
   ]
  },
  {
   "cell_type": "markdown",
   "metadata": {},
   "source": [
    "# Model "
   ]
  },
  {
   "cell_type": "code",
   "execution_count": 21,
   "metadata": {},
   "outputs": [],
   "source": [
    "import tensorflow as tf\n",
    "import keras\n",
    "from keras.models import Sequential\n",
    "from keras.layers import Dense,Dropout\n",
    "input_dimension=X.shape[1]\n",
    "\n",
    "model=Sequential()\n"
   ]
  },
  {
   "cell_type": "markdown",
   "metadata": {},
   "source": [
    "Now we are adding layers to our model.First an input layer,one hidden layer and output layer.Finally compiling the model with adam optimizer and fitting the data with 100 epochs and a batch size of 9."
   ]
  },
  {
   "cell_type": "code",
   "execution_count": 22,
   "metadata": {},
   "outputs": [
    {
     "name": "stdout",
     "output_type": "stream",
     "text": [
      "Epoch 1/100\n",
      "80/80 [==============================] - 0s 4ms/step - loss: 0.6897 - accuracy: 0.0000e+00 - val_loss: 0.6855 - val_accuracy: 0.0000e+00\n",
      "Epoch 2/100\n",
      "80/80 [==============================] - 0s 2ms/step - loss: 0.6807 - accuracy: 0.0000e+00 - val_loss: 0.6725 - val_accuracy: 0.0000e+00\n",
      "Epoch 3/100\n",
      "80/80 [==============================] - 0s 2ms/step - loss: 0.6641 - accuracy: 0.0000e+00 - val_loss: 0.6568 - val_accuracy: 0.0000e+00\n",
      "Epoch 4/100\n",
      "80/80 [==============================] - 0s 2ms/step - loss: 0.6512 - accuracy: 0.0000e+00 - val_loss: 0.6432 - val_accuracy: 0.0000e+00\n",
      "Epoch 5/100\n",
      "80/80 [==============================] - 0s 1ms/step - loss: 0.6401 - accuracy: 0.0000e+00 - val_loss: 0.6290 - val_accuracy: 0.0000e+00\n",
      "Epoch 6/100\n",
      "80/80 [==============================] - 0s 1ms/step - loss: 0.6275 - accuracy: 0.0000e+00 - val_loss: 0.6098 - val_accuracy: 0.0000e+00\n",
      "Epoch 7/100\n",
      "80/80 [==============================] - 0s 1ms/step - loss: 0.6081 - accuracy: 0.0000e+00 - val_loss: 0.5818 - val_accuracy: 0.0000e+00\n",
      "Epoch 8/100\n",
      "80/80 [==============================] - 0s 1ms/step - loss: 0.5849 - accuracy: 0.0000e+00 - val_loss: 0.5511 - val_accuracy: 0.0000e+00\n",
      "Epoch 9/100\n",
      "80/80 [==============================] - 0s 1ms/step - loss: 0.5621 - accuracy: 0.0000e+00 - val_loss: 0.5213 - val_accuracy: 0.0000e+00\n",
      "Epoch 10/100\n",
      "80/80 [==============================] - 0s 1ms/step - loss: 0.5404 - accuracy: 0.0000e+00 - val_loss: 0.4947 - val_accuracy: 0.0000e+00\n",
      "Epoch 11/100\n",
      "80/80 [==============================] - 0s 1ms/step - loss: 0.5226 - accuracy: 0.0000e+00 - val_loss: 0.4754 - val_accuracy: 0.0000e+00\n",
      "Epoch 12/100\n",
      "80/80 [==============================] - 0s 1ms/step - loss: 0.5108 - accuracy: 0.0000e+00 - val_loss: 0.4612 - val_accuracy: 0.0000e+00\n",
      "Epoch 13/100\n",
      "80/80 [==============================] - 0s 1ms/step - loss: 0.5000 - accuracy: 0.0000e+00 - val_loss: 0.4493 - val_accuracy: 0.0000e+00\n",
      "Epoch 14/100\n",
      "80/80 [==============================] - 0s 1ms/step - loss: 0.4913 - accuracy: 0.0000e+00 - val_loss: 0.4418 - val_accuracy: 0.0000e+00\n",
      "Epoch 15/100\n",
      "80/80 [==============================] - 0s 1ms/step - loss: 0.4882 - accuracy: 0.0000e+00 - val_loss: 0.4402 - val_accuracy: 0.0000e+00\n",
      "Epoch 16/100\n",
      "80/80 [==============================] - 0s 1ms/step - loss: 0.4828 - accuracy: 0.0000e+00 - val_loss: 0.4340 - val_accuracy: 0.0000e+00\n",
      "Epoch 17/100\n",
      "80/80 [==============================] - 0s 2ms/step - loss: 0.4811 - accuracy: 0.0000e+00 - val_loss: 0.4351 - val_accuracy: 0.0000e+00\n",
      "Epoch 18/100\n",
      "80/80 [==============================] - 0s 2ms/step - loss: 0.4798 - accuracy: 0.0000e+00 - val_loss: 0.4304 - val_accuracy: 0.0000e+00\n",
      "Epoch 19/100\n",
      "80/80 [==============================] - 0s 1ms/step - loss: 0.4761 - accuracy: 0.0000e+00 - val_loss: 0.4275 - val_accuracy: 0.0000e+00\n",
      "Epoch 20/100\n",
      "80/80 [==============================] - 0s 2ms/step - loss: 0.4747 - accuracy: 0.0000e+00 - val_loss: 0.4247 - val_accuracy: 0.0000e+00\n",
      "Epoch 21/100\n",
      "80/80 [==============================] - 0s 1ms/step - loss: 0.4724 - accuracy: 0.0000e+00 - val_loss: 0.4234 - val_accuracy: 0.0000e+00\n",
      "Epoch 22/100\n",
      "80/80 [==============================] - 0s 1ms/step - loss: 0.4717 - accuracy: 0.0000e+00 - val_loss: 0.4215 - val_accuracy: 0.0000e+00\n",
      "Epoch 23/100\n",
      "80/80 [==============================] - 0s 1ms/step - loss: 0.4711 - accuracy: 0.0000e+00 - val_loss: 0.4205 - val_accuracy: 0.0000e+00\n",
      "Epoch 24/100\n",
      "80/80 [==============================] - 0s 1ms/step - loss: 0.4708 - accuracy: 0.0000e+00 - val_loss: 0.4193 - val_accuracy: 0.0000e+00\n",
      "Epoch 25/100\n",
      "80/80 [==============================] - 0s 2ms/step - loss: 0.4719 - accuracy: 0.0000e+00 - val_loss: 0.4191 - val_accuracy: 0.0000e+00\n",
      "Epoch 26/100\n",
      "80/80 [==============================] - 0s 1ms/step - loss: 0.4699 - accuracy: 0.0000e+00 - val_loss: 0.4183 - val_accuracy: 0.0000e+00\n",
      "Epoch 27/100\n",
      "80/80 [==============================] - 0s 1ms/step - loss: 0.4691 - accuracy: 0.0000e+00 - val_loss: 0.4171 - val_accuracy: 0.0000e+00\n",
      "Epoch 28/100\n",
      "80/80 [==============================] - 0s 1ms/step - loss: 0.4703 - accuracy: 0.0000e+00 - val_loss: 0.4161 - val_accuracy: 0.0000e+00\n",
      "Epoch 29/100\n",
      "80/80 [==============================] - 0s 1ms/step - loss: 0.4697 - accuracy: 0.0000e+00 - val_loss: 0.4157 - val_accuracy: 0.0000e+00\n",
      "Epoch 30/100\n",
      "80/80 [==============================] - 0s 1ms/step - loss: 0.4677 - accuracy: 0.0000e+00 - val_loss: 0.4164 - val_accuracy: 0.0000e+00\n",
      "Epoch 31/100\n",
      "80/80 [==============================] - 0s 1ms/step - loss: 0.4686 - accuracy: 0.0000e+00 - val_loss: 0.4165 - val_accuracy: 0.0000e+00\n",
      "Epoch 32/100\n",
      "80/80 [==============================] - 0s 1ms/step - loss: 0.4685 - accuracy: 0.0000e+00 - val_loss: 0.4157 - val_accuracy: 0.0000e+00\n",
      "Epoch 33/100\n",
      "80/80 [==============================] - 0s 2ms/step - loss: 0.4664 - accuracy: 0.0000e+00 - val_loss: 0.4151 - val_accuracy: 0.0000e+00\n",
      "Epoch 34/100\n",
      "80/80 [==============================] - 0s 2ms/step - loss: 0.4658 - accuracy: 0.0000e+00 - val_loss: 0.4160 - val_accuracy: 0.0000e+00\n",
      "Epoch 35/100\n",
      "80/80 [==============================] - 0s 2ms/step - loss: 0.4680 - accuracy: 0.0000e+00 - val_loss: 0.4173 - val_accuracy: 0.0000e+00\n",
      "Epoch 36/100\n",
      "80/80 [==============================] - 0s 2ms/step - loss: 0.4666 - accuracy: 0.0000e+00 - val_loss: 0.4147 - val_accuracy: 0.0000e+00\n",
      "Epoch 37/100\n",
      "80/80 [==============================] - 0s 2ms/step - loss: 0.4666 - accuracy: 0.0000e+00 - val_loss: 0.4150 - val_accuracy: 0.0000e+00\n",
      "Epoch 38/100\n",
      "80/80 [==============================] - 0s 2ms/step - loss: 0.4651 - accuracy: 0.0000e+00 - val_loss: 0.4138 - val_accuracy: 0.0000e+00\n",
      "Epoch 39/100\n",
      "80/80 [==============================] - 0s 2ms/step - loss: 0.4655 - accuracy: 0.0000e+00 - val_loss: 0.4134 - val_accuracy: 0.0000e+00\n",
      "Epoch 40/100\n",
      "80/80 [==============================] - 0s 1ms/step - loss: 0.4651 - accuracy: 0.0000e+00 - val_loss: 0.4151 - val_accuracy: 0.0000e+00\n",
      "Epoch 41/100\n",
      "80/80 [==============================] - 0s 2ms/step - loss: 0.4655 - accuracy: 0.0000e+00 - val_loss: 0.4142 - val_accuracy: 0.0000e+00\n",
      "Epoch 42/100\n",
      "80/80 [==============================] - 0s 2ms/step - loss: 0.4640 - accuracy: 0.0000e+00 - val_loss: 0.4139 - val_accuracy: 0.0000e+00\n",
      "Epoch 43/100\n",
      "80/80 [==============================] - 0s 2ms/step - loss: 0.4643 - accuracy: 0.0000e+00 - val_loss: 0.4132 - val_accuracy: 0.0000e+00\n",
      "Epoch 44/100\n",
      "80/80 [==============================] - 0s 2ms/step - loss: 0.4648 - accuracy: 0.0000e+00 - val_loss: 0.4126 - val_accuracy: 0.0000e+00\n",
      "Epoch 45/100\n",
      "80/80 [==============================] - 0s 1ms/step - loss: 0.4646 - accuracy: 0.0000e+00 - val_loss: 0.4124 - val_accuracy: 0.0000e+00\n",
      "Epoch 46/100\n",
      "80/80 [==============================] - 0s 1ms/step - loss: 0.4644 - accuracy: 0.0000e+00 - val_loss: 0.4129 - val_accuracy: 0.0000e+00\n",
      "Epoch 47/100\n",
      "80/80 [==============================] - 0s 1ms/step - loss: 0.4651 - accuracy: 0.0000e+00 - val_loss: 0.4116 - val_accuracy: 0.0000e+00\n",
      "Epoch 48/100\n",
      "80/80 [==============================] - 0s 1ms/step - loss: 0.4635 - accuracy: 0.0000e+00 - val_loss: 0.4119 - val_accuracy: 0.0000e+00\n",
      "Epoch 49/100\n",
      "80/80 [==============================] - 0s 2ms/step - loss: 0.4630 - accuracy: 0.0000e+00 - val_loss: 0.4119 - val_accuracy: 0.0000e+00\n",
      "Epoch 50/100\n",
      "80/80 [==============================] - 0s 2ms/step - loss: 0.4637 - accuracy: 0.0000e+00 - val_loss: 0.4115 - val_accuracy: 0.0000e+00\n",
      "Epoch 51/100\n",
      "80/80 [==============================] - 0s 2ms/step - loss: 0.4630 - accuracy: 0.0000e+00 - val_loss: 0.4107 - val_accuracy: 0.0000e+00\n",
      "Epoch 52/100\n",
      "80/80 [==============================] - 0s 2ms/step - loss: 0.4628 - accuracy: 0.0000e+00 - val_loss: 0.4106 - val_accuracy: 0.0000e+00\n",
      "Epoch 53/100\n",
      "80/80 [==============================] - 0s 2ms/step - loss: 0.4627 - accuracy: 0.0000e+00 - val_loss: 0.4096 - val_accuracy: 0.0000e+00\n",
      "Epoch 54/100\n",
      "80/80 [==============================] - 0s 1ms/step - loss: 0.4624 - accuracy: 0.0000e+00 - val_loss: 0.4098 - val_accuracy: 0.0000e+00\n",
      "Epoch 55/100\n",
      "80/80 [==============================] - 0s 1ms/step - loss: 0.4619 - accuracy: 0.0000e+00 - val_loss: 0.4097 - val_accuracy: 0.0000e+00\n"
     ]
    },
    {
     "name": "stdout",
     "output_type": "stream",
     "text": [
      "Epoch 56/100\n",
      "80/80 [==============================] - 0s 1ms/step - loss: 0.4622 - accuracy: 0.0000e+00 - val_loss: 0.4098 - val_accuracy: 0.0000e+00\n",
      "Epoch 57/100\n",
      "80/80 [==============================] - 0s 1ms/step - loss: 0.4619 - accuracy: 0.0000e+00 - val_loss: 0.4096 - val_accuracy: 0.0000e+00\n",
      "Epoch 58/100\n",
      "80/80 [==============================] - 0s 2ms/step - loss: 0.4624 - accuracy: 0.0000e+00 - val_loss: 0.4112 - val_accuracy: 0.0000e+00\n",
      "Epoch 59/100\n",
      "80/80 [==============================] - 0s 2ms/step - loss: 0.4618 - accuracy: 0.0000e+00 - val_loss: 0.4106 - val_accuracy: 0.0000e+00\n",
      "Epoch 60/100\n",
      "80/80 [==============================] - 0s 1ms/step - loss: 0.4618 - accuracy: 0.0000e+00 - val_loss: 0.4097 - val_accuracy: 0.0000e+00\n",
      "Epoch 61/100\n",
      "80/80 [==============================] - 0s 1ms/step - loss: 0.4615 - accuracy: 0.0000e+00 - val_loss: 0.4100 - val_accuracy: 0.0000e+00\n",
      "Epoch 62/100\n",
      "80/80 [==============================] - 0s 1ms/step - loss: 0.4614 - accuracy: 0.0000e+00 - val_loss: 0.4101 - val_accuracy: 0.0000e+00\n",
      "Epoch 63/100\n",
      "80/80 [==============================] - 0s 1ms/step - loss: 0.4615 - accuracy: 0.0000e+00 - val_loss: 0.4101 - val_accuracy: 0.0000e+00\n",
      "Epoch 64/100\n",
      "80/80 [==============================] - 0s 1ms/step - loss: 0.4628 - accuracy: 0.0000e+00 - val_loss: 0.4088 - val_accuracy: 0.0000e+00\n",
      "Epoch 65/100\n",
      "80/80 [==============================] - 0s 1ms/step - loss: 0.4606 - accuracy: 0.0000e+00 - val_loss: 0.4080 - val_accuracy: 0.0000e+00\n",
      "Epoch 66/100\n",
      "80/80 [==============================] - 0s 2ms/step - loss: 0.4623 - accuracy: 0.0000e+00 - val_loss: 0.4082 - val_accuracy: 0.0000e+00\n",
      "Epoch 67/100\n",
      "80/80 [==============================] - 0s 2ms/step - loss: 0.4614 - accuracy: 0.0000e+00 - val_loss: 0.4097 - val_accuracy: 0.0000e+00\n",
      "Epoch 68/100\n",
      "80/80 [==============================] - 0s 2ms/step - loss: 0.4597 - accuracy: 0.0000e+00 - val_loss: 0.4094 - val_accuracy: 0.0000e+00\n",
      "Epoch 69/100\n",
      "80/80 [==============================] - 0s 2ms/step - loss: 0.4601 - accuracy: 0.0000e+00 - val_loss: 0.4093 - val_accuracy: 0.0000e+00\n",
      "Epoch 70/100\n",
      "80/80 [==============================] - 0s 2ms/step - loss: 0.4601 - accuracy: 0.0000e+00 - val_loss: 0.4082 - val_accuracy: 0.0000e+00\n",
      "Epoch 71/100\n",
      "80/80 [==============================] - 0s 2ms/step - loss: 0.4591 - accuracy: 0.0000e+00 - val_loss: 0.4075 - val_accuracy: 0.0000e+00\n",
      "Epoch 72/100\n",
      "80/80 [==============================] - 0s 2ms/step - loss: 0.4590 - accuracy: 0.0000e+00 - val_loss: 0.4076 - val_accuracy: 0.0000e+00\n",
      "Epoch 73/100\n",
      "80/80 [==============================] - 0s 1ms/step - loss: 0.4593 - accuracy: 0.0000e+00 - val_loss: 0.4073 - val_accuracy: 0.0000e+00\n",
      "Epoch 74/100\n",
      "80/80 [==============================] - 0s 2ms/step - loss: 0.4580 - accuracy: 0.0000e+00 - val_loss: 0.4088 - val_accuracy: 0.0000e+00\n",
      "Epoch 75/100\n",
      "80/80 [==============================] - 0s 2ms/step - loss: 0.4592 - accuracy: 0.0000e+00 - val_loss: 0.4063 - val_accuracy: 0.0000e+00\n",
      "Epoch 76/100\n",
      "80/80 [==============================] - 0s 2ms/step - loss: 0.4591 - accuracy: 0.0000e+00 - val_loss: 0.4072 - val_accuracy: 0.0000e+00\n",
      "Epoch 77/100\n",
      "80/80 [==============================] - 0s 2ms/step - loss: 0.4580 - accuracy: 0.0000e+00 - val_loss: 0.4067 - val_accuracy: 0.0000e+00\n",
      "Epoch 78/100\n",
      "80/80 [==============================] - 0s 2ms/step - loss: 0.4582 - accuracy: 0.0000e+00 - val_loss: 0.4056 - val_accuracy: 0.0000e+00\n",
      "Epoch 79/100\n",
      "80/80 [==============================] - 0s 2ms/step - loss: 0.4576 - accuracy: 0.0000e+00 - val_loss: 0.4057 - val_accuracy: 0.0000e+00\n",
      "Epoch 80/100\n",
      "80/80 [==============================] - 0s 2ms/step - loss: 0.4590 - accuracy: 0.0000e+00 - val_loss: 0.4050 - val_accuracy: 0.0000e+00\n",
      "Epoch 81/100\n",
      "80/80 [==============================] - 0s 2ms/step - loss: 0.4575 - accuracy: 0.0000e+00 - val_loss: 0.4055 - val_accuracy: 0.0000e+00\n",
      "Epoch 82/100\n",
      "80/80 [==============================] - 0s 1ms/step - loss: 0.4571 - accuracy: 0.0000e+00 - val_loss: 0.4053 - val_accuracy: 0.0000e+00\n",
      "Epoch 83/100\n",
      "80/80 [==============================] - 0s 1ms/step - loss: 0.4594 - accuracy: 0.0000e+00 - val_loss: 0.4055 - val_accuracy: 0.0000e+00\n",
      "Epoch 84/100\n",
      "80/80 [==============================] - 0s 1ms/step - loss: 0.4575 - accuracy: 0.0000e+00 - val_loss: 0.4051 - val_accuracy: 0.0000e+00\n",
      "Epoch 85/100\n",
      "80/80 [==============================] - 0s 1ms/step - loss: 0.4567 - accuracy: 0.0000e+00 - val_loss: 0.4051 - val_accuracy: 0.0000e+00\n",
      "Epoch 86/100\n",
      "80/80 [==============================] - 0s 1ms/step - loss: 0.4567 - accuracy: 0.0000e+00 - val_loss: 0.4051 - val_accuracy: 0.0000e+00\n",
      "Epoch 87/100\n",
      "80/80 [==============================] - 0s 1ms/step - loss: 0.4563 - accuracy: 0.0000e+00 - val_loss: 0.4054 - val_accuracy: 0.0000e+00\n",
      "Epoch 88/100\n",
      "80/80 [==============================] - 0s 1ms/step - loss: 0.4570 - accuracy: 0.0000e+00 - val_loss: 0.4054 - val_accuracy: 0.0000e+00\n",
      "Epoch 89/100\n",
      "80/80 [==============================] - 0s 1ms/step - loss: 0.4575 - accuracy: 0.0000e+00 - val_loss: 0.4042 - val_accuracy: 0.0000e+00\n",
      "Epoch 90/100\n",
      "80/80 [==============================] - 0s 2ms/step - loss: 0.4549 - accuracy: 0.0000e+00 - val_loss: 0.4077 - val_accuracy: 0.0000e+00\n",
      "Epoch 91/100\n",
      "80/80 [==============================] - 0s 1ms/step - loss: 0.4545 - accuracy: 0.0000e+00 - val_loss: 0.4039 - val_accuracy: 0.0000e+00\n",
      "Epoch 92/100\n",
      "80/80 [==============================] - 0s 2ms/step - loss: 0.4553 - accuracy: 0.0000e+00 - val_loss: 0.4034 - val_accuracy: 0.0000e+00\n",
      "Epoch 93/100\n",
      "80/80 [==============================] - 0s 2ms/step - loss: 0.4551 - accuracy: 0.0000e+00 - val_loss: 0.4056 - val_accuracy: 0.0000e+00\n",
      "Epoch 94/100\n",
      "80/80 [==============================] - 0s 1ms/step - loss: 0.4546 - accuracy: 0.0000e+00 - val_loss: 0.4042 - val_accuracy: 0.0000e+00\n",
      "Epoch 95/100\n",
      "80/80 [==============================] - 0s 1ms/step - loss: 0.4538 - accuracy: 0.0000e+00 - val_loss: 0.4042 - val_accuracy: 0.0000e+00\n",
      "Epoch 96/100\n",
      "80/80 [==============================] - 0s 1ms/step - loss: 0.4537 - accuracy: 0.0000e+00 - val_loss: 0.4034 - val_accuracy: 0.0000e+00\n",
      "Epoch 97/100\n",
      "80/80 [==============================] - 0s 1ms/step - loss: 0.4534 - accuracy: 0.0000e+00 - val_loss: 0.4044 - val_accuracy: 0.0000e+00\n",
      "Epoch 98/100\n",
      "80/80 [==============================] - 0s 1ms/step - loss: 0.4537 - accuracy: 0.0000e+00 - val_loss: 0.4044 - val_accuracy: 0.0000e+00\n",
      "Epoch 99/100\n",
      "80/80 [==============================] - 0s 1ms/step - loss: 0.4527 - accuracy: 0.0000e+00 - val_loss: 0.4049 - val_accuracy: 0.0000e+00\n",
      "Epoch 100/100\n",
      "80/80 [==============================] - 0s 1ms/step - loss: 0.4526 - accuracy: 0.0000e+00 - val_loss: 0.4085 - val_accuracy: 0.0000e+00\n"
     ]
    }
   ],
   "source": [
    "model.add(Dense(4,input_dim=input_dimension,activation='relu',kernel_initializer=\"uniform\"))\n",
    "model.add(Dense(2,activation='relu',kernel_initializer=\"uniform\"))\n",
    "model.add(Dense(1,activation='sigmoid',kernel_initializer=\"uniform\"))\n",
    "#model.summary()\n",
    "model.compile(optimizer='Adam',loss='binary_crossentropy',metrics=['Accuracy'])\n",
    "model_history=model.fit(X_train,Y_train,batch_size=9,epochs=100,validation_data=(X_test,Y_test))"
   ]
  },
  {
   "cell_type": "markdown",
   "metadata": {},
   "source": [
    "# Plotting the loss over the epochs"
   ]
  },
  {
   "cell_type": "code",
   "execution_count": 23,
   "metadata": {},
   "outputs": [
    {
     "data": {
      "image/png": "[encoded data removed]",
      "text/plain": [
       "<Figure size 432x288 with 1 Axes>"
      ]
     },
     "metadata": {
      "needs_background": "light"
     },
     "output_type": "display_data"
    }
   ],
   "source": [
    "plt.plot(model_history.history['loss'])\n",
    "plt.plot(model_history.history['val_loss'])\n",
    "plt.title('model loss')\n",
    "plt.ylabel('loss')\n",
    "plt.xlabel('epoch')\n",
    "plt.legend(['train', 'test'], loc='upper left')\n",
    "plt.show()"
   ]
  },
  {
   "cell_type": "markdown",
   "metadata": {},
   "source": [
    "# Finding Accuracy"
   ]
  },
  {
   "cell_type": "code",
   "execution_count": 24,
   "metadata": {},
   "outputs": [
    {
     "data": {
      "text/plain": [
       "0.8100558659217877"
      ]
     },
     "execution_count": 24,
     "metadata": {},
     "output_type": "execute_result"
    }
   ],
   "source": [
    "y_pred = model.predict(X_test)\n",
    "y_pred = (y_pred > 0.5)\n",
    "\n",
    "# Calculate the Accuracy\n",
    "from sklearn.metrics import accuracy_score\n",
    "score=accuracy_score(y_pred,Y_test)\n",
    "score"
   ]
  },
  {
   "cell_type": "markdown",
   "metadata": {},
   "source": [
    "# Please upvote if you like,any suggestions or mistakes put it in comments,Thank you."
   ]
  }
 ],
 "metadata": {
  "kernelspec": {
   "display_name": "Python 3",
   "language": "python",
   "name": "python3"
  },
  "language_info": {
   "codemirror_mode": {
    "name": "ipython",
    "version": 3
   },
   "file_extension": ".py",
   "mimetype": "text/x-python",
   "name": "python",
   "nbconvert_exporter": "python",
   "pygments_lexer": "ipython3",
   "version": "3.7.7"
  }
 },
 "nbformat": 4,
 "nbformat_minor": 4
}
