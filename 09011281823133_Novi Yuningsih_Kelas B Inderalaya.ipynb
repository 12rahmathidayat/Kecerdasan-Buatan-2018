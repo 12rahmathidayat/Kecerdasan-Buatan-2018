{
 "cells": [
  {
   "cell_type": "markdown",
   "metadata": {},
   "source": [
    "**Artificial Neural Network**\n"
   ]
  },
  {
   "cell_type": "markdown",
   "metadata": {},
   "source": [
    "**TUGAS UTS KECERDASAN BUATAN**\n",
    "\n",
    "Nama : Novi Yuningsih\n",
    "\n",
    "NIM  : 09011281823133\n",
    "\n",
    "Kelas: Sistem Komputer 5 B Indralaya\n",
    "\n",
    "Sebelumnya datasets yang saya gunakan bersumber dari laman \"Gender Recognition by Voice\" https://www.kaggle.com/primaryobjects/voicegender\n",
    "\n",
    "Sebelum kita menyelami izinkan saya memberikan gambaran singkat tentang apa yang sedang kita lakukan. Kami memiliki dataset yang berdasarkan parameter tertentu yang mengklasifikasikan suara berdasarkan jenis kelamin. Bagaimana manusia melakukannya?\n",
    "> Gelombang suara merambat ke saluran telinga sampai mencapai gendang telinga. Gendang telinga meneruskan getaran melalui tulang telinga tengah atau osikel ke telinga bagian dalam. Telinga bagian dalam berbentuk seperti siput dan disebut juga koklea. Di dalam koklea, ada ribuan sel rambut kecil. Sel rambut mengubah getaran menjadi sinyal listrik yang dikirim ke otak melalui saraf pendengaran. Otak memberi tahu Anda bahwa Anda sedang mendengar suara dan suara apa itu.\n",
    ">\n",
    "\n",
    "Apa yang terjadi di otak adalah neuron melakukan operasi tertentu untuk mengklasifikasikan suara, inilah yang akan kita coba simulasikan. Kami akan mencoba meniru fungsinya (pada skala yang jauh * 1000 lebih kecil) hanya untuk mendapatkan ide dasarnya.\n"
   ]
  },
  {
   "cell_type": "markdown",
   "metadata": {},
   "source": [
    "**Langkah Pertama**\n",
    "\n",
    "Import library dasar \n",
    "matplotlib :: Untuk memplot grafik\n",
    "    numpy  :: Untuk melakukan operasi dan memanipulasi array\n",
    "    pandas :: Untuk membaca dan mengelola data dari file"
   ]
  },
  {
   "cell_type": "code",
   "execution_count": 1,
   "metadata": {
    "collapsed": true
   },
   "outputs": [],
   "source": [
    "import numpy as np\n",
    "import matplotlib.pyplot as plt\n",
    "import pandas as pd"
   ]
  },
  {
   "cell_type": "markdown",
   "metadata": {},
   "source": [
    "**Langkah Kedua**\n",
    "\n",
    "Kita perlu memisahkan variabel dependen dan independen. Di sini 20 set kolom pertama terdiri dari fitur dan kolom terakhir adalah variabel dependen, yang mengambil nilai string yaitu Pria dan Wanita\n",
    "Dan berikut ini merupakan tampilan datasets nya."
   ]
  },
  {
   "cell_type": "code",
   "execution_count": 2,
   "metadata": {},
   "outputs": [],
   "source": [
    "dataset=pd.read_csv(\"D:/ANN/voice.csv\")\n",
    "X=dataset.iloc[:,0:20]\n",
    "y=dataset.iloc[:,-1].values"
   ]
  },
  {
   "cell_type": "markdown",
   "metadata": {},
   "source": [
    "**Langkah Ke-3**\n",
    "\n",
    "Sekarang karena kita memiliki set fitur dan himpunan variabel dependen, Kami mengamati bahwa 'y' memiliki string dan dalam matematika kami membutuhkan nilai jadi yang akan kami lakukan adalah menyandikan Pria = 1 dan Wanita = 0, (ps I have nothing to lakukan dengan tugas ;-)). Jadi kita akan menggunakan kelas LabelEncoder dan membiarkannya melakukan tugasnya."
   ]
  },
  {
   "cell_type": "code",
   "execution_count": 3,
   "metadata": {
    "_cell_guid": "0c27c093-b8d4-4bae-9896-4232d5b90e8a",
    "_uuid": "714745ef3c404546a84aaa25e742fe53ac812dab"
   },
   "outputs": [],
   "source": [
    "from sklearn.preprocessing import LabelEncoder\n",
    "labelencoder = LabelEncoder()\n",
    "y = labelencoder.fit_transform(y)\n"
   ]
  },
  {
   "cell_type": "markdown",
   "metadata": {},
   "source": [
    "**Langkah Ke-4**\n",
    "\n",
    "Sekarang jika kita mengamati nilai-nilai di berbagai kolom, kita melihat bahwa ada masalah baik nilainya sangat dekat dengan nol atau semua kolom memiliki skala yang tidak sama. Mengapa ada kebutuhan untuk Skala barang mungkin menjadi pertanyaan, Jawabannya adalah ada banyak kali di mana kita perlu menghitung kemiringan asumsikan dalam penyebut dua titik sangat dekat dengan nol, pengurangan akan membuatnya lebih dekat ke nol dan kemiringan mengasumsikan nilai yang luar biasa besar, jadi untuk mencegah sakit kepala semacam ini kami biasanya menggunakan penskalaan di Jaringan Neural."
   ]
  },
  {
   "cell_type": "code",
   "execution_count": 4,
   "metadata": {
    "collapsed": true
   },
   "outputs": [],
   "source": [
    "\n",
    "from sklearn.preprocessing import StandardScaler\n",
    "X_sc = StandardScaler()\n",
    "X= X_sc.fit_transform(X)"
   ]
  },
  {
   "cell_type": "markdown",
   "metadata": {},
   "source": [
    "**Langkah Ke-5**\n",
    "\n",
    "Bagi data menjadi set pelatihan dan set pengujian, Satu set untuk melatih Jaringan saraf dan set lainnya untuk menguji jaringan saraf."
   ]
  },
  {
   "cell_type": "code",
   "execution_count": 5,
   "metadata": {
    "collapsed": true
   },
   "outputs": [],
   "source": [
    "from sklearn.model_selection import train_test_split\n",
    "X_train,X_test,y_train,y_test=train_test_split(X,y,test_size=0.2,random_state=0)\n"
   ]
  },
  {
   "cell_type": "markdown",
   "metadata": {},
   "source": [
    "**Langkah Ke-6**\n",
    "\n",
    "Sekarang mulailah permainan sebenarnya membangun jaringan saraf untuk ini, pertama-tama kita mengimpor perpustakaan yang diperlukan."
   ]
  },
  {
   "cell_type": "code",
   "execution_count": 6,
   "metadata": {
    "collapsed": true
   },
   "outputs": [
    {
     "name": "stderr",
     "output_type": "stream",
     "text": [
      "Using TensorFlow backend.\n"
     ]
    }
   ],
   "source": [
    "import keras\n",
    "from keras.models import Sequential\n",
    "from keras.layers import Dense\n",
    "from keras.callbacks import History\n",
    "from keras.utils import plot_model\n",
    "from keras.optimizers import SGD\n"
   ]
  },
  {
   "cell_type": "markdown",
   "metadata": {},
   "source": [
    "Sebelum kita masuk ke kode, mari kita coba memahami struktur Neural Network yang ingin kita bangun. Apa hal pertama yang perlu kita lakukan jika kita ingin memahami atau menghancurkan suara apa pun? Sederhana kita perlu mendengar istilah coumputing perlu ada masukan. Di sini, di kumpulan data ada 20 parameter yang juga bisa disebut fitur dan ini diumpankan ke node pada basis satu-ke-satu yaitu satu node menerima satu input. Kita akan menyebutnya sebagai lapisan pertama dan inilah fungsi potongan kode ini.\n",
    "> ** classifier.add (Dense (output_dim = 11, init = 'uniform', activation = 'relu', input_dim = 20)) **\n",
    "\n",
    "selanjutnya kita meneruskan suara ini ke unit pemrosesan otak di mana kita memiliki banyak neuron pemrosesan menengah sebelum kita benar-benar mendapatkan hasilnya. Dalam hal ini kami hanya akan menambahkan 2 tahap menengah dari pemrosesan neuron dengan 11 node di setiap lapisan.\n",
    ">\n",
    "\n",
    "> ** classifier.add (Dense (output_dim = 11, init = 'uniform', activation = 'relu')) **\n",
    "\n",
    "\n",
    "> ** classifier.add (Dense (output_dim = 6, init = 'uniform', activation = 'relu')) **\n",
    "\n",
    "Sekarang kita perlu mendapatkan output dan satu node akan melakukan pekerjaan itu\n",
    "\n",
    "> classifier.add (Dense (output_dim = 1, init = 'uniform', activation = 'sigmoid'))\n",
    "\n",
    "Jika bertanya-tanya apa itu relu dan sigmoid dengan baik, ini adalah fungsi yang digunakan untuk menghitung bobot / kerugian, dll. Pertimbangkan untuk memeriksa apa kepanjangannya."
   ]
  },
  {
   "cell_type": "code",
   "execution_count": 7,
   "metadata": {},
   "outputs": [
    {
     "name": "stderr",
     "output_type": "stream",
     "text": [
      "/opt/conda/lib/python3.6/site-packages/ipykernel_launcher.py:7: UserWarning: Update your `Dense` call to the Keras 2 API: `Dense(activation=\"relu\", input_dim=20, units=11, kernel_initializer=\"uniform\")`\n",
      "  import sys\n",
      "/opt/conda/lib/python3.6/site-packages/ipykernel_launcher.py:9: UserWarning: Update your `Dense` call to the Keras 2 API: `Dense(activation=\"relu\", units=11, kernel_initializer=\"uniform\")`\n",
      "  if __name__ == '__main__':\n",
      "/opt/conda/lib/python3.6/site-packages/ipykernel_launcher.py:11: UserWarning: Update your `Dense` call to the Keras 2 API: `Dense(activation=\"relu\", units=6, kernel_initializer=\"uniform\")`\n",
      "  # This is added back by InteractiveShellApp.init_path()\n",
      "/opt/conda/lib/python3.6/site-packages/ipykernel_launcher.py:13: UserWarning: Update your `Dense` call to the Keras 2 API: `Dense(activation=\"sigmoid\", units=1, kernel_initializer=\"uniform\")`\n",
      "  del sys.path[0]\n"
     ]
    },
    {
     "name": "stdout",
     "output_type": "stream",
     "text": [
      "Train on 2280 samples, validate on 254 samples\n",
      "Epoch 1/10\n",
      "2280/2280 [==============================] - 1s 295us/step - loss: 0.5685 - acc: 0.7623 - val_loss: 0.3746 - val_acc: 0.8701\n",
      "Epoch 2/10\n",
      "2280/2280 [==============================] - 0s 199us/step - loss: 0.2280 - acc: 0.9202 - val_loss: 0.1637 - val_acc: 0.9370\n",
      "Epoch 3/10\n",
      "2280/2280 [==============================] - 0s 206us/step - loss: 0.0998 - acc: 0.9693 - val_loss: 0.1348 - val_acc: 0.9606\n",
      "Epoch 4/10\n",
      "2280/2280 [==============================] - 0s 204us/step - loss: 0.0823 - acc: 0.9759 - val_loss: 0.1374 - val_acc: 0.9567\n",
      "Epoch 5/10\n",
      "2280/2280 [==============================] - 0s 197us/step - loss: 0.0775 - acc: 0.9785 - val_loss: 0.1260 - val_acc: 0.9567\n",
      "Epoch 6/10\n",
      "2280/2280 [==============================] - 0s 198us/step - loss: 0.0741 - acc: 0.9811 - val_loss: 0.1336 - val_acc: 0.9646\n",
      "Epoch 7/10\n",
      "2280/2280 [==============================] - 0s 200us/step - loss: 0.0723 - acc: 0.9781 - val_loss: 0.1398 - val_acc: 0.9606\n",
      "Epoch 8/10\n",
      "2280/2280 [==============================] - 0s 195us/step - loss: 0.0703 - acc: 0.9798 - val_loss: 0.1457 - val_acc: 0.9646\n",
      "Epoch 9/10\n",
      "2280/2280 [==============================] - 0s 203us/step - loss: 0.0670 - acc: 0.9816 - val_loss: 0.1574 - val_acc: 0.9606\n",
      "Epoch 10/10\n",
      "2280/2280 [==============================] - 0s 194us/step - loss: 0.0676 - acc: 0.9807 - val_loss: 0.1341 - val_acc: 0.9646\n"
     ]
    },
    {
     "data": {
      "text/plain": [
       "<keras.callbacks.History at 0x7fb8db288ac8>"
      ]
     },
     "execution_count": 7,
     "metadata": {},
     "output_type": "execute_result"
    }
   ],
   "source": [
    "classifier=Sequential()\n",
    "history = History()\n",
    "\n",
    "#number of input variables =20\n",
    "#first layer \n",
    "#input_dim is only for the first layer\n",
    "classifier.add(Dense(output_dim=11,init='uniform',activation='relu',input_dim=20))\n",
    "#first Hidden layer\n",
    "classifier.add(Dense(output_dim=11,init='uniform',activation='relu'))\n",
    "#Second Hidden\n",
    "classifier.add(Dense(output_dim=6,init='uniform',activation='relu'))\n",
    "#output layer\n",
    "classifier.add(Dense(output_dim=1,init='uniform',activation='sigmoid'))\n",
    "#Running the artificial neural network\n",
    "classifier.compile(optimizer='adam',loss='binary_crossentropy',metrics=['accuracy'])\n",
    "#fitting\n",
    "classifier.fit(X_train,y_train,batch_size=10,epochs=10,validation_split=0.1,callbacks=[history],shuffle=2)\n"
   ]
  },
  {
   "cell_type": "markdown",
   "metadata": {},
   "source": [
    "**Langkah Akhir **\n",
    "\n",
    "Itu selalu penting untuk dilihat, apa yang sebenarnya terjadi dan bagaimana model itu belajar. Jadi dengan setiap zaman ada pembelajaran yang terjadi. Model ini mampu menghitung kerugian yang dihadapinya dari hasil aktual dan kemudian menyesuaikan bobotnya"
   ]
  },
  {
   "cell_type": "code",
   "execution_count": 8,
   "metadata": {},
   "outputs": [
    {
     "name": "stdout",
     "output_type": "stream",
     "text": [
      "Accuracy we are able to achieve with our ANN is 97.7917981073 %\n"
     ]
    },
    {
     "data": {
      "image/png": "[encoded data removed]",
      "text/plain": [
       "<matplotlib.figure.Figure at 0x7fb8d83838d0>"
      ]
     },
     "metadata": {},
     "output_type": "display_data"
    }
   ],
   "source": [
    "\n",
    "import sklearn.metrics as metrics\n",
    "y_pred=classifier.predict(X_test)\n",
    "y_pred = np.round(y_pred)\n",
    "\n",
    "print('Accuracy we are able to achieve with our ANN is',metrics.accuracy_score(y_pred,y_test)*100,'%')\n",
    "\n",
    "plt.plot(history.history['loss'], color = 'red',label='Variaton Loss over the epochs',)\n",
    "plt.plot(history.history['acc'],color='cyan',label='Variation in Profit over the epochs')\n",
    "\n",
    "plt.xlabel('Epochs')\n",
    "plt.title('Loss/Accuracy VS Epoch')\n",
    "plt.ylabel('Loss/Accuracy')\n",
    "plt.legend(loc='best')\n",
    "plt.show()\n",
    "\n"
   ]
  },
  {
   "cell_type": "markdown",
   "metadata": {},
   "source": [
    "Jika kita mengamati grafik, selama periode waktu jelas bahwa kerugian secara bertahap mencapai nol dan Akurasi meningkat pada tingkat yang cukup besar.\n",
    "\n",
    "Dan juga dicapai tingkat akurasinya dengan sebesar 0.977917981073 atau 97.7917981073%."
   ]
  }
 ],
 "metadata": {
  "kernelspec": {
   "display_name": "Python 3",
   "language": "python",
   "name": "python3"
  },
  "language_info": {
   "codemirror_mode": {
    "name": "ipython",
    "version": 3
   },
   "file_extension": ".py",
   "mimetype": "text/x-python",
   "name": "python",
   "nbconvert_exporter": "python",
   "pygments_lexer": "ipython3",
   "version": "3.8.3"
  }
 },
 "nbformat": 4,
 "nbformat_minor": 1
}
