{
 "cells": [
  {
   "cell_type": "markdown",
   "metadata": {},
   "source": [
    "**KATA KASAR DI TWITTER MENGGUNAKAN ALGORITMA SUPPORT VECTOR MACHINE (SVM)**"
   ]
  },
  {
   "cell_type": "code",
   "execution_count": 34,
   "metadata": {},
   "outputs": [],
   "source": [
    "import pandas as pd\n",
    "import numpy as np\n",
    "import nltk\n",
    "import sklearn"
   ]
  },
  {
   "cell_type": "markdown",
   "metadata": {},
   "source": [
    "Tahap berikutnya melakukan perintah untuk membuka dataset mentah. Dataset kemudian disimpan didalam variabel datar dengan kolom bernama Konten.\n",
    "\n",
    "Data bersumber dari tweet dengan hashtag ##TolakOmnibusLaw sebanyak 1000 data."
   ]
  },
  {
   "cell_type": "markdown",
   "metadata": {},
   "source": [
    "**PREPROCESSING**"
   ]
  },
  {
   "cell_type": "markdown",
   "metadata": {},
   "source": [
    "**memanggil dataset**\n",
    "\n",
    "Tahap berikutnya melakukan perintah untuk membuka dataset mentah. Dataset kemudian disimpan didalam variabel datar."
   ]
  },
  {
   "cell_type": "code",
   "execution_count": 35,
   "metadata": {},
   "outputs": [
    {
     "name": "stdout",
     "output_type": "stream",
     "text": [
      "0      Yg dah follow dan mau di fb duluan tingglin je...\n",
      "1      How can dpr members who swear in the name of t...\n",
      "2      âPEJABATâ: \\nlahir dari RAKYAT, menjabat j...\n",
      "3      If you're listening to this, you are the resis...\n",
      "4      No Justice, no peace fuck the police \\n\\n#Tola...\n",
      "                             ...                        \n",
      "995    Memperingati satu tahun Jokowi yang langsung m...\n",
      "996    Simak fakta &amp; argumentasi Asfinawati, Dire...\n",
      "997    RUU yang telah disahkan oleh Sidang Paripurna,...\n",
      "998    Trus bergerak kawan... #MahasiswaBergerak\\n#To...\n",
      "999    Conto kerja keras tanpa keringat. https://t.co...\n",
      "Name: content, Length: 1000, dtype: object\n"
     ]
    }
   ],
   "source": [
    "datar = pd.read_csv('twitter_hashtag.csv',encoding='latin1')\n",
    "\n",
    "print(datar['content'])"
   ]
  },
  {
   "cell_type": "markdown",
   "metadata": {},
   "source": [
    "Tahap berikutnyaa yaitu pengambilan data yang ada dalam variabel content kemudian dilakukan perintah cleansing dan case folding. Cleansing dan case folding dilakukan pada  dengan menggunakan modul re dari regex dan  string untuk mendeteksi kata. Hal ini bertujuan untuk membersihkan data dari emoticon, url dan teks yang tidak jelas, kemudian disimpan kembali didalam variabel yang sama yaitu dan datar dan kolom content."
   ]
  },
  {
   "cell_type": "code",
   "execution_count": 36,
   "metadata": {},
   "outputs": [
    {
     "name": "stdout",
     "output_type": "stream",
     "text": [
      "0      [Yg, dah, follow, dan, mau, di, fb, duluan, ti...\n",
      "1      [How, can, dpr, members, who, swear, in, the, ...\n",
      "2      [lahir, dari, RAKYAT, menjabat, jadi, MOSITIDA...\n",
      "3      [If, you, listening, to, this, you, are, the, ...\n",
      "4      [No, Justice, no, peace, fuck, the, police, To...\n",
      "                             ...                        \n",
      "995    [Memperingati, satu, tahun, Jokowi, yang, lang...\n",
      "996    [Simak, fakta, amp, argumentasi, Asfinawati, D...\n",
      "997    [RUU, yang, telah, disahkan, oleh, Sidang, Par...\n",
      "998    [Trus, bergerak, kawan, MahasiswaBergerak, Tol...\n",
      "999    [Conto, kerja, keras, tanpa, keringat, https, ...\n",
      "Name: Word, Length: 1000, dtype: object\n"
     ]
    }
   ],
   "source": [
    "from nltk.tokenize import TweetTokenizer\n",
    "\n",
    "def identify_tokens(row):\n",
    "    description = row['content']\n",
    "    tokens = nltk.word_tokenize(str(description))\n",
    "    token_words = [w for w in tokens if w.isalpha()]\n",
    "    return token_words\n",
    "\n",
    "datar['Word'] = datar.apply(identify_tokens, axis=1)\n",
    "print(datar['Word'])"
   ]
  },
  {
   "cell_type": "markdown",
   "metadata": {},
   "source": [
    "Proses Tokenize pada gambar diatas bertujuan untuk membuat data tepisah kata perkata. Library yang digunakan yaitu TweetTokenize yang berasal dari Library NLTK, kemudian disimpan lagi di variabel datar dengan nama kolom baru \n",
    "yaitu Word."
   ]
  },
  {
   "cell_type": "markdown",
   "metadata": {},
   "source": [
    "Selanjutnya yaitu proses stemming. Proses stemming dilakukan menggunakan library Sastrawi. Library Sastrawi adalah library yang digunakan layaknya kamus, namun berisi kamus bahasa \n",
    "Indonesia berisi kata dasar. Jadi stemming dilakukan untuk merubah kalimat berimbuhan dan merubahnya menjadi kata dasar. Hasil dari tahap stemming ini disimpan ke dalam variabel yang sama yaitu datar dengan nama kolom baru, yaitu stemmed_word."
   ]
  },
  {
   "cell_type": "code",
   "execution_count": 37,
   "metadata": {},
   "outputs": [
    {
     "name": "stdout",
     "output_type": "stream",
     "text": [
      "0      [yg, dah, follow, dan, mau, di, fb, duluan, ti...\n",
      "1      [how, can, dpr, members, who, swear, in, the, ...\n",
      "2      [lahir, dari, rakyat, jabat, jadi, mositidakdi...\n",
      "3      [if, you, listening, to, this, you, are, the, ...\n",
      "4      [no, justice, no, peace, fuck, the, police, to...\n",
      "                             ...                        \n",
      "995    [ingat, satu, tahun, jokowi, yang, langsung, t...\n",
      "996    [simak, fakta, amp, argumentasi, asfinawati, d...\n",
      "997    [ruu, yang, telah, sah, oleh, sidang, paripurn...\n",
      "998    [trus, gerak, kawan, mahasiswabergerak, tolako...\n",
      "999    [conto, kerja, keras, tanpa, keringat, https, ...\n",
      "Name: Stemmed_Word, Length: 1000, dtype: object\n"
     ]
    }
   ],
   "source": [
    "from Sastrawi.Stemmer.StemmerFactory import StemmerFactory\n",
    "\n",
    "factory = StemmerFactory()\n",
    "indostemming = factory.create_stemmer()\n",
    "\n",
    "def stem_list(row):\n",
    "    my_list = row['Word']\n",
    "    stemmed_list = [indostemming.stem(word) for word in my_list]\n",
    "    return(stemmed_list)\n",
    "\n",
    "datar['Stemmed_Word'] = datar.apply(stem_list, axis=1)\n",
    "print(datar['Stemmed_Word'])"
   ]
  },
  {
   "cell_type": "markdown",
   "metadata": {},
   "source": [
    "Tahap selanjutnya menggunakan library NLTK.corpus dengan modul stopword untuk mendeteksi kosakata dan kalimat yang sering keluar pada sistem dan menghapus kata sambung. Kemudian data di simpan ke dalam variabel datar kembali namun \n",
    "dengan nama kolom baru dengan nama Stem_Meaningful"
   ]
  },
  {
   "cell_type": "code",
   "execution_count": 38,
   "metadata": {},
   "outputs": [
    {
     "name": "stdout",
     "output_type": "stream",
     "text": [
      "0      [yg, dah, follow, fb, duluan, tingglin, jejak,...\n",
      "1      [dpr, members, swear, name, god, betray, peopl...\n",
      "2      [lahir, rakyat, jabat, mositidakdipercaya, cab...\n",
      "3      [listening, resistence, tolakomnibuslaw, menol...\n",
      "4      [justice, peace, fuck, police, tolakuuciptaker...\n",
      "                             ...                        \n",
      "995    [jokowi, langsung, jati, kolega, mositidakperc...\n",
      "996    [simak, fakta, amp, argumentasi, asfinawati, d...\n",
      "997    [ruu, sah, sidang, paripurna, sidang, paripurn...\n",
      "998    [trus, gerak, kawan, mahasiswabergerak, tolako...\n",
      "999        [conto, kerja, keras, keringat, https, https]\n",
      "Name: Stem_Meaningful, Length: 1000, dtype: object\n"
     ]
    }
   ],
   "source": [
    "from nltk.corpus import stopwords\n",
    "from Sastrawi.StopWordRemover.StopWordRemoverFactory import StopWordRemoverFactory\n",
    "\n",
    "factory = StopWordRemoverFactory()\n",
    "stopword = factory.create_stop_word_remover()\n",
    "stops = set(stopwords.words(\"indonesian\"))\n",
    "stops_eng = set(stopwords.words(\"english\"))\n",
    "\n",
    "def remove_stops(row):\n",
    "    my_list = row[\"Stemmed_Word\"]\n",
    "    meaningful_words = [w for w in my_list if not w in stops]\n",
    "    meaningful_words = [w for w in meaningful_words if not w in stops_eng]\n",
    "    meaningful_words = [stopword.remove(w) for w in meaningful_words]\n",
    "    return(meaningful_words)\n",
    "\n",
    "datar['Stem_Meaningful'] = datar.apply(remove_stops, axis=1)\n",
    "print(datar['Stem_Meaningful'])"
   ]
  },
  {
   "cell_type": "markdown",
   "metadata": {},
   "source": [
    "Kemudian seluruh data yang sudah diproses didalam kolom baru pada variabel datar di gabungkan dengan data sebelumnya dengan nama variabel baru yaitu Processed melalui fungsi rejoin_word."
   ]
  },
  {
   "cell_type": "code",
   "execution_count": 39,
   "metadata": {},
   "outputs": [
    {
     "name": "stdout",
     "output_type": "stream",
     "text": [
      "0      yg dah follow fb duluan tingglin jejak twit to...\n",
      "1      dpr members swear name god betray people makin...\n",
      "2      lahir rakyat jabat mositidakdipercaya cabutomn...\n",
      "3      listening resistence tolakomnibuslaw menolakpu...\n",
      "4      justice peace fuck police tolakuuciptakerja to...\n",
      "                             ...                        \n",
      "995    jokowi langsung jati kolega mositidakpercaya r...\n",
      "996    simak fakta amp argumentasi asfinawati direktu...\n",
      "997    ruu sah sidang paripurna sidang paripurna hapu...\n",
      "998    trus gerak kawan mahasiswabergerak tolakomnibu...\n",
      "999               conto kerja keras keringat https https\n",
      "Name: Processed, Length: 1000, dtype: object\n",
      "['tweetDate', 'content', 'twitterProfile', 'tweetUrl', 'timestamp', 'query', 'Word', 'Stemmed_Word', 'Stem_Meaningful', 'Processed']\n"
     ]
    }
   ],
   "source": [
    "def rejoin_words(row):\n",
    "    my_list = row['Stem_Meaningful']\n",
    "    joined_words = (\" \".join(my_list))\n",
    "    return joined_words\n",
    "\n",
    "datar['Processed'] = datar.apply(rejoin_words, axis=1)\n",
    "print(datar['Processed'])\n",
    "print(list(datar))"
   ]
  },
  {
   "cell_type": "markdown",
   "metadata": {},
   "source": [
    "Data yang sudah digabungkan tadi akan memiliki banyak kolom yang tidak terpakai akibat penggabungan pada proses preprocessing data, oleh karena itu diperlukan proses penghapusan data oleh sistem menggunakan perintah drop seperti pada code dibawah sehingga menyisakan data dengan nama variabel label dan processed csv baru"
   ]
  },
  {
   "cell_type": "code",
   "execution_count": 40,
   "metadata": {},
   "outputs": [],
   "source": [
    "cols_to_drop = ['content', 'Word', 'Stemmed_Word', 'Stem_Meaningful']\n",
    "datar = datar.drop(cols_to_drop, axis = 'columns')\n",
    "\n",
    "datar.to_csv('twitter_hashtag_baru.csv', index=False)"
   ]
  },
  {
   "cell_type": "markdown",
   "metadata": {},
   "source": [
    "**MODELLING**\n",
    "\n",
    "Setelah melewati tahap data preprocessing hingga menghasilkan data baru, selanjutnya tahap modelling. Modelling yang dilakukan juga telah dimplementasikan ke dalam kode Python dengan menggunakan algoritma Support Vector Machine (Support Vector Machine). Berikut merupakan tahapan pembuatan \n",
    "model dari Sentiment Analysis klasifikasi Kata Kasar dan Bukan Kata Kasar :\n",
    "\n",
    "sebelumnya kita melakukan perintah pembacaan data kembali pada data yang sudah selesai diproses melalui tahapan preprocessing data untuk persiapan proses modelling."
   ]
  },
  {
   "cell_type": "code",
   "execution_count": 2,
   "metadata": {},
   "outputs": [],
   "source": [
    "import pandas as pd\n",
    "import numpy as np\n",
    "import nltk\n",
    "import sklearn"
   ]
  },
  {
   "cell_type": "code",
   "execution_count": 3,
   "metadata": {},
   "outputs": [
    {
     "name": "stdout",
     "output_type": "stream",
     "text": [
      "       Label                                          Processed\n",
      "0    POSITIF  yg dah follow fb duluan tingglin jejak twit to...\n",
      "1    POSITIF  dpr members swear name god betray people makin...\n",
      "2    POSITIF  justice peace fuck police tolakuuciptakerja to...\n",
      "3    POSITIF  tuantigabelas fought system tolakomnibuslaw https\n",
      "4    POSITIF   come back mositidakpercaya tolakomnibuslaw https\n",
      "..       ...                                                ...\n",
      "994  POSITIF  semangat janganberhentibergerak tolakomnibusla...\n",
      "995  POSITIF  semangat janganberhentibergerak tolakomnibusla...\n",
      "996  POSITIF  semangat janganberhentibergerak tolakomnibusla...\n",
      "997  POSITIF  semangat janganberhentibergerak tolakomnibusla...\n",
      "998  POSITIF  semangat janganberhentibergerak tolakomnibusla...\n",
      "\n",
      "[999 rows x 2 columns]\n",
      "Index(['Label', 'Processed'], dtype='object')\n"
     ]
    }
   ],
   "source": [
    "datas = pd.read_csv('twitter_hashtag_kedua.csv')\n",
    "\n",
    "print(datas)\n",
    "print(datas.columns)"
   ]
  },
  {
   "cell_type": "code",
   "execution_count": 4,
   "metadata": {},
   "outputs": [
    {
     "name": "stdout",
     "output_type": "stream",
     "text": [
      "Number of rows label\n",
      "NEGATIF    704\n",
      "POSITIF    295\n",
      "Name: Label, dtype: int64\n",
      "\n"
     ]
    },
    {
     "data": {
      "text/plain": [
       "<function matplotlib.pyplot.show(*args, **kw)>"
      ]
     },
     "execution_count": 4,
     "metadata": {},
     "output_type": "execute_result"
    },
    {
     "data": {
      "image/png": "[encoded data removed]",
      "text/plain": [
       "<Figure size 432x288 with 1 Axes>"
      ]
     },
     "metadata": {
      "needs_background": "light"
     },
     "output_type": "display_data"
    }
   ],
   "source": [
    "import matplotlib.pyplot as plt\n",
    "\n",
    "print('Number of rows label')\n",
    "print(datas['Label'].value_counts())\n",
    "print('')\n",
    "plt.figure()\n",
    "pd.value_counts(datas['Label']).plot.bar(title=\"jumlah data\")\n",
    "plt.xlabel('Label')\n",
    "plt.ylabel('Number of Rows')\n",
    "plt.show "
   ]
  },
  {
   "cell_type": "code",
   "execution_count": 8,
   "metadata": {},
   "outputs": [
    {
     "name": "stdout",
     "output_type": "stream",
     "text": [
      "Jumlah data dari setiap label :\n",
      "NEGATIF    704\n",
      "POSITIF    295\n",
      "Name: Label, dtype: int64\n"
     ]
    },
    {
     "data": {
      "text/html": [
       "<div>\n",
       "<style scoped>\n",
       "    .dataframe tbody tr th:only-of-type {\n",
       "        vertical-align: middle;\n",
       "    }\n",
       "\n",
       "    .dataframe tbody tr th {\n",
       "        vertical-align: top;\n",
       "    }\n",
       "\n",
       "    .dataframe thead th {\n",
       "        text-align: right;\n",
       "    }\n",
       "</style>\n",
       "<table border=\"1\" class=\"dataframe\">\n",
       "  <thead>\n",
       "    <tr style=\"text-align: right;\">\n",
       "      <th></th>\n",
       "      <th>Label</th>\n",
       "      <th>Processed</th>\n",
       "    </tr>\n",
       "  </thead>\n",
       "  <tbody>\n",
       "    <tr>\n",
       "      <th>0</th>\n",
       "      <td>POSITIF</td>\n",
       "      <td>yg dah follow fb duluan tingglin jejak twit to...</td>\n",
       "    </tr>\n",
       "    <tr>\n",
       "      <th>1</th>\n",
       "      <td>POSITIF</td>\n",
       "      <td>dpr members swear name god betray people makin...</td>\n",
       "    </tr>\n",
       "    <tr>\n",
       "      <th>2</th>\n",
       "      <td>POSITIF</td>\n",
       "      <td>justice peace fuck police tolakuuciptakerja to...</td>\n",
       "    </tr>\n",
       "    <tr>\n",
       "      <th>3</th>\n",
       "      <td>POSITIF</td>\n",
       "      <td>tuantigabelas fought system tolakomnibuslaw https</td>\n",
       "    </tr>\n",
       "    <tr>\n",
       "      <th>4</th>\n",
       "      <td>POSITIF</td>\n",
       "      <td>come back mositidakpercaya tolakomnibuslaw https</td>\n",
       "    </tr>\n",
       "    <tr>\n",
       "      <th>5</th>\n",
       "      <td>POSITIF</td>\n",
       "      <td>omnibus law threatens indigenous peoples tradi...</td>\n",
       "    </tr>\n",
       "    <tr>\n",
       "      <th>7</th>\n",
       "      <td>POSITIF</td>\n",
       "      <td>poster said born people took office mositidakp...</td>\n",
       "    </tr>\n",
       "    <tr>\n",
       "      <th>8</th>\n",
       "      <td>POSITIF</td>\n",
       "      <td>goes jakarta elites reformasidikorupsi tolakom...</td>\n",
       "    </tr>\n",
       "    <tr>\n",
       "      <th>9</th>\n",
       "      <td>POSITIF</td>\n",
       "      <td>visited bogor palace still meet students peopl...</td>\n",
       "    </tr>\n",
       "    <tr>\n",
       "      <th>10</th>\n",
       "      <td>POSITIF</td>\n",
       "      <td>think movie scene photo indonesian student pro...</td>\n",
       "    </tr>\n",
       "  </tbody>\n",
       "</table>\n",
       "</div>"
      ],
      "text/plain": [
       "      Label                                          Processed\n",
       "0   POSITIF  yg dah follow fb duluan tingglin jejak twit to...\n",
       "1   POSITIF  dpr members swear name god betray people makin...\n",
       "2   POSITIF  justice peace fuck police tolakuuciptakerja to...\n",
       "3   POSITIF  tuantigabelas fought system tolakomnibuslaw https\n",
       "4   POSITIF   come back mositidakpercaya tolakomnibuslaw https\n",
       "5   POSITIF  omnibus law threatens indigenous peoples tradi...\n",
       "7   POSITIF  poster said born people took office mositidakp...\n",
       "8   POSITIF  goes jakarta elites reformasidikorupsi tolakom...\n",
       "9   POSITIF  visited bogor palace still meet students peopl...\n",
       "10  POSITIF  think movie scene photo indonesian student pro..."
      ]
     },
     "execution_count": 8,
     "metadata": {},
     "output_type": "execute_result"
    }
   ],
   "source": [
    "def get_top_data(top_n = 1000):\n",
    "    datas_positive = datas[datas['Label'] == 'POSITIF'].head(top_n)\n",
    "    datas_negative = datas[datas['Label'] == 'NEGATIF'].head(top_n)\n",
    "    datas_small = pd.concat([datas_positive,datas_negative])\n",
    "    return datas_small\n",
    "\n",
    "datas_small = get_top_data(top_n=855)\n",
    "\n",
    "print(\"Jumlah data dari setiap label :\")\n",
    "print((datas_small['Label'].value_counts()))\n",
    "datas_small.head(10)"
   ]
  },
  {
   "cell_type": "markdown",
   "metadata": {},
   "source": [
    "Gambar diatas menunjukkan proses sampling data. Sampling data dilakukan karena jumlah perbandingan data antara positif dan negatif tidak sama. Sampling data yang dilakukan sesuai dengan jumlah data negatif yaitu 704."
   ]
  },
  {
   "cell_type": "code",
   "execution_count": 13,
   "metadata": {},
   "outputs": [
    {
     "name": "stdout",
     "output_type": "stream",
     "text": [
      "Banyak data x_train :  899\n",
      "Banyak data x_test :  100\n",
      "Banyak data y_train :  899\n",
      "Banyak data y_test :  100\n",
      " \n",
      " \n",
      "Banyak data x_train :  849\n",
      "Banyak data x_test :  150\n",
      "Banyak data y_train :  849\n",
      "Banyak data y_test :  150\n",
      " \n",
      " \n",
      "Banyak data x_train :  799\n",
      "Banyak data x_test :  200\n",
      "Banyak data y_train :  799\n",
      "Banyak data y_test :  200\n",
      " \n",
      " \n",
      "Banyak data x_train :  749\n",
      "Banyak data x_test :  250\n",
      "Banyak data y_train :  749\n",
      "Banyak data y_test :  250\n",
      " \n",
      " \n",
      "Banyak data x_train :  699\n",
      "Banyak data x_test :  300\n",
      "Banyak data y_train :  699\n",
      "Banyak data y_test :  300\n",
      " \n",
      " \n",
      "Banyak data x_train :  649\n",
      "Banyak data x_test :  350\n",
      "Banyak data y_train :  649\n",
      "Banyak data y_test :  350\n",
      " \n",
      " \n",
      "Banyak data x_train :  599\n",
      "Banyak data x_test :  400\n",
      "Banyak data y_train :  599\n",
      "Banyak data y_test :  400\n",
      " \n",
      " \n",
      "Banyak data x_train :  549\n",
      "Banyak data x_test :  450\n",
      "Banyak data y_train :  549\n",
      "Banyak data y_test :  450\n",
      " \n",
      " \n",
      "Banyak data x_train :  499\n",
      "Banyak data x_test :  500\n",
      "Banyak data y_train :  499\n",
      "Banyak data y_test :  500\n",
      " \n",
      " \n"
     ]
    }
   ],
   "source": [
    "import time\n",
    "from sklearn import svm\n",
    "from sklearn import metrics\n",
    "from sklearn.metrics import classification_report\n",
    "from sklearn.metrics import accuracy_score,confusion_matrix\n",
    "from sklearn.model_selection import train_test_split\n",
    "from sklearn.feature_extraction.text import TfidfVectorizer\n",
    "\n",
    "x = datas.Processed\n",
    "y = datas.Label\n",
    "\n",
    "x_small = datas_small.Processed\n",
    "y_small = datas_small.Label\n",
    "\n",
    "n_test_split = [0.1,0.15,0.20,0.25,0.30,0.35,0.40,0.45,0.50]\n",
    "tvec = TfidfVectorizer(min_df=5, max_df =0.8, sublinear_tf = True, use_idf = True)\n",
    "\n",
    "for test in n_test_split:\n",
    "    x_train, x_test, y_train, y_test = train_test_split(x_small, y_small, test_size = test)\n",
    "    \n",
    "    print('Banyak data x_train : ',len(x_train))\n",
    "    print('Banyak data x_test : ',len(x_test))\n",
    "    print('Banyak data y_train : ',len(y_train))\n",
    "    print('Banyak data y_test : ',len(y_test))\n",
    "    print(' ')\n",
    "    print(' ')"
   ]
  },
  {
   "cell_type": "markdown",
   "metadata": {},
   "source": [
    "Gambar diatas menunjukkan proses split data secara looping sebanyak 9 kali agar menghasilkan akurasi yang optimal."
   ]
  },
  {
   "cell_type": "markdown",
   "metadata": {},
   "source": [
    "Langkah berikutnya menambahkan perintah untuk mengimport library dan method yang dibutuhkan untu proses modelling dengan algoritma Support Vector Machine. Selain itu menuliskan metode klasifikasi Support Vector Machine dengan kernel linear. Selain itu, dituliskan fungsi klasifikasi \n",
    "menggunakan Support Vector Machine dengan kernel linear yang disimpan dalam variabel classifier_linear. Hasil klasifikasi tersebut menghasilkan nilai akurasi dengan menggunakan fungsi accuracy_score dan juga hasil evaluasi akanditampung menggunakan classification report untuk menghasilkan data evaluasi seperti akurasi, presisi dan recall."
   ]
  },
  {
   "cell_type": "code",
   "execution_count": 16,
   "metadata": {},
   "outputs": [
    {
     "name": "stdout",
     "output_type": "stream",
     "text": [
      "klasifikasi 0.5\n",
      "Waktu training : 0.011943s; Waktu Test: 0.008973s\n",
      " \n",
      "Final Accuracy: 0.892\n",
      " \n",
      "Report klasifikasi               precision    recall  f1-score   support\n",
      "\n",
      "     NEGATIF       0.88      0.97      0.93       344\n",
      "     POSITIF       0.92      0.72      0.81       156\n",
      "\n",
      "    accuracy                           0.89       500\n",
      "   macro avg       0.90      0.84      0.87       500\n",
      "weighted avg       0.89      0.89      0.89       500\n",
      "\n",
      " \n",
      "Confusion Matrix\n",
      "[[334  44]\n",
      " [ 10 112]]\n",
      " \n",
      " \n",
      " \n"
     ]
    }
   ],
   "source": [
    "train_vectors = tvec.fit_transform(x_train.values.astype('U'))\n",
    "test_vectors = tvec.transform(x_test.values.astype('U'))\n",
    "\n",
    "classifier_linear = svm.SVC(kernel='linear')\n",
    "t0 = time.time()\n",
    "classifier_linear.fit(train_vectors, y_train)\n",
    "t1 = time.time()\n",
    "prediction_linear = classifier_linear.predict(test_vectors)\n",
    "t2 = time.time()\n",
    "time_linear_train = t1 - t0\n",
    "time_linear_test = t2 - t1\n",
    "report = classification_report(y_test, prediction_linear)\n",
    "cfm = confusion_matrix(prediction_linear.astype(str),y_test.astype(str))\n",
    "\n",
    "#print\n",
    "print('klasifikasi %s' % (test))\n",
    "print(\"Waktu training : %fs; Waktu Test: %fs\" % (time_linear_train,time_linear_test))\n",
    "print(' ')\n",
    "print(\"Final Accuracy: %s\" % accuracy_score(y_test,prediction_linear))\n",
    "print(' ')\n",
    "print('Report klasifikasi', report)\n",
    "print(' ')\n",
    "print('Confusion Matrix')\n",
    "print(cfm)\n",
    "print(' ')\n",
    "print(' ')\n",
    "print(' ')"
   ]
  },
  {
   "cell_type": "code",
   "execution_count": 17,
   "metadata": {},
   "outputs": [
    {
     "name": "stdout",
     "output_type": "stream",
     "text": [
      "cross validation k = 5\n",
      "Accuracy: 0.89 (+/- 0.03)\n",
      " \n",
      "hasil akurasi cross validation : kfold 1\n",
      "0.91\n",
      "\n",
      "hasil akurasi cross validation : kfold 2\n",
      "0.89\n",
      "\n",
      "hasil akurasi cross validation : kfold 3\n",
      "0.90\n",
      "\n",
      "hasil akurasi cross validation : kfold 4\n",
      "0.86\n",
      "\n",
      "hasil akurasi cross validation : kfold 5\n",
      "0.89\n",
      "\n",
      "\n",
      "\n",
      "cross validation k = 6\n",
      "Accuracy: 0.89 (+/- 0.06)\n",
      " \n",
      "hasil akurasi cross validation : kfold 1\n",
      "0.92\n",
      "\n",
      "hasil akurasi cross validation : kfold 2\n",
      "0.88\n",
      "\n",
      "hasil akurasi cross validation : kfold 3\n",
      "0.90\n",
      "\n",
      "hasil akurasi cross validation : kfold 4\n",
      "0.87\n",
      "\n",
      "hasil akurasi cross validation : kfold 5\n",
      "0.84\n",
      "\n",
      "hasil akurasi cross validation : kfold 6\n",
      "0.93\n",
      "\n",
      "\n",
      "\n",
      "cross validation k = 7\n",
      "Accuracy: 0.89 (+/- 0.08)\n",
      " \n",
      "hasil akurasi cross validation : kfold 1\n",
      "0.94\n",
      "\n",
      "hasil akurasi cross validation : kfold 2\n",
      "0.86\n",
      "\n",
      "hasil akurasi cross validation : kfold 3\n",
      "0.89\n",
      "\n",
      "hasil akurasi cross validation : kfold 4\n",
      "0.92\n",
      "\n",
      "hasil akurasi cross validation : kfold 5\n",
      "0.83\n",
      "\n",
      "hasil akurasi cross validation : kfold 6\n",
      "0.86\n",
      "\n",
      "hasil akurasi cross validation : kfold 7\n",
      "0.93\n",
      "\n",
      "\n",
      "\n",
      "cross validation k = 8\n",
      "Accuracy: 0.89 (+/- 0.05)\n",
      " \n",
      "hasil akurasi cross validation : kfold 1\n",
      "0.94\n",
      "\n",
      "hasil akurasi cross validation : kfold 2\n",
      "0.89\n",
      "\n",
      "hasil akurasi cross validation : kfold 3\n",
      "0.86\n",
      "\n",
      "hasil akurasi cross validation : kfold 4\n",
      "0.90\n",
      "\n",
      "hasil akurasi cross validation : kfold 5\n",
      "0.89\n",
      "\n",
      "hasil akurasi cross validation : kfold 6\n",
      "0.87\n",
      "\n",
      "hasil akurasi cross validation : kfold 7\n",
      "0.85\n",
      "\n",
      "hasil akurasi cross validation : kfold 8\n",
      "0.92\n",
      "\n",
      "\n",
      "\n",
      "cross validation k = 9\n",
      "Accuracy: 0.89 (+/- 0.07)\n",
      " \n",
      "hasil akurasi cross validation : kfold 1\n",
      "0.93\n",
      "\n",
      "hasil akurasi cross validation : kfold 2\n",
      "0.91\n",
      "\n",
      "hasil akurasi cross validation : kfold 3\n",
      "0.86\n",
      "\n",
      "hasil akurasi cross validation : kfold 4\n",
      "0.89\n",
      "\n",
      "hasil akurasi cross validation : kfold 5\n",
      "0.95\n",
      "\n",
      "hasil akurasi cross validation : kfold 6\n",
      "0.82\n",
      "\n",
      "hasil akurasi cross validation : kfold 7\n",
      "0.87\n",
      "\n",
      "hasil akurasi cross validation : kfold 8\n",
      "0.87\n",
      "\n",
      "hasil akurasi cross validation : kfold 9\n",
      "0.91\n",
      "\n",
      "\n",
      "\n",
      "cross validation k = 10\n",
      "Accuracy: 0.89 (+/- 0.05)\n",
      " \n",
      "hasil akurasi cross validation : kfold 1\n",
      "0.94\n",
      "\n",
      "hasil akurasi cross validation : kfold 2\n",
      "0.88\n",
      "\n",
      "hasil akurasi cross validation : kfold 3\n",
      "0.88\n",
      "\n",
      "hasil akurasi cross validation : kfold 4\n",
      "0.90\n",
      "\n",
      "hasil akurasi cross validation : kfold 5\n",
      "0.90\n",
      "\n",
      "hasil akurasi cross validation : kfold 6\n",
      "0.90\n",
      "\n",
      "hasil akurasi cross validation : kfold 7\n",
      "0.86\n",
      "\n",
      "hasil akurasi cross validation : kfold 8\n",
      "0.86\n",
      "\n",
      "hasil akurasi cross validation : kfold 9\n",
      "0.86\n",
      "\n",
      "hasil akurasi cross validation : kfold 10\n",
      "0.92\n",
      "\n",
      "\n",
      "\n"
     ]
    }
   ],
   "source": [
    "from sklearn.model_selection import cross_val_score\n",
    "from sklearn.model_selection import KFold\n",
    "\n",
    "n_val = [5,6,7,8,9,10]\n",
    "for n in n_val:\n",
    "    kfold = KFold(n_splits=n)\n",
    "    clf = svm.SVC(kernel='linear')\n",
    "    scores = cross_val_score(clf, test_vectors, y_test, cv=kfold)\n",
    "    \n",
    "    print(\"cross validation k = %s\" %(n))\n",
    "    print(\"Accuracy: %0.2f (+/- %0.2f)\" % (scores.mean(), scores.std() * 2))\n",
    "    print(' ')\n",
    "    index = 0\n",
    "    for i in scores:\n",
    "        index += 1\n",
    "        print('hasil akurasi cross validation : kfold', index)\n",
    "        print(\"%0.2f\" % i)\n",
    "        print('')\n",
    "    print('')\n",
    "    print('')"
   ]
  },
  {
   "cell_type": "markdown",
   "metadata": {},
   "source": [
    "Pengujian dilakukan untuk mengklasifikasi data ke arah negatif (tidak mengandung kata kasar) atau positif (mengandung kata kasar) dan menghasilkan 704 data negatif dan 295 data positif dari total jumlah 1000 data dari hashtag #TolakOmnibusLaw dan dilakukan sampling kembali setelah di \n",
    "lakukan tahap preprocessing data, dan dimasukkan ke dalam proses modelling dan menjadi data training dan data testing. Pengujian Sentiment Analysis akan menguji model yang telah dibuat untuk mengeluarkan akurasi dengan evaluasi melalui metode split data dan k-fold cross validation. Tujuannya adalah untuk mengevaluasi model yang telah dibuat dan \n",
    "memperoleh akurasi yang optimal dari kedua metode yang dipakai."
   ]
  }
 ],
 "metadata": {
  "kernelspec": {
   "display_name": "Python 3",
   "language": "python",
   "name": "python3"
  },
  "language_info": {
   "codemirror_mode": {
    "name": "ipython",
    "version": 3
   },
   "file_extension": ".py",
   "mimetype": "text/x-python",
   "name": "python",
   "nbconvert_exporter": "python",
   "pygments_lexer": "ipython3",
   "version": "3.8.3"
  }
 },
 "nbformat": 4,
 "nbformat_minor": 4
}
