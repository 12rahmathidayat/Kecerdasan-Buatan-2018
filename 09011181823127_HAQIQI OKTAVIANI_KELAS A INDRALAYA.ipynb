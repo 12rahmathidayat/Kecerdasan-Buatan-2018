{
 "cells": [
  {
   "cell_type": "markdown",
   "metadata": {},
   "source": [
    "\n",
    "Nama : Haqiqi Oktaviani\n",
    "\n",
    "Nim : 09011181823127\n",
    "\n",
    "Artificial Neural Network\n",
    "\n",
    "Refrensi dataset :  https://github.com/aatcili/ANN_feedforward_and_BackPropagation\n"
   ]
  },
  {
   "cell_type": "markdown",
   "metadata": {},
   "source": [
    "melakukan IMPORT terlebih dahulu yaitu library numpy as np dan import matplotlib.pyplot as plt. Penggunaan as di sini, artinya kita menggantikan pemanggilan numpy dengan dengan prfix np untuk proses berikutnya juga menggantkan pemanggilan matplotlib.pyplot dengan prefix plt untuk proses berikutnya."
   ]
  },
  {
   "cell_type": "code",
   "execution_count": 5,
   "metadata": {},
   "outputs": [],
   "source": [
    "import numpy as np\n",
    "import matplotlib.pyplot as plt"
   ]
  },
  {
   "cell_type": "markdown",
   "metadata": {},
   "source": [
    "Melakukan inisialisasi yang fokus pada scientific computing, agar bisa menampilkan array"
   ]
  },
  {
   "cell_type": "code",
   "execution_count": 6,
   "metadata": {},
   "outputs": [],
   "source": [
    "w1 = np.random.randn(5,4)\n",
    "b1 = np.random.randn(1,4)\n",
    "w2 = np.random.randn(4,4)\n",
    "b2 = np.random.randn(1,4)\n",
    "w3 = np.random.randn(4,1)\n",
    "b3 = np.random.randn(1,1)"
   ]
  },
  {
   "cell_type": "markdown",
   "metadata": {},
   "source": [
    "Menampilkan array"
   ]
  },
  {
   "cell_type": "code",
   "execution_count": 7,
   "metadata": {},
   "outputs": [
    {
     "data": {
      "text/plain": [
       "array([[ 1.99727971, -0.29823244,  0.62614789, -0.30623341],\n",
       "       [-1.76496261, -0.0683076 ,  0.1750476 , -0.88990333],\n",
       "       [-0.92213744, -0.05629964,  2.10757901,  0.83300176],\n",
       "       [-1.29613301, -2.14541729, -1.59585021,  1.42220455],\n",
       "       [-0.80575213, -1.30865485, -2.16679516, -0.18458317]])"
      ]
     },
     "execution_count": 7,
     "metadata": {},
     "output_type": "execute_result"
    }
   ],
   "source": [
    "w1[:5]"
   ]
  },
  {
   "cell_type": "markdown",
   "metadata": {},
   "source": [
    "Untuk menampilkan random"
   ]
  },
  {
   "cell_type": "code",
   "execution_count": 8,
   "metadata": {},
   "outputs": [],
   "source": [
    "X = np.random.randn(900,5)\n",
    "beta = np.random.randn(5,1)"
   ]
  },
  {
   "cell_type": "markdown",
   "metadata": {},
   "source": [
    "Rumus "
   ]
  },
  {
   "cell_type": "code",
   "execution_count": 9,
   "metadata": {},
   "outputs": [],
   "source": [
    "y = np.log(X@beta + 20)"
   ]
  },
  {
   "cell_type": "markdown",
   "metadata": {},
   "source": [
    "### FeedForward Propagation\n",
    "yaitu jaringan antar node tidak membentuk siklus"
   ]
  },
  {
   "cell_type": "code",
   "execution_count": 10,
   "metadata": {},
   "outputs": [],
   "source": [
    "def relu (x):\n",
    "    return (x>0) * x"
   ]
  },
  {
   "cell_type": "code",
   "execution_count": 11,
   "metadata": {},
   "outputs": [
    {
     "data": {
      "text/plain": [
       "array([[ 1.99727971, -0.        ,  0.62614789, -0.        ],\n",
       "       [-0.        , -0.        ,  0.1750476 , -0.        ],\n",
       "       [-0.        , -0.        ,  2.10757901,  0.83300176],\n",
       "       [-0.        , -0.        , -0.        ,  1.42220455],\n",
       "       [-0.        , -0.        , -0.        , -0.        ]])"
      ]
     },
     "execution_count": 11,
     "metadata": {},
     "output_type": "execute_result"
    }
   ],
   "source": [
    "relu(w1)"
   ]
  },
  {
   "cell_type": "code",
   "execution_count": 12,
   "metadata": {},
   "outputs": [],
   "source": [
    "def sigmoid(x):\n",
    "    return 1 / 1 + np.exp(-x)"
   ]
  },
  {
   "cell_type": "code",
   "execution_count": 13,
   "metadata": {},
   "outputs": [],
   "source": [
    "z1 = X @ w1 + b1\n",
    "a1 = relu(z1)\n",
    "z2 =a1@w2 + b2\n",
    "a2 = relu(z2)\n",
    "z3 = a2 @w3 + b3\n",
    "y_pred = z3 # that is a regression problem, so no need a activation function"
   ]
  },
  {
   "cell_type": "code",
   "execution_count": 14,
   "metadata": {},
   "outputs": [
    {
     "data": {
      "text/plain": [
       "14.121041743483794"
      ]
     },
     "execution_count": 14,
     "metadata": {},
     "output_type": "execute_result"
    }
   ],
   "source": [
    "mse = 1/900 * np.sum((y-y_pred)**2)\n",
    "mse"
   ]
  },
  {
   "cell_type": "code",
   "execution_count": 15,
   "metadata": {},
   "outputs": [
    {
     "data": {
      "text/plain": [
       "14.121041743483794"
      ]
     },
     "execution_count": 15,
     "metadata": {},
     "output_type": "execute_result"
    }
   ],
   "source": [
    "np.mean((y-y_pred)**2)"
   ]
  },
  {
   "cell_type": "markdown",
   "metadata": {},
   "source": [
    "### Back Propagation\n",
    "back propagation yaitu algoritma untuk melakukan proses pembelajaran terarah pada jaringan saraf tiruan untuk mencari beban pada setiap neuron yang menghasilkan nilai kesalahan seminimal mungkin melalui data pembelajaran yang diberikan."
   ]
  },
  {
   "cell_type": "code",
   "execution_count": 16,
   "metadata": {},
   "outputs": [],
   "source": [
    "dy_pred = y_pred - y\n",
    "dw3 = (1/900) * (a2.T @ dy_pred)\n",
    "db3 = 1/900 * np.sum(y_pred -y, axis = 0, keepdims= True)\n",
    "da2 = (y_pred - y) @ w3.T\n",
    "dz2 = da2 * (a2>0).astype(float)\n",
    "dw2 = (1/900) * (a1.T @dz2)\n",
    "db2 = (1/900) * np.sum(dz2, axis = 0, keepdims=True)\n",
    "da1 = dz2 @ w2.T\n",
    "dz1 = da1 * (a1>0).astype(float)\n",
    "dw1 = (1/900) * X.T @ dz1\n",
    "db1 = (1/900) * np.sum(dz1, axis = 0, keepdims= True)"
   ]
  },
  {
   "cell_type": "code",
   "execution_count": 17,
   "metadata": {},
   "outputs": [],
   "source": [
    "lr = 0.1 # learning rate"
   ]
  },
  {
   "cell_type": "code",
   "execution_count": 18,
   "metadata": {},
   "outputs": [],
   "source": [
    "w1 = w1 - lr * dw1\n",
    "b1 = b1 - lr * db1\n",
    "w2 = w2 - lr * dw2\n",
    "b2 = b2 - lr * db2\n",
    "w3 = w3 - lr * dw3\n",
    "b3 = b3 - lr * db3"
   ]
  },
  {
   "cell_type": "code",
   "execution_count": 19,
   "metadata": {},
   "outputs": [
    {
     "data": {
      "text/plain": [
       "10.674532931856938"
      ]
     },
     "execution_count": 19,
     "metadata": {},
     "output_type": "execute_result"
    }
   ],
   "source": [
    "np.abs(dw1).sum()"
   ]
  },
  {
   "cell_type": "markdown",
   "metadata": {},
   "source": [
    "#### With gradient descent\n",
    "with gradient descent adalah oroses yang terjadi pada fase backpropagation dimana tujuannya adalah untuk secara terus-menerus mengubah parameter model dalam arah yang berlawanan berdasarkan bobot, memperbarui secara konsisten."
   ]
  },
  {
   "cell_type": "code",
   "execution_count": 20,
   "metadata": {},
   "outputs": [
    {
     "name": "stdout",
     "output_type": "stream",
     "text": [
      "l: 491.4719875562606\n",
      "dw1: 508.958706575639\n",
      "dw2: 523.6807846736276\n",
      "dw3: 278.81329240535837\n"
     ]
    },
    {
     "name": "stderr",
     "output_type": "stream",
     "text": [
      "C:\\Users\\user\\Anaconda3\\lib\\site-packages\\ipykernel_launcher.py:4: RuntimeWarning: overflow encountered in matmul\n",
      "  after removing the cwd from sys.path.\n",
      "C:\\Users\\user\\Anaconda3\\lib\\site-packages\\ipykernel_launcher.py:15: RuntimeWarning: overflow encountered in matmul\n",
      "  from ipykernel import kernelapp as app\n",
      "C:\\Users\\user\\Anaconda3\\lib\\site-packages\\ipykernel_launcher.py:17: RuntimeWarning: overflow encountered in matmul\n",
      "C:\\Users\\user\\Anaconda3\\lib\\site-packages\\ipykernel_launcher.py:18: RuntimeWarning: invalid value encountered in multiply\n",
      "C:\\Users\\user\\Anaconda3\\lib\\site-packages\\ipykernel_launcher.py:19: RuntimeWarning: invalid value encountered in matmul\n",
      "C:\\Users\\user\\Anaconda3\\lib\\site-packages\\ipykernel_launcher.py:2: RuntimeWarning: invalid value encountered in greater\n",
      "  \n",
      "C:\\Users\\user\\Anaconda3\\lib\\site-packages\\ipykernel_launcher.py:17: RuntimeWarning: invalid value encountered in matmul\n",
      "C:\\Users\\user\\Anaconda3\\lib\\site-packages\\ipykernel_launcher.py:18: RuntimeWarning: invalid value encountered in greater\n"
     ]
    },
    {
     "name": "stdout",
     "output_type": "stream",
     "text": [
      "l: 5.83201610441534e+179\n",
      "dw1: nan\n",
      "dw2: nan\n",
      "dw3: 9.724895345054911e+90\n"
     ]
    },
    {
     "name": "stderr",
     "output_type": "stream",
     "text": [
      "C:\\Users\\user\\Anaconda3\\lib\\site-packages\\numpy\\core\\fromnumeric.py:90: RuntimeWarning: overflow encountered in reduce\n",
      "  return ufunc.reduce(obj, axis, dtype, out, **passkwargs)\n",
      "C:\\Users\\user\\Anaconda3\\lib\\site-packages\\ipykernel_launcher.py:13: RuntimeWarning: overflow encountered in matmul\n",
      "  del sys.path[0]\n",
      "C:\\Users\\user\\Anaconda3\\lib\\site-packages\\ipykernel_launcher.py:14: RuntimeWarning: invalid value encountered in multiply\n",
      "  \n",
      "C:\\Users\\user\\Anaconda3\\lib\\site-packages\\ipykernel_launcher.py:8: RuntimeWarning: overflow encountered in square\n",
      "  \n"
     ]
    },
    {
     "name": "stdout",
     "output_type": "stream",
     "text": [
      "l: inf\n",
      "dw1: nan\n",
      "dw2: nan\n",
      "dw3: 3.3652163427716074e+179\n",
      "l: inf\n",
      "dw1: nan\n",
      "dw2: nan\n",
      "dw3: 1.1645041547326996e+268\n"
     ]
    },
    {
     "name": "stderr",
     "output_type": "stream",
     "text": [
      "C:\\Users\\user\\Anaconda3\\lib\\site-packages\\ipykernel_launcher.py:11: RuntimeWarning: overflow encountered in matmul\n",
      "  # This is added back by InteractiveShellApp.init_path()\n",
      "C:\\Users\\user\\Anaconda3\\lib\\site-packages\\ipykernel_launcher.py:6: RuntimeWarning: invalid value encountered in matmul\n",
      "  \n",
      "C:\\Users\\user\\Anaconda3\\lib\\site-packages\\ipykernel_launcher.py:11: RuntimeWarning: invalid value encountered in matmul\n",
      "  # This is added back by InteractiveShellApp.init_path()\n"
     ]
    },
    {
     "name": "stdout",
     "output_type": "stream",
     "text": [
      "l: nan\n",
      "dw1: nan\n",
      "dw2: nan\n",
      "dw3: nan\n",
      "l: nan\n",
      "dw1: nan\n",
      "dw2: nan\n",
      "dw3: nan\n"
     ]
    }
   ],
   "source": [
    "for i in range(501):\n",
    "    z1 = X@w1+ b1\n",
    "    a1 = relu(z1)\n",
    "    a2 = a1@w2 + b2\n",
    "    a2 = relu(z2)\n",
    "    y_pred = a2@w3 + b3\n",
    "    if i%100==0:\n",
    "        print(\"l:\", np.mean((y-y_pred)**2))\n",
    "\n",
    "    dy_pred = y_pred - y\n",
    "    dw3 = 1/900*(a2.T@dy_pred)\n",
    "    db3 = 1/900*(np.sum(dy_pred, axis=0, keepdims=True))\n",
    "    da2 = dy_pred@w3.T\n",
    "    dz2 = da2*(a2>0).astype(float)\n",
    "    dw2 = 1/900*(a1.T@dz2)\n",
    "    db2 = 1/900*(np.sum(dz2, axis=0, keepdims=True))\n",
    "    da1 = dz2@w2.T\n",
    "    dz1 = da1*(a1>0).astype(float)\n",
    "    dw1 = 1/900*(X.T@dz1)\n",
    "    db1 = 1/900*(np.sum(dz1, axis=0, keepdims=True))\n",
    "\n",
    "    w1 = w1 - lr*dw1\n",
    "    b1 = b1 - lr*db1\n",
    "    w2 = w2 - lr*dw2\n",
    "    b2 = b2 - lr*db2\n",
    "    w3 = w3 - lr*dw3\n",
    "    b3 = b3 - lr*db3\n",
    "\n",
    "    if i%100==0:\n",
    "        print(\"dw1:\", np.abs(dw1).sum())\n",
    "        print(\"dw2:\", np.abs(dw2).sum())\n",
    "        print(\"dw3:\", np.abs(dw3).sum())"
   ]
  },
  {
   "cell_type": "markdown",
   "metadata": {},
   "source": [
    "#### With Stochastic Gradient Descent\n"
   ]
  },
  {
   "cell_type": "code",
   "execution_count": 21,
   "metadata": {},
   "outputs": [],
   "source": [
    "X = np.random.randn(90,5)\n",
    "beta = np.random.randn(5,1)\n",
    "y = np.log(X@beta+20)"
   ]
  },
  {
   "cell_type": "code",
   "execution_count": 22,
   "metadata": {},
   "outputs": [],
   "source": [
    "w1 = np.random.randn(5,4)\n",
    "b1 = np.zeros(shape=(1,4))\n",
    "w2 = np.random.randn(4,4)\n",
    "b2 = np.zeros(shape=(1,4))\n",
    "w3 = np.random.randn(4,1)\n",
    "b3 = np.zeros(shape=(1,1))\n",
    "lr = 0.1"
   ]
  },
  {
   "cell_type": "code",
   "execution_count": 23,
   "metadata": {},
   "outputs": [
    {
     "name": "stdout",
     "output_type": "stream",
     "text": [
      "l: 0.07800644814638706\n",
      "dw3: 0.14407342482611368\n",
      "l: 0.04681680050969631\n",
      "dw3: 0.03180770406075565\n",
      "l: 0.050886991796735316\n",
      "dw3: 0.0012404039367786277\n",
      "l: 0.052793258854236996\n",
      "dw3: 0.014798500591720248\n",
      "l: 0.05248306132758684\n",
      "dw3: 0.012415559629370207\n",
      "l: 0.052079033874154315\n",
      "dw3: 0.009479907654614003\n"
     ]
    }
   ],
   "source": [
    "for i in range(501):\n",
    "    for rx, ry in zip(X, y):\n",
    "        # feedforward\n",
    "        rx = rx.reshape(1,-1)\n",
    "        m = rx.shape[0]\n",
    "        ry = ry.reshape(1,-1)\n",
    "        z1 = rx @ w1+ b1\n",
    "        a1 = relu(z1)\n",
    "        z2 = a1 @ w2 + b2\n",
    "        a2 = relu(z2)\n",
    "        y_pred = a2 @ w3 + b3\n",
    "        \n",
    "        # back propagation\n",
    "        dy_pred = y_pred - ry\n",
    "        dw3 = 1/m*(a2.T @ dy_pred)\n",
    "        db3 = 1/m*(np.sum(dy_pred, axis=0, keepdims=True))\n",
    "        da2 = dy_pred @ w3.T\n",
    "        dz2 = da2*(a2>0).astype(float)\n",
    "        dw2 = 1/m*(a1.T @ dz2)\n",
    "        db2 = 1/m*(np.sum(dz2, axis=0, keepdims=True))\n",
    "        da1 = dz2 @ w2.T\n",
    "        dz1 = da1*(a1>0).astype(float)\n",
    "        dw1 = 1/m*(rx.T @ dz1)\n",
    "        db1 = 1/m*(np.sum(dz1, axis=0, keepdims=True))\n",
    "        \n",
    "        \n",
    "        # better w values\n",
    "        w1 = w1 - lr*dw1\n",
    "        b1 = b1 - lr*db1\n",
    "        w2 = w2 - lr*dw2\n",
    "        b2 = b2 - lr*db2\n",
    "        w3 = w3 - lr*dw3\n",
    "        b3 = b3 - lr*db3\n",
    "\n",
    "    if i%100==0:\n",
    "\n",
    "        print(\"l:\", np.mean((y-y_pred)**2))\n",
    "        print(\"dw3:\", np.abs(dw3).sum())"
   ]
  },
  {
   "cell_type": "markdown",
   "metadata": {},
   "source": [
    "melakukan perhitungan "
   ]
  },
  {
   "cell_type": "markdown",
   "metadata": {},
   "source": [
    "Untuk perhitungannya, nilai y1 diperoleh dengan menghitung nilai z1\n",
    "\n",
    "terlebih dahulu (perhitungan linier).\n",
    "\n",
    "z1=w11x1+w21x2+w31x3+b1\n",
    "\n",
    "Setelah diperoleh z1\n",
    "\n",
    "output prediksi y1 diperoleh dengan menerapkan fungsi aktivasi terhadap z1\n",
    "\n",
    "\n",
    "y1=σ(z1)\n",
    "\n",
    "Perhitungan untuk semua y\n",
    "\n",
    "secara umum bisa menggunakan rumus:\n",
    "\n",
    "yj=σ(∑i=1Nwijxi+bj)"
   ]
  }
 ],
 "metadata": {
  "kernelspec": {
   "display_name": "Python 3",
   "language": "python",
   "name": "python3"
  },
  "language_info": {
   "codemirror_mode": {
    "name": "ipython",
    "version": 3
   },
   "file_extension": ".py",
   "mimetype": "text/x-python",
   "name": "python",
   "nbconvert_exporter": "python",
   "pygments_lexer": "ipython3",
   "version": "3.6.4"
  }
 },
 "nbformat": 4,
 "nbformat_minor": 2
}
