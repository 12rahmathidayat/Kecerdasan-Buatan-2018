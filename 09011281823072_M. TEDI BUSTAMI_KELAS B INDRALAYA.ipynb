{
 "cells": [
  {
   "cell_type": "markdown",
   "metadata": {},
   "source": [
    "### Nama : M. Tedi Bustami"
   ]
  },
  {
   "cell_type": "markdown",
   "metadata": {},
   "source": [
    "### NIM : 0901128182372"
   ]
  },
  {
   "cell_type": "markdown",
   "metadata": {},
   "source": [
    "### Kelas : SK5B"
   ]
  },
  {
   "cell_type": "markdown",
   "metadata": {},
   "source": [
    "### Tugas UTS kecerdasan Buatan"
   ]
  },
  {
   "cell_type": "markdown",
   "metadata": {},
   "source": [
    "Artificial Neural Network 4 Gender ID by Voice\n",
    "\n",
    "Source : https://www.kaggle.com/vaakesan/artificial-neural-network-for-gender-recognition"
   ]
  },
  {
   "cell_type": "markdown",
   "metadata": {},
   "source": [
    "Mengalisis ANN dengan tema Memprediksi Jenis Kelamin dengan suara dan Artificial Neural Network. Dari dataset ini menghasilkan output akhir berupa pengklasifikasian jenis kelamin memakai Jaringan syaraf tiruan pada suara yang di tangkap.\n",
    "\n",
    "fungsi Kernel ini akan menggunakan jaringan saraf tiruan untuk mengklasifikasikan suara berdasarkan gender. Jaringan saraf akan memiliki dua lapisan tersembunyi, akan menggunakan fungsi aktivasi penyearah untuk setiap node di lapisan tersembunyi, dan menggunakan fungsi aktivasi logistik untuk menerima probabilitas setiap kelas di lapisan keluaran dan akan menggunakan penurunan gradien stokastik untuk meminimalkan fungsi tujuan (entropi silang). \n",
    "\n",
    "dengan memulai dengan membaca dataset dan melakukan beberapa eksplorasi data dasar. Cara kerja Neural Network dapat dianalogikan sebagaimana halnya manusia belajar dengan mengunakan contoh atau yang disebut sebagai supervised learning. Sebuah Neural Network dikonfigurasi untuk aplikasi tertentu, seperti pengenalan pola atau klasifikasi data, dan kemudian disempurnakan melalui proses pembelajaran"
   ]
  },
  {
   "cell_type": "markdown",
   "metadata": {},
   "source": [
    "### Data Explore dan Import Persiapan"
   ]
  },
  {
   "cell_type": "code",
   "execution_count": 7,
   "metadata": {
    "_cell_guid": "77950589-2630-4523-933b-bd8921d67f58",
    "_uuid": "1ad0bea0d301b1cb04430870609afde2954fa8d8"
   },
   "outputs": [
    {
     "ename": "ModuleNotFoundError",
     "evalue": "No module named 'numpy'",
     "output_type": "error",
     "traceback": [
      "\u001b[1;31m---------------------------------------------------------------------------\u001b[0m",
      "\u001b[1;31mModuleNotFoundError\u001b[0m                       Traceback (most recent call last)",
      "\u001b[1;32m<ipython-input-7-342e5869d9b4>\u001b[0m in \u001b[0;36m<module>\u001b[1;34m\u001b[0m\n\u001b[1;32m----> 1\u001b[1;33m \u001b[1;32mimport\u001b[0m \u001b[0mnumpy\u001b[0m \u001b[1;32mas\u001b[0m \u001b[0mnp\u001b[0m \u001b[1;31m# linear algebra\u001b[0m\u001b[1;33m\u001b[0m\u001b[1;33m\u001b[0m\u001b[0m\n\u001b[0m\u001b[0;32m      2\u001b[0m \u001b[1;32mimport\u001b[0m \u001b[0mmatplotlib\u001b[0m\u001b[1;33m.\u001b[0m\u001b[0mpyplot\u001b[0m \u001b[1;32mas\u001b[0m \u001b[0mplt\u001b[0m\u001b[1;33m\u001b[0m\u001b[1;33m\u001b[0m\u001b[0m\n\u001b[0;32m      3\u001b[0m \u001b[1;32mimport\u001b[0m \u001b[0mpandas\u001b[0m \u001b[1;32mas\u001b[0m \u001b[0mpd\u001b[0m \u001b[1;31m# data processing, CSV file I/O (e.g. pd.read_csv)\u001b[0m\u001b[1;33m\u001b[0m\u001b[1;33m\u001b[0m\u001b[0m\n",
      "\u001b[1;31mModuleNotFoundError\u001b[0m: No module named 'numpy'"
     ]
    }
   ],
   "source": [
    "import numpy as np # linear algebra\n",
    "import matplotlib.pyplot as plt\n",
    "import pandas as pd # data processing, CSV file I/O (e.g. pd.read_csv)"
   ]
  },
  {
   "cell_type": "markdown",
   "metadata": {},
   "source": [
    "File data input tersedia di direktori \"../input/\". Misalnya, menjalankan ini (dengan mengklik jalankan atau menekan Shift + Enter) akan mencantumkan file di direktori input"
   ]
  },
  {
   "cell_type": "code",
   "execution_count": 2,
   "metadata": {
    "_cell_guid": "0d168339-5289-41a2-a421-e1a744dbe2b0",
    "_uuid": "f7866d4122340df1606ff8a1968322ebab40d955"
   },
   "outputs": [
    {
     "ename": "FileNotFoundError",
     "evalue": "[WinError 2] The system cannot find the file specified",
     "output_type": "error",
     "traceback": [
      "\u001b[1;31m---------------------------------------------------------------------------\u001b[0m",
      "\u001b[1;31mFileNotFoundError\u001b[0m                         Traceback (most recent call last)",
      "\u001b[1;32m<ipython-input-2-5aefdbcc3113>\u001b[0m in \u001b[0;36m<module>\u001b[1;34m\u001b[0m\n\u001b[0;32m      1\u001b[0m \u001b[1;32mfrom\u001b[0m \u001b[0msubprocess\u001b[0m \u001b[1;32mimport\u001b[0m \u001b[0mcheck_output\u001b[0m\u001b[1;33m\u001b[0m\u001b[1;33m\u001b[0m\u001b[0m\n\u001b[1;32m----> 2\u001b[1;33m \u001b[0mprint\u001b[0m\u001b[1;33m(\u001b[0m\u001b[0mcheck_output\u001b[0m\u001b[1;33m(\u001b[0m\u001b[1;33m[\u001b[0m\u001b[1;34m\"ls\"\u001b[0m\u001b[1;33m,\u001b[0m \u001b[1;34m\"../input\"\u001b[0m\u001b[1;33m]\u001b[0m\u001b[1;33m)\u001b[0m\u001b[1;33m.\u001b[0m\u001b[0mdecode\u001b[0m\u001b[1;33m(\u001b[0m\u001b[1;34m\"utf8\"\u001b[0m\u001b[1;33m)\u001b[0m\u001b[1;33m)\u001b[0m\u001b[1;33m\u001b[0m\u001b[1;33m\u001b[0m\u001b[0m\n\u001b[0m",
      "\u001b[1;32mc:\\users\\user\\appdata\\local\\programs\\python\\python38-32\\lib\\subprocess.py\u001b[0m in \u001b[0;36mcheck_output\u001b[1;34m(timeout, *popenargs, **kwargs)\u001b[0m\n\u001b[0;32m    409\u001b[0m         \u001b[0mkwargs\u001b[0m\u001b[1;33m[\u001b[0m\u001b[1;34m'input'\u001b[0m\u001b[1;33m]\u001b[0m \u001b[1;33m=\u001b[0m \u001b[1;34m''\u001b[0m \u001b[1;32mif\u001b[0m \u001b[0mkwargs\u001b[0m\u001b[1;33m.\u001b[0m\u001b[0mget\u001b[0m\u001b[1;33m(\u001b[0m\u001b[1;34m'universal_newlines'\u001b[0m\u001b[1;33m,\u001b[0m \u001b[1;32mFalse\u001b[0m\u001b[1;33m)\u001b[0m \u001b[1;32melse\u001b[0m \u001b[1;34mb''\u001b[0m\u001b[1;33m\u001b[0m\u001b[1;33m\u001b[0m\u001b[0m\n\u001b[0;32m    410\u001b[0m \u001b[1;33m\u001b[0m\u001b[0m\n\u001b[1;32m--> 411\u001b[1;33m     return run(*popenargs, stdout=PIPE, timeout=timeout, check=True,\n\u001b[0m\u001b[0;32m    412\u001b[0m                **kwargs).stdout\n\u001b[0;32m    413\u001b[0m \u001b[1;33m\u001b[0m\u001b[0m\n",
      "\u001b[1;32mc:\\users\\user\\appdata\\local\\programs\\python\\python38-32\\lib\\subprocess.py\u001b[0m in \u001b[0;36mrun\u001b[1;34m(input, capture_output, timeout, check, *popenargs, **kwargs)\u001b[0m\n\u001b[0;32m    487\u001b[0m         \u001b[0mkwargs\u001b[0m\u001b[1;33m[\u001b[0m\u001b[1;34m'stderr'\u001b[0m\u001b[1;33m]\u001b[0m \u001b[1;33m=\u001b[0m \u001b[0mPIPE\u001b[0m\u001b[1;33m\u001b[0m\u001b[1;33m\u001b[0m\u001b[0m\n\u001b[0;32m    488\u001b[0m \u001b[1;33m\u001b[0m\u001b[0m\n\u001b[1;32m--> 489\u001b[1;33m     \u001b[1;32mwith\u001b[0m \u001b[0mPopen\u001b[0m\u001b[1;33m(\u001b[0m\u001b[1;33m*\u001b[0m\u001b[0mpopenargs\u001b[0m\u001b[1;33m,\u001b[0m \u001b[1;33m**\u001b[0m\u001b[0mkwargs\u001b[0m\u001b[1;33m)\u001b[0m \u001b[1;32mas\u001b[0m \u001b[0mprocess\u001b[0m\u001b[1;33m:\u001b[0m\u001b[1;33m\u001b[0m\u001b[1;33m\u001b[0m\u001b[0m\n\u001b[0m\u001b[0;32m    490\u001b[0m         \u001b[1;32mtry\u001b[0m\u001b[1;33m:\u001b[0m\u001b[1;33m\u001b[0m\u001b[1;33m\u001b[0m\u001b[0m\n\u001b[0;32m    491\u001b[0m             \u001b[0mstdout\u001b[0m\u001b[1;33m,\u001b[0m \u001b[0mstderr\u001b[0m \u001b[1;33m=\u001b[0m \u001b[0mprocess\u001b[0m\u001b[1;33m.\u001b[0m\u001b[0mcommunicate\u001b[0m\u001b[1;33m(\u001b[0m\u001b[0minput\u001b[0m\u001b[1;33m,\u001b[0m \u001b[0mtimeout\u001b[0m\u001b[1;33m=\u001b[0m\u001b[0mtimeout\u001b[0m\u001b[1;33m)\u001b[0m\u001b[1;33m\u001b[0m\u001b[1;33m\u001b[0m\u001b[0m\n",
      "\u001b[1;32mc:\\users\\user\\appdata\\local\\programs\\python\\python38-32\\lib\\subprocess.py\u001b[0m in \u001b[0;36m__init__\u001b[1;34m(self, args, bufsize, executable, stdin, stdout, stderr, preexec_fn, close_fds, shell, cwd, env, universal_newlines, startupinfo, creationflags, restore_signals, start_new_session, pass_fds, encoding, errors, text)\u001b[0m\n\u001b[0;32m    852\u001b[0m                             encoding=encoding, errors=errors)\n\u001b[0;32m    853\u001b[0m \u001b[1;33m\u001b[0m\u001b[0m\n\u001b[1;32m--> 854\u001b[1;33m             self._execute_child(args, executable, preexec_fn, close_fds,\n\u001b[0m\u001b[0;32m    855\u001b[0m                                 \u001b[0mpass_fds\u001b[0m\u001b[1;33m,\u001b[0m \u001b[0mcwd\u001b[0m\u001b[1;33m,\u001b[0m \u001b[0menv\u001b[0m\u001b[1;33m,\u001b[0m\u001b[1;33m\u001b[0m\u001b[1;33m\u001b[0m\u001b[0m\n\u001b[0;32m    856\u001b[0m                                 \u001b[0mstartupinfo\u001b[0m\u001b[1;33m,\u001b[0m \u001b[0mcreationflags\u001b[0m\u001b[1;33m,\u001b[0m \u001b[0mshell\u001b[0m\u001b[1;33m,\u001b[0m\u001b[1;33m\u001b[0m\u001b[1;33m\u001b[0m\u001b[0m\n",
      "\u001b[1;32mc:\\users\\user\\appdata\\local\\programs\\python\\python38-32\\lib\\subprocess.py\u001b[0m in \u001b[0;36m_execute_child\u001b[1;34m(self, args, executable, preexec_fn, close_fds, pass_fds, cwd, env, startupinfo, creationflags, shell, p2cread, p2cwrite, c2pread, c2pwrite, errread, errwrite, unused_restore_signals, unused_start_new_session)\u001b[0m\n\u001b[0;32m   1305\u001b[0m             \u001b[1;31m# Start the process\u001b[0m\u001b[1;33m\u001b[0m\u001b[1;33m\u001b[0m\u001b[1;33m\u001b[0m\u001b[0m\n\u001b[0;32m   1306\u001b[0m             \u001b[1;32mtry\u001b[0m\u001b[1;33m:\u001b[0m\u001b[1;33m\u001b[0m\u001b[1;33m\u001b[0m\u001b[0m\n\u001b[1;32m-> 1307\u001b[1;33m                 hp, ht, pid, tid = _winapi.CreateProcess(executable, args,\n\u001b[0m\u001b[0;32m   1308\u001b[0m                                          \u001b[1;31m# no special security\u001b[0m\u001b[1;33m\u001b[0m\u001b[1;33m\u001b[0m\u001b[1;33m\u001b[0m\u001b[0m\n\u001b[0;32m   1309\u001b[0m                                          \u001b[1;32mNone\u001b[0m\u001b[1;33m,\u001b[0m \u001b[1;32mNone\u001b[0m\u001b[1;33m,\u001b[0m\u001b[1;33m\u001b[0m\u001b[1;33m\u001b[0m\u001b[0m\n",
      "\u001b[1;31mFileNotFoundError\u001b[0m: [WinError 2] The system cannot find the file specified"
     ]
    }
   ],
   "source": [
    "from subprocess import check_output\n",
    "print(check_output([\"ls\", \"../input\"]).decode(\"utf8\"))"
   ]
  },
  {
   "cell_type": "markdown",
   "metadata": {},
   "source": [
    "Kernel ini akan menggunakan jaringan saraf tiruan untuk mengklasifikasikan suara berdasarkan gender. Jaringan saraf akan memiliki dua lapisan tersembunyi, akan menggunakan fungsi aktivasi penyearah untuk setiap node di lapisan tersembunyi, dan menggunakan fungsi aktivasi logistik untuk menerima probabilitas setiap kelas di lapisan keluaran dan akan menggunakan penurunan gradien stokastik untuk meminimalkan fungsi tujuan (entropi silang). Kami mulai dengan membaca dataset dan melakukan beberapa eksplorasi data dasar."
   ]
  },
  {
   "cell_type": "markdown",
   "metadata": {},
   "source": [
    "### Import Datasheet"
   ]
  },
  {
   "cell_type": "code",
   "execution_count": 3,
   "metadata": {
    "_cell_guid": "405f2b7d-420c-48a9-8f1d-0404977b4464",
    "_uuid": "c137063036c9c5a8dcd12dabfa40fcd20cc79af8"
   },
   "outputs": [
    {
     "ename": "NameError",
     "evalue": "name 'pd' is not defined",
     "output_type": "error",
     "traceback": [
      "\u001b[1;31m---------------------------------------------------------------------------\u001b[0m",
      "\u001b[1;31mNameError\u001b[0m                                 Traceback (most recent call last)",
      "\u001b[1;32m<ipython-input-3-8ec6ccf01b4a>\u001b[0m in \u001b[0;36m<module>\u001b[1;34m\u001b[0m\n\u001b[1;32m----> 1\u001b[1;33m \u001b[0mdataset\u001b[0m \u001b[1;33m=\u001b[0m \u001b[0mpd\u001b[0m\u001b[1;33m.\u001b[0m\u001b[0mread_csv\u001b[0m\u001b[1;33m(\u001b[0m\u001b[1;34m'../input/voice.csv'\u001b[0m\u001b[1;33m)\u001b[0m\u001b[1;33m\u001b[0m\u001b[1;33m\u001b[0m\u001b[0m\n\u001b[0m\u001b[0;32m      2\u001b[0m \u001b[0mdataset\u001b[0m\u001b[1;33m.\u001b[0m\u001b[0mhead\u001b[0m\u001b[1;33m(\u001b[0m\u001b[1;33m)\u001b[0m\u001b[1;33m\u001b[0m\u001b[1;33m\u001b[0m\u001b[0m\n",
      "\u001b[1;31mNameError\u001b[0m: name 'pd' is not defined"
     ]
    }
   ],
   "source": [
    "dataset = pd.read_csv('../input/voice.csv')\n",
    "dataset.head()"
   ]
  },
  {
   "cell_type": "code",
   "execution_count": 4,
   "metadata": {},
   "outputs": [
    {
     "ename": "NameError",
     "evalue": "name 'dataset' is not defined",
     "output_type": "error",
     "traceback": [
      "\u001b[1;31m---------------------------------------------------------------------------\u001b[0m",
      "\u001b[1;31mNameError\u001b[0m                                 Traceback (most recent call last)",
      "\u001b[1;32m<ipython-input-4-3ded4c85834d>\u001b[0m in \u001b[0;36m<module>\u001b[1;34m\u001b[0m\n\u001b[1;32m----> 1\u001b[1;33m \u001b[0mdataset\u001b[0m\u001b[1;33m.\u001b[0m\u001b[0mdescribe\u001b[0m\u001b[1;33m(\u001b[0m\u001b[1;33m)\u001b[0m\u001b[1;33m\u001b[0m\u001b[1;33m\u001b[0m\u001b[0m\n\u001b[0m",
      "\u001b[1;31mNameError\u001b[0m: name 'dataset' is not defined"
     ]
    }
   ],
   "source": [
    "dataset.describe()"
   ]
  },
  {
   "cell_type": "code",
   "execution_count": 5,
   "metadata": {},
   "outputs": [
    {
     "ename": "NameError",
     "evalue": "name 'dataset' is not defined",
     "output_type": "error",
     "traceback": [
      "\u001b[1;31m---------------------------------------------------------------------------\u001b[0m",
      "\u001b[1;31mNameError\u001b[0m                                 Traceback (most recent call last)",
      "\u001b[1;32m<ipython-input-5-c187c74d1e71>\u001b[0m in \u001b[0;36m<module>\u001b[1;34m\u001b[0m\n\u001b[1;32m----> 1\u001b[1;33m \u001b[0mdataset\u001b[0m\u001b[1;33m.\u001b[0m\u001b[0mcorr\u001b[0m\u001b[1;33m(\u001b[0m\u001b[1;33m)\u001b[0m\u001b[1;33m\u001b[0m\u001b[1;33m\u001b[0m\u001b[0m\n\u001b[0m",
      "\u001b[1;31mNameError\u001b[0m: name 'dataset' is not defined"
     ]
    }
   ],
   "source": [
    "dataset.corr()"
   ]
  },
  {
   "cell_type": "markdown",
   "metadata": {
    "_cell_guid": "882c2a46-58a3-4801-a57c-2233b09616bf",
    "_uuid": "c6ef0c8ed4e693080f2d174c3bfd8200570ac867"
   },
   "source": [
    "All are numeric columns, and the final column gives us the labels (male or female) so lets lazily determine which column that is and use that to split our dataset into the independent and dependent variables:"
   ]
  },
  {
   "cell_type": "code",
   "execution_count": 6,
   "metadata": {
    "_cell_guid": "d1baf8cd-fed6-4111-8272-ef8f8b3e7829",
    "_uuid": "352bdb4fa15c0bde0eb1ef2ef7a06d0487c6ec32"
   },
   "outputs": [
    {
     "ename": "NameError",
     "evalue": "name 'dataset' is not defined",
     "output_type": "error",
     "traceback": [
      "\u001b[1;31m---------------------------------------------------------------------------\u001b[0m",
      "\u001b[1;31mNameError\u001b[0m                                 Traceback (most recent call last)",
      "\u001b[1;32m<ipython-input-6-54473fe108a1>\u001b[0m in \u001b[0;36m<module>\u001b[1;34m\u001b[0m\n\u001b[1;32m----> 1\u001b[1;33m \u001b[0mnum_columns\u001b[0m \u001b[1;33m=\u001b[0m \u001b[0mdataset\u001b[0m\u001b[1;33m.\u001b[0m\u001b[0mshape\u001b[0m\u001b[1;33m[\u001b[0m\u001b[1;36m1\u001b[0m\u001b[1;33m]\u001b[0m\u001b[1;33m\u001b[0m\u001b[1;33m\u001b[0m\u001b[0m\n\u001b[0m\u001b[0;32m      2\u001b[0m \u001b[0mx\u001b[0m \u001b[1;33m=\u001b[0m \u001b[0mdataset\u001b[0m\u001b[1;33m.\u001b[0m\u001b[0miloc\u001b[0m\u001b[1;33m[\u001b[0m\u001b[1;33m:\u001b[0m\u001b[1;33m,\u001b[0m\u001b[1;33m:\u001b[0m\u001b[1;36m20\u001b[0m\u001b[1;33m]\u001b[0m\u001b[1;33m.\u001b[0m\u001b[0mvalues\u001b[0m\u001b[1;33m\u001b[0m\u001b[1;33m\u001b[0m\u001b[0m\n\u001b[0;32m      3\u001b[0m \u001b[0my\u001b[0m \u001b[1;33m=\u001b[0m \u001b[0mdataset\u001b[0m\u001b[1;33m.\u001b[0m\u001b[0miloc\u001b[0m\u001b[1;33m[\u001b[0m\u001b[1;33m:\u001b[0m\u001b[1;33m,\u001b[0m\u001b[1;36m20\u001b[0m\u001b[1;33m]\u001b[0m\u001b[1;33m.\u001b[0m\u001b[0mvalues\u001b[0m\u001b[1;33m\u001b[0m\u001b[1;33m\u001b[0m\u001b[0m\n",
      "\u001b[1;31mNameError\u001b[0m: name 'dataset' is not defined"
     ]
    }
   ],
   "source": [
    "num_columns = dataset.shape[1]\n",
    "x = dataset.iloc[:,:20].values\n",
    "y = dataset.iloc[:,20].values"
   ]
  },
  {
   "cell_type": "markdown",
   "metadata": {
    "_cell_guid": "03e5c316-d9d8-41e6-a6d7-d9d9fde08c00",
    "_uuid": "4697249b8c26ad0f3bf9910a98fc9978f004c55a"
   },
   "source": [
    "The one non numeric category (labels) needs to be encoded using dummy variables,when we assign integer values to gender (binary variable in this case), it becomes a dummy variable."
   ]
  },
  {
   "cell_type": "code",
   "execution_count": 7,
   "metadata": {
    "_cell_guid": "34657909-a8e9-4c30-8d7e-7830decaf9e9",
    "_uuid": "680f63f52aa81fa20162931f5162686b8efc2776"
   },
   "outputs": [
    {
     "name": "stdout",
     "output_type": "stream",
     "text": [
      "['female', 'male']\n"
     ]
    }
   ],
   "source": [
    "from sklearn.preprocessing import LabelEncoder, OneHotEncoder\n",
    "gender_labels = LabelEncoder()\n",
    "y = gender_labels.fit_transform(y)\n",
    "# lets see which is 0 and which is 1\n",
    "print(list(gender_labels.inverse_transform([0,1])))"
   ]
  },
  {
   "cell_type": "markdown",
   "metadata": {},
   "source": [
    "### Membuat set data pengujian dan pelatihan"
   ]
  },
  {
   "cell_type": "markdown",
   "metadata": {
    "_cell_guid": "b8b3d57f-8856-4e85-bcd5-b7eae5eebb6f",
    "_uuid": "bd5d3b316a88175f246b871c0a8eaa0b0aae6abd"
   },
   "source": [
    "Generate testing and training datasets"
   ]
  },
  {
   "cell_type": "code",
   "execution_count": 8,
   "metadata": {
    "_cell_guid": "3d2530b4-1bb9-45df-96d0-ff5bb717e7f0",
    "_uuid": "b347bbe25020d14d4ee45b5153a0fac8902f2ed2",
    "collapsed": true
   },
   "outputs": [],
   "source": [
    "from sklearn.model_selection import train_test_split\n",
    "x_train, x_test, y_train, y_test = train_test_split(x,y,test_size = 0.2, random_state = 0)"
   ]
  },
  {
   "cell_type": "markdown",
   "metadata": {
    "_cell_guid": "b58071c9-8fc9-483f-8476-68b3cb867624",
    "_uuid": "5feb699630b0441ff499df4fb750cf62a67f026d"
   },
   "source": [
    "These variables are between 0 and 1, but we normalize them so that they have comparable weightings."
   ]
  },
  {
   "cell_type": "code",
   "execution_count": 9,
   "metadata": {
    "_cell_guid": "62663ba7-4000-49f1-9edb-9569d088b95f",
    "_uuid": "07118a2f65e6be24c90c38fb50a8d4185b77ebdb",
    "collapsed": true
   },
   "outputs": [],
   "source": [
    "from sklearn.preprocessing import StandardScaler\n",
    "sc = StandardScaler()\n",
    "x_train = sc.fit_transform(x_train)\n",
    "x_test = sc.transform(x_test)"
   ]
  },
  {
   "cell_type": "markdown",
   "metadata": {
    "_cell_guid": "dd35923b-29e2-4594-b24d-8547977e92a5",
    "_uuid": "b9a3479db613ac5489502645f7e22a9879fc5cb2"
   },
   "source": [
    "Creating an artificial neural network using keras, by building the layers two hidden layers and an output layer, then train the neural network on the training set."
   ]
  },
  {
   "cell_type": "markdown",
   "metadata": {},
   "source": [
    "### Back Propagation "
   ]
  },
  {
   "cell_type": "markdown",
   "metadata": {},
   "source": [
    "Backpropagation ini merupakan perkembangan dari single layer network (Jaringan Layar Tunggal) yang memiliki dua layer, yaitu input layer dan output layer. Adapun Back propagation memiliki tiga algoritma utama berupa Pengambilan input, Penelusuran error, Penyesuaian bobot. Backpropagation juga merupakan sebuah metode sistematik untuk pelatihan multilayer JST. Backpopagation dikatakan sebagai algoritma pelatihan multilayer karena Backpropagation memiliki tiga layer dalam proses pelatihannya, yaitu input layer, hidden layer dan output layer."
   ]
  },
  {
   "cell_type": "code",
   "execution_count": null,
   "metadata": {},
   "outputs": [],
   "source": [
    "def feedforward_back_prop(weights, bias, features, labels):\n",
    "    '''\n",
    "    features:  (20, 2534)\n",
    "    weights: (20, 1)\n",
    "    weights.T: (1, 20)\n",
    "    bias: (20, 1)\n",
    "    yHat: (1, 2534)\n",
    "    '''\n",
    "    # Feed Forward Propagation\n",
    "    Z = np.dot(weights.T, features ) + bias\n",
    "    yHat = sigmoid(Z)\n",
    "    # Cost Function\n",
    "    loss = -labels*np.log(yHat)-(1-labels)*np.log(1-yHat)\n",
    "    cost = (np.sum(loss))/features.shape[1]\n",
    "    # Backward Propagation\n",
    "    dW = (np.dot(features, ((yHat-labels).T)))/features.shape[1]\n",
    "    dB = np.sum(yHat-labels)/features.shape[1]\n",
    "    grads = {\"dW\": dW, \"dB\": dB}\n",
    "    return cost, grads\n",
    "\n",
    "cost, grads = feedforward_back_prop(weights, bias, features, labels)"
   ]
  },
  {
   "cell_type": "code",
   "execution_count": null,
   "metadata": {},
   "outputs": [],
   "source": [
    "def update(weights, bias, features, labels, lr, reiter):\n",
    "    cost_list = []\n",
    "    cost_list2 = []\n",
    "    index = []\n",
    "    \n",
    "    # Updating (learning) parameters is number_of_iterations times\n",
    "    for i in range(reiter):\n",
    "        \n",
    "        cost, grads = feedforward_back_prop(weights, bias, features, labels)\n",
    "        #cost = cost_function(features, labels, weights, bias)\n",
    "        cost_list.append(cost)\n",
    "        #Let's update\n",
    "        weights = weights - lr * grads[\"dW\"]\n",
    "        bias = bias - lr * grads[\"dB\"]\n",
    "        if i % 10 == 0:\n",
    "            cost_list2.append(cost)\n",
    "            index.append(i)\n",
    "            print(\"Cost after iterations %i: %f\" %(i, cost))\n",
    "            \n",
    "    # We update (learn) parameters weights and bias\n",
    "    parameters = {\"weights\": weights, \"bias\": bias}\n",
    "    plt.plot(index, cost_list2)\n",
    "    plt.xticks(index, rotation = \"vertical\")\n",
    "    plt.xlabel(\"Number of iterations\")\n",
    "    plt.ylabel(\"Cost\")\n",
    "    plt.show()\n",
    "    return parameters, grads, cost_list"
   ]
  },
  {
   "cell_type": "code",
   "execution_count": 10,
   "metadata": {
    "_cell_guid": "614c966c-8187-4632-a186-f2fe80106724",
    "_uuid": "b94a101a5fda5259aad98b810f7a7d68e8d2009a",
    "scrolled": true
   },
   "outputs": [
    {
     "name": "stderr",
     "output_type": "stream",
     "text": [
      "Using TensorFlow backend.\n",
      "/opt/conda/lib/python3.6/importlib/_bootstrap.py:219: RuntimeWarning: compiletime version 3.5 of module 'tensorflow.python.framework.fast_tensor_util' does not match runtime version 3.6\n",
      "  return f(*args, **kwds)\n"
     ]
    },
    {
     "name": "stdout",
     "output_type": "stream",
     "text": [
      "Epoch 1/100\n",
      "2534/2534 [==============================] - 1s 200us/step - loss: 0.5141 - acc: 0.8406\n",
      "Epoch 2/100\n",
      "2534/2534 [==============================] - 0s 154us/step - loss: 0.1335 - acc: 0.9641\n",
      "Epoch 3/100\n",
      "2534/2534 [==============================] - 0s 166us/step - loss: 0.0907 - acc: 0.9740\n",
      "Epoch 4/100\n",
      "2534/2534 [==============================] - 0s 169us/step - loss: 0.0802 - acc: 0.9736\n",
      "Epoch 5/100\n",
      "2534/2534 [==============================] - 0s 165us/step - loss: 0.0762 - acc: 0.9779\n",
      "Epoch 6/100\n",
      "2534/2534 [==============================] - 0s 158us/step - loss: 0.0740 - acc: 0.9759\n",
      "Epoch 7/100\n",
      "2534/2534 [==============================] - 0s 163us/step - loss: 0.0718 - acc: 0.9759\n",
      "Epoch 8/100\n",
      "2534/2534 [==============================] - 0s 163us/step - loss: 0.0719 - acc: 0.9775\n",
      "Epoch 9/100\n",
      "2534/2534 [==============================] - 0s 159us/step - loss: 0.0692 - acc: 0.9779\n",
      "Epoch 10/100\n",
      "2534/2534 [==============================] - 0s 160us/step - loss: 0.0684 - acc: 0.9795\n",
      "Epoch 11/100\n",
      "2534/2534 [==============================] - 0s 166us/step - loss: 0.0671 - acc: 0.9799\n",
      "Epoch 12/100\n",
      "2534/2534 [==============================] - 0s 160us/step - loss: 0.0673 - acc: 0.9799\n",
      "Epoch 13/100\n",
      "2534/2534 [==============================] - 0s 162us/step - loss: 0.0667 - acc: 0.9791\n",
      "Epoch 14/100\n",
      "2534/2534 [==============================] - 0s 167us/step - loss: 0.0650 - acc: 0.9783\n",
      "Epoch 15/100\n",
      "2534/2534 [==============================] - 0s 162us/step - loss: 0.0647 - acc: 0.9803\n",
      "Epoch 16/100\n",
      "2534/2534 [==============================] - 0s 163us/step - loss: 0.0641 - acc: 0.9803\n",
      "Epoch 17/100\n",
      "2534/2534 [==============================] - 0s 163us/step - loss: 0.0631 - acc: 0.9803\n",
      "Epoch 18/100\n",
      "2534/2534 [==============================] - 0s 168us/step - loss: 0.0624 - acc: 0.9803\n",
      "Epoch 19/100\n",
      "2534/2534 [==============================] - 0s 169us/step - loss: 0.0614 - acc: 0.9799\n",
      "Epoch 20/100\n",
      "2534/2534 [==============================] - 0s 157us/step - loss: 0.0613 - acc: 0.9818\n",
      "Epoch 21/100\n",
      "2534/2534 [==============================] - 0s 163us/step - loss: 0.0602 - acc: 0.9807\n",
      "Epoch 22/100\n",
      "2534/2534 [==============================] - 0s 154us/step - loss: 0.0605 - acc: 0.9818\n",
      "Epoch 23/100\n",
      "2534/2534 [==============================] - 0s 162us/step - loss: 0.0607 - acc: 0.9799\n",
      "Epoch 24/100\n",
      "2534/2534 [==============================] - 0s 157us/step - loss: 0.0588 - acc: 0.9818\n",
      "Epoch 25/100\n",
      "2534/2534 [==============================] - 0s 158us/step - loss: 0.0594 - acc: 0.9818\n",
      "Epoch 26/100\n",
      "2534/2534 [==============================] - 0s 160us/step - loss: 0.0573 - acc: 0.9815\n",
      "Epoch 27/100\n",
      "2534/2534 [==============================] - 0s 167us/step - loss: 0.0569 - acc: 0.9830\n",
      "Epoch 28/100\n",
      "2534/2534 [==============================] - 0s 170us/step - loss: 0.0572 - acc: 0.9830\n",
      "Epoch 29/100\n",
      "2534/2534 [==============================] - 0s 171us/step - loss: 0.0569 - acc: 0.9818\n",
      "Epoch 30/100\n",
      "2534/2534 [==============================] - 0s 163us/step - loss: 0.0564 - acc: 0.9834\n",
      "Epoch 31/100\n",
      "2534/2534 [==============================] - 0s 165us/step - loss: 0.0547 - acc: 0.9834\n",
      "Epoch 32/100\n",
      "2534/2534 [==============================] - 0s 159us/step - loss: 0.0558 - acc: 0.9815\n",
      "Epoch 33/100\n",
      "2534/2534 [==============================] - 0s 171us/step - loss: 0.0539 - acc: 0.9834\n",
      "Epoch 34/100\n",
      "2534/2534 [==============================] - 0s 163us/step - loss: 0.0532 - acc: 0.9826\n",
      "Epoch 35/100\n",
      "2534/2534 [==============================] - 0s 155us/step - loss: 0.0518 - acc: 0.9834\n",
      "Epoch 36/100\n",
      "2534/2534 [==============================] - 0s 158us/step - loss: 0.0491 - acc: 0.9842\n",
      "Epoch 37/100\n",
      "2534/2534 [==============================] - 0s 161us/step - loss: 0.0515 - acc: 0.9834\n",
      "Epoch 38/100\n",
      "2534/2534 [==============================] - 0s 152us/step - loss: 0.0511 - acc: 0.9842\n",
      "Epoch 39/100\n",
      "2534/2534 [==============================] - 0s 166us/step - loss: 0.0496 - acc: 0.9838\n",
      "Epoch 40/100\n",
      "2534/2534 [==============================] - 0s 160us/step - loss: 0.0488 - acc: 0.9846\n",
      "Epoch 41/100\n",
      "2534/2534 [==============================] - 0s 167us/step - loss: 0.0475 - acc: 0.9850\n",
      "Epoch 42/100\n",
      "2534/2534 [==============================] - 0s 164us/step - loss: 0.0486 - acc: 0.9842\n",
      "Epoch 43/100\n",
      "2534/2534 [==============================] - 0s 167us/step - loss: 0.0488 - acc: 0.9850\n",
      "Epoch 44/100\n",
      "2534/2534 [==============================] - 0s 161us/step - loss: 0.0482 - acc: 0.9850\n",
      "Epoch 45/100\n",
      "2534/2534 [==============================] - 0s 159us/step - loss: 0.0464 - acc: 0.9846\n",
      "Epoch 46/100\n",
      "2534/2534 [==============================] - 0s 166us/step - loss: 0.0488 - acc: 0.9854\n",
      "Epoch 47/100\n",
      "2534/2534 [==============================] - 0s 159us/step - loss: 0.0466 - acc: 0.9862\n",
      "Epoch 48/100\n",
      "2534/2534 [==============================] - 0s 162us/step - loss: 0.0454 - acc: 0.9862\n",
      "Epoch 49/100\n",
      "2534/2534 [==============================] - 0s 167us/step - loss: 0.0457 - acc: 0.9858\n",
      "Epoch 50/100\n",
      "2534/2534 [==============================] - 0s 163us/step - loss: 0.0451 - acc: 0.9854\n",
      "Epoch 51/100\n",
      "2534/2534 [==============================] - 0s 165us/step - loss: 0.0451 - acc: 0.9854\n",
      "Epoch 52/100\n",
      "2534/2534 [==============================] - 0s 159us/step - loss: 0.0447 - acc: 0.9854\n",
      "Epoch 53/100\n",
      "2534/2534 [==============================] - 0s 162us/step - loss: 0.0450 - acc: 0.9858\n",
      "Epoch 54/100\n",
      "2534/2534 [==============================] - 0s 158us/step - loss: 0.0436 - acc: 0.9850\n",
      "Epoch 55/100\n",
      "2534/2534 [==============================] - 0s 158us/step - loss: 0.0444 - acc: 0.9858\n",
      "Epoch 56/100\n",
      "2534/2534 [==============================] - 0s 168us/step - loss: 0.0440 - acc: 0.9858\n",
      "Epoch 57/100\n",
      "2534/2534 [==============================] - 0s 149us/step - loss: 0.0420 - acc: 0.9866\n",
      "Epoch 58/100\n",
      "2534/2534 [==============================] - 0s 169us/step - loss: 0.0417 - acc: 0.9854\n",
      "Epoch 59/100\n",
      "2534/2534 [==============================] - 0s 152us/step - loss: 0.0414 - acc: 0.9866\n",
      "Epoch 60/100\n",
      "2534/2534 [==============================] - 0s 157us/step - loss: 0.0425 - acc: 0.9858\n",
      "Epoch 61/100\n",
      "2534/2534 [==============================] - 0s 165us/step - loss: 0.0413 - acc: 0.9866\n",
      "Epoch 62/100\n",
      "2534/2534 [==============================] - 0s 165us/step - loss: 0.0399 - acc: 0.9882\n",
      "Epoch 63/100\n",
      "2534/2534 [==============================] - 0s 161us/step - loss: 0.0396 - acc: 0.9874\n",
      "Epoch 64/100\n",
      "2534/2534 [==============================] - 0s 165us/step - loss: 0.0382 - acc: 0.9882\n",
      "Epoch 65/100\n",
      "2534/2534 [==============================] - 0s 161us/step - loss: 0.0405 - acc: 0.9866\n",
      "Epoch 66/100\n",
      "2534/2534 [==============================] - 0s 162us/step - loss: 0.0405 - acc: 0.9854\n",
      "Epoch 67/100\n",
      "2534/2534 [==============================] - 0s 156us/step - loss: 0.0391 - acc: 0.9882\n",
      "Epoch 68/100\n",
      "2534/2534 [==============================] - 0s 167us/step - loss: 0.0392 - acc: 0.9882\n",
      "Epoch 69/100\n",
      "2534/2534 [==============================] - 0s 161us/step - loss: 0.0383 - acc: 0.9866\n",
      "Epoch 70/100\n",
      "2534/2534 [==============================] - 0s 159us/step - loss: 0.0369 - acc: 0.9878\n",
      "Epoch 71/100\n",
      "2534/2534 [==============================] - 0s 157us/step - loss: 0.0392 - acc: 0.9866\n",
      "Epoch 72/100\n",
      "2534/2534 [==============================] - 0s 158us/step - loss: 0.0378 - acc: 0.9893\n",
      "Epoch 73/100\n",
      "2534/2534 [==============================] - 0s 168us/step - loss: 0.0384 - acc: 0.9858\n",
      "Epoch 74/100\n",
      "2534/2534 [==============================] - 0s 162us/step - loss: 0.0355 - acc: 0.9886\n",
      "Epoch 75/100\n",
      "2534/2534 [==============================] - 0s 168us/step - loss: 0.0361 - acc: 0.9886\n",
      "Epoch 76/100\n",
      "2534/2534 [==============================] - 0s 161us/step - loss: 0.0365 - acc: 0.9893\n",
      "Epoch 77/100\n",
      "2534/2534 [==============================] - 0s 161us/step - loss: 0.0356 - acc: 0.9893\n",
      "Epoch 78/100\n",
      "2534/2534 [==============================] - 0s 162us/step - loss: 0.0359 - acc: 0.9886\n",
      "Epoch 79/100\n",
      "2534/2534 [==============================] - 0s 169us/step - loss: 0.0356 - acc: 0.9886\n",
      "Epoch 80/100\n",
      "2534/2534 [==============================] - 0s 166us/step - loss: 0.0353 - acc: 0.9882\n",
      "Epoch 81/100\n",
      "2534/2534 [==============================] - 0s 162us/step - loss: 0.0359 - acc: 0.9893\n",
      "Epoch 82/100\n",
      "2534/2534 [==============================] - 0s 160us/step - loss: 0.0335 - acc: 0.9890\n",
      "Epoch 83/100\n",
      "2534/2534 [==============================] - 0s 164us/step - loss: 0.0357 - acc: 0.9882\n",
      "Epoch 84/100\n",
      "2534/2534 [==============================] - 0s 181us/step - loss: 0.0348 - acc: 0.9886\n",
      "Epoch 85/100\n",
      "2534/2534 [==============================] - 0s 168us/step - loss: 0.0338 - acc: 0.9886\n",
      "Epoch 86/100\n",
      "2534/2534 [==============================] - 0s 164us/step - loss: 0.0340 - acc: 0.9893\n",
      "Epoch 87/100\n",
      "2534/2534 [==============================] - 0s 174us/step - loss: 0.0342 - acc: 0.9890\n",
      "Epoch 88/100\n",
      "2534/2534 [==============================] - 0s 168us/step - loss: 0.0339 - acc: 0.9886\n",
      "Epoch 89/100\n",
      "2534/2534 [==============================] - 0s 177us/step - loss: 0.0325 - acc: 0.9893\n",
      "Epoch 90/100\n",
      "2534/2534 [==============================] - 0s 168us/step - loss: 0.0325 - acc: 0.9893\n",
      "Epoch 91/100\n",
      "2534/2534 [==============================] - 0s 163us/step - loss: 0.0324 - acc: 0.9897\n",
      "Epoch 92/100\n",
      "2534/2534 [==============================] - 0s 175us/step - loss: 0.0321 - acc: 0.9886\n",
      "Epoch 93/100\n",
      "2534/2534 [==============================] - 0s 163us/step - loss: 0.0310 - acc: 0.9905\n",
      "Epoch 94/100\n",
      "2534/2534 [==============================] - 0s 174us/step - loss: 0.0320 - acc: 0.9901\n",
      "Epoch 95/100\n",
      "2534/2534 [==============================] - 0s 161us/step - loss: 0.0293 - acc: 0.9917\n",
      "Epoch 96/100\n",
      "2534/2534 [==============================] - 0s 173us/step - loss: 0.0307 - acc: 0.9909\n",
      "Epoch 97/100\n",
      "2534/2534 [==============================] - 0s 182us/step - loss: 0.0305 - acc: 0.9901\n",
      "Epoch 98/100\n",
      "2534/2534 [==============================] - 0s 172us/step - loss: 0.0297 - acc: 0.9913\n",
      "Epoch 99/100\n",
      "2534/2534 [==============================] - 0s 179us/step - loss: 0.0303 - acc: 0.9890\n",
      "Epoch 100/100\n",
      "2534/2534 [==============================] - 0s 178us/step - loss: 0.0289 - acc: 0.9921\n"
     ]
    },
    {
     "data": {
      "text/plain": [
       "<keras.callbacks.History at 0x7f7d730deba8>"
      ]
     },
     "execution_count": 10,
     "metadata": {},
     "output_type": "execute_result"
    }
   ],
   "source": [
    "import keras\n",
    "from keras.models import Sequential\n",
    "from keras.layers import Dense\n",
    "\n",
    "classifier = Sequential()\n",
    "classifier.add(Dense(units = 11, activation = 'relu', kernel_initializer = 'uniform', input_shape = (20,)))\n",
    "classifier.add(Dense(units = 11, activation = 'relu', kernel_initializer = 'uniform'))\n",
    "classifier.add(Dense(units = 1, activation = 'sigmoid', kernel_initializer = 'uniform', input_shape = (20,)))\n",
    "classifier.compile(optimizer = 'adam', loss = 'binary_crossentropy', metrics = ['accuracy'])\n",
    "classifier.fit(x_train, y_train, batch_size = 10, epochs = 100)"
   ]
  },
  {
   "cell_type": "markdown",
   "metadata": {
    "_cell_guid": "8e8811b0-8bad-4572-bca6-9abd2b21276d",
    "_uuid": "c8369b945c5e27c19a66eb8f7f82e8d6630a3c77"
   },
   "source": [
    "The neural network is now built and trained, the weights are set, now we can evaluate the generalization performance of the neural network on the testing dataset.  We then use the threshold of 0.50 to convert output probilities from the sigmoid activation function into binary predictions for gender."
   ]
  },
  {
   "cell_type": "code",
   "execution_count": 11,
   "metadata": {
    "_cell_guid": "9f6a150e-bd7a-4a44-836a-887d8b9a6af1",
    "_uuid": "26b3fe2fda581843fbf9104b06e060af5bb8bc55",
    "collapsed": true
   },
   "outputs": [],
   "source": [
    "y_pred = classifier.predict(x_test)\n",
    "y_pred = (y_pred > 0.5)"
   ]
  },
  {
   "cell_type": "markdown",
   "metadata": {
    "_cell_guid": "1b17d4cf-e44b-4075-9286-49e02be548fb",
    "_uuid": "f44b276f4064d076d9f0c8fbfd9416450c5c6b37"
   },
   "source": [
    "Evaluate the performance of the neural network using a confusion matrix."
   ]
  },
  {
   "cell_type": "code",
   "execution_count": 12,
   "metadata": {
    "_cell_guid": "c0048269-50e1-4504-96c5-be860b6b35b5",
    "_uuid": "b32d88d4b2c2378d0378fe1205d9f3c0ee24f896"
   },
   "outputs": [
    {
     "name": "stdout",
     "output_type": "stream",
     "text": [
      "[[294   7]\n",
      " [  8 325]]\n"
     ]
    }
   ],
   "source": [
    "from sklearn.metrics import confusion_matrix\n",
    "cm = confusion_matrix(y_test, y_pred)\n",
    "print(cm)"
   ]
  },
  {
   "cell_type": "markdown",
   "metadata": {
    "_cell_guid": "5f3069e4-21ec-4d59-b00c-e050b092ad5e",
    "_uuid": "0ed24888faa15aaad98f188210c14f9c365e503c"
   },
   "source": [
    "A more fashionable plot, recall that 0 is female and 1 is male."
   ]
  },
  {
   "cell_type": "code",
   "execution_count": 13,
   "metadata": {
    "_cell_guid": "1801fc08-c686-436b-8a5d-27c4b07c040c",
    "_uuid": "fdab582ada3bf31aead7cc51fa7bc8821301c877"
   },
   "outputs": [
    {
     "data": {
      "text/plain": [
       "<matplotlib.colorbar.Colorbar at 0x7f7d7048be10>"
      ]
     },
     "execution_count": 13,
     "metadata": {},
     "output_type": "execute_result"
    },
    {
     "data": {
      "image/png": "[encoded data removed]",
      "text/plain": [
       "<matplotlib.figure.Figure at 0x7f7e0d73db00>"
      ]
     },
     "metadata": {},
     "output_type": "display_data"
    }
   ],
   "source": [
    "import matplotlib.pyplot as plt\n",
    "plt.matshow(cm)\n",
    "plt.colorbar()"
   ]
  },
  {
   "cell_type": "markdown",
   "metadata": {},
   "source": [
    "### Hasil Kesimpulan "
   ]
  },
  {
   "cell_type": "markdown",
   "metadata": {},
   "source": [
    "Hasil pada dataset dengan pengujian yang rumit ini. Matriks konfusi menunjukkan bahwa neural net memprediksi jenis kelamin pada dataset pengujian dengan akurasi 98,3%."
   ]
  }
 ],
 "metadata": {
  "kernelspec": {
   "display_name": "Python 3",
   "language": "python",
   "name": "python3"
  },
  "language_info": {
   "codemirror_mode": {
    "name": "ipython",
    "version": 3
   },
   "file_extension": ".py",
   "mimetype": "text/x-python",
   "name": "python",
   "nbconvert_exporter": "python",
   "pygments_lexer": "ipython3",
   "version": "3.8.5"
  }
 },
 "nbformat": 4,
 "nbformat_minor": 1
}
