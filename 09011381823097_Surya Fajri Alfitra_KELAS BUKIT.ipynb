{
 "cells": [
  {
   "cell_type": "markdown",
   "metadata": {},
   "source": [
    "# Regularizing neural networks"
   ]
  },
  {
   "cell_type": "markdown",
   "metadata": {},
   "source": [
    "General imports"
   ]
  },
  {
   "cell_type": "code",
   "execution_count": 2,
   "metadata": {},
   "outputs": [],
   "source": [
    "%matplotlib inline\n",
    "import matplotlib.pyplot as plt\n",
    "import pickle\n",
    "import numpy as np\n",
    "import random as rn\n",
    "import os"
   ]
  },
  {
   "cell_type": "markdown",
   "metadata": {},
   "source": [
    "Keras specific imports"
   ]
  },
  {
   "cell_type": "code",
   "execution_count": 1,
   "metadata": {},
   "outputs": [],
   "source": [
    "from keras.models import Sequential\n",
    "from keras.layers.core import Dense, Activation, Dropout\n",
    "from keras.optimizers import SGD, RMSprop\n",
    "from keras.constraints import maxnorm\n",
    "from keras.regularizers import l2, l1"
   ]
  },
  {
   "cell_type": "markdown",
   "metadata": {},
   "source": [
    "Hal pertama yang dilakukan yaitu load data dari file dan plot beberapa contoh"
   ]
  },
  {
   "cell_type": "code",
   "execution_count": 3,
   "metadata": {},
   "outputs": [
    {
     "name": "stdout",
     "output_type": "stream",
     "text": [
      "<class 'numpy.ndarray'>\n",
      "(60000, 784)\n",
      "<class 'numpy.ndarray'>\n",
      "(60000, 10)\n",
      "<class 'numpy.ndarray'>\n",
      "(10000, 784)\n",
      "<class 'numpy.ndarray'>\n",
      "(10000, 10)\n",
      "(5000, 784)\n",
      "(5000, 10)\n"
     ]
    }
   ],
   "source": [
    "train_x = pickle.load(open(\"MNIST_train_x.pkl\", 'rb'))\n",
    "train_y = pickle.load(open(\"MNIST_train_y.pkl\", 'rb'))\n",
    "test_x = pickle.load(open(\"MNIST_test_x.pkl\", 'rb'))\n",
    "test_y = pickle.load(open(\"MNIST_test_y.pkl\", 'rb'))\n",
    "print(type(train_x))\n",
    "print(train_x.shape)\n",
    "print(type(train_y))\n",
    "print(train_y.shape)\n",
    "print(type(test_x))\n",
    "print(test_x.shape)\n",
    "print(type(test_y))\n",
    "print(test_y.shape)\n",
    "\n",
    "# Creating subset of training data to speed up training\n",
    "train_x_short = train_x[:5000]\n",
    "train_y_short = train_y[:5000]\n",
    "print(train_x_short.shape)\n",
    "print(train_y_short.shape)\n",
    "\n"
   ]
  },
  {
   "cell_type": "markdown",
   "metadata": {},
   "source": [
    "Plot contoh"
   ]
  },
  {
   "cell_type": "code",
   "execution_count": 4,
   "metadata": {},
   "outputs": [],
   "source": [
    "def plotExamples(data, labels, model_predict):\n",
    "    plt.figure(figsize=(8,5))\n",
    "    for i in range(8):\n",
    "        sub = 241 + i\n",
    "        ax = plt.subplot(sub)\n",
    "        index = np.random.randint(0, data.shape[0])\n",
    "        ax.set_title(\"num: \" + str(np.argmax(labels[index])) + \",\" + str(np.argmax(model_predict[index])))\n",
    "        im = np.reshape(data[index], (28, 28))\n",
    "        plt.imshow(im, cmap=\"gray\")\n",
    "    plt.show()"
   ]
  },
  {
   "cell_type": "code",
   "execution_count": 5,
   "metadata": {},
   "outputs": [
    {
     "data": {
      "image/png": "[encoded data removed]",
      "text/plain": [
       "<matplotlib.figure.Figure at 0x2a36b00b080>"
      ]
     },
     "metadata": {},
     "output_type": "display_data"
    }
   ],
   "source": [
    "plotExamples(train_x, train_y, train_y)"
   ]
  },
  {
   "cell_type": "code",
   "execution_count": 6,
   "metadata": {},
   "outputs": [
    {
     "data": {
      "image/png": "[encoded data removed]",
      "text/plain": [
       "<matplotlib.figure.Figure at 0x2a36b013f98>"
      ]
     },
     "metadata": {},
     "output_type": "display_data"
    }
   ],
   "source": [
    "plotExamples(test_x, test_y, test_y)"
   ]
  },
  {
   "cell_type": "markdown",
   "metadata": {},
   "source": [
    "Motivating example: Beberapa contoh, network dengan kapasitas yang besar"
   ]
  },
  {
   "cell_type": "code",
   "execution_count": 14,
   "metadata": {},
   "outputs": [
    {
     "name": "stdout",
     "output_type": "stream",
     "text": [
      "Model: \"sequential_5\"\n",
      "_________________________________________________________________\n",
      "Layer (type)                 Output Shape              Param #   \n",
      "=================================================================\n",
      "dense_8 (Dense)              (None, 1024)              803840    \n",
      "_________________________________________________________________\n",
      "activation_8 (Activation)    (None, 1024)              0         \n",
      "_________________________________________________________________\n",
      "dense_9 (Dense)              (None, 10)                10250     \n",
      "_________________________________________________________________\n",
      "activation_9 (Activation)    (None, 10)                0         \n",
      "=================================================================\n",
      "Total params: 814,090\n",
      "Trainable params: 814,090\n",
      "Non-trainable params: 0\n",
      "_________________________________________________________________\n",
      "Epoch 1/30\n",
      "16/16 - 1s - loss: 1.8793 - accuracy: 0.4188 - val_loss: 1.5213 - val_accuracy: 0.5194\n",
      "Epoch 2/30\n",
      "16/16 - 1s - loss: 1.0175 - accuracy: 0.7956 - val_loss: 1.1645 - val_accuracy: 0.6996\n",
      "Epoch 3/30\n",
      "16/16 - 1s - loss: 0.6859 - accuracy: 0.8998 - val_loss: 1.0149 - val_accuracy: 0.7456\n",
      "Epoch 4/30\n",
      "16/16 - 1s - loss: 0.5030 - accuracy: 0.9499 - val_loss: 0.9462 - val_accuracy: 0.7445\n",
      "Epoch 5/30\n",
      "16/16 - 1s - loss: 0.3971 - accuracy: 0.9639 - val_loss: 0.8800 - val_accuracy: 0.7665\n",
      "Epoch 6/30\n",
      "16/16 - 1s - loss: 0.3224 - accuracy: 0.9760 - val_loss: 0.8448 - val_accuracy: 0.7743\n",
      "Epoch 7/30\n",
      "16/16 - 1s - loss: 0.2757 - accuracy: 0.9800 - val_loss: 0.8122 - val_accuracy: 0.7834\n",
      "Epoch 8/30\n",
      "16/16 - 1s - loss: 0.2396 - accuracy: 0.9880 - val_loss: 0.7933 - val_accuracy: 0.7838\n",
      "Epoch 9/30\n",
      "16/16 - 1s - loss: 0.2140 - accuracy: 0.9880 - val_loss: 0.7768 - val_accuracy: 0.7914\n",
      "Epoch 10/30\n",
      "16/16 - 1s - loss: 0.1963 - accuracy: 0.9900 - val_loss: 0.7679 - val_accuracy: 0.7867\n",
      "Epoch 11/30\n",
      "16/16 - 1s - loss: 0.1806 - accuracy: 0.9900 - val_loss: 0.7545 - val_accuracy: 0.7916\n",
      "Epoch 12/30\n",
      "16/16 - 1s - loss: 0.1678 - accuracy: 0.9920 - val_loss: 0.7421 - val_accuracy: 0.7929\n",
      "Epoch 13/30\n",
      "16/16 - 1s - loss: 0.1577 - accuracy: 0.9940 - val_loss: 0.7326 - val_accuracy: 0.7954\n",
      "Epoch 14/30\n",
      "16/16 - 1s - loss: 0.1493 - accuracy: 0.9940 - val_loss: 0.7253 - val_accuracy: 0.7978\n",
      "Epoch 15/30\n",
      "16/16 - 1s - loss: 0.1421 - accuracy: 0.9940 - val_loss: 0.7195 - val_accuracy: 0.7972\n",
      "Epoch 16/30\n",
      "16/16 - 1s - loss: 0.1348 - accuracy: 0.9960 - val_loss: 0.7210 - val_accuracy: 0.7905\n",
      "Epoch 17/30\n",
      "16/16 - 1s - loss: 0.1295 - accuracy: 0.9940 - val_loss: 0.7084 - val_accuracy: 0.7976\n",
      "Epoch 18/30\n",
      "16/16 - 1s - loss: 0.1236 - accuracy: 0.9980 - val_loss: 0.7031 - val_accuracy: 0.7978\n",
      "Epoch 19/30\n",
      "16/16 - 1s - loss: 0.1191 - accuracy: 0.9980 - val_loss: 0.6984 - val_accuracy: 0.7969\n",
      "Epoch 20/30\n",
      "16/16 - 1s - loss: 0.1144 - accuracy: 1.0000 - val_loss: 0.6939 - val_accuracy: 0.7989\n",
      "Epoch 21/30\n",
      "16/16 - 1s - loss: 0.1108 - accuracy: 0.9980 - val_loss: 0.6920 - val_accuracy: 0.7983\n",
      "Epoch 22/30\n",
      "16/16 - 1s - loss: 0.1070 - accuracy: 1.0000 - val_loss: 0.6849 - val_accuracy: 0.7998\n",
      "Epoch 23/30\n",
      "16/16 - 1s - loss: 0.1033 - accuracy: 1.0000 - val_loss: 0.6794 - val_accuracy: 0.8007\n",
      "Epoch 24/30\n",
      "16/16 - 1s - loss: 0.1000 - accuracy: 1.0000 - val_loss: 0.6771 - val_accuracy: 0.8003\n",
      "Epoch 25/30\n",
      "16/16 - 1s - loss: 0.0964 - accuracy: 1.0000 - val_loss: 0.6744 - val_accuracy: 0.8014\n",
      "Epoch 26/30\n",
      "16/16 - 1s - loss: 0.0936 - accuracy: 1.0000 - val_loss: 0.6717 - val_accuracy: 0.8029\n",
      "Epoch 27/30\n",
      "16/16 - 1s - loss: 0.0910 - accuracy: 1.0000 - val_loss: 0.6665 - val_accuracy: 0.8029\n",
      "Epoch 28/30\n",
      "16/16 - 1s - loss: 0.0885 - accuracy: 1.0000 - val_loss: 0.6635 - val_accuracy: 0.8043\n",
      "Epoch 29/30\n",
      "16/16 - 1s - loss: 0.0862 - accuracy: 1.0000 - val_loss: 0.6597 - val_accuracy: 0.8058\n",
      "Epoch 30/30\n",
      "16/16 - 1s - loss: 0.0835 - accuracy: 1.0000 - val_loss: 0.6562 - val_accuracy: 0.8063\n"
     ]
    },
    {
     "data": {
      "text/plain": [
       "<tensorflow.python.keras.callbacks.History at 0x2a3723e7c18>"
      ]
     },
     "execution_count": 14,
     "metadata": {},
     "output_type": "execute_result"
    }
   ],
   "source": [
    "model = Sequential()\n",
    "model.add(Dense(1024, input_dim=784))\n",
    "model.add(Activation('sigmoid'))\n",
    "model.add(Dense(10))\n",
    "model.add(Activation('softmax'))\n",
    "\n",
    "model.summary()\n",
    "\n",
    "sgd = SGD(lr=0.01)\n",
    "model.compile(optimizer=sgd, loss='categorical_crossentropy', metrics=['accuracy'])\n",
    "model.fit(train_x_short, train_y_short, batch_size=32, epochs=30, validation_split=0.9, verbose=2)"
   ]
  },
  {
   "cell_type": "markdown",
   "metadata": {},
   "source": [
    "Helper functions"
   ]
  },
  {
   "cell_type": "code",
   "execution_count": 15,
   "metadata": {},
   "outputs": [],
   "source": [
    "def accuracy(test_x, test_y, model):\n",
    "    result = model.predict(test_x)\n",
    "    num_correct = np.argmax(result, axis=1)==np.argmax(test_y, axis=1)\n",
    "    accuracy = 1.0 * np.sum(num_correct) / result.shape[0]\n",
    "    print(\"Accuracy on data is: {}%\".format(accuracy * 100))\n",
    "    \n",
    "def get_correct_and_incorrect(model, test_x, test_y):\n",
    "    result = model.predict(test_x)\n",
    "    correct_indices = np.argmax(result, axis=1)==np.argmax(test_y, axis=1)\n",
    "    test_x_correct = test_x[correct_indices]\n",
    "    test_y_correct = test_y[correct_indices]\n",
    "    predict_test_y_correct = result[correct_indices]\n",
    "    incorrect_indices = np.argmax(result, axis=1)!=np.argmax(test_y, axis=1)\n",
    "    test_x_incorrect = test_x[incorrect_indices]\n",
    "    test_y_incorrect = test_y[incorrect_indices]\n",
    "    predict_test_y_incorrect = result[incorrect_indices]\n",
    "    return test_x_correct, test_y_correct, test_x_incorrect, test_y_incorrect, predict_test_y_correct, predict_test_y_incorrect"
   ]
  },
  {
   "cell_type": "code",
   "execution_count": 16,
   "metadata": {},
   "outputs": [
    {
     "name": "stdout",
     "output_type": "stream",
     "text": [
      "Accuracy on data is: 80.25999999999999%\n"
     ]
    }
   ],
   "source": [
    "accuracy(test_x, test_y, model)"
   ]
  },
  {
   "cell_type": "markdown",
   "metadata": {},
   "source": [
    "Setelah selesai kita dapatkan hasil akurasinya yaitu 80.25999999999999%"
   ]
  },
  {
   "cell_type": "markdown",
   "metadata": {},
   "source": [
    "Sumber : https://github.com/lgraesser/Intro-to-Neural-Networks-O-Reilly-AI/blob/master/KerasIntro_Regularization.ipynb"
   ]
  }
 ],
 "metadata": {
  "kernelspec": {
   "display_name": "Python 3",
   "language": "python",
   "name": "python3"
  },
  "language_info": {
   "codemirror_mode": {
    "name": "ipython",
    "version": 3
   },
   "file_extension": ".py",
   "mimetype": "text/x-python",
   "name": "python",
   "nbconvert_exporter": "python",
   "pygments_lexer": "ipython3",
   "version": "3.6.4"
  }
 },
 "nbformat": 4,
 "nbformat_minor": 2
}
