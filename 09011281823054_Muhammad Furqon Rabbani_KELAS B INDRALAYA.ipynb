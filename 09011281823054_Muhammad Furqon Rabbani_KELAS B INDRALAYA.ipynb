{
 "cells": [
  {
   "cell_type": "markdown",
   "metadata": {},
   "source": [
    "# Pengaruh Spesifikasi Handphone terhadap Harga Handphone"
   ]
  },
  {
   "cell_type": "raw",
   "metadata": {},
   "source": [
    "Disusun oleh\n",
    "Nama : Muhammad Furqon Rabbani\n",
    "Nim :  09011281823054\n",
    "Kelas : SK5B"
   ]
  },
  {
   "cell_type": "markdown",
   "metadata": {},
   "source": [
    "Dewasa ini kebutuhan akan tetap terkoneksi makin meningkat,akibatnya ponsel sekarang menjadi salah satu alat wajib yang harus dimiliki. Hal ini menyebabkan tumbuhnya berbagai macam inovasi dalam industri ponsel. Dengan berbagai spesifikasi canggih yang ditawarkan. Ponsel dijual dengan beberapa rentang harga. mulai dari yang terjangkau hingga fantastis. adapun pada notebook kali ini kami akan mengelompokkan hp berdasarkan harganya yang mana disini kami memakai input yaitu spesifikasi hp tersebut. yang mana kedepannya mungkin membantu dalam pemasaran ponsel untuk menentukan rentang harga yang ideal bagi ponsel yang ditawarkan"
   ]
  },
  {
   "cell_type": "markdown",
   "metadata": {},
   "source": [
    "# Dataset"
   ]
  },
  {
   "cell_type": "markdown",
   "metadata": {},
   "source": [
    "adapun dataset untuk notebook ini merupakan data mengenai ponsel ponsel yang beredar dicatatlah spesifikasi tiap ponsel yang antara lain \n",
    "1. ID = identitas atau pembeda tiap seri ponsel dengan ponsel lain\n",
    "adapun spesifikasi yang diperhitungkan disini antara lain\n",
    "2. battery_power = kapasitas total baterai pada ponsel (mAh)\n",
    "3. blue = ketersediaan fitur bluetooth (1= ya,0= tidak)\n",
    "4. clock_speed = kecepatan yang dicapai processor ketika menjalankan instruksi\n",
    "5. dual_sim = ketersediaan slot dual sim (1= ya,0= tidak)\n",
    "6. fc = pixel pada kamerea depan\n",
    "7. four_g = ketersediaan 4G (1= ya,0= tidak)\n",
    "8. int_memory = kapasitas memori internal (GB)\n",
    "9. m_dep = ketebalan ponsel (cm)\n",
    "10. mobile_wt = bobot hp\n",
    "11. n_cores = jumlah core pada processor\n",
    "12. pc = megapixel pada kamera utama\n",
    "13. px_height =panjang resolusi pixel\n",
    "14. px_width = lebar resolusi pixel\n",
    "15. ram = kapasitas ram (MB)\n",
    "16. sc_h = panjang layar (cm)\n",
    "17. sc_w = lebar layar (cm)\n",
    "18. talk_time = lama hp bisa digunakan saat menelpon\n",
    "19. three_g = ketersediaan jaringan 3G\n",
    "20. wifi = ketersediaan wifi\n",
    "21. touch_screen = ketersediaan layar sentuh\n",
    "\n",
    "dengan data tersebut kita akan mencoba memprediksi rentang harga yang tepat bagi sebuah ponsel dengan spesifikasi dan fitur tertentu.\n"
   ]
  },
  {
   "cell_type": "markdown",
   "metadata": {},
   "source": [
    "# Pendahuluan"
   ]
  },
  {
   "cell_type": "markdown",
   "metadata": {},
   "source": [
    "pada notebook ini kita akan memprediksi harga dengan menggunakan ANN yang dilatih dengan package <b>Keras</b> untuk memprediksi sebuah ponsel masuk ke rentang harga yang mana dengan input data untuk training ANN nya adalah spesifikasi dari ponsel tersebut adapun tahapan untuk melakukannya antara lain :\n",
    "1. preprocessing dan analisis data\n",
    "2. melatih ANN \n",
    "3. melakukan pengetesan dan visualisasi \n"
   ]
  },
  {
   "cell_type": "markdown",
   "metadata": {},
   "source": [
    "# 1. Preprocessing dan Analisis data"
   ]
  },
  {
   "cell_type": "markdown",
   "metadata": {},
   "source": [
    "## Import package yang diperlukan"
   ]
  },
  {
   "cell_type": "markdown",
   "metadata": {},
   "source": [
    "### Library Numpy \n",
    "berfungsi untuk mengolah data dalam bentuk angka (array)\n",
    "### Library Pandas\n",
    "Berfungsi untuk membaca file dataset dalam bentuk .CSV\n",
    "### Library Keras\n",
    "Keras adalah high-level neural network API yang dikembangkan dengan Python dengan fokus tujuan untuk mempercepat proses riset atau percobaan\n",
    "### Library Matplotlib \n",
    "berfungsi untuk membantu visualisasi dataset sehingga memudahkan untuk dipahami\n",
    "### Library Seaborn\n",
    "sama seperti Matplotlib,yakni berfungsi untuk membantu visualisasi dataset"
   ]
  },
  {
   "cell_type": "code",
   "execution_count": 2,
   "metadata": {},
   "outputs": [
    {
     "name": "stderr",
     "output_type": "stream",
     "text": [
      "Using TensorFlow backend.\n",
      "C:\\Users\\Asus\\anaconda3\\lib\\site-packages\\tensorboard\\compat\\tensorflow_stub\\dtypes.py:541: FutureWarning: Passing (type, 1) or '1type' as a synonym of type is deprecated; in a future version of numpy, it will be understood as (type, (1,)) / '(1,)type'.\n",
      "  _np_qint8 = np.dtype([(\"qint8\", np.int8, 1)])\n",
      "C:\\Users\\Asus\\anaconda3\\lib\\site-packages\\tensorboard\\compat\\tensorflow_stub\\dtypes.py:542: FutureWarning: Passing (type, 1) or '1type' as a synonym of type is deprecated; in a future version of numpy, it will be understood as (type, (1,)) / '(1,)type'.\n",
      "  _np_quint8 = np.dtype([(\"quint8\", np.uint8, 1)])\n",
      "C:\\Users\\Asus\\anaconda3\\lib\\site-packages\\tensorboard\\compat\\tensorflow_stub\\dtypes.py:543: FutureWarning: Passing (type, 1) or '1type' as a synonym of type is deprecated; in a future version of numpy, it will be understood as (type, (1,)) / '(1,)type'.\n",
      "  _np_qint16 = np.dtype([(\"qint16\", np.int16, 1)])\n",
      "C:\\Users\\Asus\\anaconda3\\lib\\site-packages\\tensorboard\\compat\\tensorflow_stub\\dtypes.py:544: FutureWarning: Passing (type, 1) or '1type' as a synonym of type is deprecated; in a future version of numpy, it will be understood as (type, (1,)) / '(1,)type'.\n",
      "  _np_quint16 = np.dtype([(\"quint16\", np.uint16, 1)])\n",
      "C:\\Users\\Asus\\anaconda3\\lib\\site-packages\\tensorboard\\compat\\tensorflow_stub\\dtypes.py:545: FutureWarning: Passing (type, 1) or '1type' as a synonym of type is deprecated; in a future version of numpy, it will be understood as (type, (1,)) / '(1,)type'.\n",
      "  _np_qint32 = np.dtype([(\"qint32\", np.int32, 1)])\n",
      "C:\\Users\\Asus\\anaconda3\\lib\\site-packages\\tensorboard\\compat\\tensorflow_stub\\dtypes.py:550: FutureWarning: Passing (type, 1) or '1type' as a synonym of type is deprecated; in a future version of numpy, it will be understood as (type, (1,)) / '(1,)type'.\n",
      "  np_resource = np.dtype([(\"resource\", np.ubyte, 1)])\n"
     ]
    }
   ],
   "source": [
    "import numpy as np \n",
    "import pandas as pd \n",
    "import keras\n",
    "import matplotlib.pyplot as plt\n",
    "import seaborn as sns"
   ]
  },
  {
   "cell_type": "markdown",
   "metadata": {},
   "source": [
    "## ambil data dari direktori"
   ]
  },
  {
   "cell_type": "code",
   "execution_count": 5,
   "metadata": {},
   "outputs": [],
   "source": [
    "df = pd.read_csv('D:\\code\\AI\\datasets\\mobile_train.csv')\n",
    "dftest = pd.read_csv('D:\\code\\AI\\datasets\\mobile_test.csv')"
   ]
  },
  {
   "cell_type": "markdown",
   "metadata": {},
   "source": [
    "## tampilkan isi dari data yang kita ambil"
   ]
  },
  {
   "cell_type": "code",
   "execution_count": 6,
   "metadata": {},
   "outputs": [
    {
     "data": {
      "text/html": [
       "<div>\n",
       "<style scoped>\n",
       "    .dataframe tbody tr th:only-of-type {\n",
       "        vertical-align: middle;\n",
       "    }\n",
       "\n",
       "    .dataframe tbody tr th {\n",
       "        vertical-align: top;\n",
       "    }\n",
       "\n",
       "    .dataframe thead th {\n",
       "        text-align: right;\n",
       "    }\n",
       "</style>\n",
       "<table border=\"1\" class=\"dataframe\">\n",
       "  <thead>\n",
       "    <tr style=\"text-align: right;\">\n",
       "      <th></th>\n",
       "      <th>battery_power</th>\n",
       "      <th>blue</th>\n",
       "      <th>clock_speed</th>\n",
       "      <th>dual_sim</th>\n",
       "      <th>fc</th>\n",
       "      <th>four_g</th>\n",
       "      <th>int_memory</th>\n",
       "      <th>m_dep</th>\n",
       "      <th>mobile_wt</th>\n",
       "      <th>n_cores</th>\n",
       "      <th>...</th>\n",
       "      <th>px_height</th>\n",
       "      <th>px_width</th>\n",
       "      <th>ram</th>\n",
       "      <th>sc_h</th>\n",
       "      <th>sc_w</th>\n",
       "      <th>talk_time</th>\n",
       "      <th>three_g</th>\n",
       "      <th>touch_screen</th>\n",
       "      <th>wifi</th>\n",
       "      <th>price_range</th>\n",
       "    </tr>\n",
       "  </thead>\n",
       "  <tbody>\n",
       "    <tr>\n",
       "      <th>0</th>\n",
       "      <td>842</td>\n",
       "      <td>0</td>\n",
       "      <td>2.2</td>\n",
       "      <td>0</td>\n",
       "      <td>1</td>\n",
       "      <td>0</td>\n",
       "      <td>7</td>\n",
       "      <td>0.6</td>\n",
       "      <td>188</td>\n",
       "      <td>2</td>\n",
       "      <td>...</td>\n",
       "      <td>20</td>\n",
       "      <td>756</td>\n",
       "      <td>2549</td>\n",
       "      <td>9</td>\n",
       "      <td>7</td>\n",
       "      <td>19</td>\n",
       "      <td>0</td>\n",
       "      <td>0</td>\n",
       "      <td>1</td>\n",
       "      <td>1</td>\n",
       "    </tr>\n",
       "    <tr>\n",
       "      <th>1</th>\n",
       "      <td>1021</td>\n",
       "      <td>1</td>\n",
       "      <td>0.5</td>\n",
       "      <td>1</td>\n",
       "      <td>0</td>\n",
       "      <td>1</td>\n",
       "      <td>53</td>\n",
       "      <td>0.7</td>\n",
       "      <td>136</td>\n",
       "      <td>3</td>\n",
       "      <td>...</td>\n",
       "      <td>905</td>\n",
       "      <td>1988</td>\n",
       "      <td>2631</td>\n",
       "      <td>17</td>\n",
       "      <td>3</td>\n",
       "      <td>7</td>\n",
       "      <td>1</td>\n",
       "      <td>1</td>\n",
       "      <td>0</td>\n",
       "      <td>2</td>\n",
       "    </tr>\n",
       "    <tr>\n",
       "      <th>2</th>\n",
       "      <td>563</td>\n",
       "      <td>1</td>\n",
       "      <td>0.5</td>\n",
       "      <td>1</td>\n",
       "      <td>2</td>\n",
       "      <td>1</td>\n",
       "      <td>41</td>\n",
       "      <td>0.9</td>\n",
       "      <td>145</td>\n",
       "      <td>5</td>\n",
       "      <td>...</td>\n",
       "      <td>1263</td>\n",
       "      <td>1716</td>\n",
       "      <td>2603</td>\n",
       "      <td>11</td>\n",
       "      <td>2</td>\n",
       "      <td>9</td>\n",
       "      <td>1</td>\n",
       "      <td>1</td>\n",
       "      <td>0</td>\n",
       "      <td>2</td>\n",
       "    </tr>\n",
       "    <tr>\n",
       "      <th>3</th>\n",
       "      <td>615</td>\n",
       "      <td>1</td>\n",
       "      <td>2.5</td>\n",
       "      <td>0</td>\n",
       "      <td>0</td>\n",
       "      <td>0</td>\n",
       "      <td>10</td>\n",
       "      <td>0.8</td>\n",
       "      <td>131</td>\n",
       "      <td>6</td>\n",
       "      <td>...</td>\n",
       "      <td>1216</td>\n",
       "      <td>1786</td>\n",
       "      <td>2769</td>\n",
       "      <td>16</td>\n",
       "      <td>8</td>\n",
       "      <td>11</td>\n",
       "      <td>1</td>\n",
       "      <td>0</td>\n",
       "      <td>0</td>\n",
       "      <td>2</td>\n",
       "    </tr>\n",
       "    <tr>\n",
       "      <th>4</th>\n",
       "      <td>1821</td>\n",
       "      <td>1</td>\n",
       "      <td>1.2</td>\n",
       "      <td>0</td>\n",
       "      <td>13</td>\n",
       "      <td>1</td>\n",
       "      <td>44</td>\n",
       "      <td>0.6</td>\n",
       "      <td>141</td>\n",
       "      <td>2</td>\n",
       "      <td>...</td>\n",
       "      <td>1208</td>\n",
       "      <td>1212</td>\n",
       "      <td>1411</td>\n",
       "      <td>8</td>\n",
       "      <td>2</td>\n",
       "      <td>15</td>\n",
       "      <td>1</td>\n",
       "      <td>1</td>\n",
       "      <td>0</td>\n",
       "      <td>1</td>\n",
       "    </tr>\n",
       "  </tbody>\n",
       "</table>\n",
       "<p>5 rows × 21 columns</p>\n",
       "</div>"
      ],
      "text/plain": [
       "   battery_power  blue  clock_speed  dual_sim  fc  four_g  int_memory  m_dep  \\\n",
       "0            842     0          2.2         0   1       0           7    0.6   \n",
       "1           1021     1          0.5         1   0       1          53    0.7   \n",
       "2            563     1          0.5         1   2       1          41    0.9   \n",
       "3            615     1          2.5         0   0       0          10    0.8   \n",
       "4           1821     1          1.2         0  13       1          44    0.6   \n",
       "\n",
       "   mobile_wt  n_cores  ...  px_height  px_width   ram  sc_h  sc_w  talk_time  \\\n",
       "0        188        2  ...         20       756  2549     9     7         19   \n",
       "1        136        3  ...        905      1988  2631    17     3          7   \n",
       "2        145        5  ...       1263      1716  2603    11     2          9   \n",
       "3        131        6  ...       1216      1786  2769    16     8         11   \n",
       "4        141        2  ...       1208      1212  1411     8     2         15   \n",
       "\n",
       "   three_g  touch_screen  wifi  price_range  \n",
       "0        0             0     1            1  \n",
       "1        1             1     0            2  \n",
       "2        1             1     0            2  \n",
       "3        1             0     0            2  \n",
       "4        1             1     0            1  \n",
       "\n",
       "[5 rows x 21 columns]"
      ]
     },
     "execution_count": 6,
     "metadata": {},
     "output_type": "execute_result"
    }
   ],
   "source": [
    "df.head()"
   ]
  },
  {
   "cell_type": "markdown",
   "metadata": {},
   "source": [
    "# analisa data yang kita gunakan"
   ]
  },
  {
   "cell_type": "code",
   "execution_count": 7,
   "metadata": {},
   "outputs": [
    {
     "name": "stdout",
     "output_type": "stream",
     "text": [
      "[0 1 2 3]\n"
     ]
    }
   ],
   "source": [
    "print(np.unique(df['price_range']))"
   ]
  },
  {
   "cell_type": "raw",
   "metadata": {},
   "source": [
    "terlihat pada price range data hanya punya 4  yaitu 0 1 2 3 dimana merepresentasika harga sebuah ponsel dengan asumsi\n",
    "0 = murah\n",
    "1 = sedang\n",
    "2 = mahal\n",
    "3 = sangat mahal"
   ]
  },
  {
   "cell_type": "code",
   "execution_count": 8,
   "metadata": {},
   "outputs": [
    {
     "data": {
      "text/plain": [
       "3    500\n",
       "2    500\n",
       "1    500\n",
       "0    500\n",
       "Name: price_range, dtype: int64"
      ]
     },
     "execution_count": 8,
     "metadata": {},
     "output_type": "execute_result"
    }
   ],
   "source": [
    "df.price_range.value_counts() "
   ]
  },
  {
   "cell_type": "code",
   "execution_count": 9,
   "metadata": {
    "scrolled": true
   },
   "outputs": [
    {
     "data": {
      "image/png": "[encoded data removed]",
      "text/plain": [
       "<Figure size 432x288 with 1 Axes>"
      ]
     },
     "metadata": {
      "needs_background": "light"
     },
     "output_type": "display_data"
    }
   ],
   "source": [
    "sns.countplot(x=\"price_range\", data=df, palette=\"bwr\")\n",
    "plt.show()"
   ]
  },
  {
   "cell_type": "markdown",
   "metadata": {},
   "source": [
    "dapat dilihat bajwa pada data untuk training kali ini kita menggunakan data yang sama rata sehingga program mampu melatih data dengan keluaran tertentu sama rata"
   ]
  },
  {
   "cell_type": "markdown",
   "metadata": {},
   "source": [
    "pastikan data yang bisa dan tidak bisa diolah, data yang bisa diolah formatnya angka apabila bersifat string maka tidak bisa diolah "
   ]
  },
  {
   "cell_type": "code",
   "execution_count": 10,
   "metadata": {},
   "outputs": [
    {
     "name": "stdout",
     "output_type": "stream",
     "text": [
      "<class 'pandas.core.frame.DataFrame'>\n",
      "RangeIndex: 2000 entries, 0 to 1999\n",
      "Data columns (total 21 columns):\n",
      " #   Column         Non-Null Count  Dtype  \n",
      "---  ------         --------------  -----  \n",
      " 0   battery_power  2000 non-null   int64  \n",
      " 1   blue           2000 non-null   int64  \n",
      " 2   clock_speed    2000 non-null   float64\n",
      " 3   dual_sim       2000 non-null   int64  \n",
      " 4   fc             2000 non-null   int64  \n",
      " 5   four_g         2000 non-null   int64  \n",
      " 6   int_memory     2000 non-null   int64  \n",
      " 7   m_dep          2000 non-null   float64\n",
      " 8   mobile_wt      2000 non-null   int64  \n",
      " 9   n_cores        2000 non-null   int64  \n",
      " 10  pc             2000 non-null   int64  \n",
      " 11  px_height      2000 non-null   int64  \n",
      " 12  px_width       2000 non-null   int64  \n",
      " 13  ram            2000 non-null   int64  \n",
      " 14  sc_h           2000 non-null   int64  \n",
      " 15  sc_w           2000 non-null   int64  \n",
      " 16  talk_time      2000 non-null   int64  \n",
      " 17  three_g        2000 non-null   int64  \n",
      " 18  touch_screen   2000 non-null   int64  \n",
      " 19  wifi           2000 non-null   int64  \n",
      " 20  price_range    2000 non-null   int64  \n",
      "dtypes: float64(2), int64(19)\n",
      "memory usage: 328.2 KB\n"
     ]
    }
   ],
   "source": [
    "df.info()"
   ]
  },
  {
   "cell_type": "markdown",
   "metadata": {},
   "source": [
    "terlihat pada tampilan diatas tipe data yang kita gunakan semuanya bisa diolah tapi untuk mempercepat proses akan kita olah sebagian saja"
   ]
  },
  {
   "cell_type": "code",
   "execution_count": 11,
   "metadata": {},
   "outputs": [
    {
     "data": {
      "text/html": [
       "<div>\n",
       "<style scoped>\n",
       "    .dataframe tbody tr th:only-of-type {\n",
       "        vertical-align: middle;\n",
       "    }\n",
       "\n",
       "    .dataframe tbody tr th {\n",
       "        vertical-align: top;\n",
       "    }\n",
       "\n",
       "    .dataframe thead th {\n",
       "        text-align: right;\n",
       "    }\n",
       "</style>\n",
       "<table border=\"1\" class=\"dataframe\">\n",
       "  <thead>\n",
       "    <tr style=\"text-align: right;\">\n",
       "      <th></th>\n",
       "      <th>battery_power</th>\n",
       "      <th>blue</th>\n",
       "      <th>clock_speed</th>\n",
       "      <th>dual_sim</th>\n",
       "      <th>fc</th>\n",
       "      <th>four_g</th>\n",
       "      <th>int_memory</th>\n",
       "      <th>m_dep</th>\n",
       "      <th>mobile_wt</th>\n",
       "      <th>n_cores</th>\n",
       "      <th>...</th>\n",
       "      <th>px_height</th>\n",
       "      <th>px_width</th>\n",
       "      <th>ram</th>\n",
       "      <th>sc_h</th>\n",
       "      <th>sc_w</th>\n",
       "      <th>talk_time</th>\n",
       "      <th>three_g</th>\n",
       "      <th>touch_screen</th>\n",
       "      <th>wifi</th>\n",
       "      <th>price_range</th>\n",
       "    </tr>\n",
       "  </thead>\n",
       "  <tbody>\n",
       "    <tr>\n",
       "      <th>count</th>\n",
       "      <td>2000.000000</td>\n",
       "      <td>2000.0000</td>\n",
       "      <td>2000.000000</td>\n",
       "      <td>2000.000000</td>\n",
       "      <td>2000.000000</td>\n",
       "      <td>2000.000000</td>\n",
       "      <td>2000.000000</td>\n",
       "      <td>2000.000000</td>\n",
       "      <td>2000.000000</td>\n",
       "      <td>2000.000000</td>\n",
       "      <td>...</td>\n",
       "      <td>2000.000000</td>\n",
       "      <td>2000.000000</td>\n",
       "      <td>2000.000000</td>\n",
       "      <td>2000.000000</td>\n",
       "      <td>2000.000000</td>\n",
       "      <td>2000.000000</td>\n",
       "      <td>2000.000000</td>\n",
       "      <td>2000.000000</td>\n",
       "      <td>2000.000000</td>\n",
       "      <td>2000.000000</td>\n",
       "    </tr>\n",
       "    <tr>\n",
       "      <th>mean</th>\n",
       "      <td>1238.518500</td>\n",
       "      <td>0.4950</td>\n",
       "      <td>1.522250</td>\n",
       "      <td>0.509500</td>\n",
       "      <td>4.309500</td>\n",
       "      <td>0.521500</td>\n",
       "      <td>32.046500</td>\n",
       "      <td>0.501750</td>\n",
       "      <td>140.249000</td>\n",
       "      <td>4.520500</td>\n",
       "      <td>...</td>\n",
       "      <td>645.108000</td>\n",
       "      <td>1251.515500</td>\n",
       "      <td>2124.213000</td>\n",
       "      <td>12.306500</td>\n",
       "      <td>5.767000</td>\n",
       "      <td>11.011000</td>\n",
       "      <td>0.761500</td>\n",
       "      <td>0.503000</td>\n",
       "      <td>0.507000</td>\n",
       "      <td>1.500000</td>\n",
       "    </tr>\n",
       "    <tr>\n",
       "      <th>std</th>\n",
       "      <td>439.418206</td>\n",
       "      <td>0.5001</td>\n",
       "      <td>0.816004</td>\n",
       "      <td>0.500035</td>\n",
       "      <td>4.341444</td>\n",
       "      <td>0.499662</td>\n",
       "      <td>18.145715</td>\n",
       "      <td>0.288416</td>\n",
       "      <td>35.399655</td>\n",
       "      <td>2.287837</td>\n",
       "      <td>...</td>\n",
       "      <td>443.780811</td>\n",
       "      <td>432.199447</td>\n",
       "      <td>1084.732044</td>\n",
       "      <td>4.213245</td>\n",
       "      <td>4.356398</td>\n",
       "      <td>5.463955</td>\n",
       "      <td>0.426273</td>\n",
       "      <td>0.500116</td>\n",
       "      <td>0.500076</td>\n",
       "      <td>1.118314</td>\n",
       "    </tr>\n",
       "    <tr>\n",
       "      <th>min</th>\n",
       "      <td>501.000000</td>\n",
       "      <td>0.0000</td>\n",
       "      <td>0.500000</td>\n",
       "      <td>0.000000</td>\n",
       "      <td>0.000000</td>\n",
       "      <td>0.000000</td>\n",
       "      <td>2.000000</td>\n",
       "      <td>0.100000</td>\n",
       "      <td>80.000000</td>\n",
       "      <td>1.000000</td>\n",
       "      <td>...</td>\n",
       "      <td>0.000000</td>\n",
       "      <td>500.000000</td>\n",
       "      <td>256.000000</td>\n",
       "      <td>5.000000</td>\n",
       "      <td>0.000000</td>\n",
       "      <td>2.000000</td>\n",
       "      <td>0.000000</td>\n",
       "      <td>0.000000</td>\n",
       "      <td>0.000000</td>\n",
       "      <td>0.000000</td>\n",
       "    </tr>\n",
       "    <tr>\n",
       "      <th>25%</th>\n",
       "      <td>851.750000</td>\n",
       "      <td>0.0000</td>\n",
       "      <td>0.700000</td>\n",
       "      <td>0.000000</td>\n",
       "      <td>1.000000</td>\n",
       "      <td>0.000000</td>\n",
       "      <td>16.000000</td>\n",
       "      <td>0.200000</td>\n",
       "      <td>109.000000</td>\n",
       "      <td>3.000000</td>\n",
       "      <td>...</td>\n",
       "      <td>282.750000</td>\n",
       "      <td>874.750000</td>\n",
       "      <td>1207.500000</td>\n",
       "      <td>9.000000</td>\n",
       "      <td>2.000000</td>\n",
       "      <td>6.000000</td>\n",
       "      <td>1.000000</td>\n",
       "      <td>0.000000</td>\n",
       "      <td>0.000000</td>\n",
       "      <td>0.750000</td>\n",
       "    </tr>\n",
       "    <tr>\n",
       "      <th>50%</th>\n",
       "      <td>1226.000000</td>\n",
       "      <td>0.0000</td>\n",
       "      <td>1.500000</td>\n",
       "      <td>1.000000</td>\n",
       "      <td>3.000000</td>\n",
       "      <td>1.000000</td>\n",
       "      <td>32.000000</td>\n",
       "      <td>0.500000</td>\n",
       "      <td>141.000000</td>\n",
       "      <td>4.000000</td>\n",
       "      <td>...</td>\n",
       "      <td>564.000000</td>\n",
       "      <td>1247.000000</td>\n",
       "      <td>2146.500000</td>\n",
       "      <td>12.000000</td>\n",
       "      <td>5.000000</td>\n",
       "      <td>11.000000</td>\n",
       "      <td>1.000000</td>\n",
       "      <td>1.000000</td>\n",
       "      <td>1.000000</td>\n",
       "      <td>1.500000</td>\n",
       "    </tr>\n",
       "    <tr>\n",
       "      <th>75%</th>\n",
       "      <td>1615.250000</td>\n",
       "      <td>1.0000</td>\n",
       "      <td>2.200000</td>\n",
       "      <td>1.000000</td>\n",
       "      <td>7.000000</td>\n",
       "      <td>1.000000</td>\n",
       "      <td>48.000000</td>\n",
       "      <td>0.800000</td>\n",
       "      <td>170.000000</td>\n",
       "      <td>7.000000</td>\n",
       "      <td>...</td>\n",
       "      <td>947.250000</td>\n",
       "      <td>1633.000000</td>\n",
       "      <td>3064.500000</td>\n",
       "      <td>16.000000</td>\n",
       "      <td>9.000000</td>\n",
       "      <td>16.000000</td>\n",
       "      <td>1.000000</td>\n",
       "      <td>1.000000</td>\n",
       "      <td>1.000000</td>\n",
       "      <td>2.250000</td>\n",
       "    </tr>\n",
       "    <tr>\n",
       "      <th>max</th>\n",
       "      <td>1998.000000</td>\n",
       "      <td>1.0000</td>\n",
       "      <td>3.000000</td>\n",
       "      <td>1.000000</td>\n",
       "      <td>19.000000</td>\n",
       "      <td>1.000000</td>\n",
       "      <td>64.000000</td>\n",
       "      <td>1.000000</td>\n",
       "      <td>200.000000</td>\n",
       "      <td>8.000000</td>\n",
       "      <td>...</td>\n",
       "      <td>1960.000000</td>\n",
       "      <td>1998.000000</td>\n",
       "      <td>3998.000000</td>\n",
       "      <td>19.000000</td>\n",
       "      <td>18.000000</td>\n",
       "      <td>20.000000</td>\n",
       "      <td>1.000000</td>\n",
       "      <td>1.000000</td>\n",
       "      <td>1.000000</td>\n",
       "      <td>3.000000</td>\n",
       "    </tr>\n",
       "  </tbody>\n",
       "</table>\n",
       "<p>8 rows × 21 columns</p>\n",
       "</div>"
      ],
      "text/plain": [
       "       battery_power       blue  clock_speed     dual_sim           fc  \\\n",
       "count    2000.000000  2000.0000  2000.000000  2000.000000  2000.000000   \n",
       "mean     1238.518500     0.4950     1.522250     0.509500     4.309500   \n",
       "std       439.418206     0.5001     0.816004     0.500035     4.341444   \n",
       "min       501.000000     0.0000     0.500000     0.000000     0.000000   \n",
       "25%       851.750000     0.0000     0.700000     0.000000     1.000000   \n",
       "50%      1226.000000     0.0000     1.500000     1.000000     3.000000   \n",
       "75%      1615.250000     1.0000     2.200000     1.000000     7.000000   \n",
       "max      1998.000000     1.0000     3.000000     1.000000    19.000000   \n",
       "\n",
       "            four_g   int_memory        m_dep    mobile_wt      n_cores  ...  \\\n",
       "count  2000.000000  2000.000000  2000.000000  2000.000000  2000.000000  ...   \n",
       "mean      0.521500    32.046500     0.501750   140.249000     4.520500  ...   \n",
       "std       0.499662    18.145715     0.288416    35.399655     2.287837  ...   \n",
       "min       0.000000     2.000000     0.100000    80.000000     1.000000  ...   \n",
       "25%       0.000000    16.000000     0.200000   109.000000     3.000000  ...   \n",
       "50%       1.000000    32.000000     0.500000   141.000000     4.000000  ...   \n",
       "75%       1.000000    48.000000     0.800000   170.000000     7.000000  ...   \n",
       "max       1.000000    64.000000     1.000000   200.000000     8.000000  ...   \n",
       "\n",
       "         px_height     px_width          ram         sc_h         sc_w  \\\n",
       "count  2000.000000  2000.000000  2000.000000  2000.000000  2000.000000   \n",
       "mean    645.108000  1251.515500  2124.213000    12.306500     5.767000   \n",
       "std     443.780811   432.199447  1084.732044     4.213245     4.356398   \n",
       "min       0.000000   500.000000   256.000000     5.000000     0.000000   \n",
       "25%     282.750000   874.750000  1207.500000     9.000000     2.000000   \n",
       "50%     564.000000  1247.000000  2146.500000    12.000000     5.000000   \n",
       "75%     947.250000  1633.000000  3064.500000    16.000000     9.000000   \n",
       "max    1960.000000  1998.000000  3998.000000    19.000000    18.000000   \n",
       "\n",
       "         talk_time      three_g  touch_screen         wifi  price_range  \n",
       "count  2000.000000  2000.000000   2000.000000  2000.000000  2000.000000  \n",
       "mean     11.011000     0.761500      0.503000     0.507000     1.500000  \n",
       "std       5.463955     0.426273      0.500116     0.500076     1.118314  \n",
       "min       2.000000     0.000000      0.000000     0.000000     0.000000  \n",
       "25%       6.000000     1.000000      0.000000     0.000000     0.750000  \n",
       "50%      11.000000     1.000000      1.000000     1.000000     1.500000  \n",
       "75%      16.000000     1.000000      1.000000     1.000000     2.250000  \n",
       "max      20.000000     1.000000      1.000000     1.000000     3.000000  \n",
       "\n",
       "[8 rows x 21 columns]"
      ]
     },
     "execution_count": 11,
     "metadata": {},
     "output_type": "execute_result"
    }
   ],
   "source": [
    "df.describe()"
   ]
  },
  {
   "cell_type": "markdown",
   "metadata": {},
   "source": [
    "# tentukan yang mana akan dijadikan input dan target"
   ]
  },
  {
   "cell_type": "code",
   "execution_count": 12,
   "metadata": {
    "scrolled": true
   },
   "outputs": [
    {
     "data": {
      "text/html": [
       "<div>\n",
       "<style scoped>\n",
       "    .dataframe tbody tr th:only-of-type {\n",
       "        vertical-align: middle;\n",
       "    }\n",
       "\n",
       "    .dataframe tbody tr th {\n",
       "        vertical-align: top;\n",
       "    }\n",
       "\n",
       "    .dataframe thead th {\n",
       "        text-align: right;\n",
       "    }\n",
       "</style>\n",
       "<table border=\"1\" class=\"dataframe\">\n",
       "  <thead>\n",
       "    <tr style=\"text-align: right;\">\n",
       "      <th></th>\n",
       "      <th>battery_power</th>\n",
       "      <th>blue</th>\n",
       "      <th>clock_speed</th>\n",
       "      <th>dual_sim</th>\n",
       "      <th>fc</th>\n",
       "      <th>four_g</th>\n",
       "      <th>int_memory</th>\n",
       "      <th>m_dep</th>\n",
       "      <th>mobile_wt</th>\n",
       "      <th>n_cores</th>\n",
       "      <th>pc</th>\n",
       "      <th>px_height</th>\n",
       "      <th>px_width</th>\n",
       "      <th>ram</th>\n",
       "      <th>sc_h</th>\n",
       "      <th>sc_w</th>\n",
       "      <th>talk_time</th>\n",
       "      <th>three_g</th>\n",
       "      <th>touch_screen</th>\n",
       "      <th>wifi</th>\n",
       "    </tr>\n",
       "  </thead>\n",
       "  <tbody>\n",
       "    <tr>\n",
       "      <th>0</th>\n",
       "      <td>842</td>\n",
       "      <td>0</td>\n",
       "      <td>2.2</td>\n",
       "      <td>0</td>\n",
       "      <td>1</td>\n",
       "      <td>0</td>\n",
       "      <td>7</td>\n",
       "      <td>0.6</td>\n",
       "      <td>188</td>\n",
       "      <td>2</td>\n",
       "      <td>2</td>\n",
       "      <td>20</td>\n",
       "      <td>756</td>\n",
       "      <td>2549</td>\n",
       "      <td>9</td>\n",
       "      <td>7</td>\n",
       "      <td>19</td>\n",
       "      <td>0</td>\n",
       "      <td>0</td>\n",
       "      <td>1</td>\n",
       "    </tr>\n",
       "    <tr>\n",
       "      <th>1</th>\n",
       "      <td>1021</td>\n",
       "      <td>1</td>\n",
       "      <td>0.5</td>\n",
       "      <td>1</td>\n",
       "      <td>0</td>\n",
       "      <td>1</td>\n",
       "      <td>53</td>\n",
       "      <td>0.7</td>\n",
       "      <td>136</td>\n",
       "      <td>3</td>\n",
       "      <td>6</td>\n",
       "      <td>905</td>\n",
       "      <td>1988</td>\n",
       "      <td>2631</td>\n",
       "      <td>17</td>\n",
       "      <td>3</td>\n",
       "      <td>7</td>\n",
       "      <td>1</td>\n",
       "      <td>1</td>\n",
       "      <td>0</td>\n",
       "    </tr>\n",
       "    <tr>\n",
       "      <th>2</th>\n",
       "      <td>563</td>\n",
       "      <td>1</td>\n",
       "      <td>0.5</td>\n",
       "      <td>1</td>\n",
       "      <td>2</td>\n",
       "      <td>1</td>\n",
       "      <td>41</td>\n",
       "      <td>0.9</td>\n",
       "      <td>145</td>\n",
       "      <td>5</td>\n",
       "      <td>6</td>\n",
       "      <td>1263</td>\n",
       "      <td>1716</td>\n",
       "      <td>2603</td>\n",
       "      <td>11</td>\n",
       "      <td>2</td>\n",
       "      <td>9</td>\n",
       "      <td>1</td>\n",
       "      <td>1</td>\n",
       "      <td>0</td>\n",
       "    </tr>\n",
       "    <tr>\n",
       "      <th>3</th>\n",
       "      <td>615</td>\n",
       "      <td>1</td>\n",
       "      <td>2.5</td>\n",
       "      <td>0</td>\n",
       "      <td>0</td>\n",
       "      <td>0</td>\n",
       "      <td>10</td>\n",
       "      <td>0.8</td>\n",
       "      <td>131</td>\n",
       "      <td>6</td>\n",
       "      <td>9</td>\n",
       "      <td>1216</td>\n",
       "      <td>1786</td>\n",
       "      <td>2769</td>\n",
       "      <td>16</td>\n",
       "      <td>8</td>\n",
       "      <td>11</td>\n",
       "      <td>1</td>\n",
       "      <td>0</td>\n",
       "      <td>0</td>\n",
       "    </tr>\n",
       "    <tr>\n",
       "      <th>4</th>\n",
       "      <td>1821</td>\n",
       "      <td>1</td>\n",
       "      <td>1.2</td>\n",
       "      <td>0</td>\n",
       "      <td>13</td>\n",
       "      <td>1</td>\n",
       "      <td>44</td>\n",
       "      <td>0.6</td>\n",
       "      <td>141</td>\n",
       "      <td>2</td>\n",
       "      <td>14</td>\n",
       "      <td>1208</td>\n",
       "      <td>1212</td>\n",
       "      <td>1411</td>\n",
       "      <td>8</td>\n",
       "      <td>2</td>\n",
       "      <td>15</td>\n",
       "      <td>1</td>\n",
       "      <td>1</td>\n",
       "      <td>0</td>\n",
       "    </tr>\n",
       "  </tbody>\n",
       "</table>\n",
       "</div>"
      ],
      "text/plain": [
       "   battery_power  blue  clock_speed  dual_sim  fc  four_g  int_memory  m_dep  \\\n",
       "0            842     0          2.2         0   1       0           7    0.6   \n",
       "1           1021     1          0.5         1   0       1          53    0.7   \n",
       "2            563     1          0.5         1   2       1          41    0.9   \n",
       "3            615     1          2.5         0   0       0          10    0.8   \n",
       "4           1821     1          1.2         0  13       1          44    0.6   \n",
       "\n",
       "   mobile_wt  n_cores  pc  px_height  px_width   ram  sc_h  sc_w  talk_time  \\\n",
       "0        188        2   2         20       756  2549     9     7         19   \n",
       "1        136        3   6        905      1988  2631    17     3          7   \n",
       "2        145        5   6       1263      1716  2603    11     2          9   \n",
       "3        131        6   9       1216      1786  2769    16     8         11   \n",
       "4        141        2  14       1208      1212  1411     8     2         15   \n",
       "\n",
       "   three_g  touch_screen  wifi  \n",
       "0        0             0     1  \n",
       "1        1             1     0  \n",
       "2        1             1     0  \n",
       "3        1             0     0  \n",
       "4        1             1     0  "
      ]
     },
     "execution_count": 12,
     "metadata": {},
     "output_type": "execute_result"
    }
   ],
   "source": [
    "\n",
    "X = df.iloc[:,0:20]\n",
    "y = df.iloc[:,-1]\n",
    "X.head()"
   ]
  },
  {
   "cell_type": "code",
   "execution_count": 13,
   "metadata": {},
   "outputs": [
    {
     "data": {
      "text/plain": [
       "0    1\n",
       "1    2\n",
       "2    2\n",
       "3    2\n",
       "4    1\n",
       "Name: price_range, dtype: int64"
      ]
     },
     "execution_count": 13,
     "metadata": {},
     "output_type": "execute_result"
    }
   ],
   "source": [
    "y.head()"
   ]
  },
  {
   "cell_type": "markdown",
   "metadata": {},
   "source": [
    "#  Prapemrosesan : fitur seleksi"
   ]
  },
  {
   "cell_type": "markdown",
   "metadata": {},
   "source": [
    "prapemrosesan data yang pertama adalah fitur seleksi disini kita akan mulai memisahkan mana input dan mana label sehingga Feature Selection atau Feature Reduction adalah suatu kegiatan yang umumnya bisa dilakukan secara preprocessing dan bertujuan untuk memilih feature yang berpengaruh dan mengesampingkan feature yang tidak berpengaruh dalam suatu kegiatan pemodelan atau penganalisaan data. Ada banyak alternatif yang bisa digunakan dan harus dicoba-coba untuk mencari yang cocok. Secara garis besar ada dua kelompok besar dalam pelaksanaan feature selection: Ranking Selection dan Subset Selection."
   ]
  },
  {
   "cell_type": "code",
   "execution_count": 14,
   "metadata": {},
   "outputs": [],
   "source": [
    "# Lets do some Feature Selection for better results and accuracy\n",
    "from sklearn.feature_selection import chi2\n",
    "from sklearn.feature_selection import SelectKBest"
   ]
  },
  {
   "cell_type": "markdown",
   "metadata": {},
   "source": [
    "pertama adalah kbest yaitu kita menentukan features atau input mana yang paling berpengaruh dalam menentukan harga ponsel dan dengan menggunakan chisquare kita akan mengetahui data atau fitur tersebut berpengaruh atau tidak terhadap label"
   ]
  },
  {
   "cell_type": "code",
   "execution_count": 15,
   "metadata": {},
   "outputs": [],
   "source": [
    "kbest = SelectKBest(chi2,k=10)\n",
    "best_feaures = kbest.fit(X,y)\n",
    "#kbest.fit digunakan untuk menjalankan fungsi score agar mendapat hasil yang sesuai"
   ]
  },
  {
   "cell_type": "code",
   "execution_count": 16,
   "metadata": {
    "scrolled": true
   },
   "outputs": [
    {
     "data": {
      "text/plain": [
       "array([1.41298666e+04, 7.23232323e-01, 6.48365906e-01, 6.31010795e-01,\n",
       "       1.01351665e+01, 1.52157239e+00, 8.98391244e+01, 7.45819631e-01,\n",
       "       9.59728626e+01, 9.09755558e+00, 9.18605355e+00, 1.73635695e+04,\n",
       "       9.81058675e+03, 9.31267519e+05, 9.61487832e+00, 1.64803191e+01,\n",
       "       1.32364000e+01, 3.27642810e-01, 1.92842942e+00, 4.22090730e-01])"
      ]
     },
     "execution_count": 16,
     "metadata": {},
     "output_type": "execute_result"
    }
   ],
   "source": [
    "best_feaures.scores_\n",
    "#data keluarannya adalah sebagai berikut"
   ]
  },
  {
   "cell_type": "code",
   "execution_count": 17,
   "metadata": {},
   "outputs": [],
   "source": [
    "df_features = pd.DataFrame(best_feaures.scores_)\n",
    "df_columns = pd.DataFrame(X.columns)"
   ]
  },
  {
   "cell_type": "code",
   "execution_count": 18,
   "metadata": {},
   "outputs": [],
   "source": [
    "featureScores = pd.concat([df_columns,df_features],axis=1)"
   ]
  },
  {
   "cell_type": "code",
   "execution_count": 19,
   "metadata": {},
   "outputs": [],
   "source": [
    "featureScores.columns = ['Features','Score']"
   ]
  },
  {
   "cell_type": "markdown",
   "metadata": {},
   "source": [
    "Selanjutnya kita ubah  data tersebut dalam bentuk tabel"
   ]
  },
  {
   "cell_type": "code",
   "execution_count": 20,
   "metadata": {
    "scrolled": true
   },
   "outputs": [
    {
     "data": {
      "text/html": [
       "<div>\n",
       "<style scoped>\n",
       "    .dataframe tbody tr th:only-of-type {\n",
       "        vertical-align: middle;\n",
       "    }\n",
       "\n",
       "    .dataframe tbody tr th {\n",
       "        vertical-align: top;\n",
       "    }\n",
       "\n",
       "    .dataframe thead th {\n",
       "        text-align: right;\n",
       "    }\n",
       "</style>\n",
       "<table border=\"1\" class=\"dataframe\">\n",
       "  <thead>\n",
       "    <tr style=\"text-align: right;\">\n",
       "      <th></th>\n",
       "      <th>Features</th>\n",
       "      <th>Score</th>\n",
       "    </tr>\n",
       "  </thead>\n",
       "  <tbody>\n",
       "    <tr>\n",
       "      <th>13</th>\n",
       "      <td>ram</td>\n",
       "      <td>931267.519053</td>\n",
       "    </tr>\n",
       "    <tr>\n",
       "      <th>11</th>\n",
       "      <td>px_height</td>\n",
       "      <td>17363.569536</td>\n",
       "    </tr>\n",
       "    <tr>\n",
       "      <th>0</th>\n",
       "      <td>battery_power</td>\n",
       "      <td>14129.866576</td>\n",
       "    </tr>\n",
       "    <tr>\n",
       "      <th>12</th>\n",
       "      <td>px_width</td>\n",
       "      <td>9810.586750</td>\n",
       "    </tr>\n",
       "    <tr>\n",
       "      <th>8</th>\n",
       "      <td>mobile_wt</td>\n",
       "      <td>95.972863</td>\n",
       "    </tr>\n",
       "    <tr>\n",
       "      <th>6</th>\n",
       "      <td>int_memory</td>\n",
       "      <td>89.839124</td>\n",
       "    </tr>\n",
       "    <tr>\n",
       "      <th>15</th>\n",
       "      <td>sc_w</td>\n",
       "      <td>16.480319</td>\n",
       "    </tr>\n",
       "    <tr>\n",
       "      <th>16</th>\n",
       "      <td>talk_time</td>\n",
       "      <td>13.236400</td>\n",
       "    </tr>\n",
       "    <tr>\n",
       "      <th>4</th>\n",
       "      <td>fc</td>\n",
       "      <td>10.135166</td>\n",
       "    </tr>\n",
       "    <tr>\n",
       "      <th>14</th>\n",
       "      <td>sc_h</td>\n",
       "      <td>9.614878</td>\n",
       "    </tr>\n",
       "    <tr>\n",
       "      <th>10</th>\n",
       "      <td>pc</td>\n",
       "      <td>9.186054</td>\n",
       "    </tr>\n",
       "    <tr>\n",
       "      <th>9</th>\n",
       "      <td>n_cores</td>\n",
       "      <td>9.097556</td>\n",
       "    </tr>\n",
       "    <tr>\n",
       "      <th>18</th>\n",
       "      <td>touch_screen</td>\n",
       "      <td>1.928429</td>\n",
       "    </tr>\n",
       "    <tr>\n",
       "      <th>5</th>\n",
       "      <td>four_g</td>\n",
       "      <td>1.521572</td>\n",
       "    </tr>\n",
       "    <tr>\n",
       "      <th>7</th>\n",
       "      <td>m_dep</td>\n",
       "      <td>0.745820</td>\n",
       "    </tr>\n",
       "    <tr>\n",
       "      <th>1</th>\n",
       "      <td>blue</td>\n",
       "      <td>0.723232</td>\n",
       "    </tr>\n",
       "    <tr>\n",
       "      <th>2</th>\n",
       "      <td>clock_speed</td>\n",
       "      <td>0.648366</td>\n",
       "    </tr>\n",
       "    <tr>\n",
       "      <th>3</th>\n",
       "      <td>dual_sim</td>\n",
       "      <td>0.631011</td>\n",
       "    </tr>\n",
       "    <tr>\n",
       "      <th>19</th>\n",
       "      <td>wifi</td>\n",
       "      <td>0.422091</td>\n",
       "    </tr>\n",
       "    <tr>\n",
       "      <th>17</th>\n",
       "      <td>three_g</td>\n",
       "      <td>0.327643</td>\n",
       "    </tr>\n",
       "  </tbody>\n",
       "</table>\n",
       "</div>"
      ],
      "text/plain": [
       "         Features          Score\n",
       "13            ram  931267.519053\n",
       "11      px_height   17363.569536\n",
       "0   battery_power   14129.866576\n",
       "12       px_width    9810.586750\n",
       "8       mobile_wt      95.972863\n",
       "6      int_memory      89.839124\n",
       "15           sc_w      16.480319\n",
       "16      talk_time      13.236400\n",
       "4              fc      10.135166\n",
       "14           sc_h       9.614878\n",
       "10             pc       9.186054\n",
       "9         n_cores       9.097556\n",
       "18   touch_screen       1.928429\n",
       "5          four_g       1.521572\n",
       "7           m_dep       0.745820\n",
       "1            blue       0.723232\n",
       "2     clock_speed       0.648366\n",
       "3        dual_sim       0.631011\n",
       "19           wifi       0.422091\n",
       "17        three_g       0.327643"
      ]
     },
     "execution_count": 20,
     "metadata": {},
     "output_type": "execute_result"
    }
   ],
   "source": [
    "featureScores.sort_values(by='Score',ascending=False)"
   ]
  },
  {
   "cell_type": "markdown",
   "metadata": {},
   "source": [
    "dari sini dapat terlihat features yang paling berpengaruh dalam harga ponsel. kita akan mengambil 10 features yang paling mempengaruhi untuk melatih ann"
   ]
  },
  {
   "cell_type": "code",
   "execution_count": 21,
   "metadata": {},
   "outputs": [],
   "source": [
    "X = df[['ram','px_height','battery_power','px_width','mobile_wt','int_memory','sc_w','talk_time','fc','sc_h']]"
   ]
  },
  {
   "cell_type": "code",
   "execution_count": 22,
   "metadata": {
    "scrolled": true
   },
   "outputs": [
    {
     "data": {
      "text/html": [
       "<div>\n",
       "<style scoped>\n",
       "    .dataframe tbody tr th:only-of-type {\n",
       "        vertical-align: middle;\n",
       "    }\n",
       "\n",
       "    .dataframe tbody tr th {\n",
       "        vertical-align: top;\n",
       "    }\n",
       "\n",
       "    .dataframe thead th {\n",
       "        text-align: right;\n",
       "    }\n",
       "</style>\n",
       "<table border=\"1\" class=\"dataframe\">\n",
       "  <thead>\n",
       "    <tr style=\"text-align: right;\">\n",
       "      <th></th>\n",
       "      <th>ram</th>\n",
       "      <th>px_height</th>\n",
       "      <th>battery_power</th>\n",
       "      <th>px_width</th>\n",
       "      <th>mobile_wt</th>\n",
       "      <th>int_memory</th>\n",
       "      <th>sc_w</th>\n",
       "      <th>talk_time</th>\n",
       "      <th>fc</th>\n",
       "      <th>sc_h</th>\n",
       "    </tr>\n",
       "  </thead>\n",
       "  <tbody>\n",
       "    <tr>\n",
       "      <th>0</th>\n",
       "      <td>2549</td>\n",
       "      <td>20</td>\n",
       "      <td>842</td>\n",
       "      <td>756</td>\n",
       "      <td>188</td>\n",
       "      <td>7</td>\n",
       "      <td>7</td>\n",
       "      <td>19</td>\n",
       "      <td>1</td>\n",
       "      <td>9</td>\n",
       "    </tr>\n",
       "    <tr>\n",
       "      <th>1</th>\n",
       "      <td>2631</td>\n",
       "      <td>905</td>\n",
       "      <td>1021</td>\n",
       "      <td>1988</td>\n",
       "      <td>136</td>\n",
       "      <td>53</td>\n",
       "      <td>3</td>\n",
       "      <td>7</td>\n",
       "      <td>0</td>\n",
       "      <td>17</td>\n",
       "    </tr>\n",
       "    <tr>\n",
       "      <th>2</th>\n",
       "      <td>2603</td>\n",
       "      <td>1263</td>\n",
       "      <td>563</td>\n",
       "      <td>1716</td>\n",
       "      <td>145</td>\n",
       "      <td>41</td>\n",
       "      <td>2</td>\n",
       "      <td>9</td>\n",
       "      <td>2</td>\n",
       "      <td>11</td>\n",
       "    </tr>\n",
       "    <tr>\n",
       "      <th>3</th>\n",
       "      <td>2769</td>\n",
       "      <td>1216</td>\n",
       "      <td>615</td>\n",
       "      <td>1786</td>\n",
       "      <td>131</td>\n",
       "      <td>10</td>\n",
       "      <td>8</td>\n",
       "      <td>11</td>\n",
       "      <td>0</td>\n",
       "      <td>16</td>\n",
       "    </tr>\n",
       "    <tr>\n",
       "      <th>4</th>\n",
       "      <td>1411</td>\n",
       "      <td>1208</td>\n",
       "      <td>1821</td>\n",
       "      <td>1212</td>\n",
       "      <td>141</td>\n",
       "      <td>44</td>\n",
       "      <td>2</td>\n",
       "      <td>15</td>\n",
       "      <td>13</td>\n",
       "      <td>8</td>\n",
       "    </tr>\n",
       "    <tr>\n",
       "      <th>...</th>\n",
       "      <td>...</td>\n",
       "      <td>...</td>\n",
       "      <td>...</td>\n",
       "      <td>...</td>\n",
       "      <td>...</td>\n",
       "      <td>...</td>\n",
       "      <td>...</td>\n",
       "      <td>...</td>\n",
       "      <td>...</td>\n",
       "      <td>...</td>\n",
       "    </tr>\n",
       "    <tr>\n",
       "      <th>1995</th>\n",
       "      <td>668</td>\n",
       "      <td>1222</td>\n",
       "      <td>794</td>\n",
       "      <td>1890</td>\n",
       "      <td>106</td>\n",
       "      <td>2</td>\n",
       "      <td>4</td>\n",
       "      <td>19</td>\n",
       "      <td>0</td>\n",
       "      <td>13</td>\n",
       "    </tr>\n",
       "    <tr>\n",
       "      <th>1996</th>\n",
       "      <td>2032</td>\n",
       "      <td>915</td>\n",
       "      <td>1965</td>\n",
       "      <td>1965</td>\n",
       "      <td>187</td>\n",
       "      <td>39</td>\n",
       "      <td>10</td>\n",
       "      <td>16</td>\n",
       "      <td>0</td>\n",
       "      <td>11</td>\n",
       "    </tr>\n",
       "    <tr>\n",
       "      <th>1997</th>\n",
       "      <td>3057</td>\n",
       "      <td>868</td>\n",
       "      <td>1911</td>\n",
       "      <td>1632</td>\n",
       "      <td>108</td>\n",
       "      <td>36</td>\n",
       "      <td>1</td>\n",
       "      <td>5</td>\n",
       "      <td>1</td>\n",
       "      <td>9</td>\n",
       "    </tr>\n",
       "    <tr>\n",
       "      <th>1998</th>\n",
       "      <td>869</td>\n",
       "      <td>336</td>\n",
       "      <td>1512</td>\n",
       "      <td>670</td>\n",
       "      <td>145</td>\n",
       "      <td>46</td>\n",
       "      <td>10</td>\n",
       "      <td>19</td>\n",
       "      <td>4</td>\n",
       "      <td>18</td>\n",
       "    </tr>\n",
       "    <tr>\n",
       "      <th>1999</th>\n",
       "      <td>3919</td>\n",
       "      <td>483</td>\n",
       "      <td>510</td>\n",
       "      <td>754</td>\n",
       "      <td>168</td>\n",
       "      <td>45</td>\n",
       "      <td>4</td>\n",
       "      <td>2</td>\n",
       "      <td>5</td>\n",
       "      <td>19</td>\n",
       "    </tr>\n",
       "  </tbody>\n",
       "</table>\n",
       "<p>2000 rows × 10 columns</p>\n",
       "</div>"
      ],
      "text/plain": [
       "       ram  px_height  battery_power  px_width  mobile_wt  int_memory  sc_w  \\\n",
       "0     2549         20            842       756        188           7     7   \n",
       "1     2631        905           1021      1988        136          53     3   \n",
       "2     2603       1263            563      1716        145          41     2   \n",
       "3     2769       1216            615      1786        131          10     8   \n",
       "4     1411       1208           1821      1212        141          44     2   \n",
       "...    ...        ...            ...       ...        ...         ...   ...   \n",
       "1995   668       1222            794      1890        106           2     4   \n",
       "1996  2032        915           1965      1965        187          39    10   \n",
       "1997  3057        868           1911      1632        108          36     1   \n",
       "1998   869        336           1512       670        145          46    10   \n",
       "1999  3919        483            510       754        168          45     4   \n",
       "\n",
       "      talk_time  fc  sc_h  \n",
       "0            19   1     9  \n",
       "1             7   0    17  \n",
       "2             9   2    11  \n",
       "3            11   0    16  \n",
       "4            15  13     8  \n",
       "...         ...  ..   ...  \n",
       "1995         19   0    13  \n",
       "1996         16   0    11  \n",
       "1997          5   1     9  \n",
       "1998         19   4    18  \n",
       "1999          2   5    19  \n",
       "\n",
       "[2000 rows x 10 columns]"
      ]
     },
     "execution_count": 22,
     "metadata": {},
     "output_type": "execute_result"
    }
   ],
   "source": [
    "X"
   ]
  },
  {
   "cell_type": "code",
   "execution_count": 23,
   "metadata": {},
   "outputs": [],
   "source": [
    "X = X.values\n",
    "y = y.values"
   ]
  },
  {
   "cell_type": "markdown",
   "metadata": {},
   "source": [
    "kita masukkan nilai nilai dari X untuk dimasukkan ke variabel X menimpa data X yang lama"
   ]
  },
  {
   "cell_type": "code",
   "execution_count": 24,
   "metadata": {
    "scrolled": false
   },
   "outputs": [
    {
     "name": "stdout",
     "output_type": "stream",
     "text": [
      "(2000, 10) (2000,)\n"
     ]
    }
   ],
   "source": [
    "print(X.shape,y.shape)"
   ]
  },
  {
   "cell_type": "code",
   "execution_count": 25,
   "metadata": {},
   "outputs": [],
   "source": [
    "# lets do some normalisation and scaling\n",
    "from sklearn.preprocessing import StandardScaler\n",
    "sc = StandardScaler()\n",
    "X = sc.fit_transform(X)"
   ]
  },
  {
   "cell_type": "raw",
   "metadata": {},
   "source": [
    "StandardScaler adalah class dari sklearn untuk melakukan normalisasi data agar data yang digunakan tidak memiliki penyimpangan yang besar.\n",
    "Dalam api estimator scikit-learn ,\n",
    "fit() : digunakan untuk menghasilkan parameter model pembelajaran dari data pelatihan\n",
    "transform(): parameter yang dihasilkan dari fit()metode, diterapkan pada model untuk menghasilkan kumpulan data yang diubah.\n",
    "fit_transform(): kombinasi fit()dan transform()api pada kumpulan data yang sama"
   ]
  },
  {
   "cell_type": "code",
   "execution_count": 26,
   "metadata": {},
   "outputs": [],
   "source": [
    "y = y.reshape(-1,1)"
   ]
  },
  {
   "cell_type": "markdown",
   "metadata": {},
   "source": [
    "fungsi reshape() diterapkan untuk memodifikasi dimensi dari matriks yang dihasilkan secara original ke dimensi yang diinginkan. Agar matrik bisa diolah, mereka harus memiliki dimensi yang sama."
   ]
  },
  {
   "cell_type": "code",
   "execution_count": 27,
   "metadata": {},
   "outputs": [],
   "source": [
    "# now convert y labels to one hot encoder\n",
    "from sklearn.preprocessing import OneHotEncoder\n",
    "ohot = OneHotEncoder()\n",
    "y = ohot.fit_transform(y)"
   ]
  },
  {
   "cell_type": "markdown",
   "metadata": {},
   "source": [
    "onehotencoder adalah suatu fungsi untuk meng-encode suatu label atau pengelompokan menjadi satu buah array Input ke transformator ini harus berupa bilangan bulat atau string seperti array, yang menunjukkan nilai yang diambil oleh fitur kategorikal (diskrit). setelah kita lakukan onehot encode label label tersebut akan berubah dalam bentuk biner"
   ]
  },
  {
   "cell_type": "code",
   "execution_count": 28,
   "metadata": {},
   "outputs": [],
   "source": [
    "y = y.toarray()"
   ]
  },
  {
   "cell_type": "code",
   "execution_count": 29,
   "metadata": {},
   "outputs": [
    {
     "data": {
      "text/plain": [
       "array([[0., 1., 0., 0.],\n",
       "       [0., 0., 1., 0.],\n",
       "       [0., 0., 1., 0.],\n",
       "       ...,\n",
       "       [0., 0., 0., 1.],\n",
       "       [1., 0., 0., 0.],\n",
       "       [0., 0., 0., 1.]])"
      ]
     },
     "execution_count": 29,
     "metadata": {},
     "output_type": "execute_result"
    }
   ],
   "source": [
    "y"
   ]
  },
  {
   "cell_type": "markdown",
   "metadata": {},
   "source": [
    "## 2. Training ANN"
   ]
  },
  {
   "cell_type": "markdown",
   "metadata": {},
   "source": [
    "## data split"
   ]
  },
  {
   "cell_type": "code",
   "execution_count": 36,
   "metadata": {},
   "outputs": [],
   "source": [
    "from sklearn.model_selection import train_test_split"
   ]
  },
  {
   "cell_type": "code",
   "execution_count": 78,
   "metadata": {},
   "outputs": [],
   "source": [
    "X_train, X_test, y_train, y_test = train_test_split(X, y, test_size=0.20, random_state=101)"
   ]
  },
  {
   "cell_type": "markdown",
   "metadata": {},
   "source": [
    "Pada tahap ini kita membuat file test berukuran 20 % dari jumlah keseluruhan data yang tersedia."
   ]
  },
  {
   "cell_type": "code",
   "execution_count": 146,
   "metadata": {},
   "outputs": [],
   "source": [
    "import keras\n",
    "from keras.models import Sequential\n",
    "from keras.layers import *\n",
    "import matplotlib.pyplot as plt\n",
    "%matplotlib inline"
   ]
  },
  {
   "cell_type": "code",
   "execution_count": 147,
   "metadata": {
    "scrolled": false
   },
   "outputs": [
    {
     "name": "stdout",
     "output_type": "stream",
     "text": [
      "Model: \"sequential_6\"\n",
      "_________________________________________________________________\n",
      "Layer (type)                 Output Shape              Param #   \n",
      "=================================================================\n",
      "dense_16 (Dense)             (None, 8)                 88        \n",
      "_________________________________________________________________\n",
      "dense_17 (Dense)             (None, 6)                 54        \n",
      "_________________________________________________________________\n",
      "dense_18 (Dense)             (None, 4)                 28        \n",
      "=================================================================\n",
      "Total params: 170\n",
      "Trainable params: 170\n",
      "Non-trainable params: 0\n",
      "_________________________________________________________________\n"
     ]
    }
   ],
   "source": [
    "model = Sequential()\n",
    "model.add(Dense(8,activation='relu',input_dim = 10))\n",
    "model.add(Dense(6,activation='relu'))\n",
    "model.add(Dense(4,activation='softmax'))\n",
    "model.summary()"
   ]
  },
  {
   "cell_type": "markdown",
   "metadata": {},
   "source": [
    "Compiling classifier. Using adam optimizer. Using binary_crossentropy for loss function since classification is binary, i.e. only two classes 'M' or 'B'."
   ]
  },
  {
   "cell_type": "markdown",
   "metadata": {},
   "source": [
    "## Compile ANN"
   ]
  },
  {
   "cell_type": "markdown",
   "metadata": {},
   "source": [
    "Kita akan mengcompile classifier dengan menggunakan adam optimizy. dan menggunakan categorical_crossentropy karena label kita lebih dari dua yaita 0,1,2,3"
   ]
  },
  {
   "cell_type": "code",
   "execution_count": 148,
   "metadata": {},
   "outputs": [],
   "source": [
    "model.compile(loss='categorical_crossentropy',optimizer='Adam',metrics=['accuracy'])"
   ]
  },
  {
   "cell_type": "code",
   "execution_count": 149,
   "metadata": {},
   "outputs": [
    {
     "name": "stdout",
     "output_type": "stream",
     "text": [
      "Train on 1600 samples, validate on 400 samples\n",
      "Epoch 1/105\n",
      "1600/1600 [==============================] - 0s 180us/step - loss: 1.4738 - accuracy: 0.2675 - val_loss: 1.4595 - val_accuracy: 0.2825\n",
      "Epoch 2/105\n",
      "1600/1600 [==============================] - 0s 21us/step - loss: 1.3994 - accuracy: 0.2981 - val_loss: 1.4042 - val_accuracy: 0.2950\n",
      "Epoch 3/105\n",
      "1600/1600 [==============================] - 0s 21us/step - loss: 1.3515 - accuracy: 0.3375 - val_loss: 1.3640 - val_accuracy: 0.3150\n",
      "Epoch 4/105\n",
      "1600/1600 [==============================] - 0s 27us/step - loss: 1.3138 - accuracy: 0.3719 - val_loss: 1.3260 - val_accuracy: 0.3375\n",
      "Epoch 5/105\n",
      "1600/1600 [==============================] - 0s 24us/step - loss: 1.2759 - accuracy: 0.4125 - val_loss: 1.2880 - val_accuracy: 0.3700\n",
      "Epoch 6/105\n",
      "1600/1600 [==============================] - 0s 22us/step - loss: 1.2353 - accuracy: 0.4519 - val_loss: 1.2475 - val_accuracy: 0.4175\n",
      "Epoch 7/105\n",
      "1600/1600 [==============================] - 0s 21us/step - loss: 1.1901 - accuracy: 0.5006 - val_loss: 1.2015 - val_accuracy: 0.4625\n",
      "Epoch 8/105\n",
      "1600/1600 [==============================] - 0s 21us/step - loss: 1.1397 - accuracy: 0.5362 - val_loss: 1.1518 - val_accuracy: 0.4875\n",
      "Epoch 9/105\n",
      "1600/1600 [==============================] - 0s 21us/step - loss: 1.0853 - accuracy: 0.5594 - val_loss: 1.0992 - val_accuracy: 0.5100\n",
      "Epoch 10/105\n",
      "1600/1600 [==============================] - ETA: 0s - loss: 1.1218 - accuracy: 0.53 - 0s 22us/step - loss: 1.0288 - accuracy: 0.5706 - val_loss: 1.0483 - val_accuracy: 0.5275\n",
      "Epoch 11/105\n",
      "1600/1600 [==============================] - 0s 19us/step - loss: 0.9745 - accuracy: 0.5806 - val_loss: 1.0006 - val_accuracy: 0.5375\n",
      "Epoch 12/105\n",
      "1600/1600 [==============================] - 0s 19us/step - loss: 0.9233 - accuracy: 0.5956 - val_loss: 0.9556 - val_accuracy: 0.5500\n",
      "Epoch 13/105\n",
      "1600/1600 [==============================] - 0s 21us/step - loss: 0.8765 - accuracy: 0.6081 - val_loss: 0.9148 - val_accuracy: 0.5700\n",
      "Epoch 14/105\n",
      "1600/1600 [==============================] - 0s 21us/step - loss: 0.8336 - accuracy: 0.6281 - val_loss: 0.8762 - val_accuracy: 0.5800\n",
      "Epoch 15/105\n",
      "1600/1600 [==============================] - 0s 18us/step - loss: 0.7946 - accuracy: 0.6431 - val_loss: 0.8394 - val_accuracy: 0.6100\n",
      "Epoch 16/105\n",
      "1600/1600 [==============================] - 0s 22us/step - loss: 0.7585 - accuracy: 0.6544 - val_loss: 0.8046 - val_accuracy: 0.6300\n",
      "Epoch 17/105\n",
      "1600/1600 [==============================] - 0s 19us/step - loss: 0.7247 - accuracy: 0.6706 - val_loss: 0.7729 - val_accuracy: 0.6525\n",
      "Epoch 18/105\n",
      "1600/1600 [==============================] - 0s 19us/step - loss: 0.6943 - accuracy: 0.6913 - val_loss: 0.7426 - val_accuracy: 0.6700\n",
      "Epoch 19/105\n",
      "1600/1600 [==============================] - 0s 21us/step - loss: 0.6658 - accuracy: 0.7038 - val_loss: 0.7129 - val_accuracy: 0.6875\n",
      "Epoch 20/105\n",
      "1600/1600 [==============================] - 0s 21us/step - loss: 0.6382 - accuracy: 0.7194 - val_loss: 0.6849 - val_accuracy: 0.7025\n",
      "Epoch 21/105\n",
      "1600/1600 [==============================] - 0s 20us/step - loss: 0.6121 - accuracy: 0.7412 - val_loss: 0.6561 - val_accuracy: 0.7200\n",
      "Epoch 22/105\n",
      "1600/1600 [==============================] - ETA: 0s - loss: 0.6328 - accuracy: 0.75 - 0s 32us/step - loss: 0.5873 - accuracy: 0.7519 - val_loss: 0.6304 - val_accuracy: 0.7250\n",
      "Epoch 23/105\n",
      "1600/1600 [==============================] - 0s 28us/step - loss: 0.5639 - accuracy: 0.7644 - val_loss: 0.6047 - val_accuracy: 0.7450\n",
      "Epoch 24/105\n",
      "1600/1600 [==============================] - 0s 18us/step - loss: 0.5414 - accuracy: 0.7844 - val_loss: 0.5805 - val_accuracy: 0.7600\n",
      "Epoch 25/105\n",
      "1600/1600 [==============================] - 0s 22us/step - loss: 0.5199 - accuracy: 0.7994 - val_loss: 0.5596 - val_accuracy: 0.7600\n",
      "Epoch 26/105\n",
      "1600/1600 [==============================] - 0s 22us/step - loss: 0.4998 - accuracy: 0.8087 - val_loss: 0.5362 - val_accuracy: 0.7800\n",
      "Epoch 27/105\n",
      "1600/1600 [==============================] - 0s 23us/step - loss: 0.4805 - accuracy: 0.8200 - val_loss: 0.5152 - val_accuracy: 0.7925\n",
      "Epoch 28/105\n",
      "1600/1600 [==============================] - 0s 19us/step - loss: 0.4622 - accuracy: 0.8319 - val_loss: 0.4957 - val_accuracy: 0.8150\n",
      "Epoch 29/105\n",
      "1600/1600 [==============================] - 0s 18us/step - loss: 0.4453 - accuracy: 0.8487 - val_loss: 0.4759 - val_accuracy: 0.8225\n",
      "Epoch 30/105\n",
      "1600/1600 [==============================] - 0s 17us/step - loss: 0.4290 - accuracy: 0.8537 - val_loss: 0.4584 - val_accuracy: 0.8275\n",
      "Epoch 31/105\n",
      "1600/1600 [==============================] - 0s 19us/step - loss: 0.4140 - accuracy: 0.8581 - val_loss: 0.4414 - val_accuracy: 0.8375\n",
      "Epoch 32/105\n",
      "1600/1600 [==============================] - 0s 18us/step - loss: 0.3993 - accuracy: 0.8650 - val_loss: 0.4246 - val_accuracy: 0.8425\n",
      "Epoch 33/105\n",
      "1600/1600 [==============================] - 0s 19us/step - loss: 0.3855 - accuracy: 0.8706 - val_loss: 0.4104 - val_accuracy: 0.8500\n",
      "Epoch 34/105\n",
      "1600/1600 [==============================] - 0s 21us/step - loss: 0.3718 - accuracy: 0.8844 - val_loss: 0.3945 - val_accuracy: 0.8500\n",
      "Epoch 35/105\n",
      "1600/1600 [==============================] - 0s 19us/step - loss: 0.3590 - accuracy: 0.8888 - val_loss: 0.3814 - val_accuracy: 0.8550\n",
      "Epoch 36/105\n",
      "1600/1600 [==============================] - 0s 20us/step - loss: 0.3479 - accuracy: 0.8913 - val_loss: 0.3684 - val_accuracy: 0.8625\n",
      "Epoch 37/105\n",
      "1600/1600 [==============================] - 0s 20us/step - loss: 0.3360 - accuracy: 0.8975 - val_loss: 0.3551 - val_accuracy: 0.8650\n",
      "Epoch 38/105\n",
      "1600/1600 [==============================] - 0s 21us/step - loss: 0.3257 - accuracy: 0.9031 - val_loss: 0.3433 - val_accuracy: 0.8650\n",
      "Epoch 39/105\n",
      "1600/1600 [==============================] - 0s 21us/step - loss: 0.3158 - accuracy: 0.9062 - val_loss: 0.3324 - val_accuracy: 0.8750\n",
      "Epoch 40/105\n",
      "1600/1600 [==============================] - 0s 16us/step - loss: 0.3062 - accuracy: 0.9056 - val_loss: 0.3208 - val_accuracy: 0.8850\n",
      "Epoch 41/105\n",
      "1600/1600 [==============================] - 0s 19us/step - loss: 0.2965 - accuracy: 0.9075 - val_loss: 0.3114 - val_accuracy: 0.8875\n",
      "Epoch 42/105\n",
      "1600/1600 [==============================] - 0s 23us/step - loss: 0.2882 - accuracy: 0.9131 - val_loss: 0.3004 - val_accuracy: 0.8950\n",
      "Epoch 43/105\n",
      "1600/1600 [==============================] - 0s 22us/step - loss: 0.2790 - accuracy: 0.9162 - val_loss: 0.2916 - val_accuracy: 0.9025\n",
      "Epoch 44/105\n",
      "1600/1600 [==============================] - 0s 18us/step - loss: 0.2710 - accuracy: 0.9187 - val_loss: 0.2839 - val_accuracy: 0.9025\n",
      "Epoch 45/105\n",
      "1600/1600 [==============================] - 0s 17us/step - loss: 0.2634 - accuracy: 0.9237 - val_loss: 0.2743 - val_accuracy: 0.9025\n",
      "Epoch 46/105\n",
      "1600/1600 [==============================] - 0s 27us/step - loss: 0.2561 - accuracy: 0.9219 - val_loss: 0.2681 - val_accuracy: 0.9050\n",
      "Epoch 47/105\n",
      "1600/1600 [==============================] - 0s 17us/step - loss: 0.2489 - accuracy: 0.9231 - val_loss: 0.2608 - val_accuracy: 0.9025\n",
      "Epoch 48/105\n",
      "1600/1600 [==============================] - 0s 20us/step - loss: 0.2413 - accuracy: 0.9256 - val_loss: 0.2518 - val_accuracy: 0.9100\n",
      "Epoch 49/105\n",
      "1600/1600 [==============================] - 0s 19us/step - loss: 0.2344 - accuracy: 0.9262 - val_loss: 0.2471 - val_accuracy: 0.9100\n",
      "Epoch 50/105\n",
      "1600/1600 [==============================] - 0s 46us/step - loss: 0.2286 - accuracy: 0.9281 - val_loss: 0.2396 - val_accuracy: 0.9100\n",
      "Epoch 51/105\n",
      "1600/1600 [==============================] - 0s 19us/step - loss: 0.2216 - accuracy: 0.9287 - val_loss: 0.2343 - val_accuracy: 0.9150\n",
      "Epoch 52/105\n",
      "1600/1600 [==============================] - 0s 17us/step - loss: 0.2155 - accuracy: 0.9319 - val_loss: 0.2271 - val_accuracy: 0.9100\n",
      "Epoch 53/105\n",
      "1600/1600 [==============================] - 0s 23us/step - loss: 0.2099 - accuracy: 0.9331 - val_loss: 0.2213 - val_accuracy: 0.9175\n",
      "Epoch 54/105\n",
      "1600/1600 [==============================] - 0s 17us/step - loss: 0.2045 - accuracy: 0.9375 - val_loss: 0.2170 - val_accuracy: 0.9150\n",
      "Epoch 55/105\n",
      "1600/1600 [==============================] - 0s 19us/step - loss: 0.1997 - accuracy: 0.9362 - val_loss: 0.2113 - val_accuracy: 0.9250\n"
     ]
    },
    {
     "name": "stdout",
     "output_type": "stream",
     "text": [
      "Epoch 56/105\n",
      "1600/1600 [==============================] - 0s 21us/step - loss: 0.1939 - accuracy: 0.9375 - val_loss: 0.2069 - val_accuracy: 0.9225\n",
      "Epoch 57/105\n",
      "1600/1600 [==============================] - 0s 17us/step - loss: 0.1890 - accuracy: 0.9431 - val_loss: 0.2010 - val_accuracy: 0.9275\n",
      "Epoch 58/105\n",
      "1600/1600 [==============================] - 0s 18us/step - loss: 0.1843 - accuracy: 0.9438 - val_loss: 0.1977 - val_accuracy: 0.9275\n",
      "Epoch 59/105\n",
      "1600/1600 [==============================] - 0s 17us/step - loss: 0.1800 - accuracy: 0.9450 - val_loss: 0.1933 - val_accuracy: 0.9275\n",
      "Epoch 60/105\n",
      "1600/1600 [==============================] - 0s 18us/step - loss: 0.1756 - accuracy: 0.9456 - val_loss: 0.1896 - val_accuracy: 0.9300\n",
      "Epoch 61/105\n",
      "1600/1600 [==============================] - 0s 17us/step - loss: 0.1717 - accuracy: 0.9488 - val_loss: 0.1847 - val_accuracy: 0.9300\n",
      "Epoch 62/105\n",
      "1600/1600 [==============================] - 0s 19us/step - loss: 0.1675 - accuracy: 0.9488 - val_loss: 0.1811 - val_accuracy: 0.9275\n",
      "Epoch 63/105\n",
      "1600/1600 [==============================] - 0s 19us/step - loss: 0.1644 - accuracy: 0.9494 - val_loss: 0.1766 - val_accuracy: 0.9325\n",
      "Epoch 64/105\n",
      "1600/1600 [==============================] - 0s 18us/step - loss: 0.1605 - accuracy: 0.9481 - val_loss: 0.1744 - val_accuracy: 0.9325\n",
      "Epoch 65/105\n",
      "1600/1600 [==============================] - 0s 19us/step - loss: 0.1576 - accuracy: 0.9531 - val_loss: 0.1712 - val_accuracy: 0.9325\n",
      "Epoch 66/105\n",
      "1600/1600 [==============================] - 0s 19us/step - loss: 0.1544 - accuracy: 0.9531 - val_loss: 0.1682 - val_accuracy: 0.9350\n",
      "Epoch 67/105\n",
      "1600/1600 [==============================] - 0s 20us/step - loss: 0.1507 - accuracy: 0.9531 - val_loss: 0.1647 - val_accuracy: 0.9350\n",
      "Epoch 68/105\n",
      "1600/1600 [==============================] - 0s 22us/step - loss: 0.1477 - accuracy: 0.9544 - val_loss: 0.1616 - val_accuracy: 0.9350\n",
      "Epoch 69/105\n",
      "1600/1600 [==============================] - 0s 18us/step - loss: 0.1452 - accuracy: 0.9550 - val_loss: 0.1604 - val_accuracy: 0.9350\n",
      "Epoch 70/105\n",
      "1600/1600 [==============================] - 0s 21us/step - loss: 0.1426 - accuracy: 0.9538 - val_loss: 0.1573 - val_accuracy: 0.9425\n",
      "Epoch 71/105\n",
      "1600/1600 [==============================] - 0s 19us/step - loss: 0.1395 - accuracy: 0.9594 - val_loss: 0.1546 - val_accuracy: 0.9350\n",
      "Epoch 72/105\n",
      "1600/1600 [==============================] - 0s 17us/step - loss: 0.1374 - accuracy: 0.9619 - val_loss: 0.1533 - val_accuracy: 0.9375\n",
      "Epoch 73/105\n",
      "1600/1600 [==============================] - 0s 19us/step - loss: 0.1346 - accuracy: 0.9625 - val_loss: 0.1505 - val_accuracy: 0.9375\n",
      "Epoch 74/105\n",
      "1600/1600 [==============================] - 0s 19us/step - loss: 0.1325 - accuracy: 0.9650 - val_loss: 0.1480 - val_accuracy: 0.9425\n",
      "Epoch 75/105\n",
      "1600/1600 [==============================] - 0s 17us/step - loss: 0.1298 - accuracy: 0.9631 - val_loss: 0.1451 - val_accuracy: 0.9450\n",
      "Epoch 76/105\n",
      "1600/1600 [==============================] - 0s 17us/step - loss: 0.1278 - accuracy: 0.9638 - val_loss: 0.1449 - val_accuracy: 0.9475\n",
      "Epoch 77/105\n",
      "1600/1600 [==============================] - 0s 20us/step - loss: 0.1270 - accuracy: 0.9625 - val_loss: 0.1425 - val_accuracy: 0.9400\n",
      "Epoch 78/105\n",
      "1600/1600 [==============================] - 0s 19us/step - loss: 0.1242 - accuracy: 0.9631 - val_loss: 0.1416 - val_accuracy: 0.9375\n",
      "Epoch 79/105\n",
      "1600/1600 [==============================] - 0s 18us/step - loss: 0.1223 - accuracy: 0.9669 - val_loss: 0.1396 - val_accuracy: 0.9425\n",
      "Epoch 80/105\n",
      "1600/1600 [==============================] - ETA: 0s - loss: 0.1026 - accuracy: 0.98 - 0s 23us/step - loss: 0.1205 - accuracy: 0.9669 - val_loss: 0.1384 - val_accuracy: 0.9450\n",
      "Epoch 81/105\n",
      "1600/1600 [==============================] - 0s 22us/step - loss: 0.1189 - accuracy: 0.9669 - val_loss: 0.1361 - val_accuracy: 0.9450\n",
      "Epoch 82/105\n",
      "1600/1600 [==============================] - 0s 22us/step - loss: 0.1171 - accuracy: 0.9663 - val_loss: 0.1350 - val_accuracy: 0.9450\n",
      "Epoch 83/105\n",
      "1600/1600 [==============================] - 0s 18us/step - loss: 0.1152 - accuracy: 0.9681 - val_loss: 0.1334 - val_accuracy: 0.9425\n",
      "Epoch 84/105\n",
      "1600/1600 [==============================] - 0s 19us/step - loss: 0.1136 - accuracy: 0.9694 - val_loss: 0.1315 - val_accuracy: 0.9525\n",
      "Epoch 85/105\n",
      "1600/1600 [==============================] - 0s 21us/step - loss: 0.1121 - accuracy: 0.9706 - val_loss: 0.1326 - val_accuracy: 0.9475\n",
      "Epoch 86/105\n",
      "1600/1600 [==============================] - 0s 19us/step - loss: 0.1099 - accuracy: 0.9719 - val_loss: 0.1297 - val_accuracy: 0.9450\n",
      "Epoch 87/105\n",
      "1600/1600 [==============================] - 0s 22us/step - loss: 0.1083 - accuracy: 0.9731 - val_loss: 0.1273 - val_accuracy: 0.9525\n",
      "Epoch 88/105\n",
      "1600/1600 [==============================] - 0s 19us/step - loss: 0.1068 - accuracy: 0.9750 - val_loss: 0.1277 - val_accuracy: 0.9500\n",
      "Epoch 89/105\n",
      "1600/1600 [==============================] - 0s 22us/step - loss: 0.1054 - accuracy: 0.9737 - val_loss: 0.1241 - val_accuracy: 0.9525\n",
      "Epoch 90/105\n",
      "1600/1600 [==============================] - 0s 19us/step - loss: 0.1035 - accuracy: 0.9756 - val_loss: 0.1241 - val_accuracy: 0.9500\n",
      "Epoch 91/105\n",
      "1600/1600 [==============================] - 0s 16us/step - loss: 0.1025 - accuracy: 0.9737 - val_loss: 0.1231 - val_accuracy: 0.9525\n",
      "Epoch 92/105\n",
      "1600/1600 [==============================] - 0s 23us/step - loss: 0.1009 - accuracy: 0.9731 - val_loss: 0.1234 - val_accuracy: 0.9500\n",
      "Epoch 93/105\n",
      "1600/1600 [==============================] - ETA: 0s - loss: 0.0687 - accuracy: 0.98 - 0s 17us/step - loss: 0.0994 - accuracy: 0.9744 - val_loss: 0.1210 - val_accuracy: 0.9500\n",
      "Epoch 94/105\n",
      "1600/1600 [==============================] - 0s 18us/step - loss: 0.0986 - accuracy: 0.9762 - val_loss: 0.1194 - val_accuracy: 0.9475\n",
      "Epoch 95/105\n",
      "1600/1600 [==============================] - 0s 22us/step - loss: 0.0969 - accuracy: 0.9737 - val_loss: 0.1191 - val_accuracy: 0.9550\n",
      "Epoch 96/105\n",
      "1600/1600 [==============================] - 0s 19us/step - loss: 0.0955 - accuracy: 0.9769 - val_loss: 0.1166 - val_accuracy: 0.9550\n",
      "Epoch 97/105\n",
      "1600/1600 [==============================] - 0s 17us/step - loss: 0.0942 - accuracy: 0.9750 - val_loss: 0.1169 - val_accuracy: 0.9500\n",
      "Epoch 98/105\n",
      "1600/1600 [==============================] - 0s 24us/step - loss: 0.0938 - accuracy: 0.9775 - val_loss: 0.1148 - val_accuracy: 0.9550\n",
      "Epoch 99/105\n",
      "1600/1600 [==============================] - 0s 18us/step - loss: 0.0920 - accuracy: 0.9769 - val_loss: 0.1136 - val_accuracy: 0.9550\n",
      "Epoch 100/105\n",
      "1600/1600 [==============================] - 0s 18us/step - loss: 0.0900 - accuracy: 0.9762 - val_loss: 0.1145 - val_accuracy: 0.9575\n",
      "Epoch 101/105\n",
      "1600/1600 [==============================] - 0s 19us/step - loss: 0.0891 - accuracy: 0.9775 - val_loss: 0.1126 - val_accuracy: 0.9550\n",
      "Epoch 102/105\n",
      "1600/1600 [==============================] - 0s 19us/step - loss: 0.0880 - accuracy: 0.9775 - val_loss: 0.1113 - val_accuracy: 0.9550\n",
      "Epoch 103/105\n",
      "1600/1600 [==============================] - 0s 18us/step - loss: 0.0870 - accuracy: 0.9769 - val_loss: 0.1117 - val_accuracy: 0.9525\n",
      "Epoch 104/105\n",
      "1600/1600 [==============================] - 0s 23us/step - loss: 0.0869 - accuracy: 0.9787 - val_loss: 0.1102 - val_accuracy: 0.9550\n",
      "Epoch 105/105\n",
      "1600/1600 [==============================] - 0s 18us/step - loss: 0.0853 - accuracy: 0.9781 - val_loss: 0.1099 - val_accuracy: 0.9575\n"
     ]
    }
   ],
   "source": [
    "history = model.fit(X_train,y_train,epochs=105,validation_data=(X_test,y_test),batch_size=64)"
   ]
  },
  {
   "cell_type": "markdown",
   "metadata": {},
   "source": [
    "## Simpan Model\n",
    "agar bisa digunakan seterusnya ada baiknya kita menyimpan pemodelan ini"
   ]
  },
  {
   "cell_type": "code",
   "execution_count": 159,
   "metadata": {},
   "outputs": [],
   "source": [
    "from keras.models import load_model\n",
    "\n",
    "model.save('pengelompokan_data_harga_ponsel.h5') #Menyimpan Trained ANN \n",
    "\n"
   ]
  },
  {
   "cell_type": "markdown",
   "metadata": {},
   "source": [
    "apabila kita ingin memanggil model ini kembali kita gunakan perintah dibawah ini:\n",
    "#classifier = load_model('pengelompokan_data_harga_ponsel.h5') "
   ]
  },
  {
   "cell_type": "markdown",
   "metadata": {},
   "source": [
    "selanjutnya kita masukkan hasil pengujicobaan "
   ]
  },
  {
   "cell_type": "markdown",
   "metadata": {},
   "source": [
    "# 3.  Melakukan pengetesan"
   ]
  },
  {
   "cell_type": "code",
   "execution_count": 161,
   "metadata": {},
   "outputs": [],
   "source": [
    "y_pred = model.predict(X_test)\n",
    "\n",
    "#lets do the inverse one hot encoding\n",
    "pred = []\n",
    "for i in range(len(y_pred)):\n",
    "    pred.append(np.argmax(y_pred[i]))\n",
    "    \n",
    "# also inverse encoding for y_test labels\n",
    "\n",
    "test = []\n",
    "for i in range(len(y_test)):\n",
    "    test.append(np.argmax(y_test[i]))"
   ]
  },
  {
   "cell_type": "markdown",
   "metadata": {},
   "source": [
    "pada proses diatas kita memasukkan hasil akurasi prediksi ke dalam array yang satu pred[] dan kedua test[]"
   ]
  },
  {
   "cell_type": "code",
   "execution_count": 163,
   "metadata": {},
   "outputs": [
    {
     "name": "stdout",
     "output_type": "stream",
     "text": [
      "Akurasi dari Model ini adalah = 95.75\n"
     ]
    }
   ],
   "source": [
    "# accuracy of the model\n",
    "from sklearn.metrics import accuracy_score\n",
    "acc = accuracy_score(pred,test)\n",
    "print(\"Akurasi dari Model ini adalah = \" + str(acc*100))"
   ]
  },
  {
   "cell_type": "markdown",
   "metadata": {},
   "source": [
    "## Visualisasi Data\n",
    "setelah dimasukkan dalam array kita masukkan keduar array tersebutdalam satu grafik yang sama dan kita bandingkan seberapa akurat prediksi dengan feature"
   ]
  },
  {
   "cell_type": "code",
   "execution_count": 153,
   "metadata": {
    "scrolled": true
   },
   "outputs": [
    {
     "data": {
      "image/png": "[encoded data removed]",
      "text/plain": [
       "<Figure size 432x288 with 1 Axes>"
      ]
     },
     "metadata": {
      "needs_background": "light"
     },
     "output_type": "display_data"
    }
   ],
   "source": [
    "plt.plot(history.history['accuracy'])\n",
    "plt.plot(history.history['val_accuracy'])\n",
    "plt.xlabel('Epochs')\n",
    "plt.ylabel('Accuracy')\n",
    "plt.legend(['Features','Price_Weight'],loc='upper left')\n",
    "plt.show()"
   ]
  },
  {
   "cell_type": "markdown",
   "metadata": {},
   "source": [
    "Dapat dilihat diatas adalah perbandingan antara features dan rentang harga yang kita lihat dari akurasi nya"
   ]
  },
  {
   "cell_type": "code",
   "execution_count": 160,
   "metadata": {
    "scrolled": true
   },
   "outputs": [
    {
     "data": {
      "image/png": "[encoded data removed]",
      "text/plain": [
       "<Figure size 432x288 with 1 Axes>"
      ]
     },
     "metadata": {
      "needs_background": "light"
     },
     "output_type": "display_data"
    }
   ],
   "source": [
    "plt.plot(history.history['loss'])\n",
    "plt.plot(history.history['val_loss'])\n",
    "plt.xlabel('Epochs')\n",
    "plt.ylabel('Loss')\n",
    "plt.legend(['Features','Price_Weight'],loc='upper left')\n",
    "plt.show()"
   ]
  },
  {
   "cell_type": "markdown",
   "metadata": {},
   "source": [
    "Dapat dilihat diatas adalah perbandingan antara features dan rentang harga yang kita lihat dari loss pada pengetesan"
   ]
  },
  {
   "cell_type": "markdown",
   "metadata": {},
   "source": [
    "## Kesimpulan\n",
    "dapat dilihat pada kedua grafik diatas kita kedua garis sudah cukup sama dan semakin banyak epoch yang dilakukan kualitas nya sudah cukup baik. "
   ]
  },
  {
   "cell_type": "code",
   "execution_count": null,
   "metadata": {},
   "outputs": [],
   "source": [
    "referensi "
   ]
  }
 ],
 "metadata": {
  "kernelspec": {
   "display_name": "Python 3",
   "language": "python",
   "name": "python3"
  },
  "language_info": {
   "codemirror_mode": {
    "name": "ipython",
    "version": 3
   },
   "file_extension": ".py",
   "mimetype": "text/x-python",
   "name": "python",
   "nbconvert_exporter": "python",
   "pygments_lexer": "ipython3",
   "version": "3.7.7"
  }
 },
 "nbformat": 4,
 "nbformat_minor": 4
}
