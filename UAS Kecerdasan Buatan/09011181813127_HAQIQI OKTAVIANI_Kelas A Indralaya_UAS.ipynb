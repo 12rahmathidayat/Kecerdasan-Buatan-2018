{
 "cells": [
  {
   "cell_type": "markdown",
   "metadata": {},
   "source": [
    "<div class=\"\">\n",
    "<br><br>\n",
    "<center><br><font size=\"12\"><font face=\"calibri\"><strong>UJIAN AKHIR SEMESTER (UAS)\n",
    "<center><br><font size=\"5\"><font face=\"calibri\"><strong>Memprediksi Penyakit Liver Menggunakan Metode Artificial Neural Network\n",
    "<br>\n",
    "<br>\n",
    "<br><strong>Haqiqi Oktaviani\n",
    "<br><strong>09011181823127\n",
    "<br><br>\n",
    "<br><strong>Mata Kuliah Praktikum Kecerdasan Buatan\n",
    "<br>\n",
    "<br><strong>Dosen Pengampuh : \n",
    "<br><strong>Prof. Dr. Ir. Siti Nurmaini, M.T.\n",
    "<br><br><br>"
   ]
  },
  {
   "cell_type": "markdown",
   "metadata": {},
   "source": [
    "# MEMANGGIL LIBRARY"
   ]
  },
  {
   "cell_type": "markdown",
   "metadata": {},
   "source": [
    "Berikut library yang digunakan pada program kali ini :"
   ]
  },
  {
   "cell_type": "code",
   "execution_count": 1,
   "metadata": {
    "scrolled": true
   },
   "outputs": [
    {
     "name": "stderr",
     "output_type": "stream",
     "text": [
      "Using TensorFlow backend.\n"
     ]
    }
   ],
   "source": [
    "import numpy as np\n",
    "from sklearn.preprocessing import MinMaxScaler\n",
    "import matplotlib.pyplot as plt\n",
    "from sklearn.model_selection import train_test_split \n",
    "from keras.optimizers import Adam\n",
    "from keras.models import Sequential\n",
    "from keras.layers import Dense, Dropout\n",
    "from keras.activations import relu\n",
    "import pandas as pd\n",
    "import sklearn"
   ]
  },
  {
   "cell_type": "markdown",
   "metadata": {},
   "source": [
    "# MEMBACA DATA"
   ]
  },
  {
   "cell_type": "markdown",
   "metadata": {},
   "source": [
    "Selanjutnya memanggil data yang akan kita gunakan, dalam hal ini saya menggunakan dataset Indian Liver.<br>\n",
    "- Input terdiri dari 9 variabel dengan berbagai kondisi pada permasalahan yang dibahas.<br>\n",
    "- Output terdiri dari 1 dengan kondisi 1 dan 0."
   ]
  },
  {
   "cell_type": "code",
   "execution_count": 4,
   "metadata": {},
   "outputs": [],
   "source": [
    "dataset = pd.read_csv(\"D:/SEMESTER 5/prak AI/liver.csv\")"
   ]
  },
  {
   "cell_type": "code",
   "execution_count": 3,
   "metadata": {},
   "outputs": [
    {
     "data": {
      "text/html": [
       "<div>\n",
       "<style scoped>\n",
       "    .dataframe tbody tr th:only-of-type {\n",
       "        vertical-align: middle;\n",
       "    }\n",
       "\n",
       "    .dataframe tbody tr th {\n",
       "        vertical-align: top;\n",
       "    }\n",
       "\n",
       "    .dataframe thead th {\n",
       "        text-align: right;\n",
       "    }\n",
       "</style>\n",
       "<table border=\"1\" class=\"dataframe\">\n",
       "  <thead>\n",
       "    <tr style=\"text-align: right;\">\n",
       "      <th></th>\n",
       "      <th>age</th>\n",
       "      <th>TB</th>\n",
       "      <th>DB</th>\n",
       "      <th>alkphos</th>\n",
       "      <th>sgpt</th>\n",
       "      <th>sgot</th>\n",
       "      <th>TP</th>\n",
       "      <th>ALB</th>\n",
       "      <th>A_G</th>\n",
       "      <th>class</th>\n",
       "    </tr>\n",
       "  </thead>\n",
       "  <tbody>\n",
       "    <tr>\n",
       "      <th>0</th>\n",
       "      <td>65</td>\n",
       "      <td>0.7</td>\n",
       "      <td>0.1</td>\n",
       "      <td>187</td>\n",
       "      <td>16</td>\n",
       "      <td>18</td>\n",
       "      <td>6.8</td>\n",
       "      <td>3.3</td>\n",
       "      <td>0.90</td>\n",
       "      <td>0</td>\n",
       "    </tr>\n",
       "    <tr>\n",
       "      <th>1</th>\n",
       "      <td>62</td>\n",
       "      <td>10.9</td>\n",
       "      <td>5.5</td>\n",
       "      <td>699</td>\n",
       "      <td>64</td>\n",
       "      <td>100</td>\n",
       "      <td>7.5</td>\n",
       "      <td>3.2</td>\n",
       "      <td>0.74</td>\n",
       "      <td>0</td>\n",
       "    </tr>\n",
       "    <tr>\n",
       "      <th>2</th>\n",
       "      <td>62</td>\n",
       "      <td>7.3</td>\n",
       "      <td>4.1</td>\n",
       "      <td>490</td>\n",
       "      <td>60</td>\n",
       "      <td>68</td>\n",
       "      <td>7.0</td>\n",
       "      <td>3.3</td>\n",
       "      <td>0.89</td>\n",
       "      <td>0</td>\n",
       "    </tr>\n",
       "    <tr>\n",
       "      <th>3</th>\n",
       "      <td>58</td>\n",
       "      <td>1.0</td>\n",
       "      <td>0.4</td>\n",
       "      <td>182</td>\n",
       "      <td>14</td>\n",
       "      <td>20</td>\n",
       "      <td>6.8</td>\n",
       "      <td>3.4</td>\n",
       "      <td>1.00</td>\n",
       "      <td>0</td>\n",
       "    </tr>\n",
       "    <tr>\n",
       "      <th>4</th>\n",
       "      <td>72</td>\n",
       "      <td>3.9</td>\n",
       "      <td>2.0</td>\n",
       "      <td>195</td>\n",
       "      <td>27</td>\n",
       "      <td>59</td>\n",
       "      <td>7.3</td>\n",
       "      <td>2.4</td>\n",
       "      <td>0.40</td>\n",
       "      <td>0</td>\n",
       "    </tr>\n",
       "  </tbody>\n",
       "</table>\n",
       "</div>"
      ],
      "text/plain": [
       "   age    TB   DB  alkphos  sgpt  sgot   TP  ALB   A_G  class\n",
       "0   65   0.7  0.1      187    16    18  6.8  3.3  0.90      0\n",
       "1   62  10.9  5.5      699    64   100  7.5  3.2  0.74      0\n",
       "2   62   7.3  4.1      490    60    68  7.0  3.3  0.89      0\n",
       "3   58   1.0  0.4      182    14    20  6.8  3.4  1.00      0\n",
       "4   72   3.9  2.0      195    27    59  7.3  2.4  0.40      0"
      ]
     },
     "execution_count": 3,
     "metadata": {},
     "output_type": "execute_result"
    }
   ],
   "source": [
    "dataset.head()"
   ]
  },
  {
   "cell_type": "markdown",
   "metadata": {},
   "source": [
    "# MEMISAHKAN ANTARA FITUR DAN LABEL PADA DATASET"
   ]
  },
  {
   "cell_type": "markdown",
   "metadata": {},
   "source": [
    "Berikut merupakan perintah untuk memisahkan antara fitur dan label:"
   ]
  },
  {
   "cell_type": "code",
   "execution_count": 4,
   "metadata": {},
   "outputs": [],
   "source": [
    "fitur = dataset.iloc[:, 0:9].values\n",
    "label = dataset.iloc[:, -1].values"
   ]
  },
  {
   "cell_type": "markdown",
   "metadata": {},
   "source": [
    "# SPLITTING DATA"
   ]
  },
  {
   "cell_type": "code",
   "execution_count": 5,
   "metadata": {},
   "outputs": [],
   "source": [
    "from sklearn.model_selection import train_test_split\n",
    "X_train, X_test, y_train, y_test = train_test_split(fitur, label, test_size=0.2, random_state=20)"
   ]
  },
  {
   "cell_type": "markdown",
   "metadata": {},
   "source": [
    "# PREPROCESSING"
   ]
  },
  {
   "cell_type": "code",
   "execution_count": 6,
   "metadata": {},
   "outputs": [],
   "source": [
    "from sklearn.preprocessing import MinMaxScaler\n",
    "scaler = MinMaxScaler()\n",
    "X_train = scaler.fit_transform(X_train)\n",
    "X_test = scaler.transform(X_test)"
   ]
  },
  {
   "cell_type": "code",
   "execution_count": 7,
   "metadata": {},
   "outputs": [
    {
     "name": "stderr",
     "output_type": "stream",
     "text": [
      "C:\\Users\\aldipred\\Anaconda3\\lib\\site-packages\\sklearn\\preprocessing\\_encoders.py:415: FutureWarning: The handling of integer data will change in version 0.22. Currently, the categories are determined based on the range [0, max(values)], while in the future they will be determined based on the unique values.\n",
      "If you want the future behaviour and silence this warning, you can specify \"categories='auto'\".\n",
      "In case you used a LabelEncoder before this OneHotEncoder to convert the categories to integers, then you can now use the OneHotEncoder directly.\n",
      "  warnings.warn(msg, FutureWarning)\n"
     ]
    }
   ],
   "source": [
    "# One hot encode target values\n",
    "from sklearn.preprocessing import LabelEncoder, OneHotEncoder\n",
    "one_hot = OneHotEncoder()\n",
    "y_train = one_hot.fit_transform(y_train.reshape(-1, 1)).todense()\n",
    "y_test = one_hot.transform(y_test.reshape(-1, 1)).todense()"
   ]
  },
  {
   "cell_type": "markdown",
   "metadata": {},
   "source": [
    "# MODEL ANN"
   ]
  },
  {
   "cell_type": "code",
   "execution_count": 8,
   "metadata": {},
   "outputs": [],
   "source": [
    "model = Sequential()\n",
    "model.add(Dense(units=18, input_dim = 9, activation='relu'))\n",
    "model.add(Dense(units= 2, activation='sigmoid'))"
   ]
  },
  {
   "cell_type": "markdown",
   "metadata": {},
   "source": [
    "# COMPILE MODEL"
   ]
  },
  {
   "cell_type": "code",
   "execution_count": 9,
   "metadata": {},
   "outputs": [],
   "source": [
    "from keras.optimizers import Adam\n",
    "model.compile(optimizer=Adam(lr=0.001), loss='binary_crossentropy', metrics=['accuracy'])"
   ]
  },
  {
   "cell_type": "markdown",
   "metadata": {},
   "source": [
    "# TRAINING MODEL DENGAN DATA TRAINING"
   ]
  },
  {
   "cell_type": "code",
   "execution_count": 10,
   "metadata": {
    "scrolled": false
   },
   "outputs": [
    {
     "name": "stdout",
     "output_type": "stream",
     "text": [
      "Train on 466 samples, validate on 117 samples\n",
      "Epoch 1/30\n",
      "466/466 [==============================] - 1s 2ms/step - loss: 0.6759 - accuracy: 0.5064 - val_loss: 0.6590 - val_accuracy: 0.5085\n",
      "Epoch 2/30\n",
      "466/466 [==============================] - 0s 87us/step - loss: 0.6638 - accuracy: 0.5182 - val_loss: 0.6464 - val_accuracy: 0.5470\n",
      "Epoch 3/30\n",
      "466/466 [==============================] - 0s 69us/step - loss: 0.6527 - accuracy: 0.5805 - val_loss: 0.6358 - val_accuracy: 0.6538\n",
      "Epoch 4/30\n",
      "466/466 [==============================] - 0s 77us/step - loss: 0.6435 - accuracy: 0.6727 - val_loss: 0.6264 - val_accuracy: 0.7179\n",
      "Epoch 5/30\n",
      "466/466 [==============================] - 0s 77us/step - loss: 0.6352 - accuracy: 0.7060 - val_loss: 0.6184 - val_accuracy: 0.7179\n",
      "Epoch 6/30\n",
      "466/466 [==============================] - 0s 69us/step - loss: 0.6276 - accuracy: 0.7114 - val_loss: 0.6108 - val_accuracy: 0.7179\n",
      "Epoch 7/30\n",
      "466/466 [==============================] - 0s 77us/step - loss: 0.6201 - accuracy: 0.7124 - val_loss: 0.6044 - val_accuracy: 0.7179\n",
      "Epoch 8/30\n",
      "466/466 [==============================] - 0s 112us/step - loss: 0.6142 - accuracy: 0.7124 - val_loss: 0.5981 - val_accuracy: 0.7179\n",
      "Epoch 9/30\n",
      "466/466 [==============================] - 0s 60us/step - loss: 0.6084 - accuracy: 0.7124 - val_loss: 0.5930 - val_accuracy: 0.7179\n",
      "Epoch 10/30\n",
      "466/466 [==============================] - 0s 69us/step - loss: 0.6042 - accuracy: 0.7124 - val_loss: 0.5888 - val_accuracy: 0.7179\n",
      "Epoch 11/30\n",
      "466/466 [==============================] - 0s 77us/step - loss: 0.6003 - accuracy: 0.7124 - val_loss: 0.5857 - val_accuracy: 0.7179\n",
      "Epoch 12/30\n",
      "466/466 [==============================] - 0s 120us/step - loss: 0.5970 - accuracy: 0.7124 - val_loss: 0.5830 - val_accuracy: 0.7179\n",
      "Epoch 13/30\n",
      "466/466 [==============================] - 0s 60us/step - loss: 0.5943 - accuracy: 0.7124 - val_loss: 0.5806 - val_accuracy: 0.7179\n",
      "Epoch 14/30\n",
      "466/466 [==============================] - 0s 69us/step - loss: 0.5920 - accuracy: 0.7124 - val_loss: 0.5788 - val_accuracy: 0.7179\n",
      "Epoch 15/30\n",
      "466/466 [==============================] - 0s 77us/step - loss: 0.5898 - accuracy: 0.7124 - val_loss: 0.5774 - val_accuracy: 0.7179\n",
      "Epoch 16/30\n",
      "466/466 [==============================] - 0s 60us/step - loss: 0.5879 - accuracy: 0.7124 - val_loss: 0.5761 - val_accuracy: 0.7179\n",
      "Epoch 17/30\n",
      "466/466 [==============================] - 0s 112us/step - loss: 0.5866 - accuracy: 0.7124 - val_loss: 0.5749 - val_accuracy: 0.7179\n",
      "Epoch 18/30\n",
      "466/466 [==============================] - 0s 137us/step - loss: 0.5849 - accuracy: 0.7124 - val_loss: 0.5740 - val_accuracy: 0.7179\n",
      "Epoch 19/30\n",
      "466/466 [==============================] - 0s 86us/step - loss: 0.5836 - accuracy: 0.7124 - val_loss: 0.5733 - val_accuracy: 0.7179\n",
      "Epoch 20/30\n",
      "466/466 [==============================] - 0s 69us/step - loss: 0.5821 - accuracy: 0.7124 - val_loss: 0.5725 - val_accuracy: 0.7179\n",
      "Epoch 21/30\n",
      "466/466 [==============================] - 0s 77us/step - loss: 0.5808 - accuracy: 0.7124 - val_loss: 0.5717 - val_accuracy: 0.7179\n",
      "Epoch 22/30\n",
      "466/466 [==============================] - 0s 60us/step - loss: 0.5795 - accuracy: 0.7124 - val_loss: 0.5708 - val_accuracy: 0.7179\n",
      "Epoch 23/30\n",
      "466/466 [==============================] - 0s 77us/step - loss: 0.5782 - accuracy: 0.7124 - val_loss: 0.5700 - val_accuracy: 0.7179\n",
      "Epoch 24/30\n",
      "466/466 [==============================] - 0s 112us/step - loss: 0.5769 - accuracy: 0.7124 - val_loss: 0.5692 - val_accuracy: 0.7179\n",
      "Epoch 25/30\n",
      "466/466 [==============================] - 0s 69us/step - loss: 0.5754 - accuracy: 0.7124 - val_loss: 0.5684 - val_accuracy: 0.7179\n",
      "Epoch 26/30\n",
      "466/466 [==============================] - 0s 146us/step - loss: 0.5742 - accuracy: 0.7124 - val_loss: 0.5676 - val_accuracy: 0.7179\n",
      "Epoch 27/30\n",
      "466/466 [==============================] - 0s 103us/step - loss: 0.5728 - accuracy: 0.7124 - val_loss: 0.5670 - val_accuracy: 0.7179\n",
      "Epoch 28/30\n",
      "466/466 [==============================] - 0s 120us/step - loss: 0.5715 - accuracy: 0.7124 - val_loss: 0.5663 - val_accuracy: 0.7179\n",
      "Epoch 29/30\n",
      "466/466 [==============================] - 0s 60us/step - loss: 0.5704 - accuracy: 0.7124 - val_loss: 0.5657 - val_accuracy: 0.7179\n",
      "Epoch 30/30\n",
      "466/466 [==============================] - 0s 94us/step - loss: 0.5691 - accuracy: 0.7124 - val_loss: 0.5651 - val_accuracy: 0.7179\n"
     ]
    }
   ],
   "source": [
    "#Proses training\n",
    "training = model.fit(X_train, y_train, validation_data=(X_test, y_test), batch_size=64, \n",
    "                         epochs=30)"
   ]
  },
  {
   "cell_type": "markdown",
   "metadata": {},
   "source": [
    "# MENGHITUNG AKURASI"
   ]
  },
  {
   "cell_type": "markdown",
   "metadata": {},
   "source": [
    "Berikut hasil akurasinya:"
   ]
  },
  {
   "cell_type": "code",
   "execution_count": 11,
   "metadata": {
    "scrolled": true
   },
   "outputs": [
    {
     "name": "stdout",
     "output_type": "stream",
     "text": [
      "117/117 [==============================] - 0s 103us/step\n"
     ]
    },
    {
     "data": {
      "text/plain": [
       "[0.5650998644339733, 0.7179487347602844]"
      ]
     },
     "execution_count": 11,
     "metadata": {},
     "output_type": "execute_result"
    }
   ],
   "source": [
    "testing = model.evaluate(X_test, y_test)\n",
    "testing"
   ]
  },
  {
   "cell_type": "markdown",
   "metadata": {},
   "source": [
    "# PLOT MODEL  ACCURACY"
   ]
  },
  {
   "cell_type": "code",
   "execution_count": 12,
   "metadata": {},
   "outputs": [
    {
     "data": {
      "image/png": "[encoded data removed]",
      "text/plain": [
       "<Figure size 432x288 with 1 Axes>"
      ]
     },
     "metadata": {
      "needs_background": "light"
     },
     "output_type": "display_data"
    }
   ],
   "source": [
    "plt.plot(training.history['accuracy'])\n",
    "plt.plot(training.history['val_accuracy'])\n",
    "plt.title('model accuracy')\n",
    "plt.ylabel('Akurasi')\n",
    "plt.xlabel('Epoch')\n",
    "plt.legend(['Data Training', 'Data Testing'], loc='upper left')\n",
    "plt.show()"
   ]
  },
  {
   "cell_type": "markdown",
   "metadata": {},
   "source": [
    "# PLOT MODEL LOSS"
   ]
  },
  {
   "cell_type": "code",
   "execution_count": 13,
   "metadata": {},
   "outputs": [
    {
     "data": {
      "image/png": "[encoded data removed]",
      "text/plain": [
       "<Figure size 432x288 with 1 Axes>"
      ]
     },
     "metadata": {
      "needs_background": "light"
     },
     "output_type": "display_data"
    }
   ],
   "source": [
    "plt.plot(training.history['loss'])\n",
    "plt.plot(training.history['val_loss'])\n",
    "plt.title('Model Loss')\n",
    "plt.ylabel('Loss')\n",
    "plt.xlabel('Epoch')\n",
    "plt.legend(['Data Training', 'Data Testing'], loc='upper left')\n",
    "plt.show()"
   ]
  },
  {
   "cell_type": "code",
   "execution_count": 14,
   "metadata": {},
   "outputs": [],
   "source": [
    "prediction_x = model.predict_classes(X_test)"
   ]
  },
  {
   "cell_type": "code",
   "execution_count": 15,
   "metadata": {},
   "outputs": [],
   "source": [
    "#mengubah data y_test kedalam bentuk array\n",
    "prediction_y = [np.argmax(t) for t in y_test]\n",
    "prediction_y = np.array(prediction_y)"
   ]
  },
  {
   "cell_type": "markdown",
   "metadata": {},
   "source": [
    "# CONFUSION MATRIKS"
   ]
  },
  {
   "cell_type": "code",
   "execution_count": 16,
   "metadata": {},
   "outputs": [
    {
     "name": "stdout",
     "output_type": "stream",
     "text": [
      "Confusion Matrix : \n",
      " [[84 33]\n",
      " [ 0  0]]\n"
     ]
    }
   ],
   "source": [
    "from sklearn.metrics import confusion_matrix\n",
    "ConfusionMatrix = confusion_matrix(prediction_x, prediction_y)\n",
    "cm = ConfusionMatrix\n",
    "tp = cm[0,0]\n",
    "tn = cm[1,1]\n",
    "fp = cm[0,1]\n",
    "fn = cm[1,0]\n",
    "print(\"Confusion Matrix : \\n\", cm)"
   ]
  },
  {
   "cell_type": "markdown",
   "metadata": {},
   "source": [
    "# EVALUASI MODEL DENGAN CONFUSION MATRIKS"
   ]
  },
  {
   "cell_type": "markdown",
   "metadata": {},
   "source": [
    "## 1. AKURASI"
   ]
  },
  {
   "cell_type": "markdown",
   "metadata": {},
   "source": [
    "Berikut cara menghitung nilai akurasi pada confusion matriks:"
   ]
  },
  {
   "cell_type": "code",
   "execution_count": 17,
   "metadata": {},
   "outputs": [
    {
     "name": "stdout",
     "output_type": "stream",
     "text": [
      "Hasil Akurasi =  0.717948717948718\n"
     ]
    }
   ],
   "source": [
    "akurasi = (tn+tp) / (tp+tn+fp+fn)\n",
    "print(\"Hasil Akurasi = \", akurasi)"
   ]
  },
  {
   "cell_type": "markdown",
   "metadata": {},
   "source": [
    "## 2. PRECISION"
   ]
  },
  {
   "cell_type": "markdown",
   "metadata": {},
   "source": [
    "Berikut cara menghitung nilai precision pada confusion matriks:"
   ]
  },
  {
   "cell_type": "code",
   "execution_count": 18,
   "metadata": {},
   "outputs": [
    {
     "name": "stdout",
     "output_type": "stream",
     "text": [
      "Hasil Precision =  0.717948717948718\n"
     ]
    }
   ],
   "source": [
    "precision = tp / ( fp + tp)\n",
    "print(\"Hasil Precision = \", precision)"
   ]
  },
  {
   "cell_type": "markdown",
   "metadata": {},
   "source": [
    "## 3. RECALL"
   ]
  },
  {
   "cell_type": "markdown",
   "metadata": {},
   "source": [
    "Berikut cara menghitung nilai recall pada confusion matriks:"
   ]
  },
  {
   "cell_type": "code",
   "execution_count": 19,
   "metadata": {},
   "outputs": [
    {
     "name": "stdout",
     "output_type": "stream",
     "text": [
      "Hasil Recall =  1.0\n"
     ]
    }
   ],
   "source": [
    "recall = tp/(fn+tp)\n",
    "print(\"Hasil Recall = \",recall)"
   ]
  },
  {
   "cell_type": "markdown",
   "metadata": {},
   "source": [
    "## 4. F1"
   ]
  },
  {
   "cell_type": "markdown",
   "metadata": {},
   "source": [
    "Berikut cara menghitung nilai F1 pada confusion matriks:"
   ]
  },
  {
   "cell_type": "code",
   "execution_count": 20,
   "metadata": {},
   "outputs": [
    {
     "name": "stdout",
     "output_type": "stream",
     "text": [
      "Hasil F1 =  0.835820895522388\n"
     ]
    }
   ],
   "source": [
    "f1=(2*precision*recall)/ (precision+recall)\n",
    "print(\"Hasil F1 = \",f1)"
   ]
  },
  {
   "cell_type": "code",
   "execution_count": null,
   "metadata": {},
   "outputs": [],
   "source": []
  }
 ],
 "metadata": {
  "kernelspec": {
   "display_name": "Python 3",
   "language": "python",
   "name": "python3"
  },
  "language_info": {
   "codemirror_mode": {
    "name": "ipython",
    "version": 3
   },
   "file_extension": ".py",
   "mimetype": "text/x-python",
   "name": "python",
   "nbconvert_exporter": "python",
   "pygments_lexer": "ipython3",
   "version": "3.8.5"
  }
 },
 "nbformat": 4,
 "nbformat_minor": 2
}
