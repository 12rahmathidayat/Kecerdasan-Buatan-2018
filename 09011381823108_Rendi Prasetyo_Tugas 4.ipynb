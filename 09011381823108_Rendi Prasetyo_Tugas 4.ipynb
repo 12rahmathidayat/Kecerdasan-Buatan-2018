{
 "cells": [
  {
   "cell_type": "code",
   "execution_count": 1,
   "metadata": {},
   "outputs": [
    {
     "name": "stderr",
     "output_type": "stream",
     "text": [
      "[nltk_data] Downloading package stopwords to\n",
      "[nltk_data]     C:\\Users\\User\\AppData\\Roaming\\nltk_data...\n",
      "[nltk_data]   Unzipping corpora\\stopwords.zip.\n",
      "[nltk_data] Downloading package punkt to\n",
      "[nltk_data]     C:\\Users\\User\\AppData\\Roaming\\nltk_data...\n",
      "[nltk_data]   Unzipping tokenizers\\punkt.zip.\n",
      "[nltk_data] Downloading package wordnet to\n",
      "[nltk_data]     C:\\Users\\User\\AppData\\Roaming\\nltk_data...\n",
      "[nltk_data]   Unzipping corpora\\wordnet.zip.\n"
     ]
    },
    {
     "data": {
      "text/plain": [
       "True"
      ]
     },
     "execution_count": 1,
     "metadata": {},
     "output_type": "execute_result"
    }
   ],
   "source": [
    "import numpy as np\n",
    "import pandas as pd\n",
    "from nltk.tokenize import sent_tokenize, word_tokenize\n",
    "from nltk.stem import WordNetLemmatizer, PorterStemmer, LancasterStemmer, SnowballStemmer\n",
    "from sklearn.feature_extraction.text import TfidfVectorizer\n",
    "import re\n",
    "import string\n",
    "import nltk\n",
    "from nltk.corpus import stopwords, wordnet\n",
    "nltk.download('stopwords')\n",
    "nltk.download('punkt')\n",
    "nltk.download('wordnet')"
   ]
  },
  {
   "cell_type": "code",
   "execution_count": 2,
   "metadata": {},
   "outputs": [],
   "source": [
    "df = pd.read_csv(\"movies_IMDB.csv\")"
   ]
  },
  {
   "cell_type": "code",
   "execution_count": 3,
   "metadata": {},
   "outputs": [
    {
     "data": {
      "text/html": [
       "<div>\n",
       "<style scoped>\n",
       "    .dataframe tbody tr th:only-of-type {\n",
       "        vertical-align: middle;\n",
       "    }\n",
       "\n",
       "    .dataframe tbody tr th {\n",
       "        vertical-align: top;\n",
       "    }\n",
       "\n",
       "    .dataframe thead th {\n",
       "        text-align: right;\n",
       "    }\n",
       "</style>\n",
       "<table border=\"1\" class=\"dataframe\">\n",
       "  <thead>\n",
       "    <tr style=\"text-align: right;\">\n",
       "      <th></th>\n",
       "      <th>Unnamed: 0</th>\n",
       "      <th>movie_name</th>\n",
       "      <th>genre</th>\n",
       "      <th>year</th>\n",
       "      <th>timeMin</th>\n",
       "      <th>imdb</th>\n",
       "      <th>metascore</th>\n",
       "      <th>votes</th>\n",
       "      <th>us_grossMillions</th>\n",
       "    </tr>\n",
       "  </thead>\n",
       "  <tbody>\n",
       "    <tr>\n",
       "      <th>0</th>\n",
       "      <td>0</td>\n",
       "      <td>The Gentlemen</td>\n",
       "      <td>Action, Comedy, Crime</td>\n",
       "      <td>2019</td>\n",
       "      <td>113</td>\n",
       "      <td>8.0</td>\n",
       "      <td>51.000000</td>\n",
       "      <td>103248</td>\n",
       "      <td>69.043713</td>\n",
       "    </tr>\n",
       "    <tr>\n",
       "      <th>1</th>\n",
       "      <td>1</td>\n",
       "      <td>Once Upon a Time... in Hollywood</td>\n",
       "      <td>Comedy, Drama</td>\n",
       "      <td>2019</td>\n",
       "      <td>161</td>\n",
       "      <td>7.7</td>\n",
       "      <td>83.000000</td>\n",
       "      <td>439202</td>\n",
       "      <td>142.500000</td>\n",
       "    </tr>\n",
       "    <tr>\n",
       "      <th>2</th>\n",
       "      <td>2</td>\n",
       "      <td>Parasite</td>\n",
       "      <td>Comedy, Drama, Thriller</td>\n",
       "      <td>2019</td>\n",
       "      <td>132</td>\n",
       "      <td>8.6</td>\n",
       "      <td>96.000000</td>\n",
       "      <td>367763</td>\n",
       "      <td>53.370000</td>\n",
       "    </tr>\n",
       "    <tr>\n",
       "      <th>3</th>\n",
       "      <td>3</td>\n",
       "      <td>Knives Out</td>\n",
       "      <td>Comedy, Crime, Drama</td>\n",
       "      <td>2019</td>\n",
       "      <td>131</td>\n",
       "      <td>8.0</td>\n",
       "      <td>82.000000</td>\n",
       "      <td>272176</td>\n",
       "      <td>165.360000</td>\n",
       "    </tr>\n",
       "    <tr>\n",
       "      <th>4</th>\n",
       "      <td>4</td>\n",
       "      <td>1917</td>\n",
       "      <td>Drama, War</td>\n",
       "      <td>2019</td>\n",
       "      <td>119</td>\n",
       "      <td>8.4</td>\n",
       "      <td>78.000000</td>\n",
       "      <td>278731</td>\n",
       "      <td>159.230000</td>\n",
       "    </tr>\n",
       "    <tr>\n",
       "      <th>...</th>\n",
       "      <td>...</td>\n",
       "      <td>...</td>\n",
       "      <td>...</td>\n",
       "      <td>...</td>\n",
       "      <td>...</td>\n",
       "      <td>...</td>\n",
       "      <td>...</td>\n",
       "      <td>...</td>\n",
       "      <td>...</td>\n",
       "    </tr>\n",
       "    <tr>\n",
       "      <th>995</th>\n",
       "      <td>995</td>\n",
       "      <td>The Shop Around the Corner</td>\n",
       "      <td>Comedy, Drama, Romance</td>\n",
       "      <td>1940</td>\n",
       "      <td>99</td>\n",
       "      <td>8.1</td>\n",
       "      <td>96.000000</td>\n",
       "      <td>26038</td>\n",
       "      <td>0.200000</td>\n",
       "    </tr>\n",
       "    <tr>\n",
       "      <th>996</th>\n",
       "      <td>996</td>\n",
       "      <td>Vizontele</td>\n",
       "      <td>Comedy, Drama</td>\n",
       "      <td>2001</td>\n",
       "      <td>110</td>\n",
       "      <td>8.0</td>\n",
       "      <td>77.511377</td>\n",
       "      <td>31025</td>\n",
       "      <td>69.043713</td>\n",
       "    </tr>\n",
       "    <tr>\n",
       "      <th>997</th>\n",
       "      <td>997</td>\n",
       "      <td>Boy A</td>\n",
       "      <td>Drama</td>\n",
       "      <td>2007</td>\n",
       "      <td>102</td>\n",
       "      <td>7.6</td>\n",
       "      <td>75.000000</td>\n",
       "      <td>36185</td>\n",
       "      <td>0.110000</td>\n",
       "    </tr>\n",
       "    <tr>\n",
       "      <th>998</th>\n",
       "      <td>998</td>\n",
       "      <td>And Now for Something Completely Different</td>\n",
       "      <td>Comedy</td>\n",
       "      <td>1971</td>\n",
       "      <td>88</td>\n",
       "      <td>7.6</td>\n",
       "      <td>77.511377</td>\n",
       "      <td>28037</td>\n",
       "      <td>69.043713</td>\n",
       "    </tr>\n",
       "    <tr>\n",
       "      <th>999</th>\n",
       "      <td>999</td>\n",
       "      <td>The Breath</td>\n",
       "      <td>Action, Drama, Thriller</td>\n",
       "      <td>2009</td>\n",
       "      <td>128</td>\n",
       "      <td>8.0</td>\n",
       "      <td>77.511377</td>\n",
       "      <td>30650</td>\n",
       "      <td>69.043713</td>\n",
       "    </tr>\n",
       "  </tbody>\n",
       "</table>\n",
       "<p>1000 rows × 9 columns</p>\n",
       "</div>"
      ],
      "text/plain": [
       "     Unnamed: 0                                  movie_name  \\\n",
       "0             0                               The Gentlemen   \n",
       "1             1            Once Upon a Time... in Hollywood   \n",
       "2             2                                    Parasite   \n",
       "3             3                                  Knives Out   \n",
       "4             4                                        1917   \n",
       "..          ...                                         ...   \n",
       "995         995                  The Shop Around the Corner   \n",
       "996         996                                   Vizontele   \n",
       "997         997                                       Boy A   \n",
       "998         998  And Now for Something Completely Different   \n",
       "999         999                                  The Breath   \n",
       "\n",
       "                                   genre  year  timeMin  imdb  metascore  \\\n",
       "0      Action, Comedy, Crime              2019      113   8.0  51.000000   \n",
       "1              Comedy, Drama              2019      161   7.7  83.000000   \n",
       "2    Comedy, Drama, Thriller              2019      132   8.6  96.000000   \n",
       "3       Comedy, Crime, Drama              2019      131   8.0  82.000000   \n",
       "4                 Drama, War              2019      119   8.4  78.000000   \n",
       "..                                   ...   ...      ...   ...        ...   \n",
       "995   Comedy, Drama, Romance              1940       99   8.1  96.000000   \n",
       "996            Comedy, Drama              2001      110   8.0  77.511377   \n",
       "997                    Drama              2007      102   7.6  75.000000   \n",
       "998                   Comedy              1971       88   7.6  77.511377   \n",
       "999  Action, Drama, Thriller              2009      128   8.0  77.511377   \n",
       "\n",
       "      votes  us_grossMillions  \n",
       "0    103248         69.043713  \n",
       "1    439202        142.500000  \n",
       "2    367763         53.370000  \n",
       "3    272176        165.360000  \n",
       "4    278731        159.230000  \n",
       "..      ...               ...  \n",
       "995   26038          0.200000  \n",
       "996   31025         69.043713  \n",
       "997   36185          0.110000  \n",
       "998   28037         69.043713  \n",
       "999   30650         69.043713  \n",
       "\n",
       "[1000 rows x 9 columns]"
      ]
     },
     "execution_count": 3,
     "metadata": {},
     "output_type": "execute_result"
    }
   ],
   "source": [
    "df"
   ]
  },
  {
   "cell_type": "code",
   "execution_count": 4,
   "metadata": {},
   "outputs": [
    {
     "name": "stdout",
     "output_type": "stream",
     "text": [
      "<class 'pandas.core.frame.DataFrame'>\n",
      "RangeIndex: 1000 entries, 0 to 999\n",
      "Data columns (total 9 columns):\n",
      " #   Column            Non-Null Count  Dtype  \n",
      "---  ------            --------------  -----  \n",
      " 0   Unnamed: 0        1000 non-null   int64  \n",
      " 1   movie_name        1000 non-null   object \n",
      " 2   genre             1000 non-null   object \n",
      " 3   year              1000 non-null   int64  \n",
      " 4   timeMin           1000 non-null   int64  \n",
      " 5   imdb              1000 non-null   float64\n",
      " 6   metascore         1000 non-null   float64\n",
      " 7   votes             1000 non-null   int64  \n",
      " 8   us_grossMillions  1000 non-null   float64\n",
      "dtypes: float64(3), int64(4), object(2)\n",
      "memory usage: 70.4+ KB\n"
     ]
    }
   ],
   "source": [
    "df.info()"
   ]
  },
  {
   "cell_type": "code",
   "execution_count": 5,
   "metadata": {},
   "outputs": [
    {
     "name": "stdout",
     "output_type": "stream",
     "text": [
      "0                                   The Gentlemen\n",
      "1                Once Upon a Time... in Hollywood\n",
      "2                                        Parasite\n",
      "3                                      Knives Out\n",
      "4                                            1917\n",
      "                          ...                    \n",
      "995                    The Shop Around the Corner\n",
      "996                                     Vizontele\n",
      "997                                         Boy A\n",
      "998    And Now for Something Completely Different\n",
      "999                                    The Breath\n",
      "Name: movie_name, Length: 1000, dtype: object\n"
     ]
    }
   ],
   "source": [
    "#Memilih kolom mana yang akan digunakan\n",
    "#Kolom Venue\n",
    "autan = df['movie_name']\n",
    "print(autan)"
   ]
  },
  {
   "cell_type": "code",
   "execution_count": 6,
   "metadata": {},
   "outputs": [],
   "source": [
    "def clean(text):\n",
    "    text = text.lower()  # Lowercase text\n",
    "    text = re.sub(r'\\d+', '', text.lower())  # Clear Number\n",
    "    text = text.translate(str.maketrans(\"\", \"\", string.punctuation))  # Clear  !@#$##&$*(%)\n",
    "    text = text.strip()  # Bersihkan whitespaces (karakter karakter yang aneh/tak terlihat)\n",
    "    return text"
   ]
  },
  {
   "cell_type": "code",
   "execution_count": 7,
   "metadata": {},
   "outputs": [
    {
     "data": {
      "text/plain": [
       "0                                   the gentlemen\n",
       "1                   once upon a time in hollywood\n",
       "2                                        parasite\n",
       "3                                      knives out\n",
       "4                                                \n",
       "                          ...                    \n",
       "995                    the shop around the corner\n",
       "996                                     vizontele\n",
       "997                                         boy a\n",
       "998    and now for something completely different\n",
       "999                                    the breath\n",
       "Name: movie_name, Length: 1000, dtype: object"
      ]
     },
     "execution_count": 7,
     "metadata": {},
     "output_type": "execute_result"
    }
   ],
   "source": [
    "sofel= autan.apply(clean)\n",
    "sofel"
   ]
  },
  {
   "cell_type": "code",
   "execution_count": 8,
   "metadata": {},
   "outputs": [],
   "source": [
    "lemmatizer = WordNetLemmatizer()\n",
    "stemmer = PorterStemmer()\n",
    "stop_words = set(stopwords.words('english'))"
   ]
  },
  {
   "cell_type": "code",
   "execution_count": 9,
   "metadata": {},
   "outputs": [],
   "source": [
    "def tokenstem(text):\n",
    "    words = word_tokenize(text)\n",
    "    filtered = []\n",
    "    for w in words:\n",
    "        if w not in stop_words:\n",
    "            w = lemmatizer.lemmatize(w)\n",
    "            w = stemmer.stem(w)\n",
    "            filtered.append(w)\n",
    "    return filtered"
   ]
  },
  {
   "cell_type": "code",
   "execution_count": 10,
   "metadata": {},
   "outputs": [
    {
     "data": {
      "text/plain": [
       "0                    [gentleman]\n",
       "1        [upon, time, hollywood]\n",
       "2                      [parasit]\n",
       "3                        [knife]\n",
       "4                             []\n",
       "                 ...            \n",
       "995       [shop, around, corner]\n",
       "996                   [vizontel]\n",
       "997                        [boy]\n",
       "998    [someth, complet, differ]\n",
       "999                     [breath]\n",
       "Name: movie_name, Length: 1000, dtype: object"
      ]
     },
     "execution_count": 10,
     "metadata": {},
     "output_type": "execute_result"
    }
   ],
   "source": [
    "baigon = sofel.apply(tokenstem)\n",
    "baigon"
   ]
  },
  {
   "cell_type": "code",
   "execution_count": null,
   "metadata": {},
   "outputs": [],
   "source": []
  }
 ],
 "metadata": {
  "kernelspec": {
   "display_name": "Python 3",
   "language": "python",
   "name": "python3"
  },
  "language_info": {
   "codemirror_mode": {
    "name": "ipython",
    "version": 3
   },
   "file_extension": ".py",
   "mimetype": "text/x-python",
   "name": "python",
   "nbconvert_exporter": "python",
   "pygments_lexer": "ipython3",
   "version": "3.8.3"
  }
 },
 "nbformat": 4,
 "nbformat_minor": 4
}
