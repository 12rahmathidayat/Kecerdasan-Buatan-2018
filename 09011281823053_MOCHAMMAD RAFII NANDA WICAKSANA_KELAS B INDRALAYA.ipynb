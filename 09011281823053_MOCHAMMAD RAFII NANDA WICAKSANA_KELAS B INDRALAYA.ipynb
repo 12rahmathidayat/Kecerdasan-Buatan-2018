{
 "cells": [
  {
   "cell_type": "markdown",
   "metadata": {},
   "source": [
    "# Mochammad Rafii Nanda Wicaksana"
   ]
  },
  {
   "cell_type": "markdown",
   "metadata": {},
   "source": [
    "# 09011281823053"
   ]
  },
  {
   "cell_type": "markdown",
   "metadata": {},
   "source": [
    "Artificial Neural Network\n",
    "Pada Assassinations Dataset\n",
    "\n",
    "Sumber : https://www.kaggle.com/tmtdmr/ann-on-assassinations-dataset\n",
    "\n",
    "Di kernel ini akan membandingkan algoritma Keras Classifier untuk berbagai nilai \"Numbers of ANN\", \"CV\" dan \"epochs\" dan menebak \"jenis kelamin\" orang yang meninggal karena pembunuhan.\n",
    "\n",
    "CONTENT\n",
    "\n",
    "1. Data Cleaning\n",
    "2. Normalization\n",
    "3. Train Test Split\n",
    "4. Build to 2 Layer Neural Network\n",
    "5. Build ANN from Keras for different hyperparameters\n",
    "6. Conclusion"
   ]
  },
  {
   "cell_type": "code",
   "execution_count": 36,
   "metadata": {},
   "outputs": [],
   "source": [
    "import numpy as np # linear algebra\n",
    "import pandas as pd # data processing, CSV file I/O (e.g. pd.read_csv)\n",
    "import matplotlib.pyplot as plt\n",
    "import os\n",
    "for dirname, _, filenames in os.walk('/kaggle/input'):\n",
    "    for filename in filenames:\n",
    "        print(os.path.join(dirname, filename))"
   ]
  },
  {
   "cell_type": "code",
   "execution_count": 37,
   "metadata": {},
   "outputs": [],
   "source": [
    "data = pd.read_csv(\"C:/Users/LENOVO/Documents/JUPYTER KECERDASAN BUATAN/Assassinations Dataset/master.csv\",sep=\",\")"
   ]
  },
  {
   "cell_type": "markdown",
   "metadata": {},
   "source": [
    " "
   ]
  },
  {
   "cell_type": "markdown",
   "metadata": {},
   "source": [
    "# 1. Data Cleaning"
   ]
  },
  {
   "cell_type": "markdown",
   "metadata": {},
   "source": [
    "Menurunkan kolom nul dan non numerik"
   ]
  },
  {
   "cell_type": "code",
   "execution_count": 38,
   "metadata": {},
   "outputs": [],
   "source": [
    "data.dropna(inplace=True)\n",
    "data.drop([\"age\",\"country\",\"country-year\",\"generation\"],axis=1,inplace=True)"
   ]
  },
  {
   "cell_type": "markdown",
   "metadata": {},
   "source": [
    " "
   ]
  },
  {
   "cell_type": "markdown",
   "metadata": {},
   "source": [
    "Mengubah pria dan wanita menjadi 1 dan 0"
   ]
  },
  {
   "cell_type": "code",
   "execution_count": 39,
   "metadata": {},
   "outputs": [],
   "source": [
    "data.sex = [1 if each == \"male\" else 0 for each in data.sex]"
   ]
  },
  {
   "cell_type": "markdown",
   "metadata": {},
   "source": [
    " "
   ]
  },
  {
   "cell_type": "markdown",
   "metadata": {},
   "source": [
    "Menghapus jarak"
   ]
  },
  {
   "cell_type": "code",
   "execution_count": 40,
   "metadata": {},
   "outputs": [],
   "source": [
    "# Menghapus jarak\n",
    "data.rename(columns={' gdp_for_year ($) ':'gdp_year'}, inplace=True)\n",
    "data.rename(columns={'HDI for year':'HDI_year'}, inplace=True)\n",
    "data.rename(columns={'suicides/100k pop':'suicides/100k_pop'}, inplace=True)\n",
    "data.rename(columns={'gdp_per_capita ($)':'gdp_per_capita_dollar'}, inplace=True)"
   ]
  },
  {
   "cell_type": "markdown",
   "metadata": {},
   "source": [
    " "
   ]
  },
  {
   "cell_type": "markdown",
   "metadata": {},
   "source": [
    "Menghapus koma"
   ]
  },
  {
   "cell_type": "code",
   "execution_count": 41,
   "metadata": {},
   "outputs": [],
   "source": [
    "data.gdp_year = data.gdp_year.str.replace(',','')"
   ]
  },
  {
   "cell_type": "markdown",
   "metadata": {},
   "source": [
    " "
   ]
  },
  {
   "cell_type": "markdown",
   "metadata": {},
   "source": [
    "Mengidentifikasikan x dan y"
   ]
  },
  {
   "cell_type": "code",
   "execution_count": 42,
   "metadata": {},
   "outputs": [],
   "source": [
    "y = data.sex\n",
    "x_data = data.drop([\"sex\"],axis=1)"
   ]
  },
  {
   "cell_type": "markdown",
   "metadata": {},
   "source": [
    " "
   ]
  },
  {
   "cell_type": "markdown",
   "metadata": {},
   "source": [
    "Konversi jenis kolom keenam dari string ke float"
   ]
  },
  {
   "cell_type": "code",
   "execution_count": 43,
   "metadata": {},
   "outputs": [],
   "source": [
    "x_data.gdp_year = data.gdp_year.apply(lambda x: float(x))"
   ]
  },
  {
   "cell_type": "markdown",
   "metadata": {},
   "source": [
    " "
   ]
  },
  {
   "cell_type": "markdown",
   "metadata": {},
   "source": [
    "# 2. Normalization"
   ]
  },
  {
   "cell_type": "markdown",
   "metadata": {},
   "source": [
    "Proses normalisasi untuk memodifikasi nilai dalam varabel sehingga dapat mengukurnya dalam skala umum. Beberapa bentuk normalisasi yang paling umum bertujuan untuk mengubah nilai-nilai sehingga jumlahnya menjadi 1."
   ]
  },
  {
   "cell_type": "code",
   "execution_count": 44,
   "metadata": {},
   "outputs": [],
   "source": [
    "x = (x_data - np.min(x_data)) / (np.max(x_data) - np.min(x_data))"
   ]
  },
  {
   "cell_type": "markdown",
   "metadata": {},
   "source": [
    " "
   ]
  },
  {
   "cell_type": "markdown",
   "metadata": {},
   "source": [
    "# 3. Train Test Split"
   ]
  },
  {
   "cell_type": "markdown",
   "metadata": {},
   "source": [
    "Selanjutnya yaitu membagi data set menjadi data train dan data test\n",
    "\n",
    "Training set adalah bagian dataset yang kita latih untuk membuat prediksi atau menjalankan fungsi dari sebuah algoritma ML. Kita memberikan petunjuk melalui algoritma agar mesin yang kita latih bisa mencari korelasinya sendiri atau belajar pola dari data yang diberikan.\n",
    "\n",
    "Test set adalah bagian dataset yang kita tes untuk melihat keakuratannya, atau dengan kata lain melihat performanya.\n",
    "\n",
    "Biasanya sebagai rule of thumb (aturan umum) proporsi test set sebesar 20% dan train set 80%. Namun ada juga yang menentukan 25:75, terserah yang mana."
   ]
  },
  {
   "cell_type": "markdown",
   "metadata": {},
   "source": [
    "Membagi data train dan test"
   ]
  },
  {
   "cell_type": "code",
   "execution_count": 45,
   "metadata": {},
   "outputs": [],
   "source": [
    "from sklearn.model_selection import train_test_split\n",
    "\n",
    "x_train,x_test,y_train,y_test = train_test_split(x, y, test_size = 0.15, random_state = 42)\n",
    "\n",
    "x_train = x_train.values.T\n",
    "x_test = x_test.values.T\n",
    "y_test = y_test.values.reshape(1,y_test.shape[0])\n",
    "y_train = y_train.values.reshape(1,y_train.shape[0])"
   ]
  },
  {
   "cell_type": "markdown",
   "metadata": {},
   "source": [
    " "
   ]
  },
  {
   "cell_type": "markdown",
   "metadata": {},
   "source": [
    "Fungsi sigmoid"
   ]
  },
  {
   "cell_type": "code",
   "execution_count": 46,
   "metadata": {},
   "outputs": [],
   "source": [
    "def sigmoid(z):\n",
    "    y_head = 1/(1+np.exp(-z))\n",
    "    return y_head"
   ]
  },
  {
   "cell_type": "markdown",
   "metadata": {},
   "source": [
    " "
   ]
  },
  {
   "cell_type": "markdown",
   "metadata": {},
   "source": [
    "Menginisialisasi parameter dan ukuran lapisan"
   ]
  },
  {
   "cell_type": "code",
   "execution_count": 47,
   "metadata": {},
   "outputs": [],
   "source": [
    "def initialize_parameters_and_layer_sizes_NN(x_train, y_train):\n",
    "    parameters = {\"weight1\": np.random.randn(3,x_train.shape[0]) * 0.1,\n",
    "                  \"bias1\": np.zeros((3,1)),\n",
    "                  \"weight2\": np.random.randn(y_train.shape[0],3) * 0.1,\n",
    "                  \"bias2\": np.zeros((y_train.shape[0],1))}\n",
    "    return parameters"
   ]
  },
  {
   "cell_type": "markdown",
   "metadata": {},
   "source": [
    " "
   ]
  },
  {
   "cell_type": "markdown",
   "metadata": {},
   "source": [
    "Forward propagation"
   ]
  },
  {
   "cell_type": "markdown",
   "metadata": {},
   "source": [
    "forward propagation adalah proses dimana kita membawa data pada input melewati tiap neuron pada hidden layer sampai kepada output layer yang nanti akan dihitung errornya"
   ]
  },
  {
   "cell_type": "code",
   "execution_count": 48,
   "metadata": {},
   "outputs": [],
   "source": [
    "def forward_propagation_NN(x_train, parameters):\n",
    "\n",
    "    Z1 = np.dot(parameters[\"weight1\"],x_train) +parameters[\"bias1\"]\n",
    "    A1 = np.tanh(Z1)\n",
    "    Z2 = np.dot(parameters[\"weight2\"],A1) + parameters[\"bias2\"]\n",
    "    A2 = sigmoid(Z2)\n",
    "\n",
    "    cache = {\"Z1\": Z1,\n",
    "             \"A1\": A1,\n",
    "             \"Z2\": Z2,\n",
    "             \"A2\": A2}\n",
    "    \n",
    "    return A2, cache"
   ]
  },
  {
   "cell_type": "markdown",
   "metadata": {},
   "source": [
    " "
   ]
  },
  {
   "cell_type": "markdown",
   "metadata": {},
   "source": [
    "Compute cost"
   ]
  },
  {
   "cell_type": "code",
   "execution_count": 49,
   "metadata": {},
   "outputs": [],
   "source": [
    "def compute_cost_NN(A2, Y, parameters):\n",
    "    logprobs = np.multiply(np.log(A2),Y)\n",
    "    cost = -np.sum(logprobs)/Y.shape[1]\n",
    "    return cost"
   ]
  },
  {
   "cell_type": "markdown",
   "metadata": {},
   "source": [
    " "
   ]
  },
  {
   "cell_type": "markdown",
   "metadata": {},
   "source": [
    "Backward propagation"
   ]
  },
  {
   "cell_type": "markdown",
   "metadata": {},
   "source": [
    "Backpropagation adalah algoritma pembelajaran untuk memperkecil tingkat error dengan cara menyesuaikan bobotnya berdasarkan perbedaan output dan target yang diinginkan."
   ]
  },
  {
   "cell_type": "code",
   "execution_count": 50,
   "metadata": {},
   "outputs": [],
   "source": [
    "def backward_propagation_NN(parameters, cache, X, Y):\n",
    "\n",
    "    dZ2 = cache[\"A2\"]-Y\n",
    "    dW2 = np.dot(dZ2,cache[\"A1\"].T)/X.shape[1]\n",
    "    db2 = np.sum(dZ2,axis =1,keepdims=True)/X.shape[1]\n",
    "    dZ1 = np.dot(parameters[\"weight2\"].T,dZ2)*(1 - np.power(cache[\"A1\"], 2))\n",
    "    dW1 = np.dot(dZ1,X.T)/X.shape[1]\n",
    "    db1 = np.sum(dZ1,axis =1,keepdims=True)/X.shape[1]\n",
    "    grads = {\"dweight1\": dW1,\n",
    "             \"dbias1\": db1,\n",
    "             \"dweight2\": dW2,\n",
    "             \"dbias2\": db2}\n",
    "    return grads"
   ]
  },
  {
   "cell_type": "markdown",
   "metadata": {},
   "source": [
    " "
   ]
  },
  {
   "cell_type": "markdown",
   "metadata": {},
   "source": [
    "Update parameters"
   ]
  },
  {
   "cell_type": "code",
   "execution_count": 51,
   "metadata": {},
   "outputs": [],
   "source": [
    "def update_parameters_NN(parameters, grads, learning_rate = 0.01):\n",
    "    parameters = {\"weight1\": parameters[\"weight1\"]-learning_rate*grads[\"dweight1\"],\n",
    "                  \"bias1\": parameters[\"bias1\"]-learning_rate*grads[\"dbias1\"],\n",
    "                  \"weight2\": parameters[\"weight2\"]-learning_rate*grads[\"dweight2\"],\n",
    "                  \"bias2\": parameters[\"bias2\"]-learning_rate*grads[\"dbias2\"]}\n",
    "    \n",
    "    return parameters"
   ]
  },
  {
   "cell_type": "markdown",
   "metadata": {},
   "source": [
    " "
   ]
  },
  {
   "cell_type": "markdown",
   "metadata": {},
   "source": [
    "Prediksi"
   ]
  },
  {
   "cell_type": "code",
   "execution_count": 52,
   "metadata": {},
   "outputs": [],
   "source": [
    "def predict_NN(parameters,x_test):\n",
    "    # x_test is a input for forward propagation\n",
    "    A2, cache = forward_propagation_NN(x_test,parameters)\n",
    "    Y_prediction = np.zeros((1,x_test.shape[1]))\n",
    "    # if z is bigger than 0.5, our prediction is sign one (y_head=1),\n",
    "    # if z is smaller than 0.5, our prediction is sign zero (y_head=0),\n",
    "    for i in range(A2.shape[1]):\n",
    "        if A2[0,i]<= 0.5:\n",
    "            Y_prediction[0,i] = 0\n",
    "        else:\n",
    "            Y_prediction[0,i] = 1\n",
    "\n",
    "    return Y_prediction"
   ]
  },
  {
   "cell_type": "markdown",
   "metadata": {},
   "source": [
    " "
   ]
  },
  {
   "cell_type": "markdown",
   "metadata": {},
   "source": [
    "# 4. Build to 2 Layer Neural Network"
   ]
  },
  {
   "cell_type": "markdown",
   "metadata": {},
   "source": [
    "2 - Layer neural network"
   ]
  },
  {
   "cell_type": "code",
   "execution_count": 53,
   "metadata": {},
   "outputs": [
    {
     "name": "stdout",
     "output_type": "stream",
     "text": [
      "Cost after iteration 0: 0.349240\n",
      "Cost after iteration 100: 0.348384\n",
      "Cost after iteration 200: 0.347729\n",
      "Cost after iteration 300: 0.347226\n",
      "Cost after iteration 400: 0.346840\n",
      "Cost after iteration 500: 0.346543\n",
      "Cost after iteration 600: 0.346314\n",
      "Cost after iteration 700: 0.346136\n",
      "Cost after iteration 800: 0.345997\n",
      "Cost after iteration 900: 0.345888\n",
      "Cost after iteration 1000: 0.345801\n",
      "Cost after iteration 1100: 0.345732\n",
      "Cost after iteration 1200: 0.345675\n",
      "Cost after iteration 1300: 0.345628\n",
      "Cost after iteration 1400: 0.345588\n",
      "Cost after iteration 1500: 0.345553\n",
      "Cost after iteration 1600: 0.345522\n",
      "Cost after iteration 1700: 0.345493\n",
      "Cost after iteration 1800: 0.345467\n",
      "Cost after iteration 1900: 0.345441\n",
      "Cost after iteration 2000: 0.345417\n",
      "Cost after iteration 2100: 0.345392\n",
      "Cost after iteration 2200: 0.345368\n",
      "Cost after iteration 2300: 0.345344\n",
      "Cost after iteration 2400: 0.345318\n",
      "Cost after iteration 2500: 0.345293\n",
      "Cost after iteration 2600: 0.345267\n",
      "Cost after iteration 2700: 0.345239\n",
      "Cost after iteration 2800: 0.345211\n",
      "Cost after iteration 2900: 0.345182\n"
     ]
    },
    {
     "data": {
      "image/png": "[encoded data removed]",
      "text/plain": [
       "<matplotlib.figure.Figure at 0x17f1b155588>"
      ]
     },
     "metadata": {},
     "output_type": "display_data"
    },
    {
     "name": "stdout",
     "output_type": "stream",
     "text": [
      "train accuracy: 59.136306090870725 %\n",
      "test accuracy: 55.93625498007968 %\n"
     ]
    }
   ],
   "source": [
    "def two_layer_neural_network(x_train, y_train,x_test,y_test, num_iterations):\n",
    "    cost_list = []\n",
    "    index_list = []\n",
    "    #initialize parameters and layer sizes\n",
    "    parameters = initialize_parameters_and_layer_sizes_NN(x_train, y_train)\n",
    "\n",
    "    for i in range(0, num_iterations):\n",
    "         # forward propagation\n",
    "        A2, cache = forward_propagation_NN(x_train,parameters)\n",
    "        # compute cost\n",
    "        cost = compute_cost_NN(A2, y_train, parameters)\n",
    "         # backward propagation\n",
    "        grads = backward_propagation_NN(parameters, cache, x_train, y_train)\n",
    "         # update parameters\n",
    "        parameters = update_parameters_NN(parameters, grads)\n",
    "      \n",
    "        if i % 100 == 0:\n",
    "            cost_list.append(cost)\n",
    "            index_list.append(i)\n",
    "            print (\"Cost after iteration %i: %f\" %(i, cost))    \n",
    "    plt.plot(index_list,cost_list)\n",
    "    plt.xticks(index_list,rotation='vertical')\n",
    "    plt.xlabel(\"Number of Iterarion\")\n",
    "    plt.ylabel(\"Cost\")\n",
    "    plt.show()\n",
    "    \n",
    "    \n",
    "    # predict\n",
    "    y_prediction_test = predict_NN(parameters,x_test)\n",
    "    y_prediction_train = predict_NN(parameters,x_train)\n",
    "\n",
    "    # Print train/test Errors\n",
    "    print(\"train accuracy: {} %\".format(100 - np.mean(np.abs(y_prediction_train - y_train)) * 100))\n",
    "    print(\"test accuracy: {} %\".format(100 - np.mean(np.abs(y_prediction_test - y_test)) * 100))\n",
    "    return parameters\n",
    "\n",
    "parameters = two_layer_neural_network(x_train, y_train,x_test,y_test, num_iterations=3000)"
   ]
  },
  {
   "cell_type": "markdown",
   "metadata": {},
   "source": [
    "Setelah menggunakan 2 Layer Neural Network didapat hasil data train memiliki akurasi sebesar 59% dan data tes memiliki akurasi sebesar 55%."
   ]
  },
  {
   "cell_type": "markdown",
   "metadata": {},
   "source": [
    " "
   ]
  },
  {
   "cell_type": "markdown",
   "metadata": {},
   "source": [
    "Membentuk kembali"
   ]
  },
  {
   "cell_type": "markdown",
   "metadata": {},
   "source": [
    "Ubah kembali data yang sudah di proses menjadi semula"
   ]
  },
  {
   "cell_type": "code",
   "execution_count": 54,
   "metadata": {},
   "outputs": [],
   "source": [
    "x_train, x_test, y_train, y_test = x_train.T, x_test.T, y_train.T, y_test.T"
   ]
  },
  {
   "cell_type": "markdown",
   "metadata": {},
   "source": [
    " "
   ]
  },
  {
   "cell_type": "markdown",
   "metadata": {},
   "source": [
    "# 5. Build ANN From Keras for Different Hyperparameters "
   ]
  },
  {
   "cell_type": "markdown",
   "metadata": {},
   "source": [
    "Mengevaluasi ANN"
   ]
  },
  {
   "cell_type": "markdown",
   "metadata": {},
   "source": [
    "Menggunakan ANN untuk menentukan besar akurasi data train dan test"
   ]
  },
  {
   "cell_type": "code",
   "execution_count": 55,
   "metadata": {},
   "outputs": [
    {
     "name": "stderr",
     "output_type": "stream",
     "text": [
      "Using TensorFlow backend.\n"
     ]
    },
    {
     "name": "stdout",
     "output_type": "stream",
     "text": [
      "Epoch 1/100\n",
      "4739/4739 [==============================] - 0s 57us/step - loss: 0.6931 - accuracy: 0.5039\n",
      "Epoch 2/100\n",
      "4739/4739 [==============================] - 0s 30us/step - loss: 0.6870 - accuracy: 0.6202\n",
      "Epoch 3/100\n",
      "4739/4739 [==============================] - 0s 35us/step - loss: 0.6570 - accuracy: 0.7031\n",
      "Epoch 4/100\n",
      "4739/4739 [==============================] - 0s 42us/step - loss: 0.6126 - accuracy: 0.7253\n",
      "Epoch 5/100\n",
      "4739/4739 [==============================] - 0s 34us/step - loss: 0.5813 - accuracy: 0.7253\n",
      "Epoch 6/100\n",
      "4739/4739 [==============================] - 0s 40us/step - loss: 0.5636 - accuracy: 0.7324\n",
      "Epoch 7/100\n",
      "4739/4739 [==============================] - 0s 33us/step - loss: 0.5552 - accuracy: 0.7318\n",
      "Epoch 8/100\n",
      "4739/4739 [==============================] - 0s 33us/step - loss: 0.5509 - accuracy: 0.7329\n",
      "Epoch 9/100\n",
      "4739/4739 [==============================] - 0s 36us/step - loss: 0.5501 - accuracy: 0.7337\n",
      "Epoch 10/100\n",
      "4739/4739 [==============================] - 0s 31us/step - loss: 0.5479 - accuracy: 0.7303\n",
      "Epoch 11/100\n",
      "4739/4739 [==============================] - 0s 34us/step - loss: 0.5485 - accuracy: 0.7343\n",
      "Epoch 12/100\n",
      "4739/4739 [==============================] - 0s 38us/step - loss: 0.5472 - accuracy: 0.7331\n",
      "Epoch 13/100\n",
      "4739/4739 [==============================] - 0s 33us/step - loss: 0.5476 - accuracy: 0.7333\n",
      "Epoch 14/100\n",
      "4739/4739 [==============================] - 0s 32us/step - loss: 0.5471 - accuracy: 0.7354\n",
      "Epoch 15/100\n",
      "4739/4739 [==============================] - 0s 37us/step - loss: 0.5469 - accuracy: 0.7318\n",
      "Epoch 16/100\n",
      "4739/4739 [==============================] - 0s 35us/step - loss: 0.5471 - accuracy: 0.7324\n",
      "Epoch 17/100\n",
      "4739/4739 [==============================] - 0s 38us/step - loss: 0.5467 - accuracy: 0.7350\n",
      "Epoch 18/100\n",
      "4739/4739 [==============================] - 0s 34us/step - loss: 0.5468 - accuracy: 0.7333\n",
      "Epoch 19/100\n",
      "4739/4739 [==============================] - 0s 35us/step - loss: 0.5465 - accuracy: 0.7348\n",
      "Epoch 20/100\n",
      "4739/4739 [==============================] - 0s 35us/step - loss: 0.5467 - accuracy: 0.7356\n",
      "Epoch 21/100\n",
      "4739/4739 [==============================] - 0s 31us/step - loss: 0.5464 - accuracy: 0.7329\n",
      "Epoch 22/100\n",
      "4739/4739 [==============================] - 0s 34us/step - loss: 0.5459 - accuracy: 0.7348\n",
      "Epoch 23/100\n",
      "4739/4739 [==============================] - 0s 36us/step - loss: 0.5464 - accuracy: 0.7339\n",
      "Epoch 24/100\n",
      "4739/4739 [==============================] - 0s 35us/step - loss: 0.5465 - accuracy: 0.7348\n",
      "Epoch 25/100\n",
      "4739/4739 [==============================] - 0s 33us/step - loss: 0.5458 - accuracy: 0.7354\n",
      "Epoch 26/100\n",
      "4739/4739 [==============================] - 0s 29us/step - loss: 0.5456 - accuracy: 0.7348\n",
      "Epoch 27/100\n",
      "4739/4739 [==============================] - 0s 35us/step - loss: 0.5460 - accuracy: 0.7356\n",
      "Epoch 28/100\n",
      "4739/4739 [==============================] - 0s 33us/step - loss: 0.5456 - accuracy: 0.7362\n",
      "Epoch 29/100\n",
      "4739/4739 [==============================] - 0s 33us/step - loss: 0.5459 - accuracy: 0.7329\n",
      "Epoch 30/100\n",
      "4739/4739 [==============================] - 0s 31us/step - loss: 0.5455 - accuracy: 0.7341\n",
      "Epoch 31/100\n",
      "4739/4739 [==============================] - 0s 30us/step - loss: 0.5454 - accuracy: 0.7335\n",
      "Epoch 32/100\n",
      "4739/4739 [==============================] - 0s 33us/step - loss: 0.5457 - accuracy: 0.7343\n",
      "Epoch 33/100\n",
      "4739/4739 [==============================] - 0s 33us/step - loss: 0.5457 - accuracy: 0.7367\n",
      "Epoch 34/100\n",
      "4739/4739 [==============================] - 0s 37us/step - loss: 0.5451 - accuracy: 0.7348\n",
      "Epoch 35/100\n",
      "4739/4739 [==============================] - 0s 33us/step - loss: 0.5457 - accuracy: 0.7339\n",
      "Epoch 36/100\n",
      "4739/4739 [==============================] - 0s 29us/step - loss: 0.5456 - accuracy: 0.7339\n",
      "Epoch 37/100\n",
      "4739/4739 [==============================] - 0s 33us/step - loss: 0.5457 - accuracy: 0.7352\n",
      "Epoch 38/100\n",
      "4739/4739 [==============================] - 0s 35us/step - loss: 0.5458 - accuracy: 0.7354\n",
      "Epoch 39/100\n",
      "4739/4739 [==============================] - 0s 34us/step - loss: 0.5463 - accuracy: 0.7339\n",
      "Epoch 40/100\n",
      "4739/4739 [==============================] - 0s 29us/step - loss: 0.5455 - accuracy: 0.7348\n",
      "Epoch 41/100\n",
      "4739/4739 [==============================] - 0s 30us/step - loss: 0.5451 - accuracy: 0.7364\n",
      "Epoch 42/100\n",
      "4739/4739 [==============================] - 0s 31us/step - loss: 0.5449 - accuracy: 0.7362\n",
      "Epoch 43/100\n",
      "4739/4739 [==============================] - 0s 34us/step - loss: 0.5452 - accuracy: 0.7356\n",
      "Epoch 44/100\n",
      "4739/4739 [==============================] - 0s 33us/step - loss: 0.5455 - accuracy: 0.7367\n",
      "Epoch 45/100\n",
      "4739/4739 [==============================] - 0s 38us/step - loss: 0.5450 - accuracy: 0.7343\n",
      "Epoch 46/100\n",
      "4739/4739 [==============================] - 0s 32us/step - loss: 0.5456 - accuracy: 0.7322\n",
      "Epoch 47/100\n",
      "4739/4739 [==============================] - 0s 31us/step - loss: 0.5452 - accuracy: 0.7352\n",
      "Epoch 48/100\n",
      "4739/4739 [==============================] - 0s 33us/step - loss: 0.5453 - accuracy: 0.7341\n",
      "Epoch 49/100\n",
      "4739/4739 [==============================] - 0s 35us/step - loss: 0.5451 - accuracy: 0.7373\n",
      "Epoch 50/100\n",
      "4739/4739 [==============================] - 0s 37us/step - loss: 0.5450 - accuracy: 0.7362\n",
      "Epoch 51/100\n",
      "4739/4739 [==============================] - 0s 32us/step - loss: 0.5454 - accuracy: 0.7375\n",
      "Epoch 52/100\n",
      "4739/4739 [==============================] - 0s 32us/step - loss: 0.5453 - accuracy: 0.7375\n",
      "Epoch 53/100\n",
      "4739/4739 [==============================] - 0s 31us/step - loss: 0.5452 - accuracy: 0.7337\n",
      "Epoch 54/100\n",
      "4739/4739 [==============================] - 0s 30us/step - loss: 0.5453 - accuracy: 0.7375\n",
      "Epoch 55/100\n",
      "4739/4739 [==============================] - 0s 31us/step - loss: 0.5449 - accuracy: 0.7341\n",
      "Epoch 56/100\n",
      "4739/4739 [==============================] - 0s 41us/step - loss: 0.5449 - accuracy: 0.7360\n",
      "Epoch 57/100\n",
      "4739/4739 [==============================] - 0s 44us/step - loss: 0.5450 - accuracy: 0.7350\n",
      "Epoch 58/100\n",
      "4739/4739 [==============================] - 0s 40us/step - loss: 0.5450 - accuracy: 0.7367\n",
      "Epoch 59/100\n",
      "4739/4739 [==============================] - 0s 38us/step - loss: 0.5448 - accuracy: 0.7356\n",
      "Epoch 60/100\n",
      "4739/4739 [==============================] - 0s 30us/step - loss: 0.5449 - accuracy: 0.7356\n",
      "Epoch 61/100\n",
      "4739/4739 [==============================] - 0s 30us/step - loss: 0.5450 - accuracy: 0.7364\n",
      "Epoch 62/100\n",
      "4739/4739 [==============================] - 0s 32us/step - loss: 0.5446 - accuracy: 0.7369\n",
      "Epoch 63/100\n",
      "4739/4739 [==============================] - 0s 33us/step - loss: 0.5447 - accuracy: 0.7356\n",
      "Epoch 64/100\n",
      "4739/4739 [==============================] - 0s 32us/step - loss: 0.5454 - accuracy: 0.7348\n",
      "Epoch 65/100\n",
      "4739/4739 [==============================] - 0s 36us/step - loss: 0.5447 - accuracy: 0.7375\n",
      "Epoch 66/100\n",
      "4739/4739 [==============================] - 0s 30us/step - loss: 0.5444 - accuracy: 0.7381\n",
      "Epoch 67/100\n",
      "4739/4739 [==============================] - 0s 31us/step - loss: 0.5448 - accuracy: 0.7371\n",
      "Epoch 68/100\n",
      "4739/4739 [==============================] - 0s 36us/step - loss: 0.5446 - accuracy: 0.7371\n",
      "Epoch 69/100\n",
      "4739/4739 [==============================] - 0s 32us/step - loss: 0.5441 - accuracy: 0.7350\n",
      "Epoch 70/100\n",
      "4739/4739 [==============================] - 0s 30us/step - loss: 0.5445 - accuracy: 0.7358\n",
      "Epoch 71/100\n",
      "4739/4739 [==============================] - 0s 36us/step - loss: 0.5443 - accuracy: 0.7362\n",
      "Epoch 72/100\n",
      "4739/4739 [==============================] - 0s 35us/step - loss: 0.5443 - accuracy: 0.7360\n",
      "Epoch 73/100\n",
      "4739/4739 [==============================] - 0s 37us/step - loss: 0.5442 - accuracy: 0.7369\n",
      "Epoch 74/100\n",
      "4739/4739 [==============================] - 0s 35us/step - loss: 0.5442 - accuracy: 0.7348\n",
      "Epoch 75/100\n",
      "4739/4739 [==============================] - 0s 35us/step - loss: 0.5438 - accuracy: 0.7362\n",
      "Epoch 76/100\n",
      "4739/4739 [==============================] - 0s 31us/step - loss: 0.5439 - accuracy: 0.7367\n",
      "Epoch 77/100\n",
      "4739/4739 [==============================] - 0s 38us/step - loss: 0.5444 - accuracy: 0.7379\n",
      "Epoch 78/100\n",
      "4739/4739 [==============================] - 0s 37us/step - loss: 0.5440 - accuracy: 0.7373\n",
      "Epoch 79/100\n"
     ]
    },
    {
     "name": "stdout",
     "output_type": "stream",
     "text": [
      "4739/4739 [==============================] - 0s 36us/step - loss: 0.5434 - accuracy: 0.7381\n",
      "Epoch 80/100\n",
      "4739/4739 [==============================] - 0s 30us/step - loss: 0.5439 - accuracy: 0.7371\n",
      "Epoch 81/100\n",
      "4739/4739 [==============================] - 0s 31us/step - loss: 0.5437 - accuracy: 0.7362\n",
      "Epoch 82/100\n",
      "4739/4739 [==============================] - 0s 33us/step - loss: 0.5435 - accuracy: 0.7400\n",
      "Epoch 83/100\n",
      "4739/4739 [==============================] - 0s 35us/step - loss: 0.5442 - accuracy: 0.7352\n",
      "Epoch 84/100\n",
      "4739/4739 [==============================] - 0s 40us/step - loss: 0.5442 - accuracy: 0.7348\n",
      "Epoch 85/100\n",
      "4739/4739 [==============================] - 0s 38us/step - loss: 0.5436 - accuracy: 0.7360\n",
      "Epoch 86/100\n",
      "4739/4739 [==============================] - 0s 37us/step - loss: 0.5435 - accuracy: 0.7371\n",
      "Epoch 87/100\n",
      "4739/4739 [==============================] - 0s 39us/step - loss: 0.5435 - accuracy: 0.7373\n",
      "Epoch 88/100\n",
      "4739/4739 [==============================] - 0s 31us/step - loss: 0.5425 - accuracy: 0.7348\n",
      "Epoch 89/100\n",
      "4739/4739 [==============================] - 0s 32us/step - loss: 0.5436 - accuracy: 0.7383\n",
      "Epoch 90/100\n",
      "4739/4739 [==============================] - 0s 35us/step - loss: 0.5430 - accuracy: 0.7394\n",
      "Epoch 91/100\n",
      "4739/4739 [==============================] - 0s 37us/step - loss: 0.5433 - accuracy: 0.7360\n",
      "Epoch 92/100\n",
      "4739/4739 [==============================] - 0s 31us/step - loss: 0.5432 - accuracy: 0.7375\n",
      "Epoch 93/100\n",
      "4739/4739 [==============================] - 0s 35us/step - loss: 0.5434 - accuracy: 0.7367\n",
      "Epoch 94/100\n",
      "4739/4739 [==============================] - 0s 30us/step - loss: 0.5429 - accuracy: 0.7375\n",
      "Epoch 95/100\n",
      "4739/4739 [==============================] - 0s 31us/step - loss: 0.5431 - accuracy: 0.7381\n",
      "Epoch 96/100\n",
      "4739/4739 [==============================] - 0s 32us/step - loss: 0.5432 - accuracy: 0.7360\n",
      "Epoch 97/100\n",
      "4739/4739 [==============================] - 0s 36us/step - loss: 0.5429 - accuracy: 0.7373\n",
      "Epoch 98/100\n",
      "4739/4739 [==============================] - 0s 38us/step - loss: 0.5429 - accuracy: 0.7369\n",
      "Epoch 99/100\n",
      "4739/4739 [==============================] - 0s 33us/step - loss: 0.5431 - accuracy: 0.7375\n",
      "Epoch 100/100\n",
      "4739/4739 [==============================] - 0s 32us/step - loss: 0.5431 - accuracy: 0.7381\n",
      "2370/2370 [==============================] - 0s 24us/step\n",
      "Epoch 1/100\n",
      "4739/4739 [==============================] - 0s 48us/step - loss: 0.6932 - accuracy: 0.5016\n",
      "Epoch 2/100\n",
      "4739/4739 [==============================] - 0s 34us/step - loss: 0.6916 - accuracy: 0.5539\n",
      "Epoch 3/100\n",
      "4739/4739 [==============================] - 0s 37us/step - loss: 0.6838 - accuracy: 0.5938\n",
      "Epoch 4/100\n",
      "4739/4739 [==============================] - 0s 37us/step - loss: 0.6710 - accuracy: 0.6375\n",
      "Epoch 5/100\n",
      "4739/4739 [==============================] - 0s 36us/step - loss: 0.6509 - accuracy: 0.6879\n",
      "Epoch 6/100\n",
      "4739/4739 [==============================] - 0s 37us/step - loss: 0.6162 - accuracy: 0.7126\n",
      "Epoch 7/100\n",
      "4739/4739 [==============================] - 0s 35us/step - loss: 0.5874 - accuracy: 0.7236\n",
      "Epoch 8/100\n",
      "4739/4739 [==============================] - 0s 39us/step - loss: 0.5710 - accuracy: 0.7261\n",
      "Epoch 9/100\n",
      "4739/4739 [==============================] - 0s 38us/step - loss: 0.5624 - accuracy: 0.7282\n",
      "Epoch 10/100\n",
      "4739/4739 [==============================] - 0s 36us/step - loss: 0.5592 - accuracy: 0.7307\n",
      "Epoch 11/100\n",
      "4739/4739 [==============================] - 0s 33us/step - loss: 0.5565 - accuracy: 0.7280\n",
      "Epoch 12/100\n",
      "4739/4739 [==============================] - 0s 35us/step - loss: 0.5528 - accuracy: 0.7343\n",
      "Epoch 13/100\n",
      "4739/4739 [==============================] - 0s 33us/step - loss: 0.5516 - accuracy: 0.7329\n",
      "Epoch 14/100\n",
      "4739/4739 [==============================] - 0s 35us/step - loss: 0.5509 - accuracy: 0.7350\n",
      "Epoch 15/100\n",
      "4739/4739 [==============================] - 0s 34us/step - loss: 0.5501 - accuracy: 0.7360\n",
      "Epoch 16/100\n",
      "4739/4739 [==============================] - 0s 41us/step - loss: 0.5496 - accuracy: 0.7345\n",
      "Epoch 17/100\n",
      "4739/4739 [==============================] - 0s 34us/step - loss: 0.5491 - accuracy: 0.7358\n",
      "Epoch 18/100\n",
      "4739/4739 [==============================] - 0s 38us/step - loss: 0.5489 - accuracy: 0.7348\n",
      "Epoch 19/100\n",
      "4739/4739 [==============================] - 0s 36us/step - loss: 0.5487 - accuracy: 0.7354\n",
      "Epoch 20/100\n",
      "4739/4739 [==============================] - 0s 34us/step - loss: 0.5478 - accuracy: 0.7352\n",
      "Epoch 21/100\n",
      "4739/4739 [==============================] - 0s 31us/step - loss: 0.5479 - accuracy: 0.7369\n",
      "Epoch 22/100\n",
      "4739/4739 [==============================] - 0s 31us/step - loss: 0.5477 - accuracy: 0.7371\n",
      "Epoch 23/100\n",
      "4739/4739 [==============================] - 0s 30us/step - loss: 0.5476 - accuracy: 0.7350\n",
      "Epoch 24/100\n",
      "4739/4739 [==============================] - 0s 41us/step - loss: 0.5466 - accuracy: 0.7343\n",
      "Epoch 25/100\n",
      "4739/4739 [==============================] - 0s 36us/step - loss: 0.5460 - accuracy: 0.7373\n",
      "Epoch 26/100\n",
      "4739/4739 [==============================] - 0s 33us/step - loss: 0.5459 - accuracy: 0.7356\n",
      "Epoch 27/100\n",
      "4739/4739 [==============================] - 0s 34us/step - loss: 0.5451 - accuracy: 0.7364\n",
      "Epoch 28/100\n",
      "4739/4739 [==============================] - 0s 32us/step - loss: 0.5451 - accuracy: 0.7383\n",
      "Epoch 29/100\n",
      "4739/4739 [==============================] - 0s 42us/step - loss: 0.5450 - accuracy: 0.7362\n",
      "Epoch 30/100\n",
      "4739/4739 [==============================] - 0s 40us/step - loss: 0.5444 - accuracy: 0.7360\n",
      "Epoch 31/100\n",
      "4739/4739 [==============================] - 0s 32us/step - loss: 0.5450 - accuracy: 0.7369\n",
      "Epoch 32/100\n",
      "4739/4739 [==============================] - 0s 35us/step - loss: 0.5448 - accuracy: 0.7373\n",
      "Epoch 33/100\n",
      "4739/4739 [==============================] - 0s 34us/step - loss: 0.5443 - accuracy: 0.7358\n",
      "Epoch 34/100\n",
      "4739/4739 [==============================] - 0s 38us/step - loss: 0.5442 - accuracy: 0.7343\n",
      "Epoch 35/100\n",
      "4739/4739 [==============================] - 0s 37us/step - loss: 0.5440 - accuracy: 0.7367\n",
      "Epoch 36/100\n",
      "4739/4739 [==============================] - 0s 30us/step - loss: 0.5440 - accuracy: 0.7402\n",
      "Epoch 37/100\n",
      "4739/4739 [==============================] - 0s 33us/step - loss: 0.5437 - accuracy: 0.7345\n",
      "Epoch 38/100\n",
      "4739/4739 [==============================] - 0s 35us/step - loss: 0.5438 - accuracy: 0.7362\n",
      "Epoch 39/100\n",
      "4739/4739 [==============================] - 0s 40us/step - loss: 0.5436 - accuracy: 0.7369\n",
      "Epoch 40/100\n",
      "4739/4739 [==============================] - 0s 42us/step - loss: 0.5436 - accuracy: 0.7364\n",
      "Epoch 41/100\n",
      "4739/4739 [==============================] - 0s 36us/step - loss: 0.5432 - accuracy: 0.7350\n",
      "Epoch 42/100\n",
      "4739/4739 [==============================] - 0s 31us/step - loss: 0.5433 - accuracy: 0.7371\n",
      "Epoch 43/100\n",
      "4739/4739 [==============================] - 0s 39us/step - loss: 0.5427 - accuracy: 0.7371\n",
      "Epoch 44/100\n",
      "4739/4739 [==============================] - 0s 31us/step - loss: 0.5431 - accuracy: 0.7356\n",
      "Epoch 45/100\n",
      "4739/4739 [==============================] - 0s 31us/step - loss: 0.5427 - accuracy: 0.7369\n",
      "Epoch 46/100\n",
      "4739/4739 [==============================] - 0s 31us/step - loss: 0.5430 - accuracy: 0.7383\n",
      "Epoch 47/100\n",
      "4739/4739 [==============================] - 0s 31us/step - loss: 0.5429 - accuracy: 0.7392\n",
      "Epoch 48/100\n",
      "4739/4739 [==============================] - 0s 40us/step - loss: 0.5431 - accuracy: 0.7367\n",
      "Epoch 49/100\n",
      "4739/4739 [==============================] - 0s 38us/step - loss: 0.5426 - accuracy: 0.7373\n",
      "Epoch 50/100\n",
      "4739/4739 [==============================] - 0s 32us/step - loss: 0.5434 - accuracy: 0.7362\n",
      "Epoch 51/100\n",
      "4739/4739 [==============================] - 0s 37us/step - loss: 0.5434 - accuracy: 0.7379\n",
      "Epoch 52/100\n",
      "4739/4739 [==============================] - 0s 29us/step - loss: 0.5430 - accuracy: 0.7381\n",
      "Epoch 53/100\n",
      "4739/4739 [==============================] - 0s 32us/step - loss: 0.5427 - accuracy: 0.7392\n",
      "Epoch 54/100\n",
      "4739/4739 [==============================] - 0s 35us/step - loss: 0.5429 - accuracy: 0.7360\n",
      "Epoch 55/100\n",
      "4739/4739 [==============================] - 0s 37us/step - loss: 0.5429 - accuracy: 0.7362\n",
      "Epoch 56/100\n"
     ]
    },
    {
     "name": "stdout",
     "output_type": "stream",
     "text": [
      "4739/4739 [==============================] - 0s 38us/step - loss: 0.5427 - accuracy: 0.7369\n",
      "Epoch 57/100\n",
      "4739/4739 [==============================] - 0s 37us/step - loss: 0.5420 - accuracy: 0.7375\n",
      "Epoch 58/100\n",
      "4739/4739 [==============================] - 0s 31us/step - loss: 0.5435 - accuracy: 0.7369\n",
      "Epoch 59/100\n",
      "4739/4739 [==============================] - 0s 34us/step - loss: 0.5421 - accuracy: 0.7362\n",
      "Epoch 60/100\n",
      "4739/4739 [==============================] - 0s 31us/step - loss: 0.5425 - accuracy: 0.7352\n",
      "Epoch 61/100\n",
      "4739/4739 [==============================] - 0s 37us/step - loss: 0.5421 - accuracy: 0.7364\n",
      "Epoch 62/100\n",
      "4739/4739 [==============================] - 0s 36us/step - loss: 0.5422 - accuracy: 0.7373\n",
      "Epoch 63/100\n",
      "4739/4739 [==============================] - 0s 38us/step - loss: 0.5427 - accuracy: 0.7354\n",
      "Epoch 64/100\n",
      "4739/4739 [==============================] - 0s 38us/step - loss: 0.5421 - accuracy: 0.7360\n",
      "Epoch 65/100\n",
      "4739/4739 [==============================] - 0s 32us/step - loss: 0.5412 - accuracy: 0.7348\n",
      "Epoch 66/100\n",
      "4739/4739 [==============================] - 0s 34us/step - loss: 0.5434 - accuracy: 0.7333\n",
      "Epoch 67/100\n",
      "4739/4739 [==============================] - 0s 34us/step - loss: 0.5422 - accuracy: 0.7373\n",
      "Epoch 68/100\n",
      "4739/4739 [==============================] - 0s 36us/step - loss: 0.5424 - accuracy: 0.7369\n",
      "Epoch 69/100\n",
      "4739/4739 [==============================] - 0s 30us/step - loss: 0.5416 - accuracy: 0.7383\n",
      "Epoch 70/100\n",
      "4739/4739 [==============================] - 0s 35us/step - loss: 0.5423 - accuracy: 0.7360\n",
      "Epoch 71/100\n",
      "4739/4739 [==============================] - 0s 30us/step - loss: 0.5415 - accuracy: 0.7356\n",
      "Epoch 72/100\n",
      "4739/4739 [==============================] - 0s 43us/step - loss: 0.5416 - accuracy: 0.7386\n",
      "Epoch 73/100\n",
      "4739/4739 [==============================] - 0s 38us/step - loss: 0.5413 - accuracy: 0.7364\n",
      "Epoch 74/100\n",
      "4739/4739 [==============================] - 0s 40us/step - loss: 0.5414 - accuracy: 0.7392\n",
      "Epoch 75/100\n",
      "4739/4739 [==============================] - 0s 36us/step - loss: 0.5408 - accuracy: 0.7364\n",
      "Epoch 76/100\n",
      "4739/4739 [==============================] - 0s 39us/step - loss: 0.5413 - accuracy: 0.7339\n",
      "Epoch 77/100\n",
      "4739/4739 [==============================] - 0s 37us/step - loss: 0.5415 - accuracy: 0.7358\n",
      "Epoch 78/100\n",
      "4739/4739 [==============================] - 0s 42us/step - loss: 0.5417 - accuracy: 0.7371\n",
      "Epoch 79/100\n",
      "4739/4739 [==============================] - 0s 35us/step - loss: 0.5413 - accuracy: 0.7367\n",
      "Epoch 80/100\n",
      "4739/4739 [==============================] - 0s 43us/step - loss: 0.5410 - accuracy: 0.7377\n",
      "Epoch 81/100\n",
      "4739/4739 [==============================] - 0s 36us/step - loss: 0.5420 - accuracy: 0.7356\n",
      "Epoch 82/100\n",
      "4739/4739 [==============================] - 0s 32us/step - loss: 0.5412 - accuracy: 0.7369\n",
      "Epoch 83/100\n",
      "4739/4739 [==============================] - 0s 33us/step - loss: 0.5407 - accuracy: 0.7369\n",
      "Epoch 84/100\n",
      "4739/4739 [==============================] - 0s 30us/step - loss: 0.5417 - accuracy: 0.7354\n",
      "Epoch 85/100\n",
      "4739/4739 [==============================] - 0s 38us/step - loss: 0.5405 - accuracy: 0.7377\n",
      "Epoch 86/100\n",
      "4739/4739 [==============================] - 0s 39us/step - loss: 0.5407 - accuracy: 0.7373\n",
      "Epoch 87/100\n",
      "4739/4739 [==============================] - 0s 38us/step - loss: 0.5403 - accuracy: 0.7379\n",
      "Epoch 88/100\n",
      "4739/4739 [==============================] - 0s 32us/step - loss: 0.5407 - accuracy: 0.7367\n",
      "Epoch 89/100\n",
      "4739/4739 [==============================] - 0s 32us/step - loss: 0.5404 - accuracy: 0.7379\n",
      "Epoch 90/100\n",
      "4739/4739 [==============================] - 0s 35us/step - loss: 0.5404 - accuracy: 0.7375\n",
      "Epoch 91/100\n",
      "4739/4739 [==============================] - 0s 32us/step - loss: 0.5408 - accuracy: 0.7383\n",
      "Epoch 92/100\n",
      "4739/4739 [==============================] - 0s 40us/step - loss: 0.5408 - accuracy: 0.7371\n",
      "Epoch 93/100\n",
      "4739/4739 [==============================] - 0s 38us/step - loss: 0.5404 - accuracy: 0.7375\n",
      "Epoch 94/100\n",
      "4739/4739 [==============================] - 0s 36us/step - loss: 0.5402 - accuracy: 0.7360\n",
      "Epoch 95/100\n",
      "4739/4739 [==============================] - 0s 38us/step - loss: 0.5401 - accuracy: 0.7375\n",
      "Epoch 96/100\n",
      "4739/4739 [==============================] - 0s 35us/step - loss: 0.5402 - accuracy: 0.7381\n",
      "Epoch 97/100\n",
      "4739/4739 [==============================] - 0s 42us/step - loss: 0.5402 - accuracy: 0.7371\n",
      "Epoch 98/100\n",
      "4739/4739 [==============================] - 0s 33us/step - loss: 0.5400 - accuracy: 0.7371\n",
      "Epoch 99/100\n",
      "4739/4739 [==============================] - 0s 32us/step - loss: 0.5402 - accuracy: 0.7388\n",
      "Epoch 100/100\n",
      "4739/4739 [==============================] - 0s 37us/step - loss: 0.5399 - accuracy: 0.7367\n",
      "2370/2370 [==============================] - 0s 25us/step\n",
      "Epoch 1/100\n",
      "4740/4740 [==============================] - 0s 52us/step - loss: 0.6932 - accuracy: 0.4863\n",
      "Epoch 2/100\n",
      "4740/4740 [==============================] - 0s 33us/step - loss: 0.6931 - accuracy: 0.5078\n",
      "Epoch 3/100\n",
      "4740/4740 [==============================] - 0s 31us/step - loss: 0.6931 - accuracy: 0.5078\n",
      "Epoch 4/100\n",
      "4740/4740 [==============================] - 0s 32us/step - loss: 0.6931 - accuracy: 0.5078\n",
      "Epoch 5/100\n",
      "4740/4740 [==============================] - 0s 35us/step - loss: 0.6931 - accuracy: 0.5078\n",
      "Epoch 6/100\n",
      "4740/4740 [==============================] - 0s 35us/step - loss: 0.6931 - accuracy: 0.5078\n",
      "Epoch 7/100\n",
      "4740/4740 [==============================] - 0s 34us/step - loss: 0.6931 - accuracy: 0.5078\n",
      "Epoch 8/100\n",
      "4740/4740 [==============================] - 0s 31us/step - loss: 0.6931 - accuracy: 0.5078\n",
      "Epoch 9/100\n",
      "4740/4740 [==============================] - 0s 34us/step - loss: 0.6930 - accuracy: 0.5078\n",
      "Epoch 10/100\n",
      "4740/4740 [==============================] - 0s 33us/step - loss: 0.6931 - accuracy: 0.5078\n",
      "Epoch 11/100\n",
      "4740/4740 [==============================] - 0s 38us/step - loss: 0.6931 - accuracy: 0.5078\n",
      "Epoch 12/100\n",
      "4740/4740 [==============================] - 0s 35us/step - loss: 0.6931 - accuracy: 0.5078\n",
      "Epoch 13/100\n",
      "4740/4740 [==============================] - 0s 31us/step - loss: 0.6931 - accuracy: 0.5078\n",
      "Epoch 14/100\n",
      "4740/4740 [==============================] - 0s 37us/step - loss: 0.6930 - accuracy: 0.5078\n",
      "Epoch 15/100\n",
      "4740/4740 [==============================] - 0s 36us/step - loss: 0.6931 - accuracy: 0.5078\n",
      "Epoch 16/100\n",
      "4740/4740 [==============================] - 0s 31us/step - loss: 0.6931 - accuracy: 0.5078\n",
      "Epoch 17/100\n",
      "4740/4740 [==============================] - 0s 32us/step - loss: 0.6931 - accuracy: 0.5078\n",
      "Epoch 18/100\n",
      "4740/4740 [==============================] - 0s 30us/step - loss: 0.6931 - accuracy: 0.5078\n",
      "Epoch 19/100\n",
      "4740/4740 [==============================] - 0s 35us/step - loss: 0.6931 - accuracy: 0.5078\n",
      "Epoch 20/100\n",
      "4740/4740 [==============================] - 0s 32us/step - loss: 0.6931 - accuracy: 0.5078\n",
      "Epoch 21/100\n",
      "4740/4740 [==============================] - 0s 29us/step - loss: 0.6931 - accuracy: 0.5078\n",
      "Epoch 22/100\n",
      "4740/4740 [==============================] - 0s 32us/step - loss: 0.6931 - accuracy: 0.5078\n",
      "Epoch 23/100\n",
      "4740/4740 [==============================] - 0s 35us/step - loss: 0.6931 - accuracy: 0.5078\n",
      "Epoch 24/100\n",
      "4740/4740 [==============================] - 0s 34us/step - loss: 0.6931 - accuracy: 0.5078\n",
      "Epoch 25/100\n",
      "4740/4740 [==============================] - 0s 33us/step - loss: 0.6931 - accuracy: 0.5078\n",
      "Epoch 26/100\n",
      "4740/4740 [==============================] - 0s 34us/step - loss: 0.6931 - accuracy: 0.5078\n",
      "Epoch 27/100\n",
      "4740/4740 [==============================] - 0s 34us/step - loss: 0.6931 - accuracy: 0.5078\n",
      "Epoch 28/100\n",
      "4740/4740 [==============================] - 0s 31us/step - loss: 0.6931 - accuracy: 0.5078\n",
      "Epoch 29/100\n",
      "4740/4740 [==============================] - 0s 34us/step - loss: 0.6931 - accuracy: 0.5078\n",
      "Epoch 30/100\n",
      "4740/4740 [==============================] - 0s 38us/step - loss: 0.6931 - accuracy: 0.5078\n",
      "Epoch 31/100\n",
      "4740/4740 [==============================] - 0s 37us/step - loss: 0.6931 - accuracy: 0.5078\n",
      "Epoch 32/100\n",
      "4740/4740 [==============================] - 0s 34us/step - loss: 0.6931 - accuracy: 0.5078\n",
      "Epoch 33/100\n"
     ]
    },
    {
     "name": "stdout",
     "output_type": "stream",
     "text": [
      "4740/4740 [==============================] - 0s 35us/step - loss: 0.6931 - accuracy: 0.5078\n",
      "Epoch 34/100\n",
      "4740/4740 [==============================] - 0s 33us/step - loss: 0.6930 - accuracy: 0.5078\n",
      "Epoch 35/100\n",
      "4740/4740 [==============================] - 0s 37us/step - loss: 0.6931 - accuracy: 0.5078\n",
      "Epoch 36/100\n",
      "4740/4740 [==============================] - 0s 35us/step - loss: 0.6931 - accuracy: 0.5078\n",
      "Epoch 37/100\n",
      "4740/4740 [==============================] - 0s 33us/step - loss: 0.6931 - accuracy: 0.5078\n",
      "Epoch 38/100\n",
      "4740/4740 [==============================] - 0s 41us/step - loss: 0.6931 - accuracy: 0.5078\n",
      "Epoch 39/100\n",
      "4740/4740 [==============================] - 0s 39us/step - loss: 0.6931 - accuracy: 0.5078\n",
      "Epoch 40/100\n",
      "4740/4740 [==============================] - 0s 36us/step - loss: 0.6931 - accuracy: 0.5078\n",
      "Epoch 41/100\n",
      "4740/4740 [==============================] - 0s 32us/step - loss: 0.6931 - accuracy: 0.5078\n",
      "Epoch 42/100\n",
      "4740/4740 [==============================] - 0s 32us/step - loss: 0.6931 - accuracy: 0.5078\n",
      "Epoch 43/100\n",
      "4740/4740 [==============================] - 0s 38us/step - loss: 0.6931 - accuracy: 0.5078\n",
      "Epoch 44/100\n",
      "4740/4740 [==============================] - 0s 37us/step - loss: 0.6931 - accuracy: 0.5078\n",
      "Epoch 45/100\n",
      "4740/4740 [==============================] - 0s 34us/step - loss: 0.6931 - accuracy: 0.5078\n",
      "Epoch 46/100\n",
      "4740/4740 [==============================] - 0s 32us/step - loss: 0.6931 - accuracy: 0.5078\n",
      "Epoch 47/100\n",
      "4740/4740 [==============================] - 0s 35us/step - loss: 0.6931 - accuracy: 0.5078\n",
      "Epoch 48/100\n",
      "4740/4740 [==============================] - 0s 32us/step - loss: 0.6931 - accuracy: 0.5078\n",
      "Epoch 49/100\n",
      "4740/4740 [==============================] - 0s 38us/step - loss: 0.6931 - accuracy: 0.5078\n",
      "Epoch 50/100\n",
      "4740/4740 [==============================] - 0s 39us/step - loss: 0.6931 - accuracy: 0.5078\n",
      "Epoch 51/100\n",
      "4740/4740 [==============================] - 0s 35us/step - loss: 0.6931 - accuracy: 0.5078\n",
      "Epoch 52/100\n",
      "4740/4740 [==============================] - 0s 33us/step - loss: 0.6931 - accuracy: 0.5078\n",
      "Epoch 53/100\n",
      "4740/4740 [==============================] - 0s 35us/step - loss: 0.6931 - accuracy: 0.5078\n",
      "Epoch 54/100\n",
      "4740/4740 [==============================] - 0s 35us/step - loss: 0.6931 - accuracy: 0.5078\n",
      "Epoch 55/100\n",
      "4740/4740 [==============================] - 0s 31us/step - loss: 0.6931 - accuracy: 0.5078\n",
      "Epoch 56/100\n",
      "4740/4740 [==============================] - 0s 31us/step - loss: 0.6931 - accuracy: 0.5078\n",
      "Epoch 57/100\n",
      "4740/4740 [==============================] - 0s 30us/step - loss: 0.6931 - accuracy: 0.5078\n",
      "Epoch 58/100\n",
      "4740/4740 [==============================] - 0s 35us/step - loss: 0.6931 - accuracy: 0.5078\n",
      "Epoch 59/100\n",
      "4740/4740 [==============================] - 0s 33us/step - loss: 0.6931 - accuracy: 0.5078\n",
      "Epoch 60/100\n",
      "4740/4740 [==============================] - 0s 34us/step - loss: 0.6931 - accuracy: 0.5078\n",
      "Epoch 61/100\n",
      "4740/4740 [==============================] - 0s 34us/step - loss: 0.6931 - accuracy: 0.5078\n",
      "Epoch 62/100\n",
      "4740/4740 [==============================] - 0s 32us/step - loss: 0.6931 - accuracy: 0.5078\n",
      "Epoch 63/100\n",
      "4740/4740 [==============================] - 0s 31us/step - loss: 0.6931 - accuracy: 0.5078\n",
      "Epoch 64/100\n",
      "4740/4740 [==============================] - 0s 35us/step - loss: 0.6931 - accuracy: 0.5078\n",
      "Epoch 65/100\n",
      "4740/4740 [==============================] - 0s 30us/step - loss: 0.6931 - accuracy: 0.5078\n",
      "Epoch 66/100\n",
      "4740/4740 [==============================] - 0s 28us/step - loss: 0.6931 - accuracy: 0.5078\n",
      "Epoch 67/100\n",
      "4740/4740 [==============================] - 0s 37us/step - loss: 0.6931 - accuracy: 0.5078\n",
      "Epoch 68/100\n",
      "4740/4740 [==============================] - 0s 35us/step - loss: 0.6931 - accuracy: 0.5078\n",
      "Epoch 69/100\n",
      "4740/4740 [==============================] - 0s 36us/step - loss: 0.6930 - accuracy: 0.5078\n",
      "Epoch 70/100\n",
      "4740/4740 [==============================] - 0s 31us/step - loss: 0.6931 - accuracy: 0.5078\n",
      "Epoch 71/100\n",
      "4740/4740 [==============================] - 0s 36us/step - loss: 0.6931 - accuracy: 0.5078\n",
      "Epoch 72/100\n",
      "4740/4740 [==============================] - 0s 33us/step - loss: 0.6931 - accuracy: 0.5078\n",
      "Epoch 73/100\n",
      "4740/4740 [==============================] - 0s 31us/step - loss: 0.6930 - accuracy: 0.5078\n",
      "Epoch 74/100\n",
      "4740/4740 [==============================] - 0s 32us/step - loss: 0.6931 - accuracy: 0.5078\n",
      "Epoch 75/100\n",
      "4740/4740 [==============================] - 0s 32us/step - loss: 0.6931 - accuracy: 0.5078\n",
      "Epoch 76/100\n",
      "4740/4740 [==============================] - 0s 28us/step - loss: 0.6931 - accuracy: 0.5078\n",
      "Epoch 77/100\n",
      "4740/4740 [==============================] - 0s 31us/step - loss: 0.6931 - accuracy: 0.5078\n",
      "Epoch 78/100\n",
      "4740/4740 [==============================] - 0s 35us/step - loss: 0.6931 - accuracy: 0.5078\n",
      "Epoch 79/100\n",
      "4740/4740 [==============================] - 0s 31us/step - loss: 0.6931 - accuracy: 0.5078\n",
      "Epoch 80/100\n",
      "4740/4740 [==============================] - 0s 32us/step - loss: 0.6931 - accuracy: 0.5078\n",
      "Epoch 81/100\n",
      "4740/4740 [==============================] - 0s 37us/step - loss: 0.6930 - accuracy: 0.5078\n",
      "Epoch 82/100\n",
      "4740/4740 [==============================] - 0s 37us/step - loss: 0.6931 - accuracy: 0.5078\n",
      "Epoch 83/100\n",
      "4740/4740 [==============================] - 0s 36us/step - loss: 0.6931 - accuracy: 0.5078\n",
      "Epoch 84/100\n",
      "4740/4740 [==============================] - 0s 34us/step - loss: 0.6931 - accuracy: 0.5078\n",
      "Epoch 85/100\n",
      "4740/4740 [==============================] - 0s 38us/step - loss: 0.6931 - accuracy: 0.5078\n",
      "Epoch 86/100\n",
      "4740/4740 [==============================] - 0s 34us/step - loss: 0.6931 - accuracy: 0.5078\n",
      "Epoch 87/100\n",
      "4740/4740 [==============================] - 0s 30us/step - loss: 0.6930 - accuracy: 0.5078\n",
      "Epoch 88/100\n",
      "4740/4740 [==============================] - 0s 35us/step - loss: 0.6931 - accuracy: 0.5078\n",
      "Epoch 89/100\n",
      "4740/4740 [==============================] - 0s 35us/step - loss: 0.6931 - accuracy: 0.5078\n",
      "Epoch 90/100\n",
      "4740/4740 [==============================] - 0s 33us/step - loss: 0.6931 - accuracy: 0.5078\n",
      "Epoch 91/100\n",
      "4740/4740 [==============================] - 0s 35us/step - loss: 0.6931 - accuracy: 0.5078\n",
      "Epoch 92/100\n",
      "4740/4740 [==============================] - 0s 32us/step - loss: 0.6931 - accuracy: 0.5078\n",
      "Epoch 93/100\n",
      "4740/4740 [==============================] - 0s 29us/step - loss: 0.6931 - accuracy: 0.5078\n",
      "Epoch 94/100\n",
      "4740/4740 [==============================] - 0s 30us/step - loss: 0.6931 - accuracy: 0.5078\n",
      "Epoch 95/100\n",
      "4740/4740 [==============================] - 0s 33us/step - loss: 0.6931 - accuracy: 0.5078\n",
      "Epoch 96/100\n",
      "4740/4740 [==============================] - 0s 31us/step - loss: 0.6931 - accuracy: 0.5078\n",
      "Epoch 97/100\n",
      "4740/4740 [==============================] - 0s 32us/step - loss: 0.6931 - accuracy: 0.5078\n",
      "Epoch 98/100\n",
      "4740/4740 [==============================] - 0s 30us/step - loss: 0.6931 - accuracy: 0.5078\n",
      "Epoch 99/100\n",
      "4740/4740 [==============================] - 0s 32us/step - loss: 0.6931 - accuracy: 0.5078\n",
      "Epoch 100/100\n",
      "4740/4740 [==============================] - 0s 30us/step - loss: 0.6931 - accuracy: 0.5078\n",
      "2369/2369 [==============================] - 0s 28us/step\n",
      "Accuracy mean: 0.6488734384377798\n",
      "Accuracy variance: 0.11229222642818\n"
     ]
    }
   ],
   "source": [
    "from keras.wrappers.scikit_learn import KerasClassifier\n",
    "from sklearn.model_selection import cross_val_score\n",
    "from keras.models import Sequential # initialize neural network library \n",
    "from keras.layers import Dense # build our layers library\n",
    "def build_classifier():\n",
    "    classifier = Sequential() # initialize neural network\n",
    "    classifier.add(Dense(units = 7, kernel_initializer = 'uniform', activation = 'relu', input_dim = x_train.shape[1])) # we use dimension of x_train as input\n",
    "    classifier.add(Dense(units = 4, kernel_initializer = 'uniform', activation = 'relu')) # we use 4 nodes in first layer\n",
    "    classifier.add(Dense(units = 1, kernel_initializer = 'uniform', activation = 'sigmoid')) # if we use sigmoid function it means we add output layer\n",
    "    classifier.compile(optimizer = 'adam', loss = 'binary_crossentropy', metrics = ['accuracy']) # we will use accuracy as metrics\n",
    "    return classifier\n",
    "\n",
    "classifier = KerasClassifier(build_fn = build_classifier, epochs = 100) # epochs means that is number of iteration \n",
    "accuracies = cross_val_score(estimator = classifier, X = x_train, y = y_train, cv = 3)\n",
    "mean = accuracies.mean()\n",
    "variance = accuracies.std()\n",
    "print(\"Accuracy mean: \"+ str(mean))\n",
    "print(\"Accuracy variance: \"+ str(variance))"
   ]
  },
  {
   "cell_type": "code",
   "execution_count": 56,
   "metadata": {},
   "outputs": [],
   "source": [
    "dict_of_values = {'ANN_Num': [], 'CV': [],'epochs': [] , 'accuracy': [] }\n",
    "data_temproray = pd.DataFrame.from_dict(dict_of_values)"
   ]
  },
  {
   "cell_type": "code",
   "execution_count": 57,
   "metadata": {},
   "outputs": [],
   "source": [
    "data_temproray.ANN_Num = [2]\n",
    "data_temproray.CV = [3]\n",
    "data_temproray.epochs = [100]\n",
    "data_temproray.accuracy = [0.6558003964712986]"
   ]
  },
  {
   "cell_type": "code",
   "execution_count": 58,
   "metadata": {},
   "outputs": [
    {
     "data": {
      "text/html": [
       "<div>\n",
       "<style scoped>\n",
       "    .dataframe tbody tr th:only-of-type {\n",
       "        vertical-align: middle;\n",
       "    }\n",
       "\n",
       "    .dataframe tbody tr th {\n",
       "        vertical-align: top;\n",
       "    }\n",
       "\n",
       "    .dataframe thead th {\n",
       "        text-align: right;\n",
       "    }\n",
       "</style>\n",
       "<table border=\"1\" class=\"dataframe\">\n",
       "  <thead>\n",
       "    <tr style=\"text-align: right;\">\n",
       "      <th></th>\n",
       "      <th>ANN_Num</th>\n",
       "      <th>CV</th>\n",
       "      <th>epochs</th>\n",
       "      <th>accuracy</th>\n",
       "    </tr>\n",
       "  </thead>\n",
       "  <tbody>\n",
       "    <tr>\n",
       "      <th>0</th>\n",
       "      <td>2</td>\n",
       "      <td>3</td>\n",
       "      <td>100</td>\n",
       "      <td>0.6558</td>\n",
       "    </tr>\n",
       "  </tbody>\n",
       "</table>\n",
       "</div>"
      ],
      "text/plain": [
       "   ANN_Num  CV  epochs  accuracy\n",
       "0        2   3     100    0.6558"
      ]
     },
     "execution_count": 58,
     "metadata": {},
     "output_type": "execute_result"
    }
   ],
   "source": [
    "data_temproray.head()"
   ]
  },
  {
   "cell_type": "code",
   "execution_count": 59,
   "metadata": {},
   "outputs": [
    {
     "name": "stdout",
     "output_type": "stream",
     "text": [
      "Epoch 1/150\n",
      "5331/5331 [==============================] - 0s 46us/step - loss: 0.6930 - accuracy: 0.5059\n",
      "Epoch 2/150\n",
      "5331/5331 [==============================] - 0s 30us/step - loss: 0.6852 - accuracy: 0.6211\n",
      "Epoch 3/150\n",
      "5331/5331 [==============================] - 0s 33us/step - loss: 0.6475 - accuracy: 0.6907\n",
      "Epoch 4/150\n",
      "5331/5331 [==============================] - 0s 32us/step - loss: 0.5988 - accuracy: 0.7201\n",
      "Epoch 5/150\n",
      "5331/5331 [==============================] - 0s 31us/step - loss: 0.5706 - accuracy: 0.7239\n",
      "Epoch 6/150\n",
      "5331/5331 [==============================] - 0s 29us/step - loss: 0.5589 - accuracy: 0.7301\n",
      "Epoch 7/150\n",
      "5331/5331 [==============================] - 0s 32us/step - loss: 0.5553 - accuracy: 0.7306\n",
      "Epoch 8/150\n",
      "5331/5331 [==============================] - 0s 36us/step - loss: 0.5527 - accuracy: 0.7299\n",
      "Epoch 9/150\n",
      "5331/5331 [==============================] - 0s 32us/step - loss: 0.5516 - accuracy: 0.7329\n",
      "Epoch 10/150\n",
      "5331/5331 [==============================] - 0s 35us/step - loss: 0.5510 - accuracy: 0.7319\n",
      "Epoch 11/150\n",
      "5331/5331 [==============================] - 0s 36us/step - loss: 0.5510 - accuracy: 0.7329\n",
      "Epoch 12/150\n",
      "5331/5331 [==============================] - 0s 33us/step - loss: 0.5502 - accuracy: 0.7308\n",
      "Epoch 13/150\n",
      "5331/5331 [==============================] - 0s 29us/step - loss: 0.5502 - accuracy: 0.7308\n",
      "Epoch 14/150\n",
      "5331/5331 [==============================] - 0s 34us/step - loss: 0.5500 - accuracy: 0.7291\n",
      "Epoch 15/150\n",
      "5331/5331 [==============================] - 0s 33us/step - loss: 0.5493 - accuracy: 0.7289\n",
      "Epoch 16/150\n",
      "5331/5331 [==============================] - 0s 34us/step - loss: 0.5490 - accuracy: 0.7310\n",
      "Epoch 17/150\n",
      "5331/5331 [==============================] - 0s 35us/step - loss: 0.5493 - accuracy: 0.7297\n",
      "Epoch 18/150\n",
      "5331/5331 [==============================] - 0s 32us/step - loss: 0.5496 - accuracy: 0.7304\n",
      "Epoch 19/150\n",
      "5331/5331 [==============================] - 0s 37us/step - loss: 0.5487 - accuracy: 0.7318\n",
      "Epoch 20/150\n",
      "5331/5331 [==============================] - 0s 31us/step - loss: 0.5491 - accuracy: 0.7321\n",
      "Epoch 21/150\n",
      "5331/5331 [==============================] - 0s 33us/step - loss: 0.5487 - accuracy: 0.7308\n",
      "Epoch 22/150\n",
      "5331/5331 [==============================] - 0s 37us/step - loss: 0.5489 - accuracy: 0.7304\n",
      "Epoch 23/150\n",
      "5331/5331 [==============================] - 0s 31us/step - loss: 0.5480 - accuracy: 0.7306\n",
      "Epoch 24/150\n",
      "5331/5331 [==============================] - 0s 32us/step - loss: 0.5483 - accuracy: 0.7319\n",
      "Epoch 25/150\n",
      "5331/5331 [==============================] - 0s 34us/step - loss: 0.5474 - accuracy: 0.7314\n",
      "Epoch 26/150\n",
      "5331/5331 [==============================] - 0s 36us/step - loss: 0.5487 - accuracy: 0.7303\n",
      "Epoch 27/150\n",
      "5331/5331 [==============================] - 0s 32us/step - loss: 0.5483 - accuracy: 0.7331\n",
      "Epoch 28/150\n",
      "5331/5331 [==============================] - 0s 32us/step - loss: 0.5477 - accuracy: 0.7338\n",
      "Epoch 29/150\n",
      "5331/5331 [==============================] - 0s 33us/step - loss: 0.5479 - accuracy: 0.7331\n",
      "Epoch 30/150\n",
      "5331/5331 [==============================] - 0s 38us/step - loss: 0.5480 - accuracy: 0.7321\n",
      "Epoch 31/150\n",
      "5331/5331 [==============================] - 0s 39us/step - loss: 0.5482 - accuracy: 0.7314\n",
      "Epoch 32/150\n",
      "5331/5331 [==============================] - 0s 35us/step - loss: 0.5478 - accuracy: 0.7329\n",
      "Epoch 33/150\n",
      "5331/5331 [==============================] - 0s 37us/step - loss: 0.5477 - accuracy: 0.7308\n",
      "Epoch 34/150\n",
      "5331/5331 [==============================] - 0s 36us/step - loss: 0.5478 - accuracy: 0.7316\n",
      "Epoch 35/150\n",
      "5331/5331 [==============================] - 0s 38us/step - loss: 0.5477 - accuracy: 0.7310\n",
      "Epoch 36/150\n",
      "5331/5331 [==============================] - 0s 34us/step - loss: 0.5476 - accuracy: 0.7325\n",
      "Epoch 37/150\n",
      "5331/5331 [==============================] - 0s 32us/step - loss: 0.5474 - accuracy: 0.7325\n",
      "Epoch 38/150\n",
      "5331/5331 [==============================] - 0s 30us/step - loss: 0.5475 - accuracy: 0.7336\n",
      "Epoch 39/150\n",
      "5331/5331 [==============================] - 0s 30us/step - loss: 0.5468 - accuracy: 0.7340\n",
      "Epoch 40/150\n",
      "5331/5331 [==============================] - 0s 30us/step - loss: 0.5470 - accuracy: 0.7318\n",
      "Epoch 41/150\n",
      "5331/5331 [==============================] - 0s 34us/step - loss: 0.5469 - accuracy: 0.7325\n",
      "Epoch 42/150\n",
      "5331/5331 [==============================] - 0s 33us/step - loss: 0.5465 - accuracy: 0.7308\n",
      "Epoch 43/150\n",
      "5331/5331 [==============================] - 0s 30us/step - loss: 0.5465 - accuracy: 0.7331\n",
      "Epoch 44/150\n",
      "5331/5331 [==============================] - 0s 33us/step - loss: 0.5470 - accuracy: 0.7334\n",
      "Epoch 45/150\n",
      "5331/5331 [==============================] - 0s 34us/step - loss: 0.5463 - accuracy: 0.7323\n",
      "Epoch 46/150\n",
      "5331/5331 [==============================] - 0s 31us/step - loss: 0.5467 - accuracy: 0.7316\n",
      "Epoch 47/150\n",
      "5331/5331 [==============================] - 0s 37us/step - loss: 0.5466 - accuracy: 0.7321\n",
      "Epoch 48/150\n",
      "5331/5331 [==============================] - 0s 29us/step - loss: 0.5462 - accuracy: 0.7327\n",
      "Epoch 49/150\n",
      "5331/5331 [==============================] - 0s 33us/step - loss: 0.5460 - accuracy: 0.7331\n",
      "Epoch 50/150\n",
      "5331/5331 [==============================] - 0s 36us/step - loss: 0.5459 - accuracy: 0.7331\n",
      "Epoch 51/150\n",
      "5331/5331 [==============================] - 0s 35us/step - loss: 0.5457 - accuracy: 0.7333\n",
      "Epoch 52/150\n",
      "5331/5331 [==============================] - 0s 31us/step - loss: 0.5460 - accuracy: 0.7346\n",
      "Epoch 53/150\n",
      "5331/5331 [==============================] - 0s 30us/step - loss: 0.5458 - accuracy: 0.7333\n",
      "Epoch 54/150\n",
      "5331/5331 [==============================] - 0s 35us/step - loss: 0.5458 - accuracy: 0.7323\n",
      "Epoch 55/150\n",
      "5331/5331 [==============================] - 0s 37us/step - loss: 0.5459 - accuracy: 0.7355\n",
      "Epoch 56/150\n",
      "5331/5331 [==============================] - 0s 36us/step - loss: 0.5457 - accuracy: 0.7342\n",
      "Epoch 57/150\n",
      "5331/5331 [==============================] - 0s 30us/step - loss: 0.5456 - accuracy: 0.7340\n",
      "Epoch 58/150\n",
      "5331/5331 [==============================] - 0s 31us/step - loss: 0.5457 - accuracy: 0.7310\n",
      "Epoch 59/150\n",
      "5331/5331 [==============================] - 0s 38us/step - loss: 0.5453 - accuracy: 0.7338\n",
      "Epoch 60/150\n",
      "5331/5331 [==============================] - 0s 36us/step - loss: 0.5444 - accuracy: 0.7344\n",
      "Epoch 61/150\n",
      "5331/5331 [==============================] - 0s 33us/step - loss: 0.5446 - accuracy: 0.7340\n",
      "Epoch 62/150\n",
      "5331/5331 [==============================] - 0s 31us/step - loss: 0.5448 - accuracy: 0.7316\n",
      "Epoch 63/150\n",
      "5331/5331 [==============================] - 0s 36us/step - loss: 0.5447 - accuracy: 0.7331\n",
      "Epoch 64/150\n",
      "5331/5331 [==============================] - 0s 32us/step - loss: 0.5452 - accuracy: 0.7342\n",
      "Epoch 65/150\n",
      "5331/5331 [==============================] - 0s 34us/step - loss: 0.5447 - accuracy: 0.7342\n",
      "Epoch 66/150\n",
      "5331/5331 [==============================] - 0s 33us/step - loss: 0.5452 - accuracy: 0.7310\n",
      "Epoch 67/150\n",
      "5331/5331 [==============================] - 0s 33us/step - loss: 0.5445 - accuracy: 0.7334\n",
      "Epoch 68/150\n",
      "5331/5331 [==============================] - 0s 30us/step - loss: 0.5443 - accuracy: 0.7329\n",
      "Epoch 69/150\n",
      "5331/5331 [==============================] - 0s 32us/step - loss: 0.5443 - accuracy: 0.7329\n",
      "Epoch 70/150\n",
      "5331/5331 [==============================] - 0s 34us/step - loss: 0.5443 - accuracy: 0.7333\n",
      "Epoch 71/150\n",
      "5331/5331 [==============================] - 0s 35us/step - loss: 0.5442 - accuracy: 0.7357\n",
      "Epoch 72/150\n",
      "5331/5331 [==============================] - 0s 29us/step - loss: 0.5452 - accuracy: 0.7314\n",
      "Epoch 73/150\n",
      "5331/5331 [==============================] - 0s 31us/step - loss: 0.5440 - accuracy: 0.7323\n",
      "Epoch 74/150\n",
      "5331/5331 [==============================] - 0s 35us/step - loss: 0.5439 - accuracy: 0.7325\n",
      "Epoch 75/150\n",
      "5331/5331 [==============================] - 0s 33us/step - loss: 0.5439 - accuracy: 0.7329\n",
      "Epoch 76/150\n",
      "5331/5331 [==============================] - 0s 34us/step - loss: 0.5440 - accuracy: 0.7359\n",
      "Epoch 77/150\n",
      "5331/5331 [==============================] - 0s 33us/step - loss: 0.5441 - accuracy: 0.7336\n",
      "Epoch 78/150\n",
      "5331/5331 [==============================] - 0s 31us/step - loss: 0.5447 - accuracy: 0.7319\n",
      "Epoch 79/150\n"
     ]
    },
    {
     "name": "stdout",
     "output_type": "stream",
     "text": [
      "5331/5331 [==============================] - 0s 32us/step - loss: 0.5438 - accuracy: 0.7316\n",
      "Epoch 80/150\n",
      "5331/5331 [==============================] - 0s 32us/step - loss: 0.5438 - accuracy: 0.7314\n",
      "Epoch 81/150\n",
      "5331/5331 [==============================] - 0s 34us/step - loss: 0.5434 - accuracy: 0.7316\n",
      "Epoch 82/150\n",
      "5331/5331 [==============================] - 0s 31us/step - loss: 0.5436 - accuracy: 0.7334\n",
      "Epoch 83/150\n",
      "5331/5331 [==============================] - 0s 35us/step - loss: 0.5435 - accuracy: 0.7340\n",
      "Epoch 84/150\n",
      "5331/5331 [==============================] - 0s 30us/step - loss: 0.5431 - accuracy: 0.7351\n",
      "Epoch 85/150\n",
      "5331/5331 [==============================] - 0s 34us/step - loss: 0.5429 - accuracy: 0.7338\n",
      "Epoch 86/150\n",
      "5331/5331 [==============================] - 0s 32us/step - loss: 0.5428 - accuracy: 0.7353\n",
      "Epoch 87/150\n",
      "5331/5331 [==============================] - 0s 35us/step - loss: 0.5431 - accuracy: 0.7333\n",
      "Epoch 88/150\n",
      "5331/5331 [==============================] - 0s 31us/step - loss: 0.5430 - accuracy: 0.7318\n",
      "Epoch 89/150\n",
      "5331/5331 [==============================] - 0s 34us/step - loss: 0.5428 - accuracy: 0.7338\n",
      "Epoch 90/150\n",
      "5331/5331 [==============================] - 0s 32us/step - loss: 0.5429 - accuracy: 0.7325\n",
      "Epoch 91/150\n",
      "5331/5331 [==============================] - 0s 29us/step - loss: 0.5425 - accuracy: 0.7364\n",
      "Epoch 92/150\n",
      "5331/5331 [==============================] - 0s 30us/step - loss: 0.5426 - accuracy: 0.7346\n",
      "Epoch 93/150\n",
      "5331/5331 [==============================] - 0s 32us/step - loss: 0.5424 - accuracy: 0.7340\n",
      "Epoch 94/150\n",
      "5331/5331 [==============================] - 0s 31us/step - loss: 0.5423 - accuracy: 0.7349\n",
      "Epoch 95/150\n",
      "5331/5331 [==============================] - 0s 32us/step - loss: 0.5420 - accuracy: 0.7346\n",
      "Epoch 96/150\n",
      "5331/5331 [==============================] - 0s 36us/step - loss: 0.5422 - accuracy: 0.7325\n",
      "Epoch 97/150\n",
      "5331/5331 [==============================] - 0s 32us/step - loss: 0.5423 - accuracy: 0.7318\n",
      "Epoch 98/150\n",
      "5331/5331 [==============================] - 0s 33us/step - loss: 0.5428 - accuracy: 0.7344\n",
      "Epoch 99/150\n",
      "5331/5331 [==============================] - 0s 33us/step - loss: 0.5420 - accuracy: 0.7331\n",
      "Epoch 100/150\n",
      "5331/5331 [==============================] - 0s 32us/step - loss: 0.5419 - accuracy: 0.7333\n",
      "Epoch 101/150\n",
      "5331/5331 [==============================] - 0s 35us/step - loss: 0.5417 - accuracy: 0.7346\n",
      "Epoch 102/150\n",
      "5331/5331 [==============================] - 0s 34us/step - loss: 0.5417 - accuracy: 0.7334\n",
      "Epoch 103/150\n",
      "5331/5331 [==============================] - 0s 30us/step - loss: 0.5419 - accuracy: 0.7329\n",
      "Epoch 104/150\n",
      "5331/5331 [==============================] - 0s 32us/step - loss: 0.5415 - accuracy: 0.7342\n",
      "Epoch 105/150\n",
      "5331/5331 [==============================] - 0s 36us/step - loss: 0.5411 - accuracy: 0.7321\n",
      "Epoch 106/150\n",
      "5331/5331 [==============================] - 0s 36us/step - loss: 0.5416 - accuracy: 0.7338\n",
      "Epoch 107/150\n",
      "5331/5331 [==============================] - 0s 30us/step - loss: 0.5415 - accuracy: 0.7323\n",
      "Epoch 108/150\n",
      "5331/5331 [==============================] - 0s 30us/step - loss: 0.5411 - accuracy: 0.7336\n",
      "Epoch 109/150\n",
      "5331/5331 [==============================] - 0s 36us/step - loss: 0.5412 - accuracy: 0.7323\n",
      "Epoch 110/150\n",
      "5331/5331 [==============================] - 0s 32us/step - loss: 0.5409 - accuracy: 0.7318\n",
      "Epoch 111/150\n",
      "5331/5331 [==============================] - 0s 28us/step - loss: 0.5405 - accuracy: 0.7318\n",
      "Epoch 112/150\n",
      "5331/5331 [==============================] - 0s 31us/step - loss: 0.5410 - accuracy: 0.7342\n",
      "Epoch 113/150\n",
      "5331/5331 [==============================] - 0s 31us/step - loss: 0.5410 - accuracy: 0.7319\n",
      "Epoch 114/150\n",
      "5331/5331 [==============================] - 0s 34us/step - loss: 0.5411 - accuracy: 0.7329\n",
      "Epoch 115/150\n",
      "5331/5331 [==============================] - 0s 31us/step - loss: 0.5415 - accuracy: 0.7331\n",
      "Epoch 116/150\n",
      "5331/5331 [==============================] - 0s 31us/step - loss: 0.5403 - accuracy: 0.7316\n",
      "Epoch 117/150\n",
      "5331/5331 [==============================] - 0s 39us/step - loss: 0.5403 - accuracy: 0.7340\n",
      "Epoch 118/150\n",
      "5331/5331 [==============================] - 0s 36us/step - loss: 0.5409 - accuracy: 0.7357\n",
      "Epoch 119/150\n",
      "5331/5331 [==============================] - 0s 29us/step - loss: 0.5403 - accuracy: 0.7303\n",
      "Epoch 120/150\n",
      "5331/5331 [==============================] - 0s 32us/step - loss: 0.5406 - accuracy: 0.7323\n",
      "Epoch 121/150\n",
      "5331/5331 [==============================] - 0s 32us/step - loss: 0.5400 - accuracy: 0.7321\n",
      "Epoch 122/150\n",
      "5331/5331 [==============================] - 0s 33us/step - loss: 0.5399 - accuracy: 0.7336\n",
      "Epoch 123/150\n",
      "5331/5331 [==============================] - 0s 31us/step - loss: 0.5400 - accuracy: 0.7336\n",
      "Epoch 124/150\n",
      "5331/5331 [==============================] - 0s 27us/step - loss: 0.5400 - accuracy: 0.7319\n",
      "Epoch 125/150\n",
      "5331/5331 [==============================] - 0s 32us/step - loss: 0.5397 - accuracy: 0.7340\n",
      "Epoch 126/150\n",
      "5331/5331 [==============================] - 0s 33us/step - loss: 0.5396 - accuracy: 0.7349\n",
      "Epoch 127/150\n",
      "5331/5331 [==============================] - 0s 34us/step - loss: 0.5406 - accuracy: 0.7318\n",
      "Epoch 128/150\n",
      "5331/5331 [==============================] - 0s 33us/step - loss: 0.5398 - accuracy: 0.7340\n",
      "Epoch 129/150\n",
      "5331/5331 [==============================] - 0s 32us/step - loss: 0.5400 - accuracy: 0.7304\n",
      "Epoch 130/150\n",
      "5331/5331 [==============================] - 0s 31us/step - loss: 0.5390 - accuracy: 0.7346\n",
      "Epoch 131/150\n",
      "5331/5331 [==============================] - 0s 32us/step - loss: 0.5395 - accuracy: 0.7327\n",
      "Epoch 132/150\n",
      "5331/5331 [==============================] - 0s 35us/step - loss: 0.5391 - accuracy: 0.7331\n",
      "Epoch 133/150\n",
      "5331/5331 [==============================] - 0s 30us/step - loss: 0.5390 - accuracy: 0.7329\n",
      "Epoch 134/150\n",
      "5331/5331 [==============================] - 0s 36us/step - loss: 0.5387 - accuracy: 0.7319\n",
      "Epoch 135/150\n",
      "5331/5331 [==============================] - 0s 34us/step - loss: 0.5386 - accuracy: 0.7321\n",
      "Epoch 136/150\n",
      "5331/5331 [==============================] - 0s 32us/step - loss: 0.5396 - accuracy: 0.7306\n",
      "Epoch 137/150\n",
      "5331/5331 [==============================] - 0s 29us/step - loss: 0.5390 - accuracy: 0.7349\n",
      "Epoch 138/150\n",
      "5331/5331 [==============================] - 0s 34us/step - loss: 0.5389 - accuracy: 0.7346\n",
      "Epoch 139/150\n",
      "5331/5331 [==============================] - 0s 28us/step - loss: 0.5388 - accuracy: 0.7346\n",
      "Epoch 140/150\n",
      "5331/5331 [==============================] - 0s 36us/step - loss: 0.5383 - accuracy: 0.7334\n",
      "Epoch 141/150\n",
      "5331/5331 [==============================] - 0s 28us/step - loss: 0.5389 - accuracy: 0.7312\n",
      "Epoch 142/150\n",
      "5331/5331 [==============================] - 0s 36us/step - loss: 0.5388 - accuracy: 0.7325\n",
      "Epoch 143/150\n",
      "5331/5331 [==============================] - 0s 36us/step - loss: 0.5384 - accuracy: 0.7331\n",
      "Epoch 144/150\n",
      "5331/5331 [==============================] - 0s 33us/step - loss: 0.5387 - accuracy: 0.7334\n",
      "Epoch 145/150\n",
      "5331/5331 [==============================] - 0s 34us/step - loss: 0.5382 - accuracy: 0.7334\n",
      "Epoch 146/150\n",
      "5331/5331 [==============================] - 0s 36us/step - loss: 0.5380 - accuracy: 0.7338\n",
      "Epoch 147/150\n",
      "5331/5331 [==============================] - 0s 33us/step - loss: 0.5381 - accuracy: 0.7331\n",
      "Epoch 148/150\n",
      "5331/5331 [==============================] - 0s 31us/step - loss: 0.5381 - accuracy: 0.7308\n",
      "Epoch 149/150\n",
      "5331/5331 [==============================] - 0s 34us/step - loss: 0.5382 - accuracy: 0.7325\n",
      "Epoch 150/150\n",
      "5331/5331 [==============================] - 0s 34us/step - loss: 0.5384 - accuracy: 0.7344\n",
      "1778/1778 [==============================] - 0s 30us/step\n",
      "Epoch 1/150\n",
      "5332/5332 [==============================] - 0s 47us/step - loss: 0.6931 - accuracy: 0.5079\n",
      "Epoch 2/150\n",
      "5332/5332 [==============================] - 0s 34us/step - loss: 0.6889 - accuracy: 0.5489\n",
      "Epoch 3/150\n",
      "5332/5332 [==============================] - 0s 36us/step - loss: 0.6752 - accuracy: 0.6071\n",
      "Epoch 4/150\n",
      "5332/5332 [==============================] - 0s 32us/step - loss: 0.6582 - accuracy: 0.6613\n",
      "Epoch 5/150\n",
      "5332/5332 [==============================] - 0s 33us/step - loss: 0.6424 - accuracy: 0.6862\n",
      "Epoch 6/150\n"
     ]
    },
    {
     "name": "stdout",
     "output_type": "stream",
     "text": [
      "5332/5332 [==============================] - 0s 34us/step - loss: 0.6288 - accuracy: 0.7086\n",
      "Epoch 7/150\n",
      "5332/5332 [==============================] - 0s 33us/step - loss: 0.6168 - accuracy: 0.7191\n",
      "Epoch 8/150\n",
      "5332/5332 [==============================] - 0s 36us/step - loss: 0.6069 - accuracy: 0.7243\n",
      "Epoch 9/150\n",
      "5332/5332 [==============================] - 0s 36us/step - loss: 0.5993 - accuracy: 0.7284\n",
      "Epoch 10/150\n",
      "5332/5332 [==============================] - 0s 37us/step - loss: 0.5920 - accuracy: 0.7356\n",
      "Epoch 11/150\n",
      "5332/5332 [==============================] - 0s 39us/step - loss: 0.5858 - accuracy: 0.7356\n",
      "Epoch 12/150\n",
      "5332/5332 [==============================] - 0s 33us/step - loss: 0.5814 - accuracy: 0.7341\n",
      "Epoch 13/150\n",
      "5332/5332 [==============================] - 0s 42us/step - loss: 0.5772 - accuracy: 0.7346\n",
      "Epoch 14/150\n",
      "5332/5332 [==============================] - 0s 36us/step - loss: 0.5744 - accuracy: 0.7344\n",
      "Epoch 15/150\n",
      "5332/5332 [==============================] - 0s 45us/step - loss: 0.5711 - accuracy: 0.7342\n",
      "Epoch 16/150\n",
      "5332/5332 [==============================] - 0s 36us/step - loss: 0.5693 - accuracy: 0.7350\n",
      "Epoch 17/150\n",
      "5332/5332 [==============================] - 0s 32us/step - loss: 0.5663 - accuracy: 0.7359\n",
      "Epoch 18/150\n",
      "5332/5332 [==============================] - 0s 41us/step - loss: 0.5649 - accuracy: 0.7357\n",
      "Epoch 19/150\n",
      "5332/5332 [==============================] - 0s 36us/step - loss: 0.5625 - accuracy: 0.7342\n",
      "Epoch 20/150\n",
      "5332/5332 [==============================] - 0s 35us/step - loss: 0.5621 - accuracy: 0.7376\n",
      "Epoch 21/150\n",
      "5332/5332 [==============================] - 0s 40us/step - loss: 0.5609 - accuracy: 0.7365\n",
      "Epoch 22/150\n",
      "5332/5332 [==============================] - 0s 34us/step - loss: 0.5590 - accuracy: 0.7324\n",
      "Epoch 23/150\n",
      "5332/5332 [==============================] - 0s 31us/step - loss: 0.5582 - accuracy: 0.7372\n",
      "Epoch 24/150\n",
      "5332/5332 [==============================] - 0s 38us/step - loss: 0.5579 - accuracy: 0.7376\n",
      "Epoch 25/150\n",
      "5332/5332 [==============================] - 0s 38us/step - loss: 0.5570 - accuracy: 0.7348\n",
      "Epoch 26/150\n",
      "5332/5332 [==============================] - 0s 38us/step - loss: 0.5553 - accuracy: 0.7372\n",
      "Epoch 27/150\n",
      "5332/5332 [==============================] - 0s 40us/step - loss: 0.5551 - accuracy: 0.7372\n",
      "Epoch 28/150\n",
      "5332/5332 [==============================] - 0s 33us/step - loss: 0.5550 - accuracy: 0.7372\n",
      "Epoch 29/150\n",
      "5332/5332 [==============================] - 0s 36us/step - loss: 0.5537 - accuracy: 0.7369\n",
      "Epoch 30/150\n",
      "5332/5332 [==============================] - 0s 37us/step - loss: 0.5540 - accuracy: 0.7365\n",
      "Epoch 31/150\n",
      "5332/5332 [==============================] - 0s 40us/step - loss: 0.5528 - accuracy: 0.7372\n",
      "Epoch 32/150\n",
      "5332/5332 [==============================] - 0s 37us/step - loss: 0.5523 - accuracy: 0.7337\n",
      "Epoch 33/150\n",
      "5332/5332 [==============================] - 0s 33us/step - loss: 0.5521 - accuracy: 0.7363\n",
      "Epoch 34/150\n",
      "5332/5332 [==============================] - 0s 37us/step - loss: 0.5517 - accuracy: 0.7372\n",
      "Epoch 35/150\n",
      "5332/5332 [==============================] - 0s 36us/step - loss: 0.5514 - accuracy: 0.7346\n",
      "Epoch 36/150\n",
      "5332/5332 [==============================] - 0s 38us/step - loss: 0.5511 - accuracy: 0.7372\n",
      "Epoch 37/150\n",
      "5332/5332 [==============================] - 0s 40us/step - loss: 0.5510 - accuracy: 0.7356\n",
      "Epoch 38/150\n",
      "5332/5332 [==============================] - 0s 36us/step - loss: 0.5504 - accuracy: 0.7350\n",
      "Epoch 39/150\n",
      "5332/5332 [==============================] - 0s 32us/step - loss: 0.5502 - accuracy: 0.7352\n",
      "Epoch 40/150\n",
      "5332/5332 [==============================] - 0s 35us/step - loss: 0.5508 - accuracy: 0.7357\n",
      "Epoch 41/150\n",
      "5332/5332 [==============================] - 0s 34us/step - loss: 0.5499 - accuracy: 0.7350\n",
      "Epoch 42/150\n",
      "5332/5332 [==============================] - 0s 35us/step - loss: 0.5496 - accuracy: 0.7365\n",
      "Epoch 43/150\n",
      "5332/5332 [==============================] - 0s 39us/step - loss: 0.5489 - accuracy: 0.7337\n",
      "Epoch 44/150\n",
      "5332/5332 [==============================] - 0s 30us/step - loss: 0.5491 - accuracy: 0.7389\n",
      "Epoch 45/150\n",
      "5332/5332 [==============================] - 0s 34us/step - loss: 0.5492 - accuracy: 0.7357\n",
      "Epoch 46/150\n",
      "5332/5332 [==============================] - 0s 37us/step - loss: 0.5485 - accuracy: 0.7361\n",
      "Epoch 47/150\n",
      "5332/5332 [==============================] - 0s 34us/step - loss: 0.5483 - accuracy: 0.7350\n",
      "Epoch 48/150\n",
      "5332/5332 [==============================] - 0s 33us/step - loss: 0.5484 - accuracy: 0.7378\n",
      "Epoch 49/150\n",
      "5332/5332 [==============================] - 0s 37us/step - loss: 0.5480 - accuracy: 0.7367\n",
      "Epoch 50/150\n",
      "5332/5332 [==============================] - 0s 38us/step - loss: 0.5481 - accuracy: 0.7378\n",
      "Epoch 51/150\n",
      "5332/5332 [==============================] - 0s 38us/step - loss: 0.5479 - accuracy: 0.7374\n",
      "Epoch 52/150\n",
      "5332/5332 [==============================] - 0s 34us/step - loss: 0.5479 - accuracy: 0.7342\n",
      "Epoch 53/150\n",
      "5332/5332 [==============================] - 0s 34us/step - loss: 0.5475 - accuracy: 0.7367\n",
      "Epoch 54/150\n",
      "5332/5332 [==============================] - 0s 39us/step - loss: 0.5483 - accuracy: 0.7359\n",
      "Epoch 55/150\n",
      "5332/5332 [==============================] - 0s 30us/step - loss: 0.5473 - accuracy: 0.7382\n",
      "Epoch 56/150\n",
      "5332/5332 [==============================] - 0s 38us/step - loss: 0.5474 - accuracy: 0.7367\n",
      "Epoch 57/150\n",
      "5332/5332 [==============================] - 0s 30us/step - loss: 0.5471 - accuracy: 0.7380\n",
      "Epoch 58/150\n",
      "5332/5332 [==============================] - 0s 40us/step - loss: 0.5469 - accuracy: 0.7372\n",
      "Epoch 59/150\n",
      "5332/5332 [==============================] - 0s 30us/step - loss: 0.5473 - accuracy: 0.7356\n",
      "Epoch 60/150\n",
      "5332/5332 [==============================] - 0s 38us/step - loss: 0.5470 - accuracy: 0.7363\n",
      "Epoch 61/150\n",
      "5332/5332 [==============================] - 0s 35us/step - loss: 0.5471 - accuracy: 0.7346\n",
      "Epoch 62/150\n",
      "5332/5332 [==============================] - 0s 34us/step - loss: 0.5476 - accuracy: 0.7369\n",
      "Epoch 63/150\n",
      "5332/5332 [==============================] - 0s 37us/step - loss: 0.5464 - accuracy: 0.7380\n",
      "Epoch 64/150\n",
      "5332/5332 [==============================] - 0s 37us/step - loss: 0.5466 - accuracy: 0.7365\n",
      "Epoch 65/150\n",
      "5332/5332 [==============================] - 0s 35us/step - loss: 0.5465 - accuracy: 0.7344\n",
      "Epoch 66/150\n",
      "5332/5332 [==============================] - 0s 39us/step - loss: 0.5461 - accuracy: 0.7372\n",
      "Epoch 67/150\n",
      "5332/5332 [==============================] - 0s 37us/step - loss: 0.5462 - accuracy: 0.7369\n",
      "Epoch 68/150\n",
      "5332/5332 [==============================] - 0s 33us/step - loss: 0.5462 - accuracy: 0.7374\n",
      "Epoch 69/150\n",
      "5332/5332 [==============================] - 0s 38us/step - loss: 0.5454 - accuracy: 0.7367\n",
      "Epoch 70/150\n",
      "5332/5332 [==============================] - 0s 39us/step - loss: 0.5457 - accuracy: 0.7356\n",
      "Epoch 71/150\n",
      "5332/5332 [==============================] - 0s 36us/step - loss: 0.5461 - accuracy: 0.7365\n",
      "Epoch 72/150\n",
      "5332/5332 [==============================] - 0s 37us/step - loss: 0.5454 - accuracy: 0.7363\n",
      "Epoch 73/150\n",
      "5332/5332 [==============================] - 0s 34us/step - loss: 0.5452 - accuracy: 0.7352\n",
      "Epoch 74/150\n",
      "5332/5332 [==============================] - 0s 34us/step - loss: 0.5456 - accuracy: 0.7384\n",
      "Epoch 75/150\n",
      "5332/5332 [==============================] - 0s 37us/step - loss: 0.5456 - accuracy: 0.7335\n",
      "Epoch 76/150\n",
      "5332/5332 [==============================] - 0s 37us/step - loss: 0.5447 - accuracy: 0.7372\n",
      "Epoch 77/150\n",
      "5332/5332 [==============================] - 0s 36us/step - loss: 0.5449 - accuracy: 0.7363\n",
      "Epoch 78/150\n",
      "5332/5332 [==============================] - 0s 33us/step - loss: 0.5448 - accuracy: 0.7380\n",
      "Epoch 79/150\n",
      "5332/5332 [==============================] - 0s 35us/step - loss: 0.5440 - accuracy: 0.7376\n",
      "Epoch 80/150\n",
      "5332/5332 [==============================] - 0s 33us/step - loss: 0.5444 - accuracy: 0.7335\n",
      "Epoch 81/150\n",
      "5332/5332 [==============================] - 0s 38us/step - loss: 0.5437 - accuracy: 0.7361\n",
      "Epoch 82/150\n",
      "5332/5332 [==============================] - 0s 37us/step - loss: 0.5440 - accuracy: 0.7371\n",
      "Epoch 83/150\n",
      "5332/5332 [==============================] - 0s 36us/step - loss: 0.5436 - accuracy: 0.7367\n",
      "Epoch 84/150\n"
     ]
    },
    {
     "name": "stdout",
     "output_type": "stream",
     "text": [
      "5332/5332 [==============================] - 0s 37us/step - loss: 0.5436 - accuracy: 0.7365\n",
      "Epoch 85/150\n",
      "5332/5332 [==============================] - 0s 36us/step - loss: 0.5436 - accuracy: 0.7369\n",
      "Epoch 86/150\n",
      "5332/5332 [==============================] - 0s 34us/step - loss: 0.5435 - accuracy: 0.7352\n",
      "Epoch 87/150\n",
      "5332/5332 [==============================] - 0s 35us/step - loss: 0.5435 - accuracy: 0.7374\n",
      "Epoch 88/150\n",
      "5332/5332 [==============================] - 0s 33us/step - loss: 0.5433 - accuracy: 0.7376\n",
      "Epoch 89/150\n",
      "5332/5332 [==============================] - 0s 37us/step - loss: 0.5426 - accuracy: 0.7376\n",
      "Epoch 90/150\n",
      "5332/5332 [==============================] - 0s 41us/step - loss: 0.5431 - accuracy: 0.7365\n",
      "Epoch 91/150\n",
      "5332/5332 [==============================] - 0s 35us/step - loss: 0.5428 - accuracy: 0.7341\n",
      "Epoch 92/150\n",
      "5332/5332 [==============================] - 0s 38us/step - loss: 0.5426 - accuracy: 0.7380\n",
      "Epoch 93/150\n",
      "5332/5332 [==============================] - 0s 36us/step - loss: 0.5427 - accuracy: 0.7341\n",
      "Epoch 94/150\n",
      "5332/5332 [==============================] - 0s 36us/step - loss: 0.5432 - accuracy: 0.7387\n",
      "Epoch 95/150\n",
      "5332/5332 [==============================] - 0s 36us/step - loss: 0.5427 - accuracy: 0.7333\n",
      "Epoch 96/150\n",
      "5332/5332 [==============================] - 0s 38us/step - loss: 0.5422 - accuracy: 0.7382\n",
      "Epoch 97/150\n",
      "5332/5332 [==============================] - 0s 38us/step - loss: 0.5422 - accuracy: 0.7376\n",
      "Epoch 98/150\n",
      "5332/5332 [==============================] - 0s 38us/step - loss: 0.5424 - accuracy: 0.7374\n",
      "Epoch 99/150\n",
      "5332/5332 [==============================] - 0s 36us/step - loss: 0.5421 - accuracy: 0.7371\n",
      "Epoch 100/150\n",
      "5332/5332 [==============================] - 0s 36us/step - loss: 0.5419 - accuracy: 0.7352\n",
      "Epoch 101/150\n",
      "5332/5332 [==============================] - 0s 32us/step - loss: 0.5424 - accuracy: 0.7371\n",
      "Epoch 102/150\n",
      "5332/5332 [==============================] - 0s 33us/step - loss: 0.5429 - accuracy: 0.7342\n",
      "Epoch 103/150\n",
      "5332/5332 [==============================] - 0s 34us/step - loss: 0.5423 - accuracy: 0.7389\n",
      "Epoch 104/150\n",
      "5332/5332 [==============================] - 0s 40us/step - loss: 0.5417 - accuracy: 0.7365\n",
      "Epoch 105/150\n",
      "5332/5332 [==============================] - 0s 30us/step - loss: 0.5414 - accuracy: 0.7374\n",
      "Epoch 106/150\n",
      "5332/5332 [==============================] - 0s 36us/step - loss: 0.5418 - accuracy: 0.7365\n",
      "Epoch 107/150\n",
      "5332/5332 [==============================] - 0s 35us/step - loss: 0.5417 - accuracy: 0.7365\n",
      "Epoch 108/150\n",
      "5332/5332 [==============================] - 0s 29us/step - loss: 0.5418 - accuracy: 0.7352\n",
      "Epoch 109/150\n",
      "5332/5332 [==============================] - 0s 36us/step - loss: 0.5413 - accuracy: 0.7382\n",
      "Epoch 110/150\n",
      "5332/5332 [==============================] - 0s 30us/step - loss: 0.5410 - accuracy: 0.7384\n",
      "Epoch 111/150\n",
      "5332/5332 [==============================] - 0s 37us/step - loss: 0.5418 - accuracy: 0.7363\n",
      "Epoch 112/150\n",
      "5332/5332 [==============================] - 0s 33us/step - loss: 0.5408 - accuracy: 0.7372\n",
      "Epoch 113/150\n",
      "5332/5332 [==============================] - 0s 31us/step - loss: 0.5414 - accuracy: 0.7372\n",
      "Epoch 114/150\n",
      "5332/5332 [==============================] - 0s 32us/step - loss: 0.5410 - accuracy: 0.7380\n",
      "Epoch 115/150\n",
      "5332/5332 [==============================] - 0s 32us/step - loss: 0.5408 - accuracy: 0.7386\n",
      "Epoch 116/150\n",
      "5332/5332 [==============================] - 0s 37us/step - loss: 0.5407 - accuracy: 0.7386\n",
      "Epoch 117/150\n",
      "5332/5332 [==============================] - 0s 36us/step - loss: 0.5411 - accuracy: 0.7367\n",
      "Epoch 118/150\n",
      "5332/5332 [==============================] - 0s 34us/step - loss: 0.5402 - accuracy: 0.7387\n",
      "Epoch 119/150\n",
      "5332/5332 [==============================] - 0s 30us/step - loss: 0.5401 - accuracy: 0.7376\n",
      "Epoch 120/150\n",
      "5332/5332 [==============================] - 0s 38us/step - loss: 0.5413 - accuracy: 0.7367\n",
      "Epoch 121/150\n",
      "5332/5332 [==============================] - 0s 34us/step - loss: 0.5414 - accuracy: 0.7350\n",
      "Epoch 122/150\n",
      "5332/5332 [==============================] - 0s 30us/step - loss: 0.5405 - accuracy: 0.7378\n",
      "Epoch 123/150\n",
      "5332/5332 [==============================] - 0s 34us/step - loss: 0.5402 - accuracy: 0.7363\n",
      "Epoch 124/150\n",
      "5332/5332 [==============================] - 0s 33us/step - loss: 0.5403 - accuracy: 0.7369\n",
      "Epoch 125/150\n",
      "5332/5332 [==============================] - 0s 31us/step - loss: 0.5406 - accuracy: 0.7365\n",
      "Epoch 126/150\n",
      "5332/5332 [==============================] - 0s 31us/step - loss: 0.5399 - accuracy: 0.7384\n",
      "Epoch 127/150\n",
      "5332/5332 [==============================] - 0s 32us/step - loss: 0.5402 - accuracy: 0.7367\n",
      "Epoch 128/150\n",
      "5332/5332 [==============================] - 0s 30us/step - loss: 0.5406 - accuracy: 0.7348\n",
      "Epoch 129/150\n",
      "5332/5332 [==============================] - 0s 32us/step - loss: 0.5400 - accuracy: 0.7386\n",
      "Epoch 130/150\n",
      "5332/5332 [==============================] - 0s 30us/step - loss: 0.5402 - accuracy: 0.7342\n",
      "Epoch 131/150\n",
      "5332/5332 [==============================] - 0s 32us/step - loss: 0.5404 - accuracy: 0.7372\n",
      "Epoch 132/150\n",
      "5332/5332 [==============================] - 0s 31us/step - loss: 0.5394 - accuracy: 0.7389\n",
      "Epoch 133/150\n",
      "5332/5332 [==============================] - 0s 34us/step - loss: 0.5396 - accuracy: 0.7365\n",
      "Epoch 134/150\n",
      "5332/5332 [==============================] - 0s 32us/step - loss: 0.5396 - accuracy: 0.7378\n",
      "Epoch 135/150\n",
      "5332/5332 [==============================] - 0s 28us/step - loss: 0.5400 - accuracy: 0.7387\n",
      "Epoch 136/150\n",
      "5332/5332 [==============================] - 0s 30us/step - loss: 0.5393 - accuracy: 0.7378\n",
      "Epoch 137/150\n",
      "5332/5332 [==============================] - 0s 29us/step - loss: 0.5396 - accuracy: 0.7386\n",
      "Epoch 138/150\n",
      "5332/5332 [==============================] - 0s 37us/step - loss: 0.5393 - accuracy: 0.7367\n",
      "Epoch 139/150\n",
      "5332/5332 [==============================] - 0s 34us/step - loss: 0.5398 - accuracy: 0.7356\n",
      "Epoch 140/150\n",
      "5332/5332 [==============================] - 0s 28us/step - loss: 0.5394 - accuracy: 0.7371\n",
      "Epoch 141/150\n",
      "5332/5332 [==============================] - 0s 34us/step - loss: 0.5393 - accuracy: 0.7378\n",
      "Epoch 142/150\n",
      "5332/5332 [==============================] - 0s 30us/step - loss: 0.5390 - accuracy: 0.7367\n",
      "Epoch 143/150\n",
      "5332/5332 [==============================] - 0s 32us/step - loss: 0.5393 - accuracy: 0.7380\n",
      "Epoch 144/150\n",
      "5332/5332 [==============================] - 0s 35us/step - loss: 0.5393 - accuracy: 0.7374\n",
      "Epoch 145/150\n",
      "5332/5332 [==============================] - 0s 37us/step - loss: 0.5399 - accuracy: 0.7363\n",
      "Epoch 146/150\n",
      "5332/5332 [==============================] - 0s 32us/step - loss: 0.5390 - accuracy: 0.7376\n",
      "Epoch 147/150\n",
      "5332/5332 [==============================] - 0s 40us/step - loss: 0.5388 - accuracy: 0.7391\n",
      "Epoch 148/150\n",
      "5332/5332 [==============================] - 0s 37us/step - loss: 0.5386 - accuracy: 0.7363\n",
      "Epoch 149/150\n",
      "5332/5332 [==============================] - 0s 31us/step - loss: 0.5394 - accuracy: 0.7380\n",
      "Epoch 150/150\n",
      "5332/5332 [==============================] - 0s 36us/step - loss: 0.5387 - accuracy: 0.7384\n",
      "1777/1777 [==============================] - 0s 18us/step\n",
      "Epoch 1/150\n",
      "5332/5332 [==============================] - 0s 64us/step - loss: 0.6932 - accuracy: 0.4910\n",
      "Epoch 2/150\n",
      "5332/5332 [==============================] - 0s 42us/step - loss: 0.6932 - accuracy: 0.5024\n",
      "Epoch 3/150\n",
      "5332/5332 [==============================] - 0s 35us/step - loss: 0.6932 - accuracy: 0.5024\n",
      "Epoch 4/150\n",
      "5332/5332 [==============================] - 0s 41us/step - loss: 0.6932 - accuracy: 0.4979\n",
      "Epoch 5/150\n",
      "5332/5332 [==============================] - 0s 43us/step - loss: 0.6932 - accuracy: 0.5024\n",
      "Epoch 6/150\n",
      "5332/5332 [==============================] - 0s 37us/step - loss: 0.6932 - accuracy: 0.4949\n",
      "Epoch 7/150\n",
      "5332/5332 [==============================] - 0s 26us/step - loss: 0.6932 - accuracy: 0.5024\n",
      "Epoch 8/150\n",
      "5332/5332 [==============================] - 0s 31us/step - loss: 0.6932 - accuracy: 0.5024\n",
      "Epoch 9/150\n",
      "5332/5332 [==============================] - 0s 38us/step - loss: 0.6932 - accuracy: 0.5024\n",
      "Epoch 10/150\n",
      "5332/5332 [==============================] - 0s 31us/step - loss: 0.6932 - accuracy: 0.5024\n",
      "Epoch 11/150\n"
     ]
    },
    {
     "name": "stdout",
     "output_type": "stream",
     "text": [
      "5332/5332 [==============================] - 0s 30us/step - loss: 0.6932 - accuracy: 0.4934\n",
      "Epoch 12/150\n",
      "5332/5332 [==============================] - 0s 32us/step - loss: 0.6932 - accuracy: 0.5024\n",
      "Epoch 13/150\n",
      "5332/5332 [==============================] - 0s 28us/step - loss: 0.6932 - accuracy: 0.5024\n",
      "Epoch 14/150\n",
      "5332/5332 [==============================] - 0s 29us/step - loss: 0.6932 - accuracy: 0.5024\n",
      "Epoch 15/150\n",
      "5332/5332 [==============================] - 0s 34us/step - loss: 0.6932 - accuracy: 0.5024\n",
      "Epoch 16/150\n",
      "5332/5332 [==============================] - 0s 31us/step - loss: 0.6932 - accuracy: 0.5024\n",
      "Epoch 17/150\n",
      "5332/5332 [==============================] - 0s 31us/step - loss: 0.6932 - accuracy: 0.5024\n",
      "Epoch 18/150\n",
      "5332/5332 [==============================] - 0s 31us/step - loss: 0.6932 - accuracy: 0.5024\n",
      "Epoch 19/150\n",
      "5332/5332 [==============================] - 0s 28us/step - loss: 0.6932 - accuracy: 0.5024\n",
      "Epoch 20/150\n",
      "5332/5332 [==============================] - 0s 28us/step - loss: 0.6932 - accuracy: 0.5024\n",
      "Epoch 21/150\n",
      "5332/5332 [==============================] - 0s 36us/step - loss: 0.6932 - accuracy: 0.5024\n",
      "Epoch 22/150\n",
      "5332/5332 [==============================] - 0s 26us/step - loss: 0.6932 - accuracy: 0.4979\n",
      "Epoch 23/150\n",
      "5332/5332 [==============================] - 0s 31us/step - loss: 0.6932 - accuracy: 0.5024\n",
      "Epoch 24/150\n",
      "5332/5332 [==============================] - 0s 24us/step - loss: 0.6932 - accuracy: 0.5024\n",
      "Epoch 25/150\n",
      "5332/5332 [==============================] - 0s 29us/step - loss: 0.6932 - accuracy: 0.5024\n",
      "Epoch 26/150\n",
      "5332/5332 [==============================] - 0s 34us/step - loss: 0.6932 - accuracy: 0.5002\n",
      "Epoch 27/150\n",
      "5332/5332 [==============================] - 0s 32us/step - loss: 0.6932 - accuracy: 0.5024\n",
      "Epoch 28/150\n",
      "5332/5332 [==============================] - 0s 29us/step - loss: 0.6932 - accuracy: 0.5024\n",
      "Epoch 29/150\n",
      "5332/5332 [==============================] - 0s 32us/step - loss: 0.6932 - accuracy: 0.5024\n",
      "Epoch 30/150\n",
      "5332/5332 [==============================] - 0s 42us/step - loss: 0.6932 - accuracy: 0.5024\n",
      "Epoch 31/150\n",
      "5332/5332 [==============================] - 0s 32us/step - loss: 0.6932 - accuracy: 0.5024\n",
      "Epoch 32/150\n",
      "5332/5332 [==============================] - 0s 30us/step - loss: 0.6932 - accuracy: 0.5024\n",
      "Epoch 33/150\n",
      "5332/5332 [==============================] - 0s 31us/step - loss: 0.6932 - accuracy: 0.5024\n",
      "Epoch 34/150\n",
      "5332/5332 [==============================] - 0s 39us/step - loss: 0.6932 - accuracy: 0.5024\n",
      "Epoch 35/150\n",
      "5332/5332 [==============================] - 0s 42us/step - loss: 0.6932 - accuracy: 0.4949\n",
      "Epoch 36/150\n",
      "5332/5332 [==============================] - 0s 37us/step - loss: 0.6932 - accuracy: 0.5024\n",
      "Epoch 37/150\n",
      "5332/5332 [==============================] - 0s 29us/step - loss: 0.6932 - accuracy: 0.5024\n",
      "Epoch 38/150\n",
      "5332/5332 [==============================] - 0s 37us/step - loss: 0.6932 - accuracy: 0.5024\n",
      "Epoch 39/150\n",
      "5332/5332 [==============================] - 0s 27us/step - loss: 0.6932 - accuracy: 0.5024\n",
      "Epoch 40/150\n",
      "5332/5332 [==============================] - 0s 36us/step - loss: 0.6932 - accuracy: 0.5024\n",
      "Epoch 41/150\n",
      "5332/5332 [==============================] - 0s 32us/step - loss: 0.6932 - accuracy: 0.5024\n",
      "Epoch 42/150\n",
      "5332/5332 [==============================] - 0s 29us/step - loss: 0.6932 - accuracy: 0.4961\n",
      "Epoch 43/150\n",
      "5332/5332 [==============================] - 0s 29us/step - loss: 0.6932 - accuracy: 0.5024\n",
      "Epoch 44/150\n",
      "5332/5332 [==============================] - 0s 38us/step - loss: 0.6932 - accuracy: 0.5024\n",
      "Epoch 45/150\n",
      "5332/5332 [==============================] - 0s 32us/step - loss: 0.6932 - accuracy: 0.5024\n",
      "Epoch 46/150\n",
      "5332/5332 [==============================] - 0s 34us/step - loss: 0.6932 - accuracy: 0.5024\n",
      "Epoch 47/150\n",
      "5332/5332 [==============================] - 0s 33us/step - loss: 0.6932 - accuracy: 0.4987\n",
      "Epoch 48/150\n",
      "5332/5332 [==============================] - 0s 32us/step - loss: 0.6932 - accuracy: 0.5024\n",
      "Epoch 49/150\n",
      "5332/5332 [==============================] - 0s 29us/step - loss: 0.6932 - accuracy: 0.5024\n",
      "Epoch 50/150\n",
      "5332/5332 [==============================] - 0s 36us/step - loss: 0.6932 - accuracy: 0.4938\n",
      "Epoch 51/150\n",
      "5332/5332 [==============================] - 0s 31us/step - loss: 0.6932 - accuracy: 0.5024\n",
      "Epoch 52/150\n",
      "5332/5332 [==============================] - 0s 30us/step - loss: 0.6932 - accuracy: 0.5024\n",
      "Epoch 53/150\n",
      "5332/5332 [==============================] - 0s 27us/step - loss: 0.6932 - accuracy: 0.5024\n",
      "Epoch 54/150\n",
      "5332/5332 [==============================] - 0s 26us/step - loss: 0.6932 - accuracy: 0.5024\n",
      "Epoch 55/150\n",
      "5332/5332 [==============================] - 0s 31us/step - loss: 0.6932 - accuracy: 0.5024\n",
      "Epoch 56/150\n",
      "5332/5332 [==============================] - 0s 33us/step - loss: 0.6932 - accuracy: 0.5024\n",
      "Epoch 57/150\n",
      "5332/5332 [==============================] - 0s 27us/step - loss: 0.6932 - accuracy: 0.5024\n",
      "Epoch 58/150\n",
      "5332/5332 [==============================] - 0s 30us/step - loss: 0.6932 - accuracy: 0.5024\n",
      "Epoch 59/150\n",
      "5332/5332 [==============================] - 0s 32us/step - loss: 0.6932 - accuracy: 0.4964\n",
      "Epoch 60/150\n",
      "5332/5332 [==============================] - 0s 27us/step - loss: 0.6932 - accuracy: 0.5024\n",
      "Epoch 61/150\n",
      "5332/5332 [==============================] - 0s 30us/step - loss: 0.6932 - accuracy: 0.4957\n",
      "Epoch 62/150\n",
      "5332/5332 [==============================] - 0s 32us/step - loss: 0.6932 - accuracy: 0.5024\n",
      "Epoch 63/150\n",
      "5332/5332 [==============================] - 0s 31us/step - loss: 0.6932 - accuracy: 0.5024\n",
      "Epoch 64/150\n",
      "5332/5332 [==============================] - 0s 38us/step - loss: 0.6932 - accuracy: 0.5024\n",
      "Epoch 65/150\n",
      "5332/5332 [==============================] - 0s 31us/step - loss: 0.6932 - accuracy: 0.5024\n",
      "Epoch 66/150\n",
      "5332/5332 [==============================] - 0s 31us/step - loss: 0.6932 - accuracy: 0.5024\n",
      "Epoch 67/150\n",
      "5332/5332 [==============================] - 0s 31us/step - loss: 0.6932 - accuracy: 0.5024\n",
      "Epoch 68/150\n",
      "5332/5332 [==============================] - 0s 32us/step - loss: 0.6932 - accuracy: 0.5024\n",
      "Epoch 69/150\n",
      "5332/5332 [==============================] - 0s 27us/step - loss: 0.6932 - accuracy: 0.5024\n",
      "Epoch 70/150\n",
      "5332/5332 [==============================] - 0s 32us/step - loss: 0.6932 - accuracy: 0.5024\n",
      "Epoch 71/150\n",
      "5332/5332 [==============================] - 0s 40us/step - loss: 0.6932 - accuracy: 0.5024\n",
      "Epoch 72/150\n",
      "5332/5332 [==============================] - 0s 33us/step - loss: 0.6932 - accuracy: 0.5024\n",
      "Epoch 73/150\n",
      "5332/5332 [==============================] - 0s 33us/step - loss: 0.6932 - accuracy: 0.5024\n",
      "Epoch 74/150\n",
      "5332/5332 [==============================] - 0s 34us/step - loss: 0.6932 - accuracy: 0.4957\n",
      "Epoch 75/150\n",
      "5332/5332 [==============================] - 0s 29us/step - loss: 0.6932 - accuracy: 0.5024\n",
      "Epoch 76/150\n",
      "5332/5332 [==============================] - 0s 30us/step - loss: 0.6932 - accuracy: 0.4972\n",
      "Epoch 77/150\n",
      "5332/5332 [==============================] - 0s 33us/step - loss: 0.6932 - accuracy: 0.5024\n",
      "Epoch 78/150\n",
      "5332/5332 [==============================] - 0s 33us/step - loss: 0.6932 - accuracy: 0.5024\n",
      "Epoch 79/150\n",
      "5332/5332 [==============================] - 0s 28us/step - loss: 0.6932 - accuracy: 0.5024\n",
      "Epoch 80/150\n",
      "5332/5332 [==============================] - 0s 29us/step - loss: 0.6932 - accuracy: 0.5024\n",
      "Epoch 81/150\n",
      "5332/5332 [==============================] - 0s 30us/step - loss: 0.6932 - accuracy: 0.5024\n",
      "Epoch 82/150\n",
      "5332/5332 [==============================] - 0s 30us/step - loss: 0.6932 - accuracy: 0.5024\n",
      "Epoch 83/150\n",
      "5332/5332 [==============================] - 0s 26us/step - loss: 0.6932 - accuracy: 0.5024\n",
      "Epoch 84/150\n",
      "5332/5332 [==============================] - 0s 36us/step - loss: 0.6932 - accuracy: 0.5024\n",
      "Epoch 85/150\n",
      "5332/5332 [==============================] - 0s 36us/step - loss: 0.6932 - accuracy: 0.5024\n",
      "Epoch 86/150\n",
      "5332/5332 [==============================] - 0s 32us/step - loss: 0.6932 - accuracy: 0.5024\n",
      "Epoch 87/150\n",
      "5332/5332 [==============================] - 0s 41us/step - loss: 0.6932 - accuracy: 0.5024\n",
      "Epoch 88/150\n",
      "5332/5332 [==============================] - 0s 32us/step - loss: 0.6932 - accuracy: 0.5024\n",
      "Epoch 89/150\n"
     ]
    },
    {
     "name": "stdout",
     "output_type": "stream",
     "text": [
      "5332/5332 [==============================] - 0s 34us/step - loss: 0.6932 - accuracy: 0.5024\n",
      "Epoch 90/150\n",
      "5332/5332 [==============================] - 0s 28us/step - loss: 0.6932 - accuracy: 0.4916\n",
      "Epoch 91/150\n",
      "5332/5332 [==============================] - 0s 35us/step - loss: 0.6932 - accuracy: 0.5024\n",
      "Epoch 92/150\n",
      "5332/5332 [==============================] - 0s 27us/step - loss: 0.6932 - accuracy: 0.5024\n",
      "Epoch 93/150\n",
      "5332/5332 [==============================] - 0s 29us/step - loss: 0.6932 - accuracy: 0.4961\n",
      "Epoch 94/150\n",
      "5332/5332 [==============================] - 0s 33us/step - loss: 0.6932 - accuracy: 0.5024\n",
      "Epoch 95/150\n",
      "5332/5332 [==============================] - 0s 35us/step - loss: 0.6932 - accuracy: 0.5024\n",
      "Epoch 96/150\n",
      "5332/5332 [==============================] - 0s 31us/step - loss: 0.6932 - accuracy: 0.5024\n",
      "Epoch 97/150\n",
      "5332/5332 [==============================] - 0s 35us/step - loss: 0.6932 - accuracy: 0.5024\n",
      "Epoch 98/150\n",
      "5332/5332 [==============================] - 0s 36us/step - loss: 0.6932 - accuracy: 0.5024\n",
      "Epoch 99/150\n",
      "5332/5332 [==============================] - 0s 35us/step - loss: 0.6932 - accuracy: 0.4968\n",
      "Epoch 100/150\n",
      "5332/5332 [==============================] - 0s 35us/step - loss: 0.6932 - accuracy: 0.5024\n",
      "Epoch 101/150\n",
      "5332/5332 [==============================] - 0s 33us/step - loss: 0.6932 - accuracy: 0.5024\n",
      "Epoch 102/150\n",
      "5332/5332 [==============================] - 0s 33us/step - loss: 0.6932 - accuracy: 0.5024\n",
      "Epoch 103/150\n",
      "5332/5332 [==============================] - 0s 35us/step - loss: 0.6932 - accuracy: 0.5024\n",
      "Epoch 104/150\n",
      "5332/5332 [==============================] - 0s 37us/step - loss: 0.6932 - accuracy: 0.4968\n",
      "Epoch 105/150\n",
      "5332/5332 [==============================] - 0s 35us/step - loss: 0.6932 - accuracy: 0.5024\n",
      "Epoch 106/150\n",
      "5332/5332 [==============================] - 0s 36us/step - loss: 0.6932 - accuracy: 0.5024\n",
      "Epoch 107/150\n",
      "5332/5332 [==============================] - 0s 36us/step - loss: 0.6932 - accuracy: 0.5024\n",
      "Epoch 108/150\n",
      "5332/5332 [==============================] - 0s 29us/step - loss: 0.6932 - accuracy: 0.4957\n",
      "Epoch 109/150\n",
      "5332/5332 [==============================] - 0s 34us/step - loss: 0.6932 - accuracy: 0.5024\n",
      "Epoch 110/150\n",
      "5332/5332 [==============================] - 0s 36us/step - loss: 0.6932 - accuracy: 0.5024\n",
      "Epoch 111/150\n",
      "5332/5332 [==============================] - 0s 34us/step - loss: 0.6932 - accuracy: 0.4991\n",
      "Epoch 112/150\n",
      "5332/5332 [==============================] - 0s 32us/step - loss: 0.6932 - accuracy: 0.4972\n",
      "Epoch 113/150\n",
      "5332/5332 [==============================] - 0s 34us/step - loss: 0.6932 - accuracy: 0.5024\n",
      "Epoch 114/150\n",
      "5332/5332 [==============================] - 0s 32us/step - loss: 0.6932 - accuracy: 0.5024\n",
      "Epoch 115/150\n",
      "5332/5332 [==============================] - 0s 32us/step - loss: 0.6932 - accuracy: 0.5024\n",
      "Epoch 116/150\n",
      "5332/5332 [==============================] - 0s 35us/step - loss: 0.6932 - accuracy: 0.5024\n",
      "Epoch 117/150\n",
      "5332/5332 [==============================] - 0s 32us/step - loss: 0.6932 - accuracy: 0.5024\n",
      "Epoch 118/150\n",
      "5332/5332 [==============================] - 0s 30us/step - loss: 0.6932 - accuracy: 0.5024\n",
      "Epoch 119/150\n",
      "5332/5332 [==============================] - 0s 38us/step - loss: 0.6932 - accuracy: 0.5024\n",
      "Epoch 120/150\n",
      "5332/5332 [==============================] - 0s 32us/step - loss: 0.6932 - accuracy: 0.5024\n",
      "Epoch 121/150\n",
      "5332/5332 [==============================] - 0s 36us/step - loss: 0.6932 - accuracy: 0.5024\n",
      "Epoch 122/150\n",
      "5332/5332 [==============================] - 0s 35us/step - loss: 0.6932 - accuracy: 0.5024\n",
      "Epoch 123/150\n",
      "5332/5332 [==============================] - 0s 33us/step - loss: 0.6932 - accuracy: 0.5024\n",
      "Epoch 124/150\n",
      "5332/5332 [==============================] - 0s 33us/step - loss: 0.6932 - accuracy: 0.5024\n",
      "Epoch 125/150\n",
      "5332/5332 [==============================] - 0s 35us/step - loss: 0.6932 - accuracy: 0.5024\n",
      "Epoch 126/150\n",
      "5332/5332 [==============================] - 0s 32us/step - loss: 0.6932 - accuracy: 0.4934\n",
      "Epoch 127/150\n",
      "5332/5332 [==============================] - 0s 30us/step - loss: 0.6932 - accuracy: 0.5024\n",
      "Epoch 128/150\n",
      "5332/5332 [==============================] - 0s 26us/step - loss: 0.6932 - accuracy: 0.5024\n",
      "Epoch 129/150\n",
      "5332/5332 [==============================] - 0s 33us/step - loss: 0.6932 - accuracy: 0.5024\n",
      "Epoch 130/150\n",
      "5332/5332 [==============================] - 0s 33us/step - loss: 0.6932 - accuracy: 0.5024\n",
      "Epoch 131/150\n",
      "5332/5332 [==============================] - 0s 29us/step - loss: 0.6932 - accuracy: 0.5024\n",
      "Epoch 132/150\n",
      "5332/5332 [==============================] - 0s 29us/step - loss: 0.6932 - accuracy: 0.5024\n",
      "Epoch 133/150\n",
      "5332/5332 [==============================] - 0s 29us/step - loss: 0.6932 - accuracy: 0.5024\n",
      "Epoch 134/150\n",
      "5332/5332 [==============================] - 0s 29us/step - loss: 0.6932 - accuracy: 0.5024\n",
      "Epoch 135/150\n",
      "5332/5332 [==============================] - 0s 32us/step - loss: 0.6932 - accuracy: 0.5024\n",
      "Epoch 136/150\n",
      "5332/5332 [==============================] - 0s 32us/step - loss: 0.6932 - accuracy: 0.5024\n",
      "Epoch 137/150\n",
      "5332/5332 [==============================] - 0s 29us/step - loss: 0.6932 - accuracy: 0.5024\n",
      "Epoch 138/150\n",
      "5332/5332 [==============================] - 0s 32us/step - loss: 0.6932 - accuracy: 0.5024\n",
      "Epoch 139/150\n",
      "5332/5332 [==============================] - 0s 38us/step - loss: 0.6932 - accuracy: 0.5024\n",
      "Epoch 140/150\n",
      "5332/5332 [==============================] - 0s 29us/step - loss: 0.6932 - accuracy: 0.5024\n",
      "Epoch 141/150\n",
      "5332/5332 [==============================] - 0s 35us/step - loss: 0.6932 - accuracy: 0.5024\n",
      "Epoch 142/150\n",
      "5332/5332 [==============================] - 0s 32us/step - loss: 0.6932 - accuracy: 0.5024\n",
      "Epoch 143/150\n",
      "5332/5332 [==============================] - 0s 33us/step - loss: 0.6932 - accuracy: 0.5024\n",
      "Epoch 144/150\n",
      "5332/5332 [==============================] - 0s 29us/step - loss: 0.6932 - accuracy: 0.5024\n",
      "Epoch 145/150\n",
      "5332/5332 [==============================] - 0s 36us/step - loss: 0.6932 - accuracy: 0.5024\n",
      "Epoch 146/150\n",
      "5332/5332 [==============================] - 0s 29us/step - loss: 0.6932 - accuracy: 0.4942\n",
      "Epoch 147/150\n",
      "5332/5332 [==============================] - 0s 27us/step - loss: 0.6931 - accuracy: 0.5024\n",
      "Epoch 148/150\n",
      "5332/5332 [==============================] - 0s 32us/step - loss: 0.6932 - accuracy: 0.5024\n",
      "Epoch 149/150\n",
      "5332/5332 [==============================] - 0s 29us/step - loss: 0.6932 - accuracy: 0.5024\n",
      "Epoch 150/150\n",
      "5332/5332 [==============================] - 0s 30us/step - loss: 0.6932 - accuracy: 0.5024\n",
      "1777/1777 [==============================] - 0s 30us/step\n",
      "Epoch 1/150\n",
      "5332/5332 [==============================] - 0s 43us/step - loss: 0.6931 - accuracy: 0.5045\n",
      "Epoch 2/150\n",
      "5332/5332 [==============================] - 0s 38us/step - loss: 0.6916 - accuracy: 0.5739\n",
      "Epoch 3/150\n",
      "5332/5332 [==============================] - 0s 33us/step - loss: 0.6849 - accuracy: 0.6095\n",
      "Epoch 4/150\n",
      "5332/5332 [==============================] - 0s 29us/step - loss: 0.6736 - accuracy: 0.6423\n",
      "Epoch 5/150\n",
      "5332/5332 [==============================] - 0s 31us/step - loss: 0.6601 - accuracy: 0.6579\n",
      "Epoch 6/150\n",
      "5332/5332 [==============================] - 0s 32us/step - loss: 0.6470 - accuracy: 0.6860\n",
      "Epoch 7/150\n",
      "5332/5332 [==============================] - 0s 38us/step - loss: 0.6352 - accuracy: 0.7001\n",
      "Epoch 8/150\n",
      "5332/5332 [==============================] - 0s 35us/step - loss: 0.6199 - accuracy: 0.7127\n",
      "Epoch 9/150\n",
      "5332/5332 [==============================] - 0s 33us/step - loss: 0.5863 - accuracy: 0.7200\n",
      "Epoch 10/150\n",
      "5332/5332 [==============================] - 0s 34us/step - loss: 0.5676 - accuracy: 0.7239\n",
      "Epoch 11/150\n",
      "5332/5332 [==============================] - 0s 29us/step - loss: 0.5603 - accuracy: 0.7236\n",
      "Epoch 12/150\n",
      "5332/5332 [==============================] - 0s 29us/step - loss: 0.5564 - accuracy: 0.7221\n",
      "Epoch 13/150\n",
      "5332/5332 [==============================] - 0s 28us/step - loss: 0.5541 - accuracy: 0.7245\n",
      "Epoch 14/150\n",
      "5332/5332 [==============================] - 0s 29us/step - loss: 0.5523 - accuracy: 0.7245\n",
      "Epoch 15/150\n",
      "5332/5332 [==============================] - 0s 31us/step - loss: 0.5519 - accuracy: 0.7243\n",
      "Epoch 16/150\n"
     ]
    },
    {
     "name": "stdout",
     "output_type": "stream",
     "text": [
      "5332/5332 [==============================] - 0s 32us/step - loss: 0.5510 - accuracy: 0.7260\n",
      "Epoch 17/150\n",
      "5332/5332 [==============================] - 0s 35us/step - loss: 0.5511 - accuracy: 0.7284\n",
      "Epoch 18/150\n",
      "5332/5332 [==============================] - 0s 35us/step - loss: 0.5506 - accuracy: 0.7260\n",
      "Epoch 19/150\n",
      "5332/5332 [==============================] - 0s 32us/step - loss: 0.5504 - accuracy: 0.7269\n",
      "Epoch 20/150\n",
      "5332/5332 [==============================] - 0s 39us/step - loss: 0.5502 - accuracy: 0.7245\n",
      "Epoch 21/150\n",
      "5332/5332 [==============================] - 0s 38us/step - loss: 0.5499 - accuracy: 0.7267\n",
      "Epoch 22/150\n",
      "5332/5332 [==============================] - 0s 36us/step - loss: 0.5497 - accuracy: 0.7264\n",
      "Epoch 23/150\n",
      "5332/5332 [==============================] - 0s 32us/step - loss: 0.5495 - accuracy: 0.7269\n",
      "Epoch 24/150\n",
      "5332/5332 [==============================] - 0s 35us/step - loss: 0.5493 - accuracy: 0.7262\n",
      "Epoch 25/150\n",
      "5332/5332 [==============================] - 0s 32us/step - loss: 0.5493 - accuracy: 0.7249\n",
      "Epoch 26/150\n",
      "5332/5332 [==============================] - 0s 33us/step - loss: 0.5498 - accuracy: 0.7249\n",
      "Epoch 27/150\n",
      "5332/5332 [==============================] - 0s 32us/step - loss: 0.5494 - accuracy: 0.7277\n",
      "Epoch 28/150\n",
      "5332/5332 [==============================] - 0s 33us/step - loss: 0.5489 - accuracy: 0.7264\n",
      "Epoch 29/150\n",
      "5332/5332 [==============================] - 0s 33us/step - loss: 0.5492 - accuracy: 0.7264\n",
      "Epoch 30/150\n",
      "5332/5332 [==============================] - 0s 37us/step - loss: 0.5493 - accuracy: 0.7247\n",
      "Epoch 31/150\n",
      "5332/5332 [==============================] - 0s 35us/step - loss: 0.5491 - accuracy: 0.7241\n",
      "Epoch 32/150\n",
      "5332/5332 [==============================] - 0s 38us/step - loss: 0.5493 - accuracy: 0.7266\n",
      "Epoch 33/150\n",
      "5332/5332 [==============================] - 0s 40us/step - loss: 0.5488 - accuracy: 0.7251\n",
      "Epoch 34/150\n",
      "5332/5332 [==============================] - 0s 30us/step - loss: 0.5484 - accuracy: 0.7271\n",
      "Epoch 35/150\n",
      "5332/5332 [==============================] - 0s 33us/step - loss: 0.5486 - accuracy: 0.7239\n",
      "Epoch 36/150\n",
      "5332/5332 [==============================] - 0s 29us/step - loss: 0.5491 - accuracy: 0.7236\n",
      "Epoch 37/150\n",
      "5332/5332 [==============================] - 0s 29us/step - loss: 0.5484 - accuracy: 0.7260\n",
      "Epoch 38/150\n",
      "5332/5332 [==============================] - 0s 38us/step - loss: 0.5488 - accuracy: 0.7254\n",
      "Epoch 39/150\n",
      "5332/5332 [==============================] - 0s 33us/step - loss: 0.5485 - accuracy: 0.7241\n",
      "Epoch 40/150\n",
      "5332/5332 [==============================] - 0s 32us/step - loss: 0.5486 - accuracy: 0.7245\n",
      "Epoch 41/150\n",
      "5332/5332 [==============================] - 0s 27us/step - loss: 0.5482 - accuracy: 0.7260\n",
      "Epoch 42/150\n",
      "5332/5332 [==============================] - 0s 35us/step - loss: 0.5483 - accuracy: 0.7275\n",
      "Epoch 43/150\n",
      "5332/5332 [==============================] - 0s 27us/step - loss: 0.5484 - accuracy: 0.7241\n",
      "Epoch 44/150\n",
      "5332/5332 [==============================] - 0s 34us/step - loss: 0.5484 - accuracy: 0.7266\n",
      "Epoch 45/150\n",
      "5332/5332 [==============================] - 0s 44us/step - loss: 0.5484 - accuracy: 0.7245\n",
      "Epoch 46/150\n",
      "5332/5332 [==============================] - 0s 36us/step - loss: 0.5477 - accuracy: 0.7247\n",
      "Epoch 47/150\n",
      "5332/5332 [==============================] - 0s 30us/step - loss: 0.5479 - accuracy: 0.7251\n",
      "Epoch 48/150\n",
      "5332/5332 [==============================] - 0s 32us/step - loss: 0.5481 - accuracy: 0.7245\n",
      "Epoch 49/150\n",
      "5332/5332 [==============================] - 0s 31us/step - loss: 0.5478 - accuracy: 0.7264\n",
      "Epoch 50/150\n",
      "5332/5332 [==============================] - 0s 33us/step - loss: 0.5481 - accuracy: 0.7290\n",
      "Epoch 51/150\n",
      "5332/5332 [==============================] - 0s 36us/step - loss: 0.5480 - accuracy: 0.7251\n",
      "Epoch 52/150\n",
      "5332/5332 [==============================] - 0s 30us/step - loss: 0.5478 - accuracy: 0.7247\n",
      "Epoch 53/150\n",
      "5332/5332 [==============================] - 0s 34us/step - loss: 0.5474 - accuracy: 0.7273\n",
      "Epoch 54/150\n",
      "5332/5332 [==============================] - 0s 38us/step - loss: 0.5477 - accuracy: 0.7247\n",
      "Epoch 55/150\n",
      "5332/5332 [==============================] - 0s 35us/step - loss: 0.5477 - accuracy: 0.7254\n",
      "Epoch 56/150\n",
      "5332/5332 [==============================] - 0s 33us/step - loss: 0.5476 - accuracy: 0.7273\n",
      "Epoch 57/150\n",
      "5332/5332 [==============================] - 0s 29us/step - loss: 0.5473 - accuracy: 0.7251\n",
      "Epoch 58/150\n",
      "5332/5332 [==============================] - 0s 32us/step - loss: 0.5479 - accuracy: 0.7245\n",
      "Epoch 59/150\n",
      "5332/5332 [==============================] - 0s 33us/step - loss: 0.5471 - accuracy: 0.7262\n",
      "Epoch 60/150\n",
      "5332/5332 [==============================] - 0s 30us/step - loss: 0.5472 - accuracy: 0.7267\n",
      "Epoch 61/150\n",
      "5332/5332 [==============================] - 0s 34us/step - loss: 0.5472 - accuracy: 0.7258\n",
      "Epoch 62/150\n",
      "5332/5332 [==============================] - 0s 35us/step - loss: 0.5474 - accuracy: 0.7243\n",
      "Epoch 63/150\n",
      "5332/5332 [==============================] - 0s 32us/step - loss: 0.5471 - accuracy: 0.7267\n",
      "Epoch 64/150\n",
      "5332/5332 [==============================] - 0s 36us/step - loss: 0.5472 - accuracy: 0.7241\n",
      "Epoch 65/150\n",
      "5332/5332 [==============================] - 0s 34us/step - loss: 0.5470 - accuracy: 0.7256\n",
      "Epoch 66/150\n",
      "5332/5332 [==============================] - 0s 40us/step - loss: 0.5474 - accuracy: 0.7266\n",
      "Epoch 67/150\n",
      "5332/5332 [==============================] - 0s 34us/step - loss: 0.5470 - accuracy: 0.7247\n",
      "Epoch 68/150\n",
      "5332/5332 [==============================] - 0s 36us/step - loss: 0.5471 - accuracy: 0.7254\n",
      "Epoch 69/150\n",
      "5332/5332 [==============================] - 0s 38us/step - loss: 0.5472 - accuracy: 0.7262\n",
      "Epoch 70/150\n",
      "5332/5332 [==============================] - 0s 38us/step - loss: 0.5467 - accuracy: 0.7267\n",
      "Epoch 71/150\n",
      "5332/5332 [==============================] - 0s 37us/step - loss: 0.5469 - accuracy: 0.7254\n",
      "Epoch 72/150\n",
      "5332/5332 [==============================] - 0s 30us/step - loss: 0.5472 - accuracy: 0.7262\n",
      "Epoch 73/150\n",
      "5332/5332 [==============================] - 0s 38us/step - loss: 0.5470 - accuracy: 0.7264\n",
      "Epoch 74/150\n",
      "5332/5332 [==============================] - 0s 32us/step - loss: 0.5470 - accuracy: 0.7275\n",
      "Epoch 75/150\n",
      "5332/5332 [==============================] - 0s 32us/step - loss: 0.5469 - accuracy: 0.7267\n",
      "Epoch 76/150\n",
      "5332/5332 [==============================] - 0s 32us/step - loss: 0.5468 - accuracy: 0.7260\n",
      "Epoch 77/150\n",
      "5332/5332 [==============================] - 0s 39us/step - loss: 0.5469 - accuracy: 0.7260\n",
      "Epoch 78/150\n",
      "5332/5332 [==============================] - 0s 37us/step - loss: 0.5473 - accuracy: 0.7249\n",
      "Epoch 79/150\n",
      "5332/5332 [==============================] - 0s 41us/step - loss: 0.5462 - accuracy: 0.7267\n",
      "Epoch 80/150\n",
      "5332/5332 [==============================] - 0s 41us/step - loss: 0.5463 - accuracy: 0.7275\n",
      "Epoch 81/150\n",
      "5332/5332 [==============================] - 0s 37us/step - loss: 0.5465 - accuracy: 0.7251\n",
      "Epoch 82/150\n",
      "5332/5332 [==============================] - 0s 33us/step - loss: 0.5466 - accuracy: 0.7267\n",
      "Epoch 83/150\n",
      "5332/5332 [==============================] - 0s 30us/step - loss: 0.5464 - accuracy: 0.7271\n",
      "Epoch 84/150\n",
      "5332/5332 [==============================] - 0s 35us/step - loss: 0.5464 - accuracy: 0.7269\n",
      "Epoch 85/150\n",
      "5332/5332 [==============================] - 0s 35us/step - loss: 0.5465 - accuracy: 0.7273\n",
      "Epoch 86/150\n",
      "5332/5332 [==============================] - 0s 32us/step - loss: 0.5465 - accuracy: 0.7254\n",
      "Epoch 87/150\n",
      "5332/5332 [==============================] - 0s 29us/step - loss: 0.5461 - accuracy: 0.7296\n",
      "Epoch 88/150\n",
      "5332/5332 [==============================] - 0s 40us/step - loss: 0.5462 - accuracy: 0.7271\n",
      "Epoch 89/150\n",
      "5332/5332 [==============================] - 0s 35us/step - loss: 0.5459 - accuracy: 0.7288\n",
      "Epoch 90/150\n",
      "5332/5332 [==============================] - 0s 29us/step - loss: 0.5461 - accuracy: 0.7266\n",
      "Epoch 91/150\n",
      "5332/5332 [==============================] - 0s 30us/step - loss: 0.5458 - accuracy: 0.7264\n",
      "Epoch 92/150\n",
      "5332/5332 [==============================] - 0s 32us/step - loss: 0.5461 - accuracy: 0.7271\n",
      "Epoch 93/150\n",
      "5332/5332 [==============================] - 0s 34us/step - loss: 0.5462 - accuracy: 0.7271\n",
      "Epoch 94/150\n"
     ]
    },
    {
     "name": "stdout",
     "output_type": "stream",
     "text": [
      "5332/5332 [==============================] - 0s 33us/step - loss: 0.5459 - accuracy: 0.7267\n",
      "Epoch 95/150\n",
      "5332/5332 [==============================] - 0s 35us/step - loss: 0.5461 - accuracy: 0.7256\n",
      "Epoch 96/150\n",
      "5332/5332 [==============================] - 0s 31us/step - loss: 0.5457 - accuracy: 0.7260\n",
      "Epoch 97/150\n",
      "5332/5332 [==============================] - 0s 35us/step - loss: 0.5456 - accuracy: 0.7228\n",
      "Epoch 98/150\n",
      "5332/5332 [==============================] - 0s 35us/step - loss: 0.5461 - accuracy: 0.7249\n",
      "Epoch 99/150\n",
      "5332/5332 [==============================] - 0s 28us/step - loss: 0.5466 - accuracy: 0.7286\n",
      "Epoch 100/150\n",
      "5332/5332 [==============================] - 0s 30us/step - loss: 0.5464 - accuracy: 0.7254\n",
      "Epoch 101/150\n",
      "5332/5332 [==============================] - 0s 36us/step - loss: 0.5453 - accuracy: 0.7271\n",
      "Epoch 102/150\n",
      "5332/5332 [==============================] - 0s 32us/step - loss: 0.5457 - accuracy: 0.7264\n",
      "Epoch 103/150\n",
      "5332/5332 [==============================] - 0s 29us/step - loss: 0.5458 - accuracy: 0.7249\n",
      "Epoch 104/150\n",
      "5332/5332 [==============================] - 0s 31us/step - loss: 0.5458 - accuracy: 0.7264\n",
      "Epoch 105/150\n",
      "5332/5332 [==============================] - 0s 32us/step - loss: 0.5454 - accuracy: 0.7264\n",
      "Epoch 106/150\n",
      "5332/5332 [==============================] - 0s 32us/step - loss: 0.5457 - accuracy: 0.7271\n",
      "Epoch 107/150\n",
      "5332/5332 [==============================] - 0s 35us/step - loss: 0.5451 - accuracy: 0.7254\n",
      "Epoch 108/150\n",
      "5332/5332 [==============================] - 0s 40us/step - loss: 0.5451 - accuracy: 0.7267\n",
      "Epoch 109/150\n",
      "5332/5332 [==============================] - 0s 37us/step - loss: 0.5455 - accuracy: 0.7260\n",
      "Epoch 110/150\n",
      "5332/5332 [==============================] - 0s 34us/step - loss: 0.5450 - accuracy: 0.7288\n",
      "Epoch 111/150\n",
      "5332/5332 [==============================] - 0s 36us/step - loss: 0.5453 - accuracy: 0.7267\n",
      "Epoch 112/150\n",
      "5332/5332 [==============================] - 0s 36us/step - loss: 0.5449 - accuracy: 0.7275\n",
      "Epoch 113/150\n",
      "5332/5332 [==============================] - 0s 35us/step - loss: 0.5450 - accuracy: 0.7269\n",
      "Epoch 114/150\n",
      "5332/5332 [==============================] - 0s 35us/step - loss: 0.5451 - accuracy: 0.7269\n",
      "Epoch 115/150\n",
      "5332/5332 [==============================] - 0s 31us/step - loss: 0.5451 - accuracy: 0.7264\n",
      "Epoch 116/150\n",
      "5332/5332 [==============================] - 0s 34us/step - loss: 0.5449 - accuracy: 0.7277\n",
      "Epoch 117/150\n",
      "5332/5332 [==============================] - 0s 32us/step - loss: 0.5450 - accuracy: 0.7251\n",
      "Epoch 118/150\n",
      "5332/5332 [==============================] - 0s 29us/step - loss: 0.5448 - accuracy: 0.7275\n",
      "Epoch 119/150\n",
      "5332/5332 [==============================] - 0s 38us/step - loss: 0.5451 - accuracy: 0.7222\n",
      "Epoch 120/150\n",
      "5332/5332 [==============================] - 0s 32us/step - loss: 0.5451 - accuracy: 0.7258\n",
      "Epoch 121/150\n",
      "5332/5332 [==============================] - 0s 36us/step - loss: 0.5446 - accuracy: 0.7275\n",
      "Epoch 122/150\n",
      "5332/5332 [==============================] - 0s 38us/step - loss: 0.5452 - accuracy: 0.7277\n",
      "Epoch 123/150\n",
      "5332/5332 [==============================] - 0s 32us/step - loss: 0.5446 - accuracy: 0.7275\n",
      "Epoch 124/150\n",
      "5332/5332 [==============================] - 0s 41us/step - loss: 0.5450 - accuracy: 0.7252\n",
      "Epoch 125/150\n",
      "5332/5332 [==============================] - 0s 35us/step - loss: 0.5451 - accuracy: 0.7260\n",
      "Epoch 126/150\n",
      "5332/5332 [==============================] - 0s 36us/step - loss: 0.5448 - accuracy: 0.7256\n",
      "Epoch 127/150\n",
      "5332/5332 [==============================] - 0s 31us/step - loss: 0.5448 - accuracy: 0.7260\n",
      "Epoch 128/150\n",
      "5332/5332 [==============================] - 0s 38us/step - loss: 0.5446 - accuracy: 0.7254\n",
      "Epoch 129/150\n",
      "5332/5332 [==============================] - 0s 32us/step - loss: 0.5447 - accuracy: 0.7228\n",
      "Epoch 130/150\n",
      "5332/5332 [==============================] - 0s 29us/step - loss: 0.5444 - accuracy: 0.7258\n",
      "Epoch 131/150\n",
      "5332/5332 [==============================] - 0s 34us/step - loss: 0.5447 - accuracy: 0.7260\n",
      "Epoch 132/150\n",
      "5332/5332 [==============================] - 0s 33us/step - loss: 0.5446 - accuracy: 0.7266\n",
      "Epoch 133/150\n",
      "5332/5332 [==============================] - 0s 35us/step - loss: 0.5442 - accuracy: 0.7267\n",
      "Epoch 134/150\n",
      "5332/5332 [==============================] - 0s 32us/step - loss: 0.5448 - accuracy: 0.7254\n",
      "Epoch 135/150\n",
      "5332/5332 [==============================] - 0s 28us/step - loss: 0.5445 - accuracy: 0.7264\n",
      "Epoch 136/150\n",
      "5332/5332 [==============================] - 0s 32us/step - loss: 0.5443 - accuracy: 0.7258\n",
      "Epoch 137/150\n",
      "5332/5332 [==============================] - 0s 34us/step - loss: 0.5444 - accuracy: 0.7237\n",
      "Epoch 138/150\n",
      "5332/5332 [==============================] - 0s 35us/step - loss: 0.5439 - accuracy: 0.7264\n",
      "Epoch 139/150\n",
      "5332/5332 [==============================] - 0s 38us/step - loss: 0.5438 - accuracy: 0.7269\n",
      "Epoch 140/150\n",
      "5332/5332 [==============================] - 0s 32us/step - loss: 0.5444 - accuracy: 0.7236\n",
      "Epoch 141/150\n",
      "5332/5332 [==============================] - 0s 38us/step - loss: 0.5448 - accuracy: 0.7264\n",
      "Epoch 142/150\n",
      "5332/5332 [==============================] - 0s 34us/step - loss: 0.5442 - accuracy: 0.7264\n",
      "Epoch 143/150\n",
      "5332/5332 [==============================] - 0s 30us/step - loss: 0.5437 - accuracy: 0.7245\n",
      "Epoch 144/150\n",
      "5332/5332 [==============================] - 0s 29us/step - loss: 0.5440 - accuracy: 0.7269\n",
      "Epoch 145/150\n",
      "5332/5332 [==============================] - 0s 31us/step - loss: 0.5437 - accuracy: 0.7245\n",
      "Epoch 146/150\n",
      "5332/5332 [==============================] - 0s 35us/step - loss: 0.5435 - accuracy: 0.7277\n",
      "Epoch 147/150\n",
      "5332/5332 [==============================] - 0s 35us/step - loss: 0.5439 - accuracy: 0.7258\n",
      "Epoch 148/150\n",
      "5332/5332 [==============================] - 0s 29us/step - loss: 0.5442 - accuracy: 0.7243\n",
      "Epoch 149/150\n",
      "5332/5332 [==============================] - 0s 29us/step - loss: 0.5440 - accuracy: 0.7252\n",
      "Epoch 150/150\n",
      "5332/5332 [==============================] - 0s 30us/step - loss: 0.5433 - accuracy: 0.7256\n",
      "1777/1777 [==============================] - 0s 31us/step\n",
      "Accuracy mean: 0.67758409678936\n",
      "Accuracy variance: 0.10277476331724532\n"
     ]
    }
   ],
   "source": [
    "from keras.wrappers.scikit_learn import KerasClassifier\n",
    "from sklearn.model_selection import cross_val_score\n",
    "from keras.models import Sequential # initialize neural network library \n",
    "from keras.layers import Dense # build our layers library\n",
    "def build_classifier2():\n",
    "    classifier = Sequential() # initialize neural network\n",
    "    classifier.add(Dense(units = 7, kernel_initializer = 'uniform', activation = 'relu', input_dim = x_train.shape[1])) # we use dimension of x_train as input\n",
    "    classifier.add(Dense(units = 4, kernel_initializer = 'uniform', activation = 'relu')) # we use 4 nodes in second layer\n",
    "    classifier.add(Dense(units = 1, kernel_initializer = 'uniform', activation = 'sigmoid')) # if we use sigmoid function it means we add output layer\n",
    "    classifier.compile(optimizer = 'adam', loss = 'binary_crossentropy', metrics = ['accuracy']) # we will use accuracy as metrics\n",
    "    return classifier\n",
    "\n",
    "classifier = KerasClassifier(build_fn = build_classifier2, epochs = 150) # epochs means that is number of iteration \n",
    "accuracies = cross_val_score(estimator = classifier, X = x_train, y = y_train, cv = 4)\n",
    "mean = accuracies.mean()\n",
    "variance = accuracies.std()\n",
    "print(\"Accuracy mean: \"+ str(mean))\n",
    "print(\"Accuracy variance: \"+ str(variance))"
   ]
  },
  {
   "cell_type": "code",
   "execution_count": 60,
   "metadata": {},
   "outputs": [],
   "source": [
    "data_temproray.loc[-1] = [2, 4, 150,  0.6640782611279521]  # adding a row\n",
    "data_temproray.index = data_temproray.index + 1  # shifting index\n",
    "data_temproray = data_temproray.sort_index()  # sorting by index\n",
    "\n",
    "data_temproray.loc[-1] = [3, 3, 100, 0.492614638565769]  # adding a row\n",
    "data_temproray.index = data_temproray.index + 1  # shifting index\n",
    "data_temproray = data_temproray.sort_index()  # sorting by index\n",
    "\n",
    "data_temproray.loc[-1] = [3, 4, 150, 0.49022363005586056]  # adding a row\n",
    "data_temproray.index = data_temproray.index + 1  # shifting index\n",
    "data_temproray = data_temproray.sort_index()  # sorting by index\n",
    "\n",
    "data_temproray.loc[-1] = [2, 4, 150, 0.7318890200427076]  # adding a row\n",
    "data_temproray.index = data_temproray.index + 1  # shifting index\n",
    "data_temproray = data_temproray.sort_index()  # sorting by index\n",
    "\n",
    "data_temproray.loc[-1] = [2, 5, 150, 0.7341438597594337]  # adding a row\n",
    "data_temproray.index = data_temproray.index + 1  # shifting index\n",
    "data_temproray = data_temproray.sort_index()  # sorting by index\n",
    "\n",
    "data_temproray.loc[-1] = [2, 4, 200, 0.7310445842269522]  # adding a row\n",
    "data_temproray.index = data_temproray.index + 1  # shifting index\n",
    "data_temproray = data_temproray.sort_index()  # sorting by index"
   ]
  },
  {
   "cell_type": "markdown",
   "metadata": {},
   "source": [
    " "
   ]
  },
  {
   "cell_type": "code",
   "execution_count": 61,
   "metadata": {},
   "outputs": [
    {
     "data": {
      "text/html": [
       "<div>\n",
       "<style scoped>\n",
       "    .dataframe tbody tr th:only-of-type {\n",
       "        vertical-align: middle;\n",
       "    }\n",
       "\n",
       "    .dataframe tbody tr th {\n",
       "        vertical-align: top;\n",
       "    }\n",
       "\n",
       "    .dataframe thead th {\n",
       "        text-align: right;\n",
       "    }\n",
       "</style>\n",
       "<table border=\"1\" class=\"dataframe\">\n",
       "  <thead>\n",
       "    <tr style=\"text-align: right;\">\n",
       "      <th></th>\n",
       "      <th>ANN_Num</th>\n",
       "      <th>CV</th>\n",
       "      <th>epochs</th>\n",
       "      <th>accuracy</th>\n",
       "    </tr>\n",
       "  </thead>\n",
       "  <tbody>\n",
       "    <tr>\n",
       "      <th>0</th>\n",
       "      <td>2.0</td>\n",
       "      <td>4.0</td>\n",
       "      <td>200.0</td>\n",
       "      <td>0.731045</td>\n",
       "    </tr>\n",
       "    <tr>\n",
       "      <th>1</th>\n",
       "      <td>2.0</td>\n",
       "      <td>5.0</td>\n",
       "      <td>150.0</td>\n",
       "      <td>0.734144</td>\n",
       "    </tr>\n",
       "    <tr>\n",
       "      <th>2</th>\n",
       "      <td>2.0</td>\n",
       "      <td>4.0</td>\n",
       "      <td>150.0</td>\n",
       "      <td>0.731889</td>\n",
       "    </tr>\n",
       "    <tr>\n",
       "      <th>3</th>\n",
       "      <td>3.0</td>\n",
       "      <td>4.0</td>\n",
       "      <td>150.0</td>\n",
       "      <td>0.490224</td>\n",
       "    </tr>\n",
       "    <tr>\n",
       "      <th>4</th>\n",
       "      <td>3.0</td>\n",
       "      <td>3.0</td>\n",
       "      <td>100.0</td>\n",
       "      <td>0.492615</td>\n",
       "    </tr>\n",
       "    <tr>\n",
       "      <th>5</th>\n",
       "      <td>2.0</td>\n",
       "      <td>4.0</td>\n",
       "      <td>150.0</td>\n",
       "      <td>0.664078</td>\n",
       "    </tr>\n",
       "    <tr>\n",
       "      <th>6</th>\n",
       "      <td>2.0</td>\n",
       "      <td>3.0</td>\n",
       "      <td>100.0</td>\n",
       "      <td>0.655800</td>\n",
       "    </tr>\n",
       "  </tbody>\n",
       "</table>\n",
       "</div>"
      ],
      "text/plain": [
       "   ANN_Num   CV  epochs  accuracy\n",
       "0      2.0  4.0   200.0  0.731045\n",
       "1      2.0  5.0   150.0  0.734144\n",
       "2      2.0  4.0   150.0  0.731889\n",
       "3      3.0  4.0   150.0  0.490224\n",
       "4      3.0  3.0   100.0  0.492615\n",
       "5      2.0  4.0   150.0  0.664078\n",
       "6      2.0  3.0   100.0  0.655800"
      ]
     },
     "execution_count": 61,
     "metadata": {},
     "output_type": "execute_result"
    }
   ],
   "source": [
    "data_temproray"
   ]
  },
  {
   "cell_type": "markdown",
   "metadata": {},
   "source": [
    " "
   ]
  },
  {
   "cell_type": "code",
   "execution_count": 62,
   "metadata": {},
   "outputs": [],
   "source": [
    "data_temproray.accuracy = data_temproray.accuracy.apply(lambda x: x*100)"
   ]
  },
  {
   "cell_type": "code",
   "execution_count": 63,
   "metadata": {},
   "outputs": [
    {
     "data": {
      "text/html": [
       "<div>\n",
       "<style scoped>\n",
       "    .dataframe tbody tr th:only-of-type {\n",
       "        vertical-align: middle;\n",
       "    }\n",
       "\n",
       "    .dataframe tbody tr th {\n",
       "        vertical-align: top;\n",
       "    }\n",
       "\n",
       "    .dataframe thead th {\n",
       "        text-align: right;\n",
       "    }\n",
       "</style>\n",
       "<table border=\"1\" class=\"dataframe\">\n",
       "  <thead>\n",
       "    <tr style=\"text-align: right;\">\n",
       "      <th></th>\n",
       "      <th>ANN_Num</th>\n",
       "      <th>CV</th>\n",
       "      <th>epochs</th>\n",
       "      <th>accuracy</th>\n",
       "    </tr>\n",
       "  </thead>\n",
       "  <tbody>\n",
       "    <tr>\n",
       "      <th>0</th>\n",
       "      <td>2.0</td>\n",
       "      <td>4.0</td>\n",
       "      <td>200.0</td>\n",
       "      <td>73.104458</td>\n",
       "    </tr>\n",
       "    <tr>\n",
       "      <th>1</th>\n",
       "      <td>2.0</td>\n",
       "      <td>5.0</td>\n",
       "      <td>150.0</td>\n",
       "      <td>73.414386</td>\n",
       "    </tr>\n",
       "    <tr>\n",
       "      <th>2</th>\n",
       "      <td>2.0</td>\n",
       "      <td>4.0</td>\n",
       "      <td>150.0</td>\n",
       "      <td>73.188902</td>\n",
       "    </tr>\n",
       "    <tr>\n",
       "      <th>3</th>\n",
       "      <td>3.0</td>\n",
       "      <td>4.0</td>\n",
       "      <td>150.0</td>\n",
       "      <td>49.022363</td>\n",
       "    </tr>\n",
       "    <tr>\n",
       "      <th>4</th>\n",
       "      <td>3.0</td>\n",
       "      <td>3.0</td>\n",
       "      <td>100.0</td>\n",
       "      <td>49.261464</td>\n",
       "    </tr>\n",
       "    <tr>\n",
       "      <th>5</th>\n",
       "      <td>2.0</td>\n",
       "      <td>4.0</td>\n",
       "      <td>150.0</td>\n",
       "      <td>66.407826</td>\n",
       "    </tr>\n",
       "    <tr>\n",
       "      <th>6</th>\n",
       "      <td>2.0</td>\n",
       "      <td>3.0</td>\n",
       "      <td>100.0</td>\n",
       "      <td>65.580040</td>\n",
       "    </tr>\n",
       "  </tbody>\n",
       "</table>\n",
       "</div>"
      ],
      "text/plain": [
       "   ANN_Num   CV  epochs   accuracy\n",
       "0      2.0  4.0   200.0  73.104458\n",
       "1      2.0  5.0   150.0  73.414386\n",
       "2      2.0  4.0   150.0  73.188902\n",
       "3      3.0  4.0   150.0  49.022363\n",
       "4      3.0  3.0   100.0  49.261464\n",
       "5      2.0  4.0   150.0  66.407826\n",
       "6      2.0  3.0   100.0  65.580040"
      ]
     },
     "execution_count": 63,
     "metadata": {},
     "output_type": "execute_result"
    }
   ],
   "source": [
    "data_temproray"
   ]
  },
  {
   "cell_type": "markdown",
   "metadata": {},
   "source": [
    " "
   ]
  },
  {
   "cell_type": "markdown",
   "metadata": {},
   "source": [
    "Import plotly.plotly as py"
   ]
  },
  {
   "cell_type": "code",
   "execution_count": 64,
   "metadata": {},
   "outputs": [
    {
     "data": {
      "text/html": [
       "        <script type=\"text/javascript\">\n",
       "        window.PlotlyConfig = {MathJaxConfig: 'local'};\n",
       "        if (window.MathJax) {MathJax.Hub.Config({SVG: {font: \"STIX-Web\"}});}\n",
       "        if (typeof require !== 'undefined') {\n",
       "        require.undef(\"plotly\");\n",
       "        requirejs.config({\n",
       "            paths: {\n",
       "                'plotly': ['https://cdn.plot.ly/plotly-latest.min']\n",
       "            }\n",
       "        });\n",
       "        require(['plotly'], function(Plotly) {\n",
       "            window._Plotly = Plotly;\n",
       "        });\n",
       "        }\n",
       "        </script>\n",
       "        "
      ]
     },
     "metadata": {},
     "output_type": "display_data"
    },
    {
     "data": {
      "application/vnd.plotly.v1+json": {
       "config": {
        "linkText": "Export to plot.ly",
        "plotlyServerURL": "https://plot.ly",
        "showLink": false
       },
       "data": [
        {
         "marker": {
          "color": [
           200,
           150,
           150,
           150,
           100,
           150,
           100
          ],
          "showscale": true,
          "size": [
           73.10445842269522,
           73.41438597594338,
           73.18890200427076,
           49.02236300558606,
           49.261463856576896,
           66.4078261127952,
           65.58003964712987
          ]
         },
         "mode": "markers",
         "text": [
          73.10445842269522,
          73.41438597594338,
          73.18890200427076,
          49.02236300558606,
          49.261463856576896,
          66.4078261127952,
          65.58003964712987
         ],
         "type": "scatter",
         "x": [
          2,
          2,
          2,
          3,
          3,
          2,
          2
         ],
         "y": [
          4,
          5,
          4,
          4,
          3,
          4,
          3
         ]
        }
       ],
       "layout": {
        "template": {
         "data": {
          "bar": [
           {
            "error_x": {
             "color": "#2a3f5f"
            },
            "error_y": {
             "color": "#2a3f5f"
            },
            "marker": {
             "line": {
              "color": "#E5ECF6",
              "width": 0.5
             }
            },
            "type": "bar"
           }
          ],
          "barpolar": [
           {
            "marker": {
             "line": {
              "color": "#E5ECF6",
              "width": 0.5
             }
            },
            "type": "barpolar"
           }
          ],
          "carpet": [
           {
            "aaxis": {
             "endlinecolor": "#2a3f5f",
             "gridcolor": "white",
             "linecolor": "white",
             "minorgridcolor": "white",
             "startlinecolor": "#2a3f5f"
            },
            "baxis": {
             "endlinecolor": "#2a3f5f",
             "gridcolor": "white",
             "linecolor": "white",
             "minorgridcolor": "white",
             "startlinecolor": "#2a3f5f"
            },
            "type": "carpet"
           }
          ],
          "choropleth": [
           {
            "colorbar": {
             "outlinewidth": 0,
             "ticks": ""
            },
            "type": "choropleth"
           }
          ],
          "contour": [
           {
            "colorbar": {
             "outlinewidth": 0,
             "ticks": ""
            },
            "colorscale": [
             [
              0,
              "#0d0887"
             ],
             [
              0.1111111111111111,
              "#46039f"
             ],
             [
              0.2222222222222222,
              "#7201a8"
             ],
             [
              0.3333333333333333,
              "#9c179e"
             ],
             [
              0.4444444444444444,
              "#bd3786"
             ],
             [
              0.5555555555555556,
              "#d8576b"
             ],
             [
              0.6666666666666666,
              "#ed7953"
             ],
             [
              0.7777777777777778,
              "#fb9f3a"
             ],
             [
              0.8888888888888888,
              "#fdca26"
             ],
             [
              1,
              "#f0f921"
             ]
            ],
            "type": "contour"
           }
          ],
          "contourcarpet": [
           {
            "colorbar": {
             "outlinewidth": 0,
             "ticks": ""
            },
            "type": "contourcarpet"
           }
          ],
          "heatmap": [
           {
            "colorbar": {
             "outlinewidth": 0,
             "ticks": ""
            },
            "colorscale": [
             [
              0,
              "#0d0887"
             ],
             [
              0.1111111111111111,
              "#46039f"
             ],
             [
              0.2222222222222222,
              "#7201a8"
             ],
             [
              0.3333333333333333,
              "#9c179e"
             ],
             [
              0.4444444444444444,
              "#bd3786"
             ],
             [
              0.5555555555555556,
              "#d8576b"
             ],
             [
              0.6666666666666666,
              "#ed7953"
             ],
             [
              0.7777777777777778,
              "#fb9f3a"
             ],
             [
              0.8888888888888888,
              "#fdca26"
             ],
             [
              1,
              "#f0f921"
             ]
            ],
            "type": "heatmap"
           }
          ],
          "heatmapgl": [
           {
            "colorbar": {
             "outlinewidth": 0,
             "ticks": ""
            },
            "colorscale": [
             [
              0,
              "#0d0887"
             ],
             [
              0.1111111111111111,
              "#46039f"
             ],
             [
              0.2222222222222222,
              "#7201a8"
             ],
             [
              0.3333333333333333,
              "#9c179e"
             ],
             [
              0.4444444444444444,
              "#bd3786"
             ],
             [
              0.5555555555555556,
              "#d8576b"
             ],
             [
              0.6666666666666666,
              "#ed7953"
             ],
             [
              0.7777777777777778,
              "#fb9f3a"
             ],
             [
              0.8888888888888888,
              "#fdca26"
             ],
             [
              1,
              "#f0f921"
             ]
            ],
            "type": "heatmapgl"
           }
          ],
          "histogram": [
           {
            "marker": {
             "colorbar": {
              "outlinewidth": 0,
              "ticks": ""
             }
            },
            "type": "histogram"
           }
          ],
          "histogram2d": [
           {
            "colorbar": {
             "outlinewidth": 0,
             "ticks": ""
            },
            "colorscale": [
             [
              0,
              "#0d0887"
             ],
             [
              0.1111111111111111,
              "#46039f"
             ],
             [
              0.2222222222222222,
              "#7201a8"
             ],
             [
              0.3333333333333333,
              "#9c179e"
             ],
             [
              0.4444444444444444,
              "#bd3786"
             ],
             [
              0.5555555555555556,
              "#d8576b"
             ],
             [
              0.6666666666666666,
              "#ed7953"
             ],
             [
              0.7777777777777778,
              "#fb9f3a"
             ],
             [
              0.8888888888888888,
              "#fdca26"
             ],
             [
              1,
              "#f0f921"
             ]
            ],
            "type": "histogram2d"
           }
          ],
          "histogram2dcontour": [
           {
            "colorbar": {
             "outlinewidth": 0,
             "ticks": ""
            },
            "colorscale": [
             [
              0,
              "#0d0887"
             ],
             [
              0.1111111111111111,
              "#46039f"
             ],
             [
              0.2222222222222222,
              "#7201a8"
             ],
             [
              0.3333333333333333,
              "#9c179e"
             ],
             [
              0.4444444444444444,
              "#bd3786"
             ],
             [
              0.5555555555555556,
              "#d8576b"
             ],
             [
              0.6666666666666666,
              "#ed7953"
             ],
             [
              0.7777777777777778,
              "#fb9f3a"
             ],
             [
              0.8888888888888888,
              "#fdca26"
             ],
             [
              1,
              "#f0f921"
             ]
            ],
            "type": "histogram2dcontour"
           }
          ],
          "mesh3d": [
           {
            "colorbar": {
             "outlinewidth": 0,
             "ticks": ""
            },
            "type": "mesh3d"
           }
          ],
          "parcoords": [
           {
            "line": {
             "colorbar": {
              "outlinewidth": 0,
              "ticks": ""
             }
            },
            "type": "parcoords"
           }
          ],
          "pie": [
           {
            "automargin": true,
            "type": "pie"
           }
          ],
          "scatter": [
           {
            "marker": {
             "colorbar": {
              "outlinewidth": 0,
              "ticks": ""
             }
            },
            "type": "scatter"
           }
          ],
          "scatter3d": [
           {
            "line": {
             "colorbar": {
              "outlinewidth": 0,
              "ticks": ""
             }
            },
            "marker": {
             "colorbar": {
              "outlinewidth": 0,
              "ticks": ""
             }
            },
            "type": "scatter3d"
           }
          ],
          "scattercarpet": [
           {
            "marker": {
             "colorbar": {
              "outlinewidth": 0,
              "ticks": ""
             }
            },
            "type": "scattercarpet"
           }
          ],
          "scattergeo": [
           {
            "marker": {
             "colorbar": {
              "outlinewidth": 0,
              "ticks": ""
             }
            },
            "type": "scattergeo"
           }
          ],
          "scattergl": [
           {
            "marker": {
             "colorbar": {
              "outlinewidth": 0,
              "ticks": ""
             }
            },
            "type": "scattergl"
           }
          ],
          "scattermapbox": [
           {
            "marker": {
             "colorbar": {
              "outlinewidth": 0,
              "ticks": ""
             }
            },
            "type": "scattermapbox"
           }
          ],
          "scatterpolar": [
           {
            "marker": {
             "colorbar": {
              "outlinewidth": 0,
              "ticks": ""
             }
            },
            "type": "scatterpolar"
           }
          ],
          "scatterpolargl": [
           {
            "marker": {
             "colorbar": {
              "outlinewidth": 0,
              "ticks": ""
             }
            },
            "type": "scatterpolargl"
           }
          ],
          "scatterternary": [
           {
            "marker": {
             "colorbar": {
              "outlinewidth": 0,
              "ticks": ""
             }
            },
            "type": "scatterternary"
           }
          ],
          "surface": [
           {
            "colorbar": {
             "outlinewidth": 0,
             "ticks": ""
            },
            "colorscale": [
             [
              0,
              "#0d0887"
             ],
             [
              0.1111111111111111,
              "#46039f"
             ],
             [
              0.2222222222222222,
              "#7201a8"
             ],
             [
              0.3333333333333333,
              "#9c179e"
             ],
             [
              0.4444444444444444,
              "#bd3786"
             ],
             [
              0.5555555555555556,
              "#d8576b"
             ],
             [
              0.6666666666666666,
              "#ed7953"
             ],
             [
              0.7777777777777778,
              "#fb9f3a"
             ],
             [
              0.8888888888888888,
              "#fdca26"
             ],
             [
              1,
              "#f0f921"
             ]
            ],
            "type": "surface"
           }
          ],
          "table": [
           {
            "cells": {
             "fill": {
              "color": "#EBF0F8"
             },
             "line": {
              "color": "white"
             }
            },
            "header": {
             "fill": {
              "color": "#C8D4E3"
             },
             "line": {
              "color": "white"
             }
            },
            "type": "table"
           }
          ]
         },
         "layout": {
          "annotationdefaults": {
           "arrowcolor": "#2a3f5f",
           "arrowhead": 0,
           "arrowwidth": 1
          },
          "coloraxis": {
           "colorbar": {
            "outlinewidth": 0,
            "ticks": ""
           }
          },
          "colorscale": {
           "diverging": [
            [
             0,
             "#8e0152"
            ],
            [
             0.1,
             "#c51b7d"
            ],
            [
             0.2,
             "#de77ae"
            ],
            [
             0.3,
             "#f1b6da"
            ],
            [
             0.4,
             "#fde0ef"
            ],
            [
             0.5,
             "#f7f7f7"
            ],
            [
             0.6,
             "#e6f5d0"
            ],
            [
             0.7,
             "#b8e186"
            ],
            [
             0.8,
             "#7fbc41"
            ],
            [
             0.9,
             "#4d9221"
            ],
            [
             1,
             "#276419"
            ]
           ],
           "sequential": [
            [
             0,
             "#0d0887"
            ],
            [
             0.1111111111111111,
             "#46039f"
            ],
            [
             0.2222222222222222,
             "#7201a8"
            ],
            [
             0.3333333333333333,
             "#9c179e"
            ],
            [
             0.4444444444444444,
             "#bd3786"
            ],
            [
             0.5555555555555556,
             "#d8576b"
            ],
            [
             0.6666666666666666,
             "#ed7953"
            ],
            [
             0.7777777777777778,
             "#fb9f3a"
            ],
            [
             0.8888888888888888,
             "#fdca26"
            ],
            [
             1,
             "#f0f921"
            ]
           ],
           "sequentialminus": [
            [
             0,
             "#0d0887"
            ],
            [
             0.1111111111111111,
             "#46039f"
            ],
            [
             0.2222222222222222,
             "#7201a8"
            ],
            [
             0.3333333333333333,
             "#9c179e"
            ],
            [
             0.4444444444444444,
             "#bd3786"
            ],
            [
             0.5555555555555556,
             "#d8576b"
            ],
            [
             0.6666666666666666,
             "#ed7953"
            ],
            [
             0.7777777777777778,
             "#fb9f3a"
            ],
            [
             0.8888888888888888,
             "#fdca26"
            ],
            [
             1,
             "#f0f921"
            ]
           ]
          },
          "colorway": [
           "#636efa",
           "#EF553B",
           "#00cc96",
           "#ab63fa",
           "#FFA15A",
           "#19d3f3",
           "#FF6692",
           "#B6E880",
           "#FF97FF",
           "#FECB52"
          ],
          "font": {
           "color": "#2a3f5f"
          },
          "geo": {
           "bgcolor": "white",
           "lakecolor": "white",
           "landcolor": "#E5ECF6",
           "showlakes": true,
           "showland": true,
           "subunitcolor": "white"
          },
          "hoverlabel": {
           "align": "left"
          },
          "hovermode": "closest",
          "mapbox": {
           "style": "light"
          },
          "paper_bgcolor": "white",
          "plot_bgcolor": "#E5ECF6",
          "polar": {
           "angularaxis": {
            "gridcolor": "white",
            "linecolor": "white",
            "ticks": ""
           },
           "bgcolor": "#E5ECF6",
           "radialaxis": {
            "gridcolor": "white",
            "linecolor": "white",
            "ticks": ""
           }
          },
          "scene": {
           "xaxis": {
            "backgroundcolor": "#E5ECF6",
            "gridcolor": "white",
            "gridwidth": 2,
            "linecolor": "white",
            "showbackground": true,
            "ticks": "",
            "zerolinecolor": "white"
           },
           "yaxis": {
            "backgroundcolor": "#E5ECF6",
            "gridcolor": "white",
            "gridwidth": 2,
            "linecolor": "white",
            "showbackground": true,
            "ticks": "",
            "zerolinecolor": "white"
           },
           "zaxis": {
            "backgroundcolor": "#E5ECF6",
            "gridcolor": "white",
            "gridwidth": 2,
            "linecolor": "white",
            "showbackground": true,
            "ticks": "",
            "zerolinecolor": "white"
           }
          },
          "shapedefaults": {
           "line": {
            "color": "#2a3f5f"
           }
          },
          "ternary": {
           "aaxis": {
            "gridcolor": "white",
            "linecolor": "white",
            "ticks": ""
           },
           "baxis": {
            "gridcolor": "white",
            "linecolor": "white",
            "ticks": ""
           },
           "bgcolor": "#E5ECF6",
           "caxis": {
            "gridcolor": "white",
            "linecolor": "white",
            "ticks": ""
           }
          },
          "title": {
           "x": 0.05
          },
          "xaxis": {
           "automargin": true,
           "gridcolor": "white",
           "linecolor": "white",
           "ticks": "",
           "title": {
            "standoff": 15
           },
           "zerolinecolor": "white",
           "zerolinewidth": 2
          },
          "yaxis": {
           "automargin": true,
           "gridcolor": "white",
           "linecolor": "white",
           "ticks": "",
           "title": {
            "standoff": 15
           },
           "zerolinecolor": "white",
           "zerolinewidth": 2
          }
         }
        }
       }
      },
      "text/html": [
       "<div>                            <div id=\"d3e5f3dd-65a5-41a8-82ec-4835a9b29506\" class=\"plotly-graph-div\" style=\"height:525px; width:100%;\"></div>            <script type=\"text/javascript\">                require([\"plotly\"], function(Plotly) {                    window.PLOTLYENV=window.PLOTLYENV || {};                                    if (document.getElementById(\"d3e5f3dd-65a5-41a8-82ec-4835a9b29506\")) {                    Plotly.newPlot(                        \"d3e5f3dd-65a5-41a8-82ec-4835a9b29506\",                        [{\"marker\": {\"color\": [200.0, 150.0, 150.0, 150.0, 100.0, 150.0, 100.0], \"showscale\": true, \"size\": [73.10445842269522, 73.41438597594338, 73.18890200427076, 49.02236300558606, 49.261463856576896, 66.4078261127952, 65.58003964712987]}, \"mode\": \"markers\", \"text\": [73.10445842269522, 73.41438597594338, 73.18890200427076, 49.02236300558606, 49.261463856576896, 66.4078261127952, 65.58003964712987], \"type\": \"scatter\", \"x\": [2.0, 2.0, 2.0, 3.0, 3.0, 2.0, 2.0], \"y\": [4.0, 5.0, 4.0, 4.0, 3.0, 4.0, 3.0]}],                        {\"template\": {\"data\": {\"bar\": [{\"error_x\": {\"color\": \"#2a3f5f\"}, \"error_y\": {\"color\": \"#2a3f5f\"}, \"marker\": {\"line\": {\"color\": \"#E5ECF6\", \"width\": 0.5}}, \"type\": \"bar\"}], \"barpolar\": [{\"marker\": {\"line\": {\"color\": \"#E5ECF6\", \"width\": 0.5}}, \"type\": \"barpolar\"}], \"carpet\": [{\"aaxis\": {\"endlinecolor\": \"#2a3f5f\", \"gridcolor\": \"white\", \"linecolor\": \"white\", \"minorgridcolor\": \"white\", \"startlinecolor\": \"#2a3f5f\"}, \"baxis\": {\"endlinecolor\": \"#2a3f5f\", \"gridcolor\": \"white\", \"linecolor\": \"white\", \"minorgridcolor\": \"white\", \"startlinecolor\": \"#2a3f5f\"}, \"type\": \"carpet\"}], \"choropleth\": [{\"colorbar\": {\"outlinewidth\": 0, \"ticks\": \"\"}, \"type\": \"choropleth\"}], \"contour\": [{\"colorbar\": {\"outlinewidth\": 0, \"ticks\": \"\"}, \"colorscale\": [[0.0, \"#0d0887\"], [0.1111111111111111, \"#46039f\"], [0.2222222222222222, \"#7201a8\"], [0.3333333333333333, \"#9c179e\"], [0.4444444444444444, \"#bd3786\"], [0.5555555555555556, \"#d8576b\"], [0.6666666666666666, \"#ed7953\"], [0.7777777777777778, \"#fb9f3a\"], [0.8888888888888888, \"#fdca26\"], [1.0, \"#f0f921\"]], \"type\": \"contour\"}], \"contourcarpet\": [{\"colorbar\": {\"outlinewidth\": 0, \"ticks\": \"\"}, \"type\": \"contourcarpet\"}], \"heatmap\": [{\"colorbar\": {\"outlinewidth\": 0, \"ticks\": \"\"}, \"colorscale\": [[0.0, \"#0d0887\"], [0.1111111111111111, \"#46039f\"], [0.2222222222222222, \"#7201a8\"], [0.3333333333333333, \"#9c179e\"], [0.4444444444444444, \"#bd3786\"], [0.5555555555555556, \"#d8576b\"], [0.6666666666666666, \"#ed7953\"], [0.7777777777777778, \"#fb9f3a\"], [0.8888888888888888, \"#fdca26\"], [1.0, \"#f0f921\"]], \"type\": \"heatmap\"}], \"heatmapgl\": [{\"colorbar\": {\"outlinewidth\": 0, \"ticks\": \"\"}, \"colorscale\": [[0.0, \"#0d0887\"], [0.1111111111111111, \"#46039f\"], [0.2222222222222222, \"#7201a8\"], [0.3333333333333333, \"#9c179e\"], [0.4444444444444444, \"#bd3786\"], [0.5555555555555556, \"#d8576b\"], [0.6666666666666666, \"#ed7953\"], [0.7777777777777778, \"#fb9f3a\"], [0.8888888888888888, \"#fdca26\"], [1.0, \"#f0f921\"]], \"type\": \"heatmapgl\"}], \"histogram\": [{\"marker\": {\"colorbar\": {\"outlinewidth\": 0, \"ticks\": \"\"}}, \"type\": \"histogram\"}], \"histogram2d\": [{\"colorbar\": {\"outlinewidth\": 0, \"ticks\": \"\"}, \"colorscale\": [[0.0, \"#0d0887\"], [0.1111111111111111, \"#46039f\"], [0.2222222222222222, \"#7201a8\"], [0.3333333333333333, \"#9c179e\"], [0.4444444444444444, \"#bd3786\"], [0.5555555555555556, \"#d8576b\"], [0.6666666666666666, \"#ed7953\"], [0.7777777777777778, \"#fb9f3a\"], [0.8888888888888888, \"#fdca26\"], [1.0, \"#f0f921\"]], \"type\": \"histogram2d\"}], \"histogram2dcontour\": [{\"colorbar\": {\"outlinewidth\": 0, \"ticks\": \"\"}, \"colorscale\": [[0.0, \"#0d0887\"], [0.1111111111111111, \"#46039f\"], [0.2222222222222222, \"#7201a8\"], [0.3333333333333333, \"#9c179e\"], [0.4444444444444444, \"#bd3786\"], [0.5555555555555556, \"#d8576b\"], [0.6666666666666666, \"#ed7953\"], [0.7777777777777778, \"#fb9f3a\"], [0.8888888888888888, \"#fdca26\"], [1.0, \"#f0f921\"]], \"type\": \"histogram2dcontour\"}], \"mesh3d\": [{\"colorbar\": {\"outlinewidth\": 0, \"ticks\": \"\"}, \"type\": \"mesh3d\"}], \"parcoords\": [{\"line\": {\"colorbar\": {\"outlinewidth\": 0, \"ticks\": \"\"}}, \"type\": \"parcoords\"}], \"pie\": [{\"automargin\": true, \"type\": \"pie\"}], \"scatter\": [{\"marker\": {\"colorbar\": {\"outlinewidth\": 0, \"ticks\": \"\"}}, \"type\": \"scatter\"}], \"scatter3d\": [{\"line\": {\"colorbar\": {\"outlinewidth\": 0, \"ticks\": \"\"}}, \"marker\": {\"colorbar\": {\"outlinewidth\": 0, \"ticks\": \"\"}}, \"type\": \"scatter3d\"}], \"scattercarpet\": [{\"marker\": {\"colorbar\": {\"outlinewidth\": 0, \"ticks\": \"\"}}, \"type\": \"scattercarpet\"}], \"scattergeo\": [{\"marker\": {\"colorbar\": {\"outlinewidth\": 0, \"ticks\": \"\"}}, \"type\": \"scattergeo\"}], \"scattergl\": [{\"marker\": {\"colorbar\": {\"outlinewidth\": 0, \"ticks\": \"\"}}, \"type\": \"scattergl\"}], \"scattermapbox\": [{\"marker\": {\"colorbar\": {\"outlinewidth\": 0, \"ticks\": \"\"}}, \"type\": \"scattermapbox\"}], \"scatterpolar\": [{\"marker\": {\"colorbar\": {\"outlinewidth\": 0, \"ticks\": \"\"}}, \"type\": \"scatterpolar\"}], \"scatterpolargl\": [{\"marker\": {\"colorbar\": {\"outlinewidth\": 0, \"ticks\": \"\"}}, \"type\": \"scatterpolargl\"}], \"scatterternary\": [{\"marker\": {\"colorbar\": {\"outlinewidth\": 0, \"ticks\": \"\"}}, \"type\": \"scatterternary\"}], \"surface\": [{\"colorbar\": {\"outlinewidth\": 0, \"ticks\": \"\"}, \"colorscale\": [[0.0, \"#0d0887\"], [0.1111111111111111, \"#46039f\"], [0.2222222222222222, \"#7201a8\"], [0.3333333333333333, \"#9c179e\"], [0.4444444444444444, \"#bd3786\"], [0.5555555555555556, \"#d8576b\"], [0.6666666666666666, \"#ed7953\"], [0.7777777777777778, \"#fb9f3a\"], [0.8888888888888888, \"#fdca26\"], [1.0, \"#f0f921\"]], \"type\": \"surface\"}], \"table\": [{\"cells\": {\"fill\": {\"color\": \"#EBF0F8\"}, \"line\": {\"color\": \"white\"}}, \"header\": {\"fill\": {\"color\": \"#C8D4E3\"}, \"line\": {\"color\": \"white\"}}, \"type\": \"table\"}]}, \"layout\": {\"annotationdefaults\": {\"arrowcolor\": \"#2a3f5f\", \"arrowhead\": 0, \"arrowwidth\": 1}, \"coloraxis\": {\"colorbar\": {\"outlinewidth\": 0, \"ticks\": \"\"}}, \"colorscale\": {\"diverging\": [[0, \"#8e0152\"], [0.1, \"#c51b7d\"], [0.2, \"#de77ae\"], [0.3, \"#f1b6da\"], [0.4, \"#fde0ef\"], [0.5, \"#f7f7f7\"], [0.6, \"#e6f5d0\"], [0.7, \"#b8e186\"], [0.8, \"#7fbc41\"], [0.9, \"#4d9221\"], [1, \"#276419\"]], \"sequential\": [[0.0, \"#0d0887\"], [0.1111111111111111, \"#46039f\"], [0.2222222222222222, \"#7201a8\"], [0.3333333333333333, \"#9c179e\"], [0.4444444444444444, \"#bd3786\"], [0.5555555555555556, \"#d8576b\"], [0.6666666666666666, \"#ed7953\"], [0.7777777777777778, \"#fb9f3a\"], [0.8888888888888888, \"#fdca26\"], [1.0, \"#f0f921\"]], \"sequentialminus\": [[0.0, \"#0d0887\"], [0.1111111111111111, \"#46039f\"], [0.2222222222222222, \"#7201a8\"], [0.3333333333333333, \"#9c179e\"], [0.4444444444444444, \"#bd3786\"], [0.5555555555555556, \"#d8576b\"], [0.6666666666666666, \"#ed7953\"], [0.7777777777777778, \"#fb9f3a\"], [0.8888888888888888, \"#fdca26\"], [1.0, \"#f0f921\"]]}, \"colorway\": [\"#636efa\", \"#EF553B\", \"#00cc96\", \"#ab63fa\", \"#FFA15A\", \"#19d3f3\", \"#FF6692\", \"#B6E880\", \"#FF97FF\", \"#FECB52\"], \"font\": {\"color\": \"#2a3f5f\"}, \"geo\": {\"bgcolor\": \"white\", \"lakecolor\": \"white\", \"landcolor\": \"#E5ECF6\", \"showlakes\": true, \"showland\": true, \"subunitcolor\": \"white\"}, \"hoverlabel\": {\"align\": \"left\"}, \"hovermode\": \"closest\", \"mapbox\": {\"style\": \"light\"}, \"paper_bgcolor\": \"white\", \"plot_bgcolor\": \"#E5ECF6\", \"polar\": {\"angularaxis\": {\"gridcolor\": \"white\", \"linecolor\": \"white\", \"ticks\": \"\"}, \"bgcolor\": \"#E5ECF6\", \"radialaxis\": {\"gridcolor\": \"white\", \"linecolor\": \"white\", \"ticks\": \"\"}}, \"scene\": {\"xaxis\": {\"backgroundcolor\": \"#E5ECF6\", \"gridcolor\": \"white\", \"gridwidth\": 2, \"linecolor\": \"white\", \"showbackground\": true, \"ticks\": \"\", \"zerolinecolor\": \"white\"}, \"yaxis\": {\"backgroundcolor\": \"#E5ECF6\", \"gridcolor\": \"white\", \"gridwidth\": 2, \"linecolor\": \"white\", \"showbackground\": true, \"ticks\": \"\", \"zerolinecolor\": \"white\"}, \"zaxis\": {\"backgroundcolor\": \"#E5ECF6\", \"gridcolor\": \"white\", \"gridwidth\": 2, \"linecolor\": \"white\", \"showbackground\": true, \"ticks\": \"\", \"zerolinecolor\": \"white\"}}, \"shapedefaults\": {\"line\": {\"color\": \"#2a3f5f\"}}, \"ternary\": {\"aaxis\": {\"gridcolor\": \"white\", \"linecolor\": \"white\", \"ticks\": \"\"}, \"baxis\": {\"gridcolor\": \"white\", \"linecolor\": \"white\", \"ticks\": \"\"}, \"bgcolor\": \"#E5ECF6\", \"caxis\": {\"gridcolor\": \"white\", \"linecolor\": \"white\", \"ticks\": \"\"}}, \"title\": {\"x\": 0.05}, \"xaxis\": {\"automargin\": true, \"gridcolor\": \"white\", \"linecolor\": \"white\", \"ticks\": \"\", \"title\": {\"standoff\": 15}, \"zerolinecolor\": \"white\", \"zerolinewidth\": 2}, \"yaxis\": {\"automargin\": true, \"gridcolor\": \"white\", \"linecolor\": \"white\", \"ticks\": \"\", \"title\": {\"standoff\": 15}, \"zerolinecolor\": \"white\", \"zerolinewidth\": 2}}}},                        {\"responsive\": true}                    ).then(function(){\n",
       "                            \n",
       "var gd = document.getElementById('d3e5f3dd-65a5-41a8-82ec-4835a9b29506');\n",
       "var x = new MutationObserver(function (mutations, observer) {{\n",
       "        var display = window.getComputedStyle(gd).display;\n",
       "        if (!display || display === 'none') {{\n",
       "            console.log([gd, 'removed!']);\n",
       "            Plotly.purge(gd);\n",
       "            observer.disconnect();\n",
       "        }}\n",
       "}});\n",
       "\n",
       "// Listen for the removal of the full notebook cells\n",
       "var notebookContainer = gd.closest('#notebook-container');\n",
       "if (notebookContainer) {{\n",
       "    x.observe(notebookContainer, {childList: true});\n",
       "}}\n",
       "\n",
       "// Listen for the clearing of the current output cell\n",
       "var outputEl = gd.closest('.output');\n",
       "if (outputEl) {{\n",
       "    x.observe(outputEl, {childList: true});\n",
       "}}\n",
       "\n",
       "                        })                };                });            </script>        </div>"
      ]
     },
     "metadata": {},
     "output_type": "display_data"
    }
   ],
   "source": [
    "from plotly.offline import init_notebook_mode, iplot\n",
    "init_notebook_mode(connected=True)\n",
    "import plotly.graph_objs as go\n",
    "\n",
    "\n",
    "international_color = [float(each) for each in data_temproray.epochs]\n",
    "data2 = [\n",
    "    {\n",
    "        'y':data_temproray.CV,\n",
    "        'x': data_temproray.ANN_Num,\n",
    "        'mode': 'markers',\n",
    "        'marker': {\n",
    "            'color': international_color,\n",
    "            'size': data_temproray.accuracy,\n",
    "            'showscale': True\n",
    "        },\n",
    "        \"text\" :  data_temproray.accuracy    \n",
    "    }\n",
    "]\n",
    "iplot(data2)"
   ]
  },
  {
   "cell_type": "markdown",
   "metadata": {},
   "source": [
    "Kesimpulan\n",
    "\n",
    "Hasil terbaik dari model ini adalah 73,41% berkat \"Layer of Network\" yang dikenal sebagai ANN_num = 2, CV = 5, epochs = 150"
   ]
  },
  {
   "cell_type": "code",
   "execution_count": null,
   "metadata": {},
   "outputs": [],
   "source": []
  }
 ],
 "metadata": {
  "kernelspec": {
   "display_name": "Python 3",
   "language": "python",
   "name": "python3"
  },
  "language_info": {
   "codemirror_mode": {
    "name": "ipython",
    "version": 3
   },
   "file_extension": ".py",
   "mimetype": "text/x-python",
   "name": "python",
   "nbconvert_exporter": "python",
   "pygments_lexer": "ipython3",
   "version": "3.6.4"
  }
 },
 "nbformat": 4,
 "nbformat_minor": 2
}
