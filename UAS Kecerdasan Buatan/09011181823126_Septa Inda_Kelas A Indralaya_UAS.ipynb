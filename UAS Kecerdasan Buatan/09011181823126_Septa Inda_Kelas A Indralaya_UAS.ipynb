{
 "cells": [
  {
   "cell_type": "markdown",
   "metadata": {
    "id": "78QnqhWfP4-E"
   },
   "source": [
    "**Septa Inda_09011181823126_UAS Kecerdasan Buatan**\n",
    "\n",
    "**Bank Customers Analysis With Artificial Neural Netowrk**\n",
    "\n",
    "\n",
    "  * **Part 1 - Data Preprocessing**   \n",
    "  * Importing libraries\n",
    "  * Importing the dataset\n",
    "  * Dataset information (Pandas Profiling)    \n",
    "  * Spliting the Train & Test datasets\n",
    "  * Feature Scaling\n",
    "* **Part 2 - Building the ANN**    \n",
    "  * Initializing the ANN    \n",
    "  * Adding the input layer and the first hidden layer    \n",
    "  * Adding the second hidden layer    \n",
    "  * Adding the output layer    \n",
    "* **Part 3 - Training the ANN**    \n",
    "  * Compiling the ANN\n",
    "  * Training the ANN on the Training set   \n",
    "* **Part 4 - Making the predictions and evaluating the model**    \n",
    "  * Predicting the Test set results    \n",
    "  * Making the Confusion Matrix    \n",
    "\n",
    "\n",
    "\n",
    "\n",
    "\n",
    "\n",
    "\n",
    "\n",
    "\n",
    "\n",
    "\n",
    "\n",
    "\n"
   ]
  },
  {
   "cell_type": "markdown",
   "metadata": {
    "id": "AC49EpQGP4bV"
   },
   "source": [
    "**Importing the libraries**"
   ]
  },
  {
   "cell_type": "code",
   "execution_count": 1,
   "metadata": {
    "id": "b9KyLKhl5JKX"
   },
   "outputs": [],
   "source": [
    "import numpy as np\n",
    "import pandas as pd\n",
    "import tensorflow as tf"
   ]
  },
  {
   "cell_type": "code",
   "execution_count": 2,
   "metadata": {
    "colab": {
     "base_uri": "https://localhost:8080/",
     "height": 35
    },
    "id": "kVjtt14G5JKZ",
    "outputId": "9d586837-b6dc-4e16-c247-65470d812d4c"
   },
   "outputs": [
    {
     "data": {
      "application/vnd.google.colaboratory.intrinsic+json": {
       "type": "string"
      },
      "text/plain": [
       "'2.3.0'"
      ]
     },
     "execution_count": 2,
     "metadata": {
      "tags": []
     },
     "output_type": "execute_result"
    }
   ],
   "source": [
    "tf.__version__"
   ]
  },
  {
   "cell_type": "markdown",
   "metadata": {
    "id": "B2QyekdqTiCX"
   },
   "source": [
    "**Part 1 - Data Preprocessing**\n"
   ]
  },
  {
   "cell_type": "markdown",
   "metadata": {
    "id": "l52cWhVtTqfG"
   },
   "source": [
    "**Importing the dataset**"
   ]
  },
  {
   "cell_type": "code",
   "execution_count": 4,
   "metadata": {
    "id": "1BlOqbOC5JKZ",
    "scrolled": true
   },
   "outputs": [],
   "source": [
    "dataset = pd.read_csv('./Bank_Customers_Analysis_By_ANN.csv')\n",
    "X = dataset.iloc[:, 7:-1].values\n",
    "y = dataset.iloc[:, -1].values"
   ]
  },
  {
   "cell_type": "markdown",
   "metadata": {},
   "source": [
    "dataset terdiri dari 14 data informasi nasabah bank yaitu : RowNumber,CustomerId,Surname,CreditScore,Geography,Gender,Age,Tenure,Balance,NumOfProducts,HasCrCard,IsActiveMember,EstimatedSalary,Exited"
   ]
  },
  {
   "cell_type": "markdown",
   "metadata": {},
   "source": [
    "Pada variabel X data yang digunakan pada dataset adalah data ketujuh berdasarkan index \n",
    "sampai data ke 2 dari terakhir dan variabel y menggunakan data pada index terakhir dataset"
   ]
  },
  {
   "cell_type": "code",
   "execution_count": 5,
   "metadata": {
    "colab": {
     "base_uri": "https://localhost:8080/",
     "height": 224
    },
    "id": "e1CuwSjK9QRN",
    "outputId": "4e68adfa-b089-4095-8a90-9c4f69cf877c"
   },
   "outputs": [
    {
     "data": {
      "text/html": [
       "<div>\n",
       "<style scoped>\n",
       "    .dataframe tbody tr th:only-of-type {\n",
       "        vertical-align: middle;\n",
       "    }\n",
       "\n",
       "    .dataframe tbody tr th {\n",
       "        vertical-align: top;\n",
       "    }\n",
       "\n",
       "    .dataframe thead th {\n",
       "        text-align: right;\n",
       "    }\n",
       "</style>\n",
       "<table border=\"1\" class=\"dataframe\">\n",
       "  <thead>\n",
       "    <tr style=\"text-align: right;\">\n",
       "      <th></th>\n",
       "      <th>RowNumber</th>\n",
       "      <th>CustomerId</th>\n",
       "      <th>Surname</th>\n",
       "      <th>CreditScore</th>\n",
       "      <th>Geography</th>\n",
       "      <th>Gender</th>\n",
       "      <th>Age</th>\n",
       "      <th>Tenure</th>\n",
       "      <th>Balance</th>\n",
       "      <th>NumOfProducts</th>\n",
       "      <th>HasCrCard</th>\n",
       "      <th>IsActiveMember</th>\n",
       "      <th>EstimatedSalary</th>\n",
       "      <th>Exited</th>\n",
       "    </tr>\n",
       "  </thead>\n",
       "  <tbody>\n",
       "    <tr>\n",
       "      <th>0</th>\n",
       "      <td>1</td>\n",
       "      <td>15634602</td>\n",
       "      <td>Hargrave</td>\n",
       "      <td>619</td>\n",
       "      <td>France</td>\n",
       "      <td>Female</td>\n",
       "      <td>42</td>\n",
       "      <td>2</td>\n",
       "      <td>0.00</td>\n",
       "      <td>1</td>\n",
       "      <td>1</td>\n",
       "      <td>1</td>\n",
       "      <td>101348.88</td>\n",
       "      <td>1</td>\n",
       "    </tr>\n",
       "    <tr>\n",
       "      <th>1</th>\n",
       "      <td>2</td>\n",
       "      <td>15647311</td>\n",
       "      <td>Hill</td>\n",
       "      <td>608</td>\n",
       "      <td>Spain</td>\n",
       "      <td>Female</td>\n",
       "      <td>41</td>\n",
       "      <td>1</td>\n",
       "      <td>83807.86</td>\n",
       "      <td>1</td>\n",
       "      <td>0</td>\n",
       "      <td>1</td>\n",
       "      <td>112542.58</td>\n",
       "      <td>0</td>\n",
       "    </tr>\n",
       "    <tr>\n",
       "      <th>2</th>\n",
       "      <td>3</td>\n",
       "      <td>15619304</td>\n",
       "      <td>Onio</td>\n",
       "      <td>502</td>\n",
       "      <td>France</td>\n",
       "      <td>Female</td>\n",
       "      <td>42</td>\n",
       "      <td>8</td>\n",
       "      <td>159660.80</td>\n",
       "      <td>3</td>\n",
       "      <td>1</td>\n",
       "      <td>0</td>\n",
       "      <td>113931.57</td>\n",
       "      <td>1</td>\n",
       "    </tr>\n",
       "    <tr>\n",
       "      <th>3</th>\n",
       "      <td>4</td>\n",
       "      <td>15701354</td>\n",
       "      <td>Boni</td>\n",
       "      <td>699</td>\n",
       "      <td>France</td>\n",
       "      <td>Female</td>\n",
       "      <td>39</td>\n",
       "      <td>1</td>\n",
       "      <td>0.00</td>\n",
       "      <td>2</td>\n",
       "      <td>0</td>\n",
       "      <td>0</td>\n",
       "      <td>93826.63</td>\n",
       "      <td>0</td>\n",
       "    </tr>\n",
       "    <tr>\n",
       "      <th>4</th>\n",
       "      <td>5</td>\n",
       "      <td>15737888</td>\n",
       "      <td>Mitchell</td>\n",
       "      <td>850</td>\n",
       "      <td>Spain</td>\n",
       "      <td>Female</td>\n",
       "      <td>43</td>\n",
       "      <td>2</td>\n",
       "      <td>125510.82</td>\n",
       "      <td>1</td>\n",
       "      <td>1</td>\n",
       "      <td>1</td>\n",
       "      <td>79084.10</td>\n",
       "      <td>0</td>\n",
       "    </tr>\n",
       "  </tbody>\n",
       "</table>\n",
       "</div>"
      ],
      "text/plain": [
       "   RowNumber  CustomerId   Surname  ...  IsActiveMember EstimatedSalary Exited\n",
       "0          1    15634602  Hargrave  ...               1       101348.88      1\n",
       "1          2    15647311      Hill  ...               1       112542.58      0\n",
       "2          3    15619304      Onio  ...               0       113931.57      1\n",
       "3          4    15701354      Boni  ...               0        93826.63      0\n",
       "4          5    15737888  Mitchell  ...               1        79084.10      0\n",
       "\n",
       "[5 rows x 14 columns]"
      ]
     },
     "execution_count": 5,
     "metadata": {
      "tags": []
     },
     "output_type": "execute_result"
    }
   ],
   "source": [
    "dataset.head()"
   ]
  },
  {
   "cell_type": "code",
   "execution_count": 6,
   "metadata": {
    "colab": {
     "base_uri": "https://localhost:8080/"
    },
    "id": "0xvAfBwY9YEm",
    "outputId": "eb84cf17-bf5c-42ce-c43c-9bdb19adaced"
   },
   "outputs": [
    {
     "data": {
      "text/plain": [
       "array([[2.0000000e+00, 0.0000000e+00, 1.0000000e+00, 1.0000000e+00,\n",
       "        1.0000000e+00, 1.0134888e+05],\n",
       "       [1.0000000e+00, 8.3807860e+04, 1.0000000e+00, 0.0000000e+00,\n",
       "        1.0000000e+00, 1.1254258e+05],\n",
       "       [8.0000000e+00, 1.5966080e+05, 3.0000000e+00, 1.0000000e+00,\n",
       "        0.0000000e+00, 1.1393157e+05],\n",
       "       ...,\n",
       "       [7.0000000e+00, 0.0000000e+00, 1.0000000e+00, 0.0000000e+00,\n",
       "        1.0000000e+00, 4.2085580e+04],\n",
       "       [3.0000000e+00, 7.5075310e+04, 2.0000000e+00, 1.0000000e+00,\n",
       "        0.0000000e+00, 9.2888520e+04],\n",
       "       [4.0000000e+00, 1.3014279e+05, 1.0000000e+00, 1.0000000e+00,\n",
       "        0.0000000e+00, 3.8190780e+04]])"
      ]
     },
     "execution_count": 6,
     "metadata": {
      "tags": []
     },
     "output_type": "execute_result"
    }
   ],
   "source": [
    "X"
   ]
  },
  {
   "cell_type": "code",
   "execution_count": 9,
   "metadata": {
    "colab": {
     "base_uri": "https://localhost:8080/"
    },
    "id": "wkh5RiknOoTM",
    "outputId": "53426ede-91db-434e-c673-da93c041bfc6"
   },
   "outputs": [
    {
     "data": {
      "text/plain": [
       "array([1, 0, 1, ..., 1, 1, 0])"
      ]
     },
     "execution_count": 9,
     "metadata": {
      "tags": []
     },
     "output_type": "execute_result"
    }
   ],
   "source": [
    "y"
   ]
  },
  {
   "cell_type": "markdown",
   "metadata": {
    "id": "Dztmsn5yUA4P"
   },
   "source": [
    "**Dataset information (Pandas Profiling)¶**"
   ]
  },
  {
   "cell_type": "code",
   "execution_count": 10,
   "metadata": {
    "id": "eiLoKQR_5JKc"
   },
   "outputs": [],
   "source": [
    "import pandas_profiling as pp\n",
    "import warnings\n",
    "warnings.filterwarnings('ignore')\n",
    "%matplotlib inline"
   ]
  },
  {
   "cell_type": "markdown",
   "metadata": {
    "id": "hHQibKkCUE3h"
   },
   "source": [
    "**Splitting the dataset into the Training set and Test set**"
   ]
  },
  {
   "cell_type": "markdown",
   "metadata": {},
   "source": [
    "Training set adalah bagian dataset yang kita latih untuk membuat prediksi atau menjalankan fungsi dari sebuah algoritma ML. Kita memberikan petunjuk melalui algoritma agar mesin yang kita latih bisa mencari korelasinya sendiri atau belajar pola dari data yang diberikan.\n",
    "Test set adalah bagian dataset yang kita tes untuk melihat keakuratannya, atau dengan kata lain melihat performanya."
   ]
  },
  {
   "cell_type": "code",
   "execution_count": 11,
   "metadata": {
    "id": "y1iOAwXc5JKc"
   },
   "outputs": [],
   "source": [
    "from sklearn.model_selection import train_test_split\n",
    "X_train, X_test, y_train, y_test = train_test_split(X, y, test_size = 0.2, random_state = 0)"
   ]
  },
  {
   "cell_type": "markdown",
   "metadata": {},
   "source": [
    "Proses pendefinisian X_train sebagai data X yang ingin kita latih (train), X_test sebagai data X yang ingin kita tes, y_train adalah variabel dependen yang dilatih, dan y_test merupakan variabel dependen yang diuji dengan menggunakan Parameter test_size sebesar 0,2 yang Biasanya digunakan sebagai rule of thumb (aturan umum) proporsi test set sebesar 0,2 dan train set 0,8. Parameter lainnya adalah random_state yang merupakan random number generator (RNG) yang kali ini kita pilih adalah angka nol."
   ]
  },
  {
   "cell_type": "markdown",
   "metadata": {
    "id": "O6aUTW5FUUaS"
   },
   "source": [
    "**Feature Scaling**"
   ]
  },
  {
   "cell_type": "markdown",
   "metadata": {},
   "source": [
    "Feature Scaling adalah suatu cara untuk membuat numerical data pada dataset memiliki rentang nilai (scale) yang sama"
   ]
  },
  {
   "cell_type": "code",
   "execution_count": 12,
   "metadata": {
    "id": "XsXhQ_wj5JKc"
   },
   "outputs": [],
   "source": [
    "from sklearn.preprocessing import StandardScaler\n",
    "sc = StandardScaler()\n",
    "X_train = sc.fit_transform(X_train)\n",
    "X_test = sc.transform(X_test)"
   ]
  },
  {
   "cell_type": "markdown",
   "metadata": {
    "id": "KrDV4Q2KUdbf"
   },
   "source": [
    "**Part 2 - Building the ANN**"
   ]
  },
  {
   "cell_type": "markdown",
   "metadata": {
    "id": "UQ5aR8H7UlXj"
   },
   "source": [
    "**Initializing the ANN**"
   ]
  },
  {
   "cell_type": "code",
   "execution_count": 13,
   "metadata": {
    "id": "8Imk4nso5JKd"
   },
   "outputs": [],
   "source": [
    "ann = tf.keras.models.Sequential()"
   ]
  },
  {
   "cell_type": "markdown",
   "metadata": {
    "id": "1cDGX4NYUs7W"
   },
   "source": [
    "**Adding the input layer and the first hidden layer**"
   ]
  },
  {
   "cell_type": "code",
   "execution_count": 14,
   "metadata": {
    "id": "3Ei_IDzW5JKd"
   },
   "outputs": [],
   "source": [
    "ann.add(tf.keras.layers.Dense(units=8, activation='relu'))"
   ]
  },
  {
   "cell_type": "markdown",
   "metadata": {},
   "source": [
    "Berikutnya adalah proses dense. Dense adalah fungsi untuk menambahkan layer yang fully connected.\n",
    "units menandakan jumlah node yang harus ada di hidden layer, nilainya antara jumlah input node dan output node. Sedangkan fungsi aktivasinya kita gunakan relu."
   ]
  },
  {
   "cell_type": "markdown",
   "metadata": {
    "id": "V43rocMpUybC"
   },
   "source": [
    "**Adding the second hidden layer**"
   ]
  },
  {
   "cell_type": "code",
   "execution_count": 15,
   "metadata": {
    "id": "XU_ChW4v5JKd"
   },
   "outputs": [],
   "source": [
    "ann.add(tf.keras.layers.Dense(units=8, activation='relu'))"
   ]
  },
  {
   "cell_type": "markdown",
   "metadata": {
    "id": "a152-OX5U5fq"
   },
   "source": [
    "**Adding the output layer**"
   ]
  },
  {
   "cell_type": "code",
   "execution_count": 16,
   "metadata": {
    "id": "dKohD5Xi5JKd"
   },
   "outputs": [],
   "source": [
    "ann.add(tf.keras.layers.Dense(units=1, activation='sigmoid'))"
   ]
  },
  {
   "cell_type": "markdown",
   "metadata": {},
   "source": [
    "Inisialisasis layer output, yang hanya berupa satu node karena klasifikasi ini termasuk dalam binary classification."
   ]
  },
  {
   "cell_type": "markdown",
   "metadata": {
    "id": "Q-UMrLRtVBiO"
   },
   "source": [
    "**Part 3 - Training the ANN**"
   ]
  },
  {
   "cell_type": "markdown",
   "metadata": {
    "id": "cJy6rlTcVIYN"
   },
   "source": [
    "**Compiling the ANN**"
   ]
  },
  {
   "cell_type": "code",
   "execution_count": 17,
   "metadata": {
    "id": "Ob827WtI5JKd"
   },
   "outputs": [],
   "source": [
    "ann.compile(optimizer = 'adam', loss = 'binary_crossentropy', metrics = ['accuracy'])"
   ]
  },
  {
   "cell_type": "markdown",
   "metadata": {},
   "source": [
    "untuk tahap kompilasi nya, parameter optimisasi menggunakan adam optimizer untuk menentukan algoritma stochastic gradient descent, parameter loss menggunakan binary crossentropy untuk menentukan loss function dan parameter metrics untuk menentukan performa metric"
   ]
  },
  {
   "cell_type": "markdown",
   "metadata": {
    "id": "nj-WOHCRVMSN"
   },
   "source": [
    "**Training the ANN on the Training set**"
   ]
  },
  {
   "cell_type": "markdown",
   "metadata": {},
   "source": [
    "Kemudian dilakukan training dengan iterasi epoch sebesar 80"
   ]
  },
  {
   "cell_type": "code",
   "execution_count": 18,
   "metadata": {
    "colab": {
     "base_uri": "https://localhost:8080/"
    },
    "id": "eHejgWiD5JKd",
    "outputId": "da7c8b59-828a-4878-cd54-157c5194a8df"
   },
   "outputs": [
    {
     "name": "stdout",
     "output_type": "stream",
     "text": [
      "Epoch 1/80\n",
      "250/250 [==============================] - 0s 905us/step - loss: 0.6365 - accuracy: 0.6481\n",
      "Epoch 2/80\n",
      "250/250 [==============================] - 0s 874us/step - loss: 0.4982 - accuracy: 0.7960\n",
      "Epoch 3/80\n",
      "250/250 [==============================] - 0s 925us/step - loss: 0.4851 - accuracy: 0.7960\n",
      "Epoch 4/80\n",
      "250/250 [==============================] - 0s 995us/step - loss: 0.4782 - accuracy: 0.7960\n",
      "Epoch 5/80\n",
      "250/250 [==============================] - 0s 917us/step - loss: 0.4732 - accuracy: 0.7960\n",
      "Epoch 6/80\n",
      "250/250 [==============================] - 0s 871us/step - loss: 0.4689 - accuracy: 0.7960\n",
      "Epoch 7/80\n",
      "250/250 [==============================] - 0s 896us/step - loss: 0.4646 - accuracy: 0.7960\n",
      "Epoch 8/80\n",
      "250/250 [==============================] - 0s 871us/step - loss: 0.4605 - accuracy: 0.7961\n",
      "Epoch 9/80\n",
      "250/250 [==============================] - 0s 926us/step - loss: 0.4567 - accuracy: 0.7960\n",
      "Epoch 10/80\n",
      "250/250 [==============================] - 0s 871us/step - loss: 0.4527 - accuracy: 0.7960\n",
      "Epoch 11/80\n",
      "250/250 [==============================] - 0s 916us/step - loss: 0.4490 - accuracy: 0.7959\n",
      "Epoch 12/80\n",
      "250/250 [==============================] - 0s 867us/step - loss: 0.4454 - accuracy: 0.7961\n",
      "Epoch 13/80\n",
      "250/250 [==============================] - 0s 933us/step - loss: 0.4422 - accuracy: 0.7956\n",
      "Epoch 14/80\n",
      "250/250 [==============================] - 0s 928us/step - loss: 0.4402 - accuracy: 0.7961\n",
      "Epoch 15/80\n",
      "250/250 [==============================] - 0s 863us/step - loss: 0.4377 - accuracy: 0.7964\n",
      "Epoch 16/80\n",
      "250/250 [==============================] - 0s 933us/step - loss: 0.4354 - accuracy: 0.7964\n",
      "Epoch 17/80\n",
      "250/250 [==============================] - 0s 939us/step - loss: 0.4338 - accuracy: 0.7970\n",
      "Epoch 18/80\n",
      "250/250 [==============================] - 0s 911us/step - loss: 0.4321 - accuracy: 0.7969\n",
      "Epoch 19/80\n",
      "250/250 [==============================] - 0s 858us/step - loss: 0.4308 - accuracy: 0.8001\n",
      "Epoch 20/80\n",
      "250/250 [==============================] - 0s 872us/step - loss: 0.4296 - accuracy: 0.8100\n",
      "Epoch 21/80\n",
      "250/250 [==============================] - 0s 925us/step - loss: 0.4284 - accuracy: 0.8119\n",
      "Epoch 22/80\n",
      "250/250 [==============================] - 0s 902us/step - loss: 0.4273 - accuracy: 0.8138\n",
      "Epoch 23/80\n",
      "250/250 [==============================] - 0s 972us/step - loss: 0.4263 - accuracy: 0.8139\n",
      "Epoch 24/80\n",
      "250/250 [==============================] - 0s 872us/step - loss: 0.4255 - accuracy: 0.8159\n",
      "Epoch 25/80\n",
      "250/250 [==============================] - 0s 885us/step - loss: 0.4249 - accuracy: 0.8164\n",
      "Epoch 26/80\n",
      "250/250 [==============================] - 0s 916us/step - loss: 0.4244 - accuracy: 0.8167\n",
      "Epoch 27/80\n",
      "250/250 [==============================] - 0s 846us/step - loss: 0.4239 - accuracy: 0.8161\n",
      "Epoch 28/80\n",
      "250/250 [==============================] - 0s 886us/step - loss: 0.4234 - accuracy: 0.8173\n",
      "Epoch 29/80\n",
      "250/250 [==============================] - 0s 950us/step - loss: 0.4230 - accuracy: 0.8181\n",
      "Epoch 30/80\n",
      "250/250 [==============================] - 0s 902us/step - loss: 0.4226 - accuracy: 0.8169\n",
      "Epoch 31/80\n",
      "250/250 [==============================] - 0s 911us/step - loss: 0.4217 - accuracy: 0.8192\n",
      "Epoch 32/80\n",
      "250/250 [==============================] - 0s 867us/step - loss: 0.4214 - accuracy: 0.8194\n",
      "Epoch 33/80\n",
      "250/250 [==============================] - 0s 907us/step - loss: 0.4209 - accuracy: 0.8175\n",
      "Epoch 34/80\n",
      "250/250 [==============================] - 0s 895us/step - loss: 0.4209 - accuracy: 0.8186\n",
      "Epoch 35/80\n",
      "250/250 [==============================] - 0s 1ms/step - loss: 0.4202 - accuracy: 0.8189\n",
      "Epoch 36/80\n",
      "250/250 [==============================] - 0s 901us/step - loss: 0.4198 - accuracy: 0.8202\n",
      "Epoch 37/80\n",
      "250/250 [==============================] - 0s 866us/step - loss: 0.4199 - accuracy: 0.8194\n",
      "Epoch 38/80\n",
      "250/250 [==============================] - 0s 909us/step - loss: 0.4194 - accuracy: 0.8201\n",
      "Epoch 39/80\n",
      "250/250 [==============================] - 0s 910us/step - loss: 0.4194 - accuracy: 0.8190\n",
      "Epoch 40/80\n",
      "250/250 [==============================] - 0s 900us/step - loss: 0.4187 - accuracy: 0.8190\n",
      "Epoch 41/80\n",
      "250/250 [==============================] - 0s 886us/step - loss: 0.4182 - accuracy: 0.8204\n",
      "Epoch 42/80\n",
      "250/250 [==============================] - 0s 924us/step - loss: 0.4182 - accuracy: 0.8186\n",
      "Epoch 43/80\n",
      "250/250 [==============================] - 0s 901us/step - loss: 0.4179 - accuracy: 0.8211\n",
      "Epoch 44/80\n",
      "250/250 [==============================] - 0s 927us/step - loss: 0.4179 - accuracy: 0.8188\n",
      "Epoch 45/80\n",
      "250/250 [==============================] - 0s 876us/step - loss: 0.4174 - accuracy: 0.8185\n",
      "Epoch 46/80\n",
      "250/250 [==============================] - 0s 919us/step - loss: 0.4175 - accuracy: 0.8190\n",
      "Epoch 47/80\n",
      "250/250 [==============================] - 0s 903us/step - loss: 0.4170 - accuracy: 0.8204\n",
      "Epoch 48/80\n",
      "250/250 [==============================] - 0s 1ms/step - loss: 0.4171 - accuracy: 0.8191\n",
      "Epoch 49/80\n",
      "250/250 [==============================] - 0s 1ms/step - loss: 0.4169 - accuracy: 0.8210\n",
      "Epoch 50/80\n",
      "250/250 [==============================] - 0s 927us/step - loss: 0.4166 - accuracy: 0.8210\n",
      "Epoch 51/80\n",
      "250/250 [==============================] - 0s 995us/step - loss: 0.4167 - accuracy: 0.8198\n",
      "Epoch 52/80\n",
      "250/250 [==============================] - 0s 981us/step - loss: 0.4166 - accuracy: 0.8183\n",
      "Epoch 53/80\n",
      "250/250 [==============================] - 0s 865us/step - loss: 0.4159 - accuracy: 0.8201\n",
      "Epoch 54/80\n",
      "250/250 [==============================] - 0s 899us/step - loss: 0.4163 - accuracy: 0.8207\n",
      "Epoch 55/80\n",
      "250/250 [==============================] - 0s 916us/step - loss: 0.4157 - accuracy: 0.8209\n",
      "Epoch 56/80\n",
      "250/250 [==============================] - 0s 947us/step - loss: 0.4157 - accuracy: 0.8190\n",
      "Epoch 57/80\n",
      "250/250 [==============================] - 0s 903us/step - loss: 0.4156 - accuracy: 0.8219\n",
      "Epoch 58/80\n",
      "250/250 [==============================] - 0s 955us/step - loss: 0.4154 - accuracy: 0.8200\n",
      "Epoch 59/80\n",
      "250/250 [==============================] - 0s 900us/step - loss: 0.4149 - accuracy: 0.8211\n",
      "Epoch 60/80\n",
      "250/250 [==============================] - 0s 960us/step - loss: 0.4155 - accuracy: 0.8196\n",
      "Epoch 61/80\n",
      "250/250 [==============================] - 0s 907us/step - loss: 0.4151 - accuracy: 0.8195\n",
      "Epoch 62/80\n",
      "250/250 [==============================] - 0s 923us/step - loss: 0.4149 - accuracy: 0.8199\n",
      "Epoch 63/80\n",
      "250/250 [==============================] - 0s 911us/step - loss: 0.4149 - accuracy: 0.8206\n",
      "Epoch 64/80\n",
      "250/250 [==============================] - 0s 928us/step - loss: 0.4146 - accuracy: 0.8201\n",
      "Epoch 65/80\n",
      "250/250 [==============================] - 0s 908us/step - loss: 0.4147 - accuracy: 0.8194\n",
      "Epoch 66/80\n",
      "250/250 [==============================] - 0s 936us/step - loss: 0.4143 - accuracy: 0.8199\n",
      "Epoch 67/80\n",
      "250/250 [==============================] - 0s 931us/step - loss: 0.4146 - accuracy: 0.8206\n",
      "Epoch 68/80\n",
      "250/250 [==============================] - 0s 948us/step - loss: 0.4144 - accuracy: 0.8204\n",
      "Epoch 69/80\n",
      "250/250 [==============================] - 0s 950us/step - loss: 0.4140 - accuracy: 0.8207\n",
      "Epoch 70/80\n",
      "250/250 [==============================] - 0s 934us/step - loss: 0.4140 - accuracy: 0.8198\n",
      "Epoch 71/80\n",
      "250/250 [==============================] - 0s 887us/step - loss: 0.4136 - accuracy: 0.8191\n",
      "Epoch 72/80\n",
      "250/250 [==============================] - 0s 909us/step - loss: 0.4139 - accuracy: 0.8194\n",
      "Epoch 73/80\n",
      "250/250 [==============================] - 0s 922us/step - loss: 0.4139 - accuracy: 0.8196\n",
      "Epoch 74/80\n",
      "250/250 [==============================] - 0s 964us/step - loss: 0.4135 - accuracy: 0.8198\n",
      "Epoch 75/80\n",
      "250/250 [==============================] - 0s 906us/step - loss: 0.4138 - accuracy: 0.8198\n",
      "Epoch 76/80\n",
      "250/250 [==============================] - 0s 926us/step - loss: 0.4138 - accuracy: 0.8190\n",
      "Epoch 77/80\n",
      "250/250 [==============================] - 0s 893us/step - loss: 0.4132 - accuracy: 0.8199\n",
      "Epoch 78/80\n",
      "250/250 [==============================] - 0s 1ms/step - loss: 0.4135 - accuracy: 0.8190\n",
      "Epoch 79/80\n",
      "250/250 [==============================] - 0s 981us/step - loss: 0.4129 - accuracy: 0.8206\n",
      "Epoch 80/80\n",
      "250/250 [==============================] - 0s 907us/step - loss: 0.4131 - accuracy: 0.8198\n"
     ]
    },
    {
     "data": {
      "text/plain": [
       "<tensorflow.python.keras.callbacks.History at 0x7f82e631eef0>"
      ]
     },
     "execution_count": 18,
     "metadata": {
      "tags": []
     },
     "output_type": "execute_result"
    }
   ],
   "source": [
    "ann.fit(X_train, y_train, batch_size = 32, epochs = 80)"
   ]
  },
  {
   "cell_type": "markdown",
   "metadata": {
    "id": "ZDBJSoZrVc3q"
   },
   "source": [
    "**Part 4 - Making the predictions and evaluating the model**"
   ]
  },
  {
   "cell_type": "markdown",
   "metadata": {
    "id": "EYsv1H2TVuBd"
   },
   "source": [
    "**Predicting the Test set results**"
   ]
  },
  {
   "cell_type": "markdown",
   "metadata": {},
   "source": [
    "pada tahap ini dilakukanlah prediksi pada dataset (X_test), y_pred menunujukkan bahwa setiap barisnya memiliki probabilitas\n",
    "Karena kita sebelumnya menggunakan fungsi sigmoid saat menggunakan activation function. arena yang Yang kita butuhkan bukanlah probabilitas, namun dua nilai antara 0 dan 1, maka kita konversi nilai probabilitas ini. Nilai probabilitas > 0.5 akan bernilai 1 (True), dan sebaliknya bernilai 0 (False)."
   ]
  },
  {
   "cell_type": "code",
   "execution_count": 19,
   "metadata": {
    "colab": {
     "base_uri": "https://localhost:8080/"
    },
    "id": "m3d0tgHt5JKd",
    "outputId": "c5405c68-35e3-41d3-df25-463cfb86e3a6"
   },
   "outputs": [
    {
     "name": "stdout",
     "output_type": "stream",
     "text": [
      "[[0 0]\n",
      " [0 1]\n",
      " [0 0]\n",
      " ...\n",
      " [0 0]\n",
      " [0 0]\n",
      " [0 0]]\n"
     ]
    }
   ],
   "source": [
    "y_pred = ann.predict(X_test)\n",
    "y_pred = (y_pred > 0.5)\n",
    "print(np.concatenate((y_pred.reshape(len(y_pred),1), y_test.reshape(len(y_test),1)),1))"
   ]
  },
  {
   "cell_type": "markdown",
   "metadata": {
    "id": "u7ROlgAaV1Lh"
   },
   "source": [
    "**Making the Confusion Matrix**"
   ]
  },
  {
   "cell_type": "markdown",
   "metadata": {},
   "source": [
    "Confusion matrix digunakan untuk mengukur  kinerja dari model klasifikasi yang digunakan. Dalam hal ini kita menggunakan akurasi sebagai tolak ukur"
   ]
  },
  {
   "cell_type": "code",
   "execution_count": 22,
   "metadata": {
    "colab": {
     "base_uri": "https://localhost:8080/"
    },
    "id": "dRaFdZC85JKd",
    "outputId": "7e9d720f-dab0-495c-9dc5-2b9953abc551"
   },
   "outputs": [
    {
     "name": "stdout",
     "output_type": "stream",
     "text": [
      "[[1561   34]\n",
      " [ 325   80]]\n",
      "Accuracy: 82.05%\n"
     ]
    }
   ],
   "source": [
    "from sklearn.metrics import confusion_matrix, accuracy_score\n",
    "cm = confusion_matrix(y_test, y_pred)\n",
    "print(cm)\n",
    "print(\"Accuracy: {:.2f}%\".format(accuracy_score(y_test, y_pred)*100))"
   ]
  }
 ],
 "metadata": {
  "colab": {
   "collapsed_sections": [],
   "name": "UAS_Septa Inda _09011181823126.ipynb",
   "provenance": []
  },
  "kernelspec": {
   "display_name": "Python 3",
   "language": "python",
   "name": "python3"
  },
  "language_info": {
   "codemirror_mode": {
    "name": "ipython",
    "version": 3
   },
   "file_extension": ".py",
   "mimetype": "text/x-python",
   "name": "python",
   "nbconvert_exporter": "python",
   "pygments_lexer": "ipython3",
   "version": "3.7.4"
  }
 },
 "nbformat": 4,
 "nbformat_minor": 1
}
