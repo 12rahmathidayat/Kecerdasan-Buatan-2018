{
 "cells": [
  {
   "cell_type": "markdown",
   "metadata": {},
   "source": [
    "# Project UAS Kecerdasan Buatan"
   ]
  },
  {
   "cell_type": "markdown",
   "metadata": {},
   "source": [
    "Nama : Novi Yuningsih\n",
    "\n",
    "NIM : 09011281823133\n",
    "\n",
    "Kelas : SK5B\n"
   ]
  },
  {
   "cell_type": "markdown",
   "metadata": {},
   "source": [
    "Topik : \n",
    "\n",
    "            Mengklasifikasi Cupcake dan Muffin\n",
    "\n",
    "Variabel : \n",
    "\n",
    "            Bahan-bahan resep pembuatan Cupcake dan Muffin\n",
    "\n",
    "Metode yang dipakai : \n",
    "\n",
    "            Support Vector Machine"
   ]
  },
  {
   "cell_type": "markdown",
   "metadata": {},
   "source": [
    "Definisikan dahulu library yang akan dipakai."
   ]
  },
  {
   "cell_type": "code",
   "execution_count": 21,
   "metadata": {},
   "outputs": [],
   "source": [
    "import numpy as np\n",
    "import pandas as pd\n",
    "import seaborn as sns\n",
    "from sklearn import svm"
   ]
  },
  {
   "cell_type": "markdown",
   "metadata": {},
   "source": [
    "Jangan lupa juga library untuk gambar grafiknya."
   ]
  },
  {
   "cell_type": "code",
   "execution_count": 38,
   "metadata": {},
   "outputs": [],
   "source": [
    "import matplotlib.pyplot as plt\n",
    "%matplotlib inline"
   ]
  },
  {
   "cell_type": "markdown",
   "metadata": {},
   "source": [
    "Input atau masukkan dataset yang akan digunakan.\n",
    "       \n",
    "       Dalam hal ini saya menggunakan dataset yang didownload dari laman :\n",
    "       \n",
    "       https://github.com/Michelmj/CUPCAKE-vs-MUFFIN/blob/master/RecipesMuffinsCupcakes.xlsx \n",
    "       \n",
    "       Bentuk file datasetnya adalah file Microsoft Excel."
   ]
  },
  {
   "cell_type": "code",
   "execution_count": 7,
   "metadata": {},
   "outputs": [],
   "source": [
    "cupmuf = pd.read_excel('D:/SVM/cupmuf/RecipesMuffinsCupcakes.xlsx')"
   ]
  },
  {
   "cell_type": "markdown",
   "metadata": {},
   "source": [
    "Library yang dipakai untuk menampilkan bentuk datanya adalah pandas.\n",
    "\n",
    "Flour = ons , Milk = liter, Egg = butir, Butter = gram dsb"
   ]
  },
  {
   "cell_type": "code",
   "execution_count": 8,
   "metadata": {
    "scrolled": true
   },
   "outputs": [
    {
     "data": {
      "text/html": [
       "<div>\n",
       "<style scoped>\n",
       "    .dataframe tbody tr th:only-of-type {\n",
       "        vertical-align: middle;\n",
       "    }\n",
       "\n",
       "    .dataframe tbody tr th {\n",
       "        vertical-align: top;\n",
       "    }\n",
       "\n",
       "    .dataframe thead th {\n",
       "        text-align: right;\n",
       "    }\n",
       "</style>\n",
       "<table border=\"1\" class=\"dataframe\">\n",
       "  <thead>\n",
       "    <tr style=\"text-align: right;\">\n",
       "      <th></th>\n",
       "      <th>Type</th>\n",
       "      <th>Flour</th>\n",
       "      <th>Milk</th>\n",
       "      <th>Sugar</th>\n",
       "      <th>Butter</th>\n",
       "      <th>Egg</th>\n",
       "      <th>Baking Powder</th>\n",
       "      <th>Vanilla</th>\n",
       "      <th>Salt</th>\n",
       "    </tr>\n",
       "  </thead>\n",
       "  <tbody>\n",
       "    <tr>\n",
       "      <th>0</th>\n",
       "      <td>Muffin</td>\n",
       "      <td>55</td>\n",
       "      <td>28</td>\n",
       "      <td>3</td>\n",
       "      <td>7</td>\n",
       "      <td>5</td>\n",
       "      <td>2</td>\n",
       "      <td>0</td>\n",
       "      <td>0</td>\n",
       "    </tr>\n",
       "    <tr>\n",
       "      <th>1</th>\n",
       "      <td>Muffin</td>\n",
       "      <td>47</td>\n",
       "      <td>24</td>\n",
       "      <td>12</td>\n",
       "      <td>6</td>\n",
       "      <td>9</td>\n",
       "      <td>1</td>\n",
       "      <td>0</td>\n",
       "      <td>0</td>\n",
       "    </tr>\n",
       "    <tr>\n",
       "      <th>2</th>\n",
       "      <td>Muffin</td>\n",
       "      <td>47</td>\n",
       "      <td>23</td>\n",
       "      <td>18</td>\n",
       "      <td>6</td>\n",
       "      <td>4</td>\n",
       "      <td>1</td>\n",
       "      <td>0</td>\n",
       "      <td>0</td>\n",
       "    </tr>\n",
       "    <tr>\n",
       "      <th>3</th>\n",
       "      <td>Muffin</td>\n",
       "      <td>45</td>\n",
       "      <td>11</td>\n",
       "      <td>17</td>\n",
       "      <td>17</td>\n",
       "      <td>8</td>\n",
       "      <td>1</td>\n",
       "      <td>0</td>\n",
       "      <td>0</td>\n",
       "    </tr>\n",
       "    <tr>\n",
       "      <th>4</th>\n",
       "      <td>Muffin</td>\n",
       "      <td>50</td>\n",
       "      <td>25</td>\n",
       "      <td>12</td>\n",
       "      <td>6</td>\n",
       "      <td>5</td>\n",
       "      <td>2</td>\n",
       "      <td>1</td>\n",
       "      <td>0</td>\n",
       "    </tr>\n",
       "    <tr>\n",
       "      <th>5</th>\n",
       "      <td>Muffin</td>\n",
       "      <td>55</td>\n",
       "      <td>27</td>\n",
       "      <td>3</td>\n",
       "      <td>7</td>\n",
       "      <td>5</td>\n",
       "      <td>2</td>\n",
       "      <td>1</td>\n",
       "      <td>0</td>\n",
       "    </tr>\n",
       "    <tr>\n",
       "      <th>6</th>\n",
       "      <td>Muffin</td>\n",
       "      <td>54</td>\n",
       "      <td>27</td>\n",
       "      <td>7</td>\n",
       "      <td>5</td>\n",
       "      <td>5</td>\n",
       "      <td>2</td>\n",
       "      <td>0</td>\n",
       "      <td>0</td>\n",
       "    </tr>\n",
       "    <tr>\n",
       "      <th>7</th>\n",
       "      <td>Muffin</td>\n",
       "      <td>47</td>\n",
       "      <td>26</td>\n",
       "      <td>10</td>\n",
       "      <td>10</td>\n",
       "      <td>4</td>\n",
       "      <td>1</td>\n",
       "      <td>0</td>\n",
       "      <td>0</td>\n",
       "    </tr>\n",
       "    <tr>\n",
       "      <th>8</th>\n",
       "      <td>Muffin</td>\n",
       "      <td>50</td>\n",
       "      <td>17</td>\n",
       "      <td>17</td>\n",
       "      <td>8</td>\n",
       "      <td>6</td>\n",
       "      <td>1</td>\n",
       "      <td>0</td>\n",
       "      <td>0</td>\n",
       "    </tr>\n",
       "    <tr>\n",
       "      <th>9</th>\n",
       "      <td>Muffin</td>\n",
       "      <td>50</td>\n",
       "      <td>17</td>\n",
       "      <td>17</td>\n",
       "      <td>11</td>\n",
       "      <td>4</td>\n",
       "      <td>1</td>\n",
       "      <td>0</td>\n",
       "      <td>0</td>\n",
       "    </tr>\n",
       "    <tr>\n",
       "      <th>10</th>\n",
       "      <td>Cupcake</td>\n",
       "      <td>39</td>\n",
       "      <td>0</td>\n",
       "      <td>26</td>\n",
       "      <td>19</td>\n",
       "      <td>14</td>\n",
       "      <td>1</td>\n",
       "      <td>1</td>\n",
       "      <td>0</td>\n",
       "    </tr>\n",
       "    <tr>\n",
       "      <th>11</th>\n",
       "      <td>Cupcake</td>\n",
       "      <td>42</td>\n",
       "      <td>21</td>\n",
       "      <td>16</td>\n",
       "      <td>10</td>\n",
       "      <td>8</td>\n",
       "      <td>3</td>\n",
       "      <td>0</td>\n",
       "      <td>0</td>\n",
       "    </tr>\n",
       "    <tr>\n",
       "      <th>12</th>\n",
       "      <td>Cupcake</td>\n",
       "      <td>34</td>\n",
       "      <td>17</td>\n",
       "      <td>20</td>\n",
       "      <td>20</td>\n",
       "      <td>5</td>\n",
       "      <td>2</td>\n",
       "      <td>1</td>\n",
       "      <td>0</td>\n",
       "    </tr>\n",
       "    <tr>\n",
       "      <th>13</th>\n",
       "      <td>Cupcake</td>\n",
       "      <td>39</td>\n",
       "      <td>13</td>\n",
       "      <td>17</td>\n",
       "      <td>19</td>\n",
       "      <td>10</td>\n",
       "      <td>1</td>\n",
       "      <td>1</td>\n",
       "      <td>0</td>\n",
       "    </tr>\n",
       "    <tr>\n",
       "      <th>14</th>\n",
       "      <td>Cupcake</td>\n",
       "      <td>38</td>\n",
       "      <td>15</td>\n",
       "      <td>23</td>\n",
       "      <td>15</td>\n",
       "      <td>8</td>\n",
       "      <td>0</td>\n",
       "      <td>1</td>\n",
       "      <td>0</td>\n",
       "    </tr>\n",
       "    <tr>\n",
       "      <th>15</th>\n",
       "      <td>Cupcake</td>\n",
       "      <td>42</td>\n",
       "      <td>18</td>\n",
       "      <td>25</td>\n",
       "      <td>9</td>\n",
       "      <td>5</td>\n",
       "      <td>1</td>\n",
       "      <td>0</td>\n",
       "      <td>0</td>\n",
       "    </tr>\n",
       "    <tr>\n",
       "      <th>16</th>\n",
       "      <td>Cupcake</td>\n",
       "      <td>36</td>\n",
       "      <td>14</td>\n",
       "      <td>21</td>\n",
       "      <td>14</td>\n",
       "      <td>11</td>\n",
       "      <td>2</td>\n",
       "      <td>1</td>\n",
       "      <td>0</td>\n",
       "    </tr>\n",
       "    <tr>\n",
       "      <th>17</th>\n",
       "      <td>Cupcake</td>\n",
       "      <td>38</td>\n",
       "      <td>15</td>\n",
       "      <td>31</td>\n",
       "      <td>8</td>\n",
       "      <td>6</td>\n",
       "      <td>1</td>\n",
       "      <td>1</td>\n",
       "      <td>0</td>\n",
       "    </tr>\n",
       "    <tr>\n",
       "      <th>18</th>\n",
       "      <td>Cupcake</td>\n",
       "      <td>36</td>\n",
       "      <td>16</td>\n",
       "      <td>24</td>\n",
       "      <td>12</td>\n",
       "      <td>9</td>\n",
       "      <td>1</td>\n",
       "      <td>1</td>\n",
       "      <td>0</td>\n",
       "    </tr>\n",
       "    <tr>\n",
       "      <th>19</th>\n",
       "      <td>Cupcake</td>\n",
       "      <td>34</td>\n",
       "      <td>17</td>\n",
       "      <td>23</td>\n",
       "      <td>11</td>\n",
       "      <td>13</td>\n",
       "      <td>0</td>\n",
       "      <td>1</td>\n",
       "      <td>0</td>\n",
       "    </tr>\n",
       "  </tbody>\n",
       "</table>\n",
       "</div>"
      ],
      "text/plain": [
       "       Type  Flour  Milk  Sugar  Butter  Egg  Baking Powder  Vanilla  Salt\n",
       "0    Muffin     55    28      3       7    5              2        0     0\n",
       "1    Muffin     47    24     12       6    9              1        0     0\n",
       "2    Muffin     47    23     18       6    4              1        0     0\n",
       "3    Muffin     45    11     17      17    8              1        0     0\n",
       "4    Muffin     50    25     12       6    5              2        1     0\n",
       "5    Muffin     55    27      3       7    5              2        1     0\n",
       "6    Muffin     54    27      7       5    5              2        0     0\n",
       "7    Muffin     47    26     10      10    4              1        0     0\n",
       "8    Muffin     50    17     17       8    6              1        0     0\n",
       "9    Muffin     50    17     17      11    4              1        0     0\n",
       "10  Cupcake     39     0     26      19   14              1        1     0\n",
       "11  Cupcake     42    21     16      10    8              3        0     0\n",
       "12  Cupcake     34    17     20      20    5              2        1     0\n",
       "13  Cupcake     39    13     17      19   10              1        1     0\n",
       "14  Cupcake     38    15     23      15    8              0        1     0\n",
       "15  Cupcake     42    18     25       9    5              1        0     0\n",
       "16  Cupcake     36    14     21      14   11              2        1     0\n",
       "17  Cupcake     38    15     31       8    6              1        1     0\n",
       "18  Cupcake     36    16     24      12    9              1        1     0\n",
       "19  Cupcake     34    17     23      11   13              0        1     0"
      ]
     },
     "execution_count": 8,
     "metadata": {},
     "output_type": "execute_result"
    }
   ],
   "source": [
    "cupmuf"
   ]
  },
  {
   "cell_type": "markdown",
   "metadata": {},
   "source": [
    "Kita juga perlu melihat bagaimana variabel-variabel yang ada tadi dalam bentuk grafik.\n",
    "\n",
    "Berikut adalah gambar grafik perbandingan Sugar dan Flour"
   ]
  },
  {
   "cell_type": "code",
   "execution_count": 7,
   "metadata": {},
   "outputs": [
    {
     "data": {
      "image/png": "[encoded data removed]",
      "text/plain": [
       "<Figure size 439x360 with 1 Axes>"
      ]
     },
     "metadata": {
      "needs_background": "light"
     },
     "output_type": "display_data"
    }
   ],
   "source": [
    "sns.lmplot('Flour', 'Sugar', data = cupmuf, hue='Type',\n",
    "          palette='Set1', fit_reg=False, scatter_kws={\"s\": 70});"
   ]
  },
  {
   "cell_type": "markdown",
   "metadata": {},
   "source": [
    "Muffin = 0\n",
    "\n",
    "Cupcake = 1\n",
    "\n",
    "Library yang dipakai adalah numpy."
   ]
  },
  {
   "cell_type": "code",
   "execution_count": 14,
   "metadata": {},
   "outputs": [
    {
     "data": {
      "text/plain": [
       "['Flour', 'Milk', 'Sugar', 'Butter', 'Egg', 'Baking Powder', 'Vanilla', 'Salt']"
      ]
     },
     "execution_count": 14,
     "metadata": {},
     "output_type": "execute_result"
    }
   ],
   "source": [
    "type_label = np.where(cupmuf['Type']=='Muffin', 0, 1)\n",
    "cupmuf_feat = cupmuf.columns.values[1:].tolist()\n",
    "cupmuf_feat"
   ]
  },
  {
   "cell_type": "markdown",
   "metadata": {},
   "source": [
    "Menampilkan nilai Flour dan Sugar"
   ]
  },
  {
   "cell_type": "code",
   "execution_count": 13,
   "metadata": {},
   "outputs": [
    {
     "name": "stdout",
     "output_type": "stream",
     "text": [
      "[[55  3]\n",
      " [47 12]\n",
      " [47 18]\n",
      " [45 17]\n",
      " [50 12]\n",
      " [55  3]\n",
      " [54  7]\n",
      " [47 10]\n",
      " [50 17]\n",
      " [50 17]\n",
      " [39 26]\n",
      " [42 16]\n",
      " [34 20]\n",
      " [39 17]\n",
      " [38 23]\n",
      " [42 25]\n",
      " [36 21]\n",
      " [38 31]\n",
      " [36 24]\n",
      " [34 23]]\n"
     ]
    }
   ],
   "source": [
    "cpmfingr = cupmuf[['Flour', 'Sugar']].values\n",
    "print(cpmfingr)"
   ]
  },
  {
   "cell_type": "markdown",
   "metadata": {},
   "source": [
    "Menyederhanakan data hingga hanya nampak nilainya saja."
   ]
  },
  {
   "cell_type": "code",
   "execution_count": 15,
   "metadata": {},
   "outputs": [
    {
     "name": "stdout",
     "output_type": "stream",
     "text": [
      "[[55 28  3  7  5  2  0  0]\n",
      " [47 24 12  6  9  1  0  0]\n",
      " [47 23 18  6  4  1  0  0]\n",
      " [45 11 17 17  8  1  0  0]\n",
      " [50 25 12  6  5  2  1  0]\n",
      " [55 27  3  7  5  2  1  0]\n",
      " [54 27  7  5  5  2  0  0]\n",
      " [47 26 10 10  4  1  0  0]\n",
      " [50 17 17  8  6  1  0  0]\n",
      " [50 17 17 11  4  1  0  0]\n",
      " [39  0 26 19 14  1  1  0]\n",
      " [42 21 16 10  8  3  0  0]\n",
      " [34 17 20 20  5  2  1  0]\n",
      " [39 13 17 19 10  1  1  0]\n",
      " [38 15 23 15  8  0  1  0]\n",
      " [42 18 25  9  5  1  0  0]\n",
      " [36 14 21 14 11  2  1  0]\n",
      " [38 15 31  8  6  1  1  0]\n",
      " [36 16 24 12  9  1  1  0]\n",
      " [34 17 23 11 13  0  1  0]]\n"
     ]
    }
   ],
   "source": [
    "cpmfingrs = cupmuf[cupmuf_feat].values\n",
    "print(cpmfingrs)"
   ]
  },
  {
   "cell_type": "markdown",
   "metadata": {},
   "source": [
    "Menampilkan data yang akan digunakan yaitu Flour dan Sugar."
   ]
  },
  {
   "cell_type": "code",
   "execution_count": 16,
   "metadata": {},
   "outputs": [
    {
     "data": {
      "text/plain": [
       "array([[55,  3],\n",
       "       [47, 12],\n",
       "       [47, 18],\n",
       "       [45, 17],\n",
       "       [50, 12],\n",
       "       [55,  3],\n",
       "       [54,  7],\n",
       "       [47, 10],\n",
       "       [50, 17],\n",
       "       [50, 17],\n",
       "       [39, 26],\n",
       "       [42, 16],\n",
       "       [34, 20],\n",
       "       [39, 17],\n",
       "       [38, 23],\n",
       "       [42, 25],\n",
       "       [36, 21],\n",
       "       [38, 31],\n",
       "       [36, 24],\n",
       "       [34, 23]], dtype=int64)"
      ]
     },
     "execution_count": 16,
     "metadata": {},
     "output_type": "execute_result"
    }
   ],
   "source": [
    "ingredients = cupmuf[['Flour', 'Sugar']].values\n",
    "ingredients"
   ]
  },
  {
   "cell_type": "markdown",
   "metadata": {},
   "source": [
    "Langkah selanjutnya yaitu menyesuaikan model kebentuk SVM.\n",
    "\n",
    "Library yang dipakai adalah sklearn."
   ]
  },
  {
   "cell_type": "code",
   "execution_count": 49,
   "metadata": {},
   "outputs": [
    {
     "data": {
      "text/plain": [
       "SVC(kernel='linear')"
      ]
     },
     "execution_count": 49,
     "metadata": {},
     "output_type": "execute_result"
    }
   ],
   "source": [
    "cupmufel = svm.SVC(kernel='linear')\n",
    "cupmufel.fit(ingredients, type_label)"
   ]
  },
  {
   "cell_type": "markdown",
   "metadata": {},
   "source": [
    "     "
   ]
  },
  {
   "cell_type": "markdown",
   "metadata": {},
   "source": [
    "Menghitung skor Cross Validationnya"
   ]
  },
  {
   "cell_type": "code",
   "execution_count": 59,
   "metadata": {},
   "outputs": [
    {
     "name": "stdout",
     "output_type": "stream",
     "text": [
      "Cross Validation score : [0.8 1.  0.8 1. ]\n"
     ]
    }
   ],
   "source": [
    "from sklearn.model_selection import cross_val_score\n",
    "score_svc = cross_val_score(cupmufel, ingredients, type_label, cv=4)\n",
    "print(\"Cross Validation score : \" + str(score_svc))"
   ]
  },
  {
   "cell_type": "markdown",
   "metadata": {},
   "source": [
    "Membuat hyperplane pemisah"
   ]
  },
  {
   "cell_type": "code",
   "execution_count": 27,
   "metadata": {},
   "outputs": [
    {
     "name": "stdout",
     "output_type": "stream",
     "text": [
      "[ 1.15779472e+16  1.10528750e+16  1.05278028e+16  1.00027306e+16\n",
      "  9.47765844e+15  8.95258624e+15  8.42751405e+15  7.90244185e+15\n",
      "  7.37736965e+15  6.85229746e+15  6.32722526e+15  5.80215306e+15\n",
      "  5.27708087e+15  4.75200867e+15  4.22693647e+15  3.70186428e+15\n",
      "  3.17679208e+15  2.65171988e+15  2.12664769e+15  1.60157549e+15\n",
      "  1.07650329e+15  5.51431096e+14  2.63588995e+13 -4.98713297e+14\n",
      " -1.02378549e+15 -1.54885769e+15 -2.07392989e+15 -2.59900208e+15\n",
      " -3.12407428e+15 -3.64914648e+15 -4.17421867e+15 -4.69929087e+15\n",
      " -5.22436307e+15 -5.74943526e+15 -6.27450746e+15 -6.79957966e+15\n",
      " -7.32465185e+15 -7.84972405e+15 -8.37479625e+15 -8.89986844e+15\n",
      " -9.42494064e+15 -9.95001284e+15 -1.04750850e+16 -1.10001572e+16\n",
      " -1.15252294e+16 -1.20503016e+16 -1.25753738e+16 -1.31004460e+16\n",
      " -1.36255182e+16 -1.41505904e+16]\n"
     ]
    }
   ],
   "source": [
    "cm = cupmufel.coef_[0]\n",
    "a = -cm[0] / cm[1]\n",
    "xx = np.linspace(30, 60)\n",
    "yy = a * xx - (cupmufel.intercept_[0]) / cm[1]\n",
    "print(yy)\n",
    "\n",
    "# plot parallel dengan garis hyperplane\n",
    "cc = cupmufel.support_vectors_[0]\n",
    "yy_down = a * xx + (cc[1] - a * cc[0])\n",
    "mm = cupmufel.support_vectors_[-1]\n",
    "yy_up = a * xx + (mm[1] - a * mm[0])"
   ]
  },
  {
   "cell_type": "markdown",
   "metadata": {},
   "source": [
    "    "
   ]
  },
  {
   "cell_type": "markdown",
   "metadata": {},
   "source": [
    "Membuat hyperplane pemisah"
   ]
  },
  {
   "cell_type": "code",
   "execution_count": 32,
   "metadata": {},
   "outputs": [
    {
     "name": "stdout",
     "output_type": "stream",
     "text": [
      "[ 1.28642688e+16  1.23391966e+16  1.18141244e+16  1.12890522e+16\n",
      "  1.07639800e+16  1.02389078e+16  9.71383564e+15  9.18876344e+15\n",
      "  8.66369124e+15  8.13861905e+15  7.61354685e+15  7.08847465e+15\n",
      "  6.56340246e+15  6.03833026e+15  5.51325806e+15  4.98818587e+15\n",
      "  4.46311367e+15  3.93804147e+15  3.41296928e+15  2.88789708e+15\n",
      "  2.36282488e+15  1.83775269e+15  1.31268049e+15  7.87608295e+14\n",
      "  2.62536098e+14 -2.62536098e+14 -7.87608295e+14 -1.31268049e+15\n",
      " -1.83775269e+15 -2.36282488e+15 -2.88789708e+15 -3.41296928e+15\n",
      " -3.93804147e+15 -4.46311367e+15 -4.98818587e+15 -5.51325806e+15\n",
      " -6.03833026e+15 -6.56340246e+15 -7.08847465e+15 -7.61354685e+15\n",
      " -8.13861905e+15 -8.66369124e+15 -9.18876344e+15 -9.71383564e+15\n",
      " -1.02389078e+16 -1.07639800e+16 -1.12890522e+16 -1.18141244e+16\n",
      " -1.23391966e+16 -1.28642688e+16]\n"
     ]
    }
   ],
   "source": [
    "cm = cupmufel.coef_[0]\n",
    "a = -cm[0] / cm[1]\n",
    "xx = np.linspace(30, 60)\n",
    "yy = a * xx - (cupmufel.intercept_[0]) / cm[1]\n",
    "\n",
    "# plot the parallels to the separating hyperplane\n",
    "cc = cupmufel.support_vectors_[0]\n",
    "yy_down = a * xx + (cc[1] - a * cc[0])\n",
    "mm = cupmufel.support_vectors_[-1]\n",
    "yy_up = a * xx + (mm[1] - a * mm[0])\n",
    "print(yy_down)"
   ]
  },
  {
   "cell_type": "markdown",
   "metadata": {},
   "source": [
    "Membuat hyperplane pemisah"
   ]
  },
  {
   "cell_type": "code",
   "execution_count": 33,
   "metadata": {
    "scrolled": true
   },
   "outputs": [
    {
     "name": "stdout",
     "output_type": "stream",
     "text": [
      "[ 1.15779472e+16  1.10528750e+16  1.05278028e+16  1.00027306e+16\n",
      "  9.47765844e+15  8.95258624e+15  8.42751405e+15  7.90244185e+15\n",
      "  7.37736965e+15  6.85229746e+15  6.32722526e+15  5.80215306e+15\n",
      "  5.27708087e+15  4.75200867e+15  4.22693647e+15  3.70186428e+15\n",
      "  3.17679208e+15  2.65171988e+15  2.12664769e+15  1.60157549e+15\n",
      "  1.07650329e+15  5.51431096e+14  2.63588995e+13 -4.98713297e+14\n",
      " -1.02378549e+15 -1.54885769e+15 -2.07392989e+15 -2.59900208e+15\n",
      " -3.12407428e+15 -3.64914648e+15 -4.17421867e+15 -4.69929087e+15\n",
      " -5.22436307e+15 -5.74943526e+15 -6.27450746e+15 -6.79957966e+15\n",
      " -7.32465185e+15 -7.84972405e+15 -8.37479625e+15 -8.89986844e+15\n",
      " -9.42494064e+15 -9.95001284e+15 -1.04750850e+16 -1.10001572e+16\n",
      " -1.15252294e+16 -1.20503016e+16 -1.25753738e+16 -1.31004460e+16\n",
      " -1.36255182e+16 -1.41505904e+16]\n"
     ]
    }
   ],
   "source": [
    "cm = cupmufel.coef_[0]\n",
    "a = -cm[0] / cm[1]\n",
    "xx = np.linspace(30, 60)\n",
    "yy = a * xx - (cupmufel.intercept_[0]) / cm[1]\n",
    "print(yy)\n",
    "\n",
    "# plot the parallels to the separating hyperplane\n",
    "cc = cupmufel.support_vectors_[0]\n",
    "yy_down = a * xx + (cc[1] - a * cc[0])\n",
    "mm = cupmufel.support_vectors_[-1]\n",
    "yy_up = a * xx + (mm[1] - a * mm[0])"
   ]
  },
  {
   "cell_type": "markdown",
   "metadata": {},
   "source": [
    "        "
   ]
  },
  {
   "cell_type": "markdown",
   "metadata": {},
   "source": [
    "Membuat hyperplane pemisah"
   ]
  },
  {
   "cell_type": "code",
   "execution_count": 34,
   "metadata": {},
   "outputs": [
    {
     "name": "stdout",
     "output_type": "stream",
     "text": [
      "[ 1.02914151e+16  9.76634286e+15  9.24127066e+15  8.71619846e+15\n",
      "  8.19112627e+15  7.66605407e+15  7.14098187e+15  6.61590968e+15\n",
      "  6.09083748e+15  5.56576528e+15  5.04069309e+15  4.51562089e+15\n",
      "  3.99054869e+15  3.46547650e+15  2.94040430e+15  2.41533210e+15\n",
      "  1.89025991e+15  1.36518771e+15  8.40115515e+14  3.15043318e+14\n",
      " -2.10028879e+14 -7.35101075e+14 -1.26017327e+15 -1.78524547e+15\n",
      " -2.31031767e+15 -2.83538986e+15 -3.36046206e+15 -3.88553426e+15\n",
      " -4.41060645e+15 -4.93567865e+15 -5.46075085e+15 -5.98582304e+15\n",
      " -6.51089524e+15 -7.03596743e+15 -7.56103963e+15 -8.08611183e+15\n",
      " -8.61118402e+15 -9.13625622e+15 -9.66132842e+15 -1.01864006e+16\n",
      " -1.07114728e+16 -1.12365450e+16 -1.17616172e+16 -1.22866894e+16\n",
      " -1.28117616e+16 -1.33368338e+16 -1.38619060e+16 -1.43869782e+16\n",
      " -1.49120504e+16 -1.54371226e+16]\n"
     ]
    }
   ],
   "source": [
    "cm = cupmufel.coef_[0]\n",
    "a = -cm[0] / cm[1]\n",
    "xx = np.linspace(30, 60)\n",
    "yy = a * xx - (cupmufel.intercept_[0]) / cm[1]\n",
    "\n",
    "# plot the parallels to the separating hyperplane\n",
    "cc = cupmufel.support_vectors_[0]\n",
    "yy_down = a * xx + (cc[1] - a * cc[0])\n",
    "mm = cupmufel.support_vectors_[-1]\n",
    "yy_up = a * xx + (mm[1] - a * mm[0])\n",
    "print(yy_up)"
   ]
  },
  {
   "cell_type": "markdown",
   "metadata": {},
   "source": [
    "    "
   ]
  },
  {
   "cell_type": "markdown",
   "metadata": {},
   "source": [
    "Menampilkan titik-titik sesuai dengan nilai Flour dan Sugar."
   ]
  },
  {
   "cell_type": "code",
   "execution_count": 37,
   "metadata": {},
   "outputs": [
    {
     "data": {
      "text/plain": [
       "<seaborn.axisgrid.FacetGrid at 0x1e2378c85b0>"
      ]
     },
     "execution_count": 37,
     "metadata": {},
     "output_type": "execute_result"
    },
    {
     "data": {
      "image/png": "[encoded data removed]",
      "text/plain": [
       "<Figure size 438.625x360 with 1 Axes>"
      ]
     },
     "metadata": {
      "needs_background": "light"
     },
     "output_type": "display_data"
    }
   ],
   "source": [
    "sns.lmplot('Flour', 'Sugar', data = cupmuf, hue='Type',\n",
    "          palette='Set1', fit_reg=False, scatter_kws={\"s\": 70})"
   ]
  },
  {
   "cell_type": "markdown",
   "metadata": {},
   "source": [
    "     "
   ]
  },
  {
   "cell_type": "markdown",
   "metadata": {},
   "source": [
    "Karena seaborn berada diatas pyplot, jadi pyplot dapat dibuat garis.\n",
    "\n",
    "Kemudian titik-titik akan berada dalam satu garis sesuai dengan jumlah flournya."
   ]
  },
  {
   "cell_type": "code",
   "execution_count": 39,
   "metadata": {},
   "outputs": [
    {
     "data": {
      "text/plain": [
       "[<matplotlib.lines.Line2D at 0x1e237920130>]"
      ]
     },
     "execution_count": 39,
     "metadata": {},
     "output_type": "execute_result"
    },
    {
     "data": {
      "image/png": "[encoded data removed]",
      "text/plain": [
       "<Figure size 438.625x360 with 1 Axes>"
      ]
     },
     "metadata": {
      "needs_background": "light"
     },
     "output_type": "display_data"
    }
   ],
   "source": [
    "sns.lmplot('Flour', 'Sugar', data = cupmuf, hue='Type',\n",
    "          palette='Set1', fit_reg=False, scatter_kws={\"s\": 70})\n",
    "plt.plot(xx, yy, linewidth=2, color='blue')"
   ]
  },
  {
   "cell_type": "markdown",
   "metadata": {},
   "source": [
    "    "
   ]
  },
  {
   "cell_type": "markdown",
   "metadata": {},
   "source": [
    "Menambahkan yy_down"
   ]
  },
  {
   "cell_type": "code",
   "execution_count": 40,
   "metadata": {},
   "outputs": [
    {
     "data": {
      "text/plain": [
       "[<matplotlib.lines.Line2D at 0x1e237982c40>]"
      ]
     },
     "execution_count": 40,
     "metadata": {},
     "output_type": "execute_result"
    },
    {
     "data": {
      "image/png": "[encoded data removed]",
      "text/plain": [
       "<Figure size 438.625x360 with 1 Axes>"
      ]
     },
     "metadata": {
      "needs_background": "light"
     },
     "output_type": "display_data"
    }
   ],
   "source": [
    "sns.lmplot('Flour', 'Sugar', data = cupmuf, hue='Type',\n",
    "          palette='Set1', fit_reg=False, scatter_kws={\"s\": 70})\n",
    "plt.plot(xx, yy, linewidth=2, color='blue')\n",
    "plt.plot(xx, yy_down, 'k--')"
   ]
  },
  {
   "cell_type": "markdown",
   "metadata": {},
   "source": [
    "    "
   ]
  },
  {
   "cell_type": "markdown",
   "metadata": {},
   "source": [
    "Menambahkan yy_up"
   ]
  },
  {
   "cell_type": "code",
   "execution_count": 41,
   "metadata": {},
   "outputs": [
    {
     "data": {
      "text/plain": [
       "[<matplotlib.lines.Line2D at 0x1e237a4a760>]"
      ]
     },
     "execution_count": 41,
     "metadata": {},
     "output_type": "execute_result"
    },
    {
     "data": {
      "image/png": "[encoded data removed]",
      "text/plain": [
       "<Figure size 438.625x360 with 1 Axes>"
      ]
     },
     "metadata": {
      "needs_background": "light"
     },
     "output_type": "display_data"
    }
   ],
   "source": [
    "sns.lmplot('Flour', 'Sugar', data = cupmuf, hue='Type',\n",
    "          palette='Set1', fit_reg=False, scatter_kws={\"s\": 70})\n",
    "plt.plot(xx, yy, linewidth=2, color='blue')\n",
    "plt.plot(xx, yy_up, 'k--')"
   ]
  },
  {
   "cell_type": "markdown",
   "metadata": {},
   "source": [
    "Menambahkan yy_up dan menampilkannya dalam grafik.\n",
    "\n",
    "Kemudian akan terlihat jika garis putus-putus akan berada dititik terdekat Miffin dan Cupcake dan garis Hyperplane berada dititik tengah garis putus-putus."
   ]
  },
  {
   "cell_type": "code",
   "execution_count": 54,
   "metadata": {},
   "outputs": [
    {
     "data": {
      "text/plain": [
       "[<matplotlib.lines.Line2D at 0x1e238b643a0>]"
      ]
     },
     "execution_count": 54,
     "metadata": {},
     "output_type": "execute_result"
    },
    {
     "data": {
      "image/png": "[encoded data removed]",
      "text/plain": [
       "<Figure size 438.625x360 with 1 Axes>"
      ]
     },
     "metadata": {
      "needs_background": "light"
     },
     "output_type": "display_data"
    }
   ],
   "source": [
    "sns.lmplot('Flour', 'Sugar', data = cupmuf, hue='Type',\n",
    "          palette='Set1', fit_reg=False, scatter_kws={\"s\": 70})\n",
    "plt.plot(xx, yy, linewidth=2, color='blue')\n",
    "plt.plot(xx, yy_down, 'k--')\n",
    "plt.plot(xx, yy_up, 'k--')"
   ]
  },
  {
   "cell_type": "markdown",
   "metadata": {},
   "source": [
    "Langkah ini ialah membuat fungsi yang akan menyeleksi apakah resep Muffin atau Cupcake."
   ]
  },
  {
   "cell_type": "code",
   "execution_count": 53,
   "metadata": {},
   "outputs": [],
   "source": [
    "def Cupcake_or_Muffin(flour, sugar):\n",
    "    if(cupmufel.predict([[flour, sugar]]))==0:\n",
    "        print('Ini adalah resep Muffin')\n",
    "    else:\n",
    "        print('Ini adalah resep Cupcake')"
   ]
  },
  {
   "cell_type": "markdown",
   "metadata": {},
   "source": [
    "Testing jika Flour = 40 dan Sugar = 20"
   ]
  },
  {
   "cell_type": "code",
   "execution_count": 57,
   "metadata": {
    "scrolled": true
   },
   "outputs": [
    {
     "name": "stdout",
     "output_type": "stream",
     "text": [
      "Ini adalah resep Cupcake\n"
     ]
    }
   ],
   "source": [
    "Cupcake_or_Muffin(40, 20)"
   ]
  },
  {
   "cell_type": "markdown",
   "metadata": {},
   "source": [
    "Berikut merupakan letak titik yang ditesting tadi dalam bentuk grafik."
   ]
  },
  {
   "cell_type": "code",
   "execution_count": 48,
   "metadata": {},
   "outputs": [
    {
     "data": {
      "text/plain": [
       "[<matplotlib.lines.Line2D at 0x1e237b0fee0>]"
      ]
     },
     "execution_count": 48,
     "metadata": {},
     "output_type": "execute_result"
    },
    {
     "data": {
      "image/png": "[encoded data removed]",
      "text/plain": [
       "<Figure size 438.625x360 with 1 Axes>"
      ]
     },
     "metadata": {
      "needs_background": "light"
     },
     "output_type": "display_data"
    }
   ],
   "source": [
    "sns.lmplot('Flour', 'Sugar', data = cupmuf, hue='Type',\n",
    "          palette='Set1', fit_reg=False, scatter_kws={\"s\": 70})\n",
    "plt.plot(xx, yy, linewidth=2, color='blue')\n",
    "plt.plot(40, 20, 'yo', markersize='9')"
   ]
  },
  {
   "cell_type": "markdown",
   "metadata": {},
   "source": [
    "Selesai!"
   ]
  }
 ],
 "metadata": {
  "kernelspec": {
   "display_name": "Python 3",
   "language": "python",
   "name": "python3"
  },
  "language_info": {
   "codemirror_mode": {
    "name": "ipython",
    "version": 3
   },
   "file_extension": ".py",
   "mimetype": "text/x-python",
   "name": "python",
   "nbconvert_exporter": "python",
   "pygments_lexer": "ipython3",
   "version": "3.8.3"
  }
 },
 "nbformat": 4,
 "nbformat_minor": 2
}
