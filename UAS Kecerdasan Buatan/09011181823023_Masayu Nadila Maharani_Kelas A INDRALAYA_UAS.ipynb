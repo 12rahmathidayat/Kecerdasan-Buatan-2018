{
 "cells": [
  {
   "cell_type": "markdown",
   "metadata": {},
   "source": [
    "# Ujian Akhir Semester Artificial Intelligence"
   ]
  },
  {
   "cell_type": "markdown",
   "metadata": {},
   "source": [
    "### Nama : Masayu Nadila Maharani\n",
    "### NIM : 09011181823023\n",
    "### Kelas : SK5A Indralaya"
   ]
  },
  {
   "cell_type": "markdown",
   "metadata": {},
   "source": [
    "## Klasifikasi dataset iris menggunakan metode Support Vector Machine (SVM)"
   ]
  },
  {
   "cell_type": "markdown",
   "metadata": {},
   "source": [
    "#### Support Vector Machine\n",
    "Support vector machine (SVM) adalah salah satu metode yang biasanya digunakan untuk klasifikasi, dan juga merupakan salah satu metode yang sangat baik untuk klasifikasi data, namun datanya terbatas. Dalam pemodelan klasifikasi, SVM memiliki konsep yang lebih jelas secara matematis dibandingkan dengan teknik-teknik klasifikasi lainnya. SVM juga dapat mengatasi masalah klasifikasi dan regresi dengan linear maupun non linear."
   ]
  },
  {
   "cell_type": "markdown",
   "metadata": {},
   "source": [
    "#### Import Library\n",
    "itertools mencakup sekumpulan fungsi yang bekerja dengan iterable\n",
    "\n",
    "Numpy adalah library python yang fokus pada scientific computing. Penggunaan as disini artinya kita menggantikan pemanggilan numpy dengan prfix np untuk proses berikutnya.\n",
    "\n",
    "Matplotlib digunakan untuk membantu menyusun informasi sehingga data dapat divisualisasikan agar mudah dipahami\n",
    "\n",
    "pandas adalah library python yang fous pada proses analisis data seperti manipulasi data, persiapan data dan pembersihan data. panda juga memadukan library numpy yang memiliki kemampuan manipulasi data yang fleksibel dengan database relasional (seperti SQL)\n",
    "\n",
    "scipy.optimize ini menyediakan beberapa algoritme pengoptimalan yang umum digunakan.\n",
    "\n",
    "sklearn digunakan untuk membantu dalam mengolah data yang akan disegmentasikan"
   ]
  },
  {
   "cell_type": "code",
   "execution_count": 1,
   "metadata": {},
   "outputs": [],
   "source": [
    "#Import semua library yang akan digunakan\n",
    "import itertools\n",
    "import numpy as np\n",
    "import matplotlib.pyplot as plt\n",
    "import pandas as pd\n",
    "import matplotlib.ticker as ticker\n",
    "import scipy.optimize as opt\n",
    "import pylab as pl\n",
    "from sklearn import preprocessing\n",
    "from matplotlib.ticker import NullFormatter\n",
    "from sklearn.model_selection import train_test_split"
   ]
  },
  {
   "cell_type": "markdown",
   "metadata": {},
   "source": [
    "Dataset yang digunakan ini ialah dataset iris atau data bunga iris Data bunga iris ini ada 3 jenis/spesies yaitu : sentosa, versicolor dan virginica"
   ]
  },
  {
   "cell_type": "code",
   "execution_count": 2,
   "metadata": {},
   "outputs": [],
   "source": [
    "#import dataset\n",
    "df = pd.read_csv('E:/SEMESTER 5/UTS AI/Iris.csv')"
   ]
  },
  {
   "cell_type": "code",
   "execution_count": 3,
   "metadata": {},
   "outputs": [
    {
     "data": {
      "text/html": [
       "<div>\n",
       "<style scoped>\n",
       "    .dataframe tbody tr th:only-of-type {\n",
       "        vertical-align: middle;\n",
       "    }\n",
       "\n",
       "    .dataframe tbody tr th {\n",
       "        vertical-align: top;\n",
       "    }\n",
       "\n",
       "    .dataframe thead th {\n",
       "        text-align: right;\n",
       "    }\n",
       "</style>\n",
       "<table border=\"1\" class=\"dataframe\">\n",
       "  <thead>\n",
       "    <tr style=\"text-align: right;\">\n",
       "      <th></th>\n",
       "      <th>Id</th>\n",
       "      <th>SepalLengthCm</th>\n",
       "      <th>SepalWidthCm</th>\n",
       "      <th>PetalLengthCm</th>\n",
       "      <th>PetalWidthCm</th>\n",
       "      <th>Species</th>\n",
       "    </tr>\n",
       "  </thead>\n",
       "  <tbody>\n",
       "    <tr>\n",
       "      <th>0</th>\n",
       "      <td>1</td>\n",
       "      <td>5.1</td>\n",
       "      <td>3.5</td>\n",
       "      <td>1.4</td>\n",
       "      <td>0.2</td>\n",
       "      <td>Iris-setosa</td>\n",
       "    </tr>\n",
       "    <tr>\n",
       "      <th>1</th>\n",
       "      <td>2</td>\n",
       "      <td>4.9</td>\n",
       "      <td>3.0</td>\n",
       "      <td>1.4</td>\n",
       "      <td>0.2</td>\n",
       "      <td>Iris-setosa</td>\n",
       "    </tr>\n",
       "    <tr>\n",
       "      <th>2</th>\n",
       "      <td>3</td>\n",
       "      <td>4.7</td>\n",
       "      <td>3.2</td>\n",
       "      <td>1.3</td>\n",
       "      <td>0.2</td>\n",
       "      <td>Iris-setosa</td>\n",
       "    </tr>\n",
       "    <tr>\n",
       "      <th>3</th>\n",
       "      <td>4</td>\n",
       "      <td>4.6</td>\n",
       "      <td>3.1</td>\n",
       "      <td>1.5</td>\n",
       "      <td>0.2</td>\n",
       "      <td>Iris-setosa</td>\n",
       "    </tr>\n",
       "    <tr>\n",
       "      <th>4</th>\n",
       "      <td>5</td>\n",
       "      <td>5.0</td>\n",
       "      <td>3.6</td>\n",
       "      <td>1.4</td>\n",
       "      <td>0.2</td>\n",
       "      <td>Iris-setosa</td>\n",
       "    </tr>\n",
       "  </tbody>\n",
       "</table>\n",
       "</div>"
      ],
      "text/plain": [
       "   Id  SepalLengthCm  SepalWidthCm  PetalLengthCm  PetalWidthCm      Species\n",
       "0   1            5.1           3.5            1.4           0.2  Iris-setosa\n",
       "1   2            4.9           3.0            1.4           0.2  Iris-setosa\n",
       "2   3            4.7           3.2            1.3           0.2  Iris-setosa\n",
       "3   4            4.6           3.1            1.5           0.2  Iris-setosa\n",
       "4   5            5.0           3.6            1.4           0.2  Iris-setosa"
      ]
     },
     "execution_count": 3,
     "metadata": {},
     "output_type": "execute_result"
    }
   ],
   "source": [
    "df.head()"
   ]
  },
  {
   "cell_type": "code",
   "execution_count": 4,
   "metadata": {},
   "outputs": [
    {
     "name": "stdout",
     "output_type": "stream",
     "text": [
      "<class 'pandas.core.frame.DataFrame'>\n",
      "RangeIndex: 150 entries, 0 to 149\n",
      "Data columns (total 6 columns):\n",
      "Id               150 non-null int64\n",
      "SepalLengthCm    150 non-null float64\n",
      "SepalWidthCm     150 non-null float64\n",
      "PetalLengthCm    150 non-null float64\n",
      "PetalWidthCm     150 non-null float64\n",
      "Species          150 non-null object\n",
      "dtypes: float64(4), int64(1), object(1)\n",
      "memory usage: 7.1+ KB\n"
     ]
    }
   ],
   "source": [
    "df.info()"
   ]
  },
  {
   "cell_type": "markdown",
   "metadata": {},
   "source": [
    "Dari data diatas maka dapat dilihat bahwa terdapat 150 entri data dengan total 6 kolom serta ada tipe data float, int dan tipe data object. ada 4 yang bertipe data float, 1 bertipe data int serta 1 bertipe data object."
   ]
  },
  {
   "cell_type": "code",
   "execution_count": 5,
   "metadata": {},
   "outputs": [
    {
     "data": {
      "text/html": [
       "<div>\n",
       "<style scoped>\n",
       "    .dataframe tbody tr th:only-of-type {\n",
       "        vertical-align: middle;\n",
       "    }\n",
       "\n",
       "    .dataframe tbody tr th {\n",
       "        vertical-align: top;\n",
       "    }\n",
       "\n",
       "    .dataframe thead th {\n",
       "        text-align: right;\n",
       "    }\n",
       "</style>\n",
       "<table border=\"1\" class=\"dataframe\">\n",
       "  <thead>\n",
       "    <tr style=\"text-align: right;\">\n",
       "      <th></th>\n",
       "      <th>Id</th>\n",
       "      <th>SepalLengthCm</th>\n",
       "      <th>SepalWidthCm</th>\n",
       "      <th>PetalLengthCm</th>\n",
       "      <th>PetalWidthCm</th>\n",
       "    </tr>\n",
       "  </thead>\n",
       "  <tbody>\n",
       "    <tr>\n",
       "      <th>count</th>\n",
       "      <td>150.000000</td>\n",
       "      <td>150.000000</td>\n",
       "      <td>150.000000</td>\n",
       "      <td>150.000000</td>\n",
       "      <td>150.000000</td>\n",
       "    </tr>\n",
       "    <tr>\n",
       "      <th>mean</th>\n",
       "      <td>75.500000</td>\n",
       "      <td>5.843333</td>\n",
       "      <td>3.054000</td>\n",
       "      <td>3.758667</td>\n",
       "      <td>1.198667</td>\n",
       "    </tr>\n",
       "    <tr>\n",
       "      <th>std</th>\n",
       "      <td>43.445368</td>\n",
       "      <td>0.828066</td>\n",
       "      <td>0.433594</td>\n",
       "      <td>1.764420</td>\n",
       "      <td>0.763161</td>\n",
       "    </tr>\n",
       "    <tr>\n",
       "      <th>min</th>\n",
       "      <td>1.000000</td>\n",
       "      <td>4.300000</td>\n",
       "      <td>2.000000</td>\n",
       "      <td>1.000000</td>\n",
       "      <td>0.100000</td>\n",
       "    </tr>\n",
       "    <tr>\n",
       "      <th>25%</th>\n",
       "      <td>38.250000</td>\n",
       "      <td>5.100000</td>\n",
       "      <td>2.800000</td>\n",
       "      <td>1.600000</td>\n",
       "      <td>0.300000</td>\n",
       "    </tr>\n",
       "    <tr>\n",
       "      <th>50%</th>\n",
       "      <td>75.500000</td>\n",
       "      <td>5.800000</td>\n",
       "      <td>3.000000</td>\n",
       "      <td>4.350000</td>\n",
       "      <td>1.300000</td>\n",
       "    </tr>\n",
       "    <tr>\n",
       "      <th>75%</th>\n",
       "      <td>112.750000</td>\n",
       "      <td>6.400000</td>\n",
       "      <td>3.300000</td>\n",
       "      <td>5.100000</td>\n",
       "      <td>1.800000</td>\n",
       "    </tr>\n",
       "    <tr>\n",
       "      <th>max</th>\n",
       "      <td>150.000000</td>\n",
       "      <td>7.900000</td>\n",
       "      <td>4.400000</td>\n",
       "      <td>6.900000</td>\n",
       "      <td>2.500000</td>\n",
       "    </tr>\n",
       "  </tbody>\n",
       "</table>\n",
       "</div>"
      ],
      "text/plain": [
       "               Id  SepalLengthCm  SepalWidthCm  PetalLengthCm  PetalWidthCm\n",
       "count  150.000000     150.000000    150.000000     150.000000    150.000000\n",
       "mean    75.500000       5.843333      3.054000       3.758667      1.198667\n",
       "std     43.445368       0.828066      0.433594       1.764420      0.763161\n",
       "min      1.000000       4.300000      2.000000       1.000000      0.100000\n",
       "25%     38.250000       5.100000      2.800000       1.600000      0.300000\n",
       "50%     75.500000       5.800000      3.000000       4.350000      1.300000\n",
       "75%    112.750000       6.400000      3.300000       5.100000      1.800000\n",
       "max    150.000000       7.900000      4.400000       6.900000      2.500000"
      ]
     },
     "execution_count": 5,
     "metadata": {},
     "output_type": "execute_result"
    }
   ],
   "source": [
    "#deskripsikan data untuk melihat informasi seperti berapa rata-ratanya dengan perintah\n",
    "df.describe()"
   ]
  },
  {
   "cell_type": "code",
   "execution_count": 6,
   "metadata": {},
   "outputs": [
    {
     "data": {
      "text/plain": [
       "PetalWidthCm     1.198667\n",
       "PetalLengthCm    3.758667\n",
       "SepalWidthCm     3.054000\n",
       "SepalLengthCm    5.843333\n",
       "dtype: float64"
      ]
     },
     "execution_count": 6,
     "metadata": {},
     "output_type": "execute_result"
    }
   ],
   "source": [
    "df [['PetalWidthCm','PetalLengthCm','SepalWidthCm','SepalLengthCm']].mean()"
   ]
  },
  {
   "cell_type": "markdown",
   "metadata": {},
   "source": [
    "## 1. Visualisasi data"
   ]
  },
  {
   "cell_type": "markdown",
   "metadata": {},
   "source": [
    "Visualisasi data atau sata visualization merupakan rangkaian proses menampilkan data atau informasi dalam bentuk yang mudah dipahami oleh orang awam, seperti grafik, angka dan lain sebagainya. Tujuan visualisasi data ini tentunya untuk mempermudah melihat dan memahami pola."
   ]
  },
  {
   "cell_type": "code",
   "execution_count": 7,
   "metadata": {},
   "outputs": [
    {
     "data": {
      "image/png": "[encoded data removed]",
      "text/plain": [
       "<matplotlib.figure.Figure at 0x208a825e240>"
      ]
     },
     "metadata": {},
     "output_type": "display_data"
    }
   ],
   "source": [
    "rata_iris = df[['PetalWidthCm','PetalLengthCm','SepalWidthCm','SepalLengthCm']].mean()\n",
    "rata_iris.plot()\n",
    "plt.xlabel(\"Kategori bunga iris\")\n",
    "plt.ylabel(\"Jumlah rata-rata\")\n",
    "plt.title(\"Jumlah rata-rata panjang dan lebar sepal dan kelopak bunga iris\")\n",
    "plt.grid()\n",
    "plt.show()"
   ]
  },
  {
   "cell_type": "markdown",
   "metadata": {},
   "source": [
    "## Pembagian data"
   ]
  },
  {
   "cell_type": "markdown",
   "metadata": {},
   "source": [
    "pembagian data ini dilakukan untuk membagi mana data float,int dan juga object"
   ]
  },
  {
   "cell_type": "code",
   "execution_count": 8,
   "metadata": {},
   "outputs": [
    {
     "data": {
      "text/plain": [
       "array([[0.2, 1.4, 3.5, 5.1],\n",
       "       [0.2, 1.4, 3. , 4.9],\n",
       "       [0.2, 1.3, 3.2, 4.7],\n",
       "       [0.2, 1.5, 3.1, 4.6],\n",
       "       [0.2, 1.4, 3.6, 5. ]])"
      ]
     },
     "execution_count": 8,
     "metadata": {},
     "output_type": "execute_result"
    }
   ],
   "source": [
    "#x untuk angkanya\n",
    "x = df[['PetalWidthCm','PetalLengthCm','SepalWidthCm','SepalLengthCm']].values\n",
    "x[0:5]"
   ]
  },
  {
   "cell_type": "code",
   "execution_count": 9,
   "metadata": {},
   "outputs": [
    {
     "name": "stderr",
     "output_type": "stream",
     "text": [
      "E:\\anaconda\\lib\\site-packages\\sklearn\\preprocessing\\label.py:128: DataConversionWarning: A column-vector y was passed when a 1d array was expected. Please change the shape of y to (n_samples, ), for example using ravel().\n",
      "  y = column_or_1d(y, warn=True)\n"
     ]
    },
    {
     "data": {
      "text/plain": [
       "array([0, 0, 0, 0, 0, 0, 0, 0, 0, 0], dtype=int64)"
      ]
     },
     "execution_count": 9,
     "metadata": {},
     "output_type": "execute_result"
    }
   ],
   "source": [
    "#y untuk pengkategoriannya berdasarkan kelasnya dan ubah y ke numeric\n",
    "y = df[['Species']]\n",
    "kategori = preprocessing.LabelEncoder()\n",
    "kategori.fit([\"Iris-setosa\",\"Iris-versicolor\",\"Iris-virginica\"])\n",
    "#0 untuk kategori setosa\n",
    "#1 untuk kategori versicolor\n",
    "#2 untuk kategori virginica\n",
    "y = kategori.transform(y)\n",
    "y[0:10]"
   ]
  },
  {
   "cell_type": "code",
   "execution_count": 10,
   "metadata": {},
   "outputs": [
    {
     "name": "stdout",
     "output_type": "stream",
     "text": [
      "[[-1.31297673e+00 -1.34127240e+00  1.03205722e+00 -9.00681170e-01]\n",
      " [-1.31297673e+00 -1.34127240e+00 -1.24957601e-01 -1.14301691e+00]\n",
      " [-1.31297673e+00 -1.39813811e+00  3.37848329e-01 -1.38535265e+00]\n",
      " [-1.31297673e+00 -1.28440670e+00  1.06445364e-01 -1.50652052e+00]\n",
      " [-1.31297673e+00 -1.34127240e+00  1.26346019e+00 -1.02184904e+00]\n",
      " [-1.05003079e+00 -1.17067529e+00  1.95766909e+00 -5.37177559e-01]\n",
      " [-1.18150376e+00 -1.34127240e+00  8.00654259e-01 -1.50652052e+00]\n",
      " [-1.31297673e+00 -1.28440670e+00  8.00654259e-01 -1.02184904e+00]\n",
      " [-1.31297673e+00 -1.34127240e+00 -3.56360566e-01 -1.74885626e+00]\n",
      " [-1.44444970e+00 -1.28440670e+00  1.06445364e-01 -1.14301691e+00]\n",
      " [-1.31297673e+00 -1.28440670e+00  1.49486315e+00 -5.37177559e-01]\n",
      " [-1.31297673e+00 -1.22754100e+00  8.00654259e-01 -1.26418478e+00]\n",
      " [-1.44444970e+00 -1.34127240e+00 -1.24957601e-01 -1.26418478e+00]\n",
      " [-1.44444970e+00 -1.51186952e+00 -1.24957601e-01 -1.87002413e+00]\n",
      " [-1.31297673e+00 -1.45500381e+00  2.18907205e+00 -5.25060772e-02]\n",
      " [-1.05003079e+00 -1.28440670e+00  3.11468391e+00 -1.73673948e-01]\n",
      " [-1.05003079e+00 -1.39813811e+00  1.95766909e+00 -5.37177559e-01]\n",
      " [-1.18150376e+00 -1.34127240e+00  1.03205722e+00 -9.00681170e-01]\n",
      " [-1.18150376e+00 -1.17067529e+00  1.72626612e+00 -1.73673948e-01]\n",
      " [-1.18150376e+00 -1.28440670e+00  1.72626612e+00 -9.00681170e-01]\n",
      " [-1.31297673e+00 -1.17067529e+00  8.00654259e-01 -5.37177559e-01]\n",
      " [-1.05003079e+00 -1.28440670e+00  1.49486315e+00 -9.00681170e-01]\n",
      " [-1.31297673e+00 -1.56873522e+00  1.26346019e+00 -1.50652052e+00]\n",
      " [-9.18557817e-01 -1.17067529e+00  5.69251294e-01 -9.00681170e-01]\n",
      " [-1.31297673e+00 -1.05694388e+00  8.00654259e-01 -1.26418478e+00]\n",
      " [-1.31297673e+00 -1.22754100e+00 -1.24957601e-01 -1.02184904e+00]\n",
      " [-1.05003079e+00 -1.22754100e+00  8.00654259e-01 -1.02184904e+00]\n",
      " [-1.31297673e+00 -1.28440670e+00  1.03205722e+00 -7.79513300e-01]\n",
      " [-1.31297673e+00 -1.34127240e+00  8.00654259e-01 -7.79513300e-01]\n",
      " [-1.31297673e+00 -1.22754100e+00  3.37848329e-01 -1.38535265e+00]\n",
      " [-1.31297673e+00 -1.22754100e+00  1.06445364e-01 -1.26418478e+00]\n",
      " [-1.05003079e+00 -1.28440670e+00  8.00654259e-01 -5.37177559e-01]\n",
      " [-1.44444970e+00 -1.28440670e+00  2.42047502e+00 -7.79513300e-01]\n",
      " [-1.31297673e+00 -1.34127240e+00  2.65187798e+00 -4.16009689e-01]\n",
      " [-1.44444970e+00 -1.28440670e+00  1.06445364e-01 -1.14301691e+00]\n",
      " [-1.31297673e+00 -1.45500381e+00  3.37848329e-01 -1.02184904e+00]\n",
      " [-1.31297673e+00 -1.39813811e+00  1.03205722e+00 -4.16009689e-01]\n",
      " [-1.44444970e+00 -1.28440670e+00  1.06445364e-01 -1.14301691e+00]\n",
      " [-1.31297673e+00 -1.39813811e+00 -1.24957601e-01 -1.74885626e+00]\n",
      " [-1.31297673e+00 -1.28440670e+00  8.00654259e-01 -9.00681170e-01]\n",
      " [-1.18150376e+00 -1.39813811e+00  1.03205722e+00 -1.02184904e+00]\n",
      " [-1.18150376e+00 -1.39813811e+00 -1.74477836e+00 -1.62768839e+00]\n",
      " [-1.31297673e+00 -1.39813811e+00  3.37848329e-01 -1.74885626e+00]\n",
      " [-7.87084847e-01 -1.22754100e+00  1.03205722e+00 -1.02184904e+00]\n",
      " [-1.05003079e+00 -1.05694388e+00  1.72626612e+00 -9.00681170e-01]\n",
      " [-1.18150376e+00 -1.34127240e+00 -1.24957601e-01 -1.26418478e+00]\n",
      " [-1.31297673e+00 -1.22754100e+00  1.72626612e+00 -9.00681170e-01]\n",
      " [-1.31297673e+00 -1.34127240e+00  3.37848329e-01 -1.50652052e+00]\n",
      " [-1.31297673e+00 -1.28440670e+00  1.49486315e+00 -6.58345429e-01]\n",
      " [-1.31297673e+00 -1.34127240e+00  5.69251294e-01 -1.02184904e+00]\n",
      " [ 2.64698913e-01  5.35295827e-01  3.37848329e-01  1.40150837e+00]\n",
      " [ 3.96171883e-01  4.21564419e-01  3.37848329e-01  6.74501145e-01]\n",
      " [ 3.96171883e-01  6.49027235e-01  1.06445364e-01  1.28034050e+00]\n",
      " [ 1.33225943e-01  1.37235899e-01 -1.74477836e+00 -4.16009689e-01]\n",
      " [ 3.96171883e-01  4.78430123e-01 -5.87763531e-01  7.95669016e-01]\n",
      " [ 1.33225943e-01  4.21564419e-01 -5.87763531e-01 -1.73673948e-01]\n",
      " [ 5.27644853e-01  5.35295827e-01  5.69251294e-01  5.53333275e-01]\n",
      " [-2.61192967e-01 -2.60824029e-01 -1.51337539e+00 -1.14301691e+00]\n",
      " [ 1.33225943e-01  4.78430123e-01 -3.56360566e-01  9.16836886e-01]\n",
      " [ 2.64698913e-01  8.03701950e-02 -8.19166497e-01 -7.79513300e-01]\n",
      " [-2.61192967e-01 -1.47092621e-01 -2.43898725e+00 -1.02184904e+00]\n",
      " [ 3.96171883e-01  2.50967307e-01 -1.24957601e-01  6.86617933e-02]\n",
      " [-2.61192967e-01  1.37235899e-01 -1.97618132e+00  1.89829664e-01]\n",
      " [ 2.64698913e-01  5.35295827e-01 -3.56360566e-01  3.10997534e-01]\n",
      " [ 1.33225943e-01 -9.02269170e-02 -3.56360566e-01 -2.94841818e-01]\n",
      " [ 2.64698913e-01  3.64698715e-01  1.06445364e-01  1.03800476e+00]\n",
      " [ 3.96171883e-01  4.21564419e-01 -1.24957601e-01 -2.94841818e-01]\n",
      " [-2.61192967e-01  1.94101603e-01 -8.19166497e-01 -5.25060772e-02]\n",
      " [ 3.96171883e-01  4.21564419e-01 -1.97618132e+00  4.32165405e-01]\n",
      " [-1.29719997e-01  8.03701950e-02 -1.28197243e+00 -2.94841818e-01]\n",
      " [ 7.90590793e-01  5.92161531e-01  3.37848329e-01  6.86617933e-02]\n",
      " [ 1.33225943e-01  1.37235899e-01 -5.87763531e-01  3.10997534e-01]\n",
      " [ 3.96171883e-01  6.49027235e-01 -1.28197243e+00  5.53333275e-01]\n",
      " [ 1.75297293e-03  5.35295827e-01 -5.87763531e-01  3.10997534e-01]\n",
      " [ 1.33225943e-01  3.07833011e-01 -3.56360566e-01  6.74501145e-01]\n",
      " [ 2.64698913e-01  3.64698715e-01 -1.24957601e-01  9.16836886e-01]\n",
      " [ 2.64698913e-01  5.92161531e-01 -5.87763531e-01  1.15917263e+00]\n",
      " [ 6.59117823e-01  7.05892939e-01 -1.24957601e-01  1.03800476e+00]\n",
      " [ 3.96171883e-01  4.21564419e-01 -3.56360566e-01  1.89829664e-01]\n",
      " [-2.61192967e-01 -1.47092621e-01 -1.05056946e+00 -1.73673948e-01]\n",
      " [-1.29719997e-01  2.35044910e-02 -1.51337539e+00 -4.16009689e-01]\n",
      " [-2.61192967e-01 -3.33612130e-02 -1.51337539e+00 -4.16009689e-01]\n",
      " [ 1.75297293e-03  8.03701950e-02 -8.19166497e-01 -5.25060772e-02]\n",
      " [ 5.27644853e-01  7.62758643e-01 -8.19166497e-01  1.89829664e-01]\n",
      " [ 3.96171883e-01  4.21564419e-01 -1.24957601e-01 -5.37177559e-01]\n",
      " [ 5.27644853e-01  4.21564419e-01  8.00654259e-01  1.89829664e-01]\n",
      " [ 3.96171883e-01  5.35295827e-01  1.06445364e-01  1.03800476e+00]\n",
      " [ 1.33225943e-01  3.64698715e-01 -1.74477836e+00  5.53333275e-01]\n",
      " [ 1.33225943e-01  1.94101603e-01 -1.24957601e-01 -2.94841818e-01]\n",
      " [ 1.33225943e-01  1.37235899e-01 -1.28197243e+00 -4.16009689e-01]\n",
      " [ 1.75297293e-03  3.64698715e-01 -1.05056946e+00 -4.16009689e-01]\n",
      " [ 2.64698913e-01  4.78430123e-01 -1.24957601e-01  3.10997534e-01]\n",
      " [ 1.75297293e-03  1.37235899e-01 -1.05056946e+00 -5.25060772e-02]\n",
      " [-2.61192967e-01 -2.60824029e-01 -1.74477836e+00 -1.02184904e+00]\n",
      " [ 1.33225943e-01  2.50967307e-01 -8.19166497e-01 -2.94841818e-01]\n",
      " [ 1.75297293e-03  2.50967307e-01 -1.24957601e-01 -1.73673948e-01]\n",
      " [ 1.33225943e-01  2.50967307e-01 -3.56360566e-01 -1.73673948e-01]\n",
      " [ 1.33225943e-01  3.07833011e-01 -3.56360566e-01  4.32165405e-01]\n",
      " [-1.29719997e-01 -4.31421141e-01 -1.28197243e+00 -9.00681170e-01]\n",
      " [ 1.33225943e-01  1.94101603e-01 -5.87763531e-01 -1.73673948e-01]\n",
      " [ 1.71090158e+00  1.27454998e+00  5.69251294e-01  5.53333275e-01]\n",
      " [ 9.22063763e-01  7.62758643e-01 -8.19166497e-01 -5.25060772e-02]\n",
      " [ 1.18500970e+00  1.21768427e+00 -1.24957601e-01  1.52267624e+00]\n",
      " [ 7.90590793e-01  1.04708716e+00 -3.56360566e-01  5.53333275e-01]\n",
      " [ 1.31648267e+00  1.16081857e+00 -1.24957601e-01  7.95669016e-01]\n",
      " [ 1.18500970e+00  1.61574420e+00 -1.24957601e-01  2.12851559e+00]\n",
      " [ 6.59117823e-01  4.21564419e-01 -1.28197243e+00 -1.14301691e+00]\n",
      " [ 7.90590793e-01  1.44514709e+00 -3.56360566e-01  1.76501198e+00]\n",
      " [ 7.90590793e-01  1.16081857e+00 -1.28197243e+00  1.03800476e+00]\n",
      " [ 1.71090158e+00  1.33141568e+00  1.26346019e+00  1.64384411e+00]\n",
      " [ 1.05353673e+00  7.62758643e-01  3.37848329e-01  7.95669016e-01]\n",
      " [ 9.22063763e-01  8.76490051e-01 -8.19166497e-01  6.74501145e-01]\n",
      " [ 1.18500970e+00  9.90221459e-01 -1.24957601e-01  1.15917263e+00]\n",
      " [ 1.05353673e+00  7.05892939e-01 -1.28197243e+00 -1.73673948e-01]\n",
      " [ 1.57942861e+00  7.62758643e-01 -5.87763531e-01 -5.25060772e-02]\n",
      " [ 1.44795564e+00  8.76490051e-01  3.37848329e-01  6.74501145e-01]\n",
      " [ 7.90590793e-01  9.90221459e-01 -1.24957601e-01  7.95669016e-01]\n",
      " [ 1.31648267e+00  1.67260991e+00  1.72626612e+00  2.24968346e+00]\n",
      " [ 1.44795564e+00  1.78634131e+00 -1.05056946e+00  2.24968346e+00]\n",
      " [ 3.96171883e-01  7.05892939e-01 -1.97618132e+00  1.89829664e-01]\n",
      " [ 1.44795564e+00  1.10395287e+00  3.37848329e-01  1.28034050e+00]\n",
      " [ 1.05353673e+00  6.49027235e-01 -5.87763531e-01 -2.94841818e-01]\n",
      " [ 1.05353673e+00  1.67260991e+00 -5.87763531e-01  2.24968346e+00]\n",
      " [ 7.90590793e-01  6.49027235e-01 -8.19166497e-01  5.53333275e-01]\n",
      " [ 1.18500970e+00  1.10395287e+00  5.69251294e-01  1.03800476e+00]\n",
      " [ 7.90590793e-01  1.27454998e+00  3.37848329e-01  1.64384411e+00]\n",
      " [ 7.90590793e-01  5.92161531e-01 -5.87763531e-01  4.32165405e-01]\n",
      " [ 7.90590793e-01  6.49027235e-01 -1.24957601e-01  3.10997534e-01]\n",
      " [ 1.18500970e+00  1.04708716e+00 -5.87763531e-01  6.74501145e-01]\n",
      " [ 5.27644853e-01  1.16081857e+00 -1.24957601e-01  1.64384411e+00]\n",
      " [ 9.22063763e-01  1.33141568e+00 -5.87763531e-01  1.88617985e+00]\n",
      " [ 1.05353673e+00  1.50201279e+00  1.72626612e+00  2.49201920e+00]\n",
      " [ 1.31648267e+00  1.04708716e+00 -5.87763531e-01  6.74501145e-01]\n",
      " [ 3.96171883e-01  7.62758643e-01 -5.87763531e-01  5.53333275e-01]\n",
      " [ 2.64698913e-01  1.04708716e+00 -1.05056946e+00  3.10997534e-01]\n",
      " [ 1.44795564e+00  1.33141568e+00 -1.24957601e-01  2.24968346e+00]\n",
      " [ 1.57942861e+00  1.04708716e+00  8.00654259e-01  5.53333275e-01]\n",
      " [ 7.90590793e-01  9.90221459e-01  1.06445364e-01  6.74501145e-01]\n",
      " [ 7.90590793e-01  5.92161531e-01 -1.24957601e-01  1.89829664e-01]\n",
      " [ 1.18500970e+00  9.33355755e-01  1.06445364e-01  1.28034050e+00]\n",
      " [ 1.57942861e+00  1.04708716e+00  1.06445364e-01  1.03800476e+00]\n",
      " [ 1.44795564e+00  7.62758643e-01  1.06445364e-01  1.28034050e+00]\n",
      " [ 9.22063763e-01  7.62758643e-01 -8.19166497e-01 -5.25060772e-02]\n",
      " [ 1.44795564e+00  1.21768427e+00  3.37848329e-01  1.15917263e+00]\n",
      " [ 1.71090158e+00  1.10395287e+00  5.69251294e-01  1.03800476e+00]\n",
      " [ 1.44795564e+00  8.19624347e-01 -1.24957601e-01  1.03800476e+00]\n",
      " [ 9.22063763e-01  7.05892939e-01 -1.28197243e+00  5.53333275e-01]\n",
      " [ 1.05353673e+00  8.19624347e-01 -1.24957601e-01  7.95669016e-01]\n",
      " [ 1.44795564e+00  9.33355755e-01  8.00654259e-01  4.32165405e-01]\n",
      " [ 7.90590793e-01  7.62758643e-01 -1.24957601e-01  6.86617933e-02]]\n"
     ]
    }
   ],
   "source": [
    "#sebelum dijadikan training dan test x di normalisasi\n",
    "normx = preprocessing.StandardScaler().fit(x).transform(x.astype(float))\n",
    "print(normx)"
   ]
  },
  {
   "cell_type": "markdown",
   "metadata": {},
   "source": [
    "Normalisasi data ini digunakan untuk meminimalkan redudansi data pada suatu data agar data tersebut dapat bekerja dengan optimal.\n"
   ]
  },
  {
   "cell_type": "markdown",
   "metadata": {},
   "source": [
    "#### Training set \n",
    "Training set adalah bagian dari dataset untuk membuat prediksi atau menjalankan fungsi dari sebuah algoritma Machine learning. \n",
    "#### Test set\n",
    "Test set adalah bagian dari dataset yang kita tes untuk melihat keakuratannya, atau dengan kata lain melihat performanya.\n"
   ]
  },
  {
   "cell_type": "code",
   "execution_count": 11,
   "metadata": {},
   "outputs": [
    {
     "name": "stdout",
     "output_type": "stream",
     "text": [
      "(120, 4) (120,)\n",
      "(30, 4) (30,)\n"
     ]
    }
   ],
   "source": [
    "#jadikan training dan test\n",
    "#disini menggunakan 80 : 20, dimana 80 untuk training dan sisanya 20 untuk test\n",
    "xtrain, xtest, ytrain, ytest = train_test_split(normx, y, test_size = 0.2, random_state = 4)\n",
    "print(xtrain.shape, ytrain.shape)\n",
    "print(xtest.shape, ytest.shape)\n",
    "#shape ini berfungsi untuk melihat dimensi data"
   ]
  },
  {
   "cell_type": "code",
   "execution_count": 12,
   "metadata": {},
   "outputs": [
    {
     "data": {
      "text/plain": [
       "SVC(C=1.0, cache_size=200, class_weight=None, coef0=0.0,\n",
       "  decision_function_shape='ovr', degree=3, gamma='auto', kernel='linear',\n",
       "  max_iter=-1, probability=False, random_state=None, shrinking=True,\n",
       "  tol=0.001, verbose=False)"
      ]
     },
     "execution_count": 12,
     "metadata": {},
     "output_type": "execute_result"
    }
   ],
   "source": [
    "#disini klasifikasi menggunakan SVM\n",
    "from sklearn import svm\n",
    "klasifikasi = svm.SVC(kernel='linear')\n",
    "klasifikasi.fit(xtrain,ytrain)"
   ]
  },
  {
   "cell_type": "markdown",
   "metadata": {},
   "source": [
    "Prediksi merupakan sebuah fungsi bagaimana sebuah proses nantinya akan menemukan pola tertentu dari suatu data. Pola-pola tersebut dapat diketahui dari berbagai variabel-variabel yang ada pada data. "
   ]
  },
  {
   "cell_type": "code",
   "execution_count": 13,
   "metadata": {},
   "outputs": [
    {
     "data": {
      "text/plain": [
       "array([2, 0, 2, 2, 2], dtype=int64)"
      ]
     },
     "execution_count": 13,
     "metadata": {},
     "output_type": "execute_result"
    }
   ],
   "source": [
    "#Proses prediksi klasifikasi \n",
    "ypredict = klasifikasi.predict(xtest)\n",
    "ypredict[0:5]"
   ]
  },
  {
   "cell_type": "markdown",
   "metadata": {},
   "source": [
    "### Confucion Matrix\n",
    "confusion matrix adalah suatu metode yang biasanya digunakan untuk melakukan perhitungan akurasi pada konsep data mining. confusion matrix juga sering disebut dengan error matrix. pada dasarnya confusin matrix memberikan informasi perbandingan hasil klasifikasi yang dilakukan oleh sistem dengan hasil klasifikasi sebenarnya."
   ]
  },
  {
   "cell_type": "code",
   "execution_count": 14,
   "metadata": {},
   "outputs": [],
   "source": [
    "#membuat confusion matrix \n",
    "import itertools\n",
    "def plot_confusion_matrix(cm, classes,\n",
    "                          normalize=False,\n",
    "                          title='Confusion matrix',\n",
    "                          cmap=plt.cm.Blues):\n",
    "    \"\"\"\n",
    "    This function prints and plots the confusion matrix.\n",
    "    Normalization can be applied by setting `normalize=True`.\n",
    "    \"\"\"\n",
    "    if normalize:\n",
    "        cm = cm.astype('float') / cm.sum(axis=1)[:, np.newaxis]\n",
    "        print(\"Normalized confusion matrix\")\n",
    "    else:\n",
    "        print('Confusion matrix, without normalization')\n",
    "\n",
    "    print(cm)\n",
    "\n",
    "    plt.imshow(cm, interpolation='nearest', cmap=cmap)\n",
    "    plt.title(title)\n",
    "    plt.colorbar()\n",
    "    tick_marks = np.arange(len(classes))\n",
    "    plt.xticks(tick_marks, classes, rotation=45)\n",
    "    plt.yticks(tick_marks, classes)\n",
    "\n",
    "    fmt = '.2f' if normalize else 'd'\n",
    "    thresh = cm.max() / 2.\n",
    "    for i, j in itertools.product(range(cm.shape[0]), range(cm.shape[1])):\n",
    "        plt.text(j, i, format(cm[i, j], fmt),\n",
    "                 horizontalalignment=\"center\",\n",
    "                 color=\"white\" if cm[i, j] > thresh else \"black\")\n",
    "        plt.tight_layout()\n",
    "        plt.ylabel('True label')\n",
    "        plt.xlabel('Predicted label')"
   ]
  },
  {
   "cell_type": "code",
   "execution_count": 15,
   "metadata": {},
   "outputs": [
    {
     "name": "stdout",
     "output_type": "stream",
     "text": [
      "             precision    recall  f1-score   support\n",
      "\n",
      "          0       1.00      1.00      1.00        16\n",
      "          1       0.75      0.60      0.67         5\n",
      "          2       0.80      0.89      0.84         9\n",
      "\n",
      "avg / total       0.90      0.90      0.90        30\n",
      "\n",
      "Confusion matrix, without normalization\n",
      "[[16  0]\n",
      " [ 0  3]]\n"
     ]
    },
    {
     "data": {
      "image/png": "[encoded data removed]",
      "text/plain": [
       "<matplotlib.figure.Figure at 0x208a8552f98>"
      ]
     },
     "metadata": {},
     "output_type": "display_data"
    }
   ],
   "source": [
    "from sklearn.metrics import confusion_matrix\n",
    "from sklearn.metrics import classification_report\n",
    "cnf_matrix = confusion_matrix(ytest, ypredict, labels=[0,1])\n",
    "np.set_printoptions(precision=2)\n",
    "\n",
    "print (classification_report(ytest, ypredict))\n",
    "\n",
    "# Plot non-normalized confusion matrix\n",
    "plt.figure()\n",
    "plot_confusion_matrix(cnf_matrix, classes=['Iris-setosa','Iris-virginica'],normalize= False,  title='Confusion matrix')"
   ]
  },
  {
   "cell_type": "code",
   "execution_count": 16,
   "metadata": {},
   "outputs": [
    {
     "data": {
      "text/plain": [
       "0.8970760233918128"
      ]
     },
     "execution_count": 16,
     "metadata": {},
     "output_type": "execute_result"
    }
   ],
   "source": [
    "from sklearn.metrics import f1_score\n",
    "f1_score(ytest, ypredict, average='weighted')\n",
    "#f1 skor untuk melihat hasil akurasi klasifikasi"
   ]
  },
  {
   "cell_type": "code",
   "execution_count": 17,
   "metadata": {},
   "outputs": [
    {
     "data": {
      "text/plain": [
       "0.9"
      ]
     },
     "execution_count": 17,
     "metadata": {},
     "output_type": "execute_result"
    }
   ],
   "source": [
    "from sklearn.metrics import jaccard_similarity_score\n",
    "jaccard_similarity_score(ytest, ypredict)\n",
    "#dan ini untuk melihat skor kemiripan"
   ]
  }
 ],
 "metadata": {
  "kernelspec": {
   "display_name": "Python 3",
   "language": "python",
   "name": "python3"
  },
  "language_info": {
   "codemirror_mode": {
    "name": "ipython",
    "version": 3
   },
   "file_extension": ".py",
   "mimetype": "text/x-python",
   "name": "python",
   "nbconvert_exporter": "python",
   "pygments_lexer": "ipython3",
   "version": "3.6.4"
  }
 },
 "nbformat": 4,
 "nbformat_minor": 2
}
