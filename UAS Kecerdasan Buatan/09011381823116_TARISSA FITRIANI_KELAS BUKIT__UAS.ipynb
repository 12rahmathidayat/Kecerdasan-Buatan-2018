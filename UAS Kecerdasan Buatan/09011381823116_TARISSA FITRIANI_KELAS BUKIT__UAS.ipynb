{
 "cells": [
  {
   "cell_type": "markdown",
   "metadata": {},
   "source": [
    "Nama : Tarissa fitriani\n",
    "\n",
    "Nim : 09011381823116\n",
    "\n",
    "Kelas : SK5 Bukit\n",
    "\n",
    "Klasifikasi Social Network Ads (SVM)"
   ]
  },
  {
   "cell_type": "markdown",
   "metadata": {},
   "source": [
    "# Support Vector Machine"
   ]
  },
  {
   "cell_type": "markdown",
   "metadata": {},
   "source": [
    "# Mengimpor Pustaka\n",
    "Seperti biasa, langkah pertama akan selalu mencakup mengimpor perpustakaan yang merupakan NumPy, Pandas dan Matplotlib."
   ]
  },
  {
   "cell_type": "code",
   "execution_count": 1,
   "metadata": {},
   "outputs": [],
   "source": [
    "import numpy as np\n",
    "import matplotlib.pyplot as plt\n",
    "import pandas as pd"
   ]
  },
  {
   "cell_type": "markdown",
   "metadata": {},
   "source": [
    "# Mengimpor dataset\n",
    "Pada langkah ini, kita akan mendapatkan dataset dari repositari github saya yang disimpan sebagai SocialNetworkAds.csv dan menyimpannya ke dataset variabel . Kemudian kita akan menetapkan variabel terkait ke X dan Y. Akhirnya, kita akan melihat 5 baris pertama dari dataset kita ."
   ]
  },
  {
   "cell_type": "code",
   "execution_count": 2,
   "metadata": {},
   "outputs": [
    {
     "data": {
      "text/html": [
       "<div>\n",
       "<style scoped>\n",
       "    .dataframe tbody tr th:only-of-type {\n",
       "        vertical-align: middle;\n",
       "    }\n",
       "\n",
       "    .dataframe tbody tr th {\n",
       "        vertical-align: top;\n",
       "    }\n",
       "\n",
       "    .dataframe thead th {\n",
       "        text-align: right;\n",
       "    }\n",
       "</style>\n",
       "<table border=\"1\" class=\"dataframe\">\n",
       "  <thead>\n",
       "    <tr style=\"text-align: right;\">\n",
       "      <th></th>\n",
       "      <th>Age</th>\n",
       "      <th>EstimatedSalary</th>\n",
       "      <th>Purchased</th>\n",
       "    </tr>\n",
       "  </thead>\n",
       "  <tbody>\n",
       "    <tr>\n",
       "      <th>0</th>\n",
       "      <td>19</td>\n",
       "      <td>19000</td>\n",
       "      <td>0</td>\n",
       "    </tr>\n",
       "    <tr>\n",
       "      <th>1</th>\n",
       "      <td>35</td>\n",
       "      <td>20000</td>\n",
       "      <td>0</td>\n",
       "    </tr>\n",
       "    <tr>\n",
       "      <th>2</th>\n",
       "      <td>26</td>\n",
       "      <td>43000</td>\n",
       "      <td>0</td>\n",
       "    </tr>\n",
       "    <tr>\n",
       "      <th>3</th>\n",
       "      <td>27</td>\n",
       "      <td>57000</td>\n",
       "      <td>0</td>\n",
       "    </tr>\n",
       "    <tr>\n",
       "      <th>4</th>\n",
       "      <td>19</td>\n",
       "      <td>76000</td>\n",
       "      <td>0</td>\n",
       "    </tr>\n",
       "  </tbody>\n",
       "</table>\n",
       "</div>"
      ],
      "text/plain": [
       "   Age  EstimatedSalary  Purchased\n",
       "0   19            19000          0\n",
       "1   35            20000          0\n",
       "2   26            43000          0\n",
       "3   27            57000          0\n",
       "4   19            76000          0"
      ]
     },
     "execution_count": 2,
     "metadata": {},
     "output_type": "execute_result"
    }
   ],
   "source": [
    "dataset = pd.read_csv('SocialNetworkAds.csv')\n",
    "X = dataset.iloc[:, [0, 1]].values\n",
    "y = dataset.iloc[:, 2].values\n",
    "dataset.head(5)"
   ]
  },
  {
   "cell_type": "markdown",
   "metadata": {},
   "source": [
    "# Memisahkan set data menjadi set Pelatihan dan set Pengujian\n",
    "Ada 400 baris dalam dataset ini. Kami akan membagi data menjadi set pelatihan dan pengujian. Dalam hal ini test_size=0.25 menunjukkan bahwa 25% dari data akan disimpan sebagai set Tes dan 75 % sisanya akan digunakan untuk pelatihan sebagai set Pelatihan . Jadi, ada sekitar 100 titik data dalam set pengujian."
   ]
  },
  {
   "cell_type": "code",
   "execution_count": 3,
   "metadata": {},
   "outputs": [],
   "source": [
    "from sklearn.model_selection import train_test_split\n",
    "X_train, X_test, y_train, y_test = train_test_split(X, y, test_size = 0.25)"
   ]
  },
  {
   "cell_type": "markdown",
   "metadata": {},
   "source": [
    "# Penskalaan Fitur\n",
    "Langkah penskalaan fitur ini merupakan langkah tambahan yang dapat meningkatkan kecepatan program saat kami menurunkan nilai X ke kisaran yang lebih kecil. Dalam hal ini, kami menurunkan X_train dan X_test ke kisaran kecil -1 hingga +1. Misalnya, gaji 75000 diperkecil menjadi 0,16418997."
   ]
  },
  {
   "cell_type": "code",
   "execution_count": 4,
   "metadata": {},
   "outputs": [],
   "source": [
    "from sklearn.preprocessing import StandardScaler\n",
    "sc = StandardScaler()\n",
    "X_train = sc.fit_transform(X_train)\n",
    "X_test = sc.transform(X_test)"
   ]
  },
  {
   "cell_type": "markdown",
   "metadata": {},
   "source": [
    "# Melatih model Klasifikasi SVM di Set Pelatihan\n",
    "Setelah tes pelatihan siap, kita dapat mengimpor Kelas Klasifikasi SVM dan menyesuaikan set pelatihan ke model kita. Kelas SVC ditetapkan ke pengklasifikasi variabel. Kernel yang digunakan disini adalah kernel “rbf” yang merupakan singkatan dari Radial Basis Function. Ada beberapa kernel lain seperti kernel linear dan Gaussian yang juga dapat diimplementasikan. Fungsi classifier.fit () kemudian digunakan untuk melatih model."
   ]
  },
  {
   "cell_type": "code",
   "execution_count": 5,
   "metadata": {},
   "outputs": [
    {
     "data": {
      "text/plain": [
       "SVC(random_state=0)"
      ]
     },
     "execution_count": 5,
     "metadata": {},
     "output_type": "execute_result"
    }
   ],
   "source": [
    "from sklearn.svm import SVC\n",
    "classifier = SVC(kernel = 'rbf', random_state = 0)\n",
    "classifier.fit(X_train, y_train)"
   ]
  },
  {
   "cell_type": "markdown",
   "metadata": {},
   "source": [
    "# Memprediksi hasil set Tes\n",
    "Dalam langkah ini, fungsi classifier.predict () digunakan untuk memprediksi nilai set Test dan nilai disimpan ke variabel y_pred."
   ]
  },
  {
   "cell_type": "code",
   "execution_count": 6,
   "metadata": {},
   "outputs": [
    {
     "data": {
      "text/plain": [
       "array([0, 0, 0, 0, 1, 1, 1, 1, 1, 0, 0, 1, 0, 0, 0, 0, 0, 1, 0, 1, 1, 0,\n",
       "       1, 0, 0, 0, 1, 0, 1, 0, 1, 0, 0, 1, 0, 1, 0, 0, 0, 1, 0, 0, 0, 1,\n",
       "       0, 1, 0, 1, 0, 1, 0, 0, 1, 1, 0, 0, 1, 0, 1, 1, 1, 1, 1, 0, 0, 1,\n",
       "       0, 0, 0, 0, 0, 0, 1, 0, 0, 0, 1, 1, 0, 0, 0, 0, 0, 0, 0, 0, 1, 0,\n",
       "       0, 1, 0, 0, 1, 0, 0, 0, 0, 0, 0, 0], dtype=int64)"
      ]
     },
     "execution_count": 6,
     "metadata": {},
     "output_type": "execute_result"
    }
   ],
   "source": [
    "y_pred = classifier.predict(X_test) \n",
    "y_pred"
   ]
  },
  {
   "attachments": {
    "image.png": {
     "image/png": "[encoded data removed]"
    }
   },
   "cell_type": "markdown",
   "metadata": {},
   "source": [
    "# Confusion Matrix and Accuracy\n",
    "Ini adalah langkah yang banyak digunakan dalam teknik klasifikasi. Dalam hal ini, kita melihat Akurasi model yang dilatih dan memetakan matriks konfusi.\n",
    "Matriks konfusi adalah tabel yang digunakan untuk menunjukkan jumlah prediksi yang benar dan yang salah pada masalah klasifikasi ketika nilai sebenarnya dari Test Set diketahui. Ini adalah formatnya\n",
    "![image.png](attachment:image.png)\n",
    "Nilai True adalah jumlah prediksi benar yang dibuat."
   ]
  },
  {
   "cell_type": "code",
   "execution_count": 7,
   "metadata": {},
   "outputs": [
    {
     "name": "stdout",
     "output_type": "stream",
     "text": [
      "Accuracy :  0.94\n"
     ]
    },
    {
     "data": {
      "text/plain": [
       "array([[60,  1],\n",
       "       [ 5, 34]], dtype=int64)"
      ]
     },
     "execution_count": 7,
     "metadata": {},
     "output_type": "execute_result"
    }
   ],
   "source": [
    "from sklearn.metrics import confusion_matrix\n",
    "cm = confusion_matrix(y_test, y_pred)\n",
    "from sklearn.metrics import accuracy_score \n",
    "print (\"Accuracy : \", accuracy_score(y_test, y_pred))\n",
    "cm"
   ]
  },
  {
   "cell_type": "markdown",
   "metadata": {},
   "source": [
    "Dari confusion matriks di atas, kami menyimpulkan bahwa, dari 100 data set pengujian, 94 diklasifikasikan dengan benar dan 6 diklasifikasikan salah, sehingga akurasi 94%."
   ]
  },
  {
   "cell_type": "markdown",
   "metadata": {},
   "source": [
    "# Memvisualisasikan Hasil\n",
    "Pada langkah terakhir ini, kami memvisualisasikan hasil model Klasifikasi SVM pada grafik yang diplot bersama dengan dua wilayah."
   ]
  },
  {
   "cell_type": "code",
   "execution_count": 8,
   "metadata": {},
   "outputs": [
    {
     "name": "stderr",
     "output_type": "stream",
     "text": [
      "*c* argument looks like a single numeric RGB or RGBA sequence, which should be avoided as value-mapping will have precedence in case its length matches with *x* & *y*.  Please use the *color* keyword-argument or provide a 2-D array with a single row if you intend to specify the same RGB or RGBA value for all points.\n",
      "*c* argument looks like a single numeric RGB or RGBA sequence, which should be avoided as value-mapping will have precedence in case its length matches with *x* & *y*.  Please use the *color* keyword-argument or provide a 2-D array with a single row if you intend to specify the same RGB or RGBA value for all points.\n"
     ]
    },
    {
     "data": {
      "image/png": "[encoded data removed]",
      "text/plain": [
       "<Figure size 432x288 with 1 Axes>"
      ]
     },
     "metadata": {
      "needs_background": "light"
     },
     "output_type": "display_data"
    }
   ],
   "source": [
    "#Visualizing the Training Set results\n",
    "import matplotlib.pyplot as plt\n",
    "from matplotlib.colors import ListedColormap\n",
    "\n",
    "X_set, y_set = X_train, y_train\n",
    "X1, X2 = np.meshgrid(np.arange(start = X_set[:, 0].min() - 1, stop = X_set[:, 0].max() + 1,\n",
    "                              step = 0.01),\n",
    "                    np.arange(start = X_set[:, 1].min() - 1, stop = X_set[:, 1].max() + 1,\n",
    "                              step = 0.01))\n",
    "plt.contourf(X1,X2,classifier.predict(\n",
    "    np.array([X1.ravel(), X2.ravel()]).T).reshape(X1.shape), alpha=0.75,\n",
    "    cmap=ListedColormap(('red','green')))\n",
    "plt.xlim(X1.min(), X1.max())\n",
    "plt.ylim(X2.min(), X2.max())\n",
    "for i, j in enumerate(np.unique(y_set)):\n",
    "    plt.scatter(X_set[y_set == j, 0], X_set[y_set == j, 1],\n",
    "               c=ListedColormap(('red','green'))(i),label=j)\n",
    "plt.title(\"SVM - Training Set\")\n",
    "plt.xlabel(\"Age\")\n",
    "plt.ylabel(\"Est. Salary\")\n",
    "plt.legend()\n",
    "plt.show()"
   ]
  },
  {
   "cell_type": "code",
   "execution_count": 9,
   "metadata": {},
   "outputs": [
    {
     "name": "stderr",
     "output_type": "stream",
     "text": [
      "*c* argument looks like a single numeric RGB or RGBA sequence, which should be avoided as value-mapping will have precedence in case its length matches with *x* & *y*.  Please use the *color* keyword-argument or provide a 2-D array with a single row if you intend to specify the same RGB or RGBA value for all points.\n",
      "*c* argument looks like a single numeric RGB or RGBA sequence, which should be avoided as value-mapping will have precedence in case its length matches with *x* & *y*.  Please use the *color* keyword-argument or provide a 2-D array with a single row if you intend to specify the same RGB or RGBA value for all points.\n"
     ]
    },
    {
     "data": {
      "image/png": "[encoded data removed]",
      "text/plain": [
       "<Figure size 432x288 with 1 Axes>"
      ]
     },
     "metadata": {
      "needs_background": "light"
     },
     "output_type": "display_data"
    }
   ],
   "source": [
    "from matplotlib.colors import ListedColormap\n",
    "X_set, y_set = X_test, y_test\n",
    "X1, X2 = np.meshgrid(np.arange(start = X_set[:, 0].min() - 1, stop = X_set[:, 0].max() + 1,\n",
    "                              step = 0.01),\n",
    "                    np.arange(start = X_set[:, 1].min() - 1, stop = X_set[:, 1].max() + 1,\n",
    "                              step = 0.01))\n",
    "plt.contourf(X1,X2,classifier.predict(\n",
    "    np.array([X1.ravel(), X2.ravel()]).T).reshape(X1.shape), alpha=0.75,\n",
    "    cmap=ListedColormap(('red','green')))\n",
    "plt.xlim(X1.min(), X1.max())\n",
    "plt.ylim(X2.min(), X2.max())\n",
    "for i, j in enumerate(np.unique(y_set)):\n",
    "    plt.scatter(X_set[y_set == j, 0], X_set[y_set == j, 1],\n",
    "               c=ListedColormap(('red','green'))(i),label=j)\n",
    "plt.title(\"SVM - Test Set\")\n",
    "plt.xlabel(\"Age\")\n",
    "plt.ylabel(\"Est. Salary\")\n",
    "plt.legend()\n",
    "plt.show()"
   ]
  },
  {
   "cell_type": "markdown",
   "metadata": {},
   "source": [
    "Di plot ini, Ada dua wilayah. Wilayah Merah menunjukkan 0, yang terdiri atas orang yang belum membeli produk dan wilayah Hijau menunjukkan 1, yang terdiri dari orang-orang yang telah membeli produk. Karena kita telah memilih kernel non-linier (rbf), kita mendapatkan daerah yang tidak dipisahkan oleh garis linier.\n",
    "Jika Anda perhatikan dengan seksama, kita dapat melihat 5 titik data yang salah diklasifikasikan di set pengujian dengan perbedaan warna di wilayah tertentu."
   ]
  },
  {
   "cell_type": "markdown",
   "metadata": {},
   "source": [
    "sumber : \n",
    "https://towardsdatascience.com/machine-learning-basics-support-vector-machine-svm-classification-205ecd28a09d\n",
    "https://github.com/mesushan/Support-Vector-Machine-Social-Network-Ads/blob/master/kernel_svm.py"
   ]
  },
  {
   "cell_type": "code",
   "execution_count": null,
   "metadata": {},
   "outputs": [],
   "source": []
  }
 ],
 "metadata": {
  "kernelspec": {
   "display_name": "Python 3",
   "language": "python",
   "name": "python3"
  },
  "language_info": {
   "codemirror_mode": {
    "name": "ipython",
    "version": 3
   },
   "file_extension": ".py",
   "mimetype": "text/x-python",
   "name": "python",
   "nbconvert_exporter": "python",
   "pygments_lexer": "ipython3",
   "version": "3.8.3"
  }
 },
 "nbformat": 4,
 "nbformat_minor": 4
}
