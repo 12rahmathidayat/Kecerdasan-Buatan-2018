{
 "cells": [
  {
   "cell_type": "markdown",
   "metadata": {},
   "source": [
    "# Daffa Bima Perdana\n",
    "# 09011281823057\n",
    "# SK5B Indralaya\n",
    "\n",
    "Sumber = https://www.kaggle.com/ozdemirh/diabetes-prediction-with-artificial-neural-network"
   ]
  },
  {
   "cell_type": "markdown",
   "metadata": {
    "papermill": {
     "duration": 0.051044,
     "end_time": "2020-10-08T15:11:10.035956",
     "exception": false,
     "start_time": "2020-10-08T15:11:09.984912",
     "status": "completed"
    },
    "tags": []
   },
   "source": [
    "MLP (Multi Layer Perceptron) Classifier adalah implementasi jaringan saraf buatan feedforward dari perpustakaan Scikit-Learn.\n",
    "\n",
    "MLPClassifier digunakan untuk memprediksi apakah pasien menderita diabetes berdasarkan serangkaian diagnostik.\n",
    "\n",
    "Kerangka pekerjaan adalah sebagai berikut:\n",
    "\n",
    "* Load Data\n",
    "* Split Data\n",
    "* Visualization and Outlier Check\n",
    "* Standardization\n",
    "* Correlation Analysis\n",
    "* Feature Importance\n",
    "* Train MLP\n",
    "* Test MLP"
   ]
  },
  {
   "cell_type": "code",
   "execution_count": 1,
   "metadata": {
    "_cell_guid": "b1076dfc-b9ad-4769-8c92-a6c4dae69d19",
    "_uuid": "8f2839f25d086af736a60e9eeb907d3b93b6e0e5",
    "execution": {
     "iopub.execute_input": "2020-10-08T15:11:10.135250Z",
     "iopub.status.busy": "2020-10-08T15:11:10.134269Z",
     "iopub.status.idle": "2020-10-08T15:11:12.709263Z",
     "shell.execute_reply": "2020-10-08T15:11:12.708370Z"
    },
    "papermill": {
     "duration": 2.626857,
     "end_time": "2020-10-08T15:11:12.709401",
     "exception": false,
     "start_time": "2020-10-08T15:11:10.082544",
     "status": "completed"
    },
    "tags": []
   },
   "outputs": [],
   "source": [
    "import numpy as np\n",
    "import itertools\n",
    "import os\n",
    "import pandas as pd\n",
    "import seaborn as sea\n",
    "\n",
    "from sklearn.preprocessing import StandardScaler\n",
    "from sklearn.model_selection import train_test_split\n",
    "from sklearn.linear_model import LogisticRegression\n",
    "from sklearn.metrics import classification_report\n",
    "from sklearn.neural_network import MLPClassifier\n",
    "from sklearn.feature_selection import RFE\n",
    "\n",
    "import xgboost as xgb\n",
    "from xgboost import plot_importance\n",
    "\n",
    "import matplotlib.pyplot as plt\n",
    "import matplotlib.gridspec as gridspec"
   ]
  },
  {
   "cell_type": "code",
   "execution_count": 2,
   "metadata": {
    "execution": {
     "iopub.execute_input": "2020-10-08T15:11:12.798526Z",
     "iopub.status.busy": "2020-10-08T15:11:12.797745Z",
     "iopub.status.idle": "2020-10-08T15:11:12.801663Z",
     "shell.execute_reply": "2020-10-08T15:11:12.801040Z"
    },
    "papermill": {
     "duration": 0.049957,
     "end_time": "2020-10-08T15:11:12.801798",
     "exception": false,
     "start_time": "2020-10-08T15:11:12.751841",
     "status": "completed"
    },
    "tags": []
   },
   "outputs": [],
   "source": [
    "sea.set_style(\"darkgrid\")"
   ]
  },
  {
   "cell_type": "markdown",
   "metadata": {
    "papermill": {
     "duration": 0.04809,
     "end_time": "2020-10-08T15:11:12.891513",
     "exception": false,
     "start_time": "2020-10-08T15:11:12.843423",
     "status": "completed"
    },
    "tags": []
   },
   "source": [
    "## Load Data\n",
    "\n",
    "\n",
    "Datased Pima Indians Diabetes yang digunakan."
   ]
  },
  {
   "cell_type": "code",
   "execution_count": 3,
   "metadata": {
    "execution": {
     "iopub.execute_input": "2020-10-08T15:11:12.995079Z",
     "iopub.status.busy": "2020-10-08T15:11:12.994173Z",
     "iopub.status.idle": "2020-10-08T15:11:13.279140Z",
     "shell.execute_reply": "2020-10-08T15:11:13.279790Z"
    },
    "papermill": {
     "duration": 0.342674,
     "end_time": "2020-10-08T15:11:13.279961",
     "exception": false,
     "start_time": "2020-10-08T15:11:12.937287",
     "status": "completed"
    },
    "tags": []
   },
   "outputs": [
    {
     "data": {
      "text/html": [
       "<style  type=\"text/css\" >\n",
       "    #T_f4183834_1789_11eb_8153_ccf9e4965fc2 th {\n",
       "          font-weight: bold;\n",
       "          font-size: 12px;\n",
       "          text-align: center;\n",
       "    }    #T_f4183834_1789_11eb_8153_ccf9e4965fc2 tr:nth-child(even) {\n",
       "          background-color: #f2f2f2;\n",
       "    }    #T_f4183834_1789_11eb_8153_ccf9e4965fc2 tr:nth-child(odd) {\n",
       "          background-color: #fdfdfd;\n",
       "    }    #T_f4183834_1789_11eb_8153_ccf9e4965fc2 tr:hover {\n",
       "          background-color: #bcbcbc;\n",
       "    }    #T_f4183834_1789_11eb_8153_ccf9e4965fc2row0_col0 {\n",
       "            min-width:  60px;\n",
       "            color:  #111111;\n",
       "            text-align:  center;\n",
       "        }    #T_f4183834_1789_11eb_8153_ccf9e4965fc2row0_col1 {\n",
       "            min-width:  60px;\n",
       "            color:  #111111;\n",
       "            text-align:  center;\n",
       "        }    #T_f4183834_1789_11eb_8153_ccf9e4965fc2row0_col2 {\n",
       "            min-width:  60px;\n",
       "            color:  #111111;\n",
       "            text-align:  center;\n",
       "        }    #T_f4183834_1789_11eb_8153_ccf9e4965fc2row0_col3 {\n",
       "            min-width:  60px;\n",
       "            color:  #111111;\n",
       "            text-align:  center;\n",
       "        }    #T_f4183834_1789_11eb_8153_ccf9e4965fc2row0_col4 {\n",
       "            min-width:  60px;\n",
       "            color:  #111111;\n",
       "            text-align:  center;\n",
       "        }    #T_f4183834_1789_11eb_8153_ccf9e4965fc2row0_col5 {\n",
       "            min-width:  60px;\n",
       "            color:  #111111;\n",
       "            text-align:  center;\n",
       "        }    #T_f4183834_1789_11eb_8153_ccf9e4965fc2row0_col6 {\n",
       "            min-width:  60px;\n",
       "            color:  #111111;\n",
       "            text-align:  center;\n",
       "        }    #T_f4183834_1789_11eb_8153_ccf9e4965fc2row0_col7 {\n",
       "            min-width:  60px;\n",
       "            color:  #111111;\n",
       "            text-align:  center;\n",
       "        }    #T_f4183834_1789_11eb_8153_ccf9e4965fc2row0_col8 {\n",
       "            min-width:  60px;\n",
       "            color:  #111111;\n",
       "            text-align:  center;\n",
       "        }    #T_f4183834_1789_11eb_8153_ccf9e4965fc2row1_col0 {\n",
       "            min-width:  60px;\n",
       "            color:  #111111;\n",
       "            text-align:  center;\n",
       "        }    #T_f4183834_1789_11eb_8153_ccf9e4965fc2row1_col1 {\n",
       "            min-width:  60px;\n",
       "            color:  #111111;\n",
       "            text-align:  center;\n",
       "        }    #T_f4183834_1789_11eb_8153_ccf9e4965fc2row1_col2 {\n",
       "            min-width:  60px;\n",
       "            color:  #111111;\n",
       "            text-align:  center;\n",
       "        }    #T_f4183834_1789_11eb_8153_ccf9e4965fc2row1_col3 {\n",
       "            min-width:  60px;\n",
       "            color:  #111111;\n",
       "            text-align:  center;\n",
       "        }    #T_f4183834_1789_11eb_8153_ccf9e4965fc2row1_col4 {\n",
       "            min-width:  60px;\n",
       "            color:  #111111;\n",
       "            text-align:  center;\n",
       "        }    #T_f4183834_1789_11eb_8153_ccf9e4965fc2row1_col5 {\n",
       "            min-width:  60px;\n",
       "            color:  #111111;\n",
       "            text-align:  center;\n",
       "        }    #T_f4183834_1789_11eb_8153_ccf9e4965fc2row1_col6 {\n",
       "            min-width:  60px;\n",
       "            color:  #111111;\n",
       "            text-align:  center;\n",
       "        }    #T_f4183834_1789_11eb_8153_ccf9e4965fc2row1_col7 {\n",
       "            min-width:  60px;\n",
       "            color:  #111111;\n",
       "            text-align:  center;\n",
       "        }    #T_f4183834_1789_11eb_8153_ccf9e4965fc2row1_col8 {\n",
       "            min-width:  60px;\n",
       "            color:  #111111;\n",
       "            text-align:  center;\n",
       "        }    #T_f4183834_1789_11eb_8153_ccf9e4965fc2row2_col0 {\n",
       "            min-width:  60px;\n",
       "            color:  #111111;\n",
       "            text-align:  center;\n",
       "        }    #T_f4183834_1789_11eb_8153_ccf9e4965fc2row2_col1 {\n",
       "            min-width:  60px;\n",
       "            color:  #111111;\n",
       "            text-align:  center;\n",
       "        }    #T_f4183834_1789_11eb_8153_ccf9e4965fc2row2_col2 {\n",
       "            min-width:  60px;\n",
       "            color:  #111111;\n",
       "            text-align:  center;\n",
       "        }    #T_f4183834_1789_11eb_8153_ccf9e4965fc2row2_col3 {\n",
       "            min-width:  60px;\n",
       "            color:  #111111;\n",
       "            text-align:  center;\n",
       "        }    #T_f4183834_1789_11eb_8153_ccf9e4965fc2row2_col4 {\n",
       "            min-width:  60px;\n",
       "            color:  #111111;\n",
       "            text-align:  center;\n",
       "        }    #T_f4183834_1789_11eb_8153_ccf9e4965fc2row2_col5 {\n",
       "            min-width:  60px;\n",
       "            color:  #111111;\n",
       "            text-align:  center;\n",
       "        }    #T_f4183834_1789_11eb_8153_ccf9e4965fc2row2_col6 {\n",
       "            min-width:  60px;\n",
       "            color:  #111111;\n",
       "            text-align:  center;\n",
       "        }    #T_f4183834_1789_11eb_8153_ccf9e4965fc2row2_col7 {\n",
       "            min-width:  60px;\n",
       "            color:  #111111;\n",
       "            text-align:  center;\n",
       "        }    #T_f4183834_1789_11eb_8153_ccf9e4965fc2row2_col8 {\n",
       "            min-width:  60px;\n",
       "            color:  #111111;\n",
       "            text-align:  center;\n",
       "        }    #T_f4183834_1789_11eb_8153_ccf9e4965fc2row3_col0 {\n",
       "            min-width:  60px;\n",
       "            color:  #111111;\n",
       "            text-align:  center;\n",
       "        }    #T_f4183834_1789_11eb_8153_ccf9e4965fc2row3_col1 {\n",
       "            min-width:  60px;\n",
       "            color:  #111111;\n",
       "            text-align:  center;\n",
       "        }    #T_f4183834_1789_11eb_8153_ccf9e4965fc2row3_col2 {\n",
       "            min-width:  60px;\n",
       "            color:  #111111;\n",
       "            text-align:  center;\n",
       "        }    #T_f4183834_1789_11eb_8153_ccf9e4965fc2row3_col3 {\n",
       "            min-width:  60px;\n",
       "            color:  #111111;\n",
       "            text-align:  center;\n",
       "        }    #T_f4183834_1789_11eb_8153_ccf9e4965fc2row3_col4 {\n",
       "            min-width:  60px;\n",
       "            color:  #111111;\n",
       "            text-align:  center;\n",
       "        }    #T_f4183834_1789_11eb_8153_ccf9e4965fc2row3_col5 {\n",
       "            min-width:  60px;\n",
       "            color:  #111111;\n",
       "            text-align:  center;\n",
       "        }    #T_f4183834_1789_11eb_8153_ccf9e4965fc2row3_col6 {\n",
       "            min-width:  60px;\n",
       "            color:  #111111;\n",
       "            text-align:  center;\n",
       "        }    #T_f4183834_1789_11eb_8153_ccf9e4965fc2row3_col7 {\n",
       "            min-width:  60px;\n",
       "            color:  #111111;\n",
       "            text-align:  center;\n",
       "        }    #T_f4183834_1789_11eb_8153_ccf9e4965fc2row3_col8 {\n",
       "            min-width:  60px;\n",
       "            color:  #111111;\n",
       "            text-align:  center;\n",
       "        }    #T_f4183834_1789_11eb_8153_ccf9e4965fc2row4_col0 {\n",
       "            min-width:  60px;\n",
       "            color:  #111111;\n",
       "            text-align:  center;\n",
       "        }    #T_f4183834_1789_11eb_8153_ccf9e4965fc2row4_col1 {\n",
       "            min-width:  60px;\n",
       "            color:  #111111;\n",
       "            text-align:  center;\n",
       "        }    #T_f4183834_1789_11eb_8153_ccf9e4965fc2row4_col2 {\n",
       "            min-width:  60px;\n",
       "            color:  #111111;\n",
       "            text-align:  center;\n",
       "        }    #T_f4183834_1789_11eb_8153_ccf9e4965fc2row4_col3 {\n",
       "            min-width:  60px;\n",
       "            color:  #111111;\n",
       "            text-align:  center;\n",
       "        }    #T_f4183834_1789_11eb_8153_ccf9e4965fc2row4_col4 {\n",
       "            min-width:  60px;\n",
       "            color:  #111111;\n",
       "            text-align:  center;\n",
       "        }    #T_f4183834_1789_11eb_8153_ccf9e4965fc2row4_col5 {\n",
       "            min-width:  60px;\n",
       "            color:  #111111;\n",
       "            text-align:  center;\n",
       "        }    #T_f4183834_1789_11eb_8153_ccf9e4965fc2row4_col6 {\n",
       "            min-width:  60px;\n",
       "            color:  #111111;\n",
       "            text-align:  center;\n",
       "        }    #T_f4183834_1789_11eb_8153_ccf9e4965fc2row4_col7 {\n",
       "            min-width:  60px;\n",
       "            color:  #111111;\n",
       "            text-align:  center;\n",
       "        }    #T_f4183834_1789_11eb_8153_ccf9e4965fc2row4_col8 {\n",
       "            min-width:  60px;\n",
       "            color:  #111111;\n",
       "            text-align:  center;\n",
       "        }    #T_f4183834_1789_11eb_8153_ccf9e4965fc2row5_col0 {\n",
       "            min-width:  60px;\n",
       "            color:  #111111;\n",
       "            text-align:  center;\n",
       "        }    #T_f4183834_1789_11eb_8153_ccf9e4965fc2row5_col1 {\n",
       "            min-width:  60px;\n",
       "            color:  #111111;\n",
       "            text-align:  center;\n",
       "        }    #T_f4183834_1789_11eb_8153_ccf9e4965fc2row5_col2 {\n",
       "            min-width:  60px;\n",
       "            color:  #111111;\n",
       "            text-align:  center;\n",
       "        }    #T_f4183834_1789_11eb_8153_ccf9e4965fc2row5_col3 {\n",
       "            min-width:  60px;\n",
       "            color:  #111111;\n",
       "            text-align:  center;\n",
       "        }    #T_f4183834_1789_11eb_8153_ccf9e4965fc2row5_col4 {\n",
       "            min-width:  60px;\n",
       "            color:  #111111;\n",
       "            text-align:  center;\n",
       "        }    #T_f4183834_1789_11eb_8153_ccf9e4965fc2row5_col5 {\n",
       "            min-width:  60px;\n",
       "            color:  #111111;\n",
       "            text-align:  center;\n",
       "        }    #T_f4183834_1789_11eb_8153_ccf9e4965fc2row5_col6 {\n",
       "            min-width:  60px;\n",
       "            color:  #111111;\n",
       "            text-align:  center;\n",
       "        }    #T_f4183834_1789_11eb_8153_ccf9e4965fc2row5_col7 {\n",
       "            min-width:  60px;\n",
       "            color:  #111111;\n",
       "            text-align:  center;\n",
       "        }    #T_f4183834_1789_11eb_8153_ccf9e4965fc2row5_col8 {\n",
       "            min-width:  60px;\n",
       "            color:  #111111;\n",
       "            text-align:  center;\n",
       "        }    #T_f4183834_1789_11eb_8153_ccf9e4965fc2row6_col0 {\n",
       "            min-width:  60px;\n",
       "            color:  #111111;\n",
       "            text-align:  center;\n",
       "        }    #T_f4183834_1789_11eb_8153_ccf9e4965fc2row6_col1 {\n",
       "            min-width:  60px;\n",
       "            color:  #111111;\n",
       "            text-align:  center;\n",
       "        }    #T_f4183834_1789_11eb_8153_ccf9e4965fc2row6_col2 {\n",
       "            min-width:  60px;\n",
       "            color:  #111111;\n",
       "            text-align:  center;\n",
       "        }    #T_f4183834_1789_11eb_8153_ccf9e4965fc2row6_col3 {\n",
       "            min-width:  60px;\n",
       "            color:  #111111;\n",
       "            text-align:  center;\n",
       "        }    #T_f4183834_1789_11eb_8153_ccf9e4965fc2row6_col4 {\n",
       "            min-width:  60px;\n",
       "            color:  #111111;\n",
       "            text-align:  center;\n",
       "        }    #T_f4183834_1789_11eb_8153_ccf9e4965fc2row6_col5 {\n",
       "            min-width:  60px;\n",
       "            color:  #111111;\n",
       "            text-align:  center;\n",
       "        }    #T_f4183834_1789_11eb_8153_ccf9e4965fc2row6_col6 {\n",
       "            min-width:  60px;\n",
       "            color:  #111111;\n",
       "            text-align:  center;\n",
       "        }    #T_f4183834_1789_11eb_8153_ccf9e4965fc2row6_col7 {\n",
       "            min-width:  60px;\n",
       "            color:  #111111;\n",
       "            text-align:  center;\n",
       "        }    #T_f4183834_1789_11eb_8153_ccf9e4965fc2row6_col8 {\n",
       "            min-width:  60px;\n",
       "            color:  #111111;\n",
       "            text-align:  center;\n",
       "        }    #T_f4183834_1789_11eb_8153_ccf9e4965fc2row7_col0 {\n",
       "            min-width:  60px;\n",
       "            color:  #111111;\n",
       "            text-align:  center;\n",
       "        }    #T_f4183834_1789_11eb_8153_ccf9e4965fc2row7_col1 {\n",
       "            min-width:  60px;\n",
       "            color:  #111111;\n",
       "            text-align:  center;\n",
       "        }    #T_f4183834_1789_11eb_8153_ccf9e4965fc2row7_col2 {\n",
       "            min-width:  60px;\n",
       "            color:  #111111;\n",
       "            text-align:  center;\n",
       "        }    #T_f4183834_1789_11eb_8153_ccf9e4965fc2row7_col3 {\n",
       "            min-width:  60px;\n",
       "            color:  #111111;\n",
       "            text-align:  center;\n",
       "        }    #T_f4183834_1789_11eb_8153_ccf9e4965fc2row7_col4 {\n",
       "            min-width:  60px;\n",
       "            color:  #111111;\n",
       "            text-align:  center;\n",
       "        }    #T_f4183834_1789_11eb_8153_ccf9e4965fc2row7_col5 {\n",
       "            min-width:  60px;\n",
       "            color:  #111111;\n",
       "            text-align:  center;\n",
       "        }    #T_f4183834_1789_11eb_8153_ccf9e4965fc2row7_col6 {\n",
       "            min-width:  60px;\n",
       "            color:  #111111;\n",
       "            text-align:  center;\n",
       "        }    #T_f4183834_1789_11eb_8153_ccf9e4965fc2row7_col7 {\n",
       "            min-width:  60px;\n",
       "            color:  #111111;\n",
       "            text-align:  center;\n",
       "        }    #T_f4183834_1789_11eb_8153_ccf9e4965fc2row7_col8 {\n",
       "            min-width:  60px;\n",
       "            color:  #111111;\n",
       "            text-align:  center;\n",
       "        }    #T_f4183834_1789_11eb_8153_ccf9e4965fc2row8_col0 {\n",
       "            min-width:  60px;\n",
       "            color:  #111111;\n",
       "            text-align:  center;\n",
       "        }    #T_f4183834_1789_11eb_8153_ccf9e4965fc2row8_col1 {\n",
       "            min-width:  60px;\n",
       "            color:  #111111;\n",
       "            text-align:  center;\n",
       "        }    #T_f4183834_1789_11eb_8153_ccf9e4965fc2row8_col2 {\n",
       "            min-width:  60px;\n",
       "            color:  #111111;\n",
       "            text-align:  center;\n",
       "        }    #T_f4183834_1789_11eb_8153_ccf9e4965fc2row8_col3 {\n",
       "            min-width:  60px;\n",
       "            color:  #111111;\n",
       "            text-align:  center;\n",
       "        }    #T_f4183834_1789_11eb_8153_ccf9e4965fc2row8_col4 {\n",
       "            min-width:  60px;\n",
       "            color:  #111111;\n",
       "            text-align:  center;\n",
       "        }    #T_f4183834_1789_11eb_8153_ccf9e4965fc2row8_col5 {\n",
       "            min-width:  60px;\n",
       "            color:  #111111;\n",
       "            text-align:  center;\n",
       "        }    #T_f4183834_1789_11eb_8153_ccf9e4965fc2row8_col6 {\n",
       "            min-width:  60px;\n",
       "            color:  #111111;\n",
       "            text-align:  center;\n",
       "        }    #T_f4183834_1789_11eb_8153_ccf9e4965fc2row8_col7 {\n",
       "            min-width:  60px;\n",
       "            color:  #111111;\n",
       "            text-align:  center;\n",
       "        }    #T_f4183834_1789_11eb_8153_ccf9e4965fc2row8_col8 {\n",
       "            min-width:  60px;\n",
       "            color:  #111111;\n",
       "            text-align:  center;\n",
       "        }    #T_f4183834_1789_11eb_8153_ccf9e4965fc2row9_col0 {\n",
       "            min-width:  60px;\n",
       "            color:  #111111;\n",
       "            text-align:  center;\n",
       "        }    #T_f4183834_1789_11eb_8153_ccf9e4965fc2row9_col1 {\n",
       "            min-width:  60px;\n",
       "            color:  #111111;\n",
       "            text-align:  center;\n",
       "        }    #T_f4183834_1789_11eb_8153_ccf9e4965fc2row9_col2 {\n",
       "            min-width:  60px;\n",
       "            color:  #111111;\n",
       "            text-align:  center;\n",
       "        }    #T_f4183834_1789_11eb_8153_ccf9e4965fc2row9_col3 {\n",
       "            min-width:  60px;\n",
       "            color:  #111111;\n",
       "            text-align:  center;\n",
       "        }    #T_f4183834_1789_11eb_8153_ccf9e4965fc2row9_col4 {\n",
       "            min-width:  60px;\n",
       "            color:  #111111;\n",
       "            text-align:  center;\n",
       "        }    #T_f4183834_1789_11eb_8153_ccf9e4965fc2row9_col5 {\n",
       "            min-width:  60px;\n",
       "            color:  #111111;\n",
       "            text-align:  center;\n",
       "        }    #T_f4183834_1789_11eb_8153_ccf9e4965fc2row9_col6 {\n",
       "            min-width:  60px;\n",
       "            color:  #111111;\n",
       "            text-align:  center;\n",
       "        }    #T_f4183834_1789_11eb_8153_ccf9e4965fc2row9_col7 {\n",
       "            min-width:  60px;\n",
       "            color:  #111111;\n",
       "            text-align:  center;\n",
       "        }    #T_f4183834_1789_11eb_8153_ccf9e4965fc2row9_col8 {\n",
       "            min-width:  60px;\n",
       "            color:  #111111;\n",
       "            text-align:  center;\n",
       "        }</style><table id=\"T_f4183834_1789_11eb_8153_ccf9e4965fc2\" ><thead>    <tr>        <th class=\"blank level0\" ></th>        <th class=\"col_heading level0 col0\" >Pregnancies</th>        <th class=\"col_heading level0 col1\" >Glucose</th>        <th class=\"col_heading level0 col2\" >BloodPressure</th>        <th class=\"col_heading level0 col3\" >SkinThickness</th>        <th class=\"col_heading level0 col4\" >Insulin</th>        <th class=\"col_heading level0 col5\" >BMI</th>        <th class=\"col_heading level0 col6\" >DiabetesPedigreeFunction</th>        <th class=\"col_heading level0 col7\" >Age</th>        <th class=\"col_heading level0 col8\" >Outcome</th>    </tr></thead><tbody>\n",
       "                <tr>\n",
       "                        <th id=\"T_f4183834_1789_11eb_8153_ccf9e4965fc2level0_row0\" class=\"row_heading level0 row0\" >0</th>\n",
       "                        <td id=\"T_f4183834_1789_11eb_8153_ccf9e4965fc2row0_col0\" class=\"data row0 col0\" >6</td>\n",
       "                        <td id=\"T_f4183834_1789_11eb_8153_ccf9e4965fc2row0_col1\" class=\"data row0 col1\" >148</td>\n",
       "                        <td id=\"T_f4183834_1789_11eb_8153_ccf9e4965fc2row0_col2\" class=\"data row0 col2\" >72</td>\n",
       "                        <td id=\"T_f4183834_1789_11eb_8153_ccf9e4965fc2row0_col3\" class=\"data row0 col3\" >35</td>\n",
       "                        <td id=\"T_f4183834_1789_11eb_8153_ccf9e4965fc2row0_col4\" class=\"data row0 col4\" >0</td>\n",
       "                        <td id=\"T_f4183834_1789_11eb_8153_ccf9e4965fc2row0_col5\" class=\"data row0 col5\" >33.60</td>\n",
       "                        <td id=\"T_f4183834_1789_11eb_8153_ccf9e4965fc2row0_col6\" class=\"data row0 col6\" >0.63</td>\n",
       "                        <td id=\"T_f4183834_1789_11eb_8153_ccf9e4965fc2row0_col7\" class=\"data row0 col7\" >50</td>\n",
       "                        <td id=\"T_f4183834_1789_11eb_8153_ccf9e4965fc2row0_col8\" class=\"data row0 col8\" >1</td>\n",
       "            </tr>\n",
       "            <tr>\n",
       "                        <th id=\"T_f4183834_1789_11eb_8153_ccf9e4965fc2level0_row1\" class=\"row_heading level0 row1\" >1</th>\n",
       "                        <td id=\"T_f4183834_1789_11eb_8153_ccf9e4965fc2row1_col0\" class=\"data row1 col0\" >1</td>\n",
       "                        <td id=\"T_f4183834_1789_11eb_8153_ccf9e4965fc2row1_col1\" class=\"data row1 col1\" >85</td>\n",
       "                        <td id=\"T_f4183834_1789_11eb_8153_ccf9e4965fc2row1_col2\" class=\"data row1 col2\" >66</td>\n",
       "                        <td id=\"T_f4183834_1789_11eb_8153_ccf9e4965fc2row1_col3\" class=\"data row1 col3\" >29</td>\n",
       "                        <td id=\"T_f4183834_1789_11eb_8153_ccf9e4965fc2row1_col4\" class=\"data row1 col4\" >0</td>\n",
       "                        <td id=\"T_f4183834_1789_11eb_8153_ccf9e4965fc2row1_col5\" class=\"data row1 col5\" >26.60</td>\n",
       "                        <td id=\"T_f4183834_1789_11eb_8153_ccf9e4965fc2row1_col6\" class=\"data row1 col6\" >0.35</td>\n",
       "                        <td id=\"T_f4183834_1789_11eb_8153_ccf9e4965fc2row1_col7\" class=\"data row1 col7\" >31</td>\n",
       "                        <td id=\"T_f4183834_1789_11eb_8153_ccf9e4965fc2row1_col8\" class=\"data row1 col8\" >0</td>\n",
       "            </tr>\n",
       "            <tr>\n",
       "                        <th id=\"T_f4183834_1789_11eb_8153_ccf9e4965fc2level0_row2\" class=\"row_heading level0 row2\" >2</th>\n",
       "                        <td id=\"T_f4183834_1789_11eb_8153_ccf9e4965fc2row2_col0\" class=\"data row2 col0\" >8</td>\n",
       "                        <td id=\"T_f4183834_1789_11eb_8153_ccf9e4965fc2row2_col1\" class=\"data row2 col1\" >183</td>\n",
       "                        <td id=\"T_f4183834_1789_11eb_8153_ccf9e4965fc2row2_col2\" class=\"data row2 col2\" >64</td>\n",
       "                        <td id=\"T_f4183834_1789_11eb_8153_ccf9e4965fc2row2_col3\" class=\"data row2 col3\" >0</td>\n",
       "                        <td id=\"T_f4183834_1789_11eb_8153_ccf9e4965fc2row2_col4\" class=\"data row2 col4\" >0</td>\n",
       "                        <td id=\"T_f4183834_1789_11eb_8153_ccf9e4965fc2row2_col5\" class=\"data row2 col5\" >23.30</td>\n",
       "                        <td id=\"T_f4183834_1789_11eb_8153_ccf9e4965fc2row2_col6\" class=\"data row2 col6\" >0.67</td>\n",
       "                        <td id=\"T_f4183834_1789_11eb_8153_ccf9e4965fc2row2_col7\" class=\"data row2 col7\" >32</td>\n",
       "                        <td id=\"T_f4183834_1789_11eb_8153_ccf9e4965fc2row2_col8\" class=\"data row2 col8\" >1</td>\n",
       "            </tr>\n",
       "            <tr>\n",
       "                        <th id=\"T_f4183834_1789_11eb_8153_ccf9e4965fc2level0_row3\" class=\"row_heading level0 row3\" >3</th>\n",
       "                        <td id=\"T_f4183834_1789_11eb_8153_ccf9e4965fc2row3_col0\" class=\"data row3 col0\" >1</td>\n",
       "                        <td id=\"T_f4183834_1789_11eb_8153_ccf9e4965fc2row3_col1\" class=\"data row3 col1\" >89</td>\n",
       "                        <td id=\"T_f4183834_1789_11eb_8153_ccf9e4965fc2row3_col2\" class=\"data row3 col2\" >66</td>\n",
       "                        <td id=\"T_f4183834_1789_11eb_8153_ccf9e4965fc2row3_col3\" class=\"data row3 col3\" >23</td>\n",
       "                        <td id=\"T_f4183834_1789_11eb_8153_ccf9e4965fc2row3_col4\" class=\"data row3 col4\" >94</td>\n",
       "                        <td id=\"T_f4183834_1789_11eb_8153_ccf9e4965fc2row3_col5\" class=\"data row3 col5\" >28.10</td>\n",
       "                        <td id=\"T_f4183834_1789_11eb_8153_ccf9e4965fc2row3_col6\" class=\"data row3 col6\" >0.17</td>\n",
       "                        <td id=\"T_f4183834_1789_11eb_8153_ccf9e4965fc2row3_col7\" class=\"data row3 col7\" >21</td>\n",
       "                        <td id=\"T_f4183834_1789_11eb_8153_ccf9e4965fc2row3_col8\" class=\"data row3 col8\" >0</td>\n",
       "            </tr>\n",
       "            <tr>\n",
       "                        <th id=\"T_f4183834_1789_11eb_8153_ccf9e4965fc2level0_row4\" class=\"row_heading level0 row4\" >4</th>\n",
       "                        <td id=\"T_f4183834_1789_11eb_8153_ccf9e4965fc2row4_col0\" class=\"data row4 col0\" >0</td>\n",
       "                        <td id=\"T_f4183834_1789_11eb_8153_ccf9e4965fc2row4_col1\" class=\"data row4 col1\" >137</td>\n",
       "                        <td id=\"T_f4183834_1789_11eb_8153_ccf9e4965fc2row4_col2\" class=\"data row4 col2\" >40</td>\n",
       "                        <td id=\"T_f4183834_1789_11eb_8153_ccf9e4965fc2row4_col3\" class=\"data row4 col3\" >35</td>\n",
       "                        <td id=\"T_f4183834_1789_11eb_8153_ccf9e4965fc2row4_col4\" class=\"data row4 col4\" >168</td>\n",
       "                        <td id=\"T_f4183834_1789_11eb_8153_ccf9e4965fc2row4_col5\" class=\"data row4 col5\" >43.10</td>\n",
       "                        <td id=\"T_f4183834_1789_11eb_8153_ccf9e4965fc2row4_col6\" class=\"data row4 col6\" >2.29</td>\n",
       "                        <td id=\"T_f4183834_1789_11eb_8153_ccf9e4965fc2row4_col7\" class=\"data row4 col7\" >33</td>\n",
       "                        <td id=\"T_f4183834_1789_11eb_8153_ccf9e4965fc2row4_col8\" class=\"data row4 col8\" >1</td>\n",
       "            </tr>\n",
       "            <tr>\n",
       "                        <th id=\"T_f4183834_1789_11eb_8153_ccf9e4965fc2level0_row5\" class=\"row_heading level0 row5\" >5</th>\n",
       "                        <td id=\"T_f4183834_1789_11eb_8153_ccf9e4965fc2row5_col0\" class=\"data row5 col0\" >5</td>\n",
       "                        <td id=\"T_f4183834_1789_11eb_8153_ccf9e4965fc2row5_col1\" class=\"data row5 col1\" >116</td>\n",
       "                        <td id=\"T_f4183834_1789_11eb_8153_ccf9e4965fc2row5_col2\" class=\"data row5 col2\" >74</td>\n",
       "                        <td id=\"T_f4183834_1789_11eb_8153_ccf9e4965fc2row5_col3\" class=\"data row5 col3\" >0</td>\n",
       "                        <td id=\"T_f4183834_1789_11eb_8153_ccf9e4965fc2row5_col4\" class=\"data row5 col4\" >0</td>\n",
       "                        <td id=\"T_f4183834_1789_11eb_8153_ccf9e4965fc2row5_col5\" class=\"data row5 col5\" >25.60</td>\n",
       "                        <td id=\"T_f4183834_1789_11eb_8153_ccf9e4965fc2row5_col6\" class=\"data row5 col6\" >0.20</td>\n",
       "                        <td id=\"T_f4183834_1789_11eb_8153_ccf9e4965fc2row5_col7\" class=\"data row5 col7\" >30</td>\n",
       "                        <td id=\"T_f4183834_1789_11eb_8153_ccf9e4965fc2row5_col8\" class=\"data row5 col8\" >0</td>\n",
       "            </tr>\n",
       "            <tr>\n",
       "                        <th id=\"T_f4183834_1789_11eb_8153_ccf9e4965fc2level0_row6\" class=\"row_heading level0 row6\" >6</th>\n",
       "                        <td id=\"T_f4183834_1789_11eb_8153_ccf9e4965fc2row6_col0\" class=\"data row6 col0\" >3</td>\n",
       "                        <td id=\"T_f4183834_1789_11eb_8153_ccf9e4965fc2row6_col1\" class=\"data row6 col1\" >78</td>\n",
       "                        <td id=\"T_f4183834_1789_11eb_8153_ccf9e4965fc2row6_col2\" class=\"data row6 col2\" >50</td>\n",
       "                        <td id=\"T_f4183834_1789_11eb_8153_ccf9e4965fc2row6_col3\" class=\"data row6 col3\" >32</td>\n",
       "                        <td id=\"T_f4183834_1789_11eb_8153_ccf9e4965fc2row6_col4\" class=\"data row6 col4\" >88</td>\n",
       "                        <td id=\"T_f4183834_1789_11eb_8153_ccf9e4965fc2row6_col5\" class=\"data row6 col5\" >31.00</td>\n",
       "                        <td id=\"T_f4183834_1789_11eb_8153_ccf9e4965fc2row6_col6\" class=\"data row6 col6\" >0.25</td>\n",
       "                        <td id=\"T_f4183834_1789_11eb_8153_ccf9e4965fc2row6_col7\" class=\"data row6 col7\" >26</td>\n",
       "                        <td id=\"T_f4183834_1789_11eb_8153_ccf9e4965fc2row6_col8\" class=\"data row6 col8\" >1</td>\n",
       "            </tr>\n",
       "            <tr>\n",
       "                        <th id=\"T_f4183834_1789_11eb_8153_ccf9e4965fc2level0_row7\" class=\"row_heading level0 row7\" >7</th>\n",
       "                        <td id=\"T_f4183834_1789_11eb_8153_ccf9e4965fc2row7_col0\" class=\"data row7 col0\" >10</td>\n",
       "                        <td id=\"T_f4183834_1789_11eb_8153_ccf9e4965fc2row7_col1\" class=\"data row7 col1\" >115</td>\n",
       "                        <td id=\"T_f4183834_1789_11eb_8153_ccf9e4965fc2row7_col2\" class=\"data row7 col2\" >0</td>\n",
       "                        <td id=\"T_f4183834_1789_11eb_8153_ccf9e4965fc2row7_col3\" class=\"data row7 col3\" >0</td>\n",
       "                        <td id=\"T_f4183834_1789_11eb_8153_ccf9e4965fc2row7_col4\" class=\"data row7 col4\" >0</td>\n",
       "                        <td id=\"T_f4183834_1789_11eb_8153_ccf9e4965fc2row7_col5\" class=\"data row7 col5\" >35.30</td>\n",
       "                        <td id=\"T_f4183834_1789_11eb_8153_ccf9e4965fc2row7_col6\" class=\"data row7 col6\" >0.13</td>\n",
       "                        <td id=\"T_f4183834_1789_11eb_8153_ccf9e4965fc2row7_col7\" class=\"data row7 col7\" >29</td>\n",
       "                        <td id=\"T_f4183834_1789_11eb_8153_ccf9e4965fc2row7_col8\" class=\"data row7 col8\" >0</td>\n",
       "            </tr>\n",
       "            <tr>\n",
       "                        <th id=\"T_f4183834_1789_11eb_8153_ccf9e4965fc2level0_row8\" class=\"row_heading level0 row8\" >8</th>\n",
       "                        <td id=\"T_f4183834_1789_11eb_8153_ccf9e4965fc2row8_col0\" class=\"data row8 col0\" >2</td>\n",
       "                        <td id=\"T_f4183834_1789_11eb_8153_ccf9e4965fc2row8_col1\" class=\"data row8 col1\" >197</td>\n",
       "                        <td id=\"T_f4183834_1789_11eb_8153_ccf9e4965fc2row8_col2\" class=\"data row8 col2\" >70</td>\n",
       "                        <td id=\"T_f4183834_1789_11eb_8153_ccf9e4965fc2row8_col3\" class=\"data row8 col3\" >45</td>\n",
       "                        <td id=\"T_f4183834_1789_11eb_8153_ccf9e4965fc2row8_col4\" class=\"data row8 col4\" >543</td>\n",
       "                        <td id=\"T_f4183834_1789_11eb_8153_ccf9e4965fc2row8_col5\" class=\"data row8 col5\" >30.50</td>\n",
       "                        <td id=\"T_f4183834_1789_11eb_8153_ccf9e4965fc2row8_col6\" class=\"data row8 col6\" >0.16</td>\n",
       "                        <td id=\"T_f4183834_1789_11eb_8153_ccf9e4965fc2row8_col7\" class=\"data row8 col7\" >53</td>\n",
       "                        <td id=\"T_f4183834_1789_11eb_8153_ccf9e4965fc2row8_col8\" class=\"data row8 col8\" >1</td>\n",
       "            </tr>\n",
       "            <tr>\n",
       "                        <th id=\"T_f4183834_1789_11eb_8153_ccf9e4965fc2level0_row9\" class=\"row_heading level0 row9\" >9</th>\n",
       "                        <td id=\"T_f4183834_1789_11eb_8153_ccf9e4965fc2row9_col0\" class=\"data row9 col0\" >8</td>\n",
       "                        <td id=\"T_f4183834_1789_11eb_8153_ccf9e4965fc2row9_col1\" class=\"data row9 col1\" >125</td>\n",
       "                        <td id=\"T_f4183834_1789_11eb_8153_ccf9e4965fc2row9_col2\" class=\"data row9 col2\" >96</td>\n",
       "                        <td id=\"T_f4183834_1789_11eb_8153_ccf9e4965fc2row9_col3\" class=\"data row9 col3\" >0</td>\n",
       "                        <td id=\"T_f4183834_1789_11eb_8153_ccf9e4965fc2row9_col4\" class=\"data row9 col4\" >0</td>\n",
       "                        <td id=\"T_f4183834_1789_11eb_8153_ccf9e4965fc2row9_col5\" class=\"data row9 col5\" >0.00</td>\n",
       "                        <td id=\"T_f4183834_1789_11eb_8153_ccf9e4965fc2row9_col6\" class=\"data row9 col6\" >0.23</td>\n",
       "                        <td id=\"T_f4183834_1789_11eb_8153_ccf9e4965fc2row9_col7\" class=\"data row9 col7\" >54</td>\n",
       "                        <td id=\"T_f4183834_1789_11eb_8153_ccf9e4965fc2row9_col8\" class=\"data row9 col8\" >1</td>\n",
       "            </tr>\n",
       "    </tbody></table>"
      ],
      "text/plain": [
       "<pandas.io.formats.style.Styler at 0x1fd1448b148>"
      ]
     },
     "execution_count": 3,
     "metadata": {},
     "output_type": "execute_result"
    }
   ],
   "source": [
    "data = pd.read_csv(\"/Users\\Lenovo\\Downloads\\Diabetes ANN\\input/\"\n",
    "                   \"diabetes.csv\")\n",
    "\n",
    "data.head(10).style.set_precision(2). \\\n",
    "                    set_properties(**{\"min-width\": \"60px\"}). \\\n",
    "                    set_properties(**{\"color\": \"#111111\"}). \\\n",
    "                    set_properties(**{\"text-align\": \"center\"}). \\\n",
    "                    set_table_styles([\n",
    "                          {\"selector\": \"th\",\n",
    "                           \"props\": [(\"font-weight\", \"bold\"),\n",
    "                                     (\"font-size\", \"12px\"),\n",
    "                                     (\"text-align\", \"center\")]},\n",
    "                          {\"selector\": \"tr:nth-child(even)\",\n",
    "                           \"props\": [(\"background-color\", \"#f2f2f2\")]},\n",
    "                          {\"selector\": \"tr:nth-child(odd)\",\n",
    "                           \"props\": [(\"background-color\", \"#fdfdfd\")]},\n",
    "                          {\"selector\": \"tr:hover\",\n",
    "                           \"props\": [(\"background-color\", \"#bcbcbc\")]}])"
   ]
  },
  {
   "cell_type": "markdown",
   "metadata": {
    "papermill": {
     "duration": 0.043338,
     "end_time": "2020-10-08T15:11:13.367231",
     "exception": false,
     "start_time": "2020-10-08T15:11:13.323893",
     "status": "completed"
    },
    "tags": []
   },
   "source": [
    "Ada 8 fitur dan outcome pada variabel target.\n",
    "\n",
    "* Pregnancies\n",
    "* Glucose\n",
    "* BloodPressure\n",
    "* SkinThickness\n",
    "* Insulin\n",
    "* BMI (Body mass index)\n",
    "* DiabetesPedigreeFunction\n",
    "* Age\n",
    "\n",
    "\n",
    "Fitur ditetapkan ke label data_X dan terkait dengan data_Y. Info panda memperlihatkan tipe data kolom (fitur) dan jumlah nilai bukan nol."
   ]
  },
  {
   "cell_type": "code",
   "execution_count": 4,
   "metadata": {
    "execution": {
     "iopub.execute_input": "2020-10-08T15:11:13.485166Z",
     "iopub.status.busy": "2020-10-08T15:11:13.484299Z",
     "iopub.status.idle": "2020-10-08T15:11:13.489915Z",
     "shell.execute_reply": "2020-10-08T15:11:13.488833Z"
    },
    "papermill": {
     "duration": 0.076756,
     "end_time": "2020-10-08T15:11:13.490119",
     "exception": false,
     "start_time": "2020-10-08T15:11:13.413363",
     "status": "completed"
    },
    "tags": []
   },
   "outputs": [
    {
     "name": "stdout",
     "output_type": "stream",
     "text": [
      "data_X info:\n",
      "\n",
      "<class 'pandas.core.frame.DataFrame'>\n",
      "RangeIndex: 768 entries, 0 to 767\n",
      "Data columns (total 8 columns):\n",
      " #   Column                    Non-Null Count  Dtype  \n",
      "---  ------                    --------------  -----  \n",
      " 0   Pregnancies               768 non-null    int64  \n",
      " 1   Glucose                   768 non-null    int64  \n",
      " 2   BloodPressure             768 non-null    int64  \n",
      " 3   SkinThickness             768 non-null    int64  \n",
      " 4   Insulin                   768 non-null    int64  \n",
      " 5   BMI                       768 non-null    float64\n",
      " 6   DiabetesPedigreeFunction  768 non-null    float64\n",
      " 7   Age                       768 non-null    int64  \n",
      "dtypes: float64(2), int64(6)\n",
      "memory usage: 48.1 KB\n",
      "\n",
      "data_Y info:\n",
      "\n",
      "<class 'pandas.core.frame.DataFrame'>\n",
      "RangeIndex: 768 entries, 0 to 767\n",
      "Data columns (total 1 columns):\n",
      " #   Column   Non-Null Count  Dtype\n",
      "---  ------   --------------  -----\n",
      " 0   Outcome  768 non-null    int64\n",
      "dtypes: int64(1)\n",
      "memory usage: 6.1 KB\n"
     ]
    }
   ],
   "source": [
    "# disable SettingWithCopyWarning messages\n",
    "pd.options.mode.chained_assignment = None\n",
    "\n",
    "data_X = data.loc[:, data.columns != \"Outcome\"]\n",
    "data_Y = data[[\"Outcome\"]]\n",
    "\n",
    "print(\"data_X info:\\n\")\n",
    "data_X.info()\n",
    "print(\"\\ndata_Y info:\\n\")\n",
    "data_Y.info()"
   ]
  },
  {
   "cell_type": "markdown",
   "metadata": {
    "papermill": {
     "duration": 0.042897,
     "end_time": "2020-10-08T15:11:13.576906",
     "exception": false,
     "start_time": "2020-10-08T15:11:13.534009",
     "status": "completed"
    },
    "tags": []
   },
   "source": [
    "Set data memiliki 768 baris (sampel pelatihan). Semua fitur adalah numerik. Dan tampaknya tidak ada nilai yang hilang. Di sini, satu poin membutuhkan perhatian ekstra. Di set data Anda, nilai yang hilang dapat dikodekan selain **NaN** atau **NA**. Misalnya, jika Anda pergi dan mengubah beberapa sel dalam set data menjadi **Na** atau **NAN** dan memuatnya lagi dan memeriksa info, **Pandas** tidak akan mengenalinya sebagai nilai kosong. Jadi, ** Pandas ** mungkin tidak mendeteksi sel-sel ini sebagai hilang. Dalam kasus kami, set data kecil dan inspeksi visual singkat mengungkapkan tidak ada nilai yang hilang. Tapi ada poin lain. Beberapa sel mungkin dikodekan dengan input yang tidak mungkin. Misalnya, 0 mungkin menunjukkan nilai yang hilang untuk fitur numerik. \n",
    "\n",
    "Nomor kelas dan distribusinya diperiksa di bawah cell."
   ]
  },
  {
   "cell_type": "code",
   "execution_count": 5,
   "metadata": {
    "execution": {
     "iopub.execute_input": "2020-10-08T15:11:13.674135Z",
     "iopub.status.busy": "2020-10-08T15:11:13.673241Z",
     "iopub.status.idle": "2020-10-08T15:11:13.677750Z",
     "shell.execute_reply": "2020-10-08T15:11:13.677146Z"
    },
    "papermill": {
     "duration": 0.05798,
     "end_time": "2020-10-08T15:11:13.677882",
     "exception": false,
     "start_time": "2020-10-08T15:11:13.619902",
     "status": "completed"
    },
    "tags": []
   },
   "outputs": [
    {
     "data": {
      "text/plain": [
       "0    500\n",
       "1    268\n",
       "Name: Outcome, dtype: int64"
      ]
     },
     "execution_count": 5,
     "metadata": {},
     "output_type": "execute_result"
    }
   ],
   "source": [
    "data_Y[\"Outcome\"].value_counts()"
   ]
  },
  {
   "cell_type": "markdown",
   "metadata": {
    "papermill": {
     "duration": 0.044085,
     "end_time": "2020-10-08T15:11:13.766839",
     "exception": false,
     "start_time": "2020-10-08T15:11:13.722754",
     "status": "completed"
    },
    "tags": []
   },
   "source": [
    "Terdapat dua kelas yang tersedia, pasien yang terkena diabetes dan pasien yang tidak terkena diabetes."
   ]
  },
  {
   "cell_type": "markdown",
   "metadata": {
    "papermill": {
     "duration": 0.043019,
     "end_time": "2020-10-08T15:11:13.854068",
     "exception": false,
     "start_time": "2020-10-08T15:11:13.811049",
     "status": "completed"
    },
    "tags": []
   },
   "source": [
    "## Split Data\n",
    "\n",
    "Kumpulan data dibagi menjadi train dan test set. Lalu menggunakan parameter stratify dari train_test_split untuk mendapatkan distribusi kelas yang sama di seluruh train dan test set."
   ]
  },
  {
   "cell_type": "code",
   "execution_count": 6,
   "metadata": {
    "execution": {
     "iopub.execute_input": "2020-10-08T15:11:13.960047Z",
     "iopub.status.busy": "2020-10-08T15:11:13.959197Z",
     "iopub.status.idle": "2020-10-08T15:11:13.969893Z",
     "shell.execute_reply": "2020-10-08T15:11:13.970447Z"
    },
    "papermill": {
     "duration": 0.073004,
     "end_time": "2020-10-08T15:11:13.970643",
     "exception": false,
     "start_time": "2020-10-08T15:11:13.897639",
     "status": "completed"
    },
    "tags": []
   },
   "outputs": [],
   "source": [
    "train_X, test_X, train_Y, test_Y = train_test_split(data_X, data_Y,\n",
    "                                                    test_size=0.2,\n",
    "                                                    stratify=data_Y,\n",
    "                                                    random_state=0)\n",
    "\n",
    "train_X.reset_index(drop=True, inplace=True);\n",
    "test_X.reset_index(drop=True, inplace=True);\n",
    "train_Y.reset_index(drop=True, inplace=True);\n",
    "test_Y.reset_index(drop=True, inplace=True);"
   ]
  },
  {
   "cell_type": "markdown",
   "metadata": {
    "papermill": {
     "duration": 0.043955,
     "end_time": "2020-10-08T15:11:14.060979",
     "exception": false,
     "start_time": "2020-10-08T15:11:14.017024",
     "status": "completed"
    },
    "tags": []
   },
   "source": [
    "## Visualization and Outlier Check\n",
    "\n",
    "\n",
    "Outlier menurunkan kinerja pembelajaran. Analisis outlier dilakukan untuk setiap fitur satu per satu. Kami menggunakan analisis kuartil untuk deteksi luar. Untuk setiap fitur, ada dua plot di bawah ini. Distribusi fitur ada di sebelah kiri. Plot kotak dengan fitur yang sama ada di sebelah kanan. Keduanya dianalisis bersama untuk mendapatkan gambaran tentang outlier. Mulai saat ini, kumis bawah boxplot ditandai sebagai LW dan kumis atas ditandai sebagai UW.\n",
    "\n",
    "Untuk menggambar boxplot, data fitur dibagi menjadi empat. Diperlukan tiga titik potong. Titik-titik ini adalah kuartil yang lebih rendah (atau kuartil pertama), median (atau kuartil kedua) dan kuartil atas (atau kuartil ketiga). Kuartil pertama adalah median data yang lebih rendah dari kuartil kedua. Kuartil ketiga adalah median data yang lebih besar dari kuartil kedua. Interquartile range (IQR) ditemukan mengurangi kuartil yang lebih rendah dari kuartil atas. Outlier ditentukan menggunakan kuartil atas dan IQR yang lebih rendah.\n"
   ]
  },
  {
   "cell_type": "code",
   "execution_count": 7,
   "metadata": {
    "execution": {
     "iopub.execute_input": "2020-10-08T15:11:14.166076Z",
     "iopub.status.busy": "2020-10-08T15:11:14.164983Z",
     "iopub.status.idle": "2020-10-08T15:11:14.168790Z",
     "shell.execute_reply": "2020-10-08T15:11:14.168112Z"
    },
    "papermill": {
     "duration": 0.061518,
     "end_time": "2020-10-08T15:11:14.168921",
     "exception": false,
     "start_time": "2020-10-08T15:11:14.107403",
     "status": "completed"
    },
    "tags": []
   },
   "outputs": [],
   "source": [
    "def plots(feature):\n",
    "    fig = plt.figure(constrained_layout = True, figsize=(10,3))\n",
    "    gs = gridspec.GridSpec(nrows=1, ncols=4, figure=fig)\n",
    "\n",
    "    ax1 = fig.add_subplot(gs[0,:3])    \n",
    "    sea.distplot(train_X.loc[train_Y[\"Outcome\"]==0,feature],\n",
    "                 kde = False, color = \"#004a4d\", norm_hist=False,\n",
    "                 hist_kws = dict(alpha=0.8), bins=40,\n",
    "                 label=\"Not Diabetes\", ax=ax1);\n",
    "    sea.distplot(train_X.loc[train_Y[\"Outcome\"]==1,feature],\n",
    "                 kde = False, color = \"#7d0101\", norm_hist=False,\n",
    "                 hist_kws = dict(alpha=0.6), bins=40,\n",
    "                 label=\"Diabetes\", ax=ax1);\n",
    "    ax2 = fig.add_subplot(gs[0,3])    \n",
    "    sea.boxplot(train_X[feature], orient=\"v\", color = \"#989100\",\n",
    "                width = 0.2, ax=ax2);\n",
    "    \n",
    "    ax1.legend(loc=\"upper right\");"
   ]
  },
  {
   "cell_type": "markdown",
   "metadata": {
    "papermill": {
     "duration": 0.04423,
     "end_time": "2020-10-08T15:11:14.257004",
     "exception": false,
     "start_time": "2020-10-08T15:11:14.212774",
     "status": "completed"
    },
    "tags": []
   },
   "source": [
    "### Feature 0 - Pregnancies"
   ]
  },
  {
   "cell_type": "code",
   "execution_count": 8,
   "metadata": {
    "execution": {
     "iopub.execute_input": "2020-10-08T15:11:14.352662Z",
     "iopub.status.busy": "2020-10-08T15:11:14.351809Z",
     "iopub.status.idle": "2020-10-08T15:11:15.625656Z",
     "shell.execute_reply": "2020-10-08T15:11:15.624958Z"
    },
    "papermill": {
     "duration": 1.322991,
     "end_time": "2020-10-08T15:11:15.625797",
     "exception": false,
     "start_time": "2020-10-08T15:11:14.302806",
     "status": "completed"
    },
    "tags": []
   },
   "outputs": [
    {
     "data": {
      "image/png": "[encoded data removed]",
      "text/plain": [
       "<Figure size 720x216 with 2 Axes>"
      ]
     },
     "metadata": {},
     "output_type": "display_data"
    }
   ],
   "source": [
    "plots(\"Pregnancies\")"
   ]
  },
  {
   "cell_type": "markdown",
   "metadata": {
    "papermill": {
     "duration": 0.047087,
     "end_time": "2020-10-08T15:11:15.719864",
     "exception": false,
     "start_time": "2020-10-08T15:11:15.672777",
     "status": "completed"
    },
    "tags": []
   },
   "source": [
    "Untuk fitur Pregnancies, ada beberapa pengukuran di atas kumis atas. Ini adalah peristiwa langka. Kami menggantinya dengan kuantil ke-95."
   ]
  },
  {
   "cell_type": "code",
   "execution_count": 9,
   "metadata": {
    "execution": {
     "iopub.execute_input": "2020-10-08T15:11:15.824855Z",
     "iopub.status.busy": "2020-10-08T15:11:15.821146Z",
     "iopub.status.idle": "2020-10-08T15:11:15.828602Z",
     "shell.execute_reply": "2020-10-08T15:11:15.827782Z"
    },
    "papermill": {
     "duration": 0.062985,
     "end_time": "2020-10-08T15:11:15.828746",
     "exception": false,
     "start_time": "2020-10-08T15:11:15.765761",
     "status": "completed"
    },
    "tags": []
   },
   "outputs": [],
   "source": [
    "Q1 = train_X[\"Pregnancies\"].quantile(0.25)\n",
    "Q3 = train_X[\"Pregnancies\"].quantile(0.75)\n",
    "q95th = train_X[\"Pregnancies\"].quantile(0.95)\n",
    "IQR = Q3 - Q1\n",
    "UW = Q3 + 1.5*IQR\n",
    "\n",
    "train_X[\"Pregnancies\"] = np.where(train_X[\"Pregnancies\"] > UW,\n",
    "                                  q95th, train_X[\"Pregnancies\"])"
   ]
  },
  {
   "cell_type": "markdown",
   "metadata": {
    "papermill": {
     "duration": 0.048525,
     "end_time": "2020-10-08T15:11:15.922804",
     "exception": false,
     "start_time": "2020-10-08T15:11:15.874279",
     "status": "completed"
    },
    "tags": []
   },
   "source": [
    "### Feature 1 - Glucose"
   ]
  },
  {
   "cell_type": "code",
   "execution_count": 10,
   "metadata": {
    "execution": {
     "iopub.execute_input": "2020-10-08T15:11:16.027401Z",
     "iopub.status.busy": "2020-10-08T15:11:16.026021Z",
     "iopub.status.idle": "2020-10-08T15:11:17.109368Z",
     "shell.execute_reply": "2020-10-08T15:11:17.108544Z"
    },
    "papermill": {
     "duration": 1.141451,
     "end_time": "2020-10-08T15:11:17.109508",
     "exception": false,
     "start_time": "2020-10-08T15:11:15.968057",
     "status": "completed"
    },
    "tags": []
   },
   "outputs": [
    {
     "data": {
      "image/png": "[encoded data removed]",
      "text/plain": [
       "<Figure size 720x216 with 2 Axes>"
      ]
     },
     "metadata": {},
     "output_type": "display_data"
    }
   ],
   "source": [
    "plots(\"Glucose\")"
   ]
  },
  {
   "cell_type": "markdown",
   "metadata": {
    "papermill": {
     "duration": 0.047785,
     "end_time": "2020-10-08T15:11:17.205305",
     "exception": false,
     "start_time": "2020-10-08T15:11:17.157520",
     "status": "completed"
    },
    "tags": []
   },
   "source": [
    "Ada beberapa nilai 0 untuk **Glukosa**. Kita dapat menganggap nilai 0 sebagai tempat penampung untuk data yang hilang. Jadi kami menggantinya dengan median."
   ]
  },
  {
   "cell_type": "code",
   "execution_count": 11,
   "metadata": {
    "execution": {
     "iopub.execute_input": "2020-10-08T15:11:17.312064Z",
     "iopub.status.busy": "2020-10-08T15:11:17.311180Z",
     "iopub.status.idle": "2020-10-08T15:11:17.314732Z",
     "shell.execute_reply": "2020-10-08T15:11:17.314087Z"
    },
    "papermill": {
     "duration": 0.06077,
     "end_time": "2020-10-08T15:11:17.314865",
     "exception": false,
     "start_time": "2020-10-08T15:11:17.254095",
     "status": "completed"
    },
    "tags": []
   },
   "outputs": [],
   "source": [
    "med = train_X[\"Glucose\"].median()\n",
    "train_X[\"Glucose\"] = np.where(train_X[\"Glucose\"] == 0, med, train_X[\"Glucose\"])"
   ]
  },
  {
   "cell_type": "markdown",
   "metadata": {
    "papermill": {
     "duration": 0.048014,
     "end_time": "2020-10-08T15:11:17.409687",
     "exception": false,
     "start_time": "2020-10-08T15:11:17.361673",
     "status": "completed"
    },
    "tags": []
   },
   "source": [
    "### Feature 2 - BloodPressure"
   ]
  },
  {
   "cell_type": "code",
   "execution_count": 12,
   "metadata": {
    "execution": {
     "iopub.execute_input": "2020-10-08T15:11:17.520171Z",
     "iopub.status.busy": "2020-10-08T15:11:17.519252Z",
     "iopub.status.idle": "2020-10-08T15:11:18.690780Z",
     "shell.execute_reply": "2020-10-08T15:11:18.689917Z"
    },
    "papermill": {
     "duration": 1.233588,
     "end_time": "2020-10-08T15:11:18.690942",
     "exception": false,
     "start_time": "2020-10-08T15:11:17.457354",
     "status": "completed"
    },
    "tags": []
   },
   "outputs": [
    {
     "data": {
      "image/png": "[encoded data removed]",
      "text/plain": [
       "<Figure size 720x216 with 2 Axes>"
      ]
     },
     "metadata": {},
     "output_type": "display_data"
    }
   ],
   "source": [
    "plots(\"BloodPressure\")"
   ]
  },
  {
   "cell_type": "markdown",
   "metadata": {
    "papermill": {
     "duration": 0.04915,
     "end_time": "2020-10-08T15:11:18.788768",
     "exception": false,
     "start_time": "2020-10-08T15:11:18.739618",
     "status": "completed"
    },
    "tags": []
   },
   "source": [
    "Ada beberapa nilai 0 untuk **BloodPressure** yang tidak mungkin. Jadi kami menggantinya dengan median. Selain itu, kami mengganti nilai yang lebih rendah dari LW (kecuali nol) dengan kuantitasi ke-5 dan mengganti nilai yang lebih besar dari UW dengan kuantitasi ke-95."
   ]
  },
  {
   "cell_type": "code",
   "execution_count": 13,
   "metadata": {
    "execution": {
     "iopub.execute_input": "2020-10-08T15:11:18.902210Z",
     "iopub.status.busy": "2020-10-08T15:11:18.900197Z",
     "iopub.status.idle": "2020-10-08T15:11:18.910236Z",
     "shell.execute_reply": "2020-10-08T15:11:18.910948Z"
    },
    "papermill": {
     "duration": 0.073257,
     "end_time": "2020-10-08T15:11:18.911125",
     "exception": false,
     "start_time": "2020-10-08T15:11:18.837868",
     "status": "completed"
    },
    "tags": []
   },
   "outputs": [],
   "source": [
    "med = train_X[\"BloodPressure\"].median()\n",
    "q5th = train_X[\"BloodPressure\"].quantile(0.05)\n",
    "q95th = train_X[\"BloodPressure\"].quantile(0.95)\n",
    "Q1 = train_X[\"BloodPressure\"].quantile(0.25)\n",
    "Q3 = train_X[\"BloodPressure\"].quantile(0.75)\n",
    "IQR = Q3 - Q1\n",
    "LW = Q1 - 1.5*IQR\n",
    "UW = Q3 + 1.5*IQR\n",
    "\n",
    "train_X[\"BloodPressure\"] = np.where(train_X[\"BloodPressure\"] == 0,\n",
    "                                    med, train_X[\"BloodPressure\"])\n",
    "train_X[\"BloodPressure\"] = np.where(train_X[\"BloodPressure\"] < LW,\n",
    "                                    q5th, train_X[\"BloodPressure\"])\n",
    "train_X[\"BloodPressure\"] = np.where(train_X[\"BloodPressure\"] > UW,\n",
    "                                    q95th, train_X[\"BloodPressure\"])"
   ]
  },
  {
   "cell_type": "markdown",
   "metadata": {
    "papermill": {
     "duration": 0.048793,
     "end_time": "2020-10-08T15:11:19.009759",
     "exception": false,
     "start_time": "2020-10-08T15:11:18.960966",
     "status": "completed"
    },
    "tags": []
   },
   "source": [
    "### Feature 3 - SkinThickness"
   ]
  },
  {
   "cell_type": "code",
   "execution_count": 14,
   "metadata": {
    "execution": {
     "iopub.execute_input": "2020-10-08T15:11:19.129754Z",
     "iopub.status.busy": "2020-10-08T15:11:19.128890Z",
     "iopub.status.idle": "2020-10-08T15:11:20.241064Z",
     "shell.execute_reply": "2020-10-08T15:11:20.240279Z"
    },
    "papermill": {
     "duration": 1.175644,
     "end_time": "2020-10-08T15:11:20.241191",
     "exception": false,
     "start_time": "2020-10-08T15:11:19.065547",
     "status": "completed"
    },
    "tags": []
   },
   "outputs": [
    {
     "data": {
      "image/png": "[encoded data removed]",
      "text/plain": [
       "<Figure size 720x216 with 2 Axes>"
      ]
     },
     "metadata": {},
     "output_type": "display_data"
    }
   ],
   "source": [
    "plots(\"SkinThickness\")"
   ]
  },
  {
   "cell_type": "markdown",
   "metadata": {
    "papermill": {
     "duration": 0.050291,
     "end_time": "2020-10-08T15:11:20.347308",
     "exception": false,
     "start_time": "2020-10-08T15:11:20.297017",
     "status": "completed"
    },
    "tags": []
   },
   "source": [
    "Ada beberapa nilai 0 untuk **SkinThickness** yang tidak mungkin. Jadi kami menggantinya dengan median. Juga, kami mengganti nilai yang lebih besar dari UW dengan kuantitasi ke-95."
   ]
  },
  {
   "cell_type": "code",
   "execution_count": 15,
   "metadata": {
    "execution": {
     "iopub.execute_input": "2020-10-08T15:11:20.460436Z",
     "iopub.status.busy": "2020-10-08T15:11:20.459632Z",
     "iopub.status.idle": "2020-10-08T15:11:20.468905Z",
     "shell.execute_reply": "2020-10-08T15:11:20.467881Z"
    },
    "papermill": {
     "duration": 0.06972,
     "end_time": "2020-10-08T15:11:20.469076",
     "exception": false,
     "start_time": "2020-10-08T15:11:20.399356",
     "status": "completed"
    },
    "tags": []
   },
   "outputs": [],
   "source": [
    "med = train_X[\"SkinThickness\"].median()\n",
    "q95th = train_X[\"SkinThickness\"].quantile(0.95)\n",
    "Q1 = train_X[\"SkinThickness\"].quantile(0.25)\n",
    "Q3 = train_X[\"SkinThickness\"].quantile(0.75)\n",
    "IQR = Q3 - Q1\n",
    "UW = Q3 + 1.5*IQR\n",
    "\n",
    "train_X[\"SkinThickness\"] = np.where(train_X[\"SkinThickness\"] == 0,\n",
    "                                    med, train_X[\"SkinThickness\"])\n",
    "train_X[\"SkinThickness\"] = np.where(train_X[\"SkinThickness\"] > UW,\n",
    "                                    q95th, train_X[\"SkinThickness\"])"
   ]
  },
  {
   "cell_type": "markdown",
   "metadata": {
    "papermill": {
     "duration": 0.049987,
     "end_time": "2020-10-08T15:11:20.571417",
     "exception": false,
     "start_time": "2020-10-08T15:11:20.521430",
     "status": "completed"
    },
    "tags": []
   },
   "source": [
    "### Feature 4 - Insulin"
   ]
  },
  {
   "cell_type": "code",
   "execution_count": 16,
   "metadata": {
    "execution": {
     "iopub.execute_input": "2020-10-08T15:11:20.694495Z",
     "iopub.status.busy": "2020-10-08T15:11:20.693021Z",
     "iopub.status.idle": "2020-10-08T15:11:21.672057Z",
     "shell.execute_reply": "2020-10-08T15:11:21.671227Z"
    },
    "papermill": {
     "duration": 1.051541,
     "end_time": "2020-10-08T15:11:21.672237",
     "exception": false,
     "start_time": "2020-10-08T15:11:20.620696",
     "status": "completed"
    },
    "tags": []
   },
   "outputs": [
    {
     "data": {
      "image/png": "[encoded data removed]",
      "text/plain": [
       "<Figure size 720x216 with 2 Axes>"
      ]
     },
     "metadata": {},
     "output_type": "display_data"
    }
   ],
   "source": [
    "plots(\"Insulin\")"
   ]
  },
  {
   "cell_type": "markdown",
   "metadata": {
    "papermill": {
     "duration": 0.050405,
     "end_time": "2020-10-08T15:11:21.775561",
     "exception": false,
     "start_time": "2020-10-08T15:11:21.725156",
     "status": "completed"
    },
    "tags": []
   },
   "source": [
    "Ada beberapa nilai 0 untuk **Insulin** yang tidak mungkin. Jadi kita ganti dengan median becuse kuantitasi ke-60 adalah 0. Juga, kami mengganti nilai yang lebih besar dari UW dengan kuantitasi ke-95."
   ]
  },
  {
   "cell_type": "code",
   "execution_count": 17,
   "metadata": {
    "execution": {
     "iopub.execute_input": "2020-10-08T15:11:21.892603Z",
     "iopub.status.busy": "2020-10-08T15:11:21.890844Z",
     "iopub.status.idle": "2020-10-08T15:11:21.903190Z",
     "shell.execute_reply": "2020-10-08T15:11:21.902284Z"
    },
    "papermill": {
     "duration": 0.074502,
     "end_time": "2020-10-08T15:11:21.903368",
     "exception": false,
     "start_time": "2020-10-08T15:11:21.828866",
     "status": "completed"
    },
    "tags": []
   },
   "outputs": [],
   "source": [
    "q60th = train_X[\"Insulin\"].quantile(0.60)\n",
    "q95th = train_X[\"Insulin\"].quantile(0.95)\n",
    "Q1 = train_X[\"Insulin\"].quantile(0.25)\n",
    "Q3 = train_X[\"Insulin\"].quantile(0.75)\n",
    "IQR = Q3 - Q1\n",
    "UW = Q3 + 1.5*IQR\n",
    "\n",
    "train_X[\"Insulin\"] = np.where(train_X[\"Insulin\"] == 0,\n",
    "                              q60th, train_X[\"Insulin\"])\n",
    "train_X[\"Insulin\"] = np.where(train_X[\"Insulin\"] > UW,\n",
    "                              q95th, train_X[\"Insulin\"])"
   ]
  },
  {
   "cell_type": "markdown",
   "metadata": {
    "papermill": {
     "duration": 0.055254,
     "end_time": "2020-10-08T15:11:22.012401",
     "exception": false,
     "start_time": "2020-10-08T15:11:21.957147",
     "status": "completed"
    },
    "tags": []
   },
   "source": [
    "### Feature 5 - BMI"
   ]
  },
  {
   "cell_type": "code",
   "execution_count": 18,
   "metadata": {
    "execution": {
     "iopub.execute_input": "2020-10-08T15:11:22.165667Z",
     "iopub.status.busy": "2020-10-08T15:11:22.162141Z",
     "iopub.status.idle": "2020-10-08T15:11:23.623453Z",
     "shell.execute_reply": "2020-10-08T15:11:23.622312Z"
    },
    "papermill": {
     "duration": 1.559342,
     "end_time": "2020-10-08T15:11:23.623665",
     "exception": false,
     "start_time": "2020-10-08T15:11:22.064323",
     "status": "completed"
    },
    "tags": []
   },
   "outputs": [
    {
     "data": {
      "image/png": "[encoded data removed]",
      "text/plain": [
       "<Figure size 720x216 with 2 Axes>"
      ]
     },
     "metadata": {},
     "output_type": "display_data"
    }
   ],
   "source": [
    "plots(\"BMI\")"
   ]
  },
  {
   "cell_type": "markdown",
   "metadata": {
    "papermill": {
     "duration": 0.061753,
     "end_time": "2020-10-08T15:11:23.767908",
     "exception": false,
     "start_time": "2020-10-08T15:11:23.706155",
     "status": "completed"
    },
    "tags": []
   },
   "source": [
    "Ada beberapa nilai 0 untuk **BMI**. Kami menggantinya dengan median. Juga, kami mengganti nilai yang lebih besar dari UW dengan q95th."
   ]
  },
  {
   "cell_type": "code",
   "execution_count": 19,
   "metadata": {
    "execution": {
     "iopub.execute_input": "2020-10-08T15:11:23.901271Z",
     "iopub.status.busy": "2020-10-08T15:11:23.896908Z",
     "iopub.status.idle": "2020-10-08T15:11:23.905278Z",
     "shell.execute_reply": "2020-10-08T15:11:23.904445Z"
    },
    "papermill": {
     "duration": 0.080026,
     "end_time": "2020-10-08T15:11:23.905428",
     "exception": false,
     "start_time": "2020-10-08T15:11:23.825402",
     "status": "completed"
    },
    "tags": []
   },
   "outputs": [],
   "source": [
    "med = train_X[\"BMI\"].median()\n",
    "q95th = train_X[\"BMI\"].quantile(0.95)\n",
    "Q1 = train_X[\"BMI\"].quantile(0.25)\n",
    "Q3 = train_X[\"BMI\"].quantile(0.75)\n",
    "IQR = Q3 - Q1\n",
    "UW = Q3 + 1.5*IQR\n",
    "\n",
    "train_X[\"BMI\"] = np.where(train_X[\"BMI\"] == 0,\n",
    "                          med, train_X[\"BMI\"])\n",
    "train_X[\"BMI\"] = np.where(train_X[\"BMI\"] > UW,\n",
    "                          q95th, train_X[\"BMI\"])"
   ]
  },
  {
   "cell_type": "markdown",
   "metadata": {
    "papermill": {
     "duration": 0.056978,
     "end_time": "2020-10-08T15:11:24.017419",
     "exception": false,
     "start_time": "2020-10-08T15:11:23.960441",
     "status": "completed"
    },
    "tags": []
   },
   "source": [
    "### Feature 6 - DiabetesPedigreeFunction"
   ]
  },
  {
   "cell_type": "code",
   "execution_count": 20,
   "metadata": {
    "execution": {
     "iopub.execute_input": "2020-10-08T15:11:24.162801Z",
     "iopub.status.busy": "2020-10-08T15:11:24.161350Z",
     "iopub.status.idle": "2020-10-08T15:11:25.349951Z",
     "shell.execute_reply": "2020-10-08T15:11:25.350523Z"
    },
    "papermill": {
     "duration": 1.26845,
     "end_time": "2020-10-08T15:11:25.350723",
     "exception": false,
     "start_time": "2020-10-08T15:11:24.082273",
     "status": "completed"
    },
    "tags": []
   },
   "outputs": [
    {
     "data": {
      "image/png": "[encoded data removed]",
      "text/plain": [
       "<Figure size 720x216 with 2 Axes>"
      ]
     },
     "metadata": {},
     "output_type": "display_data"
    }
   ],
   "source": [
    "plots(\"DiabetesPedigreeFunction\")"
   ]
  },
  {
   "cell_type": "markdown",
   "metadata": {
    "papermill": {
     "duration": 0.053343,
     "end_time": "2020-10-08T15:11:25.461890",
     "exception": false,
     "start_time": "2020-10-08T15:11:25.408547",
     "status": "completed"
    },
    "tags": []
   },
   "source": [
    "Kami mengganti nilai yang lebih besar dari UW dengan kuantitasi ke-95."
   ]
  },
  {
   "cell_type": "code",
   "execution_count": 21,
   "metadata": {
    "execution": {
     "iopub.execute_input": "2020-10-08T15:11:25.608108Z",
     "iopub.status.busy": "2020-10-08T15:11:25.606204Z",
     "iopub.status.idle": "2020-10-08T15:11:25.618391Z",
     "shell.execute_reply": "2020-10-08T15:11:25.617565Z"
    },
    "papermill": {
     "duration": 0.095243,
     "end_time": "2020-10-08T15:11:25.618539",
     "exception": false,
     "start_time": "2020-10-08T15:11:25.523296",
     "status": "completed"
    },
    "tags": []
   },
   "outputs": [],
   "source": [
    "q95th = train_X[\"DiabetesPedigreeFunction\"].quantile(0.95)\n",
    "Q1 = train_X[\"DiabetesPedigreeFunction\"].quantile(0.25)\n",
    "Q3 = train_X[\"DiabetesPedigreeFunction\"].quantile(0.75)\n",
    "IQR = Q3 - Q1\n",
    "UW = Q3 + 1.5*IQR\n",
    "\n",
    "train_X[\"DiabetesPedigreeFunction\"] = np.where(\n",
    "                        train_X[\"DiabetesPedigreeFunction\"] > UW,\n",
    "                        q95th, train_X[\"DiabetesPedigreeFunction\"])"
   ]
  },
  {
   "cell_type": "markdown",
   "metadata": {
    "papermill": {
     "duration": 0.063913,
     "end_time": "2020-10-08T15:11:25.741942",
     "exception": false,
     "start_time": "2020-10-08T15:11:25.678029",
     "status": "completed"
    },
    "tags": []
   },
   "source": [
    "### Feature 7 - Age"
   ]
  },
  {
   "cell_type": "code",
   "execution_count": 22,
   "metadata": {
    "execution": {
     "iopub.execute_input": "2020-10-08T15:11:26.049951Z",
     "iopub.status.busy": "2020-10-08T15:11:25.880706Z",
     "iopub.status.idle": "2020-10-08T15:11:27.149738Z",
     "shell.execute_reply": "2020-10-08T15:11:27.148910Z"
    },
    "papermill": {
     "duration": 1.336386,
     "end_time": "2020-10-08T15:11:27.149872",
     "exception": false,
     "start_time": "2020-10-08T15:11:25.813486",
     "status": "completed"
    },
    "tags": []
   },
   "outputs": [
    {
     "data": {
      "image/png": "[encoded data removed]",
      "text/plain": [
       "<Figure size 720x216 with 2 Axes>"
      ]
     },
     "metadata": {},
     "output_type": "display_data"
    }
   ],
   "source": [
    "plots(\"Age\")"
   ]
  },
  {
   "cell_type": "markdown",
   "metadata": {
    "papermill": {
     "duration": 0.059868,
     "end_time": "2020-10-08T15:11:27.267822",
     "exception": false,
     "start_time": "2020-10-08T15:11:27.207954",
     "status": "completed"
    },
    "tags": []
   },
   "source": [
    "Ada beberapa pengukuran di atas UW karena kejadian langka. Kami menggantinya dengan kuantit ke-95."
   ]
  },
  {
   "cell_type": "code",
   "execution_count": 23,
   "metadata": {
    "execution": {
     "iopub.execute_input": "2020-10-08T15:11:27.401357Z",
     "iopub.status.busy": "2020-10-08T15:11:27.400061Z",
     "iopub.status.idle": "2020-10-08T15:11:27.404481Z",
     "shell.execute_reply": "2020-10-08T15:11:27.403791Z"
    },
    "papermill": {
     "duration": 0.076988,
     "end_time": "2020-10-08T15:11:27.404630",
     "exception": false,
     "start_time": "2020-10-08T15:11:27.327642",
     "status": "completed"
    },
    "tags": []
   },
   "outputs": [],
   "source": [
    "q95th = train_X[\"Age\"].quantile(0.95)\n",
    "Q1 = train_X[\"Age\"].quantile(0.25)\n",
    "Q3 = train_X[\"Age\"].quantile(0.75)\n",
    "IQR = Q3 - Q1\n",
    "UW = Q3 + 1.5*IQR\n",
    "\n",
    "train_X[\"Age\"] = np.where(train_X[\"Age\"] > UW,\n",
    "                          q95th, train_X[\"Age\"])"
   ]
  },
  {
   "cell_type": "markdown",
   "metadata": {
    "papermill": {
     "duration": 0.057193,
     "end_time": "2020-10-08T15:11:27.518373",
     "exception": false,
     "start_time": "2020-10-08T15:11:27.461180",
     "status": "completed"
    },
    "tags": []
   },
   "source": [
    "## Standardization\n",
    "\n",
    "Untuk meningkatkan kinerja pembelajaran, fitur input distandarisasi. Rata-rata dan simpangan baku fitur dihitung. Kemudian, rata-rata dikurangi dari setiap sampel fitur dan hasilnya dibagi dengan simpangan baku. Tujuannya adalah untuk mengubah fitur agar memiliki rata-rata 0 dan simpangan baku 1. **StandardScaler** dari **scikit-learn** digunakan. A **StandardScaler** cocok dengan fitur di **train_X**, maka scaler ini mengubah fitur yang sama di **train_X** dan **test_X**."
   ]
  },
  {
   "cell_type": "code",
   "execution_count": 24,
   "metadata": {
    "execution": {
     "iopub.execute_input": "2020-10-08T15:11:27.647901Z",
     "iopub.status.busy": "2020-10-08T15:11:27.646559Z",
     "iopub.status.idle": "2020-10-08T15:11:27.658692Z",
     "shell.execute_reply": "2020-10-08T15:11:27.657957Z"
    },
    "papermill": {
     "duration": 0.076758,
     "end_time": "2020-10-08T15:11:27.658874",
     "exception": false,
     "start_time": "2020-10-08T15:11:27.582116",
     "status": "completed"
    },
    "tags": []
   },
   "outputs": [],
   "source": [
    "feature_names = train_X.columns\n",
    "\n",
    "scaler = StandardScaler()\n",
    "\n",
    "# fit to train_X\n",
    "scaler.fit(train_X)\n",
    "\n",
    "# transform train_X\n",
    "train_X = scaler.transform(train_X)\n",
    "train_X = pd.DataFrame(train_X, columns = feature_names)\n",
    "\n",
    "# transform test_X\n",
    "test_X = scaler.transform(test_X)\n",
    "test_X = pd.DataFrame(test_X, columns = feature_names)"
   ]
  },
  {
   "cell_type": "markdown",
   "metadata": {
    "papermill": {
     "duration": 0.059664,
     "end_time": "2020-10-08T15:11:27.777809",
     "exception": false,
     "start_time": "2020-10-08T15:11:27.718145",
     "status": "completed"
    },
    "tags": []
   },
   "source": [
    "## Correlation Analysis\n",
    "\n",
    "Korelasi linear antara fitur dan juga antara fitur dan output dihitung. ** Pandas corr** fungsi digunakan untuk menghitung matriks korelasi dan ** Seaborn heatmap ** digunakan untuk merencanakan."
   ]
  },
  {
   "cell_type": "code",
   "execution_count": 25,
   "metadata": {
    "execution": {
     "iopub.execute_input": "2020-10-08T15:11:27.919398Z",
     "iopub.status.busy": "2020-10-08T15:11:27.914415Z",
     "iopub.status.idle": "2020-10-08T15:11:28.485213Z",
     "shell.execute_reply": "2020-10-08T15:11:28.485963Z"
    },
    "papermill": {
     "duration": 0.645879,
     "end_time": "2020-10-08T15:11:28.486177",
     "exception": false,
     "start_time": "2020-10-08T15:11:27.840298",
     "status": "completed"
    },
    "tags": []
   },
   "outputs": [
    {
     "data": {
      "image/png": "[encoded data removed]",
      "text/plain": [
       "<Figure size 720x576 with 2 Axes>"
      ]
     },
     "metadata": {},
     "output_type": "display_data"
    }
   ],
   "source": [
    "corr_matrix = pd.concat([train_X, train_Y], axis=1).corr()\n",
    "mask = np.triu(np.ones_like(corr_matrix, dtype=np.bool))\n",
    "\n",
    "plt.figure(figsize=(10,8))\n",
    "sea.heatmap(corr_matrix,annot=True, fmt=\".4f\",\n",
    "            vmin=-1, vmax=1, linewidth = 1,\n",
    "            center=0, mask=mask,cmap=\"RdBu_r\");"
   ]
  },
  {
   "cell_type": "markdown",
   "metadata": {
    "papermill": {
     "duration": 0.061091,
     "end_time": "2020-10-08T15:11:28.608452",
     "exception": false,
     "start_time": "2020-10-08T15:11:28.547361",
     "status": "completed"
    },
    "tags": []
   },
   "source": [
    "Matriks korelasi menunjukkan bahwa ada korelasi ringan antara **SkinThickness-BMI** dan **Age-Pregnancies**. **Outcome** memiliki korelasi linier tertinggi dengan **Glukosa**."
   ]
  },
  {
   "cell_type": "markdown",
   "metadata": {
    "papermill": {
     "duration": 0.06976,
     "end_time": "2020-10-08T15:11:28.745150",
     "exception": false,
     "start_time": "2020-10-08T15:11:28.675390",
     "status": "completed"
    },
    "tags": []
   },
   "source": [
    "## Feature Importance\n",
    "\n",
    "\n",
    "Metode analisis penting fitur dapat dibagi menjadi 3 kategori luas:\n",
    "\n",
    "* Filter method: Menghitung metrik seperti koefisien korelasi antara setiap fitur dan output secara terpisah seperti yang kami lakukan di atas. Dalam metode ini semua fitur dievaluasi secara independen.\n",
    "\n",
    "* Embedded method: Metode seperti regresi logistik atau regresi linier mempelajari koefisien yang mengalikan setiap fitur. Besarnya koefisien dikaitkan dengan pentingnya fitur. Juga, metode berbasis pohon seperti hutan acak atau pohon gradien yang meningkatkan fitur belajar penting selama proses pelatihan. Dalam metode yang disematkan, semua fitur dievaluasi bersama.\n",
    "\n",
    "* Wrapper methods: Pada dasarnya Anda memiliki estimator dan Anda melatih estimator ini dengan subset fitur. Subset yang memberikan skor terbaik dipilih dan fitur lainnya dihilangkan."
   ]
  },
  {
   "cell_type": "code",
   "execution_count": 26,
   "metadata": {
    "execution": {
     "iopub.execute_input": "2020-10-08T15:11:28.880360Z",
     "iopub.status.busy": "2020-10-08T15:11:28.879419Z",
     "iopub.status.idle": "2020-10-08T15:11:28.891688Z",
     "shell.execute_reply": "2020-10-08T15:11:28.892816Z"
    },
    "papermill": {
     "duration": 0.084003,
     "end_time": "2020-10-08T15:11:28.893040",
     "exception": false,
     "start_time": "2020-10-08T15:11:28.809037",
     "status": "completed"
    },
    "tags": []
   },
   "outputs": [
    {
     "data": {
      "text/plain": [
       "array([[ 3.60358322e-01,  1.06754141e+00, -2.50971359e-02,\n",
       "        -9.81326043e-05, -6.49737080e-02,  5.74505582e-01,\n",
       "         3.35113887e-01,  2.71385240e-01]])"
      ]
     },
     "execution_count": 26,
     "metadata": {},
     "output_type": "execute_result"
    }
   ],
   "source": [
    "# logistic regression with l1 penalty - embedded method\n",
    "lr1 = LogisticRegression(random_state=0, penalty=\"l1\",\n",
    "            class_weight=\"balanced\", solver=\"saga\", max_iter=5000)\n",
    "lr1.fit(train_X, train_Y.values.ravel())\n",
    "\n",
    "lr1.coef_"
   ]
  },
  {
   "cell_type": "code",
   "execution_count": 27,
   "metadata": {
    "execution": {
     "iopub.execute_input": "2020-10-08T15:11:29.037526Z",
     "iopub.status.busy": "2020-10-08T15:11:29.036384Z",
     "iopub.status.idle": "2020-10-08T15:11:29.047834Z",
     "shell.execute_reply": "2020-10-08T15:11:29.048640Z"
    },
    "papermill": {
     "duration": 0.092758,
     "end_time": "2020-10-08T15:11:29.048878",
     "exception": false,
     "start_time": "2020-10-08T15:11:28.956120",
     "status": "completed"
    },
    "tags": []
   },
   "outputs": [
    {
     "data": {
      "text/plain": [
       "array([[ 0.36506112,  1.07199682, -0.04073014, -0.01616834, -0.07560637,\n",
       "         0.59537491,  0.34399744,  0.28125417]])"
      ]
     },
     "execution_count": 27,
     "metadata": {},
     "output_type": "execute_result"
    }
   ],
   "source": [
    "# logistic regression with l2 penalty - embedded method\n",
    "lr2 = LogisticRegression(random_state=0, penalty=\"l2\",\n",
    "            class_weight=\"balanced\", solver=\"saga\", max_iter=5000)\n",
    "lr2.fit(train_X, train_Y.values.ravel())\n",
    "\n",
    "lr2.coef_"
   ]
  },
  {
   "cell_type": "code",
   "execution_count": 28,
   "metadata": {
    "execution": {
     "iopub.execute_input": "2020-10-08T15:11:29.205800Z",
     "iopub.status.busy": "2020-10-08T15:11:29.204641Z",
     "iopub.status.idle": "2020-10-08T15:11:29.616437Z",
     "shell.execute_reply": "2020-10-08T15:11:29.617217Z"
    },
    "papermill": {
     "duration": 0.4943,
     "end_time": "2020-10-08T15:11:29.617401",
     "exception": false,
     "start_time": "2020-10-08T15:11:29.123101",
     "status": "completed"
    },
    "tags": []
   },
   "outputs": [
    {
     "data": {
      "image/png": "[encoded data removed]",
      "text/plain": [
       "<Figure size 432x288 with 1 Axes>"
      ]
     },
     "metadata": {},
     "output_type": "display_data"
    }
   ],
   "source": [
    "# xgboost - embedded method\n",
    "gb = xgb.XGBClassifier(booster=\"gbtree\",\n",
    "                      learning_rate=0.15,\n",
    "                      max_depth=4,\n",
    "                      n_estimators=20,\n",
    "                      random_state=0)\n",
    "gb.fit(train_X, train_Y.values.ravel())\n",
    "\n",
    "plot_importance(gb);"
   ]
  },
  {
   "cell_type": "code",
   "execution_count": 29,
   "metadata": {
    "execution": {
     "iopub.execute_input": "2020-10-08T15:11:29.768093Z",
     "iopub.status.busy": "2020-10-08T15:11:29.766943Z",
     "iopub.status.idle": "2020-10-08T15:11:29.784931Z",
     "shell.execute_reply": "2020-10-08T15:11:29.783561Z"
    },
    "papermill": {
     "duration": 0.099872,
     "end_time": "2020-10-08T15:11:29.785147",
     "exception": false,
     "start_time": "2020-10-08T15:11:29.685275",
     "status": "completed"
    },
    "tags": []
   },
   "outputs": [
    {
     "name": "stdout",
     "output_type": "stream",
     "text": [
      "[ True  True  True False  True  True  True  True]\n"
     ]
    }
   ],
   "source": [
    "# recursive feature elimination with logistic regression - wrapper method\n",
    "lr3 = LogisticRegression(random_state=0, penalty=\"l2\",\n",
    "            class_weight=\"balanced\", solver=\"saga\", max_iter=5000)\n",
    "rfe_lr3 = RFE(lr3, n_features_to_select=7)\n",
    "rfe_lr3.fit(train_X, train_Y.values.ravel())\n",
    "\n",
    "print(rfe_lr3.support_)"
   ]
  },
  {
   "cell_type": "markdown",
   "metadata": {
    "papermill": {
     "duration": 0.070753,
     "end_time": "2020-10-08T15:11:29.924244",
     "exception": false,
     "start_time": "2020-10-08T15:11:29.853491",
     "status": "completed"
    },
    "tags": []
   },
   "source": [
    "Tiga analisis pertama menandai BloodPressure, SkinThickness dan Insulin sebagai fitur yang paling tidak penting. Perhatikan bahwa fitur-fitur ini memiliki korelasi yang sangat rendah dengan Outcome. RFE menandai SkinThickness sebagai yang paling tidak penting."
   ]
  },
  {
   "cell_type": "code",
   "execution_count": 30,
   "metadata": {
    "execution": {
     "iopub.execute_input": "2020-10-08T15:11:30.073948Z",
     "iopub.status.busy": "2020-10-08T15:11:30.072852Z",
     "iopub.status.idle": "2020-10-08T15:11:30.076641Z",
     "shell.execute_reply": "2020-10-08T15:11:30.075977Z"
    },
    "papermill": {
     "duration": 0.089752,
     "end_time": "2020-10-08T15:11:30.076802",
     "exception": false,
     "start_time": "2020-10-08T15:11:29.987050",
     "status": "completed"
    },
    "tags": []
   },
   "outputs": [],
   "source": [
    "train_X.drop(\"SkinThickness\", axis=1, inplace=True)\n",
    "test_X.drop(\"SkinThickness\", axis=1, inplace=True)"
   ]
  },
  {
   "cell_type": "markdown",
   "metadata": {
    "papermill": {
     "duration": 0.066218,
     "end_time": "2020-10-08T15:11:30.215968",
     "exception": false,
     "start_time": "2020-10-08T15:11:30.149750",
     "status": "completed"
    },
    "tags": []
   },
   "source": [
    "## Train MLP\n",
    "\n",
    "MLPClassifier dengan single hidden layer yang digunakan untuk prediksi diabetes."
   ]
  },
  {
   "cell_type": "code",
   "execution_count": 31,
   "metadata": {
    "execution": {
     "iopub.execute_input": "2020-10-08T15:11:30.374864Z",
     "iopub.status.busy": "2020-10-08T15:11:30.373697Z",
     "iopub.status.idle": "2020-10-08T15:11:32.089800Z",
     "shell.execute_reply": "2020-10-08T15:11:32.090718Z"
    },
    "papermill": {
     "duration": 1.803482,
     "end_time": "2020-10-08T15:11:32.090948",
     "exception": false,
     "start_time": "2020-10-08T15:11:30.287466",
     "status": "completed"
    },
    "tags": []
   },
   "outputs": [],
   "source": [
    "clf = MLPClassifier(solver=\"adam\", max_iter=5000, activation = \"relu\",\n",
    "                    hidden_layer_sizes = (12),                      \n",
    "                    alpha = 0.01,\n",
    "                    batch_size = 64,\n",
    "                    learning_rate_init = 0.001,\n",
    "                    random_state=2)\n",
    "\n",
    "clf.fit(train_X, train_Y.values.ravel());"
   ]
  },
  {
   "cell_type": "markdown",
   "metadata": {
    "papermill": {
     "duration": 0.07324,
     "end_time": "2020-10-08T15:11:32.237236",
     "exception": false,
     "start_time": "2020-10-08T15:11:32.163996",
     "status": "completed"
    },
    "tags": []
   },
   "source": [
    "## Test MLP"
   ]
  },
  {
   "cell_type": "code",
   "execution_count": 33,
   "metadata": {
    "execution": {
     "iopub.execute_input": "2020-10-08T15:11:32.385719Z",
     "iopub.status.busy": "2020-10-08T15:11:32.384932Z",
     "iopub.status.idle": "2020-10-08T15:11:32.395097Z",
     "shell.execute_reply": "2020-10-08T15:11:32.395946Z"
    },
    "papermill": {
     "duration": 0.0863,
     "end_time": "2020-10-08T15:11:32.396128",
     "exception": false,
     "start_time": "2020-10-08T15:11:32.309828",
     "status": "completed"
    },
    "tags": []
   },
   "outputs": [
    {
     "name": "stdout",
     "output_type": "stream",
     "text": [
      "              precision    recall  f1-score   support\n",
      "\n",
      "Not Diabetes     0.8624    0.9400    0.8995       100\n",
      "    Diabetes     0.8667    0.7222    0.7879        54\n",
      "\n",
      "    accuracy                         0.8636       154\n",
      "   macro avg     0.8645    0.8311    0.8437       154\n",
      "weighted avg     0.8639    0.8636    0.8604       154\n",
      "\n"
     ]
    }
   ],
   "source": [
    "print(classification_report(test_Y, clf.predict(test_X),\n",
    "                            digits = 4,\n",
    "                            target_names=[\"Not Diabetes\",\n",
    "                                          \"Diabetes\"]))"
   ]
  },
  {
   "cell_type": "markdown",
   "metadata": {},
   "source": [
    "Kesimpulan:\n",
    "dapat disimpulkan bahwa presisi orang yang tidak terkena diabetes adalah 0.8624, recall 0.94 f1-score 0,8995 dengan support 100. sedangkan dengan yang terkena diabetes adalah presisi 0.8667, recall 0.7222 f1-score 0.7879 dengan support 54."
   ]
  }
 ],
 "metadata": {
  "kernelspec": {
   "display_name": "Python 3",
   "language": "python",
   "name": "python3"
  },
  "language_info": {
   "codemirror_mode": {
    "name": "ipython",
    "version": 3
   },
   "file_extension": ".py",
   "mimetype": "text/x-python",
   "name": "python",
   "nbconvert_exporter": "python",
   "pygments_lexer": "ipython3",
   "version": "3.7.6"
  },
  "papermill": {
   "duration": 27.993569,
   "end_time": "2020-10-08T15:11:32.569789",
   "environment_variables": {},
   "exception": null,
   "input_path": "__notebook__.ipynb",
   "output_path": "__notebook__.ipynb",
   "parameters": {},
   "start_time": "2020-10-08T15:11:04.576220",
   "version": "2.1.0"
  }
 },
 "nbformat": 4,
 "nbformat_minor": 4
}
