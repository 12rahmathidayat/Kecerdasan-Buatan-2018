{
 "cells": [
  {
   "cell_type": "markdown",
   "metadata": {},
   "source": [
    "### Kecerdasan Buatan\n",
    "<h3> Nama : Yusdiansya Putra </h3>\n",
    "<h3> NIM  : 09011381823078 </h3>\n",
    "<h3> Kelas: SK5A </h3>\n",
    "<h3>Sumber: https://github.com/enesgirgin/ECG-Analysis-with-Artifical-Neural-Network</h3>"
   ]
  },
  {
   "cell_type": "markdown",
   "metadata": {},
   "source": [
    "<center><h2> Deteksi Infark Miokard dengan Artificial Neural Network </h2></center>\n",
    "<h3>Penjelasan</h3>\n",
    "<p>Elektrokardiogram (EKG) adalah alat penting dalam mendiagnosis penyakit kardiovaskular. myocardial infarction (MI) adalah salah satu penyakit kardiovaskular paling umum pada manusia. Diagnosis yang benar sangat penting dalam MI. EKG adalah alat penting untuk menganalisis fungsi sistem kardiovaskular. EKG mencatat aktivitas listrik jantung. Detak jantung normal dan abnormal diproses sebagai sinyal listrik dan ditransfer ke grafik visual. Namun, cukup sulit untuk menafsirkan sinyal EKG secara visual. Dalam makalah ini, kami mengusulkan pendekatan yang secara otomatis dapat mendeteksi MI. Kami menggunakan algoritma jaringan saraf tiruan untuk mendeteksi detak jantung normal dan abnormal. Kami menggunakan dataset PTB Diagnostics dalam proyek ini. Kami mengklasifikasikan data dalam dua keluaran, yaitu MI (abnormal) dan kontrol sehat (normal). Kami mencapai akurasi 91,2% dalam klasifikasi.</p>"
   ]
  },
  {
   "cell_type": "markdown",
   "metadata": {},
   "source": [
    "<h2>Mengimport Library yang dibutuhkan</h2>\n",
    "<h3>Penjelasan</h3>\n",
    "<p>1. Pandas as pd atau singkkatan dari python data analysis library merupakan sebuah open source python package/library dengan lisensi BSD yang menyediakan banyak perkakas untuk kebutuhan data analisis, manipulasi dan pembersihan data. Pandas mendukung pembacaan dan penulisan data dengan media berupa excel spreadsheet, CSV, dan SQL yang kemudian akan dijadikan sebagai objek python dengan rows dan columns yang disebut data frame seperti halnya pada tabel statistik.</p> \n",
    "<p>2. NumPy (Numerical Python) adalah library Python yang fokus pada scientific computing. NumPy memiliki kemampuan untuk membentuk objek N-dimensional array, yang mirip dengan list pada Python. Keunggulan NumPy array dibandingkan dengan list pada Python adalah konsumsi memory yang lebih kecil serta runtime yang lebih cepat. NumPy juga memudahkan kita pada Aljabar Linear, terutama operasi pada Vector (1-d array) dan Matrix (2-d array)</p>\n",
    "<p>3. Matplotlib adalah librari plotting 2D Python yang menghasilkan gambar publikasi bermutu di dalam berbagai format hardcopy dan lingkungan interaktif sepanjang platform.</p>\n",
    "<p>4. from sklearn.model_selection import train_test_split adalah memisahkan array atau matriks menjadi rangkaian acak dan subset pengujian Utilitas cepat yang membungkus validasi input dan berikutnya (ShuffleSplit (). Split (X, y)) dan aplikasi untuk memasukkan data ke dalam satu panggilan untuk memisahkan (dan secara opsional subsampling) data dalam satu jalur.</p>\n"
   ]
  },
  {
   "cell_type": "code",
   "execution_count": 22,
   "metadata": {
    "colab": {},
    "colab_type": "code",
    "id": "b8NgnmTSDTJG"
   },
   "outputs": [],
   "source": [
    "import pandas as pd\n",
    "import numpy as np\n",
    "import matplotlib.pyplot as plt  \n",
    "from sklearn.model_selection import train_test_split"
   ]
  },
  {
   "cell_type": "markdown",
   "metadata": {},
   "source": [
    "<h2> Mengimport Dataset </h2>"
   ]
  },
  {
   "cell_type": "code",
   "execution_count": 23,
   "metadata": {
    "colab": {
     "base_uri": "https://localhost:8080/",
     "height": 235
    },
    "colab_type": "code",
    "executionInfo": {
     "elapsed": 1674,
     "status": "ok",
     "timestamp": 1535297175163,
     "user": {
      "displayName": "Robert John",
      "photoUrl": "//lh6.googleusercontent.com/-TN4Oz1jiPEs/AAAAAAAAAAI/AAAAAAAAHe0/G8yetdDySy8/s50-c-k-no/photo.jpg",
      "userId": "109381795230983416800"
     },
     "user_tz": -60
    },
    "id": "PGnkYLI5DYzB",
    "outputId": "12a1c006-ba9d-4200-e6e2-e12b522ee51f"
   },
   "outputs": [],
   "source": [
    "normal = pd.read_csv('C:/Users/asus/Desktop/SK5A/KECERDASAN BUATAN SK5A/ptbdb_normal.csv')\n",
    "abnormal = pd.read_csv('C:/Users/asus/Desktop/SK5A/KECERDASAN BUATAN SK5A/ptbdb_abnormal.csv')"
   ]
  },
  {
   "cell_type": "markdown",
   "metadata": {},
   "source": [
    "## Menampilkan Isi dari Dataset"
   ]
  },
  {
   "cell_type": "code",
   "execution_count": 24,
   "metadata": {
    "scrolled": true
   },
   "outputs": [
    {
     "data": {
      "text/html": [
       "<div>\n",
       "<style scoped>\n",
       "    .dataframe tbody tr th:only-of-type {\n",
       "        vertical-align: middle;\n",
       "    }\n",
       "\n",
       "    .dataframe tbody tr th {\n",
       "        vertical-align: top;\n",
       "    }\n",
       "\n",
       "    .dataframe thead th {\n",
       "        text-align: right;\n",
       "    }\n",
       "</style>\n",
       "<table border=\"1\" class=\"dataframe\">\n",
       "  <thead>\n",
       "    <tr style=\"text-align: right;\">\n",
       "      <th></th>\n",
       "      <th>time0</th>\n",
       "      <th>time1</th>\n",
       "      <th>time2</th>\n",
       "      <th>time3</th>\n",
       "      <th>time4</th>\n",
       "      <th>time5</th>\n",
       "      <th>time6</th>\n",
       "      <th>time7</th>\n",
       "      <th>time8</th>\n",
       "      <th>time9</th>\n",
       "      <th>...</th>\n",
       "      <th>time178</th>\n",
       "      <th>time179</th>\n",
       "      <th>time180</th>\n",
       "      <th>time181</th>\n",
       "      <th>time182</th>\n",
       "      <th>time183</th>\n",
       "      <th>time184</th>\n",
       "      <th>time185</th>\n",
       "      <th>time186</th>\n",
       "      <th>Label</th>\n",
       "    </tr>\n",
       "  </thead>\n",
       "  <tbody>\n",
       "    <tr>\n",
       "      <th>0</th>\n",
       "      <td>1.000000</td>\n",
       "      <td>0.606941</td>\n",
       "      <td>0.384181</td>\n",
       "      <td>0.254237</td>\n",
       "      <td>0.223567</td>\n",
       "      <td>0.276836</td>\n",
       "      <td>0.253430</td>\n",
       "      <td>0.184826</td>\n",
       "      <td>0.153349</td>\n",
       "      <td>0.121872</td>\n",
       "      <td>...</td>\n",
       "      <td>0.0</td>\n",
       "      <td>0.0</td>\n",
       "      <td>0.0</td>\n",
       "      <td>0.0</td>\n",
       "      <td>0.0</td>\n",
       "      <td>0.0</td>\n",
       "      <td>0.0</td>\n",
       "      <td>0.0</td>\n",
       "      <td>0.0</td>\n",
       "      <td>1.0</td>\n",
       "    </tr>\n",
       "    <tr>\n",
       "      <th>1</th>\n",
       "      <td>1.000000</td>\n",
       "      <td>0.951613</td>\n",
       "      <td>0.923963</td>\n",
       "      <td>0.853303</td>\n",
       "      <td>0.791859</td>\n",
       "      <td>0.734255</td>\n",
       "      <td>0.672043</td>\n",
       "      <td>0.685100</td>\n",
       "      <td>0.670507</td>\n",
       "      <td>0.667435</td>\n",
       "      <td>...</td>\n",
       "      <td>0.0</td>\n",
       "      <td>0.0</td>\n",
       "      <td>0.0</td>\n",
       "      <td>0.0</td>\n",
       "      <td>0.0</td>\n",
       "      <td>0.0</td>\n",
       "      <td>0.0</td>\n",
       "      <td>0.0</td>\n",
       "      <td>0.0</td>\n",
       "      <td>1.0</td>\n",
       "    </tr>\n",
       "    <tr>\n",
       "      <th>2</th>\n",
       "      <td>0.977819</td>\n",
       "      <td>0.899261</td>\n",
       "      <td>0.230129</td>\n",
       "      <td>0.032348</td>\n",
       "      <td>0.142329</td>\n",
       "      <td>0.223660</td>\n",
       "      <td>0.328096</td>\n",
       "      <td>0.367837</td>\n",
       "      <td>0.381701</td>\n",
       "      <td>0.389094</td>\n",
       "      <td>...</td>\n",
       "      <td>0.0</td>\n",
       "      <td>0.0</td>\n",
       "      <td>0.0</td>\n",
       "      <td>0.0</td>\n",
       "      <td>0.0</td>\n",
       "      <td>0.0</td>\n",
       "      <td>0.0</td>\n",
       "      <td>0.0</td>\n",
       "      <td>0.0</td>\n",
       "      <td>1.0</td>\n",
       "    </tr>\n",
       "    <tr>\n",
       "      <th>3</th>\n",
       "      <td>0.935618</td>\n",
       "      <td>0.801661</td>\n",
       "      <td>0.805815</td>\n",
       "      <td>1.000000</td>\n",
       "      <td>0.722741</td>\n",
       "      <td>0.480789</td>\n",
       "      <td>0.454829</td>\n",
       "      <td>0.319834</td>\n",
       "      <td>0.266874</td>\n",
       "      <td>0.308411</td>\n",
       "      <td>...</td>\n",
       "      <td>0.0</td>\n",
       "      <td>0.0</td>\n",
       "      <td>0.0</td>\n",
       "      <td>0.0</td>\n",
       "      <td>0.0</td>\n",
       "      <td>0.0</td>\n",
       "      <td>0.0</td>\n",
       "      <td>0.0</td>\n",
       "      <td>0.0</td>\n",
       "      <td>1.0</td>\n",
       "    </tr>\n",
       "    <tr>\n",
       "      <th>4</th>\n",
       "      <td>0.925265</td>\n",
       "      <td>0.433352</td>\n",
       "      <td>0.073620</td>\n",
       "      <td>0.079197</td>\n",
       "      <td>0.136643</td>\n",
       "      <td>0.182934</td>\n",
       "      <td>0.182934</td>\n",
       "      <td>0.182376</td>\n",
       "      <td>0.196877</td>\n",
       "      <td>0.203569</td>\n",
       "      <td>...</td>\n",
       "      <td>0.0</td>\n",
       "      <td>0.0</td>\n",
       "      <td>0.0</td>\n",
       "      <td>0.0</td>\n",
       "      <td>0.0</td>\n",
       "      <td>0.0</td>\n",
       "      <td>0.0</td>\n",
       "      <td>0.0</td>\n",
       "      <td>0.0</td>\n",
       "      <td>1.0</td>\n",
       "    </tr>\n",
       "  </tbody>\n",
       "</table>\n",
       "<p>5 rows × 188 columns</p>\n",
       "</div>"
      ],
      "text/plain": [
       "      time0     time1     time2     time3     time4     time5     time6  \\\n",
       "0  1.000000  0.606941  0.384181  0.254237  0.223567  0.276836  0.253430   \n",
       "1  1.000000  0.951613  0.923963  0.853303  0.791859  0.734255  0.672043   \n",
       "2  0.977819  0.899261  0.230129  0.032348  0.142329  0.223660  0.328096   \n",
       "3  0.935618  0.801661  0.805815  1.000000  0.722741  0.480789  0.454829   \n",
       "4  0.925265  0.433352  0.073620  0.079197  0.136643  0.182934  0.182934   \n",
       "\n",
       "      time7     time8     time9  ...  time178  time179  time180  time181  \\\n",
       "0  0.184826  0.153349  0.121872  ...      0.0      0.0      0.0      0.0   \n",
       "1  0.685100  0.670507  0.667435  ...      0.0      0.0      0.0      0.0   \n",
       "2  0.367837  0.381701  0.389094  ...      0.0      0.0      0.0      0.0   \n",
       "3  0.319834  0.266874  0.308411  ...      0.0      0.0      0.0      0.0   \n",
       "4  0.182376  0.196877  0.203569  ...      0.0      0.0      0.0      0.0   \n",
       "\n",
       "   time182  time183  time184  time185  time186  Label  \n",
       "0      0.0      0.0      0.0      0.0      0.0    1.0  \n",
       "1      0.0      0.0      0.0      0.0      0.0    1.0  \n",
       "2      0.0      0.0      0.0      0.0      0.0    1.0  \n",
       "3      0.0      0.0      0.0      0.0      0.0    1.0  \n",
       "4      0.0      0.0      0.0      0.0      0.0    1.0  \n",
       "\n",
       "[5 rows x 188 columns]"
      ]
     },
     "execution_count": 24,
     "metadata": {},
     "output_type": "execute_result"
    }
   ],
   "source": [
    "new_column_name = []\n",
    "for num in range(abnormal.shape[1]-1):\n",
    "    tem = 'time' + str(num)\n",
    "    new_column_name.append(tem)\n",
    "new_column_name.append(\"Label\")    #label = 1 for abnormal\n",
    "abnormal.columns = new_column_name    \n",
    "\n",
    "\n",
    "column_name = []\n",
    "for num in range(normal.shape[1]-1):\n",
    "    tem = 'time' + str(num)\n",
    "    column_name.append(tem)\n",
    "column_name.append(\"Label\")    #label = 0 for normal\n",
    "normal.columns = column_name\n",
    "\n",
    "abnormal.head()"
   ]
  },
  {
   "cell_type": "markdown",
   "metadata": {},
   "source": [
    "### Pandas Concat()\n",
    "<p>digunakan untuk menggabungkan objek pandas seperti DataFrames dan Series.</p>"
   ]
  },
  {
   "cell_type": "code",
   "execution_count": 25,
   "metadata": {
    "scrolled": false
   },
   "outputs": [],
   "source": [
    "data=[normal,abnormal]\n",
    "data=pd.concat(data)"
   ]
  },
  {
   "cell_type": "code",
   "execution_count": 26,
   "metadata": {},
   "outputs": [
    {
     "data": {
      "text/plain": [
       "1.0    10505\n",
       "0.0     4045\n",
       "Name: Label, dtype: int64"
      ]
     },
     "execution_count": 26,
     "metadata": {},
     "output_type": "execute_result"
    }
   ],
   "source": [
    "data[\"Label\"].value_counts()   #we have 10505 abnormal(1) beat and 4045 normal(0) beat."
   ]
  },
  {
   "cell_type": "markdown",
   "metadata": {},
   "source": [
    "### Plot nilai dataset\n",
    "<p>Kami juga dapat memplot kerangka data Pandas. Ini secara implisit menggunakan matplotlib.pyplot.</p>\n",
    "<p>Pengindeks iloc untuk Pandas Dataframe digunakan untuk pengindeksan / pemilihan berbasis lokasi integer berdasarkan posisi. Sintaks pengindeks iloc adalah data.iloc [<pemilihan baris>, <pemilihan kolom>], yang pasti akan menjadi sumber kebingungan bagi pengguna R. \"Iloc\" di pandas digunakan untuk memilih baris dan kolom berdasarkan nomor, sesuai urutan kemunculannya dalam bingkai data. Anda dapat membayangkan bahwa setiap baris memiliki nomor baris dari 0 hingga total baris (data.shape [0]) dan iloc [] memungkinkan pemilihan berdasarkan nomor-nomor ini. Hal yang sama berlaku untuk kolom (mulai dari 0 hingga data.shape [1])</p>"
   ]
  },
  {
   "cell_type": "code",
   "execution_count": 27,
   "metadata": {
    "scrolled": false
   },
   "outputs": [
    {
     "name": "stdout",
     "output_type": "stream",
     "text": [
      "0.0\n"
     ]
    },
    {
     "data": {
      "text/plain": [
       "[<matplotlib.lines.Line2D at 0x1a603bb48d0>]"
      ]
     },
     "execution_count": 27,
     "metadata": {},
     "output_type": "execute_result"
    },
    {
     "data": {
      "image/png": "[encoded data removed]",
      "text/plain": [
       "<Figure size 1440x432 with 1 Axes>"
      ]
     },
     "metadata": {},
     "output_type": "display_data"
    }
   ],
   "source": [
    "x = np.arange(0, 186)*8/1000    #to second\n",
    "\n",
    "print(data.iloc[0,187]) #normal sample\n",
    "plt.figure(figsize=(20,6))\n",
    "plt.title(\"Normal beat\", fontsize=20)\n",
    "plt.ylabel(\"Amplitude\", fontsize=15)\n",
    "plt.xlabel(\"Time (ms)\", fontsize=15)\n",
    "plt.plot(x,data.iloc[0,:186]) \n",
    "\n",
    "#normal beat sample\n"
   ]
  },
  {
   "cell_type": "code",
   "execution_count": 28,
   "metadata": {
    "scrolled": false
   },
   "outputs": [
    {
     "name": "stdout",
     "output_type": "stream",
     "text": [
      "1.0\n"
     ]
    },
    {
     "data": {
      "text/plain": [
       "[<matplotlib.lines.Line2D at 0x1a603e7ef28>]"
      ]
     },
     "execution_count": 28,
     "metadata": {},
     "output_type": "execute_result"
    },
    {
     "data": {
      "image/png": "[encoded data removed]",
      "text/plain": [
       "<Figure size 1440x432 with 1 Axes>"
      ]
     },
     "metadata": {},
     "output_type": "display_data"
    }
   ],
   "source": [
    "x = np.arange(0, 186)*8/1000   #to second\n",
    "\n",
    "print(data.iloc[10000,187]) #abnormal sample\n",
    "plt.figure(figsize=(20,6))\n",
    "plt.title(\"Abnormal beat\", fontsize=20)\n",
    "plt.ylabel(\"Amplitude\", fontsize=15)\n",
    "plt.xlabel(\"Time (ms)\", fontsize=15)\n",
    "plt.plot(x,data.iloc[10000,:186]) \n",
    "\n",
    "#abnormal sample"
   ]
  },
  {
   "cell_type": "markdown",
   "metadata": {},
   "source": [
    "### Grouping dan Sorting\n",
    "<p>Pada bagian grouping, Pandas juga memfasilitasi grouping data kita dapat melakukan pengelompokan data berdasarkan nama tertentu dan menghitung statistiknya.Sedangkan sorting, Pandas dapat melakukan sorting data dengan memanfaatkan function .sort_values().</p>"
   ]
  },
  {
   "cell_type": "code",
   "execution_count": 29,
   "metadata": {},
   "outputs": [
    {
     "data": {
      "image/png": "[encoded data removed]",
      "text/plain": [
       "<Figure size 1440x432 with 1 Axes>"
      ]
     },
     "metadata": {},
     "output_type": "display_data"
    }
   ],
   "source": [
    "M = data.values\n",
    "X = M[:, :-1]                    #all features\n",
    "y = M[:, -1].astype(int)         #label\n",
    "x = np.arange(0, 187)*8/1000     #to second\n",
    "\n",
    "#grouping and sorting\n",
    "C0 = np.argwhere(y == 0).flatten()\n",
    "C1 = np.argwhere(y == 1).flatten()\n",
    "\n",
    "plt.figure(figsize=(20,6))\n",
    "plt.plot(x, X[C0, :][0], label=\"Normal\")    #one sample normal\n",
    "plt.plot(x, X[C1, :][0], label=\"Abnormal\")  #one sample abnormal\n",
    "plt.legend()\n",
    "plt.title(\"1-beat ECG\", fontsize=20)\n",
    "plt.ylabel(\"Amplitude\", fontsize=15)\n",
    "plt.xlabel(\"Time (ms)\", fontsize=15)\n",
    "plt.show()"
   ]
  },
  {
   "cell_type": "code",
   "execution_count": 30,
   "metadata": {},
   "outputs": [
    {
     "data": {
      "text/html": [
       "<div>\n",
       "<style scoped>\n",
       "    .dataframe tbody tr th:only-of-type {\n",
       "        vertical-align: middle;\n",
       "    }\n",
       "\n",
       "    .dataframe tbody tr th {\n",
       "        vertical-align: top;\n",
       "    }\n",
       "\n",
       "    .dataframe thead th {\n",
       "        text-align: right;\n",
       "    }\n",
       "</style>\n",
       "<table border=\"1\" class=\"dataframe\">\n",
       "  <thead>\n",
       "    <tr style=\"text-align: right;\">\n",
       "      <th></th>\n",
       "      <th>time0</th>\n",
       "      <th>time1</th>\n",
       "      <th>time2</th>\n",
       "      <th>time3</th>\n",
       "      <th>time4</th>\n",
       "      <th>time5</th>\n",
       "      <th>time6</th>\n",
       "      <th>time7</th>\n",
       "      <th>time8</th>\n",
       "      <th>time9</th>\n",
       "      <th>...</th>\n",
       "      <th>time178</th>\n",
       "      <th>time179</th>\n",
       "      <th>time180</th>\n",
       "      <th>time181</th>\n",
       "      <th>time182</th>\n",
       "      <th>time183</th>\n",
       "      <th>time184</th>\n",
       "      <th>time185</th>\n",
       "      <th>time186</th>\n",
       "      <th>Label</th>\n",
       "    </tr>\n",
       "  </thead>\n",
       "  <tbody>\n",
       "    <tr>\n",
       "      <th>8002</th>\n",
       "      <td>0.936236</td>\n",
       "      <td>0.825298</td>\n",
       "      <td>0.489373</td>\n",
       "      <td>0.423017</td>\n",
       "      <td>0.327631</td>\n",
       "      <td>0.342146</td>\n",
       "      <td>0.314152</td>\n",
       "      <td>0.332815</td>\n",
       "      <td>0.322965</td>\n",
       "      <td>0.327112</td>\n",
       "      <td>...</td>\n",
       "      <td>0.0</td>\n",
       "      <td>0.0</td>\n",
       "      <td>0.0</td>\n",
       "      <td>0.0</td>\n",
       "      <td>0.0</td>\n",
       "      <td>0.0</td>\n",
       "      <td>0.0</td>\n",
       "      <td>0.0</td>\n",
       "      <td>0.0</td>\n",
       "      <td>1.0</td>\n",
       "    </tr>\n",
       "    <tr>\n",
       "      <th>3982</th>\n",
       "      <td>0.970548</td>\n",
       "      <td>0.536585</td>\n",
       "      <td>0.223194</td>\n",
       "      <td>0.082835</td>\n",
       "      <td>0.000000</td>\n",
       "      <td>0.028992</td>\n",
       "      <td>0.058445</td>\n",
       "      <td>0.053843</td>\n",
       "      <td>0.055683</td>\n",
       "      <td>0.061666</td>\n",
       "      <td>...</td>\n",
       "      <td>0.0</td>\n",
       "      <td>0.0</td>\n",
       "      <td>0.0</td>\n",
       "      <td>0.0</td>\n",
       "      <td>0.0</td>\n",
       "      <td>0.0</td>\n",
       "      <td>0.0</td>\n",
       "      <td>0.0</td>\n",
       "      <td>0.0</td>\n",
       "      <td>1.0</td>\n",
       "    </tr>\n",
       "    <tr>\n",
       "      <th>7202</th>\n",
       "      <td>0.965948</td>\n",
       "      <td>0.828491</td>\n",
       "      <td>0.646673</td>\n",
       "      <td>0.434864</td>\n",
       "      <td>0.318963</td>\n",
       "      <td>0.169634</td>\n",
       "      <td>0.081537</td>\n",
       "      <td>0.079038</td>\n",
       "      <td>0.064667</td>\n",
       "      <td>0.077163</td>\n",
       "      <td>...</td>\n",
       "      <td>0.0</td>\n",
       "      <td>0.0</td>\n",
       "      <td>0.0</td>\n",
       "      <td>0.0</td>\n",
       "      <td>0.0</td>\n",
       "      <td>0.0</td>\n",
       "      <td>0.0</td>\n",
       "      <td>0.0</td>\n",
       "      <td>0.0</td>\n",
       "      <td>1.0</td>\n",
       "    </tr>\n",
       "    <tr>\n",
       "      <th>1977</th>\n",
       "      <td>0.983407</td>\n",
       "      <td>0.885926</td>\n",
       "      <td>0.468444</td>\n",
       "      <td>0.304000</td>\n",
       "      <td>0.202963</td>\n",
       "      <td>0.187259</td>\n",
       "      <td>0.146074</td>\n",
       "      <td>0.128296</td>\n",
       "      <td>0.116444</td>\n",
       "      <td>0.112296</td>\n",
       "      <td>...</td>\n",
       "      <td>0.0</td>\n",
       "      <td>0.0</td>\n",
       "      <td>0.0</td>\n",
       "      <td>0.0</td>\n",
       "      <td>0.0</td>\n",
       "      <td>0.0</td>\n",
       "      <td>0.0</td>\n",
       "      <td>0.0</td>\n",
       "      <td>0.0</td>\n",
       "      <td>0.0</td>\n",
       "    </tr>\n",
       "    <tr>\n",
       "      <th>2685</th>\n",
       "      <td>0.969914</td>\n",
       "      <td>0.919054</td>\n",
       "      <td>0.803009</td>\n",
       "      <td>0.660458</td>\n",
       "      <td>0.395415</td>\n",
       "      <td>0.143266</td>\n",
       "      <td>0.074499</td>\n",
       "      <td>0.000000</td>\n",
       "      <td>0.148997</td>\n",
       "      <td>0.210602</td>\n",
       "      <td>...</td>\n",
       "      <td>0.0</td>\n",
       "      <td>0.0</td>\n",
       "      <td>0.0</td>\n",
       "      <td>0.0</td>\n",
       "      <td>0.0</td>\n",
       "      <td>0.0</td>\n",
       "      <td>0.0</td>\n",
       "      <td>0.0</td>\n",
       "      <td>0.0</td>\n",
       "      <td>1.0</td>\n",
       "    </tr>\n",
       "  </tbody>\n",
       "</table>\n",
       "<p>5 rows × 188 columns</p>\n",
       "</div>"
      ],
      "text/plain": [
       "         time0     time1     time2     time3     time4     time5     time6  \\\n",
       "8002  0.936236  0.825298  0.489373  0.423017  0.327631  0.342146  0.314152   \n",
       "3982  0.970548  0.536585  0.223194  0.082835  0.000000  0.028992  0.058445   \n",
       "7202  0.965948  0.828491  0.646673  0.434864  0.318963  0.169634  0.081537   \n",
       "1977  0.983407  0.885926  0.468444  0.304000  0.202963  0.187259  0.146074   \n",
       "2685  0.969914  0.919054  0.803009  0.660458  0.395415  0.143266  0.074499   \n",
       "\n",
       "         time7     time8     time9  ...  time178  time179  time180  time181  \\\n",
       "8002  0.332815  0.322965  0.327112  ...      0.0      0.0      0.0      0.0   \n",
       "3982  0.053843  0.055683  0.061666  ...      0.0      0.0      0.0      0.0   \n",
       "7202  0.079038  0.064667  0.077163  ...      0.0      0.0      0.0      0.0   \n",
       "1977  0.128296  0.116444  0.112296  ...      0.0      0.0      0.0      0.0   \n",
       "2685  0.000000  0.148997  0.210602  ...      0.0      0.0      0.0      0.0   \n",
       "\n",
       "      time182  time183  time184  time185  time186  Label  \n",
       "8002      0.0      0.0      0.0      0.0      0.0    1.0  \n",
       "3982      0.0      0.0      0.0      0.0      0.0    1.0  \n",
       "7202      0.0      0.0      0.0      0.0      0.0    1.0  \n",
       "1977      0.0      0.0      0.0      0.0      0.0    0.0  \n",
       "2685      0.0      0.0      0.0      0.0      0.0    1.0  \n",
       "\n",
       "[5 rows x 188 columns]"
      ]
     },
     "execution_count": 30,
     "metadata": {},
     "output_type": "execute_result"
    }
   ],
   "source": [
    "from sklearn.utils import shuffle\n",
    "data=shuffle(data)                 #shuffle the data to for training\n",
    "data.head()"
   ]
  },
  {
   "cell_type": "markdown",
   "metadata": {},
   "source": [
    "### Membagi menjadi training set dan test set\n",
    "<p> -Training set adalah bagian dataset yang kita latih untuk membuat prediksi atau menjalankan fungsi dari sebuah algoritma ML. Kita memberikan petunjuk melalui algoritma agar mesin yang kita latih bisa mencari korelasinya sendiri atau belajar pola dari data yang diberikan.</P>\n",
    "<p> -Test set adalah bagian dataset yang kita tes untuk melihat keakuratannya, atau dengan kata lain melihat performanya.</P>\n",
    "<p> -Proses import train_test_split. Library train_test_split ini adalah sublibrary dari modul model_selection di library sklearn, sehingga penulisan untuk mengimportnya seperti itu (from.. import..)</p>\n",
    "<p> -Proses pendefinisian X_train sebagai data X yang ingin kita latih (train), X_test sebagai data X yang ingin kita tes, y_train adalah variabel dependen yang dilatih, dan y_test merupakan variabel dependen yang diuji. Kita mendefinisikan keempat variabel ini secara bersamaan. Pada perintah train_test_split diisi dengan parameter arrays X,y yang menunjukkan arrays yang dipakai adalah X sebagai variabel independen dan y sebagai variabel dependen. Parameter selanjutnya adalah test_size sebesar 20%. Biasanya sebagai rule of thumb (aturan umum) proporsi test set sebesar 20% dan train set 80%. Namun ada juga yang menentukan 25:75, terserah Anda ingin yang mana. Parameter lainnya adalah random_state yang merupakan random number generator (RNG).</p>"
   ]
  },
  {
   "cell_type": "code",
   "execution_count": 31,
   "metadata": {},
   "outputs": [],
   "source": [
    "y = data[\"Label\"].values   #our labels\n",
    "\n",
    "data.drop([\"Label\"],axis=1,inplace=True)  \n",
    "\n",
    "x = data  #features\n",
    "\n",
    "x_train, x_test, y_train, y_test = train_test_split(x, y, test_size=0.2, random_state=42)   \n"
   ]
  },
  {
   "cell_type": "code",
   "execution_count": 32,
   "metadata": {},
   "outputs": [
    {
     "name": "stdout",
     "output_type": "stream",
     "text": [
      "8395\n",
      "3245\n",
      "2110\n",
      "800\n"
     ]
    }
   ],
   "source": [
    "print(np.count_nonzero(y_train == 1))\n",
    "print(np.count_nonzero(y_train == 0))\n",
    "print(np.count_nonzero(y_test == 1))\n",
    "print(np.count_nonzero(y_test == 0))"
   ]
  },
  {
   "cell_type": "code",
   "execution_count": 33,
   "metadata": {},
   "outputs": [],
   "source": [
    "x_train = x_train.values.T\n",
    "x_test = x_test.values.T\n",
    "\n",
    "y_train = y_train.reshape(-1,1).T\n",
    "y_test = y_test.reshape(-1,1).T"
   ]
  },
  {
   "cell_type": "markdown",
   "metadata": {},
   "source": [
    "## Inisialisasi Parameter\n",
    "<p>Model Parameter Initialization adalah inisialisasi nilai awal parameter untuk model, yaitu weights dan biases.Inisialisasi nilai parameter sangat penting, karena inisialisasi yang asal akan menghasilkan model yang tidak optimal.Pada lesson sebelumnya, cara inisialisasi yang dilakukan hanya dengan menentukan nilai random dalam rentang -0.1 s/d 0.1 menggunakan numpy.random.uniform function. Setiap nilai dalam rentang diatas memiliki probabilitas yang sama untuk dipilih.Pendekatan kedua adalah menggunakan normal initializer, dengan memilih nilai random yang kecil dalam rentang -0.1 s/d 0.1 dalam zero mean normal distribution.Karena distribusi normal, nilai yang terpilih kemungkinan besar dekat dengan nilai 0.Kedua pendekatan diatas dapat menimbulkan masalah dalam deep learning yang menggunakan activation function. Seperti yang kita ketahui, activation function bertujuan menambahkan non-linearity pada model yang kita training.Activation function dalam hal ini kita gunakan sigmoid activation function, akan menerima input dari hasil perhitungan linear dari layer sebelumnya.Jika nilai weights terlalu rendah, maka nilai akan jatuh ditengah-tengah. Pada area ini, sigmoid hampir linear. Begitu juga jika terlalu besar, nilai akan jatuh diarea atas, dimana sigmoid hampir linear juga. Jadi tujuan kita menambahkan non-linearity pada model tidak tercapai. (menambahkan non-linearity merupakan salah satu tujuan dari deep-net).</p>\n",
    "\n",
    "#### ANN adalah sekumpulan neuran yang terorganisir dalam lapisan-lapisan\n",
    "<p>-input layer : lapisan yang membawa data masuk kedalam system untuk kemudian di proses pada layer selanjutnya.</p>\n",
    "<p>-hidden layer: lapisan antara input layer dan output layer, dimana artificial neuron yang memiliki sekumpulan input pembobot ‘weight’ dan prosedur untuk menghasilkan output neuron melalui activation function.</p>\n",
    "<p>-output layer: lapisan terakhir dari neuron yang menghasilkan output system.</p>"
   ]
  },
  {
   "cell_type": "code",
   "execution_count": 34,
   "metadata": {
    "colab": {},
    "colab_type": "code",
    "id": "X_2J1JdNEkCG"
   },
   "outputs": [],
   "source": [
    "def initialize_param(layers_with_nodes,in_data,out_data):\n",
    "    \n",
    "    #input layer's values.\n",
    "    \n",
    "    layer_amount = len(layers_with_nodes)\n",
    "    \n",
    "    parameters = {}\n",
    "    parameters[\"weight1\"] = np.random.randn(layers_with_nodes[0],in_data.shape[0]) * 0.1\n",
    "    parameters[\"bias1\"] = np.zeros((layers_with_nodes[0],1))\n",
    "    \n",
    "    print(\"\" + str(layer_amount+2) + \" layers. (\" + str(layer_amount) + \" hidden layer)\")\n",
    "\n",
    "    #the hidden layer's values.\n",
    "    \n",
    "    for i in range(layer_amount-1):\n",
    "        #print(i+2)\n",
    "        w = \"weight\" + str(i+2)\n",
    "        b = \"bias\" + str(i+2)\n",
    "        parameters[w] = np.random.randn(layers_with_nodes[i+1],layers_with_nodes[i]) * 0.1\n",
    "        parameters[b] = np.zeros((layers_with_nodes[i+1],1))\n",
    "    \n",
    "    #output layer's values.\n",
    "    \n",
    "    lastw = \"weight\" + str(layer_amount+1)\n",
    "    lastb = \"bias\" + str(layer_amount+1)\n",
    "    parameters[lastw] = np.random.randn(out_data.shape[0],layers_with_nodes[layer_amount-1]) * 0.1\n",
    "    parameters[lastb] = np.zeros((out_data.shape[0],1))\n",
    "    \n",
    "    return parameters, (layer_amount+1)"
   ]
  },
  {
   "cell_type": "markdown",
   "metadata": {},
   "source": [
    "### Sigmoid\n",
    "<p>Kasus khusus dari fungsi sigmoid termasuk kurva Gompertz (digunakan dalam sistem pemodelan yang memenuhi nilai x yang besar) dan kurva ogee (digunakan pada spillway beberapa bendungan ). Fungsi sigmoid memiliki domain semua bilangan real , dengan nilai balik (respon) yang umumnya meningkat secara monoton tetapi bisa juga menurun. Fungsi sigmoid paling sering menunjukkan nilai kembali (sumbu y) dalam rentang 0 hingga 1. Rentang lain yang umum digunakan adalah dari −1 hingga 1.\n",
    "Berbagai macam fungsi sigmoid termasuk logistik dan tangen hiperbolik fungsi telah digunakan sebagai fungsi aktivasi dari neuron buatan . Kurva sigmoid juga umum dalam statistik sebagai fungsi distribusi kumulatif (yang berubah dari 0 ke 1), seperti integral dari kepadatan logistik , kepadatan normal , dan fungsi kepadatan probabilitas t Student . Fungsi sigmoid logistik dapat dibalik, dan kebalikannya adalah fungsi logit.</p>\n",
    "\n",
    "<p>Fungsi Sigmoid yang dirumuskan sebagai berikut:</p>\n",
    "\n",
    "<p>O_j(X,W) = 1 / (1 + exp(A_j(X,W)))</p>\n",
    "\n",
    "<p>dimana:</p>\n",
    "<p>O_j(X,W) : output ke j</p>\n",
    "\n",
    "### Loss Function\n",
    "<p>Semakin rendah loss, semakin baik modelnya (kecuali jika model tersebut terlalu pas dengan data pelatihan). Loss dihitung pada pelatihan dan validasi dan interperasinya adalah seberapa baik kinerja model untuk dua set ini. Tidak seperti akurasi, kerugian bukanlah persentase. Ini adalah penjumlahan dari kesalahan yang dibuat untuk setiap contoh dalam set pelatihan atau validasi. Dalam kasus jaringan saraf, kerugian biasanya berupa kemungkinan log negatif dan jumlah sisa kuadrat untuk masing-masing klasifikasi dan regresi. Maka secara alami, tujuan utama dalam model pembelajaran adalah untuk mengurangi (meminimalkan) nilai fungsi kerugian sehubungan dengan parameter model dengan mengubah nilai vektor bobot melalui metode pengoptimalan yang berbeda, seperti propagasi mundur di jaringan saraf. Nilai Loss menyiratkan seberapa baik atau buruk model tertentu berperilaku setelah setiap iterasi pengoptimalan. Idealnya, seseorang akan mengharapkan pengurangan kerugian setelah setiap, atau beberapa, iterasi.</p>"
   ]
  },
  {
   "cell_type": "code",
   "execution_count": 35,
   "metadata": {},
   "outputs": [],
   "source": [
    "def sigmoid(x):\n",
    "    y_head = 1/(1 + np.exp(-x))   # basic sigmoid for output layer\n",
    "    return y_head;\n",
    "\n",
    "def compute_cost(A_f, y_train):\n",
    "    logprobs = np.multiply(np.log(A_f),y_train)\n",
    "    cost = -np.sum(logprobs)/y_train.shape[1]    # computing the loss value\n",
    "    return cost"
   ]
  },
  {
   "cell_type": "markdown",
   "metadata": {},
   "source": [
    "## Forward Propagation\n",
    "Forward Propagation adalah operasi yang akan dilakukan pada setiap elemen pada input dan tiap weight yang terhubung dengan input dan ditambahkan dengan bias. Hasil dari operasi ini akan dimasukkan ke dalam activation function.\n",
    "<p>Forward propagation merupakan sebuah perhitungan maju dari input menuju output. Contoh.</p>\n",
    "\n",
    "<p>N1=(x1*w1+x2*w2…….xn*wn)-b</p>\n",
    "\n",
    "<p>Out=(N1*w10+N2*w11…..Nn*wn)-b</p>\n",
    "\n",
    "<p>N = Neuron</p>\n",
    "\n",
    "<p>x = input</p>\n",
    "\n",
    "<p>w = weight</p>\n",
    "\n",
    "<p>Out = output</p>\n",
    "\n",
    "<p>b = bias</p>\n",
    "\n",
    "### Weight dan Bias\n",
    "<p>Weight adalah parameter dalam jaringan neural yang mengubah data masukan dalam lapisan tersembunyi jaringan. Jaringan saraf adalah serangkaian node, atau neuron. Dalam setiap node adalah satu set input, bobot, dan nilai bias. Saat input memasuki node, itu akan dikalikan dengan nilai bobot dan output yang dihasilkan diamati, atau diteruskan ke lapisan berikutnya di jaringan saraf. Seringkali bobot jaringan neural terkandung dalam lapisan jaringan yang tersembunyi.</p>\n",
    "<p>Bias hanyalah nilai konstan (atau vektor konstan) yang ditambahkan ke produk input dan bobot. Bias digunakan untuk mengimbangi hasil. Bias digunakan untuk menggeser hasil fungsi aktivasi ke arah positif atau negatif.\n",
    "\n",
    "<p>Adapun rumus yang digunakan untuk menghitung weighted sum adalah:</p>\n",
    "\n",
    "<p>A_j(X,W) = SUM(i=1 to n) x_i * w_ji</p>\n",
    "\n",
    "<p>dimana:</p>\n",
    "<p>j : indeks dari output</p>\n",
    "<p>i : indeks dari input</p>\n",
    "<p>x_i : input ke i</p>\n",
    "<p>w_ji : weight dari input ke i ke output ke j</p>\n",
    "\n",
    "![GambarWAB/WeightdanBias.jpg](GambarWAB/WeightdanBias.jpg)"
   ]
  },
  {
   "cell_type": "code",
   "execution_count": 36,
   "metadata": {},
   "outputs": [],
   "source": [
    "def forw_prop_NN(in_data, parameters, connection_amount): # forward propagation\n",
    "    \n",
    "    cache = {}\n",
    "    a0 = in_data\n",
    "    \n",
    "    \n",
    "    for i in range(connection_amount-1):\n",
    "        w = \"weight\" + str(i+1)   \n",
    "        b = \"bias\" + str(i+1) \n",
    "        \n",
    "        z = \"Z\" + str(i+1)\n",
    "        a = \"A\" + str(i+1)\n",
    "        \n",
    "        cache[z] = np.dot(parameters[w],a0) + parameters[b]\n",
    "        cache[a] = np.tanh(cache[z])\n",
    "        a0 = cache[a]\n",
    "        \n",
    "        \n",
    "    # output layer\n",
    "    \n",
    "    z_fin = \"Z\" + str(connection_amount)\n",
    "    a_fin = \"A\" + str(connection_amount)\n",
    "    \n",
    "    w = \"weight\" + str(connection_amount)   \n",
    "    b = \"bias\" + str(connection_amount)\n",
    "    \n",
    "    a0 = \"A\" + str(connection_amount-1)\n",
    "    \n",
    "    cache[z_fin] = np.dot(parameters[w],cache[a0]) + parameters[b]\n",
    "    cache[a_fin] = sigmoid(cache[z_fin])\n",
    "    A = cache[a_fin]\n",
    " \n",
    "    return A, cache"
   ]
  },
  {
   "cell_type": "markdown",
   "metadata": {},
   "source": [
    "## Backpropagation\n",
    "<p>Backpropagation adalah algoritma pembelajaran untuk memperkecil tingkat error dengan cara menyesuaikan bobotnya berdasarkan perbedaan output dan target yang diinginkan. Backpropagation juga merupakan sebuah metode sistematik untuk pelatihan multilayer JST. Backpopagation dikatakan sebagai algoritma pelatihan multilayer karena Backpropagation memiliki tiga layer dalam proses pelatihannya, yaitu input layer, hidden layer dan output layer, dimana backpropagation ini merupakan perkembangan dari single layer network (Jaringan Layar Tunggal) yang memiliki dua layer, yaitu input layer dan output layer. Dengan adanya hidden layer pada backpropagation dapat menyebabkan besarnya tingkat error pada backpropagation lebih kecil dibanding tingkat error pada single layer network. Hal tersebut dikarenakan hidden layer pada backpropagation berfungsi sebagai tempat untuk mengupdate dan menyesuaikan bobot, sehingga didapatkan nilai bobot yang baru yang bisa diarahkan mendekati dengan target output yang diinginkan.</p>\n",
    "<p>Hasil dari forward propagation adalah sebuah output. Namun apakah output yang dihasilkan network sudah sesuai dengan target yang diinginkan? Maka dihitunglah error.</p>\n",
    "\n",
    "<p>Error = target – output</p>\n",
    "\n",
    "<p>Atau bisa juga</p>\n",
    "\n",
    "<p>Error = 1/2*(target – output)^2</p>\n",
    "\n",
    "<p>Setelah mendapatkan nilai error, langkah berikutnya adalah mencari nilai differensial (dy/dx) untuk semua komponen dalam jaringan. Nilai differensial ini akan memperbarui nilai lama yang bertujuan untuk meminimalisir error. Sehingga diperoleh error = 0.</p>\n",
    "\n",
    "<p>Jika error = 0, maka sistem ANN sudah siap untuk digunakan.</p>\n",
    "\n",
    "## Arsitektur Backpropagation\n",
    "<p>Arsitektur algoritma backpropagation terdiri dari tiga layer, yaitu input layer, hidden layer dan output layer. Pada input layer tidak terjadi proses komputasi, namun pada input layer terjadi pengiriman sinyal input X ke hidden layer. Pada hidden dan output layer terjadi proses komputasi terhadap bobot dan bias dan dihitung pula besarnya output dari hidden dan output layer tersebut berdasarkan fungsi aktivasi tertentu. Dalam algoritma backpropagation ini digunakan fungsi aktivasi sigmoid biner, karena output yang diharapkan bernilai antara 0 sampai 1. Tiga layer backpropagation adalah input layer, hidden layer dan output layer. Pada input layer, inputan divariabelkan dengan Xn. Pada hidden layer, terdapat bobot (Vij) dan bias (Voj), serta Z sebagai data hidden layer. Pada output layer juga demikian, terdapat bobot (Wij) dan bias (Woj) dengan data output divariabelkan dengan Y.</p>\n",
    "\n",
    "<p>Secara umum algoritmanya terdiri dari tiga langkah utama, yaitu :</p>\n",
    "<p>-Pengambilan input</p>\n",
    "<p>-Penelusuran error</p>\n",
    "<p>-Penyesuaian bobot</p>\n",
    "\n",
    "<p>Mengapa saya menggunakan metode backpropagation? karena dengan adanya hidden layer pada metode backpropagation dapat menyebabkan besarnya tingkat error pada backpropagation lebih kecil dibanding tingkat error pada single layer network. Hal tersebut dikarenakan hidden layer pada backpropagation berfungsi sebagai tempat untuk mengupdate dan menyesuaikan bobot, sehingga didapatkan nilai bobot yang baru yang bisa diarahkan mendekati dengan target output yang diinginkan.</p>"
   ]
  },
  {
   "cell_type": "code",
   "execution_count": 37,
   "metadata": {},
   "outputs": [],
   "source": [
    "def backw_prop_NN(parameters,cache,x_train,y_train,connection_amount):  #backpropagation\n",
    "    \n",
    "    dz = {}\n",
    "    grads = {}\n",
    "    \n",
    "    \n",
    "    # firstly start with output layer.\n",
    "    \n",
    "    a_fin = \"A\" + str(connection_amount)\n",
    "    a_pre_fin = \"A\" + str(connection_amount-1)\n",
    "    w_fin = \"dweight\" + str(connection_amount)\n",
    "    b_fin = \"dbias\" + str(connection_amount)\n",
    "    \n",
    "    dz[connection_amount] = cache[a_fin] - y_train\n",
    "    grads[w_fin] = np.dot(dz[connection_amount],cache[a_pre_fin].T)/x_train.shape[1]\n",
    "    grads[b_fin] = np.sum(dz[connection_amount], axis=1, keepdims=True)/x_train.shape[1]\n",
    "    \n",
    "    # other layers.\n",
    "    \n",
    "    for i in range((connection_amount-1),1,-1):\n",
    "        a = \"A\" + str(i)\n",
    "        a_pre = \"A\" + str(i-1)\n",
    "        dw = \"dweight\" + str(i)\n",
    "        db = \"dbias\" + str(i)\n",
    "        w = \"weight\" + str(i+1)\n",
    "        \n",
    "        dz[i] = np.dot(parameters[w].T,dz[i+1])*(1 - np.power(cache[a], 2))\n",
    "        grads[dw] = np.dot(dz[i],cache[a_pre].T)/x_train.shape[1]\n",
    "        grads[db] = np.sum(dz[i], axis=1,keepdims=True)/x_train.shape[1]\n",
    "    \n",
    "    dz[1] = np.dot(parameters[\"weight2\"].T,dz[2])*(1 - np.power(cache[\"A1\"], 2))\n",
    "    grads[\"dweight1\"] = np.dot(dz[1],x_train.T)/x_train.shape[1]\n",
    "    grads[\"dbias1\"] = np.sum(dz[1],axis =1,keepdims=True)/x_train.shape[1]\n",
    "    \n",
    "    return grads"
   ]
  },
  {
   "cell_type": "markdown",
   "metadata": {},
   "source": [
    "### Parameter\n",
    "<p>Parameter adalah koefisien model, dan mereka dipilih oleh model itu sendiri. Ini berarti bahwa algoritme, saat belajar, mengoptimalkan koefisien ini (sesuai dengan strategi pengoptimalan yang diberikan) dan mengembalikan serangkaian parameter yang meminimalkan kesalahan. Sebagai contoh, dalam tugas regresi linier, Anda memiliki model yang akan terlihat seperti y = b + ax, di mana b dan a akan menjadi parameter Anda. Satu-satunya hal yang harus Anda lakukan dengan parameter tersebut adalah menginisialisasinya (kita akan lihat nanti apa artinya).</p>"
   ]
  },
  {
   "cell_type": "code",
   "execution_count": 38,
   "metadata": {},
   "outputs": [],
   "source": [
    "def update_param(parameters, grads, connection_amount, lr=0.01): #update\n",
    "    for i in range(connection_amount):\n",
    "        w = \"weight\" + str(i+1)\n",
    "        b = \"bias\" + str(i+1)\n",
    "        dw = \"dweight\" + str(i+1)\n",
    "        db = \"dbias\" + str(i+1)\n",
    "        \n",
    "        parameters[w] = parameters[w] - lr*grads[dw]\n",
    "        parameters[b] = parameters[b] - lr*grads[db]\n",
    "        \n",
    "    return parameters                "
   ]
  },
  {
   "cell_type": "markdown",
   "metadata": {},
   "source": [
    "### Accuracy Prediction\n",
    "<p>Accuracy Prediction dari nilai masa depan data deret waktu sangat penting untuk pengambilan keputusan strategis seperti manajemen inventaris, perencanaan anggaran, manajemen hubungan pelanggan, promosi pemasaran, dan alokasi sumber daya yang efisien.</p>"
   ]
  },
  {
   "cell_type": "code",
   "execution_count": 39,
   "metadata": {},
   "outputs": [],
   "source": [
    "def predict(A,parameters,x_test,connection_amount): #prediction\n",
    "    \n",
    "    A, cache = forw_prop_NN(x_test,parameters,connection_amount)\n",
    "    Y_prediction = np.zeros((1,x_test.shape[1]))\n",
    " \n",
    "    for i in range(A.shape[1]):\n",
    "        if A[0,i]<= 0.5:\n",
    "            Y_prediction[0,i] = 0\n",
    "        else:\n",
    "            Y_prediction[0,i] = 1\n",
    "\n",
    "    return Y_prediction             # basic binary prediction."
   ]
  },
  {
   "cell_type": "markdown",
   "metadata": {},
   "source": [
    "### Multi Layer\n",
    "<p>Pada single layer apabila terdapat tambahan satu atau dua hidden layer maka jaringan akan terganggu karena input dan output dari jaringan tidak dapat melihat hidden layer yang di masukkan. Sehingga memerlukan jaringan yang bisa menampung nya yaitu bernama multi layer. Cara kerja  multi layer adalah input layer menyuplai input vektor pada jaringan, kemudian input  yang dimasukkan melakukan komputasi pada layer yang kedua, lalu output dari layer yang kedua digunakan sebagai input dari layer yang ketiga dan seterusnya. Ilustrasi jaringan multi layer dapat di lihat pada gambar di bawah ini.</p>\n",
    "![GambarWAB/MultiLayer.jpg](GambarWAB/MultiLayer.jpg)"
   ]
  },
  {
   "cell_type": "code",
   "execution_count": 40,
   "metadata": {},
   "outputs": [],
   "source": [
    "def multi_layer_model(layers_with_nodes,x_train,y_train,x_test,y_test, num_iter, lr = 0.01):    \n",
    "    \n",
    "    cost_list = []     \n",
    "    index_list = []\n",
    "    \n",
    "    parameters, connection_amount = initialize_param(layers_with_nodes, x_train, y_train)   \n",
    "    \n",
    "    # for each iteration..\n",
    "    \n",
    "    for i in range(0, num_iter):\n",
    "         # forward propagation\n",
    "        A, cache = forw_prop_NN(x_train,parameters,connection_amount)\n",
    "        # compute cost\n",
    "        cost = compute_cost(A, y_train)\n",
    "         # backward propagation\n",
    "        grads = backw_prop_NN(parameters,cache,x_train,y_train,connection_amount)\n",
    "         # update parameters\n",
    "        parameters = update_param(parameters, grads, connection_amount, lr)\n",
    "        \n",
    "        if i % 100 == 0:\n",
    "            cost_list.append(cost)\n",
    "            index_list.append(i)\n",
    "            print (\"Cost after iteration %i: %f\" %(i, cost))\n",
    "\n",
    "    plt.plot(index_list,cost_list)\n",
    "    plt.xticks(index_list,rotation='vertical')\n",
    "    plt.xlabel(\"Number of Iterarion\")\n",
    "    plt.ylabel(\"Cost\")\n",
    "    plt.show()\n",
    "    \n",
    "    # predict\n",
    "   \n",
    "    y_prediction_train = predict(A, parameters, x_train, connection_amount)\n",
    "    y_prediction_test = predict(A, parameters, x_test, connection_amount)\n",
    "    \n",
    "    \n",
    "    # Print train/test Errors\n",
    "    print(\"train accuracy: {} %\".format(100 - np.mean(np.abs(y_prediction_train - y_train)) * 100))\n",
    "    print(\"test accuracy: {} %\".format(100 - np.mean(np.abs(y_prediction_test - y_test)) * 100))\n",
    "    return parameters, connection_amount"
   ]
  },
  {
   "cell_type": "code",
   "execution_count": 41,
   "metadata": {},
   "outputs": [
    {
     "name": "stdout",
     "output_type": "stream",
     "text": [
      "4 layers. (2 hidden layer)\n",
      "Cost after iteration 0: 0.508032\n",
      "Cost after iteration 100: 0.203258\n",
      "Cost after iteration 200: 0.039001\n",
      "Cost after iteration 300: 0.117734\n",
      "Cost after iteration 400: 0.111054\n",
      "Cost after iteration 500: 0.106574\n",
      "Cost after iteration 600: 0.103264\n",
      "Cost after iteration 700: 0.100715\n",
      "Cost after iteration 800: 0.098813\n",
      "Cost after iteration 900: 0.097528\n",
      "Cost after iteration 1000: 0.096680\n",
      "Cost after iteration 1100: 0.095857\n",
      "Cost after iteration 1200: 0.094686\n",
      "Cost after iteration 1300: 0.092984\n",
      "Cost after iteration 1400: 0.090675\n",
      "Cost after iteration 1500: 0.087765\n",
      "Cost after iteration 1600: 0.084419\n",
      "Cost after iteration 1700: 0.080928\n",
      "Cost after iteration 1800: 0.077354\n",
      "Cost after iteration 1900: 0.073801\n",
      "Cost after iteration 2000: 0.071074\n",
      "Cost after iteration 2100: 0.068949\n",
      "Cost after iteration 2200: 0.067133\n",
      "Cost after iteration 2300: 0.065487\n",
      "Cost after iteration 2400: 0.063965\n",
      "Cost after iteration 2500: 0.062564\n",
      "Cost after iteration 2600: 0.061263\n",
      "Cost after iteration 2700: 0.059998\n"
     ]
    },
    {
     "data": {
      "image/png": "[encoded data removed]",
      "text/plain": [
       "<Figure size 432x288 with 1 Axes>"
      ]
     },
     "metadata": {},
     "output_type": "display_data"
    },
    {
     "name": "stdout",
     "output_type": "stream",
     "text": [
      "train accuracy: 92.63745704467354 %\n",
      "test accuracy: 91.78694158075601 %\n"
     ]
    }
   ],
   "source": [
    "parameters, connection_amount=multi_layer_model([16,8],x_train,y_train,x_test,y_test,num_iter=2800,lr=0.3)\n",
    "\n",
    "# the first array is where we desing our net for hidden layers with nodes.\n"
   ]
  },
  {
   "cell_type": "markdown",
   "metadata": {},
   "source": [
    "## Persamaan\n",
    "Salah satu algoritma yang sering digunakan dalam melakukan learning terhadap ANN adalah Backpropagation algorithm. Algoritma ini dikembangkan oleh Rumelhart dan McClelland (1986). Sebuah neural networks umumnya terdiri dari input, output dan hidden layer. Single layer ANN merupakan bentuk yang paling populer, tetapi seperti gambar di bawah, sebuah ANN juga bisa mempunyai lebih dari single hidden layer.\n",
    "Dalam algoritma Backpropagation, proses learning dilaksanakan dengan, pertama, melakukan proses feed forward dengan mengirimkan signal ‘forward’. Adapun proses yang dilakukan dalam proses feed forward ini untuk sebuah neuron digambarkan dalam gambar berikut ini.\n",
    "Seperti yang digambarkan, kegiatan yang dilakukan dalam proses feed forward adalah menghitung Weighted Sum dan mengirimkan jumlah tersebut ke suatu Activation Function sehingga menghasilkan Output. Adapun rumus yang digunakan untuk menghitung weighted sum adalah:\n",
    "\n",
    "A_j(X,W) = SUM(i=1 to n) x_i * w_ji\n",
    "\n",
    "dimana:\n",
    "j : indeks dari output\n",
    "i : indeks dari input\n",
    "x_i : input ke i\n",
    "w_ji : weight dari input ke i ke output ke j\n",
    "\n",
    "Untuk Activation Function, ada banyak yang bisa digunakan, tetapi yang paling banyak digunakan adalah Fungsi Sigmoid yang dirumuskan sebagai berikut:\n",
    "\n",
    "O_j(X,W) = 1 / (1 + exp(A_j(X,W)))\n",
    "\n",
    "dimana:\n",
    "O_j(X,W) : output ke j\n",
    "Dengan sifat dari fungsi sigmoid ini, output dari neuron dapat dilakukan dengan lebih smooth. Selanjutnya apabila semua output sudah didapatkan, yang perlu dilakukan adalah membandingkan antara output yang dikeluarkan dari perhitungan dengan output riilnya (perlu diingat bahwa ANN merupakan salah satu metode supervised classification, dimana output riil akan menjadi bagian dalam proses pemodelan. Dalam hal ini, output yang dihasilkan dari perhitungan akan dicocokan dalam proses learning dengan output riilnya). Adapun rumus yang digunakan untuk menghitung perbedaan tersebut adalah sebagai berikut:\n",
    "\n",
    "E_j(X,W,d) = (O_j(X,W) – d_j)^2\n",
    "\n",
    "dimana:\n",
    "E_j(X,W,d) : error/perbedaan antara hasil output perhitungan dengan output riil\n",
    "d_j : output riil ke j\n",
    "\n",
    "Secara umum, perbedaan output perhitungan dan output riil dihitung dengan rumus:\n",
    "\n",
    "E(X,W,d) = SUM(j=1 to m) (O_j(X,W) – d_j)^2\n",
    "Setelah mendapatkan perbedaan output tersebut, apabila perbedaan yang ada masih di atas threshold, maka error yang ada di-‘propagate’ backward dengan melakukan adjustment terhadap weight yang ada pada networks. Adapun metode yang bisa digunakan adalah metode gradient descendent dengan rumus berikut ini:\n",
    "\n",
    "Diff w_ji = – eta dE/dw_ji\n",
    "\n",
    "dimana:\n",
    "eta : a constant\n",
    "dE/dw_ji : the derivative of error E with respect to the weight w_ji\n",
    "\n",
    "Di sini goal yang ingin dituju, bagaimana caranya agar weight yang didapatkan dapat meminimalisasikan error yang muncul. Untuk keperluan tersebut, sebelum menghitung langsung pengaruh weight terhadap error, kita perlu menghitung pengaruh output penghitungan terhadap error dengan rumus sebagai berikut, yang merupakan penurunan dari derivative dari error terhadap output perhitungan:\n",
    "\n",
    "dE/dO_j = 2 * (O_j – d_j)\n",
    "\n",
    "Selanjutnya adalah melihat pengaruh weight terhadap output perhitungan yang dihitung dengan nilai derivative dari output perhitungan terhadap weight sebagai berikut:\n",
    "\n",
    "dO_j/dw_ji = dO_j/DA_j * dA_j/dw_ji = O_j*(1-O_j)*x_i\n",
    "\n",
    "Sehingga,\n",
    "\n",
    "dE/dw_ji = dE/dO_j * dO_j/dw_ji = 2 * (O_j – d_j) * O_j * (1 – O_j) * x_i\n",
    "\n",
    "Dan akhirnya,\n",
    "\n",
    "Diff w_ji = – 2 * eta * (O_j – d_j) * O_j * (1 – O_j) * x_i\n",
    "\n",
    "Apabila di depan layer yang bersangkutan masih terdapat layer yang ingin dihitung atau di-adjust weightnya, maka proses di atas perlu diulang dengan menganggap bahwa input pada layer yang telah diadjust weightnya sebagai output dari layer yang sedang dihitung dengan rumus:\n",
    "\n",
    "Diff v_ik = – eta * dE/dv_ik = – eta * dE/dx_i * dx_i/dv_ik\n",
    "\n",
    "Seperti yang dijelaskan di atas rumus ini sebenarnya sama dengan dengan rumus sebelumnya, tetapi di sini weightnya disimbolkan dengan v_ik dan outputnya disimbolkan dengan x_i."
   ]
  }
 ],
 "metadata": {
  "colab": {
   "name": "Boston tf_keras.ipynb",
   "provenance": [],
   "version": "0.3.2"
  },
  "kernelspec": {
   "display_name": "Python 3",
   "language": "python",
   "name": "python3"
  },
  "language_info": {
   "codemirror_mode": {
    "name": "ipython",
    "version": 3
   },
   "file_extension": ".py",
   "mimetype": "text/x-python",
   "name": "python",
   "nbconvert_exporter": "python",
   "pygments_lexer": "ipython3",
   "version": "3.6.4"
  }
 },
 "nbformat": 4,
 "nbformat_minor": 1
}
