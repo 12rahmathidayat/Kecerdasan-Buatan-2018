{
 "cells": [
  {
   "cell_type": "markdown",
   "metadata": {},
   "source": [
    "# Masayu Nadila Maharani ( 09011181823023 )"
   ]
  },
  {
   "cell_type": "markdown",
   "metadata": {},
   "source": [
    "Pengujian Artificial Neural Network Back Propagation pada Data Set Iris"
   ]
  },
  {
   "cell_type": "markdown",
   "metadata": {},
   "source": [
    "## Pengenalan Artificial Neural Network"
   ]
  },
  {
   "cell_type": "markdown",
   "metadata": {},
   "source": [
    "Artificial neural network merupakan jaringan yang slaing berhubungan antar node-node dimana tiap-tiap hubungan tersebut mempunyai bobot koneksi yang dilatih untuk mencapai respon yang diinginkan. Masing-masing bobot koneksi dipropogasikan keseluruh simpul atau node. Dengan pelatihan terhadap data berdasarkan bobot-bobot koneksi tersebut diharapkan memperoleh output yang diinginkan.\n",
    "   \n",
    "   Proses kerja dari Artificial Neural Network adalah untuk menggambarkan dan mengelompokkan bentuk yang berbeda dari beberapa populasi yang telah diketahui, sehingga populasi tersebut terpisah dengan baik serta dapat menentukan fungsi pembeda antar kelompok dan mengkalsifikasikan objek baru kedalam kelas atau kelompok. Kelebihan dari Artificial neural network adalah bahwa fungsi yang digunakan non linear, mempunyai ketelitian yang tinggi serta tidak mempunyai model, sehingga dengan metode artificial neural network ini tidak diperlukan lagi asumsi dari data multivariant yang berdistribusi normal."
   ]
  },
  {
   "cell_type": "markdown",
   "metadata": {},
   "source": [
    "## Implementasi Neural Network Back Propagation"
   ]
  },
  {
   "cell_type": "markdown",
   "metadata": {},
   "source": [
    "#### Pertama-tama, kita perlu mengimpor library : "
   ]
  },
  {
   "cell_type": "code",
   "execution_count": 48,
   "metadata": {},
   "outputs": [],
   "source": [
    "import pandas as pd\n",
    "import numpy as np\n",
    "import matplotlib.pyplot as plt"
   ]
  },
  {
   "cell_type": "markdown",
   "metadata": {},
   "source": [
    "#### since our lables in Iris datasets (species) was orderd, we shuffle them"
   ]
  },
  {
   "cell_type": "code",
   "execution_count": 49,
   "metadata": {},
   "outputs": [],
   "source": [
    "from sklearn.utils import shuffle"
   ]
  },
  {
   "cell_type": "code",
   "execution_count": 14,
   "metadata": {},
   "outputs": [],
   "source": [
    "%matplotlib inline"
   ]
  },
  {
   "cell_type": "code",
   "execution_count": 15,
   "metadata": {},
   "outputs": [],
   "source": [
    "df = pd.read_csv('E:/SEMESTER 5/UTS AI/Iris.csv')"
   ]
  },
  {
   "cell_type": "markdown",
   "metadata": {},
   "source": [
    "#### Kami melakukan beberapa normalisasi pada features didataset"
   ]
  },
  {
   "cell_type": "code",
   "execution_count": 16,
   "metadata": {},
   "outputs": [],
   "source": [
    "df_norm  = df[['SepalLengthCm','SepalWidthCm','PetalLengthCm','PetalWidthCm']].apply(lambda x: (x - x.min())/(x.max() - x.min()))"
   ]
  },
  {
   "cell_type": "markdown",
   "metadata": {},
   "source": [
    "#### pada library pandas, kami memiliki fungsi yang disebut dengan get_dummies yang membuat variabel dummy untuk feature categorical"
   ]
  },
  {
   "cell_type": "code",
   "execution_count": 17,
   "metadata": {},
   "outputs": [],
   "source": [
    "species= pd.get_dummies(df['Species'])"
   ]
  },
  {
   "cell_type": "code",
   "execution_count": 18,
   "metadata": {},
   "outputs": [],
   "source": [
    "df_norm = pd.concat([df_norm,species],axis=1)"
   ]
  },
  {
   "cell_type": "code",
   "execution_count": 19,
   "metadata": {},
   "outputs": [
    {
     "data": {
      "text/html": [
       "<div>\n",
       "<style scoped>\n",
       "    .dataframe tbody tr th:only-of-type {\n",
       "        vertical-align: middle;\n",
       "    }\n",
       "\n",
       "    .dataframe tbody tr th {\n",
       "        vertical-align: top;\n",
       "    }\n",
       "\n",
       "    .dataframe thead th {\n",
       "        text-align: right;\n",
       "    }\n",
       "</style>\n",
       "<table border=\"1\" class=\"dataframe\">\n",
       "  <thead>\n",
       "    <tr style=\"text-align: right;\">\n",
       "      <th></th>\n",
       "      <th>SepalLengthCm</th>\n",
       "      <th>SepalWidthCm</th>\n",
       "      <th>PetalLengthCm</th>\n",
       "      <th>PetalWidthCm</th>\n",
       "      <th>Iris-setosa</th>\n",
       "      <th>Iris-versicolor</th>\n",
       "      <th>Iris-virginica</th>\n",
       "    </tr>\n",
       "  </thead>\n",
       "  <tbody>\n",
       "    <tr>\n",
       "      <th>0</th>\n",
       "      <td>0.222222</td>\n",
       "      <td>0.625000</td>\n",
       "      <td>0.067797</td>\n",
       "      <td>0.041667</td>\n",
       "      <td>1</td>\n",
       "      <td>0</td>\n",
       "      <td>0</td>\n",
       "    </tr>\n",
       "    <tr>\n",
       "      <th>1</th>\n",
       "      <td>0.166667</td>\n",
       "      <td>0.416667</td>\n",
       "      <td>0.067797</td>\n",
       "      <td>0.041667</td>\n",
       "      <td>1</td>\n",
       "      <td>0</td>\n",
       "      <td>0</td>\n",
       "    </tr>\n",
       "    <tr>\n",
       "      <th>2</th>\n",
       "      <td>0.111111</td>\n",
       "      <td>0.500000</td>\n",
       "      <td>0.050847</td>\n",
       "      <td>0.041667</td>\n",
       "      <td>1</td>\n",
       "      <td>0</td>\n",
       "      <td>0</td>\n",
       "    </tr>\n",
       "    <tr>\n",
       "      <th>3</th>\n",
       "      <td>0.083333</td>\n",
       "      <td>0.458333</td>\n",
       "      <td>0.084746</td>\n",
       "      <td>0.041667</td>\n",
       "      <td>1</td>\n",
       "      <td>0</td>\n",
       "      <td>0</td>\n",
       "    </tr>\n",
       "    <tr>\n",
       "      <th>4</th>\n",
       "      <td>0.194444</td>\n",
       "      <td>0.666667</td>\n",
       "      <td>0.067797</td>\n",
       "      <td>0.041667</td>\n",
       "      <td>1</td>\n",
       "      <td>0</td>\n",
       "      <td>0</td>\n",
       "    </tr>\n",
       "  </tbody>\n",
       "</table>\n",
       "</div>"
      ],
      "text/plain": [
       "   SepalLengthCm  SepalWidthCm  PetalLengthCm  PetalWidthCm  Iris-setosa  \\\n",
       "0       0.222222      0.625000       0.067797      0.041667            1   \n",
       "1       0.166667      0.416667       0.067797      0.041667            1   \n",
       "2       0.111111      0.500000       0.050847      0.041667            1   \n",
       "3       0.083333      0.458333       0.084746      0.041667            1   \n",
       "4       0.194444      0.666667       0.067797      0.041667            1   \n",
       "\n",
       "   Iris-versicolor  Iris-virginica  \n",
       "0                0               0  \n",
       "1                0               0  \n",
       "2                0               0  \n",
       "3                0               0  \n",
       "4                0               0  "
      ]
     },
     "execution_count": 19,
     "metadata": {},
     "output_type": "execute_result"
    }
   ],
   "source": [
    "df_norm.head()"
   ]
  },
  {
   "cell_type": "markdown",
   "metadata": {},
   "source": [
    "## Dataframe dan Matriks"
   ]
  },
  {
   "cell_type": "markdown",
   "metadata": {},
   "source": [
    "dataframe merupakan kerangka data yang berisi variabel yang memiliki karakteristik seperti matrik. Data frame ini berbentuk seperti tabel. Matriks adalah untuk data dari tipe yang sama. Matriks adalah suatu keharusan jika berencana untuk melakukan segala jenis operasi aljabar linear. sedangkan Dataframe lebih nyaman jika sering merujuk ke kolomnya denga nama (melalui operator $ compact). Frame data juga IMHO lebih baik untuk mencetak informasi tabular karena dapat menerapkan pemformatan kesetiap kolom secara terpisah. \n"
   ]
  },
  {
   "cell_type": "markdown",
   "metadata": {},
   "source": [
    "#### Lalu kami mengubah Dataframe menjadi Matriks"
   ]
  },
  {
   "cell_type": "code",
   "execution_count": 20,
   "metadata": {},
   "outputs": [],
   "source": [
    "data=df_norm.values"
   ]
  },
  {
   "cell_type": "markdown",
   "metadata": {},
   "source": [
    "#####  mengapa mengubah Dataframe menjadi Matriks\n",
    "karena menggunakan matriks dapat membuat kode jauh lebih efisien dari pada menggunakan Dataframe. itulah salah satu alasan mengapa secara internal, banyak fungsi R akan memaksa data Matriks yang ada dalam Dataframe. "
   ]
  },
  {
   "cell_type": "code",
   "execution_count": 21,
   "metadata": {},
   "outputs": [
    {
     "name": "stdout",
     "output_type": "stream",
     "text": [
      "[[0.47222222 0.29166667 0.69491525 ... 0.         1.         0.        ]\n",
      " [0.19444444 0.41666667 0.10169492 ... 1.         0.         0.        ]\n",
      " [0.61111111 0.41666667 0.81355932 ... 0.         0.         1.        ]\n",
      " ...\n",
      " [0.80555556 0.5        0.84745763 ... 0.         0.         1.        ]\n",
      " [0.22222222 0.75       0.15254237 ... 1.         0.         0.        ]\n",
      " [0.22222222 0.75       0.08474576 ... 1.         0.         0.        ]]\n"
     ]
    }
   ],
   "source": [
    "data=shuffle(data)\n",
    "print(data)"
   ]
  },
  {
   "cell_type": "markdown",
   "metadata": {},
   "source": [
    "#### sekarang kami memperkenalkan fungsi aktivasi dan turunannya :"
   ]
  },
  {
   "cell_type": "markdown",
   "metadata": {},
   "source": [
    "Artficial Neural Network menggunakan fungsi aktivasi untuk membatasi keluaran Y agar sesuai dengan batasan sinyal outputnya."
   ]
  },
  {
   "cell_type": "markdown",
   "metadata": {},
   "source": [
    "#### g(s_i) adalah aktivasi untuk [i] perceptron dari layer."
   ]
  },
  {
   "attachments": {
    "image.png": {
     "image/png": "[encoded data removed]"
    }
   },
   "cell_type": "markdown",
   "metadata": {},
   "source": [
    "![image.png](attachment:image.png)"
   ]
  },
  {
   "cell_type": "code",
   "execution_count": 22,
   "metadata": {},
   "outputs": [],
   "source": [
    "#activation function (sigmoid)\n",
    "def sigmoid(x):\n",
    "    return 1.0/(1.0+np.exp(-x))"
   ]
  },
  {
   "cell_type": "code",
   "execution_count": 23,
   "metadata": {},
   "outputs": [],
   "source": [
    "#derivation of activation function(sigmoid)\n",
    "def der_sigmoid(x):\n",
    "    return x * (1.0-x)"
   ]
  },
  {
   "cell_type": "code",
   "execution_count": 24,
   "metadata": {},
   "outputs": [],
   "source": [
    "#activation function\n",
    "def tanh(x):\n",
    "    return (np.exp(x)-np.exp(-x))/(np.exp(x)+np.exp(-x))"
   ]
  },
  {
   "cell_type": "code",
   "execution_count": 25,
   "metadata": {},
   "outputs": [],
   "source": [
    "def relu(X):\n",
    "    return np.maximum(0,X)"
   ]
  },
  {
   "cell_type": "code",
   "execution_count": 26,
   "metadata": {},
   "outputs": [],
   "source": [
    "def der_relu(X):\n",
    "    return np.where(X <= 0,0,1)"
   ]
  },
  {
   "cell_type": "markdown",
   "metadata": {},
   "source": [
    "#### Disini kami menetapkan 100 sample untuk training set :"
   ]
  },
  {
   "cell_type": "code",
   "execution_count": 27,
   "metadata": {},
   "outputs": [
    {
     "data": {
      "text/plain": [
       "(100, 4)"
      ]
     },
     "execution_count": 27,
     "metadata": {},
     "output_type": "execute_result"
    }
   ],
   "source": [
    "#input layer\n",
    "X_train = data[:100,:4]\n",
    "#X_train=np.array([[5.1,3.5,1.4,0.2],\n",
    "#            [5.6,2.5,3.9,1.1],\n",
    "#            [5.9,3.0,5.1,1.8]])\n",
    "X_train.shape"
   ]
  },
  {
   "cell_type": "code",
   "execution_count": 28,
   "metadata": {},
   "outputs": [
    {
     "data": {
      "text/plain": [
       "(100, 3)"
      ]
     },
     "execution_count": 28,
     "metadata": {},
     "output_type": "execute_result"
    }
   ],
   "source": [
    "#output layer\n",
    "y_train = data[:100,4:]\n",
    "#y_train=np.array([[1,0,0],\n",
    "#            [0,1,0],\n",
    "#            [0,0,1]])\n",
    "y_train.shape"
   ]
  },
  {
   "cell_type": "markdown",
   "metadata": {},
   "source": [
    "#### Dan juga 50 sampel untuk set validasi kami :"
   ]
  },
  {
   "cell_type": "code",
   "execution_count": 29,
   "metadata": {},
   "outputs": [
    {
     "data": {
      "text/plain": [
       "(50, 4)"
      ]
     },
     "execution_count": 29,
     "metadata": {},
     "output_type": "execute_result"
    }
   ],
   "source": [
    "X_test = data[100:,:4]\n",
    "#X_train=np.array([[5.1,3.5,1.4,0.2],\n",
    "#            [5.6,2.5,3.9,1.1],\n",
    "#            [5.9,3.0,5.1,1.8]])\n",
    "X_test.shape"
   ]
  },
  {
   "cell_type": "code",
   "execution_count": 30,
   "metadata": {},
   "outputs": [
    {
     "data": {
      "text/plain": [
       "(50, 3)"
      ]
     },
     "execution_count": 30,
     "metadata": {},
     "output_type": "execute_result"
    }
   ],
   "source": [
    "y_test = data[100:,4:]\n",
    "#y_train=np.array([[1,0,0],\n",
    "#            [0,1,0],\n",
    "#            [0,0,1]])\n",
    "y_test.shape"
   ]
  },
  {
   "cell_type": "code",
   "execution_count": 31,
   "metadata": {},
   "outputs": [],
   "source": [
    "np.random.seed()"
   ]
  },
  {
   "cell_type": "markdown",
   "metadata": {},
   "source": [
    "#### Disini kami menginisiasi bobot. bobot yang kami hasilkan berada dalam interval [0,1]\n",
    "\n",
    "#### Mengapa [0,1] ?\n",
    "Karena dalam fungsi aktivasi sigmoid, output kami akan berada dalam interval ini, jadi kami menetapkan kecepatan awal pada interval ini untuk beberapa alasan. "
   ]
  },
  {
   "cell_type": "markdown",
   "metadata": {},
   "source": [
    "#### Dan kami juga menampilkan jumlah neuron disini."
   ]
  },
  {
   "cell_type": "code",
   "execution_count": 32,
   "metadata": {},
   "outputs": [],
   "source": [
    "#weights for first and second layer\n",
    "w1_1 = np.random.uniform(0,1,(4,9))\n",
    "#w1_1= 2 * np.random.random((4,3)) -1"
   ]
  },
  {
   "cell_type": "code",
   "execution_count": 33,
   "metadata": {},
   "outputs": [],
   "source": [
    "wb1=np.random.uniform(0,1,(1,9))"
   ]
  },
  {
   "cell_type": "code",
   "execution_count": 34,
   "metadata": {},
   "outputs": [],
   "source": [
    "#weights for first and second layer\n",
    "w2_2 = np.random.uniform(0,1,(9,3))\n",
    "#w1_1= 2 * np.random.random((4,3)) -1"
   ]
  },
  {
   "cell_type": "code",
   "execution_count": 35,
   "metadata": {},
   "outputs": [],
   "source": [
    "wb2=np.random.uniform(0,1,(1,3))"
   ]
  },
  {
   "cell_type": "markdown",
   "metadata": {},
   "source": [
    "#### Adapun parameter momentum yang akan mengatur kecepatan memperbarui bobot "
   ]
  },
  {
   "cell_type": "code",
   "execution_count": 36,
   "metadata": {},
   "outputs": [],
   "source": [
    "vel1=np.zeros_like(w1_1)"
   ]
  },
  {
   "cell_type": "code",
   "execution_count": 37,
   "metadata": {},
   "outputs": [],
   "source": [
    "vel2=np.zeros_like(w2_2)"
   ]
  },
  {
   "cell_type": "markdown",
   "metadata": {},
   "source": [
    "#### Bias di setiap lapisan dalam teori seharusnya membuat akurasi lebih baik, tetapi di sini kita mencapai akurasi 93% tanpa bias."
   ]
  },
  {
   "cell_type": "code",
   "execution_count": 38,
   "metadata": {},
   "outputs": [],
   "source": [
    "b1=np.zeros((100,1))+1"
   ]
  },
  {
   "cell_type": "code",
   "execution_count": 39,
   "metadata": {},
   "outputs": [],
   "source": [
    "b2=np.zeros((100,1))+1"
   ]
  },
  {
   "cell_type": "markdown",
   "metadata": {},
   "source": [
    "Tujuan ini dibawah 2 line :\n",
    "karena kami membuat bobot acak, kami tidak dapat mengatakan bahwa perubahan kami pada perubahan parameter membantu kami, jadi kami memegang nilai setiap saat untuk membuat hasil hanya terkait dengan parameter tuning kami."
   ]
  },
  {
   "cell_type": "code",
   "execution_count": 40,
   "metadata": {},
   "outputs": [],
   "source": [
    "w1=np.copy(w1_1)\n",
    "w2=np.copy(w2_2)"
   ]
  },
  {
   "cell_type": "markdown",
   "metadata": {},
   "source": [
    "#### Adapun disini yang pertama kita lakukan yaitu menghitung Forward propagation kemudian menghitung fungsi biaya (functions cost) dan terakhir menghitung Back Propagation"
   ]
  },
  {
   "cell_type": "markdown",
   "metadata": {},
   "source": [
    "### Forward Propagation\n",
    "Forward propagation yaitu mengacu pada kalkulasi dan penyimpanan variabel perantara (termasuk keluaran) untuk jaringa neural dalam urutan dari lapisan masukan kelapisan keluaran. Forward pass atau biasa disebut Forward propaggation ini adalah proses dimana kita membawa data pada input melewati tiap neuron pada hidden layer sampai kepada output layer yang nanti akan dihitung errornya. "
   ]
  },
  {
   "attachments": {
    "image.png": {
     "image/png": "[encoded data removed]"
    }
   },
   "cell_type": "markdown",
   "metadata": {},
   "source": [
    "#### Perhitungan secara umum bisa menggunakan rumus :\n",
    "\n",
    "## ![image.png](attachment:image.png)"
   ]
  },
  {
   "cell_type": "markdown",
   "metadata": {},
   "source": [
    "### Back Propagation \n",
    "Back Propagation secara efisien menghitung gradien dari fungsi kerugian sehubungan dengan bobot jaringan untuk satu contoh input-output. ini membuatnya layak untuk menggunakan metode gradien untuk melatih jaringan multi-lapisan, memperbarui bobot untuk meminimalkan kerugian dan biasanya seseorang menggunakan penurunan gradien atau varian seperti penurunan gradien stokastik. \n",
    "\n",
    "Back Propagation ini juga merupakan metode pembelajaran ANN (jaringan saraf tiruan) yang bekerja melalui proses secara iteratif dengan menggunakan data training membandingkan nilai prediksi dari jaringan dengan setiap contoh data.\n",
    "dalam setiap proses bobot relasi jaringan dimodifikasi untuk meminimalkan nilai MSE (mean Squared Error) antara nilai prediksi dari jaringan dengan nilai sesungguhnya. \n",
    "modifikasi relasi jaringan tersebut dilakukan dalam arah mundur dari layer output kelayer pertama dari hidden layer. "
   ]
  },
  {
   "attachments": {
    "image.png": {
     "image/png": "[encoded data removed]"
    }
   },
   "cell_type": "markdown",
   "metadata": {},
   "source": [
    "### Rumus utama untuk memperbaiki suatu bobot w  berdasarkan error E adalah:\n",
    "![image.png](attachment:image.png)\n"
   ]
  },
  {
   "cell_type": "code",
   "execution_count": 41,
   "metadata": {},
   "outputs": [
    {
     "name": "stdout",
     "output_type": "stream",
     "text": [
      "the prediction:\n",
      " [[1.78062053e-02 5.12292524e-01 5.19203854e-01]\n",
      " [9.38181530e-01 2.20077294e-01 1.24446499e-04]\n",
      " [8.86780296e-03 3.68231265e-01 7.93588997e-01]\n",
      " [2.03571627e-02 5.34778884e-01 4.28991917e-01]\n",
      " [1.64717151e-02 5.20623155e-01 5.71122865e-01]\n",
      " [9.54543670e-01 2.05493596e-01 1.05353232e-04]\n",
      " [2.68876613e-02 5.33209549e-01 3.48067282e-01]\n",
      " [2.54813192e-02 5.28380018e-01 3.19625810e-01]]\n",
      "\n",
      " the output:\n",
      " [[0. 1. 0.]\n",
      " [1. 0. 0.]\n",
      " [0. 0. 1.]\n",
      " [0. 0. 1.]\n",
      " [0. 1. 0.]\n",
      " [1. 0. 0.]\n",
      " [0. 1. 0.]\n",
      " [0. 1. 0.]]\n",
      "the cost is:\n",
      " 4.786539511723049\n"
     ]
    }
   ],
   "source": [
    "lis = []\n",
    "lis_test= []\n",
    "for i in range(10000):\n",
    "\n",
    "    #forward propagation\n",
    "    \n",
    "    \n",
    "    #second layer output \n",
    "    z2=np.dot(X_train,w1)+np.dot(b1,wb1)\n",
    "    a2=sigmoid(z2)\n",
    "    \n",
    "    \n",
    "    #final layer output \n",
    "\n",
    "    z3=np.dot(a2,w2)+np.dot(b2,wb2)\n",
    "    a3=sigmoid(z3)    \n",
    "    \n",
    "    \n",
    "    #Backpropagation\n",
    "    \n",
    "    cost = 0.5 * (y_train - a3)**2\n",
    "    lis.append(np.sum(cost))\n",
    "    \n",
    "    #print('Epochs',i,':',np.sum(cost))\n",
    "    #derviation of cost function\n",
    "    \n",
    "    \n",
    "    delta3 = (y_train - a3) * (der_sigmoid(a3))\n",
    "    gamma2 = np.dot(a2.T,delta3)\n",
    "    \n",
    "    delta2 = np.dot(delta3,w2.T) * (der_sigmoid(a2))\n",
    "    gamma1 = np.dot(X_train.T,delta2) #forward propagation test\n",
    "    \n",
    "    \n",
    "    #second layer output \n",
    "    z2_t=np.dot(X_test,w1)\n",
    "    a2_t=sigmoid(z2_t)\n",
    "    \n",
    "    \n",
    "    #final layer output \n",
    "\n",
    "    z3_t=np.dot(a2_t,w2)\n",
    "    a3_t=sigmoid(z3_t)    \n",
    "    \n",
    "    \n",
    "    #Backpropagation\n",
    "    \n",
    "    cost = 0.5 * (y_test - a3_t)**2\n",
    "    lis_test.append(np.sum(cost))\n",
    "    \n",
    "    \n",
    "    \n",
    "    #updating the weights\n",
    "\n",
    "    #learning rate\n",
    "    q=0.15\n",
    "    momen=0.1\n",
    "    \n",
    "    vel1=momen*vel1+q*(gamma1)\n",
    "    vel2=momen*vel2+q*(gamma2)\n",
    "    vel1.shape\n",
    "    #w1 += (q*(1/100)*gamma1)\n",
    "    w1= w1+(1/100)*vel1\n",
    "    #w2 += (q*(1/100)*gamma2)\n",
    "    w2= w2+(1/100)*vel2\n",
    "\n",
    "\n",
    "print('the prediction:\\n',a3[:8])\n",
    "print('\\n the output:\\n',y_train[:8])\n",
    "print('the cost is:\\n',np.sum(cost))"
   ]
  },
  {
   "cell_type": "markdown",
   "metadata": {},
   "source": [
    "#### Validasi Forward Propagation"
   ]
  },
  {
   "cell_type": "code",
   "execution_count": 42,
   "metadata": {},
   "outputs": [
    {
     "name": "stdout",
     "output_type": "stream",
     "text": [
      "the prediction:\n",
      " [[2.01322988e-02 3.71228926e-01 3.04326451e-01]\n",
      " [5.65449835e-03 2.38774962e-01 7.06599603e-01]\n",
      " [6.91230339e-03 2.77592091e-01 6.98586366e-01]\n",
      " [9.82894884e-01 4.89307281e-02 1.23523862e-05]\n",
      " [7.05666390e-03 2.78431512e-01 6.34547751e-01]]\n",
      "\n",
      " the output:\n",
      " [[0. 1. 0.]\n",
      " [0. 0. 1.]\n",
      " [0. 0. 1.]\n",
      " [1. 0. 0.]\n",
      " [0. 0. 1.]]\n"
     ]
    }
   ],
   "source": [
    "#forward propagation\n",
    "    \n",
    "#second layer output with 3 neuron\n",
    "z2=np.dot(X_test,w1)\n",
    "a2=sigmoid(z2)\n",
    "    \n",
    "    \n",
    "#final layer output with 3 neuron\n",
    "\n",
    "z3=np.dot(a2,w2)\n",
    "a3=sigmoid(z3)    \n",
    "    \n",
    "\n",
    "print('the prediction:\\n',a3[:5])\n",
    "print('\\n the output:\\n',y_test[:5])"
   ]
  },
  {
   "cell_type": "markdown",
   "metadata": {},
   "source": [
    "#### Karena output kita memiliki nilai kemungkina, maka kita mengaturnya kevektor kesatuan unitary seperti dibawah ini :"
   ]
  },
  {
   "cell_type": "code",
   "execution_count": 43,
   "metadata": {},
   "outputs": [],
   "source": [
    "from numpy import linalg as LA"
   ]
  },
  {
   "cell_type": "code",
   "execution_count": 44,
   "metadata": {},
   "outputs": [
    {
     "name": "stdout",
     "output_type": "stream",
     "text": [
      "[[0. 1. 0.]\n",
      " [0. 0. 1.]\n",
      " [0. 0. 1.]\n",
      " [1. 0. 0.]\n",
      " [0. 0. 1.]\n",
      " [0. 0. 1.]\n",
      " [0. 0. 1.]\n",
      " [0. 0. 1.]\n",
      " [0. 0. 1.]\n",
      " [1. 0. 0.]\n",
      " [1. 0. 0.]\n",
      " [0. 0. 1.]\n",
      " [0. 0. 1.]\n",
      " [1. 0. 0.]\n",
      " [1. 0. 0.]\n",
      " [0. 0. 1.]\n",
      " [0. 1. 0.]\n",
      " [0. 0. 1.]\n",
      " [0. 1. 0.]\n",
      " [1. 0. 0.]\n",
      " [1. 0. 0.]\n",
      " [1. 0. 0.]\n",
      " [0. 0. 1.]\n",
      " [1. 0. 0.]\n",
      " [0. 0. 1.]\n",
      " [0. 1. 0.]\n",
      " [0. 1. 0.]\n",
      " [1. 0. 0.]\n",
      " [1. 0. 0.]\n",
      " [0. 0. 1.]\n",
      " [0. 0. 1.]\n",
      " [1. 0. 0.]\n",
      " [1. 0. 0.]\n",
      " [0. 0. 1.]\n",
      " [1. 0. 0.]\n",
      " [0. 1. 0.]\n",
      " [0. 0. 1.]\n",
      " [0. 1. 0.]\n",
      " [1. 0. 0.]\n",
      " [1. 0. 0.]\n",
      " [0. 1. 0.]\n",
      " [1. 0. 0.]\n",
      " [0. 1. 0.]\n",
      " [1. 0. 0.]\n",
      " [0. 0. 1.]\n",
      " [1. 0. 0.]\n",
      " [1. 0. 0.]\n",
      " [0. 0. 1.]\n",
      " [1. 0. 0.]\n",
      " [1. 0. 0.]]\n"
     ]
    }
   ],
   "source": [
    "arr = np.zeros((a3.shape[0],a3.shape[1]))\n",
    "for i in range(a3.shape[0]):\n",
    "    for j in range(a3.shape[1]):\n",
    "        if LA.norm(a3[i],np.inf)==a3[i,j]:\n",
    "            arr[i,j]=1\n",
    "        else:\n",
    "            arr[i,j]=0\n",
    "            \n",
    "print(arr)\n",
    "#print(LA.norm(a4[0],np.inf))\n",
    "#print(a4[0])\n",
    "#print(a4[0,0])"
   ]
  },
  {
   "cell_type": "markdown",
   "metadata": {},
   "source": [
    "#### Untuk menghitung akurasi :"
   ]
  },
  {
   "cell_type": "code",
   "execution_count": 45,
   "metadata": {},
   "outputs": [],
   "source": [
    "from sklearn.metrics import accuracy_score,classification_report"
   ]
  },
  {
   "cell_type": "code",
   "execution_count": 46,
   "metadata": {},
   "outputs": [
    {
     "name": "stdout",
     "output_type": "stream",
     "text": [
      "0.92\n",
      "             precision    recall  f1-score   support\n",
      "\n",
      "          0       1.00      1.00      1.00        22\n",
      "          1       1.00      0.69      0.82        13\n",
      "          2       0.79      1.00      0.88        15\n",
      "\n",
      "avg / total       0.94      0.92      0.92        50\n",
      "\n"
     ]
    }
   ],
   "source": [
    "print(accuracy_score(y_test,arr))\n",
    "print(classification_report(y_test,arr))"
   ]
  },
  {
   "cell_type": "markdown",
   "metadata": {},
   "source": [
    "#### Rata-rata error swuared untuk Train set dan Test set :"
   ]
  },
  {
   "cell_type": "code",
   "execution_count": 47,
   "metadata": {},
   "outputs": [
    {
     "data": {
      "text/plain": [
       "<matplotlib.legend.Legend at 0x1f7c1da62b0>"
      ]
     },
     "execution_count": 47,
     "metadata": {},
     "output_type": "execute_result"
    },
    {
     "data": {
      "image/png": "[encoded data removed]",
      "text/plain": [
       "<matplotlib.figure.Figure at 0x1f7c1d398d0>"
      ]
     },
     "metadata": {},
     "output_type": "display_data"
    }
   ],
   "source": [
    "fig=plt.figure(figsize=(10,6))\n",
    "ax=fig.add_axes([0,0,1,1])\n",
    "ax.plot(range(0,10000),lis,label='MSE in train')\n",
    "ax.plot(range(0,10000),lis_test,label='MSE in test')\n",
    "ax.legend(loc=0)"
   ]
  },
  {
   "cell_type": "markdown",
   "metadata": {},
   "source": [
    "### Kesimpulan\n",
    "tujuan dalam penenlitian ini adalah untuk mendapatkan pencarian bobot pada Artificial Neural Network dalam Data set iris dengan menggunakan metode Backpropagation. Hasil analisis data menggunakan Artificial Neural Network dengan metode Backpropagation memberikan hasil yang maksismal. \n",
    "\n",
    "Di sini memiliki 150 sampel yang telah diberi label pada empat fitur, yang menggunakan peran pembelajaran multi layer perceptrone dan Back propagation yang membantu memperbarui bobot di setiap zaman untuk menemukan akurasi yang lebih baik. untuk banyak epochs cenderung overfitting, yang dalam statistik mengatakan bias rendah dan varians tinggi sehingga tidak dapat menemukan model yang baik untuk set data pengujian, dan jumlah epoch yang rendah mybe tidak dapat menyesuaikan model pada data saya dan dengan kata lain itu menyebabkan varians rendah dan bias tinggi, jadi saya mencoba jumlah epech yang berbeda untuk menemukan trade-off terbaik pada bias dan varians.\n",
    "\n",
    "juga memiliki parameter pengoptimalan lainnya seperti kecepatan pembelajaran (dalam kode ditampilkan sebagai q) dan momentum (ditampilkan sebagai momen) dan yang paling penting memiliki berbagai jenis fungsi aktivasi. (di sini menemukan RelU, sigmoid dan tanh)."
   ]
  },
  {
   "cell_type": "markdown",
   "metadata": {},
   "source": [
    "sumber https://github.com/navidsahleh/Back-Propagation-Neural-Network/tree/master/iris"
   ]
  }
 ],
 "metadata": {
  "kernelspec": {
   "display_name": "Python 3",
   "language": "python",
   "name": "python3"
  },
  "language_info": {
   "codemirror_mode": {
    "name": "ipython",
    "version": 3
   },
   "file_extension": ".py",
   "mimetype": "text/x-python",
   "name": "python",
   "nbconvert_exporter": "python",
   "pygments_lexer": "ipython3",
   "version": "3.6.4"
  }
 },
 "nbformat": 4,
 "nbformat_minor": 2
}
