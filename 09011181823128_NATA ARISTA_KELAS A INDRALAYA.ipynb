{
  "nbformat": 4,
  "nbformat_minor": 0,
  "metadata": {
    "colab": {
      "name": "Untitled8.ipynb",
      "provenance": []
    },
    "kernelspec": {
      "name": "python3",
      "display_name": "Python 3"
    }
  },
  "cells": [
    {
      "cell_type": "markdown",
      "metadata": {
        "id": "ksRcU0VuRJwM"
      },
      "source": [
        "1. Pengenalan SVM\n",
        "\n",
        "    Support Vector Machine (SVM) merupakan salah satu metode dalam supervised learning yang biasanya digunakan untuk klasifikasi (seperti Support Vector Classification) dan regresi (Support Vector Regression). Dalam pemodelan klasifikasi, SVM memiliki konsep yang lebih matang dan lebih jelas secara matematis dibandingkan dengan teknik-teknik klasifikasi lainnya. SVM juga dapat mengatasi masalah klasifikasi dan regresi dengan linear maupun non linear."
      ]
    },
    {
      "cell_type": "markdown",
      "metadata": {
        "id": "EYWb2l5GRnk8"
      },
      "source": [
        "2. Import Library"
      ]
    },
    {
      "cell_type": "code",
      "metadata": {
        "id": "wY7Z-nfORxwA"
      },
      "source": [
        "import pandas as pd\n",
        "import numpy as np\n",
        "import matplotlib.pyplot as plt\n"
      ],
      "execution_count": 2,
      "outputs": []
    },
    {
      "cell_type": "markdown",
      "metadata": {
        "id": "7YllZvo1SZL0"
      },
      "source": [
        "3. Load Dataset"
      ]
    },
    {
      "cell_type": "code",
      "metadata": {
        "id": "Xvat1zNFSboe",
        "outputId": "6ecd6ee1-85af-4a9a-981d-e6970595481f",
        "colab": {
          "base_uri": "https://localhost:8080/",
          "height": 609
        }
      },
      "source": [
        "df = pd.read_csv ('KIND.csv')\n",
        "df"
      ],
      "execution_count": 3,
      "outputs": [
        {
          "output_type": "execute_result",
          "data": {
            "text/html": [
              "<div>\n",
              "<style scoped>\n",
              "    .dataframe tbody tr th:only-of-type {\n",
              "        vertical-align: middle;\n",
              "    }\n",
              "\n",
              "    .dataframe tbody tr th {\n",
              "        vertical-align: top;\n",
              "    }\n",
              "\n",
              "    .dataframe thead th {\n",
              "        text-align: right;\n",
              "    }\n",
              "</style>\n",
              "<table border=\"1\" class=\"dataframe\">\n",
              "  <thead>\n",
              "    <tr style=\"text-align: right;\">\n",
              "      <th></th>\n",
              "      <th>date</th>\n",
              "      <th>actual_mean_temp</th>\n",
              "      <th>actual_min_temp</th>\n",
              "      <th>actual_max_temp</th>\n",
              "      <th>average_min_temp</th>\n",
              "      <th>average_max_temp</th>\n",
              "      <th>record_min_temp</th>\n",
              "      <th>record_max_temp</th>\n",
              "      <th>record_min_temp_year</th>\n",
              "      <th>record_max_temp_year</th>\n",
              "      <th>actual_precipitation</th>\n",
              "      <th>average_precipitation</th>\n",
              "      <th>record_precipitation</th>\n",
              "    </tr>\n",
              "  </thead>\n",
              "  <tbody>\n",
              "    <tr>\n",
              "      <th>0</th>\n",
              "      <td>2014-7-1</td>\n",
              "      <td>76</td>\n",
              "      <td>66</td>\n",
              "      <td>86</td>\n",
              "      <td>66</td>\n",
              "      <td>85</td>\n",
              "      <td>48</td>\n",
              "      <td>97</td>\n",
              "      <td>1885</td>\n",
              "      <td>1970</td>\n",
              "      <td>0.13</td>\n",
              "      <td>0.16</td>\n",
              "      <td>5.09</td>\n",
              "    </tr>\n",
              "    <tr>\n",
              "      <th>1</th>\n",
              "      <td>2014-7-2</td>\n",
              "      <td>71</td>\n",
              "      <td>63</td>\n",
              "      <td>79</td>\n",
              "      <td>66</td>\n",
              "      <td>85</td>\n",
              "      <td>50</td>\n",
              "      <td>99</td>\n",
              "      <td>1904</td>\n",
              "      <td>1970</td>\n",
              "      <td>0.00</td>\n",
              "      <td>0.16</td>\n",
              "      <td>4.50</td>\n",
              "    </tr>\n",
              "    <tr>\n",
              "      <th>2</th>\n",
              "      <td>2014-7-3</td>\n",
              "      <td>67</td>\n",
              "      <td>60</td>\n",
              "      <td>73</td>\n",
              "      <td>66</td>\n",
              "      <td>85</td>\n",
              "      <td>49</td>\n",
              "      <td>100</td>\n",
              "      <td>1968</td>\n",
              "      <td>1911</td>\n",
              "      <td>0.00</td>\n",
              "      <td>0.15</td>\n",
              "      <td>1.89</td>\n",
              "    </tr>\n",
              "    <tr>\n",
              "      <th>3</th>\n",
              "      <td>2014-7-4</td>\n",
              "      <td>67</td>\n",
              "      <td>54</td>\n",
              "      <td>79</td>\n",
              "      <td>66</td>\n",
              "      <td>85</td>\n",
              "      <td>48</td>\n",
              "      <td>103</td>\n",
              "      <td>1968</td>\n",
              "      <td>1911</td>\n",
              "      <td>0.00</td>\n",
              "      <td>0.15</td>\n",
              "      <td>2.40</td>\n",
              "    </tr>\n",
              "    <tr>\n",
              "      <th>4</th>\n",
              "      <td>2014-7-5</td>\n",
              "      <td>69</td>\n",
              "      <td>59</td>\n",
              "      <td>79</td>\n",
              "      <td>66</td>\n",
              "      <td>85</td>\n",
              "      <td>49</td>\n",
              "      <td>103</td>\n",
              "      <td>1972</td>\n",
              "      <td>2012</td>\n",
              "      <td>0.00</td>\n",
              "      <td>0.16</td>\n",
              "      <td>3.27</td>\n",
              "    </tr>\n",
              "    <tr>\n",
              "      <th>...</th>\n",
              "      <td>...</td>\n",
              "      <td>...</td>\n",
              "      <td>...</td>\n",
              "      <td>...</td>\n",
              "      <td>...</td>\n",
              "      <td>...</td>\n",
              "      <td>...</td>\n",
              "      <td>...</td>\n",
              "      <td>...</td>\n",
              "      <td>...</td>\n",
              "      <td>...</td>\n",
              "      <td>...</td>\n",
              "      <td>...</td>\n",
              "    </tr>\n",
              "    <tr>\n",
              "      <th>360</th>\n",
              "      <td>2015-6-26</td>\n",
              "      <td>71</td>\n",
              "      <td>66</td>\n",
              "      <td>76</td>\n",
              "      <td>65</td>\n",
              "      <td>85</td>\n",
              "      <td>49</td>\n",
              "      <td>102</td>\n",
              "      <td>1979</td>\n",
              "      <td>1954</td>\n",
              "      <td>1.57</td>\n",
              "      <td>0.14</td>\n",
              "      <td>3.09</td>\n",
              "    </tr>\n",
              "    <tr>\n",
              "      <th>361</th>\n",
              "      <td>2015-6-27</td>\n",
              "      <td>66</td>\n",
              "      <td>60</td>\n",
              "      <td>72</td>\n",
              "      <td>65</td>\n",
              "      <td>85</td>\n",
              "      <td>48</td>\n",
              "      <td>100</td>\n",
              "      <td>1926</td>\n",
              "      <td>1934</td>\n",
              "      <td>0.00</td>\n",
              "      <td>0.14</td>\n",
              "      <td>2.79</td>\n",
              "    </tr>\n",
              "    <tr>\n",
              "      <th>362</th>\n",
              "      <td>2015-6-28</td>\n",
              "      <td>67</td>\n",
              "      <td>55</td>\n",
              "      <td>78</td>\n",
              "      <td>65</td>\n",
              "      <td>85</td>\n",
              "      <td>50</td>\n",
              "      <td>104</td>\n",
              "      <td>1950</td>\n",
              "      <td>2012</td>\n",
              "      <td>0.09</td>\n",
              "      <td>0.15</td>\n",
              "      <td>1.65</td>\n",
              "    </tr>\n",
              "    <tr>\n",
              "      <th>363</th>\n",
              "      <td>2015-6-29</td>\n",
              "      <td>70</td>\n",
              "      <td>63</td>\n",
              "      <td>77</td>\n",
              "      <td>65</td>\n",
              "      <td>85</td>\n",
              "      <td>48</td>\n",
              "      <td>103</td>\n",
              "      <td>1923</td>\n",
              "      <td>2012</td>\n",
              "      <td>0.21</td>\n",
              "      <td>0.14</td>\n",
              "      <td>1.63</td>\n",
              "    </tr>\n",
              "    <tr>\n",
              "      <th>364</th>\n",
              "      <td>2015-6-30</td>\n",
              "      <td>73</td>\n",
              "      <td>64</td>\n",
              "      <td>82</td>\n",
              "      <td>65</td>\n",
              "      <td>85</td>\n",
              "      <td>46</td>\n",
              "      <td>97</td>\n",
              "      <td>1943</td>\n",
              "      <td>1933</td>\n",
              "      <td>0.00</td>\n",
              "      <td>0.14</td>\n",
              "      <td>1.50</td>\n",
              "    </tr>\n",
              "  </tbody>\n",
              "</table>\n",
              "<p>365 rows × 13 columns</p>\n",
              "</div>"
            ],
            "text/plain": [
              "          date  actual_mean_temp  ...  average_precipitation  record_precipitation\n",
              "0     2014-7-1                76  ...                   0.16                  5.09\n",
              "1     2014-7-2                71  ...                   0.16                  4.50\n",
              "2     2014-7-3                67  ...                   0.15                  1.89\n",
              "3     2014-7-4                67  ...                   0.15                  2.40\n",
              "4     2014-7-5                69  ...                   0.16                  3.27\n",
              "..         ...               ...  ...                    ...                   ...\n",
              "360  2015-6-26                71  ...                   0.14                  3.09\n",
              "361  2015-6-27                66  ...                   0.14                  2.79\n",
              "362  2015-6-28                67  ...                   0.15                  1.65\n",
              "363  2015-6-29                70  ...                   0.14                  1.63\n",
              "364  2015-6-30                73  ...                   0.14                  1.50\n",
              "\n",
              "[365 rows x 13 columns]"
            ]
          },
          "metadata": {
            "tags": []
          },
          "execution_count": 3
        }
      ]
    },
    {
      "cell_type": "code",
      "metadata": {
        "id": "q44E90GiS308",
        "outputId": "a536ed1f-29f0-4499-e6dc-d3fc83506e00",
        "colab": {
          "base_uri": "https://localhost:8080/",
          "height": 309
        }
      },
      "source": [
        "df.tail()"
      ],
      "execution_count": 4,
      "outputs": [
        {
          "output_type": "execute_result",
          "data": {
            "text/html": [
              "<div>\n",
              "<style scoped>\n",
              "    .dataframe tbody tr th:only-of-type {\n",
              "        vertical-align: middle;\n",
              "    }\n",
              "\n",
              "    .dataframe tbody tr th {\n",
              "        vertical-align: top;\n",
              "    }\n",
              "\n",
              "    .dataframe thead th {\n",
              "        text-align: right;\n",
              "    }\n",
              "</style>\n",
              "<table border=\"1\" class=\"dataframe\">\n",
              "  <thead>\n",
              "    <tr style=\"text-align: right;\">\n",
              "      <th></th>\n",
              "      <th>date</th>\n",
              "      <th>actual_mean_temp</th>\n",
              "      <th>actual_min_temp</th>\n",
              "      <th>actual_max_temp</th>\n",
              "      <th>average_min_temp</th>\n",
              "      <th>average_max_temp</th>\n",
              "      <th>record_min_temp</th>\n",
              "      <th>record_max_temp</th>\n",
              "      <th>record_min_temp_year</th>\n",
              "      <th>record_max_temp_year</th>\n",
              "      <th>actual_precipitation</th>\n",
              "      <th>average_precipitation</th>\n",
              "      <th>record_precipitation</th>\n",
              "    </tr>\n",
              "  </thead>\n",
              "  <tbody>\n",
              "    <tr>\n",
              "      <th>360</th>\n",
              "      <td>2015-6-26</td>\n",
              "      <td>71</td>\n",
              "      <td>66</td>\n",
              "      <td>76</td>\n",
              "      <td>65</td>\n",
              "      <td>85</td>\n",
              "      <td>49</td>\n",
              "      <td>102</td>\n",
              "      <td>1979</td>\n",
              "      <td>1954</td>\n",
              "      <td>1.57</td>\n",
              "      <td>0.14</td>\n",
              "      <td>3.09</td>\n",
              "    </tr>\n",
              "    <tr>\n",
              "      <th>361</th>\n",
              "      <td>2015-6-27</td>\n",
              "      <td>66</td>\n",
              "      <td>60</td>\n",
              "      <td>72</td>\n",
              "      <td>65</td>\n",
              "      <td>85</td>\n",
              "      <td>48</td>\n",
              "      <td>100</td>\n",
              "      <td>1926</td>\n",
              "      <td>1934</td>\n",
              "      <td>0.00</td>\n",
              "      <td>0.14</td>\n",
              "      <td>2.79</td>\n",
              "    </tr>\n",
              "    <tr>\n",
              "      <th>362</th>\n",
              "      <td>2015-6-28</td>\n",
              "      <td>67</td>\n",
              "      <td>55</td>\n",
              "      <td>78</td>\n",
              "      <td>65</td>\n",
              "      <td>85</td>\n",
              "      <td>50</td>\n",
              "      <td>104</td>\n",
              "      <td>1950</td>\n",
              "      <td>2012</td>\n",
              "      <td>0.09</td>\n",
              "      <td>0.15</td>\n",
              "      <td>1.65</td>\n",
              "    </tr>\n",
              "    <tr>\n",
              "      <th>363</th>\n",
              "      <td>2015-6-29</td>\n",
              "      <td>70</td>\n",
              "      <td>63</td>\n",
              "      <td>77</td>\n",
              "      <td>65</td>\n",
              "      <td>85</td>\n",
              "      <td>48</td>\n",
              "      <td>103</td>\n",
              "      <td>1923</td>\n",
              "      <td>2012</td>\n",
              "      <td>0.21</td>\n",
              "      <td>0.14</td>\n",
              "      <td>1.63</td>\n",
              "    </tr>\n",
              "    <tr>\n",
              "      <th>364</th>\n",
              "      <td>2015-6-30</td>\n",
              "      <td>73</td>\n",
              "      <td>64</td>\n",
              "      <td>82</td>\n",
              "      <td>65</td>\n",
              "      <td>85</td>\n",
              "      <td>46</td>\n",
              "      <td>97</td>\n",
              "      <td>1943</td>\n",
              "      <td>1933</td>\n",
              "      <td>0.00</td>\n",
              "      <td>0.14</td>\n",
              "      <td>1.50</td>\n",
              "    </tr>\n",
              "  </tbody>\n",
              "</table>\n",
              "</div>"
            ],
            "text/plain": [
              "          date  actual_mean_temp  ...  average_precipitation  record_precipitation\n",
              "360  2015-6-26                71  ...                   0.14                  3.09\n",
              "361  2015-6-27                66  ...                   0.14                  2.79\n",
              "362  2015-6-28                67  ...                   0.15                  1.65\n",
              "363  2015-6-29                70  ...                   0.14                  1.63\n",
              "364  2015-6-30                73  ...                   0.14                  1.50\n",
              "\n",
              "[5 rows x 13 columns]"
            ]
          },
          "metadata": {
            "tags": []
          },
          "execution_count": 4
        }
      ]
    },
    {
      "cell_type": "code",
      "metadata": {
        "id": "U3GbBE3MS6-Y",
        "outputId": "9f02217f-561d-487e-c0e2-cc7ce8d64919",
        "colab": {
          "base_uri": "https://localhost:8080/",
          "height": 34
        }
      },
      "source": [
        "df.shape"
      ],
      "execution_count": 5,
      "outputs": [
        {
          "output_type": "execute_result",
          "data": {
            "text/plain": [
              "(365, 13)"
            ]
          },
          "metadata": {
            "tags": []
          },
          "execution_count": 5
        }
      ]
    },
    {
      "cell_type": "code",
      "metadata": {
        "id": "apfDUnVsS8wa",
        "outputId": "02f1f8bb-9907-4d73-c8a5-ea8fb0e8e061",
        "colab": {
          "base_uri": "https://localhost:8080/",
          "height": 34
        }
      },
      "source": [
        "df.size"
      ],
      "execution_count": 6,
      "outputs": [
        {
          "output_type": "execute_result",
          "data": {
            "text/plain": [
              "4745"
            ]
          },
          "metadata": {
            "tags": []
          },
          "execution_count": 6
        }
      ]
    },
    {
      "cell_type": "code",
      "metadata": {
        "id": "isY-iqWUS-Su",
        "outputId": "ad684c2d-bb56-42ea-c50c-613d14286566",
        "colab": {
          "base_uri": "https://localhost:8080/",
          "height": 255
        }
      },
      "source": [
        "df.count()"
      ],
      "execution_count": 9,
      "outputs": [
        {
          "output_type": "execute_result",
          "data": {
            "text/plain": [
              "date                     365\n",
              "actual_mean_temp         365\n",
              "actual_min_temp          365\n",
              "actual_max_temp          365\n",
              "average_min_temp         365\n",
              "average_max_temp         365\n",
              "record_min_temp          365\n",
              "record_max_temp          365\n",
              "record_min_temp_year     365\n",
              "record_max_temp_year     365\n",
              "actual_precipitation     365\n",
              "average_precipitation    365\n",
              "record_precipitation     365\n",
              "dtype: int64"
            ]
          },
          "metadata": {
            "tags": []
          },
          "execution_count": 9
        }
      ]
    },
    {
      "cell_type": "code",
      "metadata": {
        "id": "4Yf6y_e3Wq38",
        "outputId": "a80802bd-cb76-4b06-f780-64b5bea33a8a",
        "colab": {
          "base_uri": "https://localhost:8080/",
          "height": 221
        }
      },
      "source": [
        "df['record_precipitation'].value_counts()"
      ],
      "execution_count": 13,
      "outputs": [
        {
          "output_type": "execute_result",
          "data": {
            "text/plain": [
              "1.56    7\n",
              "1.65    6\n",
              "1.90    6\n",
              "1.58    5\n",
              "1.48    5\n",
              "       ..\n",
              "2.22    1\n",
              "2.62    1\n",
              "1.88    1\n",
              "2.48    1\n",
              "4.50    1\n",
              "Name: record_precipitation, Length: 192, dtype: int64"
            ]
          },
          "metadata": {
            "tags": []
          },
          "execution_count": 13
        }
      ]
    },
    {
      "cell_type": "code",
      "metadata": {
        "id": "H9t_-XbkTGrl",
        "outputId": "d3e25a12-9f0b-4926-9b98-799547ff9e01",
        "colab": {
          "base_uri": "https://localhost:8080/",
          "height": 297
        }
      },
      "source": [
        "benign_df = df[df['record_precipitation']==1.56][0:200]\n",
        "malignant_df = df[df['record_precipitation']==1.65][0:20]\n",
        "\n",
        "axes = benign_df.plot(kind='scatter', x='actual_mean_temp', y='actual_min_temp', color='blue', label='Benign')\n",
        "\n",
        "malignant_df.plot(kind='scatter', x='actual_mean_temp', y='actual_min_temp', color='red', label='Malignant', ax=axes)\n",
        "\n",
        "\n",
        "#help(benign_df.plot)"
      ],
      "execution_count": 17,
      "outputs": [
        {
          "output_type": "execute_result",
          "data": {
            "text/plain": [
              "<matplotlib.axes._subplots.AxesSubplot at 0x7f5aa007d2e8>"
            ]
          },
          "metadata": {
            "tags": []
          },
          "execution_count": 17
        },
        {
          "output_type": "display_data",
          "data": {
            "image/png": "[encoded data removed]",
            "text/plain": [
              "<Figure size 432x288 with 1 Axes>"
            ]
          },
          "metadata": {
            "tags": [],
            "needs_background": "light"
          }
        }
      ]
    },
    {
      "cell_type": "code",
      "metadata": {
        "id": "R_EhPHvtTa_f",
        "outputId": "38756e54-2de6-4d0b-a744-8c59ac1fb1a6",
        "colab": {
          "base_uri": "https://localhost:8080/",
          "height": 255
        }
      },
      "source": [
        "df.dtypes "
      ],
      "execution_count": 18,
      "outputs": [
        {
          "output_type": "execute_result",
          "data": {
            "text/plain": [
              "date                      object\n",
              "actual_mean_temp           int64\n",
              "actual_min_temp            int64\n",
              "actual_max_temp            int64\n",
              "average_min_temp           int64\n",
              "average_max_temp           int64\n",
              "record_min_temp            int64\n",
              "record_max_temp            int64\n",
              "record_min_temp_year       int64\n",
              "record_max_temp_year       int64\n",
              "actual_precipitation     float64\n",
              "average_precipitation    float64\n",
              "record_precipitation     float64\n",
              "dtype: object"
            ]
          },
          "metadata": {
            "tags": []
          },
          "execution_count": 18
        }
      ]
    },
    {
      "cell_type": "code",
      "metadata": {
        "id": "O8zU_JxSYjqQ",
        "outputId": "06199230-6e17-47f2-b42a-90fe2af8a990",
        "colab": {
          "base_uri": "https://localhost:8080/",
          "height": 119
        }
      },
      "source": [
        "df.columns"
      ],
      "execution_count": 21,
      "outputs": [
        {
          "output_type": "execute_result",
          "data": {
            "text/plain": [
              "Index(['date', 'actual_mean_temp', 'actual_min_temp', 'actual_max_temp',\n",
              "       'average_min_temp', 'average_max_temp', 'record_min_temp',\n",
              "       'record_max_temp', 'record_min_temp_year', 'record_max_temp_year',\n",
              "       'actual_precipitation', 'average_precipitation',\n",
              "       'record_precipitation'],\n",
              "      dtype='object')"
            ]
          },
          "metadata": {
            "tags": []
          },
          "execution_count": 21
        }
      ]
    },
    {
      "cell_type": "code",
      "metadata": {
        "id": "Vii49_KQaJz0",
        "outputId": "a5759ad1-c57c-4577-f287-a43b4bbf5084",
        "colab": {
          "base_uri": "https://localhost:8080/",
          "height": 231
        }
      },
      "source": [
        "from sklearn.model_selection import train_test_split\n",
        "X_Train, X_Test, Y_Train, Y_Test = train_test_split(X, Y, test_size = 0.25, random_state = 0)\n",
        "\n",
        "# Feature Scaling\n",
        "\n",
        "from sklearn.preprocessing import StandardScaler\n",
        "sc_X = StandardScaler()\n",
        "X_Train = sc_X.fit_transform(X_Train)\n",
        "X_Test = sc_X.transform(X_Test)\n",
        "\n",
        "# Fitting the classifier into the Training set\n",
        "\n",
        "from sklearn.svm import SVC\n",
        "classifier = SVC(kernel = 'linear', random_state = 0)\n",
        "classifier.fit(X_Train, Y_Train)\n",
        "\n",
        "# Predicting the test set results\n",
        "\n",
        "Y_Pred = classifier.predict(X_Test)\n",
        "\n",
        "# Making the Confusion Matrix \n",
        "\n",
        "from sklearn.metrics import confusion_matrix\n",
        "cm = confusion_matrix(Y_Test, Y_Pred)\n",
        "\n",
        "# Visualising the Training set results\n",
        "\n",
        "from matplotlib.colors import ListedColormap\n",
        "X_Set, Y_Set = X_Train, Y_Train\n",
        "X1, X2 = np.meshgrid(np.arange(start = X_Set[:, 0].min() - 1, stop = X_Set[:, 0].max() + 1, step = 0.01),\n",
        "                     np.arange(start = X_Set[:, 1].min() - 1, stop = X_Set[:, 1].max() + 1, step = 0.01))\n",
        "plt.contourf(X1, X2, classifier.predict(np.array([X1.ravel(), X2.ravel()]).T).reshape(X1.shape),\n",
        "             alpha = 0.75, cmap = ListedColormap(('red', 'green')))\n",
        "plt.xlim(X1.min(), X1.max())\n",
        "plt.ylim(X2.min(), X2.max())\n",
        "for i, j in enumerate(np.unique(Y_Set)):\n",
        "    plt.scatter(X_Set[Y_Set == j, 0], X_Set[Y_Set == j, 1],\n",
        "                c = ListedColormap(('red', 'green'))(i), label = j)\n",
        "plt.title('Support Vector Machine (Training set)')\n",
        "plt.xlabel('Actual Mean Temp')\n",
        "plt.ylabel('Actual Min Temp')\n",
        "plt.legend()\n",
        "plt.show()\n",
        "\n",
        "# Visualising the Test set results\n",
        "\n",
        "from matplotlib.colors import ListedColormap\n",
        "X_Set, Y_Set = X_Test, Y_Test\n",
        "X1, X2 = np.meshgrid(np.arange(start = X_Set[:, 0].min() - 1, stop = X_Set[:, 0].max() + 1, step = 0.01),\n",
        "                     np.arange(start = X_Set[:, 1].min() - 1, stop = X_Set[:, 1].max() + 1, step = 0.01))\n",
        "plt.contourf(X1, X2, classifier.predict(np.array([X1.ravel(), X2.ravel()]).T).reshape(X1.shape),\n",
        "             alpha = 0.75, cmap = ListedColormap(('red', 'green')))\n",
        "plt.xlim(X1.min(), X1.max())\n",
        "plt.ylim(X2.min(), X2.max())\n",
        "for i, j in enumerate(np.unique(Y_Set)):\n",
        "    plt.scatter(X_Set[Y_Set == j, 0], X_Set[Y_Set == j, 1],\n",
        "                c = ListedColormap(('red', 'green'))(i), label = j)\n",
        "plt.title('Support Vector Machine (Test set)')\n",
        "plt.xlabel('Actual Mean Temp')\n",
        "plt.ylabel('Actuam Min Temp')\n",
        "plt.legend()\n",
        "plt.show()"
      ],
      "execution_count": 24,
      "outputs": [
        {
          "output_type": "error",
          "ename": "NameError",
          "evalue": "ignored",
          "traceback": [
            "\u001b[0;31m---------------------------------------------------------------------------\u001b[0m",
            "\u001b[0;31mNameError\u001b[0m                                 Traceback (most recent call last)",
            "\u001b[0;32m<ipython-input-24-a38d678e6bf6>\u001b[0m in \u001b[0;36m<module>\u001b[0;34m()\u001b[0m\n\u001b[1;32m      1\u001b[0m \u001b[0;32mfrom\u001b[0m \u001b[0msklearn\u001b[0m\u001b[0;34m.\u001b[0m\u001b[0mmodel_selection\u001b[0m \u001b[0;32mimport\u001b[0m \u001b[0mtrain_test_split\u001b[0m\u001b[0;34m\u001b[0m\u001b[0;34m\u001b[0m\u001b[0m\n\u001b[0;32m----> 2\u001b[0;31m \u001b[0mX_Train\u001b[0m\u001b[0;34m,\u001b[0m \u001b[0mX_Test\u001b[0m\u001b[0;34m,\u001b[0m \u001b[0mY_Train\u001b[0m\u001b[0;34m,\u001b[0m \u001b[0mY_Test\u001b[0m \u001b[0;34m=\u001b[0m \u001b[0mtrain_test_split\u001b[0m\u001b[0;34m(\u001b[0m\u001b[0mX\u001b[0m\u001b[0;34m,\u001b[0m \u001b[0mY\u001b[0m\u001b[0;34m,\u001b[0m \u001b[0mtest_size\u001b[0m \u001b[0;34m=\u001b[0m \u001b[0;36m0.25\u001b[0m\u001b[0;34m,\u001b[0m \u001b[0mrandom_state\u001b[0m \u001b[0;34m=\u001b[0m \u001b[0;36m0\u001b[0m\u001b[0;34m)\u001b[0m\u001b[0;34m\u001b[0m\u001b[0;34m\u001b[0m\u001b[0m\n\u001b[0m\u001b[1;32m      3\u001b[0m \u001b[0;34m\u001b[0m\u001b[0m\n\u001b[1;32m      4\u001b[0m \u001b[0;31m# Feature Scaling\u001b[0m\u001b[0;34m\u001b[0m\u001b[0;34m\u001b[0m\u001b[0;34m\u001b[0m\u001b[0m\n\u001b[1;32m      5\u001b[0m \u001b[0;34m\u001b[0m\u001b[0m\n",
            "\u001b[0;31mNameError\u001b[0m: name 'X' is not defined"
          ]
        }
      ]
    },
    {
      "cell_type": "markdown",
      "metadata": {
        "id": "cRo70W3mhrb_"
      },
      "source": [
        "Sumber Dataset : https://github.com/fivethirtyeight/data/blob/master/us-weather-history/KIND.csv\n",
        "Sumber Code : https://www.youtube.com/watch?v=7sz4WpkUIIs&feature=youtu.be"
      ]
    },
    {
      "cell_type": "code",
      "metadata": {
        "id": "hHfLrmCUb3OM"
      },
      "source": [
        ""
      ],
      "execution_count": null,
      "outputs": []
    }
  ]
}