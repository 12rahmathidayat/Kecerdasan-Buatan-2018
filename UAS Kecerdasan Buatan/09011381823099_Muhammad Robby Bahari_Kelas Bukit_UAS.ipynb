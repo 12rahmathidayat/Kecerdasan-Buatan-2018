{
 "cells": [
  {
   "cell_type": "markdown",
   "metadata": {},
   "source": [
    "<h1> Muhammad Robby Bahari\n",
    "<h1> 09011381823099\n",
    "<h1> Sistem Komputer"
   ]
  },
  {
   "cell_type": "markdown",
   "metadata": {},
   "source": [
    "<h4>------------------------------------------------------------------------------------------------------------------------------------------------------------------------------------------------------------------"
   ]
  },
  {
   "cell_type": "markdown",
   "metadata": {},
   "source": [
    "<h3> PREDIKSI SAT SCORE BERDASARKAN NILAI GPA MENGGUNAKAN METODE LINIER REGRESSION"
   ]
  },
  {
   "cell_type": "markdown",
   "metadata": {},
   "source": [
    "Linier Regresi sebuah pendekatan untuk memodelkan hubungan antara variabel terikat Y dan satu atau lebih variabel bebas yang disebut X. Salah satu kegunaan dari regresi linear adalah untuk melakukan prediksi berdasarkan data-data yang telah dimiliki sebelumnya. Hubungan di antara variable-variabel tersebut disebut sebagai model regresi linear."
   ]
  },
  {
   "cell_type": "markdown",
   "metadata": {},
   "source": [
    "<h4> Library yang dibutuhkan"
   ]
  },
  {
   "cell_type": "code",
   "execution_count": 1,
   "metadata": {
    "colab": {},
    "colab_type": "code",
    "executionInfo": {
     "elapsed": 1224,
     "status": "ok",
     "timestamp": 1594564869557,
     "user": {
      "displayName": "Hamza M",
      "photoUrl": "https://lh3.googleusercontent.com/a-/AOh14GhYLJ96MQP59ThWTa9_XczPrdLmyoxBS9BMROVs6Q=s64",
      "userId": "17745065464791850276"
     },
     "user_tz": -60
    },
    "id": "WMv4AmFwMjds"
   },
   "outputs": [],
   "source": [
    "import numpy as np\n",
    "import matplotlib.pyplot as plt\n",
    "import pandas as pd"
   ]
  },
  {
   "cell_type": "markdown",
   "metadata": {},
   "source": [
    "Numpy      : Berfungsi untuk mengolah data yang bersifat numerik\n",
    "\n",
    "Matplotlib : Berfungsi untuk membuat visualisasi plot (grafik)\n",
    "\n",
    "Pandas     : Berfungsi untuk membuat analysis tools"
   ]
  },
  {
   "cell_type": "markdown",
   "metadata": {},
   "source": [
    "<h4> Import dataset"
   ]
  },
  {
   "cell_type": "code",
   "execution_count": 2,
   "metadata": {
    "colab": {},
    "colab_type": "code",
    "id": "HckbROpgMzLY"
   },
   "outputs": [
    {
     "data": {
      "text/html": [
       "<div>\n",
       "<style scoped>\n",
       "    .dataframe tbody tr th:only-of-type {\n",
       "        vertical-align: middle;\n",
       "    }\n",
       "\n",
       "    .dataframe tbody tr th {\n",
       "        vertical-align: top;\n",
       "    }\n",
       "\n",
       "    .dataframe thead th {\n",
       "        text-align: right;\n",
       "    }\n",
       "</style>\n",
       "<table border=\"1\" class=\"dataframe\">\n",
       "  <thead>\n",
       "    <tr style=\"text-align: right;\">\n",
       "      <th></th>\n",
       "      <th>GPA</th>\n",
       "      <th>SAT Score</th>\n",
       "    </tr>\n",
       "  </thead>\n",
       "  <tbody>\n",
       "    <tr>\n",
       "      <th>0</th>\n",
       "      <td>2.714</td>\n",
       "      <td>1480</td>\n",
       "    </tr>\n",
       "    <tr>\n",
       "      <th>1</th>\n",
       "      <td>3.418</td>\n",
       "      <td>1620</td>\n",
       "    </tr>\n",
       "    <tr>\n",
       "      <th>2</th>\n",
       "      <td>4.325</td>\n",
       "      <td>2070</td>\n",
       "    </tr>\n",
       "    <tr>\n",
       "      <th>3</th>\n",
       "      <td>2.552</td>\n",
       "      <td>1200</td>\n",
       "    </tr>\n",
       "    <tr>\n",
       "      <th>4</th>\n",
       "      <td>2.634</td>\n",
       "      <td>1300</td>\n",
       "    </tr>\n",
       "  </tbody>\n",
       "</table>\n",
       "</div>"
      ],
      "text/plain": [
       "     GPA  SAT Score\n",
       "0  2.714       1480\n",
       "1  3.418       1620\n",
       "2  4.325       2070\n",
       "3  2.552       1200\n",
       "4  2.634       1300"
      ]
     },
     "execution_count": 2,
     "metadata": {},
     "output_type": "execute_result"
    }
   ],
   "source": [
    "dataset = pd.read_csv('data.csv')\n",
    "dataset.head()"
   ]
  },
  {
   "cell_type": "markdown",
   "metadata": {},
   "source": [
    "<h4> Memisahkan Features dan Label"
   ]
  },
  {
   "cell_type": "code",
   "execution_count": 3,
   "metadata": {},
   "outputs": [],
   "source": [
    "X = dataset.iloc[:, :-1].values\n",
    "y = dataset.iloc[:, -1].values"
   ]
  },
  {
   "cell_type": "markdown",
   "metadata": {},
   "source": [
    "#### Split data\n",
    "Keterangan: Pada tahap ini menggunakan data training sebesar 80% dan data testing sebesar 20%"
   ]
  },
  {
   "cell_type": "code",
   "execution_count": 4,
   "metadata": {
    "colab": {},
    "colab_type": "code",
    "id": "4Rf7hlx-ND4h"
   },
   "outputs": [],
   "source": [
    "#Train test split untuk memudahkan proses pembagian data\n",
    "from sklearn.model_selection import train_test_split\n",
    "X_train, X_test, y_train, y_test = train_test_split(X, y, test_size=0.2, random_state=0)"
   ]
  },
  {
   "cell_type": "markdown",
   "metadata": {},
   "source": [
    "<h4> Hasil Split data"
   ]
  },
  {
   "cell_type": "code",
   "execution_count": 5,
   "metadata": {},
   "outputs": [
    {
     "name": "stdout",
     "output_type": "stream",
     "text": [
      "X_train =  (27, 1)\n",
      "X_test =  (7, 1)\n",
      "y_train =  (27,)\n",
      "y_test =  (7,)\n"
     ]
    }
   ],
   "source": [
    "print('X_train = ', X_train.shape)\n",
    "print('X_test = ', X_test.shape)\n",
    "print('y_train = ', y_train.shape)\n",
    "print('y_test = ', y_test.shape)"
   ]
  },
  {
   "cell_type": "markdown",
   "metadata": {},
   "source": [
    "<h4> Training model"
   ]
  },
  {
   "cell_type": "code",
   "execution_count": 6,
   "metadata": {
    "colab": {
     "base_uri": "https://localhost:8080/",
     "height": 34
    },
    "colab_type": "code",
    "executionInfo": {
     "elapsed": 961,
     "status": "ok",
     "timestamp": 1594405617123,
     "user": {
      "displayName": "Hamza M",
      "photoUrl": "https://lh3.googleusercontent.com/a-/AOh14GhYLJ96MQP59ThWTa9_XczPrdLmyoxBS9BMROVs6Q=s64",
      "userId": "17745065464791850276"
     },
     "user_tz": -60
    },
    "id": "sNFG5X_bNKMt",
    "outputId": "89b37e6e-1e27-40ca-89f3-ce587903e600"
   },
   "outputs": [
    {
     "data": {
      "text/plain": [
       "LinearRegression()"
      ]
     },
     "execution_count": 6,
     "metadata": {},
     "output_type": "execute_result"
    }
   ],
   "source": [
    "# Digunakan untuk memanggil algoritma Linear Regression.\n",
    "from sklearn.linear_model import LinearRegression\n",
    "regressor = LinearRegression()\n",
    "regressor.fit(X_train, y_train)"
   ]
  },
  {
   "cell_type": "code",
   "execution_count": 7,
   "metadata": {
    "colab": {},
    "colab_type": "code",
    "id": "bEoHESYcNOYP"
   },
   "outputs": [
    {
     "data": {
      "text/plain": [
       "array([1060.15856909, 1486.17470284,  734.13017385, 1340.03877732,\n",
       "       1996.7958461 , 1216.12234925, 1360.12178463])"
      ]
     },
     "execution_count": 7,
     "metadata": {},
     "output_type": "execute_result"
    }
   ],
   "source": [
    "# Memprediksi hasil test set\n",
    "y_pred = regressor.predict(X_test)\n",
    "y_pred"
   ]
  },
  {
   "cell_type": "markdown",
   "metadata": {},
   "source": [
    "<h4> Membuat Visualisasi Hasil Training"
   ]
  },
  {
   "cell_type": "code",
   "execution_count": 8,
   "metadata": {
    "colab": {
     "base_uri": "https://localhost:8080/",
     "height": 295
    },
    "colab_type": "code",
    "executionInfo": {
     "elapsed": 875,
     "status": "ok",
     "timestamp": 1594405621874,
     "user": {
      "displayName": "Hamza M",
      "photoUrl": "https://lh3.googleusercontent.com/a-/AOh14GhYLJ96MQP59ThWTa9_XczPrdLmyoxBS9BMROVs6Q=s64",
      "userId": "17745065464791850276"
     },
     "user_tz": -60
    },
    "id": "F9qFK5NzNRT4",
    "outputId": "1c2a80d5-d1eb-4bca-c69b-cc6403fc52fe"
   },
   "outputs": [
    {
     "data": {
      "image/png": "[encoded data removed]",
      "text/plain": [
       "<Figure size 432x288 with 1 Axes>"
      ]
     },
     "metadata": {
      "needs_background": "light"
     },
     "output_type": "display_data"
    }
   ],
   "source": [
    "# Membuat plot untuk data training\n",
    "plt.title('SAT Score vs GPA (Training set)')\n",
    "plt.xlabel('GPA')\n",
    "plt.ylabel('SAT')\n",
    "plt.scatter(X_train, y_train, color='red')\n",
    "plt.plot(X_train, regressor.predict(X_train), color='blue')\n",
    "plt.show()"
   ]
  },
  {
   "cell_type": "markdown",
   "metadata": {},
   "source": [
    "<h4> Membuat Visualisasi Test Set"
   ]
  },
  {
   "cell_type": "code",
   "execution_count": 9,
   "metadata": {
    "colab": {
     "base_uri": "https://localhost:8080/",
     "height": 295
    },
    "colab_type": "code",
    "executionInfo": {
     "elapsed": 631,
     "status": "ok",
     "timestamp": 1594405625868,
     "user": {
      "displayName": "Hamza M",
      "photoUrl": "https://lh3.googleusercontent.com/a-/AOh14GhYLJ96MQP59ThWTa9_XczPrdLmyoxBS9BMROVs6Q=s64",
      "userId": "17745065464791850276"
     },
     "user_tz": -60
    },
    "id": "D0Hks0B2Nm1u",
    "outputId": "46d9030d-c740-4f17-a654-00963f154fc9"
   },
   "outputs": [
    {
     "data": {
      "image/png": "[encoded data removed]",
      "text/plain": [
       "<Figure size 432x288 with 1 Axes>"
      ]
     },
     "metadata": {
      "needs_background": "light"
     },
     "output_type": "display_data"
    }
   ],
   "source": [
    "# Membuat plot untuk data test set\n",
    "plt.title('SAT Score vs GPA (Test set)')\n",
    "plt.xlabel('GPA')\n",
    "plt.ylabel('SAT')\n",
    "plt.scatter(X_test, y_test, color='red')\n",
    "plt.plot(X_test, y_pred, color='blue')\n",
    "plt.show()"
   ]
  },
  {
   "cell_type": "markdown",
   "metadata": {},
   "source": [
    "<h4> Prediksi"
   ]
  },
  {
   "cell_type": "code",
   "execution_count": 10,
   "metadata": {
    "colab": {
     "base_uri": "https://localhost:8080/",
     "height": 70
    },
    "colab_type": "code",
    "executionInfo": {
     "elapsed": 3534,
     "status": "ok",
     "timestamp": 1594406510703,
     "user": {
      "displayName": "Hamza M",
      "photoUrl": "https://lh3.googleusercontent.com/a-/AOh14GhYLJ96MQP59ThWTa9_XczPrdLmyoxBS9BMROVs6Q=s64",
      "userId": "17745065464791850276"
     },
     "user_tz": -60
    },
    "id": "dJpwOyHRao_-",
    "outputId": "131447af-f93d-4917-a8ab-6d1d5e7435fa"
   },
   "outputs": [
    {
     "name": "stdout",
     "output_type": "stream",
     "text": [
      "Enter GPA (a number between 0 and 4, inclusive):\n",
      "4\n",
      "Predicted SAT score: 1858\n"
     ]
    }
   ],
   "source": [
    "print(\"Enter GPA (a number between 0 and 4, inclusive):\")\n",
    "x = float(input())\n",
    "if x >= 0 and x <= 4:\n",
    "  print(\"Predicted SAT score:\", int(round(regressor.predict([[x]])[0])))\n",
    "else: print(\"Invalid GPA\")"
   ]
  },
  {
   "cell_type": "markdown",
   "metadata": {},
   "source": [
    "#### Kesimpulan\n",
    "Dapat disimpulkan bahwa nilai prediksi dari GPA sebesar 4 yaitu dengan set score 1858"
   ]
  }
 ],
 "metadata": {
  "colab": {
   "authorship_tag": "ABX9TyPNbzesko6WORifFtEq5+iW",
   "collapsed_sections": [],
   "name": "GPA_SAT_Model.ipynb",
   "provenance": []
  },
  "kernelspec": {
   "display_name": "Python 3",
   "language": "python",
   "name": "python3"
  },
  "language_info": {
   "codemirror_mode": {
    "name": "ipython",
    "version": 3
   },
   "file_extension": ".py",
   "mimetype": "text/x-python",
   "name": "python",
   "nbconvert_exporter": "python",
   "pygments_lexer": "ipython3",
   "version": "3.8.3"
  }
 },
 "nbformat": 4,
 "nbformat_minor": 1
}
