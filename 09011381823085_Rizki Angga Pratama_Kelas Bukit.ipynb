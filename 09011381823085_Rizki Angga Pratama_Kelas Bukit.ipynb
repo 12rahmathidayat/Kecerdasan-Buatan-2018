{
 "cells": [
  {
   "cell_type": "markdown",
   "metadata": {},
   "source": [
    "<h1> Case SVM By: \n",
    "    Rizki Angga Pratama\n",
    "    09011381823085\n",
    "\n",
    "Support vector machines (SVM) are a particularly powerful and flexible class of supervised algorithms for both classification and regression. In this section, we will develop the intuition behind support vector machines and their use in classification problems."
   ]
  },
  {
   "cell_type": "markdown",
   "metadata": {
    "colab_type": "text",
    "id": "tmUwFVJ1_B7M"
   },
   "source": [
    "Tahap 1: Import Paket"
   ]
  },
  {
   "cell_type": "code",
   "execution_count": 0,
   "metadata": {
    "colab": {
     "autoexec": {
      "startup": false,
      "wait_interval": 0
     }
    },
    "colab_type": "code",
    "id": "IOo6pM9AL9Yr"
   },
   "outputs": [],
   "source": [
    "# Packages for analysis\n",
    "import pandas as pd\n",
    "import numpy as np\n",
    "from sklearn import svm\n",
    "\n",
    "# Packages for visuals\n",
    "import matplotlib.pyplot as plt\n",
    "import seaborn as sns; sns.set(font_scale=1.2)\n",
    "\n",
    "# Allows charts to appear in the notebook\n",
    "%matplotlib inline\n",
    "\n",
    "# Pickle package\n",
    "import pickle"
   ]
  },
  {
   "cell_type": "markdown",
   "metadata": {
    "colab_type": "text",
    "id": "5tXpsxzp_Ima"
   },
   "source": [
    "Tahap 2: Import Data CSV"
   ]
  },
  {
   "cell_type": "code",
   "execution_count": 3,
   "metadata": {
    "colab": {
     "autoexec": {
      "startup": false,
      "wait_interval": 0
     },
     "base_uri": "https://localhost:8080/",
     "height": 863
    },
    "colab_type": "code",
    "executionInfo": {
     "elapsed": 803,
     "status": "error",
     "timestamp": 1528473899497,
     "user": {
      "displayName": "Dodit Suprianto",
      "photoUrl": "//lh3.googleusercontent.com/-RyzMCxIRyVs/AAAAAAAAAAI/AAAAAAAAAAg/yyPTHdI7qfk/s50-c-k-no/photo.jpg",
      "userId": "106039849622030611910"
     },
     "user_tz": -420
    },
    "id": "vm2N4KqsMEad",
    "outputId": "29beddbc-a322-4570-be74-7ad7193c9d96"
   },
   "outputs": [
    {
     "data": {
      "text/plain": [
       "'recipes_muffins_cupcakes.csv'"
      ]
     },
     "execution_count": 3,
     "metadata": {},
     "output_type": "execute_result"
    }
   ],
   "source": [
    "# Read in muffin and cupcake ingredient data\n",
    "recipes = ('recipes_muffins_cupcakes.csv')\n",
    "recipes"
   ]
  },
  {
   "cell_type": "markdown",
   "metadata": {
    "colab_type": "text",
    "id": "OldUtF8N_Pe-"
   },
   "source": [
    "Tahap 3: Persiapan Data"
   ]
  },
  {
   "cell_type": "code",
   "execution_count": 51,
   "metadata": {
    "colab": {
     "autoexec": {
      "startup": false,
      "wait_interval": 0
     },
     "base_uri": "https://localhost:8080/",
     "height": 369
    },
    "colab_type": "code",
    "executionInfo": {
     "elapsed": 811,
     "status": "ok",
     "timestamp": 1528473625607,
     "user": {
      "displayName": "Dodit Suprianto",
      "photoUrl": "//lh3.googleusercontent.com/-RyzMCxIRyVs/AAAAAAAAAAI/AAAAAAAAAAg/yyPTHdI7qfk/s50-c-k-no/photo.jpg",
      "userId": "106039849622030611910"
     },
     "user_tz": -420
    },
    "id": "yCV0BL5MpHM6",
    "outputId": "9f165ea4-f2fe-4599-9033-247008c4130d"
   },
   "outputs": [
    {
     "data": {
      "image/png": "[encoded data removed]",
      "text/plain": [
       "<matplotlib.figure.Figure at 0x7fdea2155910>"
      ]
     },
     "metadata": {
      "tags": []
     },
     "output_type": "display_data"
    }
   ],
   "source": [
    "# Plot two ingredients\n",
    "sns.lmplot('Flour', 'Sugar', data=recipes, hue='Type',\n",
    "           palette='Set1', fit_reg=False, scatter_kws={\"s\": 70});"
   ]
  },
  {
   "cell_type": "code",
   "execution_count": 52,
   "metadata": {
    "colab": {
     "autoexec": {
      "startup": false,
      "wait_interval": 0
     },
     "base_uri": "https://localhost:8080/",
     "height": 34
    },
    "colab_type": "code",
    "executionInfo": {
     "elapsed": 718,
     "status": "ok",
     "timestamp": 1528473626437,
     "user": {
      "displayName": "Dodit Suprianto",
      "photoUrl": "//lh3.googleusercontent.com/-RyzMCxIRyVs/AAAAAAAAAAI/AAAAAAAAAAg/yyPTHdI7qfk/s50-c-k-no/photo.jpg",
      "userId": "106039849622030611910"
     },
     "user_tz": -420
    },
    "id": "d-e6Dp410uXM",
    "outputId": "e5bddae4-11c2-4530-99ad-7e7d422a1aca"
   },
   "outputs": [
    {
     "data": {
      "text/plain": [
       "['Flour', 'Milk', 'Sugar', 'Butter', 'Egg', 'Baking Powder', 'Vanilla', 'Salt']"
      ]
     },
     "execution_count": 52,
     "metadata": {
      "tags": []
     },
     "output_type": "execute_result"
    }
   ],
   "source": [
    "# Specify inputs for the model\n",
    "# ingredients = recipes[['Flour', 'Milk', 'Sugar', 'Butter', 'Egg', 'Baking Powder', 'Vanilla', 'Salt']].as_matrix()\n",
    "ingredients = recipes[['Flour','Sugar']].as_matrix()\n",
    "type_label = np.where(recipes['Type']=='Muffin', 0, 1)\n",
    "\n",
    "# Feature names\n",
    "recipe_features = recipes.columns.values[1:].tolist()\n",
    "recipe_features"
   ]
  },
  {
   "cell_type": "markdown",
   "metadata": {
    "colab_type": "text",
    "id": "8zneawCp_X1y"
   },
   "source": [
    "Tahap 4: Fit Model"
   ]
  },
  {
   "cell_type": "code",
   "execution_count": 53,
   "metadata": {
    "colab": {
     "autoexec": {
      "startup": false,
      "wait_interval": 0
     },
     "base_uri": "https://localhost:8080/",
     "height": 85
    },
    "colab_type": "code",
    "executionInfo": {
     "elapsed": 784,
     "status": "ok",
     "timestamp": 1528473627919,
     "user": {
      "displayName": "Dodit Suprianto",
      "photoUrl": "//lh3.googleusercontent.com/-RyzMCxIRyVs/AAAAAAAAAAI/AAAAAAAAAAg/yyPTHdI7qfk/s50-c-k-no/photo.jpg",
      "userId": "106039849622030611910"
     },
     "user_tz": -420
    },
    "id": "dH2JESFA1mcX",
    "outputId": "1dad8d8f-51bb-4554-edc6-d0d193dc3211"
   },
   "outputs": [
    {
     "data": {
      "text/plain": [
       "SVC(C=1.0, cache_size=200, class_weight=None, coef0=0.0,\n",
       "  decision_function_shape='ovr', degree=3, gamma='auto', kernel='linear',\n",
       "  max_iter=-1, probability=False, random_state=None, shrinking=True,\n",
       "  tol=0.001, verbose=False)"
      ]
     },
     "execution_count": 53,
     "metadata": {
      "tags": []
     },
     "output_type": "execute_result"
    }
   ],
   "source": [
    "# Fit the SVM model\n",
    "model = svm.SVC(kernel='linear')\n",
    "model.fit(ingredients, type_label)"
   ]
  },
  {
   "cell_type": "markdown",
   "metadata": {
    "colab_type": "text",
    "id": "goseqDoj_53S"
   },
   "source": [
    "Tahap 5: Visualisasi Data"
   ]
  },
  {
   "cell_type": "code",
   "execution_count": 0,
   "metadata": {
    "colab": {
     "autoexec": {
      "startup": false,
      "wait_interval": 0
     }
    },
    "colab_type": "code",
    "id": "pHa4qWfS2gN4"
   },
   "outputs": [],
   "source": [
    "# Get the separating hyperplane\n",
    "w = model.coef_[0]\n",
    "a = -w[0] / w[1]\n",
    "xx = np.linspace(30, 60)\n",
    "yy = a * xx - (model.intercept_[0]) / w[1]\n",
    "\n",
    "# Plot the parallels to the separating hyperplane that pass through the support vectors\n",
    "b = model.support_vectors_[0]\n",
    "yy_down = a * xx + (b[1] - a * b[0])\n",
    "b = model.support_vectors_[-1]\n",
    "yy_up = a * xx + (b[1] - a * b[0])"
   ]
  },
  {
   "cell_type": "code",
   "execution_count": 55,
   "metadata": {
    "colab": {
     "autoexec": {
      "startup": false,
      "wait_interval": 0
     },
     "base_uri": "https://localhost:8080/",
     "height": 381
    },
    "colab_type": "code",
    "executionInfo": {
     "elapsed": 641,
     "status": "ok",
     "timestamp": 1528473630001,
     "user": {
      "displayName": "Dodit Suprianto",
      "photoUrl": "//lh3.googleusercontent.com/-RyzMCxIRyVs/AAAAAAAAAAI/AAAAAAAAAAg/yyPTHdI7qfk/s50-c-k-no/photo.jpg",
      "userId": "106039849622030611910"
     },
     "user_tz": -420
    },
    "id": "__s1A5Sa2jeq",
    "outputId": "6c01423d-a949-4d1e-c111-0a459b856f5c"
   },
   "outputs": [
    {
     "data": {
      "image/png": "[encoded data removed]",
      "text/plain": [
       "<matplotlib.figure.Figure at 0x7fdea1de5ad0>"
      ]
     },
     "metadata": {
      "tags": []
     },
     "output_type": "display_data"
    }
   ],
   "source": [
    "# Plot the hyperplane\n",
    "sns.lmplot('Flour', 'Sugar', data=recipes, hue='Type', palette='Set1', fit_reg=False, scatter_kws={\"s\": 70})\n",
    "plt.plot(xx, yy, linewidth=2, color='black');"
   ]
  },
  {
   "cell_type": "code",
   "execution_count": 56,
   "metadata": {
    "colab": {
     "autoexec": {
      "startup": false,
      "wait_interval": 0
     },
     "base_uri": "https://localhost:8080/",
     "height": 381
    },
    "colab_type": "code",
    "executionInfo": {
     "elapsed": 898,
     "status": "ok",
     "timestamp": 1528473631002,
     "user": {
      "displayName": "Dodit Suprianto",
      "photoUrl": "//lh3.googleusercontent.com/-RyzMCxIRyVs/AAAAAAAAAAI/AAAAAAAAAAg/yyPTHdI7qfk/s50-c-k-no/photo.jpg",
      "userId": "106039849622030611910"
     },
     "user_tz": -420
    },
    "id": "VcQujXT_8MqL",
    "outputId": "ffdcb523-0ca5-44c8-991d-289d3f6a6f80"
   },
   "outputs": [
    {
     "data": {
      "image/png": "[encoded data removed]",
      "text/plain": [
       "<matplotlib.figure.Figure at 0x7fdea1dee990>"
      ]
     },
     "metadata": {
      "tags": []
     },
     "output_type": "display_data"
    }
   ],
   "source": [
    "# Look at the margins and support vectors\n",
    "sns.lmplot('Flour', 'Sugar', data=recipes, hue='Type', palette='Set1', fit_reg=False, scatter_kws={\"s\": 70})\n",
    "plt.plot(xx, yy, linewidth=2, color='black')\n",
    "plt.plot(xx, yy_down, 'k--')\n",
    "plt.plot(xx, yy_up, 'k--')\n",
    "plt.scatter(model.support_vectors_[:, 0], model.support_vectors_[:, 1],\n",
    "            s=80, facecolors='none');"
   ]
  },
  {
   "cell_type": "markdown",
   "metadata": {
    "colab_type": "text",
    "id": "ZgOuwSR_ADEY"
   },
   "source": [
    "Tahap 6: Prediksi Untuk Kasus Baru"
   ]
  },
  {
   "cell_type": "code",
   "execution_count": 0,
   "metadata": {
    "colab": {
     "autoexec": {
      "startup": false,
      "wait_interval": 0
     }
    },
    "colab_type": "code",
    "id": "9jwEEbX29O0u"
   },
   "outputs": [],
   "source": [
    "# Create a function to guess when a recipe is a muffin or a cupcake\n",
    "def muffin_or_cupcake(flour, sugar):\n",
    "    if(model.predict([[flour, sugar]]))==0:\n",
    "        print('You\\'re looking at a muffin recipe!')\n",
    "    else:\n",
    "        print('You\\'re looking at a cupcake recipe!')"
   ]
  },
  {
   "cell_type": "code",
   "execution_count": 58,
   "metadata": {
    "colab": {
     "autoexec": {
      "startup": false,
      "wait_interval": 0
     },
     "base_uri": "https://localhost:8080/",
     "height": 34
    },
    "colab_type": "code",
    "executionInfo": {
     "elapsed": 754,
     "status": "ok",
     "timestamp": 1528473632640,
     "user": {
      "displayName": "Dodit Suprianto",
      "photoUrl": "//lh3.googleusercontent.com/-RyzMCxIRyVs/AAAAAAAAAAI/AAAAAAAAAAg/yyPTHdI7qfk/s50-c-k-no/photo.jpg",
      "userId": "106039849622030611910"
     },
     "user_tz": -420
    },
    "id": "hWL5HHTu9QH-",
    "outputId": "84a6da81-1e99-41b9-e6a2-64f7dc22fc56"
   },
   "outputs": [
    {
     "name": "stdout",
     "output_type": "stream",
     "text": [
      "You're looking at a muffin recipe!\n"
     ]
    }
   ],
   "source": [
    "# Predict if 50 parts flour and 20 parts sugar\n",
    "muffin_or_cupcake(50, 20)"
   ]
  },
  {
   "cell_type": "code",
   "execution_count": 59,
   "metadata": {
    "colab": {
     "autoexec": {
      "startup": false,
      "wait_interval": 0
     },
     "base_uri": "https://localhost:8080/",
     "height": 381
    },
    "colab_type": "code",
    "executionInfo": {
     "elapsed": 1052,
     "status": "ok",
     "timestamp": 1528473633807,
     "user": {
      "displayName": "Dodit Suprianto",
      "photoUrl": "//lh3.googleusercontent.com/-RyzMCxIRyVs/AAAAAAAAAAI/AAAAAAAAAAg/yyPTHdI7qfk/s50-c-k-no/photo.jpg",
      "userId": "106039849622030611910"
     },
     "user_tz": -420
    },
    "id": "5PBCr1Y19TzW",
    "outputId": "bbaa7a5e-bf17-4e9f-c69e-cfd10e4b3365"
   },
   "outputs": [
    {
     "data": {
      "image/png": "[encoded data removed]",
      "text/plain": [
       "<matplotlib.figure.Figure at 0x7fdea1d5b890>"
      ]
     },
     "metadata": {
      "tags": []
     },
     "output_type": "display_data"
    }
   ],
   "source": [
    "# Plot the point to visually see where the point lies\n",
    "sns.lmplot('Flour', 'Sugar', data=recipes, hue='Type', palette='Set1', fit_reg=False, scatter_kws={\"s\": 70})\n",
    "plt.plot(xx, yy, linewidth=2, color='black')\n",
    "plt.plot(50, 20, 'yo', markersize='9');"
   ]
  },
  {
   "cell_type": "code",
   "execution_count": 60,
   "metadata": {
    "colab": {
     "autoexec": {
      "startup": false,
      "wait_interval": 0
     },
     "base_uri": "https://localhost:8080/",
     "height": 34
    },
    "colab_type": "code",
    "executionInfo": {
     "elapsed": 688,
     "status": "ok",
     "timestamp": 1528473634611,
     "user": {
      "displayName": "Dodit Suprianto",
      "photoUrl": "//lh3.googleusercontent.com/-RyzMCxIRyVs/AAAAAAAAAAI/AAAAAAAAAAg/yyPTHdI7qfk/s50-c-k-no/photo.jpg",
      "userId": "106039849622030611910"
     },
     "user_tz": -420
    },
    "id": "-B9CSd3lAO8q",
    "outputId": "7ba6e4c6-0ddc-4e6a-8465-84651fdb856a"
   },
   "outputs": [
    {
     "name": "stdout",
     "output_type": "stream",
     "text": [
      "You're looking at a cupcake recipe!\n"
     ]
    }
   ],
   "source": [
    "# Predict if 40 parts flour and 20 parts sugar\n",
    "muffin_or_cupcake(40,20)"
   ]
  },
  {
   "cell_type": "code",
   "execution_count": 0,
   "metadata": {
    "colab": {
     "autoexec": {
      "startup": false,
      "wait_interval": 0
     }
    },
    "colab_type": "code",
    "id": "n5aKah_dASWr"
   },
   "outputs": [],
   "source": [
    "muffin_cupcake_dict = {'muffin_cupcake_model': model, 'muffin_cupcake_features': ['Flour','Sugar'], 'all_features': recipe_features}"
   ]
  },
  {
   "cell_type": "code",
   "execution_count": 62,
   "metadata": {
    "colab": {
     "autoexec": {
      "startup": false,
      "wait_interval": 0
     },
     "base_uri": "https://localhost:8080/",
     "height": 238
    },
    "colab_type": "code",
    "executionInfo": {
     "elapsed": 767,
     "status": "ok",
     "timestamp": 1528473636261,
     "user": {
      "displayName": "Dodit Suprianto",
      "photoUrl": "//lh3.googleusercontent.com/-RyzMCxIRyVs/AAAAAAAAAAI/AAAAAAAAAAg/yyPTHdI7qfk/s50-c-k-no/photo.jpg",
      "userId": "106039849622030611910"
     },
     "user_tz": -420
    },
    "id": "dx7L-YvaAXnt",
    "outputId": "108bd92f-c068-468d-a7fc-be25cea72951"
   },
   "outputs": [
    {
     "data": {
      "text/plain": [
       "{'all_features': ['Flour',\n",
       "  'Milk',\n",
       "  'Sugar',\n",
       "  'Butter',\n",
       "  'Egg',\n",
       "  'Baking Powder',\n",
       "  'Vanilla',\n",
       "  'Salt'],\n",
       " 'muffin_cupcake_features': ['Flour', 'Sugar'],\n",
       " 'muffin_cupcake_model': SVC(C=1.0, cache_size=200, class_weight=None, coef0=0.0,\n",
       "   decision_function_shape='ovr', degree=3, gamma='auto', kernel='linear',\n",
       "   max_iter=-1, probability=False, random_state=None, shrinking=True,\n",
       "   tol=0.001, verbose=False)}"
      ]
     },
     "execution_count": 62,
     "metadata": {
      "tags": []
     },
     "output_type": "execute_result"
    }
   ],
   "source": [
    "muffin_cupcake_dict"
   ]
  },
  {
   "cell_type": "code",
   "execution_count": 0,
   "metadata": {
    "colab": {
     "autoexec": {
      "startup": false,
      "wait_interval": 0
     }
    },
    "colab_type": "code",
    "id": "1sCSHQkIAc33"
   },
   "outputs": [],
   "source": [
    "# Pickle\n",
    "pickle.dump(muffin_cupcake_dict, open(\"muffin_cupcake_dict.p\", \"wb\"))"
   ]
  },
  {
   "cell_type": "code",
   "execution_count": 64,
   "metadata": {
    "colab": {
     "autoexec": {
      "startup": false,
      "wait_interval": 0
     },
     "base_uri": "https://localhost:8080/",
     "height": 54
    },
    "colab_type": "code",
    "executionInfo": {
     "elapsed": 717,
     "status": "ok",
     "timestamp": 1528473637867,
     "user": {
      "displayName": "Dodit Suprianto",
      "photoUrl": "//lh3.googleusercontent.com/-RyzMCxIRyVs/AAAAAAAAAAI/AAAAAAAAAAg/yyPTHdI7qfk/s50-c-k-no/photo.jpg",
      "userId": "106039849622030611910"
     },
     "user_tz": -420
    },
    "id": "pibwOJGmAgSi",
    "outputId": "422d6f82-4d29-4df4-de53-c8355b95a9f8"
   },
   "outputs": [
    {
     "data": {
      "text/plain": [
       "\"(dp0\\nS'muffin_cupcake_features'\\np1\\n(lp2\\nS'Flour'\\np3\\naS'Sugar'\\np4\\nasS'muffin_cupcake_model'\\np5\\nccopy_reg\\n_reconstructor\\np6\\n(csklearn.svm.classes\\nSVC\\np7\\nc__builtin__\\nobject\\np8\\nNtp9\\nRp10\\n(dp11\\nS'_impl'\\np12\\nS'c_svc'\\np13\\nsS'kernel'\\np14\\nS'linear'\\np15\\nsS'verbose'\\np16\\nI00\\nsS'probability'\\np17\\nI00\\nsS'classes_'\\np18\\ncnumpy.core.multiarray\\n_reconstruct\\np19\\n(cnumpy\\nndarray\\np20\\n(I0\\ntp21\\nS'b'\\np22\\ntp23\\nRp24\\n(I1\\n(I2\\ntp25\\ncnumpy\\ndtype\\np26\\n(S'i8'\\np27\\nI0\\nI1\\ntp28\\nRp29\\n(I3\\nS'<'\\np30\\nNNNI-1\\nI-1\\nI0\\ntp31\\nbI00\\nS'\\\\x00\\\\x00\\\\x00\\\\x00\\\\x00\\\\x00\\\\x00\\\\x00\\\\x01\\\\x00\\\\x00\\\\x00\\\\x00\\\\x00\\\\x00\\\\x00'\\np32\\ntp33\\nbsS'support_'\\np34\\ng19\\n(g20\\n(I0\\ntp35\\ng22\\ntp36\\nRp37\\n(I1\\n(I3\\ntp38\\ng26\\n(S'i4'\\np39\\nI0\\nI1\\ntp40\\nRp41\\n(I3\\nS'<'\\np42\\nNNNI-1\\nI-1\\nI0\\ntp43\\nbI00\\nS'\\\\x03\\\\x00\\\\x00\\\\x00\\\\x0b\\\\x00\\\\x00\\\\x00\\\\x0f\\\\x00\\\\x00\\\\x00'\\np44\\ntp45\\nbsS'dual_coef_'\\np46\\ng19\\n(g20\\n(I0\\ntp47\\ng22\\ntp48\\nRp49\\n(I1\\n(I1\\nI3\\ntp50\\ng26\\n(S'f8'\\np51\\nI0\\nI1\\ntp52\\nRp53\\n(I3\\nS'<'\\np54\\nNNNI-1\\nI-1\\nI0\\ntp55\\nbI00\\nS'\\\\x19;\\\\x16\\\\x81\\\\xfdo\\\\xcc\\\\xbf5\\\\xdf\\\\xda9\\\\x1aG\\\\xc9? \\\\xdf\\\\xda9\\\\x1aG\\\\x99?'\\np56\\ntp57\\nbsS'shrinking'\\np58\\nI01\\nsS'class_weight'\\np59\\nNsS'_gamma'\\np60\\nF0.5\\nsS'probA_'\\np61\\ng19\\n(g20\\n(I0\\ntp62\\ng22\\ntp63\\nRp64\\n(I1\\n(I0\\ntp65\\ng53\\nI00\\nS''\\np66\\ntp67\\nbsS'_sparse'\\np68\\nI00\\nsS'class_weight_'\\np69\\ng19\\n(g20\\n(I0\\ntp70\\ng22\\ntp71\\nRp72\\n(I1\\n(I2\\ntp73\\ng53\\nI00\\nS'\\\\x00\\\\x00\\\\x00\\\\x00\\\\x00\\\\x00\\\\xf0?\\\\x00\\\\x00\\\\x00\\\\x00\\\\x00\\\\x00\\\\xf0?'\\np74\\ntp75\\nbsS'random_state'\\np76\\nNsS'_sklearn_version'\\np77\\nS'0.19.1'\\np78\\nsS'tol'\\np79\\nF0.001\\nsS'coef0'\\np80\\nF0.0\\nsS'nu'\\np81\\nF0.0\\nsS'n_support_'\\np82\\ng19\\n(g20\\n(I0\\ntp83\\ng22\\ntp84\\nRp85\\n(I1\\n(I2\\ntp86\\ng41\\nI00\\nS'\\\\x01\\\\x00\\\\x00\\\\x00\\\\x02\\\\x00\\\\x00\\\\x00'\\np87\\ntp88\\nbsS'shape_fit_'\\np89\\n(I20\\nI2\\ntp90\\nsS'C'\\np91\\nF1.0\\nsS'support_vectors_'\\np92\\ng19\\n(g20\\n(I0\\ntp93\\ng22\\ntp94\\nRp95\\n(I1\\n(I3\\nI2\\ntp96\\ng53\\nI00\\nS'\\\\x00\\\\x00\\\\x00\\\\x00\\\\x00\\\\x80F@\\\\x00\\\\x00\\\\x00\\\\x00\\\\x00\\\\x001@\\\\x00\\\\x00\\\\x00\\\\x00\\\\x00\\\\x00E@\\\\x00\\\\x00\\\\x00\\\\x00\\\\x00\\\\x000@\\\\x00\\\\x00\\\\x00\\\\x00\\\\x00\\\\x00E@\\\\x00\\\\x00\\\\x00\\\\x00\\\\x00\\\\x009@'\\np97\\ntp98\\nbsS'_dual_coef_'\\np99\\ng19\\n(g20\\n(I0\\ntp100\\ng22\\ntp101\\nRp102\\n(I1\\n(I1\\nI3\\ntp103\\ng53\\nI00\\nS'\\\\x19;\\\\x16\\\\x81\\\\xfdo\\\\xcc?5\\\\xdf\\\\xda9\\\\x1aG\\\\xc9\\\\xbf \\\\xdf\\\\xda9\\\\x1aG\\\\x99\\\\xbf'\\np104\\ntp105\\nbsS'degree'\\np106\\nI3\\nsS'epsilon'\\np107\\nF0.0\\nsS'max_iter'\\np108\\nI-1\\nsS'decision_function_shape'\\np109\\nS'ovr'\\np110\\nsS'fit_status_'\\np111\\nI0\\nsS'_intercept_'\\np112\\ng19\\n(g20\\n(I0\\ntp113\\ng22\\ntp114\\nRp115\\n(I1\\n(I1\\ntp116\\ng53\\nI00\\nS'\\\\xe9\\\\xbcm\\\\xd12\\\\xfe<\\\\xc0'\\np117\\ntp118\\nbsS'intercept_'\\np119\\ng19\\n(g20\\n(I0\\ntp120\\ng22\\ntp121\\nRp122\\n(I1\\n(I1\\ntp123\\ng53\\nI00\\nS'\\\\xe9\\\\xbcm\\\\xd12\\\\xfe<@'\\np124\\ntp125\\nbsS'probB_'\\np126\\ng19\\n(g20\\n(I0\\ntp127\\ng22\\ntp128\\nRp129\\n(I1\\n(I0\\ntp130\\ng53\\nI00\\ng66\\ntp131\\nbsS'cache_size'\\np132\\nI200\\nsS'gamma'\\np133\\nS'auto'\\np134\\nsbsS'all_features'\\np135\\n(lp136\\nS'Flour'\\np137\\naS'Milk'\\np138\\naS'Sugar'\\np139\\naS'Butter'\\np140\\naS'Egg'\\np141\\naS'Baking Powder'\\np142\\naS'Vanilla'\\np143\\naS'Salt'\\np144\\nas.\""
      ]
     },
     "execution_count": 64,
     "metadata": {
      "tags": []
     },
     "output_type": "execute_result"
    }
   ],
   "source": [
    "# S = String\n",
    "pickle.dumps(muffin_cupcake_dict)"
   ]
  },
  {
   "cell_type": "code",
   "execution_count": 0,
   "metadata": {
    "colab": {
     "autoexec": {
      "startup": false,
      "wait_interval": 0
     },
     "base_uri": "https://localhost:8080/",
     "height": 141
    },
    "colab_type": "code",
    "id": "-q4p3B9YKOWu",
    "outputId": "aa1f1b38-1206-44ce-b8cf-40f5cf155438"
   },
   "outputs": [
    {
     "name": "stdout",
     "output_type": "stream",
     "text": [
      "gpg: keybox '/tmp/tmp7fb2vadl/pubring.gpg' created\n",
      "gpg: /tmp/tmp7fb2vadl/trustdb.gpg: trustdb created\n",
      "gpg: key AD5F235DF639B041: public key \"Launchpad PPA for Alessandro Strada\" imported\n",
      "gpg: Total number processed: 1\n",
      "gpg:               imported: 1\n",
      "Warning: apt-key output should not be parsed (stdout is not a terminal)\n"
     ]
    }
   ],
   "source": [
    "!apt-get install -y -qq software-properties-common python-software-properties module-init-tools\n",
    "!add-apt-repository -y ppa:alessandro-strada/ppa 2>&1 > /dev/null\n",
    "!apt-get update -qq 2>&1 > /dev/null\n",
    "!apt-get -y install -qq google-drive-ocamlfuse fuse\n",
    "from google.colab import auth\n",
    "auth.authenticate_user()\n",
    "from oauth2client.client import GoogleCredentials\n",
    "creds = GoogleCredentials.get_application_default()\n",
    "import getpass\n",
    "!google-drive-ocamlfuse -headless -id={creds.client_id} -secret={creds.client_secret} < /dev/null 2>&1 | grep URL\n",
    "vcode = getpass.getpass()\n",
    "!echo {vcode} | google-drive-ocamlfuse -headless -id={creds.client_id} -secret={creds.client_secret}"
   ]
  }
 ],
 "metadata": {
  "colab": {
   "default_view": {},
   "name": "Resep.ipynb",
   "provenance": [],
   "version": "0.3.2",
   "views": {}
  },
  "kernelspec": {
   "display_name": "Python 3",
   "language": "python",
   "name": "python3"
  },
  "language_info": {
   "codemirror_mode": {
    "name": "ipython",
    "version": 3
   },
   "file_extension": ".py",
   "mimetype": "text/x-python",
   "name": "python",
   "nbconvert_exporter": "python",
   "pygments_lexer": "ipython3",
   "version": "3.6.4"
  }
 },
 "nbformat": 4,
 "nbformat_minor": 1
}
