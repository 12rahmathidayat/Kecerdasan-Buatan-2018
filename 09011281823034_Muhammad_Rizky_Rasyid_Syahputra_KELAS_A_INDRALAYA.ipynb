{
  "nbformat": 4,
  "nbformat_minor": 0,
  "metadata": {
    "kernelspec": {
      "display_name": "Python 3",
      "language": "python",
      "name": "python3"
    },
    "language_info": {
      "codemirror_mode": {
        "name": "ipython",
        "version": 3
      },
      "file_extension": ".py",
      "mimetype": "text/x-python",
      "name": "python",
      "nbconvert_exporter": "python",
      "pygments_lexer": "ipython3",
      "version": "3.7.4"
    },
    "colab": {
      "name": "09011281823034_Muhammad Rizky Rasyid Syahputra_KELAS A INDRALAYA.ipynb",
      "provenance": [],
      "toc_visible": true
    }
  },
  "cells": [
    {
      "cell_type": "markdown",
      "metadata": {
        "id": "JJ694U89Dcsp"
      },
      "source": [
        "Muhammad Rizky Rasyid Syahputra\n",
        "09011281823034"
      ]
    },
    {
      "cell_type": "markdown",
      "metadata": {
        "id": "qeHVxZ_nDcsr"
      },
      "source": [
        "### Import Library"
      ]
    },
    {
      "cell_type": "code",
      "metadata": {
        "id": "4Tlf3M5pDcss"
      },
      "source": [
        "from sklearn.preprocessing import MinMaxScaler\n",
        "import matplotlib.pyplot as plt\n",
        "from sklearn.model_selection import train_test_split \n",
        "from keras.optimizers import Adam\n",
        "from keras.models import Sequential\n",
        "from keras.layers import Dense, Dropout\n",
        "from keras.activations import relu\n",
        "import pandas as pd\n",
        "import sklearn"
      ],
      "execution_count": 2,
      "outputs": []
    },
    {
      "cell_type": "markdown",
      "metadata": {
        "id": "jIWWeqVEDcs0"
      },
      "source": [
        "### Load Dataset"
      ]
    },
    {
      "cell_type": "code",
      "metadata": {
        "id": "wRV1VtMxDcs1"
      },
      "source": [
        "dataset = pd.read_csv(\"breast_cancer_dataset.csv\")"
      ],
      "execution_count": 7,
      "outputs": []
    },
    {
      "cell_type": "code",
      "metadata": {
        "id": "MpXI9_-_Dcs6",
        "outputId": "af4a7fa0-6480-4b98-9bbf-4ae6f1b19389",
        "colab": {
          "base_uri": "https://localhost:8080/",
          "height": 419
        }
      },
      "source": [
        "dataset"
      ],
      "execution_count": 6,
      "outputs": [
        {
          "output_type": "execute_result",
          "data": {
            "text/html": [
              "<div>\n",
              "<style scoped>\n",
              "    .dataframe tbody tr th:only-of-type {\n",
              "        vertical-align: middle;\n",
              "    }\n",
              "\n",
              "    .dataframe tbody tr th {\n",
              "        vertical-align: top;\n",
              "    }\n",
              "\n",
              "    .dataframe thead th {\n",
              "        text-align: right;\n",
              "    }\n",
              "</style>\n",
              "<table border=\"1\" class=\"dataframe\">\n",
              "  <thead>\n",
              "    <tr style=\"text-align: right;\">\n",
              "      <th></th>\n",
              "      <th>clump_thickness</th>\n",
              "      <th>uniformity_of_cell_size</th>\n",
              "      <th>uniformity_of_cell_shape</th>\n",
              "      <th>marginal_adhesion</th>\n",
              "      <th>single_epithelial_cell_size</th>\n",
              "      <th>bare_nuclei</th>\n",
              "      <th>bland_chromatin</th>\n",
              "      <th>normal_nucleoli</th>\n",
              "      <th>mitosis</th>\n",
              "      <th>class</th>\n",
              "    </tr>\n",
              "  </thead>\n",
              "  <tbody>\n",
              "    <tr>\n",
              "      <th>0</th>\n",
              "      <td>5</td>\n",
              "      <td>1</td>\n",
              "      <td>1</td>\n",
              "      <td>1</td>\n",
              "      <td>2</td>\n",
              "      <td>1</td>\n",
              "      <td>3</td>\n",
              "      <td>1</td>\n",
              "      <td>1</td>\n",
              "      <td>0</td>\n",
              "    </tr>\n",
              "    <tr>\n",
              "      <th>1</th>\n",
              "      <td>5</td>\n",
              "      <td>4</td>\n",
              "      <td>4</td>\n",
              "      <td>5</td>\n",
              "      <td>7</td>\n",
              "      <td>10</td>\n",
              "      <td>3</td>\n",
              "      <td>2</td>\n",
              "      <td>1</td>\n",
              "      <td>0</td>\n",
              "    </tr>\n",
              "    <tr>\n",
              "      <th>2</th>\n",
              "      <td>3</td>\n",
              "      <td>1</td>\n",
              "      <td>1</td>\n",
              "      <td>1</td>\n",
              "      <td>2</td>\n",
              "      <td>2</td>\n",
              "      <td>3</td>\n",
              "      <td>1</td>\n",
              "      <td>1</td>\n",
              "      <td>0</td>\n",
              "    </tr>\n",
              "    <tr>\n",
              "      <th>3</th>\n",
              "      <td>6</td>\n",
              "      <td>8</td>\n",
              "      <td>8</td>\n",
              "      <td>1</td>\n",
              "      <td>3</td>\n",
              "      <td>4</td>\n",
              "      <td>3</td>\n",
              "      <td>7</td>\n",
              "      <td>1</td>\n",
              "      <td>0</td>\n",
              "    </tr>\n",
              "    <tr>\n",
              "      <th>4</th>\n",
              "      <td>4</td>\n",
              "      <td>1</td>\n",
              "      <td>1</td>\n",
              "      <td>3</td>\n",
              "      <td>2</td>\n",
              "      <td>1</td>\n",
              "      <td>3</td>\n",
              "      <td>1</td>\n",
              "      <td>1</td>\n",
              "      <td>0</td>\n",
              "    </tr>\n",
              "    <tr>\n",
              "      <th>...</th>\n",
              "      <td>...</td>\n",
              "      <td>...</td>\n",
              "      <td>...</td>\n",
              "      <td>...</td>\n",
              "      <td>...</td>\n",
              "      <td>...</td>\n",
              "      <td>...</td>\n",
              "      <td>...</td>\n",
              "      <td>...</td>\n",
              "      <td>...</td>\n",
              "    </tr>\n",
              "    <tr>\n",
              "      <th>564</th>\n",
              "      <td>4</td>\n",
              "      <td>1</td>\n",
              "      <td>1</td>\n",
              "      <td>1</td>\n",
              "      <td>2</td>\n",
              "      <td>1</td>\n",
              "      <td>3</td>\n",
              "      <td>2</td>\n",
              "      <td>1</td>\n",
              "      <td>0</td>\n",
              "    </tr>\n",
              "    <tr>\n",
              "      <th>565</th>\n",
              "      <td>5</td>\n",
              "      <td>7</td>\n",
              "      <td>10</td>\n",
              "      <td>10</td>\n",
              "      <td>5</td>\n",
              "      <td>10</td>\n",
              "      <td>10</td>\n",
              "      <td>10</td>\n",
              "      <td>1</td>\n",
              "      <td>1</td>\n",
              "    </tr>\n",
              "    <tr>\n",
              "      <th>566</th>\n",
              "      <td>3</td>\n",
              "      <td>1</td>\n",
              "      <td>2</td>\n",
              "      <td>1</td>\n",
              "      <td>2</td>\n",
              "      <td>1</td>\n",
              "      <td>3</td>\n",
              "      <td>1</td>\n",
              "      <td>1</td>\n",
              "      <td>0</td>\n",
              "    </tr>\n",
              "    <tr>\n",
              "      <th>567</th>\n",
              "      <td>4</td>\n",
              "      <td>1</td>\n",
              "      <td>1</td>\n",
              "      <td>1</td>\n",
              "      <td>2</td>\n",
              "      <td>3</td>\n",
              "      <td>2</td>\n",
              "      <td>1</td>\n",
              "      <td>1</td>\n",
              "      <td>0</td>\n",
              "    </tr>\n",
              "    <tr>\n",
              "      <th>568</th>\n",
              "      <td>8</td>\n",
              "      <td>4</td>\n",
              "      <td>4</td>\n",
              "      <td>1</td>\n",
              "      <td>6</td>\n",
              "      <td>10</td>\n",
              "      <td>2</td>\n",
              "      <td>5</td>\n",
              "      <td>2</td>\n",
              "      <td>1</td>\n",
              "    </tr>\n",
              "  </tbody>\n",
              "</table>\n",
              "<p>569 rows × 10 columns</p>\n",
              "</div>"
            ],
            "text/plain": [
              "     clump_thickness  uniformity_of_cell_size  ...  mitosis  class\n",
              "0                  5                        1  ...        1      0\n",
              "1                  5                        4  ...        1      0\n",
              "2                  3                        1  ...        1      0\n",
              "3                  6                        8  ...        1      0\n",
              "4                  4                        1  ...        1      0\n",
              "..               ...                      ...  ...      ...    ...\n",
              "564                4                        1  ...        1      0\n",
              "565                5                        7  ...        1      1\n",
              "566                3                        1  ...        1      0\n",
              "567                4                        1  ...        1      0\n",
              "568                8                        4  ...        2      1\n",
              "\n",
              "[569 rows x 10 columns]"
            ]
          },
          "metadata": {
            "tags": []
          },
          "execution_count": 6
        }
      ]
    },
    {
      "cell_type": "markdown",
      "metadata": {
        "id": "zox5Y_9vDcs_"
      },
      "source": [
        "# Set data dan Target\n",
        "Set data untuk feature yaitu kolom 1-9, dan\n",
        "\n",
        "kolom 10 sebagai target"
      ]
    },
    {
      "cell_type": "code",
      "metadata": {
        "id": "WfUdoFinDctA"
      },
      "source": [
        "data_raw = dataset.iloc[:,0:9].values\n",
        "target = dataset.iloc[:,9].values"
      ],
      "execution_count": 8,
      "outputs": []
    },
    {
      "cell_type": "markdown",
      "metadata": {
        "id": "-qbICVS1DctF"
      },
      "source": [
        "# Data Preprocessing\n",
        "### Scaling\n",
        "selanjutnya akan discaling, dimana nilai max adalah 1 dan minimal adalah 0 (minmax scalling)"
      ]
    },
    {
      "cell_type": "code",
      "metadata": {
        "scrolled": true,
        "id": "fUNQD0fGDctG",
        "outputId": "59181832-ab86-43cc-c051-39553ed66c0a",
        "colab": {
          "base_uri": "https://localhost:8080/",
          "height": 204
        }
      },
      "source": [
        "scaler = MinMaxScaler()\n",
        "data = scaler.fit_transform(data_raw)\n",
        "\n",
        "#Buat Variabel data_dataframe hanya untuk menampilkan, selanjutnya variabel data akan tetap dalam bentuk numpy array\n",
        "data_dataframe = pd.DataFrame(data)\n",
        "data_dataframe.head()"
      ],
      "execution_count": 9,
      "outputs": [
        {
          "output_type": "execute_result",
          "data": {
            "text/html": [
              "<div>\n",
              "<style scoped>\n",
              "    .dataframe tbody tr th:only-of-type {\n",
              "        vertical-align: middle;\n",
              "    }\n",
              "\n",
              "    .dataframe tbody tr th {\n",
              "        vertical-align: top;\n",
              "    }\n",
              "\n",
              "    .dataframe thead th {\n",
              "        text-align: right;\n",
              "    }\n",
              "</style>\n",
              "<table border=\"1\" class=\"dataframe\">\n",
              "  <thead>\n",
              "    <tr style=\"text-align: right;\">\n",
              "      <th></th>\n",
              "      <th>0</th>\n",
              "      <th>1</th>\n",
              "      <th>2</th>\n",
              "      <th>3</th>\n",
              "      <th>4</th>\n",
              "      <th>5</th>\n",
              "      <th>6</th>\n",
              "      <th>7</th>\n",
              "      <th>8</th>\n",
              "    </tr>\n",
              "  </thead>\n",
              "  <tbody>\n",
              "    <tr>\n",
              "      <th>0</th>\n",
              "      <td>0.444444</td>\n",
              "      <td>0.000000</td>\n",
              "      <td>0.000000</td>\n",
              "      <td>0.000000</td>\n",
              "      <td>0.111111</td>\n",
              "      <td>0.99991</td>\n",
              "      <td>0.222222</td>\n",
              "      <td>0.000000</td>\n",
              "      <td>0.0</td>\n",
              "    </tr>\n",
              "    <tr>\n",
              "      <th>1</th>\n",
              "      <td>0.444444</td>\n",
              "      <td>0.333333</td>\n",
              "      <td>0.333333</td>\n",
              "      <td>0.444444</td>\n",
              "      <td>0.666667</td>\n",
              "      <td>1.00000</td>\n",
              "      <td>0.222222</td>\n",
              "      <td>0.111111</td>\n",
              "      <td>0.0</td>\n",
              "    </tr>\n",
              "    <tr>\n",
              "      <th>2</th>\n",
              "      <td>0.222222</td>\n",
              "      <td>0.000000</td>\n",
              "      <td>0.000000</td>\n",
              "      <td>0.000000</td>\n",
              "      <td>0.111111</td>\n",
              "      <td>0.99992</td>\n",
              "      <td>0.222222</td>\n",
              "      <td>0.000000</td>\n",
              "      <td>0.0</td>\n",
              "    </tr>\n",
              "    <tr>\n",
              "      <th>3</th>\n",
              "      <td>0.555556</td>\n",
              "      <td>0.777778</td>\n",
              "      <td>0.777778</td>\n",
              "      <td>0.000000</td>\n",
              "      <td>0.222222</td>\n",
              "      <td>0.99994</td>\n",
              "      <td>0.222222</td>\n",
              "      <td>0.666667</td>\n",
              "      <td>0.0</td>\n",
              "    </tr>\n",
              "    <tr>\n",
              "      <th>4</th>\n",
              "      <td>0.333333</td>\n",
              "      <td>0.000000</td>\n",
              "      <td>0.000000</td>\n",
              "      <td>0.222222</td>\n",
              "      <td>0.111111</td>\n",
              "      <td>0.99991</td>\n",
              "      <td>0.222222</td>\n",
              "      <td>0.000000</td>\n",
              "      <td>0.0</td>\n",
              "    </tr>\n",
              "  </tbody>\n",
              "</table>\n",
              "</div>"
            ],
            "text/plain": [
              "          0         1         2         3  ...        5         6         7    8\n",
              "0  0.444444  0.000000  0.000000  0.000000  ...  0.99991  0.222222  0.000000  0.0\n",
              "1  0.444444  0.333333  0.333333  0.444444  ...  1.00000  0.222222  0.111111  0.0\n",
              "2  0.222222  0.000000  0.000000  0.000000  ...  0.99992  0.222222  0.000000  0.0\n",
              "3  0.555556  0.777778  0.777778  0.000000  ...  0.99994  0.222222  0.666667  0.0\n",
              "4  0.333333  0.000000  0.000000  0.222222  ...  0.99991  0.222222  0.000000  0.0\n",
              "\n",
              "[5 rows x 9 columns]"
            ]
          },
          "metadata": {
            "tags": []
          },
          "execution_count": 9
        }
      ]
    },
    {
      "cell_type": "markdown",
      "metadata": {
        "id": "bchq-oX7DctL"
      },
      "source": [
        "### Splitting\n",
        "Membagi data yang ada secara acak"
      ]
    },
    {
      "cell_type": "code",
      "metadata": {
        "id": "E9MHt19lDctM"
      },
      "source": [
        "data_training, data_testing, target_training, target_testing = train_test_split(data_raw, target, test_size=0.2, random_state=42)"
      ],
      "execution_count": 10,
      "outputs": []
    },
    {
      "cell_type": "markdown",
      "metadata": {
        "id": "_uT6-XrnDctR"
      },
      "source": [
        "# ANN\n",
        "### MODEL\n",
        "Menggunakan 1 input layer dengan 9 neuron, 1 hidden layer dengan 30 neuron (fungsi aktivasi relu), dan 1 output layer dengan 1 neuron (fungsi aktivasi sigmoid)."
      ]
    },
    {
      "cell_type": "code",
      "metadata": {
        "id": "G0t3Y_5rDctS"
      },
      "source": [
        "model = Sequential()\n",
        "model.add(Dense(30, input_dim=9, activation='relu'))\n",
        "model.add(Dense(1, activation='sigmoid'))"
      ],
      "execution_count": 11,
      "outputs": []
    },
    {
      "cell_type": "markdown",
      "metadata": {
        "id": "eDzSoc86DctX"
      },
      "source": [
        "### Compile Data\n"
      ]
    },
    {
      "cell_type": "code",
      "metadata": {
        "id": "vhXRyl5wDctY"
      },
      "source": [
        "model.compile(optimizer='adam', loss='mse', metrics=['accuracy'])"
      ],
      "execution_count": 12,
      "outputs": []
    },
    {
      "cell_type": "markdown",
      "metadata": {
        "id": "l_YUPmzVDctc"
      },
      "source": [
        "# FIT\n",
        "Guna dilakukan FIT adalah agar setiap epochnya dapat ditampung dalam variabel **history_validasi**, sehingga bisa diplot perubahannya."
      ]
    },
    {
      "cell_type": "code",
      "metadata": {
        "id": "B273OsY6Dctd",
        "outputId": "f98bed3b-3c36-471d-90fc-428c6a9757c6",
        "colab": {
          "base_uri": "https://localhost:8080/",
          "height": 1000
        }
      },
      "source": [
        "history_validasi = model.fit(data_training,target_training, validation_data=(data_testing,target_testing), epochs=100)"
      ],
      "execution_count": 13,
      "outputs": [
        {
          "output_type": "stream",
          "text": [
            "Epoch 1/100\n",
            "15/15 [==============================] - 0s 11ms/step - loss: 0.2360 - accuracy: 0.4374 - val_loss: 0.1959 - val_accuracy: 0.6842\n",
            "Epoch 2/100\n",
            "15/15 [==============================] - 0s 2ms/step - loss: 0.1982 - accuracy: 0.7516 - val_loss: 0.1688 - val_accuracy: 0.8158\n",
            "Epoch 3/100\n",
            "15/15 [==============================] - 0s 2ms/step - loss: 0.1722 - accuracy: 0.8330 - val_loss: 0.1510 - val_accuracy: 0.8596\n",
            "Epoch 4/100\n",
            "15/15 [==============================] - 0s 2ms/step - loss: 0.1550 - accuracy: 0.8659 - val_loss: 0.1380 - val_accuracy: 0.8772\n",
            "Epoch 5/100\n",
            "15/15 [==============================] - 0s 2ms/step - loss: 0.1415 - accuracy: 0.9011 - val_loss: 0.1248 - val_accuracy: 0.9298\n",
            "Epoch 6/100\n",
            "15/15 [==============================] - 0s 2ms/step - loss: 0.1326 - accuracy: 0.8967 - val_loss: 0.1167 - val_accuracy: 0.9123\n",
            "Epoch 7/100\n",
            "15/15 [==============================] - 0s 2ms/step - loss: 0.1252 - accuracy: 0.9011 - val_loss: 0.1110 - val_accuracy: 0.9123\n",
            "Epoch 8/100\n",
            "15/15 [==============================] - 0s 2ms/step - loss: 0.1189 - accuracy: 0.9055 - val_loss: 0.1061 - val_accuracy: 0.9123\n",
            "Epoch 9/100\n",
            "15/15 [==============================] - 0s 2ms/step - loss: 0.1141 - accuracy: 0.9077 - val_loss: 0.1023 - val_accuracy: 0.9211\n",
            "Epoch 10/100\n",
            "15/15 [==============================] - 0s 2ms/step - loss: 0.1090 - accuracy: 0.9055 - val_loss: 0.0968 - val_accuracy: 0.9298\n",
            "Epoch 11/100\n",
            "15/15 [==============================] - 0s 2ms/step - loss: 0.1047 - accuracy: 0.9099 - val_loss: 0.0922 - val_accuracy: 0.9298\n",
            "Epoch 12/100\n",
            "15/15 [==============================] - 0s 2ms/step - loss: 0.1010 - accuracy: 0.9121 - val_loss: 0.0896 - val_accuracy: 0.9298\n",
            "Epoch 13/100\n",
            "15/15 [==============================] - 0s 2ms/step - loss: 0.0979 - accuracy: 0.9099 - val_loss: 0.0869 - val_accuracy: 0.9298\n",
            "Epoch 14/100\n",
            "15/15 [==============================] - 0s 2ms/step - loss: 0.0958 - accuracy: 0.9143 - val_loss: 0.0848 - val_accuracy: 0.9211\n",
            "Epoch 15/100\n",
            "15/15 [==============================] - 0s 2ms/step - loss: 0.0918 - accuracy: 0.9187 - val_loss: 0.0801 - val_accuracy: 0.9298\n",
            "Epoch 16/100\n",
            "15/15 [==============================] - 0s 2ms/step - loss: 0.0920 - accuracy: 0.9033 - val_loss: 0.0784 - val_accuracy: 0.9298\n",
            "Epoch 17/100\n",
            "15/15 [==============================] - 0s 2ms/step - loss: 0.0878 - accuracy: 0.9209 - val_loss: 0.0768 - val_accuracy: 0.9298\n",
            "Epoch 18/100\n",
            "15/15 [==============================] - 0s 2ms/step - loss: 0.0856 - accuracy: 0.9187 - val_loss: 0.0745 - val_accuracy: 0.9298\n",
            "Epoch 19/100\n",
            "15/15 [==============================] - 0s 2ms/step - loss: 0.0836 - accuracy: 0.9209 - val_loss: 0.0733 - val_accuracy: 0.9298\n",
            "Epoch 20/100\n",
            "15/15 [==============================] - 0s 2ms/step - loss: 0.0826 - accuracy: 0.9231 - val_loss: 0.0727 - val_accuracy: 0.9211\n",
            "Epoch 21/100\n",
            "15/15 [==============================] - 0s 2ms/step - loss: 0.0803 - accuracy: 0.9231 - val_loss: 0.0696 - val_accuracy: 0.9298\n",
            "Epoch 22/100\n",
            "15/15 [==============================] - 0s 2ms/step - loss: 0.0790 - accuracy: 0.9231 - val_loss: 0.0677 - val_accuracy: 0.9298\n",
            "Epoch 23/100\n",
            "15/15 [==============================] - 0s 2ms/step - loss: 0.0774 - accuracy: 0.9231 - val_loss: 0.0668 - val_accuracy: 0.9298\n",
            "Epoch 24/100\n",
            "15/15 [==============================] - 0s 2ms/step - loss: 0.0758 - accuracy: 0.9231 - val_loss: 0.0652 - val_accuracy: 0.9386\n",
            "Epoch 25/100\n",
            "15/15 [==============================] - 0s 2ms/step - loss: 0.0745 - accuracy: 0.9253 - val_loss: 0.0636 - val_accuracy: 0.9386\n",
            "Epoch 26/100\n",
            "15/15 [==============================] - 0s 2ms/step - loss: 0.0729 - accuracy: 0.9253 - val_loss: 0.0625 - val_accuracy: 0.9386\n",
            "Epoch 27/100\n",
            "15/15 [==============================] - 0s 2ms/step - loss: 0.0716 - accuracy: 0.9253 - val_loss: 0.0608 - val_accuracy: 0.9386\n",
            "Epoch 28/100\n",
            "15/15 [==============================] - 0s 2ms/step - loss: 0.0707 - accuracy: 0.9275 - val_loss: 0.0594 - val_accuracy: 0.9386\n",
            "Epoch 29/100\n",
            "15/15 [==============================] - 0s 2ms/step - loss: 0.0696 - accuracy: 0.9319 - val_loss: 0.0578 - val_accuracy: 0.9474\n",
            "Epoch 30/100\n",
            "15/15 [==============================] - 0s 2ms/step - loss: 0.0679 - accuracy: 0.9275 - val_loss: 0.0558 - val_accuracy: 0.9386\n",
            "Epoch 31/100\n",
            "15/15 [==============================] - 0s 2ms/step - loss: 0.0669 - accuracy: 0.9341 - val_loss: 0.0545 - val_accuracy: 0.9474\n",
            "Epoch 32/100\n",
            "15/15 [==============================] - 0s 2ms/step - loss: 0.0658 - accuracy: 0.9363 - val_loss: 0.0536 - val_accuracy: 0.9561\n",
            "Epoch 33/100\n",
            "15/15 [==============================] - 0s 2ms/step - loss: 0.0643 - accuracy: 0.9385 - val_loss: 0.0522 - val_accuracy: 0.9474\n",
            "Epoch 34/100\n",
            "15/15 [==============================] - 0s 2ms/step - loss: 0.0641 - accuracy: 0.9407 - val_loss: 0.0509 - val_accuracy: 0.9386\n",
            "Epoch 35/100\n",
            "15/15 [==============================] - 0s 2ms/step - loss: 0.0627 - accuracy: 0.9429 - val_loss: 0.0493 - val_accuracy: 0.9561\n",
            "Epoch 36/100\n",
            "15/15 [==============================] - 0s 2ms/step - loss: 0.0623 - accuracy: 0.9407 - val_loss: 0.0476 - val_accuracy: 0.9474\n",
            "Epoch 37/100\n",
            "15/15 [==============================] - 0s 2ms/step - loss: 0.0602 - accuracy: 0.9473 - val_loss: 0.0449 - val_accuracy: 0.9474\n",
            "Epoch 38/100\n",
            "15/15 [==============================] - 0s 2ms/step - loss: 0.0594 - accuracy: 0.9407 - val_loss: 0.0431 - val_accuracy: 0.9474\n",
            "Epoch 39/100\n",
            "15/15 [==============================] - 0s 2ms/step - loss: 0.0587 - accuracy: 0.9451 - val_loss: 0.0430 - val_accuracy: 0.9474\n",
            "Epoch 40/100\n",
            "15/15 [==============================] - 0s 2ms/step - loss: 0.0571 - accuracy: 0.9451 - val_loss: 0.0414 - val_accuracy: 0.9474\n",
            "Epoch 41/100\n",
            "15/15 [==============================] - 0s 2ms/step - loss: 0.0562 - accuracy: 0.9495 - val_loss: 0.0407 - val_accuracy: 0.9386\n",
            "Epoch 42/100\n",
            "15/15 [==============================] - 0s 2ms/step - loss: 0.0551 - accuracy: 0.9516 - val_loss: 0.0397 - val_accuracy: 0.9474\n",
            "Epoch 43/100\n",
            "15/15 [==============================] - 0s 2ms/step - loss: 0.0540 - accuracy: 0.9516 - val_loss: 0.0383 - val_accuracy: 0.9474\n",
            "Epoch 44/100\n",
            "15/15 [==============================] - 0s 2ms/step - loss: 0.0531 - accuracy: 0.9538 - val_loss: 0.0379 - val_accuracy: 0.9561\n",
            "Epoch 45/100\n",
            "15/15 [==============================] - 0s 2ms/step - loss: 0.0529 - accuracy: 0.9516 - val_loss: 0.0366 - val_accuracy: 0.9474\n",
            "Epoch 46/100\n",
            "15/15 [==============================] - 0s 2ms/step - loss: 0.0509 - accuracy: 0.9560 - val_loss: 0.0370 - val_accuracy: 0.9649\n",
            "Epoch 47/100\n",
            "15/15 [==============================] - 0s 2ms/step - loss: 0.0507 - accuracy: 0.9560 - val_loss: 0.0353 - val_accuracy: 0.9649\n",
            "Epoch 48/100\n",
            "15/15 [==============================] - 0s 2ms/step - loss: 0.0497 - accuracy: 0.9582 - val_loss: 0.0340 - val_accuracy: 0.9561\n",
            "Epoch 49/100\n",
            "15/15 [==============================] - 0s 2ms/step - loss: 0.0489 - accuracy: 0.9560 - val_loss: 0.0326 - val_accuracy: 0.9649\n",
            "Epoch 50/100\n",
            "15/15 [==============================] - 0s 2ms/step - loss: 0.0482 - accuracy: 0.9560 - val_loss: 0.0328 - val_accuracy: 0.9649\n",
            "Epoch 51/100\n",
            "15/15 [==============================] - 0s 3ms/step - loss: 0.0472 - accuracy: 0.9560 - val_loss: 0.0307 - val_accuracy: 0.9649\n",
            "Epoch 52/100\n",
            "15/15 [==============================] - 0s 2ms/step - loss: 0.0465 - accuracy: 0.9560 - val_loss: 0.0316 - val_accuracy: 0.9649\n",
            "Epoch 53/100\n",
            "15/15 [==============================] - 0s 2ms/step - loss: 0.0457 - accuracy: 0.9582 - val_loss: 0.0317 - val_accuracy: 0.9649\n",
            "Epoch 54/100\n",
            "15/15 [==============================] - 0s 2ms/step - loss: 0.0452 - accuracy: 0.9560 - val_loss: 0.0297 - val_accuracy: 0.9737\n",
            "Epoch 55/100\n",
            "15/15 [==============================] - 0s 2ms/step - loss: 0.0440 - accuracy: 0.9604 - val_loss: 0.0316 - val_accuracy: 0.9649\n",
            "Epoch 56/100\n",
            "15/15 [==============================] - 0s 2ms/step - loss: 0.0435 - accuracy: 0.9626 - val_loss: 0.0295 - val_accuracy: 0.9737\n",
            "Epoch 57/100\n",
            "15/15 [==============================] - 0s 2ms/step - loss: 0.0436 - accuracy: 0.9582 - val_loss: 0.0285 - val_accuracy: 0.9737\n",
            "Epoch 58/100\n",
            "15/15 [==============================] - 0s 2ms/step - loss: 0.0441 - accuracy: 0.9560 - val_loss: 0.0308 - val_accuracy: 0.9737\n",
            "Epoch 59/100\n",
            "15/15 [==============================] - 0s 3ms/step - loss: 0.0443 - accuracy: 0.9495 - val_loss: 0.0272 - val_accuracy: 0.9737\n",
            "Epoch 60/100\n",
            "15/15 [==============================] - 0s 2ms/step - loss: 0.0412 - accuracy: 0.9604 - val_loss: 0.0302 - val_accuracy: 0.9737\n",
            "Epoch 61/100\n",
            "15/15 [==============================] - 0s 2ms/step - loss: 0.0411 - accuracy: 0.9582 - val_loss: 0.0273 - val_accuracy: 0.9737\n",
            "Epoch 62/100\n",
            "15/15 [==============================] - 0s 2ms/step - loss: 0.0405 - accuracy: 0.9582 - val_loss: 0.0275 - val_accuracy: 0.9737\n",
            "Epoch 63/100\n",
            "15/15 [==============================] - 0s 2ms/step - loss: 0.0399 - accuracy: 0.9648 - val_loss: 0.0279 - val_accuracy: 0.9737\n",
            "Epoch 64/100\n",
            "15/15 [==============================] - 0s 3ms/step - loss: 0.0395 - accuracy: 0.9604 - val_loss: 0.0281 - val_accuracy: 0.9737\n",
            "Epoch 65/100\n",
            "15/15 [==============================] - 0s 2ms/step - loss: 0.0387 - accuracy: 0.9626 - val_loss: 0.0265 - val_accuracy: 0.9737\n",
            "Epoch 66/100\n",
            "15/15 [==============================] - 0s 2ms/step - loss: 0.0386 - accuracy: 0.9626 - val_loss: 0.0267 - val_accuracy: 0.9737\n",
            "Epoch 67/100\n",
            "15/15 [==============================] - 0s 2ms/step - loss: 0.0377 - accuracy: 0.9626 - val_loss: 0.0271 - val_accuracy: 0.9737\n",
            "Epoch 68/100\n",
            "15/15 [==============================] - 0s 2ms/step - loss: 0.0374 - accuracy: 0.9648 - val_loss: 0.0266 - val_accuracy: 0.9737\n",
            "Epoch 69/100\n",
            "15/15 [==============================] - 0s 2ms/step - loss: 0.0376 - accuracy: 0.9626 - val_loss: 0.0261 - val_accuracy: 0.9737\n",
            "Epoch 70/100\n",
            "15/15 [==============================] - 0s 2ms/step - loss: 0.0365 - accuracy: 0.9604 - val_loss: 0.0268 - val_accuracy: 0.9737\n",
            "Epoch 71/100\n",
            "15/15 [==============================] - 0s 2ms/step - loss: 0.0362 - accuracy: 0.9604 - val_loss: 0.0261 - val_accuracy: 0.9737\n",
            "Epoch 72/100\n",
            "15/15 [==============================] - 0s 2ms/step - loss: 0.0362 - accuracy: 0.9670 - val_loss: 0.0257 - val_accuracy: 0.9825\n",
            "Epoch 73/100\n",
            "15/15 [==============================] - 0s 2ms/step - loss: 0.0376 - accuracy: 0.9582 - val_loss: 0.0268 - val_accuracy: 0.9737\n",
            "Epoch 74/100\n",
            "15/15 [==============================] - 0s 2ms/step - loss: 0.0350 - accuracy: 0.9604 - val_loss: 0.0254 - val_accuracy: 0.9825\n",
            "Epoch 75/100\n",
            "15/15 [==============================] - 0s 2ms/step - loss: 0.0346 - accuracy: 0.9604 - val_loss: 0.0252 - val_accuracy: 0.9825\n",
            "Epoch 76/100\n",
            "15/15 [==============================] - 0s 2ms/step - loss: 0.0342 - accuracy: 0.9670 - val_loss: 0.0251 - val_accuracy: 0.9825\n",
            "Epoch 77/100\n",
            "15/15 [==============================] - 0s 2ms/step - loss: 0.0339 - accuracy: 0.9626 - val_loss: 0.0252 - val_accuracy: 0.9825\n",
            "Epoch 78/100\n",
            "15/15 [==============================] - 0s 2ms/step - loss: 0.0342 - accuracy: 0.9714 - val_loss: 0.0253 - val_accuracy: 0.9825\n",
            "Epoch 79/100\n",
            "15/15 [==============================] - 0s 2ms/step - loss: 0.0331 - accuracy: 0.9604 - val_loss: 0.0256 - val_accuracy: 0.9825\n",
            "Epoch 80/100\n",
            "15/15 [==============================] - 0s 2ms/step - loss: 0.0326 - accuracy: 0.9626 - val_loss: 0.0254 - val_accuracy: 0.9825\n",
            "Epoch 81/100\n",
            "15/15 [==============================] - 0s 2ms/step - loss: 0.0325 - accuracy: 0.9626 - val_loss: 0.0250 - val_accuracy: 0.9825\n",
            "Epoch 82/100\n",
            "15/15 [==============================] - 0s 2ms/step - loss: 0.0326 - accuracy: 0.9692 - val_loss: 0.0257 - val_accuracy: 0.9825\n",
            "Epoch 83/100\n",
            "15/15 [==============================] - 0s 2ms/step - loss: 0.0326 - accuracy: 0.9626 - val_loss: 0.0258 - val_accuracy: 0.9825\n",
            "Epoch 84/100\n",
            "15/15 [==============================] - 0s 2ms/step - loss: 0.0326 - accuracy: 0.9648 - val_loss: 0.0257 - val_accuracy: 0.9825\n",
            "Epoch 85/100\n",
            "15/15 [==============================] - 0s 2ms/step - loss: 0.0322 - accuracy: 0.9648 - val_loss: 0.0247 - val_accuracy: 0.9825\n",
            "Epoch 86/100\n",
            "15/15 [==============================] - 0s 2ms/step - loss: 0.0313 - accuracy: 0.9692 - val_loss: 0.0257 - val_accuracy: 0.9825\n",
            "Epoch 87/100\n",
            "15/15 [==============================] - 0s 2ms/step - loss: 0.0307 - accuracy: 0.9670 - val_loss: 0.0251 - val_accuracy: 0.9737\n",
            "Epoch 88/100\n",
            "15/15 [==============================] - 0s 2ms/step - loss: 0.0310 - accuracy: 0.9648 - val_loss: 0.0255 - val_accuracy: 0.9825\n",
            "Epoch 89/100\n",
            "15/15 [==============================] - 0s 3ms/step - loss: 0.0302 - accuracy: 0.9692 - val_loss: 0.0252 - val_accuracy: 0.9737\n",
            "Epoch 90/100\n",
            "15/15 [==============================] - 0s 2ms/step - loss: 0.0305 - accuracy: 0.9670 - val_loss: 0.0256 - val_accuracy: 0.9737\n",
            "Epoch 91/100\n",
            "15/15 [==============================] - 0s 2ms/step - loss: 0.0299 - accuracy: 0.9670 - val_loss: 0.0258 - val_accuracy: 0.9737\n",
            "Epoch 92/100\n",
            "15/15 [==============================] - 0s 2ms/step - loss: 0.0303 - accuracy: 0.9692 - val_loss: 0.0251 - val_accuracy: 0.9825\n",
            "Epoch 93/100\n",
            "15/15 [==============================] - 0s 2ms/step - loss: 0.0295 - accuracy: 0.9692 - val_loss: 0.0252 - val_accuracy: 0.9737\n",
            "Epoch 94/100\n",
            "15/15 [==============================] - 0s 2ms/step - loss: 0.0292 - accuracy: 0.9692 - val_loss: 0.0252 - val_accuracy: 0.9737\n",
            "Epoch 95/100\n",
            "15/15 [==============================] - 0s 2ms/step - loss: 0.0289 - accuracy: 0.9670 - val_loss: 0.0251 - val_accuracy: 0.9737\n",
            "Epoch 96/100\n",
            "15/15 [==============================] - 0s 3ms/step - loss: 0.0289 - accuracy: 0.9714 - val_loss: 0.0257 - val_accuracy: 0.9737\n",
            "Epoch 97/100\n",
            "15/15 [==============================] - 0s 2ms/step - loss: 0.0287 - accuracy: 0.9714 - val_loss: 0.0253 - val_accuracy: 0.9737\n",
            "Epoch 98/100\n",
            "15/15 [==============================] - 0s 2ms/step - loss: 0.0285 - accuracy: 0.9714 - val_loss: 0.0250 - val_accuracy: 0.9737\n",
            "Epoch 99/100\n",
            "15/15 [==============================] - 0s 2ms/step - loss: 0.0282 - accuracy: 0.9736 - val_loss: 0.0253 - val_accuracy: 0.9737\n",
            "Epoch 100/100\n",
            "15/15 [==============================] - 0s 2ms/step - loss: 0.0286 - accuracy: 0.9714 - val_loss: 0.0252 - val_accuracy: 0.9737\n"
          ],
          "name": "stdout"
        }
      ]
    },
    {
      "cell_type": "markdown",
      "metadata": {
        "id": "7wyYorl3Dcti"
      },
      "source": [
        "### Perhitungan Akurasi\n",
        "Evaluasi dengan mencari skor data testing. "
      ]
    },
    {
      "cell_type": "code",
      "metadata": {
        "id": "aLiXY3mfDctj",
        "outputId": "58269def-e6b1-4893-f894-4060168aeb4e",
        "colab": {
          "base_uri": "https://localhost:8080/",
          "height": 51
        }
      },
      "source": [
        "scores = model.evaluate(data_testing, target_testing)\n",
        "print(\"Akurasi data Testing = %.2f%%\" % (scores[1]*100))"
      ],
      "execution_count": 14,
      "outputs": [
        {
          "output_type": "stream",
          "text": [
            "4/4 [==============================] - 0s 2ms/step - loss: 0.0252 - accuracy: 0.9737\n",
            "Akurasi data Testing = 97.37%\n"
          ],
          "name": "stdout"
        }
      ]
    },
    {
      "cell_type": "markdown",
      "metadata": {
        "id": "yhngWeSvDctn"
      },
      "source": [
        "## Validasi Model"
      ]
    },
    {
      "cell_type": "markdown",
      "metadata": {
        "id": "lMYnI0ppDcto"
      },
      "source": [
        "### Plot akurasi model\n",
        "Evaluasi akurasi model, dibuat plot yang menunjukan perbandingan dari hasil learning pada data uji dan data latih"
      ]
    },
    {
      "cell_type": "code",
      "metadata": {
        "id": "fV-S3fgADctp",
        "outputId": "b49a2c5f-ffb5-4843-e62f-20c14cba0a34",
        "colab": {
          "base_uri": "https://localhost:8080/",
          "height": 295
        }
      },
      "source": [
        "plt.plot(history_validasi.history['accuracy'])\n",
        "plt.plot(history_validasi.history['val_accuracy'])\n",
        "plt.title('model accuracy')\n",
        "plt.ylabel('Akurasi')\n",
        "plt.xlabel('Epoch')\n",
        "plt.legend(['Data Latih', 'Data Testing'], loc='upper left')\n",
        "plt.show()"
      ],
      "execution_count": 15,
      "outputs": [
        {
          "output_type": "display_data",
          "data": {
            "image/png": "[encoded data removed]",
            "text/plain": [
              "<Figure size 432x288 with 1 Axes>"
            ]
          },
          "metadata": {
            "tags": [],
            "needs_background": "light"
          }
        }
      ]
    },
    {
      "cell_type": "markdown",
      "metadata": {
        "id": "MGrbqnY1Dctu"
      },
      "source": [
        "### Plot Loss\n",
        "Evaluasi loss/error model yang menunjukan perbandingan dari hasil learning pada data uji dan data latih"
      ]
    },
    {
      "cell_type": "code",
      "metadata": {
        "id": "EEWizWomDctv",
        "outputId": "f60abbf4-a120-47f1-811e-61c95b27051a",
        "colab": {
          "base_uri": "https://localhost:8080/",
          "height": 295
        }
      },
      "source": [
        "plt.plot(history_validasi.history['loss'])\n",
        "plt.plot(history_validasi.history['val_loss'])\n",
        "plt.title('Model Loss')\n",
        "plt.ylabel('Loss')\n",
        "plt.xlabel('Epoch')\n",
        "plt.legend(['Data Latih', 'Data Testing'], loc='upper left')\n",
        "plt.show()"
      ],
      "execution_count": 16,
      "outputs": [
        {
          "output_type": "display_data",
          "data": {
            "image/png": "[encoded data removed]",
            "text/plain": [
              "<Figure size 432x288 with 1 Axes>"
            ]
          },
          "metadata": {
            "tags": [],
            "needs_background": "light"
          }
        }
      ]
    },
    {
      "cell_type": "markdown",
      "metadata": {
        "id": "Jte4cBW7Dctz"
      },
      "source": [
        "### Confussion Matrix"
      ]
    },
    {
      "cell_type": "markdown",
      "metadata": {
        "id": "1yzOfMSGDct0"
      },
      "source": [
        "Selanjutnya untuk mengevaluasi hasil prediksi, akan dibuat confussion matriks. Fungsinya untuk melihat hasil prediksi, yang akan digolongkan menjadi beberapa kategori. Karena klasifikasinya adalah binary (1 dan 0) maka ada 4 kemungkinan prediksi yaitu True Positive, False Positive, False Negative, True Negative. "
      ]
    },
    {
      "cell_type": "code",
      "metadata": {
        "id": "cD6zchqqDct1",
        "outputId": "8531a04a-6919-467e-ca5e-e4ac117843d4",
        "colab": {
          "base_uri": "https://localhost:8080/",
          "height": 88
        }
      },
      "source": [
        "prediction = model.predict_classes(data_testing)"
      ],
      "execution_count": 17,
      "outputs": [
        {
          "output_type": "stream",
          "text": [
            "WARNING:tensorflow:From <ipython-input-17-1cf782f0802a>:1: Sequential.predict_classes (from tensorflow.python.keras.engine.sequential) is deprecated and will be removed after 2021-01-01.\n",
            "Instructions for updating:\n",
            "Please use instead:* `np.argmax(model.predict(x), axis=-1)`,   if your model does multi-class classification   (e.g. if it uses a `softmax` last-layer activation).* `(model.predict(x) > 0.5).astype(\"int32\")`,   if your model does binary classification   (e.g. if it uses a `sigmoid` last-layer activation).\n"
          ],
          "name": "stdout"
        }
      ]
    },
    {
      "cell_type": "code",
      "metadata": {
        "id": "NGQ2u-WaDct6",
        "outputId": "b079e52d-138e-4a53-9576-65c99f8bf13c",
        "colab": {
          "base_uri": "https://localhost:8080/",
          "height": 136
        }
      },
      "source": [
        "from sklearn.metrics import confusion_matrix\n",
        "prediction = model.predict_classes(data_testing)\n",
        "cm = confusion_matrix(target_testing, prediction)\n",
        "tp = cm[0,0]\n",
        "tn = cm[1,1]\n",
        "fp = cm[0,1]\n",
        "fn = cm[1,0]\n",
        "print (\"Confussion matriks:\\n\",cm)\n",
        "print (\"Jumlah True Positive: \", tp)\n",
        "print (\"Jumlah True Negative: \", tn)\n",
        "print (\"Jumlah False Positive: \", fp)\n",
        "print (\"Jumlah False Negative: \", fn)"
      ],
      "execution_count": 18,
      "outputs": [
        {
          "output_type": "stream",
          "text": [
            "Confussion matriks:\n",
            " [[83  1]\n",
            " [ 2 28]]\n",
            "Jumlah True Positive:  83\n",
            "Jumlah True Negative:  28\n",
            "Jumlah False Positive:  1\n",
            "Jumlah False Negative:  2\n"
          ],
          "name": "stdout"
        }
      ]
    },
    {
      "cell_type": "markdown",
      "metadata": {
        "id": "7VAcPDaCDct-"
      },
      "source": [
        "## mencari nilai evaluasi "
      ]
    },
    {
      "cell_type": "code",
      "metadata": {
        "id": "uZBZNM_1Dct_",
        "outputId": "b6f35f12-49cd-4bbc-8561-c554b8242e9e",
        "colab": {
          "base_uri": "https://localhost:8080/",
          "height": 119
        }
      },
      "source": [
        "precision = tp / ( tp + fp)\n",
        "recall = tp/(tp+fn)\n",
        "f1=(2*precision*recall)/ (precision+recall)\n",
        "akurasi = (tp+tn)/(tp+tn+fp+fn)\n",
        "spec = tn / (tn+fp)\n",
        "Sensitivity = tp/(tp + fn)\n",
        "\n",
        "#menampilkan\n",
        "print (\"precesion : \",precision)\n",
        "print(\"recall : \",recall)\n",
        "print (\"F1 : \",f1)\n",
        "print(\"spec : \",spec)\n",
        "print(\"sensitivity : \",Sensitivity )\n",
        "print(\"akurasi : \",akurasi)"
      ],
      "execution_count": 19,
      "outputs": [
        {
          "output_type": "stream",
          "text": [
            "precesion :  0.9880952380952381\n",
            "recall :  0.9764705882352941\n",
            "F1 :  0.9822485207100591\n",
            "spec :  0.9655172413793104\n",
            "sensitivity :  0.9764705882352941\n",
            "akurasi :  0.9736842105263158\n"
          ],
          "name": "stdout"
        }
      ]
    },
    {
      "cell_type": "markdown",
      "metadata": {
        "id": "HlHosRveDcuE"
      },
      "source": [
        "## Visualisasi ROC\n",
        "ROC digunakan untuk melihat perbadingan antara Sensitivitas dan Spesifisitas. "
      ]
    },
    {
      "cell_type": "code",
      "metadata": {
        "id": "wPtk3jcIDcuE",
        "outputId": "fd3cf017-a192-4c8b-d8c8-a9329bc26f38",
        "colab": {
          "base_uri": "https://localhost:8080/",
          "height": 295
        }
      },
      "source": [
        "fpr, tpr, threshold = sklearn.metrics.roc_curve(target_testing, prediction)\n",
        "roc_auc = sklearn.metrics.auc(fpr, tpr)\n",
        "plt.title('Receiver Operating Characteristic (Test)')\n",
        "plt.plot(fpr, tpr, 'b', label = 'AUC = %0.2f' % roc_auc)\n",
        "plt.legend(loc = 'lower right')\n",
        "plt.plot([0, 1], [0, 1],'r--')\n",
        "plt.xlim([0, 1])\n",
        "plt.ylim([0, 1])\n",
        "plt.ylabel('Sensitivity (True Positive Rate)')\n",
        "plt.xlabel('Spesificity (False Positive Rate)')\n",
        "plt.show()"
      ],
      "execution_count": 20,
      "outputs": [
        {
          "output_type": "display_data",
          "data": {
            "image/png": "[encoded data removed]",
            "text/plain": [
              "<Figure size 432x288 with 1 Axes>"
            ]
          },
          "metadata": {
            "tags": [],
            "needs_background": "light"
          }
        }
      ]
    },
    {
      "cell_type": "code",
      "metadata": {
        "id": "1jLvOxOVDcuJ"
      },
      "source": [
        ""
      ],
      "execution_count": null,
      "outputs": []
    }
  ]
}