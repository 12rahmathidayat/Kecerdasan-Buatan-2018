{
 "cells": [
  {
   "cell_type": "markdown",
   "metadata": {},
   "source": [
    "NAMA : RACHMAWATI DWINANTI PUTRI\n",
    "NIM : 09011281823064\n",
    "KELAS : SK5B"
   ]
  },
  {
   "cell_type": "markdown",
   "metadata": {
    "_cell_guid": "16e99168-bfb6-4eee-b05f-70364092219d",
    "_uuid": "7b32182c6deec5e9b7881211585833baae2fdd67"
   },
   "source": [
    "Notebook ini pada dasarnya mencakup tutorial dasar untuk Support Vector Machine. Saya akan menggunakan data prediksi seluler untuk excerise ini. \n",
    "\n",
    "Catatan: \n",
    "    1) Kumpulan data ini bukan kumpulan data yang bagus untuk mempraktikkan klasifikasi SVM, saya menggunakannya untuk mencoba SVM dengan sederhana. \n",
    "    2) Jika Anda memiliki kumpulan data yang lebih baik maka saya akan merekomendasikan menggunakan itu atau kumpulan Data IRIS sangat bagus untuk masalah ini. \n",
    "\n",
    "Topik di bawah ini dibahas dalam Kernal ini. \n",
    "- Prepocessing data \n",
    "- Analisis nilai target\n",
    "- SVM\n",
    "- SVM Linear\n",
    "- Regresor SV\n",
    "- Non Linear SVM dengan kernal - RBF (catatan: Anda juga dapat mencoba poli)\n",
    "- SVR Non Linear "
   ]
  },
  {
   "cell_type": "code",
   "execution_count": 2,
   "metadata": {
    "_cell_guid": "b1076dfc-b9ad-4769-8c92-a6c4dae69d19",
    "_uuid": "8f2839f25d086af736a60e9eeb907d3b93b6e0e5"
   },
   "outputs": [],
   "source": [
    "import numpy as np # linear algebra\n",
    "import pandas as pd # data processing, CSV file I/O (e.g. pd.read_csv)\n",
    "import seaborn as sns\n",
    "import matplotlib.pyplot as plt\n",
    "from matplotlib.colors import ListedColormap\n",
    "\n",
    "\n",
    "import os\n",
    "print(os.listdir(\"../input\"))\n",
    "\n",
    "# Any results you write to the current directory are saved as output."
   ]
  },
  {
   "cell_type": "markdown",
   "metadata": {
    "_cell_guid": "44fd9b5e-4374-44c8-9c62-2b092a54c68b",
    "_uuid": "59be0dafdd352d41c1e7eb2db65c015cd1d67b12"
   },
   "source": [
    "**DATA PREPROCESSING**"
   ]
  },
  {
   "cell_type": "code",
   "execution_count": 3,
   "metadata": {
    "_cell_guid": "79c7e3d0-c299-4dcb-8224-4455121ee9b0",
    "_uuid": "d629ff2d2480ee46fbb7e2d37f6b5fab8052498a"
   },
   "outputs": [],
   "source": [
    "df = pd.read_csv('../input/train.csv')\n",
    "test = pd.read_csv('../input/test.csv')\n",
    "df.head()"
   ]
  },
  {
   "cell_type": "code",
   "execution_count": 4,
   "metadata": {
    "_cell_guid": "88bb234a-9d85-4e29-8aa8-88e54345743a",
    "_uuid": "b380904bd662112cb8f9ba79c416633962c9d46f"
   },
   "outputs": [],
   "source": [
    "# checking if there is any missing value\n",
    "df.isnull().sum().max()\n",
    "df.columns"
   ]
  },
  {
   "cell_type": "markdown",
   "metadata": {
    "_cell_guid": "b002a54e-383b-4f76-9617-16722f4ae7b4",
    "_uuid": "19a148d76b45f5728572ef26f4d450397c99a2f5"
   },
   "source": [
    "**TARGET VALUE ANALYSIS**"
   ]
  },
  {
   "cell_type": "code",
   "execution_count": 5,
   "metadata": {
    "_cell_guid": "460450c3-c004-4aa4-aa5d-df2286f70fe5",
    "_uuid": "5a35aaad3708055baa0f5961d405984e33f58ace"
   },
   "outputs": [],
   "source": [
    "#understanding the predicted value - which is hot encoded, in real life price won't be hot encoded.\n",
    "df['price_range'].describe(), df['price_range'].unique()\n",
    "\n",
    "# there are 4 classes in the predicted value"
   ]
  },
  {
   "cell_type": "code",
   "execution_count": 6,
   "metadata": {
    "_cell_guid": "39880eac-14e2-4ae3-95fd-cc59bb3be576",
    "_uuid": "cbc0da9a7d1407a89d7b1a626581cbe05f486ae4"
   },
   "outputs": [],
   "source": [
    "corrmat = df.corr()\n",
    "f,ax = plt.subplots(figsize=(12,10))\n",
    "sns.heatmap(corrmat,vmax=0.8,square=True,annot=True,annot_kws={'size':8})"
   ]
  },
  {
   "cell_type": "code",
   "execution_count": null,
   "metadata": {
    "_cell_guid": "09309689-3aea-4b56-bcf5-ed1592acf867",
    "_uuid": "aebd8eaef413193325f162368a21dd33b882c83a",
    "collapsed": true
   },
   "outputs": [],
   "source": [
    "f, ax = plt.subplots(figsize=(10,4))\n",
    "plt.scatter(y=df['price_range'],x=df['battery_power'],color='red')\n",
    "plt.scatter(y=df['price_range'],x=df['ram'],color='Green')\n",
    "plt.scatter(y=df['price_range'],x=df['n_cores'],color='blue')\n",
    "plt.scatter(y=df['price_range'],x=df['mobile_wt'],color='orange')\n",
    "# clearly we can see that each of the category has different set of value ranges "
   ]
  },
  {
   "cell_type": "code",
   "execution_count": null,
   "metadata": {
    "_cell_guid": "3165f683-cb9a-4987-9706-ae0daeda9af8",
    "_uuid": "6224bf0ccb965f5d4ff26629819054e32ff14c18",
    "collapsed": true
   },
   "outputs": [],
   "source": [
    "# Try plots using seaborn\n",
    "#sns.swarmplot(x='battery_power',y='ram',data=df,hue='price_range')\n",
    "#plt.show()"
   ]
  },
  {
   "cell_type": "code",
   "execution_count": null,
   "metadata": {
    "_cell_guid": "59fd23fe-7b70-4915-809e-94eba411d38b",
    "_uuid": "d601d3021de933308076bc236132185e24294bbc",
    "collapsed": true
   },
   "outputs": [],
   "source": [
    "#sns.pairplot(df,size=2.5)\n",
    "#plt.show()"
   ]
  },
  {
   "cell_type": "markdown",
   "metadata": {
    "_cell_guid": "aab929d8-5b3a-4a47-a0b0-b8d831078552",
    "_uuid": "0da42e6d68e5e50a22243df17a9797c9ddb28008"
   },
   "source": [
    "Sekarang dalam kumpulan data tidak perlu membuat variabel dummy atau menangani data yang hilang karena kumpulan data tidak memiliki data yang hilang\n",
    "\n",
    "**SUPPORT VECTOR MACHINES AND METHODS : **"
   ]
  },
  {
   "cell_type": "code",
   "execution_count": 7,
   "metadata": {
    "_cell_guid": "bd158f89-8437-4417-9c4c-f3bddc84a0d3",
    "_uuid": "7166482c61754c0ff3df01e6c6d0416bb1b2bfc6"
   },
   "outputs": [],
   "source": [
    "from sklearn.svm import SVC\n",
    "from sklearn.model_selection import train_test_split\n",
    "\n",
    "y_t = np.array(df['price_range'])\n",
    "X_t = df\n",
    "X_t = df.drop(['price_range'],axis=1)\n",
    "X_t = np.array(X_t)\n",
    "\n",
    "print(\"shape of Y :\"+str(y_t.shape))\n",
    "print(\"shape of X :\"+str(X_t.shape))\n",
    "\n",
    "from sklearn.preprocessing import MinMaxScaler\n",
    "scaler = MinMaxScaler()\n",
    "X_t = scaler.fit_transform(X_t)"
   ]
  },
  {
   "cell_type": "code",
   "execution_count": 8,
   "metadata": {
    "_cell_guid": "d2117cb9-654e-4d8a-aa71-992156eeb6b1",
    "_uuid": "5be1d3ac05124b701ce0a4cd51cfaafe5da7731d"
   },
   "outputs": [],
   "source": [
    "X_train,X_test,Y_train,Y_test = train_test_split(X_t,y_t,test_size=.20,random_state=42)\n",
    "print(\"shape of X Train :\"+str(X_train.shape))\n",
    "print(\"shape of X Test :\"+str(X_test.shape))\n",
    "print(\"shape of Y Train :\"+str(Y_train.shape))\n",
    "print(\"shape of Y Test :\"+str(Y_test.shape))"
   ]
  },
  {
   "cell_type": "code",
   "execution_count": 9,
   "metadata": {
    "_cell_guid": "1a841504-52fe-4926-900f-b7a98160f215",
    "_uuid": "9f0c7c02180fc639afd8b166c0d36c3f3c237d48"
   },
   "outputs": [],
   "source": [
    "for this_C in [1,3,5,10,40,60,80,100]:\n",
    "    clf = SVC(kernel='linear',C=this_C).fit(X_train,Y_train)\n",
    "    scoretrain = clf.score(X_train,Y_train)\n",
    "    scoretest  = clf.score(X_test,Y_test)\n",
    "    print(\"Linear SVM value of C:{}, training score :{:2f} , Test Score: {:2f} \\n\".format(this_C,scoretrain,scoretest))"
   ]
  },
  {
   "cell_type": "code",
   "execution_count": 10,
   "metadata": {
    "_cell_guid": "0ced714f-0c0e-44d1-aef5-496b545de189",
    "_uuid": "74cefa3fcd0748c92d96cfab6f343f73496d15b1"
   },
   "outputs": [],
   "source": [
    "from sklearn.model_selection import cross_val_score,StratifiedKFold,LeaveOneOut\n",
    "clf1 = SVC(kernel='linear',C=20).fit(X_train,Y_train)\n",
    "scores = cross_val_score(clf1,X_train,Y_train,cv=5)\n",
    "strat_scores = cross_val_score(clf1,X_train,Y_train,cv=StratifiedKFold(5,random_state=10,shuffle=True))\n",
    "#Loo = LeaveOneOut()\n",
    "#Loo_scores = cross_val_score(clf1,X_train,Y_train,cv=Loo)\n",
    "print(\"The Cross Validation Score :\"+str(scores))\n",
    "print(\"The Average Cross Validation Score :\"+str(scores.mean()))\n",
    "print(\"The Stratified Cross Validation Score :\"+str(strat_scores))\n",
    "print(\"The Average Stratified Cross Validation Score :\"+str(strat_scores.mean()))\n",
    "#print(\"The LeaveOneOut Cross Validation Score :\"+str(Loo_scores))\n",
    "#print(\"The Average LeaveOneOut Cross Validation Score :\"+str(Loo_scores.mean()))"
   ]
  },
  {
   "cell_type": "code",
   "execution_count": 24,
   "metadata": {
    "_uuid": "bedfd3a4a9849d79f0aebded7ba900f06188a59b"
   },
   "outputs": [],
   "source": [
    "from sklearn.dummy import DummyClassifier\n",
    "\n",
    "for strat in ['stratified', 'most_frequent', 'prior', 'uniform']:\n",
    "    dummy_maj = DummyClassifier(strategy=strat).fit(X_train,Y_train)\n",
    "    print(\"Train Stratergy :{} \\n Score :{:.2f}\".format(strat,dummy_maj.score(X_train,Y_train)))\n",
    "    print(\"Test Stratergy :{} \\n Score :{:.2f}\".format(strat,dummy_maj.score(X_test,Y_test)))"
   ]
  },
  {
   "cell_type": "code",
   "execution_count": 25,
   "metadata": {
    "_cell_guid": "f769b170-b8c1-40b5-b2a4-e77147c51f3d",
    "_uuid": "258cde3bb984854f8efc776456704621546ba28a"
   },
   "outputs": [],
   "source": [
    "# plotting the decision boundries for the data \n",
    "#converting the data to array for plotting. \n",
    "X = np.array(df.iloc[:,[0,13]])\n",
    "y = np.array(df['price_range'])\n",
    "print(\"Shape of X:\"+str(X.shape))\n",
    "print(\"Shape of y:\"+str(y.shape))\n",
    "X = scaler.fit_transform(X)"
   ]
  },
  {
   "cell_type": "code",
   "execution_count": 26,
   "metadata": {
    "_cell_guid": "fb52356e-54f7-440a-8a93-493ddc6d9828",
    "_uuid": "e30d5991bb9ec84737df5db10b55082a52150b0a",
    "collapsed": true
   },
   "outputs": [],
   "source": [
    "# custome color maps\n",
    "cm_dark = ListedColormap(['#ff6060', '#8282ff','#ffaa00','#fff244','#4df9b9','#76e8fc','#3ad628'])\n",
    "cm_bright = ListedColormap(['#ffafaf', '#c6c6ff','#ffaa00','#ffe2a8','#bfffe7','#c9f7ff','#9eff93'])"
   ]
  },
  {
   "cell_type": "code",
   "execution_count": 28,
   "metadata": {
    "_cell_guid": "3f9d9ffb-01a0-43fc-b133-1bd4b7aee27a",
    "_uuid": "249279d2398462aefadbbc1fd5bf186c8f8bd110"
   },
   "outputs": [],
   "source": [
    "plt.scatter(X[:,0],X[:,1],c=y,cmap=cm_dark,s=10,label=y)\n",
    "plt.show()"
   ]
  },
  {
   "cell_type": "code",
   "execution_count": 27,
   "metadata": {
    "_cell_guid": "822fa316-06b0-4207-8bc8-348713a62b92",
    "_uuid": "c331b468bf4898754fd9adf9231df2bbb086bf86"
   },
   "outputs": [],
   "source": [
    "h = .02  # step size in the mesh\n",
    "C_param = 1 # No of neighbours\n",
    "for weights in ['uniform', 'distance']:\n",
    "    # we create an instance of Neighbours Classifier and fit the data.\n",
    "    clf1 = SVC(kernel='linear',C=C_param)\n",
    "    clf1.fit(X, y)\n",
    "\n",
    "    # Plot the decision boundary. For that, we will assign a color to each\n",
    "    # point in the mesh [x_min, x_max]x[y_min, y_max].\n",
    "    x_min, x_max = X[:, 0].min()-.20, X[:, 0].max()+.20\n",
    "    y_min, y_max = X[:, 1].min()-.20, X[:, 1].max()+.20\n",
    "    xx, yy = np.meshgrid(np.arange(x_min, x_max, h),\n",
    "                         np.arange(y_min, y_max, h))\n",
    "    Z = clf1.predict(np.c_[xx.ravel(), yy.ravel()])   # ravel to flatten the into 1D and c_ to concatenate \n",
    "\n",
    "    # Put the result into a color plot\n",
    "    Z = Z.reshape(xx.shape)\n",
    "    plt.figure()\n",
    "    plt.pcolormesh(xx, yy, Z, cmap=cm_bright)\n",
    "\n",
    "    # Plot also the training points\n",
    "    plt.scatter(X[:, 0], X[:, 1], c=y, cmap=cm_dark,\n",
    "                edgecolor='k', s=20)\n",
    "    plt.xlim(xx.min(), xx.max())\n",
    "    plt.ylim(yy.min(), yy.max())\n",
    "    plt.title(\"SVM Linear Classification (kernal = linear, Gamma = '%s')\"% (C_param))\n",
    "\n",
    "plt.show()"
   ]
  },
  {
   "cell_type": "code",
   "execution_count": 29,
   "metadata": {
    "_cell_guid": "29b5c886-cedc-4791-8dc0-b2da8f7febd0",
    "_uuid": "cea93036779601331a4e8e009b5e2e6116e603f3"
   },
   "outputs": [],
   "source": [
    "print(\"The score of the above :\"+str(clf1.score(X,y)))"
   ]
  },
  {
   "cell_type": "code",
   "execution_count": 30,
   "metadata": {
    "_cell_guid": "f26fe33c-fbac-4527-9ba3-8896d7621821",
    "_uuid": "30f878663a0ac5fc43adbd7f598370f8ad3049ba"
   },
   "outputs": [],
   "source": [
    "# Linear Support vector machine with only C Parameter \n",
    "from sklearn.svm import LinearSVC\n",
    "\n",
    "for this_C in [1,3,5,10,40,60,80,100]:\n",
    "    clf2 = LinearSVC(C=this_C).fit(X_train,Y_train)\n",
    "    scoretrain = clf2.score(X_train,Y_train)\n",
    "    scoretest  = clf2.score(X_test,Y_test)\n",
    "    print(\"Linear SVM value of C:{}, training score :{:2f} , Test Score: {:2f} \\n\".format(this_C,scoretrain,scoretest))\n",
    "\n"
   ]
  },
  {
   "cell_type": "markdown",
   "metadata": {
    "_cell_guid": "83f1b6d3-5f89-48c3-8375-3e3d9dfe106f",
    "_uuid": "c7164190b883c32dbe1a7530e403ad6410aad53a"
   },
   "source": [
    "Rupanya kami mendapat skor yang lebih baik dengan SVC di mana kami mendefinisikan kernal sebagai linier daripada hanya dengan LinearSVC\n",
    "\n",
    "Kelas LinearSVC didasarkan pada pustaka liblinear, yang mengimplementasikan algoritme yang dioptimalkan untuk SVM linier.\n",
    "1. Ini tidak mendukung trik kernel, tetapi berskala hampir linier dengan jumlah contoh pelatihan dan jumlah fitur: kompleksitas waktu pelatihannya kira-kira O (m × n).\n",
    "\n",
    "Kelas SVC didasarkan pada pustaka libsvm, yang mengimplementasikan algoritme yang mendukung trik kernel.\n",
    "1. Kompleksitas waktu pelatihan biasanya antara O (m2 × n) dan O (m3 × n).\n",
    "1. LinearSVC jauh lebih cepat daripada SVC (kernel = \"linear\")"
   ]
  },
  {
   "cell_type": "code",
   "execution_count": null,
   "metadata": {
    "_cell_guid": "3978887a-e22b-4ce8-8e6f-64d47591aaf9",
    "_uuid": "812ac486811dd7fc2116d04fb053eb8c3fb09ee5",
    "collapsed": true
   },
   "outputs": [],
   "source": [
    "from sklearn.svm import SVR\n",
    "\n",
    "svr = SVR(kernel='linear',C=1,epsilon=.01).fit(X_train,Y_train)\n",
    "print(\"{:.2f} is the accuracy of the SV Regressor\".format(svr.score(X_train,Y_train)))"
   ]
  },
  {
   "cell_type": "markdown",
   "metadata": {
    "_cell_guid": "a1e04aaa-9fbd-41ec-a15e-0e1f9cc67163",
    "_uuid": "824f056757dad9ac79ac567a0ec284f2edcef122"
   },
   "source": [
    "* SVM mendukung regresi linier dan nonlinier.\n",
    "* Regresi SVM mencoba memasukkan sebanyak mungkin contoh pada batas keputusan sambil membatasi pelanggaran margin.\n",
    "* Lebar batas keputusan dikontrol oleh hyperparameter ϵ."
   ]
  },
  {
   "cell_type": "markdown",
   "metadata": {
    "_cell_guid": "23da8689-2020-4e30-9990-0a7a69646a7e",
    "_uuid": "219bc19e91cf8fde8bfdefb2ce47ffacadded2ac"
   },
   "source": [
    "**NON LINEAR SVM **\n",
    "\n",
    "Metode untuk Menangani hubungan Non linier dalam kumpulan data kami adalah dengan menggunakan polinomial Kernal atau menggunakan fungsi kesamaan dengan SVM kami.\n",
    "\n",
    "Kami akan menggunakan fungsi Gaussian Radial Basis Function (RBF) untuk hal yang sama. untuk menangani ini di Sklearn ada hyperparameter Gamma.\n",
    "Periksa Fungsi RBF Gausian - untuk info lebih lanjut.\n",
    "\n",
    "Secara teknis, parameter gamma merupakan kebalikan dari deviasi standar kernel RBF (fungsi Gaussian), yang digunakan sebagai ukuran kemiripan antara dua titik. Secara intuitif, nilai gamma yang kecil menentukan fungsi Gaussian dengan varian yang besar. Dalam hal ini, dua titik dapat dianggap serupa meskipun jauh dari satu sama lain. **In the other hand, a large gamma value means define a Gaussian function with a small variance and in this case, two points are considered similar just if they are close to each other.**\n",
    "\n",
    "Initution:  kami membuat landmark yang berbeda dan kemudian memeriksa seberapa jauh contoh pelatihan dari landmark. Dalam prakteknya, jika kita memiliki n contoh pelatihan maka kita akan memiliki n landmark dan kita akan membuat satu set fitur nilai n dengan n landmark. Ketika contoh pelatihan paling dekat dengan tengara, nilai variansnya akan kecil dan bila jauh nilainya akan besar dan karenanya kita akan mengasosiasikan contoh terdekat dengan tengara dengan 1 dan yang jauh dengan 0. Kemampuan ini membuat SVM sangat kuat."
   ]
  },
  {
   "cell_type": "code",
   "execution_count": 31,
   "metadata": {
    "_cell_guid": "3e6ee5f0-ebad-40d5-a3f4-8bb034e2e069",
    "_uuid": "4f00573c1050ffa1c827277fab4df5663c8b50af"
   },
   "outputs": [],
   "source": [
    "# SMV with RBF KERNAL AND ONLY C PARAMETER \n",
    "\n",
    "for this_C in [1,5,10,25,50,100]:\n",
    "    clf3 = SVC(kernel='rbf',C=this_C).fit(X_train,Y_train)\n",
    "    clf3train = clf3.score(X_train,Y_train)\n",
    "    clf3test  = clf3.score(X_test,Y_test)\n",
    "    print(\"SVM for Non Linear \\n C:{} Training Score : {:2f} Test Score : {:2f}\\n\".format(this_C,clf3train,clf3test))"
   ]
  },
  {
   "cell_type": "code",
   "execution_count": 32,
   "metadata": {
    "_cell_guid": "785e7823-68ea-457b-aa0f-cdcc63009e7a",
    "_uuid": "8cb1bbc811ddfb888d2713d457e7819ec8b95259"
   },
   "outputs": [],
   "source": [
    "h = .02  # step size in the mesh\n",
    "C_param = 1 # No of neighbours\n",
    "for weights in ['uniform', 'distance']:\n",
    "    # we create an instance of Neighbours Classifier and fit the data.\n",
    "    clf1 = SVC(kernel='rbf',C=C_param)\n",
    "    clf1.fit(X, y)\n",
    "\n",
    "    # Plot the decision boundary. For that, we will assign a color to each\n",
    "    # point in the mesh [x_min, x_max]x[y_min, y_max].\n",
    "    x_min, x_max = X[:, 0].min(), X[:, 0].max()\n",
    "    y_min, y_max = X[:, 1].min(), X[:, 1].max()\n",
    "    xx, yy = np.meshgrid(np.arange(x_min, x_max, h),\n",
    "                         np.arange(y_min, y_max, h))\n",
    "    Z = clf1.predict(np.c_[xx.ravel(), yy.ravel()])   # ravel to flatten the into 1D and c_ to concatenate \n",
    "\n",
    "    # Put the result into a color plot\n",
    "    Z = Z.reshape(xx.shape)\n",
    "    plt.figure()\n",
    "    plt.pcolormesh(xx, yy, Z, cmap=cm_bright)\n",
    "\n",
    "    # Plot also the training points\n",
    "    plt.scatter(X[:, 0], X[:, 1], c=y, cmap=cm_dark,\n",
    "                edgecolor='k', s=20)\n",
    "    plt.xlim(xx.min(), xx.max())\n",
    "    plt.ylim(yy.min(), yy.max())\n",
    "    plt.title(\"SVM Linear Classification (kernal = linear, Gamma = '%s')\"% (C_param))\n",
    "\n",
    "plt.show()"
   ]
  },
  {
   "cell_type": "code",
   "execution_count": 33,
   "metadata": {
    "_cell_guid": "65c30a5e-ff26-450b-8bcf-b2e3e7facc1b",
    "_uuid": "7d5e6aebafc97cbbac2dd2c999a73a94a5a37140"
   },
   "outputs": [],
   "source": [
    "# SVM WITH RBF KERNAL, C AND GAMMA HYPERPARAMTER \n",
    "for this_gamma in [.1,.5,.10,.25,.50,1]:\n",
    "    for this_C in [1,5,7,10,15,25,50]:\n",
    "        clf3 = SVC(kernel='rbf',C=this_C,gamma=this_gamma).fit(X_train,Y_train)\n",
    "        clf3train = clf3.score(X_train,Y_train)\n",
    "        clf3test  = clf3.score(X_test,Y_test)\n",
    "        print(\"SVM for Non Linear \\n Gamma: {} C:{} Training Score : {:2f} Test Score : {:2f}\\n\".format(this_gamma,this_C,clf3train,clf3test))"
   ]
  },
  {
   "cell_type": "code",
   "execution_count": null,
   "metadata": {
    "_cell_guid": "1bdc1023-2463-4061-838d-d88b24c9abef",
    "_uuid": "5d7eac401e043fb97096220d268b7f64cd15bbd9",
    "collapsed": true
   },
   "outputs": [],
   "source": [
    "# grid search method \n",
    "from sklearn.model_selection import GridSearchCV\n",
    "\n",
    "param_grid = {'C': [1,5,7,10,15,25,50],\n",
    "              'gamma': [.1,.5,.10,.25,.50,1]}\n",
    "GS = GridSearchCV(SVC(kernel='rbf'),param_grid,cv=5)"
   ]
  },
  {
   "cell_type": "code",
   "execution_count": null,
   "metadata": {
    "_cell_guid": "c5743c93-6e00-4d86-b46f-7f2581663655",
    "_uuid": "b18d724b4a80badef44189454b4790f0e88ac4e0",
    "collapsed": true
   },
   "outputs": [],
   "source": [
    "GS.fit(X_train,Y_train)"
   ]
  },
  {
   "cell_type": "code",
   "execution_count": null,
   "metadata": {
    "_cell_guid": "5d4d4803-2858-4767-bffc-b3692dd04f10",
    "_uuid": "8b9d9add3fb4fc19e57e5726b2933bf23be2f063",
    "collapsed": true
   },
   "outputs": [],
   "source": [
    "print(\"the parameters {} are the best.\".format(GS.best_params_))\n",
    "print(\"the best score is {:.2f}.\".format(GS.best_score_))"
   ]
  },
  {
   "cell_type": "code",
   "execution_count": null,
   "metadata": {
    "_cell_guid": "bf90ef41-1cca-4d3c-b544-fa5a2b41b2fd",
    "_uuid": "2f767e48ec82fbd49d3d7d8c925aee489e35711d",
    "collapsed": true
   },
   "outputs": [],
   "source": [
    "# Kernalized SVM machine \n",
    "svr2 = SVR(degree=2,C=100,epsilon=.01).fit(X_train,Y_train)\n",
    "print(\"{:.2f} is the accuracy of the SV Regressor\".format(svr2.score(X_train,Y_train)))"
   ]
  },
  {
   "cell_type": "markdown",
   "metadata": {
    "_cell_guid": "44b3e578-a4a2-48b3-8da6-22c532c2c831",
    "_uuid": "b8b6b3b800dee86d7f26e21cf36c3d57e035b41e",
    "collapsed": true
   },
   "source": [
    "Kita dapat melihat bahwa regressor Support Vector Machine kernalisasi memberikan akurasi yang lebih baik daripada SVM Regresor Linear (non kernal) sebelumnya. Bagaimanapun juga, perlu memahami data yang sedang dikerjakan sebelum mencoba berbagai metode. Teknik validasi silang berguna.\n",
    "\n",
    "Saya selanjutnya dapat menambahkan teknik Validasi Silang untuk Anda gunakan."
   ]
  },
  {
   "cell_type": "code",
   "execution_count": null,
   "metadata": {
    "_cell_guid": "d04d0cb5-cd1f-4c82-be02-8be365a05016",
    "_uuid": "a058f56b11f09d5249ee05feaf392e160914a262",
    "collapsed": true
   },
   "outputs": [],
   "source": [
    "test = test.drop(['id'],axis=1)\n",
    "test.head()"
   ]
  },
  {
   "cell_type": "code",
   "execution_count": null,
   "metadata": {
    "_cell_guid": "32576733-0a12-4a81-beec-a22358aff6f4",
    "_uuid": "7346ac57853254a4ec52994c84c100e160dc92aa",
    "collapsed": true
   },
   "outputs": [],
   "source": [
    "test_mat = np.array(test)\n",
    "test = scaler.fit_transform(test_mat)"
   ]
  },
  {
   "cell_type": "code",
   "execution_count": null,
   "metadata": {
    "_cell_guid": "4a8b849d-482c-4550-9bbe-7125b3621e23",
    "_uuid": "b007b4b6654c90db0ab84d8b2369d69b50c9752a",
    "collapsed": true
   },
   "outputs": [],
   "source": [
    "clf4 = SVC(kernel='rbf',C=25,gamma=.1).fit(X_train,Y_train)\n",
    "prediction = clf4.predict(test_mat)\n",
    "pred = pd.DataFrame(prediction)\n",
    "pred.head()"
   ]
  },
  {
   "cell_type": "code",
   "execution_count": null,
   "metadata": {
    "_cell_guid": "c2c43670-f196-4877-b4bb-d50e21c0fc39",
    "_uuid": "93a6d7562c2960d64ffdfe36da3ccbced09b7c3c",
    "collapsed": true
   },
   "outputs": [],
   "source": [
    "prediction = svr2.predict(test_mat)\n",
    "pred = pd.DataFrame(prediction)\n",
    "pred.head()"
   ]
  },
  {
   "cell_type": "markdown",
   "metadata": {
    "_cell_guid": "f3f7a7ad-b79b-4a2b-9e5c-1d2b695931bc",
    "_uuid": "c55062d7f85989948e7aace59e0b259ad93e5d01"
   },
   "source": [
    "Kami telah memperkirakan nilai set pengujian yang diberikan kepada kami dalam kumpulan data dan kami dapat dari 2 blok sebelumnya bahwa prediksi kami cukup akurat."
   ]
  },
  {
   "cell_type": "markdown",
   "metadata": {
    "_cell_guid": "031f39c8-52cf-4fb7-ae49-1c004b60834c",
    "_uuid": "567087b80cdd838b1500860873b71979ffa38ddd"
   },
   "source": []
  },
  {
   "cell_type": "markdown",
   "metadata": {
    "_cell_guid": "bebaa2f6-b9ea-497f-abdc-8d476aabc911",
    "_uuid": "b24a7fcab188d5d3a16159b63dcd386ae8cd3651"
   },
   "source": []
  },
  {
   "cell_type": "markdown",
   "metadata": {
    "_cell_guid": "f114dd7e-e31b-4680-b0b2-12ea5e32b425",
    "_uuid": "dd5026919004dfee96c7776c94de5a097a6fa36e"
   },
   "source": []
  }
 ],
 "metadata": {
  "kernelspec": {
   "display_name": "Python 3",
   "language": "python",
   "name": "python3"
  },
  "language_info": {
   "codemirror_mode": {
    "name": "ipython",
    "version": 3
   },
   "file_extension": ".py",
   "mimetype": "text/x-python",
   "name": "python",
   "nbconvert_exporter": "python",
   "pygments_lexer": "ipython3",
   "version": "3.8.5"
  }
 },
 "nbformat": 4,
 "nbformat_minor": 1
}
